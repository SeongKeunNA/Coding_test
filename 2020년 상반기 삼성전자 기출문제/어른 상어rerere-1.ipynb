{
 "cells": [
  {
   "cell_type": "markdown",
   "id": "d052e34d",
   "metadata": {},
   "source": [
    "# 코딩 전 생각"
   ]
  },
  {
   "cell_type": "code",
   "execution_count": null,
   "id": "6b51c865",
   "metadata": {},
   "outputs": [],
   "source": [
    "\"\"\"\"\"\"\"\"\"\"\n",
    "1. array 정보를 입력받아 저장하고 처음 위치에 냄새를 뿌림. [상어의 존재 여부, 상어의 번호, 냄새의 지속시간]\n",
    "\n",
    "2. 각 상어의 현재 방향을 입력받아 리스트 now_d에 저장함.\n",
    "\n",
    "3. 각 상어의 특정 방향에서의 우선순위 정보를 입력받아 리스트 priorities에 저장함.\n",
    "\n",
    "4. process 함수를 구현함. 모든 array를 탐색하며 해당 칸에 상어가 존재한다면 이동함. 이때 이동하고자 하는 칸에 다른 상어가 존재한다면,\n",
    "둘 중 번호가 높은 상어는 array에서 제거함.\n",
    "\n",
    "\"\"\"\"\"\"\"\"\"\""
   ]
  },
  {
   "cell_type": "markdown",
   "id": "4a921394",
   "metadata": {},
   "source": [
    "# 내 답안"
   ]
  },
  {
   "cell_type": "code",
   "execution_count": 9,
   "id": "9deece64",
   "metadata": {},
   "outputs": [
    {
     "name": "stdout",
     "output_type": "stream",
     "text": [
      "4 2 6\n",
      "1 0 0 0\n",
      "0 0 0 0\n",
      "0 0 0 0\n",
      "0 0 0 2\n",
      "4 3\n",
      "1 2 3 4\n",
      "2 3 4 1\n",
      "3 4 1 2\n",
      "4 1 2 3\n",
      "1 2 3 4\n",
      "2 3 4 1\n",
      "3 4 1 2\n",
      "4 1 2 3\n"
     ]
    }
   ],
   "source": [
    "n, m, k = map(int, input().split())\n",
    "array = [[0, 0, 0] * n for _ in range(n)]\n",
    "for i in range(n):\n",
    "    data = list(map(int, input().split()))\n",
    "    for j in range(n):\n",
    "        if data[j] > 0:\n",
    "            array[i][j] = [1, data[j] - 1, k]\n",
    "now_d = list(map(int, input().split()))\n",
    "priorities = [[] for _ in range(m)]\n",
    "for i in range(m):\n",
    "    for j in range(4):\n",
    "        priorities[i].append(list(map(int, input().split())))\n",
    "        \n",
    "dx = [-1, 1, 0, 0]\n",
    "dy = [0, 0, -1, 1]\n",
    "def move(now_d, x, y):\n",
    "    num = array[x][y][1]\n",
    "    for i in priorities[num][now_d[num] - 1]:\n",
    "        nx = x + dx[i - 1]\n",
    "        ny = y + dy[i - 1]\n",
    "        if array[nx][ny][2] == 0:\n",
    "            return (nx, ny)\n",
    "    else:\n",
    "        for i in priorities[num][now_d[num] - 1]:\n",
    "            nx = x + dx[i - 1]\n",
    "            ny = y + dy[i - 1]\n",
    "            if array[nx][ny][1] == 0:\n",
    "                return (nx, ny)\n",
    "            \n",
    "def process(array):\n",
    "    count = 0\n",
    "    while True:\n",
    "        num = 0\n",
    "        for x in range(n):\n",
    "            for y in range(n):\n",
    "                if array[x][y][2] > 0:\n",
    "                    array[x][y][2] -= 1\n",
    "                    \n",
    "        for x in range(n):\n",
    "            for y in range(n):\n",
    "                if array[x][y][0] == 1:\n",
    "                    num += 1\n",
    "                    nx, ny = move(now_d, x, y)\n",
    "                    if array[nx][ny][0] == 1:\n",
    "                        if array[nx][ny][1] < array[x][y][1]:\n",
    "                            array[x][y][0] = 0\n",
    "                        else:\n",
    "                            array[nx][ny][1], array[nx][ny][2] = array[x][y][1], k\n",
    "                            array[x][y][0] = 0\n",
    "                    else:\n",
    "                        array[nx][ny] = [1, array[x][y][1], k]\n",
    "                        array[x][y][0] = 0 \n",
    "        if num == 1:\n",
    "            return count\n",
    "process(array)"
   ]
  },
  {
   "cell_type": "code",
   "execution_count": 10,
   "id": "00c36a5c",
   "metadata": {},
   "outputs": [
    {
     "ename": "TypeError",
     "evalue": "'int' object is not subscriptable",
     "output_type": "error",
     "traceback": [
      "\u001b[1;31m---------------------------------------------------------------------------\u001b[0m",
      "\u001b[1;31mTypeError\u001b[0m                                 Traceback (most recent call last)",
      "\u001b[1;32m~\\AppData\\Local\\Temp\\ipykernel_31084\\1182162159.py\u001b[0m in \u001b[0;36m<module>\u001b[1;34m\u001b[0m\n\u001b[1;32m----> 1\u001b[1;33m \u001b[0mprocess\u001b[0m\u001b[1;33m(\u001b[0m\u001b[0marray\u001b[0m\u001b[1;33m)\u001b[0m\u001b[1;33m\u001b[0m\u001b[1;33m\u001b[0m\u001b[0m\n\u001b[0m",
      "\u001b[1;32m~\\AppData\\Local\\Temp\\ipykernel_31084\\3576729934.py\u001b[0m in \u001b[0;36mprocess\u001b[1;34m(array)\u001b[0m\n\u001b[0;32m     34\u001b[0m         \u001b[1;32mfor\u001b[0m \u001b[0mx\u001b[0m \u001b[1;32min\u001b[0m \u001b[0mrange\u001b[0m\u001b[1;33m(\u001b[0m\u001b[0mn\u001b[0m\u001b[1;33m)\u001b[0m\u001b[1;33m:\u001b[0m\u001b[1;33m\u001b[0m\u001b[1;33m\u001b[0m\u001b[0m\n\u001b[0;32m     35\u001b[0m             \u001b[1;32mfor\u001b[0m \u001b[0my\u001b[0m \u001b[1;32min\u001b[0m \u001b[0mrange\u001b[0m\u001b[1;33m(\u001b[0m\u001b[0mn\u001b[0m\u001b[1;33m)\u001b[0m\u001b[1;33m:\u001b[0m\u001b[1;33m\u001b[0m\u001b[1;33m\u001b[0m\u001b[0m\n\u001b[1;32m---> 36\u001b[1;33m                 \u001b[1;32mif\u001b[0m \u001b[0marray\u001b[0m\u001b[1;33m[\u001b[0m\u001b[0mx\u001b[0m\u001b[1;33m]\u001b[0m\u001b[1;33m[\u001b[0m\u001b[0my\u001b[0m\u001b[1;33m]\u001b[0m\u001b[1;33m[\u001b[0m\u001b[1;36m2\u001b[0m\u001b[1;33m]\u001b[0m \u001b[1;33m>\u001b[0m \u001b[1;36m0\u001b[0m\u001b[1;33m:\u001b[0m\u001b[1;33m\u001b[0m\u001b[1;33m\u001b[0m\u001b[0m\n\u001b[0m\u001b[0;32m     37\u001b[0m                     \u001b[0marray\u001b[0m\u001b[1;33m[\u001b[0m\u001b[0mx\u001b[0m\u001b[1;33m]\u001b[0m\u001b[1;33m[\u001b[0m\u001b[0my\u001b[0m\u001b[1;33m]\u001b[0m\u001b[1;33m[\u001b[0m\u001b[1;36m2\u001b[0m\u001b[1;33m]\u001b[0m \u001b[1;33m-=\u001b[0m \u001b[1;36m1\u001b[0m\u001b[1;33m\u001b[0m\u001b[1;33m\u001b[0m\u001b[0m\n\u001b[0;32m     38\u001b[0m \u001b[1;33m\u001b[0m\u001b[0m\n",
      "\u001b[1;31mTypeError\u001b[0m: 'int' object is not subscriptable"
     ]
    }
   ],
   "source": [
    "process(array)"
   ]
  }
 ],
 "metadata": {
  "kernelspec": {
   "display_name": "Python 3 (ipykernel)",
   "language": "python",
   "name": "python3"
  },
  "language_info": {
   "codemirror_mode": {
    "name": "ipython",
    "version": 3
   },
   "file_extension": ".py",
   "mimetype": "text/x-python",
   "name": "python",
   "nbconvert_exporter": "python",
   "pygments_lexer": "ipython3",
   "version": "3.7.13"
  }
 },
 "nbformat": 4,
 "nbformat_minor": 5
}
