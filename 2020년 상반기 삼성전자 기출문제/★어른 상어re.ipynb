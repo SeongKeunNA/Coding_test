{
 "cells": [
  {
   "cell_type": "markdown",
   "id": "d02cc23d",
   "metadata": {},
   "source": [
    "# 코딩 전 생각"
   ]
  },
  {
   "cell_type": "code",
   "execution_count": null,
   "id": "c33764e0",
   "metadata": {},
   "outputs": [],
   "source": [
    "\"\"\"\"\"\"\"\"\"\"\n",
    "1. 상어의 번호와 위치 정보 기록\n",
    "\n",
    "2. 각 상어의 방향 기록(번호 순)\n",
    "\n",
    "3. 각 상어의 우선순위 기록(번호 순)\n",
    "\n",
    "4. 모든 상어가 냄새 남기고 이동(그래프의 해당 위치에 )\n",
    "\n",
    "5. 이동하고 방향 바꾸고 냄새 남기는 process 함수 구현(매번 냄새 - 1)\n",
    "\"\"\"\"\"\"\"\"\"\""
   ]
  },
  {
   "cell_type": "code",
   "execution_count": 26,
   "id": "e2787f7e",
   "metadata": {},
   "outputs": [],
   "source": [
    "array = [[0] * n for _ in range(n)]"
   ]
  },
  {
   "cell_type": "code",
   "execution_count": 27,
   "id": "bccff1dd",
   "metadata": {},
   "outputs": [
    {
     "data": {
      "text/plain": [
       "[[0, 0, 0, 0], [0, 0, 0, 0], [0, 0, 0, 0], [0, 0, 0, 0]]"
      ]
     },
     "execution_count": 27,
     "metadata": {},
     "output_type": "execute_result"
    }
   ],
   "source": [
    "array"
   ]
  },
  {
   "cell_type": "code",
   "execution_count": 20,
   "id": "8c6b8ac5",
   "metadata": {},
   "outputs": [
    {
     "data": {
      "text/plain": [
       "[[(), 0, 0, 0], [0, 0, 0, 0], [0, 0, 0, 0], [0, 0, 0, 0]]"
      ]
     },
     "execution_count": 20,
     "metadata": {},
     "output_type": "execute_result"
    }
   ],
   "source": [
    "array[0][0] = ()\n",
    "array"
   ]
  },
  {
   "cell_type": "code",
   "execution_count": 23,
   "id": "af5c3563",
   "metadata": {},
   "outputs": [
    {
     "data": {
      "text/plain": [
       "[[(), (), (), ()], [(), (), (), ()], [(), (), (), ()], [(), (), (), ()]]"
      ]
     },
     "execution_count": 23,
     "metadata": {},
     "output_type": "execute_result"
    }
   ],
   "source": [
    "array = [[() for _ in range(n)] for _ in range(n)]\n",
    "array"
   ]
  },
  {
   "cell_type": "code",
   "execution_count": 43,
   "id": "bb706429",
   "metadata": {},
   "outputs": [
    {
     "data": {
      "text/plain": [
       "[-1, 0]"
      ]
     },
     "execution_count": 43,
     "metadata": {},
     "output_type": "execute_result"
    }
   ],
   "source": [
    "array = [[[-1, 0] for _ in range(n)] for _ in range(n)]\n",
    "array[0][0]"
   ]
  },
  {
   "cell_type": "markdown",
   "id": "3d12fb52",
   "metadata": {},
   "source": [
    "# 내 답안"
   ]
  },
  {
   "cell_type": "code",
   "execution_count": 2,
   "id": "2fd3f4aa",
   "metadata": {},
   "outputs": [
    {
     "data": {
      "text/plain": [
       "[[], [], [], []]"
      ]
     },
     "execution_count": 2,
     "metadata": {},
     "output_type": "execute_result"
    }
   ],
   "source": [
    "priorities = [[] for _ in range(4)]\n",
    "priorities"
   ]
  },
  {
   "cell_type": "code",
   "execution_count": 3,
   "id": "adfdde0c",
   "metadata": {},
   "outputs": [
    {
     "data": {
      "text/plain": [
       "[[[], [], [], []], [[], [], [], []], [[], [], [], []], [[], [], [], []]]"
      ]
     },
     "execution_count": 3,
     "metadata": {},
     "output_type": "execute_result"
    }
   ],
   "source": [
    "n = 4\n",
    "sharks = [[[] for _ in range(n)] for _ in range(n)]\n",
    "sharks"
   ]
  },
  {
   "cell_type": "code",
   "execution_count": 5,
   "id": "e716bb4e",
   "metadata": {},
   "outputs": [
    {
     "data": {
      "text/plain": [
       "-1"
      ]
     },
     "execution_count": 5,
     "metadata": {},
     "output_type": "execute_result"
    }
   ],
   "source": [
    "array = [[[-1, 0] for _ in range(n)] for _ in range(n)]\n",
    "array[0][0][0]"
   ]
  },
  {
   "cell_type": "code",
   "execution_count": null,
   "id": "6db56f20",
   "metadata": {},
   "outputs": [],
   "source": [
    "print('shark:',shark)\n",
    "print('array:', array)\n",
    "print('priorities:',priorities)"
   ]
  },
  {
   "cell_type": "code",
   "execution_count": 39,
   "id": "5f218818",
   "metadata": {},
   "outputs": [
    {
     "name": "stdout",
     "output_type": "stream",
     "text": [
      "1 2 3\n"
     ]
    }
   ],
   "source": [
    "a = {}\n",
    "a['1'] = [1,2]\n",
    "a['1'].append(3)\n",
    "a['2']= 'z'\n",
    "x, y, z = a['1']\n",
    "print(x, y, z)"
   ]
  },
  {
   "cell_type": "code",
   "execution_count": 41,
   "id": "0427b9e9",
   "metadata": {},
   "outputs": [
    {
     "name": "stdout",
     "output_type": "stream",
     "text": [
      "4 2 6\n",
      "1 0 0 0\n",
      "0 0 0 0\n",
      "0 0 0 0\n",
      "0 0 0 2\n",
      "{0: [0, 0], 1: [3, 3]}\n"
     ]
    }
   ],
   "source": [
    "n, m, k = map(int, input().split())\n",
    "array = [[[-1, 0] for _ in range(n)] for _ in range(n)]\n",
    "shark = {}\n",
    "for i in range(n):\n",
    "    data = list(map(int, input().split()))\n",
    "    for j in range(n):\n",
    "        if data[j] != 0:\n",
    "            shark[data[j] - 1] = [i, j]\n",
    "print(shark)"
   ]
  },
  {
   "cell_type": "code",
   "execution_count": 44,
   "id": "36813118",
   "metadata": {},
   "outputs": [
    {
     "ename": "KeyError",
     "evalue": "'0'",
     "output_type": "error",
     "traceback": [
      "\u001b[1;31m---------------------------------------------------------------------------\u001b[0m",
      "\u001b[1;31mKeyError\u001b[0m                                  Traceback (most recent call last)",
      "Input \u001b[1;32mIn [44]\u001b[0m, in \u001b[0;36m<cell line: 1>\u001b[1;34m()\u001b[0m\n\u001b[1;32m----> 1\u001b[0m \u001b[43mshark\u001b[49m\u001b[43m[\u001b[49m\u001b[38;5;124;43m'\u001b[39;49m\u001b[38;5;124;43m0\u001b[39;49m\u001b[38;5;124;43m'\u001b[39;49m\u001b[43m]\u001b[49m\n",
      "\u001b[1;31mKeyError\u001b[0m: '0'"
     ]
    }
   ],
   "source": [
    "shark[]"
   ]
  },
  {
   "cell_type": "code",
   "execution_count": 52,
   "id": "a7227cfb",
   "metadata": {},
   "outputs": [
    {
     "name": "stdout",
     "output_type": "stream",
     "text": [
      "4 2 6\n",
      "1 0 0 0\n",
      "0 0 0 0\n",
      "0 0 0 0\n",
      "0 0 0 2\n",
      "4 3\n",
      "shark: {0: [0, 0, 3], 1: [3, 3, 2]}\n",
      "array:\n",
      "[[0, 6], [-1, 0], [-1, 0], [-1, 0]]\n",
      "[[-1, 0], [-1, 0], [-1, 0], [-1, 0]]\n",
      "[[-1, 0], [-1, 0], [-1, 0], [-1, 0]]\n",
      "[[-1, 0], [-1, 0], [-1, 0], [1, 6]]\n"
     ]
    }
   ],
   "source": [
    "n, m, k = map(int, input().split())\n",
    "array = [[[-1, 0] for _ in range(n)] for _ in range(n)]\n",
    "shark = {}\n",
    "for i in range(n):\n",
    "    data = list(map(int, input().split()))\n",
    "    for j in range(n):\n",
    "        if data[j] != 0:\n",
    "            shark[data[j] - 1] = [i, j]\n",
    "directions = list(map(int, input().split()))   \n",
    "\n",
    "for i in range(m): #0,1\n",
    "    shark[i].append(directions[i] - 1)\n",
    "    \n",
    "for i in range(m): #0,1\n",
    "    x, y = shark[i][:-1]\n",
    "    array[x][y] = [i, k]\n",
    "print('shark:',shark)\n",
    "print('array:')\n",
    "for i in array:\n",
    "    print(i)\n"
   ]
  },
  {
   "cell_type": "code",
   "execution_count": 68,
   "id": "51a00255",
   "metadata": {},
   "outputs": [
    {
     "name": "stdout",
     "output_type": "stream",
     "text": [
      "4 2 6\n",
      "1 0 0 0\n",
      "0 0 0 0\n",
      "0 0 0 0\n",
      "0 0 0 2\n",
      "4 3\n",
      "1 2 3 4\n",
      "2 3 4 1\n",
      "3 4 1 2\n",
      "4 1 2 3\n",
      "1 2 3 4\n",
      "2 3 4 1\n",
      "3 4 1 2\n",
      "4 1 2 3\n",
      "time: 1\n",
      "smell:\n",
      "[[0, 6], [0, 6], [-1, 0], [-1, 0]]\n",
      "[[-1, 0], [-1, 0], [-1, 0], [-1, 0]]\n",
      "[[-1, 0], [-1, 0], [-1, 0], [-1, 0]]\n",
      "[[-1, 0], [-1, 0], [1, 6], [1, 6]]\n",
      "shark: {0: [0, 1, 3], 1: [3, 2, 2]}\n",
      "time: 2\n",
      "smell:\n",
      "[[0, 5], [0, 6], [0, 6], [-1, 0]]\n",
      "[[-1, 0], [-1, 0], [-1, 0], [-1, 0]]\n",
      "[[-1, 0], [-1, 0], [-1, 0], [-1, 0]]\n",
      "[[-1, 0], [1, 6], [1, 6], [1, 5]]\n",
      "shark: {0: [0, 2, 3], 1: [3, 1, 2]}\n",
      "time: 3\n",
      "smell:\n",
      "[[0, 4], [0, 5], [0, 6], [0, 6]]\n",
      "[[-1, 0], [-1, 0], [-1, 0], [-1, 0]]\n",
      "[[-1, 0], [-1, 0], [-1, 0], [-1, 0]]\n",
      "[[1, 6], [1, 6], [1, 5], [1, 4]]\n",
      "shark: {0: [0, 3, 3], 1: [3, 0, 2]}\n"
     ]
    },
    {
     "data": {
      "text/plain": [
       "26"
      ]
     },
     "execution_count": 68,
     "metadata": {},
     "output_type": "execute_result"
    }
   ],
   "source": [
    "n, m, k = map(int, input().split())\n",
    "array = [[[-1, 0] for _ in range(n)] for _ in range(n)]\n",
    "shark = {}\n",
    "for i in range(n):\n",
    "    data = list(map(int, input().split()))\n",
    "    for j in range(n):\n",
    "        if data[j] != 0:\n",
    "            shark[data[j] - 1] = [i, j]\n",
    "directions = list(map(int, input().split()))\n",
    "for i in range(m): \n",
    "    shark[i].append(directions[i] - 1)\n",
    "priorities = [[] for _ in range(m)]\n",
    "for i in range(m):\n",
    "    for j in range(4):\n",
    "        priorities[i].append(list(map(int, input().split())))\n",
    "dx = [-1, 1, 0, 0]\n",
    "dy = [0, 0, -1, 1]\n",
    "\n",
    "def process():\n",
    "    count = 0\n",
    "    while True:      \n",
    "        sharks = [[[] for _ in range(n)] for _ in range(n)]\n",
    "        for i in range(n):\n",
    "            for j in range(n):\n",
    "                if array[i][j][1] > 0:\n",
    "                    array[i][j][1] -= 1        \n",
    "        for s in shark.keys():\n",
    "            num = s\n",
    "            x, y, d = shark[s]\n",
    "            array[x][y] = [num, k]\n",
    "    \n",
    "            for i in range(4):\n",
    "                next_d = priorities[num][d][i] - 1\n",
    "                nx = x + dx[next_d]\n",
    "                ny = y + dy[next_d]\n",
    "                if 0 <= nx < n and 0 <= ny < n:\n",
    "                    if array[nx][ny][1] == 0:\n",
    "                        shark[num] = [nx, ny, next_d]\n",
    "                        if shark[nx][ny] = []:\n",
    "                            sharks[nx][ny].append(num)\n",
    "                        else:\n",
    "                            \n",
    "                            sharks[nx][ny] = [max(sharks[nx][ny], num)]\n",
    "                            \n",
    "                            \n",
    "                        break\n",
    "            else:\n",
    "                for i in range(4):\n",
    "                    next_d = priorities[num][d][i] - 1\n",
    "                    nx = x + dx[next_d]\n",
    "                    ny = y + dy[next_d]\n",
    "                    if 0 <= nx < n and 0 <= ny < n:\n",
    "                        if array[nx][ny][0] == num and array[nx][ny][1] > 0:\n",
    "                            shark[num] = [nx, ny, next_d]\n",
    "                            sharks[nx][ny].append(num)\n",
    "                            break\n",
    "                            \n",
    "        shark_count = 0                    \n",
    "        for i in range(n):\n",
    "            for j in range(n):\n",
    "                if len(sharks[i][j]) > 0:\n",
    "                    sharks[i][j].sort()\n",
    "                    array[i][j] = [sharks[i][j][0], k]\n",
    "                    shark_count += 1\n",
    "                if len(sharks[i][j]) >= 2:\n",
    "                    del_idx = []\n",
    "                    for s in sharks[i][j][1:]:\n",
    "                        del_idx.append(s)\n",
    "                    for d in del_idx:\n",
    "                        del(shark[d])\n",
    "            \n",
    "        count += 1\n",
    "        if count <= 3:\n",
    "            print('time:',count)\n",
    "            print('smell:')\n",
    "            for i in array:\n",
    "                print(i)\n",
    "            print('shark:',shark)\n",
    "        \n",
    "        \n",
    "        if shark_count == 1:\n",
    "            return count\n",
    "        elif count >= 1000:\n",
    "            return -1\n",
    "process()"
   ]
  },
  {
   "cell_type": "markdown",
   "id": "ee0d1525",
   "metadata": {},
   "source": [
    "# 답안 작성 후 생각"
   ]
  },
  {
   "cell_type": "code",
   "execution_count": null,
   "id": "9c931074",
   "metadata": {},
   "outputs": [],
   "source": [
    "\"\"\"\"\"\"\"\"\"\"\n",
    "모든 입력예시와 예제에 대해서 정답을 출력하는데 백준에서는 곧바로 오답판정을 받는다.\n",
    "\n",
    "1.\n",
    "문제에서는 분명히 이동한 후에 냄새를 뿌린다고 설명되어 있고 K번 이동한 후에 냄새가\n",
    "제거된다고 하는데, 답지에서는 먼저 모든 공간에서 냄새를 1초 줄이고 상어들이 각자의 위치에서 냄새를 뿌린 다음에\n",
    "다음 위치로 이동한다. 내 풀이에서는 0초일 때 모든 위치에 냄새를 뿌리고 그 다음부터 이동과 냄새 뿌리기를 시작한다.\n",
    "\n",
    "2.\n",
    "답지에서는 매번 작은 번호의 상어가 공간에 들어가는데, 내 풀이는 상어들이 모두 움직인 뒤에\n",
    "그 중 최소 번호의 상어만 남기고 나머지는 딕셔너리에서 삭제하는 식이다.\n",
    "\"\"\"\"\"\"\"\"\"\""
   ]
  }
 ],
 "metadata": {
  "kernelspec": {
   "display_name": "Python 3 (ipykernel)",
   "language": "python",
   "name": "python3"
  },
  "language_info": {
   "codemirror_mode": {
    "name": "ipython",
    "version": 3
   },
   "file_extension": ".py",
   "mimetype": "text/x-python",
   "name": "python",
   "nbconvert_exporter": "python",
   "pygments_lexer": "ipython3",
   "version": "3.9.12"
  }
 },
 "nbformat": 4,
 "nbformat_minor": 5
}
