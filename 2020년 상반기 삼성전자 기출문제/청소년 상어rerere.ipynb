{
 "cells": [
  {
   "cell_type": "markdown",
   "id": "0a2f9dd5",
   "metadata": {},
   "source": [
    "# 코딩 전 생각"
   ]
  },
  {
   "cell_type": "code",
   "execution_count": null,
   "id": "13305aae",
   "metadata": {},
   "outputs": [],
   "source": [
    "\"\"\"\"\"\"\"\"\"\"\n",
    "BFS를 이용해 상어가 먹을 수 있는 물고기 번호의 합의 최댓값을 구한다.\n",
    "\n",
    "1. 고기의 이동을 구현하는 move 함수 선언\n",
    "\n",
    "2. 현재 상어의 위치와 방향 정보를 토대로 먹을 수 있는 물고기의 리스트를 반환하는 find_fish 함수 선언\n",
    "\"\"\"\"\"\"\"\"\"\""
   ]
  },
  {
   "cell_type": "markdown",
   "id": "c4b41e85",
   "metadata": {},
   "source": [
    "# 내 답안"
   ]
  },
  {
   "cell_type": "code",
   "execution_count": 11,
   "id": "41156b09",
   "metadata": {},
   "outputs": [
    {
     "name": "stdout",
     "output_type": "stream",
     "text": [
      "7 6 2 3 15 6 9 8\n",
      "3 1 1 8 14 7 10 1\n",
      "6 1 13 6 4 3 11 4\n",
      "16 1 8 7 5 2 12 2\n",
      "31\n"
     ]
    }
   ],
   "source": [
    "from collections import deque\n",
    "graph = [[] for _ in range(4)]\n",
    "for i in range(4):\n",
    "    data = list(map(int, input().split()))\n",
    "    for j in range(0, 8, 2):\n",
    "        graph[i].append([data[j], data[j+1] - 1])\n",
    "dx = [-1, -1, 0, 1, 1, 1, 0, -1]\n",
    "dy = [0, -1, -1, -1, 0, 1, 1, 1]\n",
    "\n",
    "def search(n):\n",
    "    for i in range(4):\n",
    "        for j in range(4):\n",
    "            if graph[i][j][0] == n:\n",
    "                return i, j\n",
    "\n",
    "def move():\n",
    "    for i in range(1, 17):\n",
    "        result = search(i)\n",
    "        if result == None:\n",
    "            continue\n",
    "        x, y = result\n",
    "        direction = graph[x][y][1]\n",
    "        for i in range(direction, direction+8):\n",
    "            nx = x + dx[i%8]\n",
    "            ny = y + dy[i%8]\n",
    "            if 0 <= nx < 4 and 0 <= ny < 4:\n",
    "                if nx != now_x or ny != now_y:\n",
    "                    graph[nx][ny], graph[x][y] = graph[x][y], graph[nx][ny]\n",
    "                    break\n",
    "                    \n",
    "\n",
    "max_value = 0\n",
    "q = deque() \n",
    "info = [0, 0, 0, graph] # (현재까지 물고기 번호의 합, 상어의 다음 x좌표, 상어의 다음 y좌표, 그래프 정보)\n",
    "q.append(info)\n",
    "while q:\n",
    "    value, x, y, graph = q.popleft()\n",
    "    now_x, now_y = x, y\n",
    "    value += graph[x][y][0]\n",
    "    now_direction = graph[x][y][1]\n",
    "    graph[x][y] = [-1, -1]\n",
    "    move()\n",
    "    possible = find_fish()\n",
    "    if len(possible) == 0:\n",
    "        max_value = max(max_value, value)\n",
    "        continue\n",
    "    for p in possible: # (x좌표, y좌표)\n",
    "        q.append([value, p[0], p[1], graph])\n",
    "print(max_value)"
   ]
  },
  {
   "cell_type": "code",
   "execution_count": 40,
   "id": "5b85f7c2",
   "metadata": {},
   "outputs": [
    {
     "name": "stdout",
     "output_type": "stream",
     "text": [
      "2 6 10 8 6 7 9 4\n",
      "1 7 16 6 4 2 5 8\n",
      "3 7 8 6 7 6 14 8\n",
      "12 7 15 4 11 3 13 3\n",
      "39\n"
     ]
    }
   ],
   "source": [
    "from collections import deque\n",
    "from copy import deepcopy\n",
    "graph = [[] for _ in range(4)]\n",
    "for i in range(4):\n",
    "    data = list(map(int, input().split()))\n",
    "    for j in range(0, 8, 2):\n",
    "        graph[i].append([data[j], data[j+1] - 1])\n",
    "dx = [-1, -1, 0, 1, 1, 1, 0, -1]\n",
    "dy = [0, -1, -1, -1, 0, 1, 1, 1]\n",
    "\n",
    "def search(n):\n",
    "    for i in range(4):\n",
    "        for j in range(4):\n",
    "            if graph[i][j][0] == n:\n",
    "                return i, j\n",
    "\n",
    "def move():\n",
    "    for i in range(1, 17):\n",
    "        result = search(i)\n",
    "        if result == None:\n",
    "            continue\n",
    "        x, y = result\n",
    "        direction = graph[x][y][1]\n",
    "        for i in range(direction, direction+8):\n",
    "            nx = x + dx[i%8]\n",
    "            ny = y + dy[i%8]b\n",
    "            s\n",
    "            if 0 <= nx < 4 and 0 <= ny < 4:\n",
    "                if nx != now_x or ny != now_y:\n",
    "                    graph[x][y][1] = i%8\n",
    "                    graph[nx][ny], graph[x][y] = graph[x][y], graph[nx][ny]\n",
    "                    break\n",
    "            \n",
    "                    \n",
    "def find_fish():\n",
    "    result = []\n",
    "    x, y = now_x, now_y\n",
    "    while True:\n",
    "        x += dx[now_direction]\n",
    "        y += dy[now_direction]\n",
    "        if 0 <= x < 4 and 0 <= y < 4:\n",
    "            if graph[x][y][0] > 0:\n",
    "                result.append((x, y))\n",
    "        else:\n",
    "            break\n",
    "    return result\n",
    "\n",
    "max_value = 0\n",
    "q = deque() \n",
    "info = [0, 0, 0, graph] # (현재까지 물고기 번호의 합, 상어의 다음 x좌표, 상어의 다음 y좌표, 그래프 정보)\n",
    "q.append(info)\n",
    "while q:\n",
    "    value, x, y, graph = q.popleft()\n",
    "    now_x, now_y = x, y\n",
    "    value += graph[x][y][0]\n",
    "    now_direction = graph[x][y][1]\n",
    "    graph[x][y] = [-1, -1]\n",
    "    move()\n",
    "    possible = find_fish()\n",
    "    if len(possible) == 0:\n",
    "        max_value = max(max_value, value)\n",
    "        continue\n",
    "    for p in possible: # (x좌표, y좌표)\n",
    "        q.append([value, p[0], p[1], deepcopy(graph)])\n",
    "print(max_value)"
   ]
  },
  {
   "cell_type": "markdown",
   "id": "9a3ecee4",
   "metadata": {},
   "source": [
    "# 정답 확인 후 생각"
   ]
  },
  {
   "cell_type": "code",
   "execution_count": null,
   "id": "9f5cb719",
   "metadata": {},
   "outputs": [],
   "source": [
    "\"\"\"\"\"\"\"\"\"\"\n",
    "리스트를 인자로 넘겨줄 때는 무조건 deepcopy를 사용하자.\n",
    "\"\"\"\"\"\"\"\"\"\""
   ]
  }
 ],
 "metadata": {
  "kernelspec": {
   "display_name": "Python 3 (ipykernel)",
   "language": "python",
   "name": "python3"
  },
  "language_info": {
   "codemirror_mode": {
    "name": "ipython",
    "version": 3
   },
   "file_extension": ".py",
   "mimetype": "text/x-python",
   "name": "python",
   "nbconvert_exporter": "python",
   "pygments_lexer": "ipython3",
   "version": "3.7.13"
  }
 },
 "nbformat": 4,
 "nbformat_minor": 5
}
