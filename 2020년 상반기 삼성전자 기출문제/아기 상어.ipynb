{
 "cells": [
  {
   "cell_type": "markdown",
   "id": "dae51ae1",
   "metadata": {},
   "source": [
    "# 코딩 전 생각"
   ]
  },
  {
   "cell_type": "code",
   "execution_count": 1,
   "id": "87f9daec",
   "metadata": {},
   "outputs": [
    {
     "ename": "SyntaxError",
     "evalue": "EOF while scanning triple-quoted string literal (Temp/ipykernel_3440/886353925.py, line 1)",
     "output_type": "error",
     "traceback": [
      "\u001b[1;36m  File \u001b[1;32m\"C:\\Users\\NAJONG~1\\AppData\\Local\\Temp/ipykernel_3440/886353925.py\"\u001b[1;36m, line \u001b[1;32m1\u001b[0m\n\u001b[1;33m    \"\"\"\"\"\"\"\"\"\"\u001b[0m\n\u001b[1;37m              ^\u001b[0m\n\u001b[1;31mSyntaxError\u001b[0m\u001b[1;31m:\u001b[0m EOF while scanning triple-quoted string literal\n"
     ]
    }
   ],
   "source": [
    "\"\"\"\"\"\"\"\"\"\"\n",
    "DFS를 사용한 구현 문제인 것 같다.\n",
    "\n",
    "처음에 공간의 상태에 대한 입력을 받을 때, 물고기의 위치와 크기를 따로 리스트에 저장한다.\n",
    "\n",
    "매 초마다 DFS를 이용해 자신의 크기보다 작은 물고기들에 대한 최소 거리를 계산하고,\n",
    "\n",
    "최소 거리에 있는 물고기가 있는 곳으로 이동한 닫음 그 물고기를 잡아 먹어 크기를 늘이고 경과 시간을 더한다.\n",
    "\n",
    "만약 더 이상 먹을 수 있는 물고기가 없다면 프로그램을 종료하고 경과 시간을 출력한다.\n",
    "\"\"\"\"\"\"\"\"\"\""
   ]
  },
  {
   "cell_type": "markdown",
   "id": "ffa2f8fe",
   "metadata": {},
   "source": [
    "# 내 답안"
   ]
  },
  {
   "cell_type": "code",
   "execution_count": 8,
   "id": "18d9b5be",
   "metadata": {},
   "outputs": [
    {
     "name": "stdout",
     "output_type": "stream",
     "text": [
      "4\n",
      "4 3 2 1\n",
      "0 0 0 0\n",
      "0 0 9 0\n",
      "1 2 3 4\n",
      "time: 0 shark_x: 2 shark_y: 2 shark_size: 2\n",
      "time: 3 shark_x: 2 shark_y: 3 shark_size: 2\n",
      "time: 9 shark_x: 2 shark_y: 0 shark_size: 3\n",
      "time: 11 shark_x: 2 shark_y: 1 shark_size: 3\n",
      "time: 14 shark_x: 2 shark_y: 2 shark_size: 3\n",
      "14\n"
     ]
    }
   ],
   "source": [
    "from collections import deque\n",
    "n = int(input())\n",
    "graph = []\n",
    "\n",
    "for i in range(n):\n",
    "    graph.append(list(map(int,input().split())))\n",
    "    for j in range(n):\n",
    "        if graph[i][j] == 9:\n",
    "            shark_x, shark_y = i, j\n",
    "                \n",
    "def bfs(shark_x, shark_y, graph, size, fish):\n",
    "    cnt = 0\n",
    "    visited = []\n",
    "    q = deque([(shark_x, shark_y, 0)])            \n",
    "    dx = [1, -1 ,0 ,0]\n",
    "    dy = [0, 0, 1, -1]\n",
    "    while q:\n",
    "        a, b, c = q.popleft()\n",
    "        for i in range(4):\n",
    "            nx = a + dx[i]\n",
    "            ny = b + dy[i]\n",
    "            if (0 <= nx <= n-1) and (0 <= ny <= n-1):\n",
    "                if (nx, ny) not in visited and (graph[nx][ny] <= size):\n",
    "                    visited.append((nx, ny))\n",
    "                    q.append((nx, ny, c+1))\n",
    "                    if 0 < graph[nx][ny] < size:\n",
    "                        fish.append((c+1, nx, ny, size))          \n",
    "time = 0\n",
    "shark_size = 2\n",
    "eaten_fish = 0\n",
    "while True:\n",
    "    fish = []\n",
    "    cnt = 0\n",
    "    bfs(shark_x, shark_y, graph, shark_size, fish)\n",
    "    if len(fish) == 0:\n",
    "        print(time)\n",
    "        break\n",
    "    fish.sort(key = lambda x:(x[0], x[1], x[2]))\n",
    "    shrak_x, shark_y = fish[0][1], fish[0][2]\n",
    "    time += fish[0][0]\n",
    "    eaten_fish += 1\n",
    "    if eaten_fish == shark_size:\n",
    "        shark_size += 1\n",
    "        eaten_fish = 0\n",
    "    graph[fish[0][1]][fish[0][2]] = 0"
   ]
  },
  {
   "cell_type": "markdown",
   "id": "089292ad",
   "metadata": {},
   "source": [
    "# 답안 작성 후 생각"
   ]
  },
  {
   "cell_type": "code",
   "execution_count": null,
   "id": "5ca7b7b9",
   "metadata": {},
   "outputs": [],
   "source": [
    "\"\"\"\"\"\"\"\"\"\"\n",
    "상어의 먹이 위치가 한 군데가 아니고, 가능한 공간의 상태가 여러 개다 보니까 DFS를 사용하기가 어려웠다.\n",
    "\n",
    "BFS로 바꾸어 문제를 해결했다.\n",
    "\"\"\"\"\"\"\"\"\"\""
   ]
  },
  {
   "cell_type": "markdown",
   "id": "cb8d8ba6",
   "metadata": {},
   "source": [
    "# 정답"
   ]
  },
  {
   "cell_type": "code",
   "execution_count": 9,
   "id": "52ab559e",
   "metadata": {},
   "outputs": [
    {
     "ename": "SyntaxError",
     "evalue": "EOF while scanning triple-quoted string literal (Temp/ipykernel_9780/886353925.py, line 1)",
     "output_type": "error",
     "traceback": [
      "\u001b[1;36m  File \u001b[1;32m\"C:\\Users\\NAJONG~1\\AppData\\Local\\Temp/ipykernel_9780/886353925.py\"\u001b[1;36m, line \u001b[1;32m1\u001b[0m\n\u001b[1;33m    \"\"\"\"\"\"\"\"\"\"\u001b[0m\n\u001b[1;37m              ^\u001b[0m\n\u001b[1;31mSyntaxError\u001b[0m\u001b[1;31m:\u001b[0m EOF while scanning triple-quoted string literal\n"
     ]
    }
   ],
   "source": [
    "from collections import deque\n",
    "INF = 1e9 # 무한을 의미하는 값으로 10억을 설정\n",
    "\n",
    "n = int(input())\n",
    "\n",
    "array = []\n",
    "for i in range(n):\n",
    "    array.append(list(map(int, input().split())))\n",
    "    \n",
    "now_size = 2\n",
    "now_x, now_y = 0, 0\n",
    "\n",
    "for i in range(n):\n",
    "    for j in range(n):\n",
    "        if array[i][j] == 0:\n",
    "            now_x, now_y = i, j\n",
    "            array[now_x][now_y] = 0\n",
    "            \n",
    "dx = [-1, 0, 1, 0]\n",
    "dy = [0, 1, 0, -1]\n",
    "\n",
    "# 모든 위치까지의 '최단 거리만' 계산하는 BFS 함수\n",
    "def bfs():\n",
    "    # 값이 -1이라면 도달할 수 없다는 의미(초기화)\n",
    "    dist = [[-1] * n for _ in range(n)]\n",
    "    # 시작 위치는 도달이 가능하다고 보며 거리는 0\n",
    "    q = deque([(now_x, now_y)])\n",
    "    dist[now_x][now_y] = 0\n",
    "    while q:\n",
    "        x, y = q.popleft()\n",
    "        for i in range(4):\n",
    "            nx = x + dx[i]\n",
    "            ny = y + dy[i]\n",
    "            if 0 <= nx and nx < n and 0 <= ny and ny < n:\n",
    "                # 자신의 크기보다 작거나 같은 경우에 지나갈 수 있음\n",
    "                if dist[nx][ny] == -1 and array[nx][ny] <= now_size:\n",
    "                    dist[nx][ny] = dixt[x][y] + 1\n",
    "                    q.append((nx, ny))\n",
    "    # 모든 위치까지의 최단 거리 테이블 반환\n",
    "    return dist\n",
    "\n",
    "# 최단 거리 테이블이 주어졌을 때, 먹을 물고기를 찾는 함수\n",
    "def find(dist):\n",
    "    x, y = 0, 0\n",
    "    min_dist = INF\n",
    "    for i in range(n):\n",
    "        for j in range(n):\n",
    "            # 도달이 가능하면서 먹을 수 있는 물고기일 때\n",
    "            if dist[i][j] != -1 and 1 <= array[i][j] and array[i][j] < now_size:\n",
    "                # 가장 가까운 물고기 1마리만 선택\n",
    "                if dist[i][j] < min_dist:\n",
    "                    x, y = i, j\n",
    "                    min_dist = dist[i][j]\n",
    "    if min_dist == INF: # 먹을 수 있는 물고기가 없는 경우\n",
    "        return None\n",
    "    else:\n",
    "        return x, y, min_dist # 먹을 물고기의 위치와 거리\n",
    "result = 0 # 최종 답안\n",
    "ate = 0 # 현재 크기에서 먹은 양\n",
    "\n",
    "while True:\n",
    "    # 먹을 수 있는 물고기의 위치 찾기\n",
    "    value = find(bfs())\n",
    "    # 먹을 수 있는 물고기가 없는 경우, 현재까지 움직인 거리 출력\n",
    "    if value == None:\n",
    "        print(result)\n",
    "        break\n",
    "    else:\n",
    "        # 현재 위치 갱신 및 이동 거리 변경\n",
    "        now_x, now_y = value[0], value[1]\n",
    "        result += value[2]\n",
    "        # 먹은 위치에는 이제 아무것도 없도록 처리\n",
    "        array[now_x][now_y] = 0\n",
    "        ater += 1\n",
    "        # 자신의 현재 크기 이상으로 먹은 경우, 크기 증가\n",
    "        if ate >= now_size:\n",
    "            now_size += 1\n",
    "            ate = 0"
   ]
  },
  {
   "cell_type": "markdown",
   "id": "bdeb56e6",
   "metadata": {},
   "source": [
    "# 정답 확인 후 생각"
   ]
  },
  {
   "cell_type": "code",
   "execution_count": null,
   "id": "2983cb3c",
   "metadata": {},
   "outputs": [],
   "source": [
    "\"\"\"\"\"\"\"\"\"\"\n",
    "예상대로 정답지도 BFS를 이용해서 문제를 풀었고, 전체적인 틀은 비슷한 것 같다. \n",
    "\n",
    "하지만, 나의 풀이와 달리 각 위치까지의 최단 거리를 기록하는 dist 리스트를 만들어, 처음에 모든 거리를 -1으로 초기화했다.\n",
    "\n",
    "이후 dist에 거리가 -1일 때만 원소를 갱신하는 방법을 통해 최단 거리만 기록하는 방법을 사용했다.\n",
    "\n",
    "이 방법을 사용하니 find 함수에서 먹을 물고기를 찾을 때 이중 포문에서 i와 j가 모두 0에서 출발하고\n",
    "\n",
    "현재 거리가 min_dist 보다 작을 때에만 갱신되는 것을 이용해 먹을 물고기를 쉽게 찾을 수 있었다.\n",
    "\n",
    "마지막으로 내 풀이에서는 아기 상어의 시작 위치를 이동할 수 있는 공간으로 따로 처리하지 않았는데,\n",
    "\n",
    "아기 상어의 시작 위치에 물고기가 위치할 수 없기 때문에 큰 문제는 없는 것 같다.\n",
    "\"\"\"\"\"\"\"\"\"\""
   ]
  }
 ],
 "metadata": {
  "kernelspec": {
   "display_name": "pytorch",
   "language": "python",
   "name": "pt1.1"
  },
  "language_info": {
   "codemirror_mode": {
    "name": "ipython",
    "version": 3
   },
   "file_extension": ".py",
   "mimetype": "text/x-python",
   "name": "python",
   "nbconvert_exporter": "python",
   "pygments_lexer": "ipython3",
   "version": "3.9.7"
  }
 },
 "nbformat": 4,
 "nbformat_minor": 5
}
