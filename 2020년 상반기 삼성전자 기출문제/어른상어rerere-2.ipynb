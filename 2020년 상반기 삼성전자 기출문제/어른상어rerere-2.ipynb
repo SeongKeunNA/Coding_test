{
 "cells": [
  {
   "cell_type": "code",
   "execution_count": 5,
   "id": "965bdf0f",
   "metadata": {},
   "outputs": [
    {
     "data": {
      "text/plain": [
       "[[None, None, None, None],\n",
       " [None, None, None, None],\n",
       " [None, None, None, None],\n",
       " [None, None, None, None]]"
      ]
     },
     "execution_count": 5,
     "metadata": {},
     "output_type": "execute_result"
    }
   ],
   "source": [
    "array = [[None] * n for _ in range(n)]\n",
    "array"
   ]
  },
  {
   "cell_type": "code",
   "execution_count": 65,
   "id": "a8bfda90",
   "metadata": {},
   "outputs": [
    {
     "name": "stdout",
     "output_type": "stream",
     "text": [
      "5 9 12\n",
      "0 0 0 0 9\n",
      "0 4 0 5 0\n",
      "3 0 1 0 2\n",
      "0 7 0 6 0\n",
      "0 0 8 0 0\n",
      "2 3 4 1 2 3 3 3 4\n",
      "4 1 3 2\n",
      "4 2 3 1\n",
      "1 2 4 3\n",
      "2 3 1 4\n",
      "1 3 2 4\n",
      "4 1 3 2\n",
      "2 3 1 4\n",
      "4 2 3 1\n",
      "1 2 4 3\n",
      "4 3 2 1\n",
      "1 4 3 2\n",
      "4 2 3 1\n",
      "2 3 1 4\n",
      "1 3 2 4\n",
      "4 3 2 1\n",
      "1 4 3 2\n",
      "2 3 1 4\n",
      "3 2 4 1\n",
      "2 3 4 1\n",
      "1 2 4 3\n",
      "3 1 2 4\n",
      "4 2 3 1\n",
      "4 1 3 2\n",
      "4 2 3 1\n",
      "2 3 4 1\n",
      "4 3 2 1\n",
      "2 3 1 4\n",
      "1 3 2 4\n",
      "4 1 2 3\n",
      "3 4 2 1\n",
      "4 3 1 2\n",
      "2 4 3 1\n",
      "4 2 3 1\n",
      "4 1 3 2\n",
      "1 3 2 4\n",
      "4 3 2 1\n"
     ]
    },
    {
     "data": {
      "text/plain": [
       "31"
      ]
     },
     "execution_count": 65,
     "metadata": {},
     "output_type": "execute_result"
    }
   ],
   "source": [
    "n, m, k = map(int, input().split())\n",
    "array = [[None] * n for _ in range(n)]\n",
    "for i in range(n):\n",
    "    data = list(map(int, input().split()))\n",
    "    for j in range(n):\n",
    "        if data[j] > 0:\n",
    "            array[i][j] = [1, data[j] - 1, k]\n",
    "        else:\n",
    "            array[i][j] = [0, -1, 0]\n",
    "now_d = list(map(int, input().split()))\n",
    "priorities = [[] for _ in range(m)]\n",
    "for i in range(m):\n",
    "    for j in range(4):\n",
    "        priorities[i].append(list(map(int, input().split())))        \n",
    "dx = [-1, 1, 0, 0]\n",
    "dy = [0, 0, -1, 1]\n",
    "\n",
    "def move(now_d, x, y):\n",
    "    num = array[x][y][1]\n",
    "    for i in priorities[num][now_d[num] - 1]:\n",
    "        nx = x + dx[i - 1]\n",
    "        ny = y + dy[i - 1]\n",
    "        if 0 <= nx < n and 0 <= ny < n:\n",
    "            if array[nx][ny][2] == 0:\n",
    "                return (nx, ny, i)\n",
    "    else:\n",
    "        for i in priorities[num][now_d[num] - 1]:\n",
    "            nx = x + dx[i - 1]\n",
    "            ny = y + dy[i - 1]\n",
    "            if 0 <= nx < n and 0 <= ny < n:\n",
    "                if array[nx][ny][1] == num:\n",
    "                    return (nx, ny, i)\n",
    "                \n",
    "def find(array, num):\n",
    "    for x in range(n):\n",
    "        for y in range(n):\n",
    "            if array[x][y][0] == 1 and array[x][y][1] == num:\n",
    "                return x, y\n",
    "\n",
    "            \n",
    "def process(array, now_d):\n",
    "    total_count = 0\n",
    "    while True:        \n",
    "        total_count += 1\n",
    "        temp = [[[] for _ in range(n)] for _ in range(n)]\n",
    "        for i in range(m):\n",
    "            at = find(array, i)\n",
    "            if at == None:\n",
    "                continue\n",
    "            x, y = at\n",
    "            nx, ny, i = move(now_d, x, y)\n",
    "            array[x][y][0] = 0              \n",
    "            now_d[array[x][y][1]] = i\n",
    "            temp[nx][ny].append((array[x][y][1], x, y))\n",
    "            \n",
    "        for x in range(n):\n",
    "            for y in range(n):\n",
    "                if array[x][y][2] > 0:\n",
    "                    array[x][y][2] -= 1\n",
    " \n",
    "        count = 0\n",
    "        for i in range(n):\n",
    "            for j in range(n):\n",
    "                if len(temp[i][j]) >= 1:\n",
    "                    temp[i][j].sort()\n",
    "                    best = temp[i][j][0]\n",
    "                    array[i][j] = [1, best[0], k]\n",
    "                    count += 1\n",
    "                    \n",
    "        if count == 1:\n",
    "            return total_count\n",
    "        elif total_count > 1000:\n",
    "            return -1\n",
    "        \n",
    "        \n",
    "        \n",
    "process(array, now_d)       "
   ]
  },
  {
   "cell_type": "markdown",
   "id": "1daeb632",
   "metadata": {},
   "source": [
    "# 답안 작성 후 생각"
   ]
  },
  {
   "cell_type": "code",
   "execution_count": null,
   "id": "03773c78",
   "metadata": {},
   "outputs": [],
   "source": [
    "\"\"\"\"\"\"\"\"\"\"\n",
    "상어의 이동을 순차적으로 구현할 때\n",
    "for x in range(n):\n",
    "    for y in range(n):\n",
    "        array[x][y]...\n",
    "형식으로 구현하면 이미 이동한 물고기가 다시 이동하는 문제가 발생한다.\n",
    "\n",
    "입력 예시 4개와 백준 사이트에서의 테스트케이스 전부에 대해서 모두 정답을 출력하지만 이번에도 백준 테스트에서는 0%에서 오답 판정을 받는다.\n",
    "\n",
    "k가 1인 극단적인 경우에서도 정답을 출력하는 것 같은데 무엇이 문제인지 모르겠다.\n",
    "\"\"\"\"\"\"\"\"\"\""
   ]
  }
 ],
 "metadata": {
  "kernelspec": {
   "display_name": "Python 3 (ipykernel)",
   "language": "python",
   "name": "python3"
  },
  "language_info": {
   "codemirror_mode": {
    "name": "ipython",
    "version": 3
   },
   "file_extension": ".py",
   "mimetype": "text/x-python",
   "name": "python",
   "nbconvert_exporter": "python",
   "pygments_lexer": "ipython3",
   "version": "3.7.13"
  }
 },
 "nbformat": 4,
 "nbformat_minor": 5
}
