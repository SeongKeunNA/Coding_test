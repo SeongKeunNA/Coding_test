{
 "cells": [
  {
   "cell_type": "markdown",
   "id": "c5dd79fb",
   "metadata": {},
   "source": [
    "# 코딩 전 생각"
   ]
  },
  {
   "cell_type": "code",
   "execution_count": null,
   "id": "d60ab8bb",
   "metadata": {},
   "outputs": [],
   "source": [
    "\"\"\"\"\"\"\"\"\"\"\n",
    "1. 맵 전체를 탐색해 먹을 수 있는 물고기(현재 자신의 크기보다 작은 물고기)를 확인하고, 그 위치와 거리를 기록한다.\n",
    "   만약 없다면 break하고 현재 시간 출력\n",
    "\n",
    "2. 가장 가까운 거리에 있는 물고기의 위치로 이동해서 잡아먹고(빈칸으로 만들고) 먹은 물고기의 수를 1 증가시킨다.\n",
    "이 때 자신의 현재 크기만큼의 물고기를 먹었다면 먹은 물고기의 수를 0으로 바꾸고 크기를 1 늘린다.\n",
    "\"\"\"\"\"\"\"\"\"\""
   ]
  },
  {
   "cell_type": "markdown",
   "id": "c1442210",
   "metadata": {},
   "source": [
    "# 내 답안"
   ]
  },
  {
   "cell_type": "code",
   "execution_count": null,
   "id": "d9f65d97",
   "metadata": {},
   "outputs": [],
   "source": [
    "from collections import deque\n",
    "def find_fishes(tx, ty, x, y, now_size):\n",
    "    q = deque([(0, x, y)])\n",
    "    visited = [[0] * n for _ in range(n)]\n",
    "    while q:\n",
    "        dist, x, y = q.popleft()\n",
    "        visited[x][y] = 1\n",
    "        for i in range(4):\n",
    "            nx = x + dx[i]\n",
    "            ny = y + dy[i]\n",
    "            if 0 <= nx < n and 0 <= ny < n:\n",
    "                if space[nx][ny] <= now_size and visited[nx][ny] == 0:\n",
    "                    if nx == tx and ny == ty:\n",
    "                        return dist + 1\n",
    "                    visited[nx][ny] = 1\n",
    "                    q.append((dist + 1, nx, ny))\n",
    "    return False\n",
    "                    \n",
    "n = int(input())\n",
    "now_x, now_y = 0, 0\n",
    "now_size = 2\n",
    "now_eaten = 0\n",
    "space = []\n",
    "fishes = []\n",
    "for i in range(n):\n",
    "    data = list(map(int, input().split()))\n",
    "    for j in range(n):\n",
    "        if data[j] == 9:\n",
    "            now_x, now_y = i, j\n",
    "        elif data[j] > 0:\n",
    "            fishes.append((i, j, data[j]))\n",
    "    space.append(data)\n",
    "space[now_x][now_y] = 0\n",
    "dx = [1, -1, 0, 0]\n",
    "dy = [0, 0, 1, -1]\n",
    "count = 0\n",
    "while True:\n",
    "    target = (1e9, 0, 0, 0)\n",
    "    for fish in fishes:\n",
    "        tx, ty, size = fish\n",
    "        if size < now_size:\n",
    "            dist = find_fishes(tx, ty, now_x, now_y, now_size)\n",
    "            if dist != False and dist < target[0]:\n",
    "                target = (dist, tx, ty, size)\n",
    "    if target[0] == 1e9:\n",
    "        print(count)\n",
    "        break\n",
    "    dist, tx, ty, size = target\n",
    "    now_x, now_y = tx, ty\n",
    "    space[now_x][now_y] = 0\n",
    "    fishes.remove((tx, ty, size))\n",
    "    now_eaten += 1\n",
    "    if now_eaten == now_size:\n",
    "        now_eaten = 0\n",
    "        now_size += 1\n",
    "    count += dist"
   ]
  },
  {
   "cell_type": "markdown",
   "id": "64f7bbcb",
   "metadata": {},
   "source": [
    "# 정답 확인 후 생각"
   ]
  },
  {
   "cell_type": "code",
   "execution_count": 13,
   "id": "280d3102",
   "metadata": {},
   "outputs": [
    {
     "ename": "SyntaxError",
     "evalue": "EOL while scanning string literal (2066795622.py, line 5)",
     "output_type": "error",
     "traceback": [
      "\u001b[1;36m  File \u001b[1;32m\"C:\\Users\\najonggeun\\AppData\\Local\\Temp\\ipykernel_13744\\2066795622.py\"\u001b[1;36m, line \u001b[1;32m5\u001b[0m\n\u001b[1;33m    \"\"\"\"\"\"\"\"\"\"\u001b[0m\n\u001b[1;37m              \n^\u001b[0m\n\u001b[1;31mSyntaxError\u001b[0m\u001b[1;31m:\u001b[0m EOL while scanning string literal\n"
     ]
    }
   ],
   "source": [
    "\"\"\"\"\"\"\"\"\"\"\n",
    "자신보다 크기가 작은 물고기라도 맵의 상황에 따라 해당 위치로 이동이 불가능한 경우(최단거리를 찾기 위한 q가 dist 리턴 전에 비는 경우)\n",
    "를 생각하지 못했다. \n",
    "\n",
    "또한 모든 위치까지의 최단 거리를 한 번에 구하고 조건을 다른 함수에서 비교하는 방식으로, 한 함수의 return 값을 다른 함수의 인자로 사용했다.\n",
    "\"\"\"\"\"\"\"\"\"\""
   ]
  }
 ],
 "metadata": {
  "kernelspec": {
   "display_name": "Python 3 (ipykernel)",
   "language": "python",
   "name": "python3"
  },
  "language_info": {
   "codemirror_mode": {
    "name": "ipython",
    "version": 3
   },
   "file_extension": ".py",
   "mimetype": "text/x-python",
   "name": "python",
   "nbconvert_exporter": "python",
   "pygments_lexer": "ipython3",
   "version": "3.7.13"
  }
 },
 "nbformat": 4,
 "nbformat_minor": 5
}
