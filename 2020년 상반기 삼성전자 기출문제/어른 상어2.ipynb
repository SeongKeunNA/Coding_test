{
 "cells": [
  {
   "cell_type": "markdown",
   "id": "6ecee216",
   "metadata": {},
   "source": [
    "# 코딩 전 생각"
   ]
  },
  {
   "cell_type": "code",
   "execution_count": 3,
   "id": "79467229",
   "metadata": {},
   "outputs": [
    {
     "data": {
      "text/plain": [
       "[98, 4]"
      ]
     },
     "execution_count": 3,
     "metadata": {},
     "output_type": "execute_result"
    }
   ],
   "source": [
    "a = [[0,1,3,4,5],[7,98,4,2,3]]\n",
    "a[1][1:3]"
   ]
  },
  {
   "cell_type": "code",
   "execution_count": 1,
   "id": "23b7e3ec",
   "metadata": {},
   "outputs": [
    {
     "ename": "SyntaxError",
     "evalue": "EOL while scanning string literal (Temp/ipykernel_30000/2581256423.py, line 22)",
     "output_type": "error",
     "traceback": [
      "\u001b[1;36m  File \u001b[1;32m\"C:\\Users\\NAJONG~1\\AppData\\Local\\Temp/ipykernel_30000/2581256423.py\"\u001b[1;36m, line \u001b[1;32m22\u001b[0m\n\u001b[1;33m    \"\"\"\"\"\"\"\"\"\"\u001b[0m\n\u001b[1;37m              \n^\u001b[0m\n\u001b[1;31mSyntaxError\u001b[0m\u001b[1;31m:\u001b[0m EOL while scanning string literal\n"
     ]
    }
   ],
   "source": [
    "\"\"\"\"\"\"\"\"\"\"\n",
    "1. 그래프에 초기 데이터 입력\n",
    "\n",
    "[해당 위치에 존재하는 상어의 번호(없을 경우 0), 해당 위치에 존재하는 상어의 방향(없을 경우 0), \n",
    "해당 칸에 존재하는 냄새의 주인인 상어의 번호, 냄새의 잔여 시간]\n",
    "\n",
    "2. 우선 순위표 입력 \n",
    "[[[1번 상어의 위쪽 방향 우선 순위 4개], [1번 상어의 아래쪽 방향 우선 순위 4개], ...[1번 상어의 오른쪽 방향 우선 순위4개]\n",
    ", [[2번 상어의 위쪽 방향 우선 순위 4개], ...], [m번 상어의 오른쪽 방향 우선순위 4개]]]\n",
    "\n",
    "3. process 함수 작성\n",
    "for x in range(n):\n",
    "    for y in range(n):\n",
    "        if graph[x][y][0] != -1:\n",
    "            blank = []\n",
    "            ones_own = []\n",
    "            for i in range(4):\n",
    "                nx = x + dx[i]\n",
    "                ny = y + dy[i]\n",
    "                if 0 <= nx < n and 0 <= ny < n:\n",
    "                    if graph[nx][ny][2] == -1:\n",
    "                        blank.append((i, nx, ny))\n",
    "                    if graph[nx][ny][2] == graph[x][y][2]:\n",
    "                        ones_own.append((i, nx, ny)\n",
    "            for b in blank:\n",
    "                if ck == 1:\n",
    "                    break\n",
    "                for p in priority[graph[x][y][0]][graph[x][y][1]]:\n",
    "                    if p == b[0]:\n",
    "                        if graph[b[1]][b[2]][0] == -1:\n",
    "                            graph[b[1]][b[2]][0:2], graph[x][y][0:2] = graph[x][y], [-1,-1]\n",
    "                            ck = 1\n",
    "                            break\n",
    "                        elif graph[b[1]][b[2]][0] > graph[x][y][0]:\n",
    "                            graph[b[1]][b[2]][0:2], graph[x][y][0:2] = graph[x][y][0:2], [-1,-1]\n",
    "                            ck = 1\n",
    "                            break\n",
    "                        \n",
    "            if ck == 1:\n",
    "                 continue\n",
    "                 \n",
    "            else:\n",
    "                for o in ones_own:\n",
    "                    if ck == 1:\n",
    "                        break\n",
    "                    for p in priority[graph[x][y][0]][graph[x][y][1]]:\n",
    "                        if p == o[0]:\n",
    "                            graph[o[1]][o[2]], graph[x][y] = graph[x][y], [-1,-1, graph[x][y][2]]\n",
    "                            ck = 1\n",
    "                            break\n",
    "                            \n",
    "                    \n",
    "# 기존에 존재하는 냄새의 지속시간을 1초 감소시킴,\n",
    "\n",
    "만약 지속시간이 1초라면 냄새와 냄새의 지속시간을 모두 -1로 초기화\n",
    "\n",
    "모든 상어가 현재 위치에서 냄새를 남기고,\n",
    "\n",
    "만약 상어가 한 마리만 남아 있을 경우 break하고 현재 시간 출력\n",
    "\n",
    "만약 현재 시간이 1000이 넘었는데 프로그램이 종료하지 않았을 경우 break 하고 -1 출력\n",
    "\n",
    "\"\"\"\"\"\"\"\"\"\""
   ]
  },
  {
   "cell_type": "markdown",
   "id": "8a32dbca",
   "metadata": {},
   "source": [
    "# 내 답안"
   ]
  },
  {
   "cell_type": "code",
   "execution_count": 17,
   "id": "7f464656",
   "metadata": {},
   "outputs": [
    {
     "data": {
      "text/plain": [
       "[[], [], [], []]"
      ]
     },
     "execution_count": 17,
     "metadata": {},
     "output_type": "execute_result"
    }
   ],
   "source": [
    "n=  4\n",
    "priority = [[] for _ in range(n)]\n",
    "priority"
   ]
  },
  {
   "cell_type": "code",
   "execution_count": 23,
   "id": "62d0ea13",
   "metadata": {
    "collapsed": true
   },
   "outputs": [
    {
     "ename": "KeyboardInterrupt",
     "evalue": "Interrupted by user",
     "output_type": "error",
     "traceback": [
      "\u001b[1;31m---------------------------------------------------------------------------\u001b[0m",
      "\u001b[1;31mKeyboardInterrupt\u001b[0m                         Traceback (most recent call last)",
      "\u001b[1;32mC:\\Users\\NAJONG~1\\AppData\\Local\\Temp/ipykernel_24536/2004380131.py\u001b[0m in \u001b[0;36m<module>\u001b[1;34m\u001b[0m\n\u001b[1;32m----> 1\u001b[1;33m \u001b[0mn\u001b[0m\u001b[1;33m,\u001b[0m \u001b[0mm\u001b[0m\u001b[1;33m,\u001b[0m \u001b[0mk\u001b[0m \u001b[1;33m=\u001b[0m \u001b[0mmap\u001b[0m\u001b[1;33m(\u001b[0m\u001b[0mint\u001b[0m\u001b[1;33m,\u001b[0m \u001b[0minput\u001b[0m\u001b[1;33m(\u001b[0m\u001b[1;33m)\u001b[0m\u001b[1;33m.\u001b[0m\u001b[0msplit\u001b[0m\u001b[1;33m(\u001b[0m\u001b[1;33m)\u001b[0m\u001b[1;33m)\u001b[0m\u001b[1;33m\u001b[0m\u001b[1;33m\u001b[0m\u001b[0m\n\u001b[0m\u001b[0;32m      2\u001b[0m \u001b[0mgraph\u001b[0m \u001b[1;33m=\u001b[0m \u001b[1;33m[\u001b[0m\u001b[1;33m[\u001b[0m\u001b[1;33m[\u001b[0m\u001b[1;33m-\u001b[0m\u001b[1;36m1\u001b[0m\u001b[1;33m]\u001b[0m \u001b[1;33m*\u001b[0m \u001b[1;36m4\u001b[0m \u001b[1;32mfor\u001b[0m \u001b[0m_\u001b[0m \u001b[1;32min\u001b[0m \u001b[0mrange\u001b[0m\u001b[1;33m(\u001b[0m\u001b[0mn\u001b[0m\u001b[1;33m)\u001b[0m\u001b[1;33m]\u001b[0m \u001b[1;32mfor\u001b[0m \u001b[0m_\u001b[0m \u001b[1;32min\u001b[0m \u001b[0mrange\u001b[0m\u001b[1;33m(\u001b[0m\u001b[0mn\u001b[0m\u001b[1;33m)\u001b[0m\u001b[1;33m]\u001b[0m\u001b[1;33m\u001b[0m\u001b[1;33m\u001b[0m\u001b[0m\n\u001b[0;32m      3\u001b[0m \u001b[0mpriority\u001b[0m \u001b[1;33m=\u001b[0m \u001b[1;33m[\u001b[0m\u001b[1;33m[\u001b[0m\u001b[1;33m]\u001b[0m \u001b[1;32mfor\u001b[0m \u001b[0m_\u001b[0m \u001b[1;32min\u001b[0m \u001b[0mrange\u001b[0m\u001b[1;33m(\u001b[0m\u001b[0mm\u001b[0m\u001b[1;33m)\u001b[0m\u001b[1;33m]\u001b[0m\u001b[1;33m\u001b[0m\u001b[1;33m\u001b[0m\u001b[0m\n\u001b[0;32m      4\u001b[0m \u001b[0mshark\u001b[0m \u001b[1;33m=\u001b[0m \u001b[1;33m[\u001b[0m\u001b[1;33m]\u001b[0m\u001b[1;33m\u001b[0m\u001b[1;33m\u001b[0m\u001b[0m\n\u001b[0;32m      5\u001b[0m \u001b[1;32mfor\u001b[0m \u001b[0mi\u001b[0m \u001b[1;32min\u001b[0m \u001b[0mrange\u001b[0m\u001b[1;33m(\u001b[0m\u001b[0mn\u001b[0m\u001b[1;33m)\u001b[0m\u001b[1;33m:\u001b[0m\u001b[1;33m\u001b[0m\u001b[1;33m\u001b[0m\u001b[0m\n",
      "\u001b[1;32mD:\\userDATA\\anaconda3\\envs\\pt1.1\\lib\\site-packages\\ipykernel\\kernelbase.py\u001b[0m in \u001b[0;36mraw_input\u001b[1;34m(self, prompt)\u001b[0m\n\u001b[0;32m   1004\u001b[0m                 \u001b[1;34m\"raw_input was called, but this frontend does not support input requests.\"\u001b[0m\u001b[1;33m\u001b[0m\u001b[1;33m\u001b[0m\u001b[0m\n\u001b[0;32m   1005\u001b[0m             )\n\u001b[1;32m-> 1006\u001b[1;33m         return self._input_request(\n\u001b[0m\u001b[0;32m   1007\u001b[0m             \u001b[0mstr\u001b[0m\u001b[1;33m(\u001b[0m\u001b[0mprompt\u001b[0m\u001b[1;33m)\u001b[0m\u001b[1;33m,\u001b[0m\u001b[1;33m\u001b[0m\u001b[1;33m\u001b[0m\u001b[0m\n\u001b[0;32m   1008\u001b[0m             \u001b[0mself\u001b[0m\u001b[1;33m.\u001b[0m\u001b[0m_parent_ident\u001b[0m\u001b[1;33m[\u001b[0m\u001b[1;34m\"shell\"\u001b[0m\u001b[1;33m]\u001b[0m\u001b[1;33m,\u001b[0m\u001b[1;33m\u001b[0m\u001b[1;33m\u001b[0m\u001b[0m\n",
      "\u001b[1;32mD:\\userDATA\\anaconda3\\envs\\pt1.1\\lib\\site-packages\\ipykernel\\kernelbase.py\u001b[0m in \u001b[0;36m_input_request\u001b[1;34m(self, prompt, ident, parent, password)\u001b[0m\n\u001b[0;32m   1049\u001b[0m             \u001b[1;32mexcept\u001b[0m \u001b[0mKeyboardInterrupt\u001b[0m\u001b[1;33m:\u001b[0m\u001b[1;33m\u001b[0m\u001b[1;33m\u001b[0m\u001b[0m\n\u001b[0;32m   1050\u001b[0m                 \u001b[1;31m# re-raise KeyboardInterrupt, to truncate traceback\u001b[0m\u001b[1;33m\u001b[0m\u001b[1;33m\u001b[0m\u001b[0m\n\u001b[1;32m-> 1051\u001b[1;33m                 \u001b[1;32mraise\u001b[0m \u001b[0mKeyboardInterrupt\u001b[0m\u001b[1;33m(\u001b[0m\u001b[1;34m\"Interrupted by user\"\u001b[0m\u001b[1;33m)\u001b[0m \u001b[1;32mfrom\u001b[0m \u001b[1;32mNone\u001b[0m\u001b[1;33m\u001b[0m\u001b[1;33m\u001b[0m\u001b[0m\n\u001b[0m\u001b[0;32m   1052\u001b[0m             \u001b[1;32mexcept\u001b[0m \u001b[0mException\u001b[0m\u001b[1;33m:\u001b[0m\u001b[1;33m\u001b[0m\u001b[1;33m\u001b[0m\u001b[0m\n\u001b[0;32m   1053\u001b[0m                 \u001b[0mself\u001b[0m\u001b[1;33m.\u001b[0m\u001b[0mlog\u001b[0m\u001b[1;33m.\u001b[0m\u001b[0mwarning\u001b[0m\u001b[1;33m(\u001b[0m\u001b[1;34m\"Invalid Message:\"\u001b[0m\u001b[1;33m,\u001b[0m \u001b[0mexc_info\u001b[0m\u001b[1;33m=\u001b[0m\u001b[1;32mTrue\u001b[0m\u001b[1;33m)\u001b[0m\u001b[1;33m\u001b[0m\u001b[1;33m\u001b[0m\u001b[0m\n",
      "\u001b[1;31mKeyboardInterrupt\u001b[0m: Interrupted by user"
     ]
    }
   ],
   "source": [
    "n, m, k = map(int, input().split())\n",
    "graph = [[[-1] * 4 for _ in range(n)] for _ in range(n)]\n",
    "priority = [[] for _ in range(m)]\n",
    "shark = []\n",
    "for i in range(n):\n",
    "    data = list(map(int, input().split()))\n",
    "    for j in range(n):\n",
    "        if data[j] != 0:\n",
    "            shark.append([data[j], i,j])\n",
    "shark.sort()  \n",
    "d = list(map(int, input().split()))\n",
    "for i in range(m):\n",
    "    shark[i].append(d[i])\n",
    "    \n",
    "for i in shark:\n",
    "    a,b,c,d = i\n",
    "    graph[b][c][0] = a\n",
    "    graph[b][c][1] = d\n",
    "    graph[b][c][2] = a\n",
    "    graph[b][c][3] = k\n",
    "\n",
    "for i in range(m):\n",
    "    for _ in range(4):\n",
    "           priority[i].append(list(map(int, input().split())))\n",
    "            \n",
    "dx = [0, -1, 1, 0, 0]\n",
    "dy = [0, 0, 0, -1, 1]\n",
    "\n",
    "def find_shark(q, n, graph):\n",
    "    for x in range(n):\n",
    "        for y in range(n):\n",
    "            if graph[x][y][0] == q:\n",
    "                return (x,y)\n",
    "    return False\n",
    "\n",
    "\n",
    "def process(graph, priority):\n",
    "    cnt = 0\n",
    "    while True:\n",
    "        for q in range(1, m+1):\n",
    "            s = find_shark(q, n, graph)\n",
    "            if not s:\n",
    "                continue\n",
    "            x, y = s\n",
    "                \n",
    "            for pp in priority[graph[x][y][0]-1][graph[x][y][1]-1]:\n",
    "                nx = x + dx[pp]\n",
    "                ny = y + dy[pp]\n",
    "                if 0 <= nx < n and 0 <= ny < n:\n",
    "                    if graph[nx][ny][2] == -1:\n",
    "                        if graph[nx][ny][0] == -1 or graph[nx][ny][0] > graph[x][y][0]:\n",
    "                            graph[x][y][1] = pp\n",
    "                            graph[nx][ny][0], graph[x][y][0] = graph[x][y][0], -1\n",
    "                            graph[nx][ny][1], graph[x][y][1] = graph[x][y][1], -1\n",
    "                        else:\n",
    "                            graph[x][y][0] = -1\n",
    "                            graph[x][y][1] = -1\n",
    "                        break\n",
    "                            \n",
    "            else: \n",
    "                for pp in priority[graph[x][y][0]-1][graph[x][y][1]-1]:\n",
    "                    nx = x + dx[pp]\n",
    "                    ny = y + dy[pp]\n",
    "                    if 0 <= nx < n and 0 <= ny < n:        \n",
    "                        if graph[nx][ny][2] == graph[x][y][0]:\n",
    "                            graph[x][y][1] = pp\n",
    "                            graph[nx][ny][0], graph[x][y][0] = graph[x][y][0], -1\n",
    "                            graph[nx][ny][1], graph[x][y][1] = graph[x][y][1], -1\n",
    "                            break\n",
    "                            \n",
    "        shark_num = 0\n",
    "        for x in range(n):\n",
    "            for y in range(n):\n",
    "                if graph[x][y][0] != -1:\n",
    "                    graph[x][y][2] = graph[x][y][0]\n",
    "                    graph[x][y][3] = k\n",
    "                    shark_num += 1\n",
    "                    \n",
    "                elif graph[x][y][2] != -1:\n",
    "                    if graph[x][y][3] == 1:\n",
    "                        graph[x][y][2] = -1\n",
    "                        graph[x][y][3] = -1\n",
    "                    else:\n",
    "                        graph[x][y][3] -= 1\n",
    "        cnt += 1\n",
    "        if shark_num == 1:\n",
    "            print(cnt)\n",
    "            break\n",
    "        elif cnt == 1000:\n",
    "            print(-1)\n",
    "            break\n",
    "process(graph, priority)"
   ]
  },
  {
   "cell_type": "markdown",
   "id": "9a59efd0",
   "metadata": {},
   "source": [
    "# 답안 작성 후 생각"
   ]
  },
  {
   "cell_type": "code",
   "execution_count": null,
   "id": "daee3d4b",
   "metadata": {},
   "outputs": [],
   "source": [
    "\"\"\"\"\"\"\"\"\"\"\n",
    "결국 백준에서 정답 판정까지 받았지만, 생각했던 것보다 구현이 까다로웠다.\n",
    "\n",
    "특히 문제 내용을 읽고도 매 순간 상어들의 방향이 바뀌는 것을 따로 구현하지 않았고,\n",
    "\n",
    "뒤늦게 그걸 깨달았지만 구현이 생각보다 어려워서 시간이 오래 걸렸다.\n",
    "\n",
    "또한, 다른 상어 시리즈 문제들처럼 매번 상어의 위치를 찾는 것도 뒤늦게 구현했다.\n",
    "\"\"\"\"\"\"\"\"\"\""
   ]
  },
  {
   "cell_type": "markdown",
   "id": "fd162458",
   "metadata": {},
   "source": [
    "# 정답"
   ]
  },
  {
   "cell_type": "code",
   "execution_count": null,
   "id": "8397ad09",
   "metadata": {},
   "outputs": [],
   "source": [
    "n, m, k = map(int, input().split())\n",
    "\n",
    "# 모든 상어의 위치와 방향 정보를 포함하는 2차원 리스트\n",
    "array = []\n",
    "for i in range(n):\n",
    "    array.append(list(map(int, input().split())))\n",
    "    \n",
    "# 모든 상어의 현재 방향 정보\n",
    "directions = list(map(int, input().split()))\n",
    "\n",
    "# 각 위치마다 [특정 냄새의 상어 번호, 특정 냄새의 남은 시간]을 저장하는 2차원 리스트\n",
    "smell = [[[0, 0]] * n for _ in range(n)]\n",
    "\n",
    "# 각 상어의 회전 방향 우선순위 정보\n",
    "priorities = [[] for _ in range(m)]\n",
    "for i in range(n):\n",
    "    for j in range(4):\n",
    "        priorities[i].append(list(map(int, input().split())))\n",
    "        \n",
    "# 특정 위치에서 이동 가능한 4가지 방향\n",
    "dx = [-1, 1, 0, 0]\n",
    "dy = [0, 0, -1, 1]\n",
    "\n",
    "# 모든 냄새 정보를 업데이트\n",
    "def update_smell():\n",
    "    # 각 위치를 하나씩 확인하며\n",
    "    for i in range(n):\n",
    "        forj in range(n):\n",
    "            # 냄새가 존재하는 경우, 시간을 1만큼 감소시키기\n",
    "            if smell[i][j][1] > 0:\n",
    "                smell[i][j][1] -= 1\n",
    "            # 상어가 존재하는 해당 위치의 냄새를 k로 설정\n",
    "            if array[i][j] != 0:\n",
    "                smell[i][j] = [array[i][j], k]\n",
    "# 모든 상어를 이동시키는 함수\n",
    "def move():\n",
    "    # 이동 결과를 담기 위한 임시 결과 테이블 초기화\n",
    "    new_array = [[0] * n for _ in range(n)]\n",
    "    # 각 위치를 하나씩 확인하며\n",
    "    for x in range(n):\n",
    "        for y in range(n):\n",
    "            # 상어가 존재하는 경우\n",
    "            if array[x][y] != 0:\n",
    "                direction = directions[array[x][y]-1] # 현재 상어의 방향\n",
    "                found = False\n",
    "                # 일단 냄새가 존재하지 않는 곳이 있는지 확인\n",
    "                for index in range(4):\n",
    "                    nx = x + dx[priorities[array[x][y]-1][direction-1][index]-1]\n",
    "                    ny = y + dy[priorities[array[x][y]-1][direction-1][index]-1]\n",
    "                    if <= nx and nx < n and 0 <= ny and ny < n:\n",
    "                        if smell[nx][ny][1] == 0: # 냄새가 존재하지 않는 곳이면\n",
    "                            # 해당 상어의 방향 이동시키기\n",
    "                            directions[array[x][y]-1] = priorities[array[x][y]-1][direction-1][index]\n",
    "                            # 만약 이미 다른 상어가 있다면 번호가 낮은 상어가 들어가도록 상어 이동시키기\n",
    "                            if new_array[nx][ny] == 0:\n",
    "                                new_array[nx][ny] = array[x][y]\n",
    "                            else:\n",
    "                                new_array[nx][ny] = min(new_array[nx][ny], array[x][y])\n",
    "                            found = True\n",
    "                            break\n",
    "                if found:\n",
    "                    continue\n",
    "                # 주변에 모두 냄새가 남아 있다면, 자신의 냄새가 있는 곳으로 이동\n",
    "                for index in range(4):\n",
    "                    nx = x + dx[priorities[array[x][y]-1][direction-1][index]-1]\n",
    "                    ny = y + dy[priorities[array[x][y]-1][direction-1][index]-1]\n",
    "                    if <= nx and nx < n and 0 <= ny and ny < n:\n",
    "                        if smell[nx][ny][0] == array[x][y]: # 자신의 냄새가 있는 곳이면\n",
    "                            # 해당 상어의 방향 이동시키기\n",
    "                            directions[array[x][y]-1] = priorities[array[x][y]-1][direction-1][index]\n",
    "                            # 상어 이동시키기\n",
    "                            new_array[nx][ny] = array[x][y]\n",
    "                            break\n",
    "    return new_array\n",
    "time = 0\n",
    "while True:\n",
    "    update_smell() # 모든 위치의 냄새를 업데이트\n",
    "    new_array = move() # 모든 상어를 이동시키기\n",
    "    array = new_array # 맵 업데이트\n",
    "    time += 1 # 시간 증가\n",
    "    \n",
    "    # 1번 상어만 남았는지 체크\n",
    "    check = True\n",
    "    for i in range(n):\n",
    "        for j in range(n):\n",
    "            if array[i][j] > 1:\n",
    "                check = False\n",
    "    if check:\n",
    "        print(time)\n",
    "        break\n",
    "    # 1,000초가 지날 때까지 끝나지 않았다면\n",
    "    if time >= 1000:\n",
    "        print(-1)\n",
    "        break  "
   ]
  },
  {
   "cell_type": "markdown",
   "id": "5f62c49f",
   "metadata": {},
   "source": [
    "# 정답 확인 후 생각"
   ]
  },
  {
   "cell_type": "code",
   "execution_count": 1,
   "id": "b0e16ecc",
   "metadata": {},
   "outputs": [
    {
     "ename": "SyntaxError",
     "evalue": "EOF while scanning triple-quoted string literal (Temp/ipykernel_39404/886353925.py, line 1)",
     "output_type": "error",
     "traceback": [
      "\u001b[1;36m  File \u001b[1;32m\"C:\\Users\\NAJONG~1\\AppData\\Local\\Temp/ipykernel_39404/886353925.py\"\u001b[1;36m, line \u001b[1;32m1\u001b[0m\n\u001b[1;33m    \"\"\"\"\"\"\"\"\"\"\u001b[0m\n\u001b[1;37m              ^\u001b[0m\n\u001b[1;31mSyntaxError\u001b[0m\u001b[1;31m:\u001b[0m EOF while scanning triple-quoted string literal\n"
     ]
    }
   ],
   "source": [
    "\"\"\"\"\"\"\"\"\"\"\n",
    "전반적인 흐름은 내 풀이와 비슷하다.\n",
    "\n",
    "다른 점은 array 리스트가 오직 해당 위치의 상어의 번호만을 저장하고,\n",
    "\n",
    "directions 리스트가 상어들이 현재 바라보는 방향을,\n",
    "\n",
    "smell 리스트가 해당 위치의 [냄새의 주인인 상어 번호, 냄새의 남은 지속시간]을 따로따로 저장한다는 것이다.\n",
    "\n",
    "게다가 update_smell 함수와 move 함수 모두 인자를 받지 않고 global 변수 선언도 하지 않는데,\n",
    "\n",
    "아직 언제 인자를 받고 변수 선언을 해야 할지 조금 헷갈리는 것 같다.\n",
    "\n",
    "\"\"\"\"\"\"\"\"\"\""
   ]
  }
 ],
 "metadata": {
  "kernelspec": {
   "display_name": "pytorch",
   "language": "python",
   "name": "pt1.1"
  },
  "language_info": {
   "codemirror_mode": {
    "name": "ipython",
    "version": 3
   },
   "file_extension": ".py",
   "mimetype": "text/x-python",
   "name": "python",
   "nbconvert_exporter": "python",
   "pygments_lexer": "ipython3",
   "version": "3.9.7"
  }
 },
 "nbformat": 4,
 "nbformat_minor": 5
}
