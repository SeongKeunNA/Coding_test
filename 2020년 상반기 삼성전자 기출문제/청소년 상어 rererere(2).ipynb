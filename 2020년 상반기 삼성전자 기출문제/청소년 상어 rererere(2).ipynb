{
 "cells": [
  {
   "cell_type": "code",
   "execution_count": 37,
   "id": "56ad9ae3",
   "metadata": {},
   "outputs": [
    {
     "name": "stdout",
     "output_type": "stream",
     "text": [
      "7 6 2 3 15 6 9 8\n",
      "3 1 1 8 14 7 10 1\n",
      "6 1 13 6 4 3 11 4\n",
      "16 1 8 7 5 2 12 2\n",
      "cnt: 0 x: 0 y: 0\n",
      "[[7, 5], [2, 2], [15, 5], [9, 7]]\n",
      "[[3, 0], [1, 7], [14, 6], [10, 0]]\n",
      "[[6, 0], [13, 5], [4, 2], [11, 3]]\n",
      "[[16, 0], [8, 6], [5, 1], [12, 1]]\n",
      "----------\n",
      "[[0, 5], [2, 2], [15, 5], [9, 7]]\n",
      "[[3, 0], [1, 7], [14, 6], [10, 0]]\n",
      "[[6, 0], [13, 5], [4, 2], [11, 3]]\n",
      "[[16, 0], [8, 6], [5, 1], [12, 1]]\n",
      "----------\n",
      "[[0, 5], [2, 3], [9, 2], [10, 0]]\n",
      "[[6, 0], [12, 1], [1, 7], [14, 6]]\n",
      "[[16, 0], [5, 1], [15, 5], [13, 0]]\n",
      "[[3, 3], [4, 2], [11, 3], [8, 6]]\n",
      ">>>>>>><<<<<<<<<<<\n",
      "cnt: 7 x: 1 y: 1\n",
      "[[0, 5], [2, 3], [9, 2], [10, 0]]\n",
      "[[6, 0], [12, 1], [1, 7], [14, 6]]\n",
      "[[16, 0], [5, 1], [15, 5], [13, 0]]\n",
      "[[3, 3], [4, 2], [11, 3], [8, 6]]\n",
      "----------\n",
      "[[0, 5], [2, 3], [9, 2], [10, 0]]\n",
      "[[6, 0], [0, 1], [1, 7], [14, 6]]\n",
      "[[16, 0], [5, 1], [15, 5], [13, 0]]\n",
      "[[3, 3], [4, 2], [11, 3], [8, 6]]\n",
      "----------\n",
      "[[6, 2], [9, 2], [10, 0], [14, 0]]\n",
      "[[16, 0], [0, 1], [0, 5], [1, 7]]\n",
      "[[5, 1], [2, 3], [13, 0], [8, 0]]\n",
      "[[3, 6], [4, 6], [11, 6], [15, 6]]\n",
      ">>>>>>><<<<<<<<<<<\n",
      "cnt: 19 x: 0 y: 0\n",
      "[[6, 2], [9, 2], [10, 0], [14, 0]]\n",
      "[[16, 0], [0, 1], [0, 5], [1, 7]]\n",
      "[[5, 1], [2, 3], [13, 0], [8, 0]]\n",
      "[[3, 6], [4, 6], [11, 6], [15, 6]]\n",
      "----------\n",
      "[[0, 2], [9, 2], [10, 0], [14, 0]]\n",
      "[[16, 0], [0, 1], [0, 5], [1, 7]]\n",
      "[[5, 1], [2, 3], [13, 0], [8, 0]]\n",
      "[[3, 6], [4, 6], [11, 6], [15, 6]]\n",
      "----------\n",
      "[[0, 2], [16, 2], [10, 2], [1, 0]]\n",
      "[[9, 3], [13, 0], [0, 5], [14, 0]]\n",
      "[[2, 3], [0, 1], [3, 6], [15, 0]]\n",
      "[[5, 4], [4, 6], [11, 6], [8, 0]]\n",
      ">>>>>>><<<<<<<<<<<\n",
      "cnt: 7 x: 2 y: 2\n",
      "[[0, 5], [2, 3], [9, 2], [10, 0]]\n",
      "[[6, 0], [12, 1], [1, 7], [14, 6]]\n",
      "[[16, 0], [5, 1], [15, 5], [13, 0]]\n",
      "[[3, 3], [4, 2], [11, 3], [8, 6]]\n",
      "----------\n",
      "[[0, 5], [2, 3], [9, 2], [10, 0]]\n",
      "[[6, 0], [12, 1], [1, 7], [14, 6]]\n",
      "[[16, 0], [5, 1], [0, 5], [13, 0]]\n",
      "[[3, 3], [4, 2], [11, 3], [8, 6]]\n",
      "----------\n",
      "[[12, 1], [9, 2], [10, 0], [14, 0]]\n",
      "[[16, 0], [6, 2], [0, 5], [1, 7]]\n",
      "[[5, 1], [13, 1], [0, 5], [8, 0]]\n",
      "[[3, 6], [4, 6], [2, 3], [11, 6]]\n",
      ">>>>>>><<<<<<<<<<<\n",
      "cnt: 22 x: 3 y: 3\n",
      "[[12, 1], [9, 2], [10, 0], [14, 0]]\n",
      "[[16, 0], [6, 2], [0, 5], [1, 7]]\n",
      "[[5, 1], [13, 1], [0, 5], [8, 0]]\n",
      "[[3, 6], [4, 6], [2, 3], [11, 6]]\n",
      "----------\n",
      "[[12, 1], [9, 2], [10, 0], [14, 0]]\n",
      "[[16, 0], [6, 2], [0, 5], [1, 7]]\n",
      "[[5, 1], [13, 1], [0, 5], [8, 0]]\n",
      "[[3, 6], [4, 6], [2, 3], [0, 6]]\n",
      "----------\n",
      "[[9, 2], [16, 0], [10, 2], [14, 0]]\n",
      "[[13, 1], [12, 2], [0, 5], [1, 0]]\n",
      "[[3, 6], [6, 2], [8, 0], [2, 7]]\n",
      "[[5, 4], [4, 6], [0, 5], [0, 6]]\n",
      ">>>>>>><<<<<<<<<<<\n",
      "cnt: 7 x: 3 y: 3\n",
      "[[0, 5], [2, 3], [9, 2], [10, 0]]\n",
      "[[6, 0], [12, 1], [1, 7], [14, 6]]\n",
      "[[16, 0], [5, 1], [15, 5], [13, 0]]\n",
      "[[3, 3], [4, 2], [11, 3], [8, 6]]\n",
      "----------\n",
      "[[0, 5], [2, 3], [9, 2], [10, 0]]\n",
      "[[6, 0], [12, 1], [1, 7], [14, 6]]\n",
      "[[16, 0], [5, 1], [15, 5], [13, 0]]\n",
      "[[3, 3], [4, 2], [11, 3], [0, 6]]\n",
      "----------\n",
      "[[12, 1], [9, 2], [10, 0], [14, 0]]\n",
      "[[16, 0], [6, 2], [0, 5], [1, 7]]\n",
      "[[5, 1], [2, 3], [13, 0], [15, 7]]\n",
      "[[3, 6], [4, 6], [11, 7], [0, 6]]\n",
      ">>>>>>><<<<<<<<<<<\n",
      "33\n"
     ]
    }
   ],
   "source": [
    "import time\n",
    "from copy import deepcopy\n",
    "s = time.time()\n",
    "graph = []\n",
    "for i in range(4):\n",
    "    info = []\n",
    "    data = list(map(int, input().split()))\n",
    "    for j in range(4):\n",
    "        info.append([data[2*j], data[2*j+1] - 1])\n",
    "    graph.append(info)\n",
    "d = graph[0][0][1]\n",
    "dx = [-1, -1, 0, 1, 1, 1, 0, -1]\n",
    "dy = [0, -1, -1, -1, 0, 1, 1, 1]\n",
    "\n",
    "\n",
    "def find_fish(num, graph):\n",
    "    for i in range(4):\n",
    "        for j in range(4):\n",
    "            if graph[i][j][0] == num:\n",
    "                return i, j\n",
    "            \n",
    "def turnleft(d):\n",
    "    return (d + 1) % 8\n",
    "    \n",
    "\n",
    "def move_fish(now_x, now_y, graph):\n",
    "    for i in range(1, 17):\n",
    "        pos = find_fish(i, graph)\n",
    "        if pos == None:\n",
    "            continue\n",
    "        x, y = pos\n",
    "        while True:\n",
    "            d = graph[x][y][1]\n",
    "            nx = x + dx[d]\n",
    "            ny = y + dy[d]\n",
    "            if 0 <= nx < 4 and 0 <= ny < 4:\n",
    "                if nx != now_x or ny != now_y:\n",
    "                    graph[x][y], graph[nx][ny] = graph[nx][ny], graph[x][y]\n",
    "                    break\n",
    "            graph[x][y][1] = turnleft(d)\n",
    "    return graph\n",
    "            \n",
    "def hunt_fish(x, y, d, graph):\n",
    "    result = []\n",
    "    nx = x + dx[d]\n",
    "    ny = y + dy[d]\n",
    "    while 0 <= nx < 4 and 0 <= ny < 4:\n",
    "        if graph[nx][ny][0] > 0:\n",
    "            result.append((nx, ny))\n",
    "        nx += dx[d]\n",
    "        ny += dy[d]\n",
    "    return result\n",
    "\n",
    "max_value = 0\n",
    "def dfs(graph, cnt, x, y):\n",
    "    global max_value\n",
    "    graph = deepcopy(graph)\n",
    "    cnt += graph[x][y][0]\n",
    "    d = graph[x][y][1]\n",
    "    graph[x][y][0] = 0\n",
    "    graph = move_fish(x, y, graph)\n",
    "    possible_fish = hunt_fish(x, y, d, graph)\n",
    "    if len(possible_fish) == 0:\n",
    "        max_value = max(max_value, cnt)\n",
    "        return\n",
    "    for tx, ty in possible_fish:\n",
    "        dfs(graph, cnt, tx, ty)\n",
    "dfs(graph, 0, 0, 0)\n",
    "print(max_value)"
   ]
  },
  {
   "cell_type": "markdown",
   "id": "fb43742e",
   "metadata": {},
   "source": [
    "# 답안 작성 후 생각"
   ]
  },
  {
   "cell_type": "code",
   "execution_count": null,
   "id": "652a13d5",
   "metadata": {},
   "outputs": [],
   "source": [
    "\"\"\"\"\"\"\"\"\"\"\n",
    "dfs 재귀함수에서 graph라는 인자를 받고 그 이중 리스트를 deepcopy한 객체 역시 graph라는 이름으로 선언했기 때문에\n",
    "move_fish, find_fish, hunt_fish 함수 모두 graph라는 인자를 직접 전달해야한다.\n",
    "\"\"\"\"\"\"\"\"\"\""
   ]
  },
  {
   "cell_type": "code",
   "execution_count": 21,
   "id": "91a4df68",
   "metadata": {},
   "outputs": [
    {
     "name": "stdout",
     "output_type": "stream",
     "text": [
      "7 6 2 3 15 6 9 8\n",
      "3 1 1 8 14 7 10 1\n",
      "6 1 13 6 4 3 11 4\n",
      "16 1 8 7 5 2 12 2\n"
     ]
    }
   ],
   "source": [
    "graph = []\n",
    "for i in range(4):\n",
    "    info = []\n",
    "    data = list(map(int, input().split()))\n",
    "    for j in range(4):\n",
    "        info.append([data[2*j], data[2*j+1] - 1])\n",
    "    graph.append(info)\n",
    "d = graph[0][0][1]"
   ]
  },
  {
   "cell_type": "code",
   "execution_count": 23,
   "id": "76ce154a",
   "metadata": {},
   "outputs": [],
   "source": [
    "avc = deepcopy(graph)"
   ]
  },
  {
   "cell_type": "code",
   "execution_count": 28,
   "id": "b81dd89d",
   "metadata": {},
   "outputs": [
    {
     "data": {
      "text/plain": [
       "[[[7, 5], [2, 2], [15, 5], [9, 7]],\n",
       " [[3, 0], [1, 7], [14, 6], [10, 0]],\n",
       " [[6, 0], [13, 5], [4, 2], [11, 3]],\n",
       " [[16, 0], [8, 6], [5, 1], [12, 1]]]"
      ]
     },
     "execution_count": 28,
     "metadata": {},
     "output_type": "execute_result"
    }
   ],
   "source": [
    "graph = deepcopy(avc)\n",
    "graph"
   ]
  },
  {
   "cell_type": "code",
   "execution_count": 27,
   "id": "f152bb21",
   "metadata": {},
   "outputs": [],
   "source": [
    "def ck(graph):\n",
    "    graph = deepcopy(graph)\n",
    "    for g in graph: print(g)"
   ]
  },
  {
   "cell_type": "code",
   "execution_count": 29,
   "id": "9f33ce06",
   "metadata": {},
   "outputs": [
    {
     "name": "stdout",
     "output_type": "stream",
     "text": [
      "[[7, 5], [2, 2], [15, 5], [9, 7]]\n",
      "[[3, 0], [1, 7], [14, 6], [10, 0]]\n",
      "[[6, 0], [13, 5], [4, 2], [11, 3]]\n",
      "[[16, 0], [8, 6], [5, 1], [12, 1]]\n",
      "-----------------\n",
      "[[0, 5], [2, 2], [15, 5], [9, 7]]\n",
      "[[3, 0], [1, 7], [14, 6], [10, 0]]\n",
      "[[6, 0], [13, 5], [4, 2], [11, 3]]\n",
      "[[16, 0], [8, 6], [5, 1], [12, 1]]\n",
      "-----------------\n",
      "[[0, 5], [2, 3], [9, 2], [10, 0]]\n",
      "[[6, 0], [12, 1], [1, 7], [14, 6]]\n",
      "[[16, 0], [5, 1], [15, 5], [13, 0]]\n",
      "[[3, 3], [4, 2], [11, 3], [8, 6]]\n",
      "-----------------\n",
      "[[0, 5], [2, 3], [9, 2], [10, 0]]\n",
      "[[6, 0], [12, 1], [1, 7], [14, 6]]\n",
      "[[16, 0], [5, 1], [15, 5], [13, 0]]\n",
      "[[3, 3], [4, 2], [11, 3], [8, 6]]\n"
     ]
    }
   ],
   "source": [
    "graph = deepcopy(graph)\n",
    "for g in graph: print(g)\n",
    "print('-----------------')\n",
    "graph[0][0][0] = 0\n",
    "for g in graph: print(g)\n",
    "print('-----------------')\n",
    "move_fish(0, 0)\n",
    "for g in graph: print(g)\n",
    "print('-----------------')\n",
    "ck(graph)\n",
    "    "
   ]
  },
  {
   "cell_type": "code",
   "execution_count": 16,
   "id": "830fb9ff",
   "metadata": {},
   "outputs": [],
   "source": [
    "s = time.time()"
   ]
  },
  {
   "cell_type": "code",
   "execution_count": 17,
   "id": "6677b869",
   "metadata": {},
   "outputs": [
    {
     "data": {
      "text/plain": [
       "8.503814935684204"
      ]
     },
     "execution_count": 17,
     "metadata": {},
     "output_type": "execute_result"
    }
   ],
   "source": [
    "time.time() - s"
   ]
  },
  {
   "cell_type": "code",
   "execution_count": null,
   "id": "a7554a93",
   "metadata": {},
   "outputs": [],
   "source": [
    "7 6 2 3 15 6 9 8\n",
    "3 1 1 8 14 7 10 1\n",
    "6 1 13 6 4 3 11 4\n",
    "16 1 8 7 5 2 12 2"
   ]
  },
  {
   "cell_type": "code",
   "execution_count": 5,
   "id": "37d9a1f9",
   "metadata": {},
   "outputs": [
    {
     "data": {
      "text/plain": [
       "[[[7, 5], [2, 2], [15, 5], [9, 7]],\n",
       " [[3, 0], [1, 7], [14, 6], [10, 0]],\n",
       " [[6, 0], [13, 5], [4, 2], [11, 3]],\n",
       " [[16, 0], [8, 6], [5, 1], [12, 1]]]"
      ]
     },
     "execution_count": 5,
     "metadata": {},
     "output_type": "execute_result"
    }
   ],
   "source": [
    "graph"
   ]
  },
  {
   "cell_type": "code",
   "execution_count": 8,
   "id": "c504bb64",
   "metadata": {},
   "outputs": [
    {
     "data": {
      "text/plain": [
       "[[[7, 5], [2, 2], [15, 5], [9, 7]],\n",
       " [[3, 0], [1, 7], [14, 6], [10, 0]],\n",
       " [[6, 0], [13, 5], [4, 2], [11, 3]],\n",
       " [[16, 0], [8, 6], [5, 1], [12, 1]]]"
      ]
     },
     "execution_count": 8,
     "metadata": {},
     "output_type": "execute_result"
    }
   ],
   "source": [
    "graph[0] = [[7, 5], [2, 2], [15, 5], [9,7]]\n",
    "graph"
   ]
  },
  {
   "cell_type": "code",
   "execution_count": 9,
   "id": "0fb522ea",
   "metadata": {},
   "outputs": [
    {
     "data": {
      "text/plain": [
       "[[[0, 5], [2, 2], [15, 5], [9, 7]],\n",
       " [[3, 0], [1, 7], [14, 6], [10, 0]],\n",
       " [[6, 0], [13, 5], [4, 2], [11, 3]],\n",
       " [[16, 0], [8, 6], [5, 1], [12, 1]]]"
      ]
     },
     "execution_count": 9,
     "metadata": {},
     "output_type": "execute_result"
    }
   ],
   "source": [
    "graph[0][0][0] = 0\n",
    "graph"
   ]
  },
  {
   "cell_type": "code",
   "execution_count": 12,
   "id": "a95a8f8d",
   "metadata": {},
   "outputs": [
    {
     "data": {
      "text/plain": [
       "[[[0, 5], [2, 3], [9, 2], [10, 0]],\n",
       " [[6, 0], [12, 1], [1, 7], [14, 6]],\n",
       " [[16, 0], [5, 1], [15, 5], [13, 0]],\n",
       " [[3, 3], [4, 2], [11, 3], [8, 6]]]"
      ]
     },
     "execution_count": 12,
     "metadata": {},
     "output_type": "execute_result"
    }
   ],
   "source": [
    "move_fish(0, 0)\n",
    "graph"
   ]
  },
  {
   "cell_type": "code",
   "execution_count": 13,
   "id": "2fbcf511",
   "metadata": {},
   "outputs": [
    {
     "data": {
      "text/plain": [
       "[(1, 1), (2, 2), (3, 3)]"
      ]
     },
     "execution_count": 13,
     "metadata": {},
     "output_type": "execute_result"
    }
   ],
   "source": [
    "possible_fish = hunt_fish(0, 0, d)\n",
    "possible_fish"
   ]
  }
 ],
 "metadata": {
  "kernelspec": {
   "display_name": "Python 3 (ipykernel)",
   "language": "python",
   "name": "python3"
  },
  "language_info": {
   "codemirror_mode": {
    "name": "ipython",
    "version": 3
   },
   "file_extension": ".py",
   "mimetype": "text/x-python",
   "name": "python",
   "nbconvert_exporter": "python",
   "pygments_lexer": "ipython3",
   "version": "3.7.13"
  }
 },
 "nbformat": 4,
 "nbformat_minor": 5
}
