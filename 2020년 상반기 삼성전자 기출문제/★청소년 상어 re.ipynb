{
 "cells": [
  {
   "cell_type": "markdown",
   "id": "41902a75",
   "metadata": {},
   "source": [
    "# 코딩 전 생각"
   ]
  },
  {
   "cell_type": "code",
   "execution_count": null,
   "id": "c655366c",
   "metadata": {},
   "outputs": [],
   "source": [
    "\"\"\"\"\"\"\"\"\"\"\n",
    "상어가 이동할 위치를 정할 때 당장 번호가 가장 높은 물고기를 먹는 것이 항상 최선의 결과를 가져다주지못한다.\n",
    "\n",
    "어느 칸으로 이동하는지에 따라 상어의 움직임이 제한되기 때문이다.\n",
    "\n",
    "이 때 bfs를 이용해 각 선택에 따른 그래프의 상태와 잡아먹은 물고기 번호의 총합을 저장하여 최종 결과 중 최댓값을 출력한다.\n",
    "\"\"\"\"\"\"\"\"\"\""
   ]
  },
  {
   "cell_type": "markdown",
   "id": "4a28949b",
   "metadata": {},
   "source": [
    "# 내 답안"
   ]
  },
  {
   "cell_type": "code",
   "execution_count": 26,
   "id": "ad199b4f",
   "metadata": {},
   "outputs": [
    {
     "name": "stdout",
     "output_type": "stream",
     "text": [
      "7 6 2 3 15 6 9 8\n",
      "3 1 1 8 14 7 10 1\n",
      "6 1 13 6 4 3 11 4\n",
      "16 1 8 7 5 2 12 2\n",
      "[[(7, 5), (2, 2), (15, 5), (9, 7)], [(3, 0), (1, 7), (14, 6), (10, 0)], [(6, 0), (13, 5), (4, 2), (11, 3)], [(16, 0), (8, 6), (5, 1), (12, 1)]]\n"
     ]
    }
   ],
   "source": [
    "from collections import deque\n",
    "graph =[[] for _ in range(4)]\n",
    "for i in range(4):\n",
    "    data = list(map(int ,input().split()))\n",
    "    for j in range(0, 8, 2): \n",
    "        graph[i].append((data[j], data[j + 1] - 1))\n",
    "print(graph)"
   ]
  },
  {
   "cell_type": "code",
   "execution_count": 36,
   "id": "0d8cd7fd",
   "metadata": {},
   "outputs": [
    {
     "name": "stdout",
     "output_type": "stream",
     "text": [
      "[[(0, 0), (2, 3), (9, 2), (10, 0)], [(6, 0), (12, 1), (1, 7), (14, 6)], [(16, 0), (5, 1), (15, 5), (13, 0)], [(3, 3), (4, 2), (11, 3), (8, 6)]]\n"
     ]
    }
   ],
   "source": [
    "def search(graph, num):\n",
    "    for i in range(4):\n",
    "        for j in range(4):\n",
    "            if graph[i][j][0] == num:\n",
    "                return (i, j)\n",
    "    return False\n",
    "\n",
    "def move(graph, now_x, now_y):\n",
    "    for i in range(1, 17):\n",
    "        num = search(graph, i)\n",
    "        if num == False:\n",
    "            continue\n",
    "        x, y = num\n",
    "        for j in range(8): #0~7\n",
    "            nx = x + dx[(graph[x][y][1] + j) % 8]        #7+0~7+7 = 7%7~ 14%7   7 0 1 2 3 4 5 6(14)                                          \n",
    "            ny = y + dy[(graph[x][y][1] + j) % 8]\n",
    "            if 0 <= nx < 4 and 0 <= ny < 4:\n",
    "                if nx != now_x or ny != now_y:\n",
    "                    graph[x][y] = (graph[x][y][0], (graph[x][y][1] + j) % 8)\n",
    "                    graph[nx][ny], graph[x][y] = graph[x][y], graph[nx][ny]\n",
    "                    break\n",
    "    return graph\n",
    "g = move([[(0, 0), (2, 2), (15, 5), (9, 7)], [(3, 0), (1, 7), (14, 6), (10, 0)], [(6, 0), (13, 5), (4, 2), (11, 3)], [(16, 0), (8, 6), (5, 1), (12, 1)]], 0, 0)\n",
    "print(g)"
   ]
  },
  {
   "cell_type": "code",
   "execution_count": null,
   "id": "27de07c6",
   "metadata": {},
   "outputs": [],
   "source": [
    "[[(), (2, 2), (9, 7), (10, 0)], [(6, 0), (15, 5), (1, 7), (14, 6)], [(16, 0), (5, 1), (12, 1), (13, 5)], [(3, 0), (4, 2), (11, 3), (8, 6)]]"
   ]
  },
  {
   "cell_type": "code",
   "execution_count": null,
   "id": "d6027603",
   "metadata": {},
   "outputs": [],
   "source": [
    "7 6 2 3 15 6 9 8\n",
    "3 1 1 8 14 7 10 1\n",
    "6 1 13 6 4 3 11 4\n",
    "16 1 8 7 5 2 12 2"
   ]
  },
  {
   "cell_type": "code",
   "execution_count": 37,
   "id": "b78ea8e8",
   "metadata": {},
   "outputs": [
    {
     "name": "stdout",
     "output_type": "stream",
     "text": [
      "7 6 2 3 15 6 9 8\n",
      "3 1 1 8 14 7 10 1\n",
      "6 1 13 6 4 3 11 4\n",
      "16 1 8 7 5 2 12 2\n",
      "33\n"
     ]
    }
   ],
   "source": [
    "from collections import deque\n",
    "graph =[[] for _ in range(4)]\n",
    "for i in range(4):\n",
    "    data = list(map(int ,input().split()))\n",
    "    for j in range(0, 8, 2): \n",
    "        graph[i].append((data[j], data[j + 1] - 1))\n",
    "dx = [-1, -1, 0, 1, 1, 1, 0, -1]\n",
    "dy = [0, -1, -1, -1, 0, 1, 1, 1]\n",
    "\n",
    "def search(graph, num):\n",
    "    for i in range(4):\n",
    "        for j in range(4):\n",
    "            if graph[i][j][0] == num:\n",
    "                return (i, j)\n",
    "    return False\n",
    "\n",
    "def move(graph, now_x, now_y):\n",
    "    for i in range(1, 17):\n",
    "        num = search(graph, i)\n",
    "        if num == False:\n",
    "            continue\n",
    "        x, y = num\n",
    "        for j in range(8): #0~7\n",
    "            nx = x + dx[(graph[x][y][1] + j) % 8]        #7+0~7+7 = 7%7~ 14%7   7 0 1 2 3 4 5 6(14)                                          \n",
    "            ny = y + dy[(graph[x][y][1] + j) % 8]\n",
    "            if 0 <= nx < 4 and 0 <= ny < 4:\n",
    "                if nx != now_x or ny != now_y:\n",
    "                    graph[x][y] = (graph[x][y][0], (graph[x][y][1] + j) % 8)\n",
    "                    graph[nx][ny], graph[x][y] = graph[x][y], graph[nx][ny]\n",
    "                    break\n",
    "    return graph\n",
    "\n",
    "def bfs(graph):\n",
    "    max_value = -1e9\n",
    "    q = deque()\n",
    "    q.append((graph[0][0][0], 0, 0, graph[0][0][1], graph))\n",
    "    graph[0][0] = (0, 0)\n",
    "    while q:\n",
    "        ate, nx, ny, nd, g = q.popleft() #7, 0, 0, 6(1,1), e\n",
    "        max_value = max(max_value, ate) #7\n",
    "        g = move(g, nx, ny)\n",
    "        while True:\n",
    "            graph = deepcopy(g)\n",
    "            nx += dx[nd] #1 2\n",
    "            ny += dy[nd] #1 2\n",
    "            if 0 > nx or nx >= 4 or 0 > ny or ny >= 4:\n",
    "                break\n",
    "            if graph[nx][ny] != (0, 0):\n",
    "                new_ate = ate + graph[nx][ny][0] # 13\n",
    "                newd = graph[nx][ny][1] #8(-1,1)\n",
    "                graph[nx][ny] = (0, 0)\n",
    "                q.append((new_ate, nx, ny, newd, graph))\n",
    "    print(max_value)\n",
    "bfs(graph)"
   ]
  },
  {
   "cell_type": "markdown",
   "id": "6746b147",
   "metadata": {},
   "source": [
    "# 답안 작성 후 생각"
   ]
  },
  {
   "cell_type": "code",
   "execution_count": 2,
   "id": "e80648fb",
   "metadata": {},
   "outputs": [
    {
     "data": {
      "text/plain": [
       "''"
      ]
     },
     "execution_count": 2,
     "metadata": {},
     "output_type": "execute_result"
    }
   ],
   "source": [
    "\"\"\"\"\"\"\"\"\"\"\n",
    "bfs 함수의 인자로 이차원 배열 graph가 들어가니 무한 루프에 걸린다.\n",
    "\n",
    "dfs로 해결해보자.\n",
    "\"\"\"\"\"\"\"\"\"\""
   ]
  },
  {
   "cell_type": "markdown",
   "id": "c7152174",
   "metadata": {},
   "source": [
    "# 내 답안2"
   ]
  },
  {
   "cell_type": "code",
   "execution_count": null,
   "id": "7de5766a",
   "metadata": {},
   "outputs": [],
   "source": [
    "from collections import deque\n",
    "from copy import deepcopy\n",
    "graph =[[] for _ in range(4)]\n",
    "for i in range(4):\n",
    "    data = list(map(int ,input().split()))\n",
    "    for j in range(0, 8, 2): \n",
    "        graph[i].append((data[j], data[j + 1] - 1))\n",
    "dx = [-1, -1, 0, 1, 1, 1, 0, -1]\n",
    "dy = [0, -1, -1, -1, 0, 1, 1, 1]\n",
    "\n",
    "def search(graph, num):\n",
    "    for i in range(4):\n",
    "        for j in range(4):\n",
    "            if graph[i][j][0] == num:\n",
    "                return (i, j)\n",
    "    return False\n",
    "\n",
    "def move(graph, now_x, now_y):\n",
    "    for i in range(1, 17):\n",
    "        num = search(graph, i)\n",
    "        if num == False:\n",
    "            continue\n",
    "        x, y = num\n",
    "        for j in range(8): #0~7\n",
    "            nx = x + dx[(graph[x][y][1] + j) % 8]        #7+0~7+7 = 7%7~ 14%7   7 0 1 2 3 4 5 6(14)                                          \n",
    "            ny = y + dy[(graph[x][y][1] + j) % 8]\n",
    "            if 0 <= nx < 4 and 0 <= ny < 4:\n",
    "                if nx != now_x or ny != now_y:\n",
    "                    graph[x][y] = (graph[x][y][0], (graph[x][y][1] + j) % 8)\n",
    "                    graph[nx][ny], graph[x][y] = graph[x][y], graph[nx][ny]\n",
    "                    break\n",
    "    return graph\n",
    "\n",
    "def bfs(graph):\n",
    "    max_value = -1e9\n",
    "    q = deque()\n",
    "    q.append((graph[0][0][0], 0, 0, graph[0][0][1], graph))\n",
    "    graph[0][0] = (0, 0)\n",
    "    while q:\n",
    "        ate, nx, ny, nd, g = q.popleft() #7, 0, 0, 6(1,1), e\n",
    "        max_value = max(max_value, ate) #7\n",
    "        g = move(g, nx, ny)\n",
    "        while True:\n",
    "            graph = deepcopy(g)\n",
    "            nx += dx[nd] #1 2\n",
    "            ny += dy[nd] #1 2\n",
    "            if 0 > nx or nx >= 4 or 0 > ny or ny >= 4:\n",
    "                break\n",
    "            if graph[nx][ny] != (0, 0):\n",
    "                new_ate = ate + graph[nx][ny][0] # 13\n",
    "                newd = graph[nx][ny][1] #8(-1,1)\n",
    "                graph[nx][ny] = (0, 0)\n",
    "                q.append((new_ate, nx, ny, newd, graph))\n",
    "    print(max_value)\n",
    "bfs(graph)"
   ]
  },
  {
   "cell_type": "markdown",
   "id": "77e7c224",
   "metadata": {},
   "source": [
    "# 답안 작성 후 생각"
   ]
  },
  {
   "cell_type": "code",
   "execution_count": null,
   "id": "19ece927",
   "metadata": {},
   "outputs": [],
   "source": [
    "\"\"\"\"\"\"\"\"\"\"\n",
    "문제 해결 아이디어는 떠올리기 쉽지만, 실수하기 정말 쉬운 문제인 것 같다.\n",
    "\n",
    "1.각 물고기의 방향이 매번 바뀌는 것을 갱신해주어야함.\n",
    "\n",
    "2. 물고기의 방향 인덱스를 처음 입력받을 때 -1 해주어야 다루기 편하다.\n",
    "\n",
    "3. 빈 칸은 (0, 0) 으로 해야 search 함수 작성이 편하다(graph[x][y][0] 형태로 접근해야하기 때문)\n",
    "\"\"\"\"\"\"\"\"\"\""
   ]
  },
  {
   "cell_type": "markdown",
   "id": "e2854186",
   "metadata": {},
   "source": [
    "# 정답 "
   ]
  },
  {
   "cell_type": "code",
   "execution_count": null,
   "id": "3273c6a3",
   "metadata": {},
   "outputs": [],
   "source": [
    "import copy\n",
    "\n",
    "array = [[None] * 4 for _ in range(4)]\n",
    "\n",
    "for i in range(4):\n",
    "    data = list(map(int, input()split()))\n",
    "    for j in range(4):\n",
    "        array[i][j] = [data[j * 2], data[j * 2 + 1] - 1]\n",
    "        \n",
    "dx = [-1, -1, 0, 1, 1, 1, 0, -1]\n",
    "dy = [0, -1, -1, -1, 0, 1, 1, 1]\n",
    "\n",
    "def turn_left(direction):\n",
    "    return (direction + 1) % 8\n",
    "\n",
    "result = 0\n",
    "\n",
    "def find_fish(array, index):\n",
    "    for i in range(4):\n",
    "        for j in range(4):\n",
    "            if array[i][j][0] == index:\n",
    "                return (i, j)\n",
    "    return None\n",
    "\n",
    "def move_all_fishes(array, now_x, now_y):\n",
    "    for i in range(1, 17):\n",
    "        position = find_fish(array, i)\n",
    "        if position != None:\n",
    "            x, y = postiion[0], position[1]\n",
    "            direction = array[x][y][1]\n",
    "            for j in range(8):\n",
    "                nx = x + dx[direction]\n",
    "                ny = y + dy[direction]\n",
    "                if 0 <= nx < 4 and 0 <= ny < 4:\n",
    "                    if not(nx == now_x and ny == now_y):\n",
    "                        array[x][y][1] = direction\n",
    "                        array[x][y], array[nx][ny] = array[nx][ny], array[x][y]\n",
    "                        break\n",
    "                direction = turn_left(direction)\n",
    "                \n",
    "def get_possible_positions(array, now_x, now_y):\n",
    "    positions = []\n",
    "    direction = array[now_x][now_y][1]\n",
    "    for i in range(4):\n",
    "        now_x += dx[direction]\n",
    "        now_y += dy[direction]\n",
    "        if 0 <= now_x < 4 and 0 <= now_y < 4:\n",
    "            if array[now_x][now_y][0] != -1:\n",
    "                positions.append((now_x, now_y))\n",
    "    return positions\n",
    "\n",
    "def dfs(array, now_x, now_y, total):\n",
    "    global result\n",
    "    array = copy.deepcopy(array)\n",
    "    total += array[now_x][now_y][0]\n",
    "    array[now_x][now_y][0] = -1\n",
    "    move_all_fishes(array, now_x, now_y)\n",
    "    positions = get_possible_positions(array, now_x, now_y)\n",
    "    if len(positions) == 0:\n",
    "        result = max(result, total)\n",
    "        return\n",
    "    for next_x, next_y in positions:\n",
    "        dfs(array, next_x, next_y, total)\n",
    "dfs(array, 0, 0, 0)\n",
    "print(result)"
   ]
  },
  {
   "cell_type": "markdown",
   "id": "6fed9432",
   "metadata": {},
   "source": [
    "# 정답 확인 후 생각"
   ]
  },
  {
   "cell_type": "code",
   "execution_count": null,
   "id": "da3cba72",
   "metadata": {},
   "outputs": [],
   "source": [
    "\"\"\"\"\"\"\"\"\"\"\n",
    "1. 상어의 방향을 graph[now_x][now_y][1]로 구한다.\n",
    "\n",
    "2. 왼쪽으로 회전하는 것을 따로 함수로 구현한다.\n",
    "\n",
    "3. 상어가  이동 가능한 위치를 리스트에 따로 저장하는 함수를 만들고 그 길이가 0일 때만 result 값을 갱신한다.\n",
    "\n",
    "4. bfs가 아닌 dfs를 이용했고, deepcopy를 이용해서 인자로 graph를 넘겨주지 않아도 된다.\n",
    "\"\"\"\"\"\"\"\"\"\""
   ]
  }
 ],
 "metadata": {
  "kernelspec": {
   "display_name": "Python 3 (ipykernel)",
   "language": "python",
   "name": "python3"
  },
  "language_info": {
   "codemirror_mode": {
    "name": "ipython",
    "version": 3
   },
   "file_extension": ".py",
   "mimetype": "text/x-python",
   "name": "python",
   "nbconvert_exporter": "python",
   "pygments_lexer": "ipython3",
   "version": "3.7.13"
  }
 },
 "nbformat": 4,
 "nbformat_minor": 5
}
