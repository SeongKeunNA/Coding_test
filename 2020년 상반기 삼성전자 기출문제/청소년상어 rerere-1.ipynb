{
 "cells": [
  {
   "cell_type": "markdown",
   "id": "01acef52",
   "metadata": {},
   "source": [
    "# 코딩 전 생각"
   ]
  },
  {
   "cell_type": "code",
   "execution_count": null,
   "id": "fad38ae0",
   "metadata": {},
   "outputs": [],
   "source": [
    "\"\"\"\"\"\"\"\"\"\"\n",
    "1. fishes 리스트에 물고기들의 초기 상태 입력\n",
    "\n",
    "2. 0,0 위치의 물고기 정보 삭제하고 상어를 위치시킴. 방향은 기존 물고기의 방향 (now_x, now_y, now_d)\n",
    "\n",
    "3. q에 현재 fishes 리스트와 0(먹은 물고기 번호의 합)을 넣는다.\n",
    "\n",
    "\n",
    "4.  answer = 0\n",
    "    while q:\n",
    "        ate, fishes = q.popleft()\n",
    "        answer = max(ate, answer)\n",
    "        fishes = move(fishes) # 물고기 이동 후 그래프\n",
    "        targets = find_fishes(now_x, now_y, now_d, fishes) # 해당 방향으로 먹을 수 있는 물고기 정보를 담은 리스트 반환\n",
    "        for t in targets:\n",
    "            x, y, n, d = t\n",
    "            fishes.remove((x, y, n, d))\n",
    "            q.append((ate + d, fishes[:]))\n",
    "            fishes.append((x, y, n , d))\n",
    "            \n",
    "5. move() 함수와 find_fishes 함수 구현\n",
    "\"\"\"\"\"\"\"\"\"\""
   ]
  },
  {
   "cell_type": "markdown",
   "id": "0e7afb70",
   "metadata": {},
   "source": [
    "# 내 답안"
   ]
  },
  {
   "cell_type": "code",
   "execution_count": 22,
   "id": "6d5941f6",
   "metadata": {},
   "outputs": [
    {
     "name": "stdout",
     "output_type": "stream",
     "text": [
      "7 6 2 3 15 6 9 8\n",
      "3 1 1 8 14 7 10 1\n",
      "6 1 13 6 4 3 11 4\n",
      "16 1 8 7 5 2 12 2\n",
      "fishes: [[1, 1, 1, 8], [0, 1, 2, 3], [1, 0, 3, 1], [2, 2, 4, 3], [3, 2, 5, 2], [2, 0, 6, 1], [3, 1, 8, 7], [0, 3, 9, 8], [1, 3, 10, 1], [2, 3, 11, 4], [3, 3, 12, 2], [2, 1, 13, 6], [1, 2, 14, 7], [0, 2, 15, 6], [3, 0, 16, 1]]\n",
      "fishes: [[0, 2, 1, 6], [0, 1, 2, 3], [1, 0, 3, 1], [2, 2, 4, 3], [3, 2, 5, 2], [2, 0, 6, 1], [3, 1, 8, 7], [0, 3, 9, 8], [1, 3, 10, 1], [2, 3, 11, 4], [3, 3, 12, 2], [2, 1, 13, 6], [1, 2, 14, 7], [1, 1, 15, 8], [3, 0, 16, 1]]\n",
      "fishes: [[0, 2, 1, 6], [1, 0, 2, 1], [0, 1, 3, 3], [2, 2, 4, 3], [3, 2, 5, 2], [2, 0, 6, 1], [3, 1, 8, 7], [0, 3, 9, 8], [1, 3, 10, 1], [2, 3, 11, 4], [3, 3, 12, 2], [2, 1, 13, 6], [1, 2, 14, 7], [1, 1, 15, 8], [3, 0, 16, 1]]\n",
      "fishes: [[0, 2, 1, 6], [0, 1, 2, 3], [1, 0, 3, 1], [2, 2, 4, 3], [3, 2, 5, 2], [2, 0, 6, 1], [3, 1, 8, 7], [0, 3, 9, 8], [1, 3, 10, 1], [2, 3, 11, 4], [3, 3, 12, 2], [2, 1, 13, 6], [1, 2, 14, 7], [1, 1, 15, 8], [3, 0, 16, 1]]\n",
      "fishes: [[0, 2, 1, 6], [0, 1, 2, 3], [1, 0, 3, 1], [2, 1, 4, 6], [3, 2, 5, 2], [2, 0, 6, 1], [3, 1, 8, 7], [0, 3, 9, 8], [1, 3, 10, 1], [2, 3, 11, 4], [3, 3, 12, 2], [2, 2, 13, 3], [1, 2, 14, 7], [1, 1, 15, 8], [3, 0, 16, 1]]\n",
      "fishes: [[0, 2, 1, 6], [0, 1, 2, 3], [1, 0, 3, 1], [3, 2, 4, 2], [2, 1, 5, 6], [2, 0, 6, 1], [3, 1, 8, 7], [0, 3, 9, 8], [1, 3, 10, 1], [2, 3, 11, 4], [3, 3, 12, 2], [2, 2, 13, 3], [1, 2, 14, 7], [1, 1, 15, 8], [3, 0, 16, 1]]\n",
      "fishes: [[0, 2, 1, 6], [0, 1, 2, 3], [2, 0, 3, 1], [3, 2, 4, 2], [2, 1, 5, 6], [1, 0, 6, 1], [3, 1, 8, 7], [0, 3, 9, 8], [1, 3, 10, 1], [2, 3, 11, 4], [3, 3, 12, 2], [2, 2, 13, 3], [1, 2, 14, 7], [1, 1, 15, 8], [3, 0, 16, 1]]\n",
      "fishes: [[0, 2, 1, 6], [0, 1, 2, 3], [2, 0, 3, 1], [3, 1, 4, 7], [2, 1, 5, 6], [1, 0, 6, 1], [3, 2, 8, 2], [0, 3, 9, 8], [1, 3, 10, 1], [2, 3, 11, 4], [3, 3, 12, 2], [2, 2, 13, 3], [1, 2, 14, 7], [1, 1, 15, 8], [3, 0, 16, 1]]\n",
      "fishes: [[0, 3, 1, 8], [0, 1, 2, 3], [2, 0, 3, 1], [3, 1, 4, 7], [2, 1, 5, 6], [1, 0, 6, 1], [3, 2, 8, 2], [0, 2, 9, 6], [1, 3, 10, 1], [2, 3, 11, 4], [3, 3, 12, 2], [2, 2, 13, 3], [1, 2, 14, 7], [1, 1, 15, 8], [3, 0, 16, 1]]\n",
      "fishes: [[1, 3, 1, 1], [0, 1, 2, 3], [2, 0, 3, 1], [3, 1, 4, 7], [2, 1, 5, 6], [1, 0, 6, 1], [3, 2, 8, 2], [0, 2, 9, 6], [0, 3, 10, 8], [2, 3, 11, 4], [3, 3, 12, 2], [2, 2, 13, 3], [1, 2, 14, 7], [1, 1, 15, 8], [3, 0, 16, 1]]\n",
      "fishes: [[1, 3, 1, 1], [0, 1, 2, 3], [2, 0, 3, 1], [3, 1, 4, 7], [2, 1, 5, 6], [1, 0, 6, 1], [2, 3, 8, 4], [0, 2, 9, 6], [0, 3, 10, 8], [3, 2, 11, 2], [3, 3, 12, 2], [2, 2, 13, 3], [1, 2, 14, 7], [1, 1, 15, 8], [3, 0, 16, 1]]\n",
      "fishes: [[1, 3, 1, 1], [0, 1, 2, 3], [2, 0, 3, 1], [3, 1, 4, 7], [2, 1, 5, 6], [1, 0, 6, 1], [2, 3, 8, 4], [0, 2, 9, 6], [0, 3, 10, 8], [3, 2, 11, 2], [2, 2, 12, 3], [3, 3, 13, 2], [1, 2, 14, 7], [1, 1, 15, 8], [3, 0, 16, 1]]\n",
      "fishes: [[1, 3, 1, 1], [0, 1, 2, 3], [2, 0, 3, 1], [3, 1, 4, 7], [2, 1, 5, 6], [1, 0, 6, 1], [2, 3, 8, 4], [0, 2, 9, 6], [0, 3, 10, 8], [3, 2, 11, 2], [3, 3, 12, 2], [2, 2, 13, 3], [1, 2, 14, 7], [1, 1, 15, 8], [3, 0, 16, 1]]\n",
      "fishes: [[1, 2, 1, 7], [0, 1, 2, 3], [2, 0, 3, 1], [3, 1, 4, 7], [2, 1, 5, 6], [1, 0, 6, 1], [2, 3, 8, 4], [0, 2, 9, 6], [0, 3, 10, 8], [3, 2, 11, 2], [3, 3, 12, 2], [2, 2, 13, 3], [1, 3, 14, 1], [1, 1, 15, 8], [3, 0, 16, 1]]\n",
      "fishes: [[1, 2, 1, 7], [0, 1, 2, 3], [2, 0, 3, 1], [3, 1, 4, 7], [2, 1, 5, 6], [1, 0, 6, 1], [2, 3, 8, 4], [1, 1, 9, 8], [0, 3, 10, 8], [3, 2, 11, 2], [3, 3, 12, 2], [2, 2, 13, 3], [1, 3, 14, 1], [0, 2, 15, 6], [3, 0, 16, 1]]\n",
      "7\n"
     ]
    }
   ],
   "source": [
    "from collections import deque\n",
    "def move(now_x, now_y, fishes):\n",
    "    ck = 0\n",
    "    for i in range(len(fishes)):\n",
    "        fishes.sort(key = lambda x : x[2])\n",
    "        print('fishes:',fishes)\n",
    "        x, y, n, d = fishes[i]\n",
    "        for j in range(d - 1, d + 7):\n",
    "            if ck == 1:\n",
    "                ck = 0\n",
    "                break\n",
    "            nx = x + dx[j%8]\n",
    "            ny = y + dy[j%8]\n",
    "            if 0 <= nx < 4 and 0 <= ny < 4:\n",
    "                if nx != now_x or ny != now_y:\n",
    "                    for fi in fishes:\n",
    "                        if fi[0] == nx and fi[1] == ny:\n",
    "                            fi[2], fishes[i][2] = fishes[i][2], fi[2]\n",
    "                            ck = 1\n",
    "                            break\n",
    "                    else:\n",
    "                        fishes[i][0] = nx\n",
    "                        fishes[i][1] = ny\n",
    "                        break\n",
    "    return fishes\n",
    "\n",
    "def process(now_x, now_y, now_d, fishes):\n",
    "    fishes = move(now_x, now_y, fishes)\n",
    "    targets = []\n",
    "    nx = now_x + dx[(now_d - 1)%8]\n",
    "    ny = now_y + dy[(now_d - 1)%8]\n",
    "    while 0 <= nx < 4 and 0 <= ny < 4:\n",
    "        for f in fishes:\n",
    "            if f[0] == nx and f[1] == ny:\n",
    "                targets.append(f)\n",
    "                break\n",
    "        nx += dx[(now_d - 1)%8]\n",
    "        ny += dy[(now_d - 1)%8]\n",
    "    return targets\n",
    "                        \n",
    "fishes = []\n",
    "dx = [-1, -1, 0, 1, 1, 1, 0, -1]\n",
    "dy = [0, -1, -1, -1, 0, 1, 1, 1]\n",
    "for i in range(4):\n",
    "    data = list(map(int, input().split()))\n",
    "    for j in range(0, 8, 2):\n",
    "        if i == 0 and j == 0:\n",
    "            now_x = i\n",
    "            now_y = j\n",
    "            ate = data[j]\n",
    "            now_d = data[j + 1]\n",
    "            continue\n",
    "        fishes.append([i, j//2, data[j], data[j + 1]])\n",
    "fishes.sort(key = lambda x:x[2])\n",
    "q = deque([(now_x, now_y, ate, now_d, fishes)])\n",
    "answer = 0 \n",
    "while q:\n",
    "    now_x, now_y, ate, now_d, fishes = q.popleft()\n",
    "    answer = max(ate, answer)\n",
    "    targets = []\n",
    "    targets = process(now_x, now_y, now_d, fishes) # 해당 방향으로 먹을 수 있는 물고기 정보를 담은 리스트 반환\n",
    "    break\n",
    "    for t in targets:\n",
    "        print('taregets:',targets)\n",
    "        x, y, n, d = t\n",
    "        new_fishes = [f for f in fishes]\n",
    "        new_fishes.remove(t)\n",
    "        q.append((x, y, ate + n, d, new_fishes))\n",
    "print(answer)"
   ]
  },
  {
   "cell_type": "markdown",
   "id": "470eae98",
   "metadata": {},
   "source": [
    "# 답안 작성 후 생각"
   ]
  },
  {
   "cell_type": "code",
   "execution_count": null,
   "id": "15c6974c",
   "metadata": {},
   "outputs": [],
   "source": [
    "\"\"\"\"\"\"\"\"\"\"\n",
    "그래프 정보를 이용하지 않고 풀어보려고 했는데 물고기들의 이동 함수 구현 시 for 문에서 조건에 맞는 값(이동할 물고기)를 찾을 수가 없다.\n",
    "\"\"\"\"\"\"\"\"\"\""
   ]
  }
 ],
 "metadata": {
  "kernelspec": {
   "display_name": "Python 3 (ipykernel)",
   "language": "python",
   "name": "python3"
  },
  "language_info": {
   "codemirror_mode": {
    "name": "ipython",
    "version": 3
   },
   "file_extension": ".py",
   "mimetype": "text/x-python",
   "name": "python",
   "nbconvert_exporter": "python",
   "pygments_lexer": "ipython3",
   "version": "3.7.13"
  }
 },
 "nbformat": 4,
 "nbformat_minor": 5
}
