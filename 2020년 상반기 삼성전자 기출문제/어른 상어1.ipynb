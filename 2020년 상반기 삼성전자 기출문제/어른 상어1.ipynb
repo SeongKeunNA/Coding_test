{
 "cells": [
  {
   "cell_type": "markdown",
   "id": "6ecee216",
   "metadata": {},
   "source": [
    "# 코딩 전 생각"
   ]
  },
  {
   "cell_type": "code",
   "execution_count": 3,
   "id": "79467229",
   "metadata": {},
   "outputs": [
    {
     "data": {
      "text/plain": [
       "[98, 4]"
      ]
     },
     "execution_count": 3,
     "metadata": {},
     "output_type": "execute_result"
    }
   ],
   "source": [
    "a = [[0,1,3,4,5],[7,98,4,2,3]]\n",
    "a[1][1:3]"
   ]
  },
  {
   "cell_type": "code",
   "execution_count": 1,
   "id": "23b7e3ec",
   "metadata": {},
   "outputs": [
    {
     "ename": "SyntaxError",
     "evalue": "EOL while scanning string literal (Temp/ipykernel_30000/2581256423.py, line 22)",
     "output_type": "error",
     "traceback": [
      "\u001b[1;36m  File \u001b[1;32m\"C:\\Users\\NAJONG~1\\AppData\\Local\\Temp/ipykernel_30000/2581256423.py\"\u001b[1;36m, line \u001b[1;32m22\u001b[0m\n\u001b[1;33m    \"\"\"\"\"\"\"\"\"\"\u001b[0m\n\u001b[1;37m              \n^\u001b[0m\n\u001b[1;31mSyntaxError\u001b[0m\u001b[1;31m:\u001b[0m EOL while scanning string literal\n"
     ]
    }
   ],
   "source": [
    "\"\"\"\"\"\"\"\"\"\"\n",
    "1. 그래프에 초기 데이터 입력\n",
    "\n",
    "[해당 위치에 존재하는 상어의 번호(없을 경우 0), 해당 위치에 존재하는 상어의 방향(없을 경우 0), \n",
    "해당 칸에 존재하는 냄새의 주인인 상어의 번호, 냄새의 잔여 시간]\n",
    "\n",
    "2. 우선 순위표 입력 \n",
    "[[[1번 상어의 위쪽 방향 우선 순위 4개], [1번 상어의 아래쪽 방향 우선 순위 4개], ...[1번 상어의 오른쪽 방향 우선 순위4개]\n",
    ", [[2번 상어의 위쪽 방향 우선 순위 4개], ...], [m번 상어의 오른쪽 방향 우선순위 4개]]]\n",
    "\n",
    "3. process 함수 작성\n",
    "for x in range(n):\n",
    "    for y in range(n):\n",
    "        if graph[x][y][0] != -1:\n",
    "            blank = []\n",
    "            ones_own = []\n",
    "            for i in range(4):\n",
    "                nx = x + dx[i]\n",
    "                ny = y + dy[i]\n",
    "                if 0 <= nx < n and 0 <= ny < n:\n",
    "                    if graph[nx][ny][2] == -1:\n",
    "                        blank.append((i, nx, ny))\n",
    "                    if graph[nx][ny][2] == graph[x][y][2]:\n",
    "                        ones_own.append((i, nx, ny)\n",
    "            for b in blank:\n",
    "                if ck == 1:\n",
    "                    break\n",
    "                for p in priority[graph[x][y][0]][graph[x][y][1]]:\n",
    "                    if p == b[0]:\n",
    "                        if graph[b[1]][b[2]][0] == -1:\n",
    "                            graph[b[1]][b[2]][0:2], graph[x][y][0:2] = graph[x][y], [-1,-1]\n",
    "                            ck = 1\n",
    "                            break\n",
    "                        elif graph[b[1]][b[2]][0] > graph[x][y][0]:\n",
    "                            graph[b[1]][b[2]][0:2], graph[x][y][0:2] = graph[x][y][0:2], [-1,-1]\n",
    "                            ck = 1\n",
    "                            break\n",
    "                        \n",
    "            if ck == 1:\n",
    "                 continue\n",
    "                 \n",
    "            else:\n",
    "                for o in ones_own:\n",
    "                    if ck == 1:\n",
    "                        break\n",
    "                    for p in priority[graph[x][y][0]][graph[x][y][1]]:\n",
    "                        if p == o[0]:\n",
    "                            graph[o[1]][o[2]], graph[x][y] = graph[x][y], [-1,-1, graph[x][y][2]]\n",
    "                            ck = 1\n",
    "                            break\n",
    "                            \n",
    "                    \n",
    "# 기존에 존재하는 냄새의 지속시간을 1초 감소시킴,\n",
    "\n",
    "만약 지속시간이 1초라면 냄새와 냄새의 지속시간을 모두 -1로 초기화\n",
    "\n",
    "모든 상어가 현재 위치에서 냄새를 남기고,\n",
    "\n",
    "만약 상어가 한 마리만 남아 있을 경우 break하고 현재 시간 출력\n",
    "\n",
    "만약 현재 시간이 1000이 넘었는데 프로그램이 종료하지 않았을 경우 break 하고 -1 출력\n",
    "\n",
    "\"\"\"\"\"\"\"\"\"\""
   ]
  },
  {
   "cell_type": "markdown",
   "id": "8a32dbca",
   "metadata": {},
   "source": [
    "# 내 답안"
   ]
  },
  {
   "cell_type": "code",
   "execution_count": 18,
   "id": "45d8f22c",
   "metadata": {},
   "outputs": [
    {
     "data": {
      "text/plain": [
       "[[[-1, -1, -1, -1], [-1, -1, -1, -1], [-1, -1, -1, -1], [-1, -1, -1, -1]],\n",
       " [[-1, -1, -1, -1], [-1, -1, -1, -1], [-1, 0, 0, 0], [-1, -1, -1, -1]],\n",
       " [[-1, -1, -1, -1], [-1, -1, -1, -1], [-1, -1, -1, -1], [-1, -1, -1, -1]],\n",
       " [[-1, -1, -1, -1], [-1, -1, -1, -1], [-1, -1, -1, -1], [-1, -1, -1, -1]]]"
      ]
     },
     "execution_count": 18,
     "metadata": {},
     "output_type": "execute_result"
    }
   ],
   "source": [
    "graph = [[[-1] * 4 for _ in range(n)] for _ in range(n)]\n",
    "graph[1][2] = [-1,0,0,0]\n",
    "graph"
   ]
  },
  {
   "cell_type": "code",
   "execution_count": 76,
   "id": "01ca2c4d",
   "metadata": {
    "scrolled": false
   },
   "outputs": [
    {
     "name": "stdout",
     "output_type": "stream",
     "text": [
      "4 2 6\n",
      "1 0 0 0\n",
      "0 0 0 0\n",
      "0 0 0 0\n",
      "0 0 0 2\n",
      "4 3\n",
      "1 2 3 4\n",
      "2 3 4 1\n",
      "3 4 1 2\n",
      "4 1 2 3\n",
      "1 2 3 4\n",
      "2 3 4 1\n",
      "3 4 1 2\n",
      "4 1 2 3\n",
      "cnt: 0\n",
      "graph: [[[1, 4, 1, 6], [-1, -1, -1, -1], [-1, -1, -1, -1], [-1, -1, -1, -1]], [[-1, -1, -1, -1], [-1, -1, -1, -1], [-1, -1, -1, -1], [-1, -1, -1, -1]], [[-1, -1, -1, -1], [-1, -1, -1, -1], [-1, -1, -1, -1], [-1, -1, -1, -1]], [[-1, -1, -1, -1], [-1, -1, -1, -1], [-1, -1, -1, -1], [2, 3, 2, 6]]]\n",
      "cnt: 1\n",
      "graph: [[[-1, -1, 1, 5], [-1, -1, -1, -1], [1, 4, 1, 6], [-1, -1, -1, -1]], [[-1, -1, -1, -1], [-1, -1, -1, -1], [-1, -1, -1, -1], [-1, -1, -1, -1]], [[-1, -1, -1, -1], [-1, -1, -1, -1], [-1, -1, -1, -1], [-1, -1, -1, -1]], [[-1, -1, -1, -1], [-1, -1, -1, -1], [-1, -1, -1, -1], [2, 3, 2, 6]]]\n",
      "cnt: 2\n",
      "graph: [[[-1, -1, 1, 4], [-1, -1, -1, -1], [-1, -1, 1, 5], [-1, -1, -1, -1]], [[-1, -1, -1, -1], [-1, -1, -1, -1], [-1, -1, -1, -1], [1, 4, 1, 6]], [[-1, -1, -1, -1], [-1, -1, -1, -1], [-1, -1, -1, -1], [-1, -1, -1, -1]], [[-1, -1, -1, -1], [-1, -1, -1, -1], [-1, -1, -1, -1], [2, 3, 2, 6]]]\n",
      "cnt: 3\n",
      "graph: [[[-1, -1, 1, 3], [-1, -1, -1, -1], [-1, -1, 1, 4], [1, 4, 1, 6]], [[-1, -1, -1, -1], [-1, -1, -1, -1], [-1, -1, -1, -1], [-1, -1, 1, 5]], [[-1, -1, -1, -1], [-1, -1, -1, -1], [-1, -1, -1, -1], [-1, -1, -1, -1]], [[-1, -1, -1, -1], [-1, -1, -1, -1], [-1, -1, -1, -1], [2, 3, 2, 6]]]\n",
      "cnt: 4\n",
      "graph: [[[-1, -1, 1, 2], [-1, -1, -1, -1], [-1, -1, 1, 3], [-1, -1, 1, 5]], [[-1, -1, -1, -1], [-1, -1, -1, -1], [-1, -1, -1, -1], [-1, -1, 1, 4]], [[-1, -1, -1, -1], [-1, -1, -1, -1], [-1, -1, -1, -1], [1, 4, 1, 6]], [[-1, -1, -1, -1], [-1, -1, -1, -1], [-1, -1, -1, -1], [2, 3, 2, 6]]]\n",
      "cnt: 5\n",
      "graph: [[[-1, -1, 1, 1], [-1, -1, -1, -1], [-1, -1, 1, 2], [-1, -1, 1, 4]], [[-1, -1, -1, -1], [-1, -1, -1, -1], [1, 4, 1, 6], [-1, -1, 1, 3]], [[-1, -1, -1, -1], [-1, -1, -1, -1], [-1, -1, -1, -1], [-1, -1, 1, 5]], [[-1, -1, -1, -1], [-1, -1, -1, -1], [-1, -1, -1, -1], [2, 3, 2, 6]]]\n",
      "cnt: 6\n",
      "graph: [[[-1, -1, -1, -1], [-1, -1, -1, -1], [-1, -1, 1, 1], [-1, -1, 1, 3]], [[-1, -1, -1, -1], [-1, -1, -1, -1], [-1, -1, 1, 5], [-1, -1, 1, 2]], [[-1, -1, -1, -1], [-1, -1, -1, -1], [-1, -1, -1, -1], [-1, -1, 1, 4]], [[-1, -1, -1, -1], [-1, -1, -1, -1], [1, 4, 1, 6], [2, 3, 2, 6]]]\n",
      "cnt: 7\n",
      "graph: [[[-1, -1, -1, -1], [-1, -1, -1, -1], [-1, -1, -1, -1], [-1, -1, 1, 2]], [[-1, -1, -1, -1], [-1, -1, -1, -1], [-1, -1, 1, 4], [-1, -1, 1, 1]], [[-1, -1, -1, -1], [1, 4, 1, 6], [-1, -1, -1, -1], [-1, -1, 1, 3]], [[-1, -1, -1, -1], [-1, -1, -1, -1], [-1, -1, 1, 5], [2, 3, 2, 6]]]\n",
      "cnt: 8\n",
      "graph: [[[-1, -1, -1, -1], [-1, -1, -1, -1], [-1, -1, -1, -1], [-1, -1, 1, 1]], [[-1, -1, -1, -1], [-1, -1, -1, -1], [-1, -1, 1, 3], [-1, -1, -1, -1]], [[-1, -1, -1, -1], [-1, -1, 1, 5], [1, 4, 1, 6], [-1, -1, 1, 2]], [[-1, -1, -1, -1], [-1, -1, -1, -1], [-1, -1, 1, 4], [2, 3, 2, 6]]]\n",
      "cnt: 9\n",
      "graph: [[[-1, -1, -1, -1], [-1, -1, -1, -1], [-1, -1, -1, -1], [-1, -1, -1, -1]], [[-1, -1, -1, -1], [-1, -1, -1, -1], [-1, -1, 1, 2], [1, 4, 1, 6]], [[-1, -1, -1, -1], [-1, -1, 1, 4], [-1, -1, 1, 5], [-1, -1, 1, 1]], [[-1, -1, -1, -1], [-1, -1, -1, -1], [-1, -1, 1, 3], [2, 3, 2, 6]]]\n"
     ]
    }
   ],
   "source": [
    "n, m, k = map(int, input().split())\n",
    "graph = [[[-1] * 4 for _ in range(n)] for _ in range(n)]\n",
    "priority = [[] for _ in range(n)]\n",
    "shark = []\n",
    "for i in range(n):\n",
    "    data = list(map(int, input().split()))\n",
    "    for j in range(n):\n",
    "        if data[j] != 0:\n",
    "            graph[i][j][0] = data[j]\n",
    "            graph[i][j][2] = data[j]\n",
    "            graph[i][j][3] = k\n",
    "            shark.append((i,j))\n",
    "            \n",
    "d = list(map(int, input().split()))\n",
    "for i in range(m):\n",
    "    graph[shark[i][0]][shark[i][1]][1] = d[i]\n",
    "    \n",
    "for i in range(m):\n",
    "    for _ in range(4):\n",
    "           priority[i].append(list(map(int, input().split())))\n",
    "            \n",
    "dx = [0, -1, 1, 0, 0]\n",
    "dy = [0, 0, 0, -1, 1]\n",
    "\n",
    "def find_shark(q, n, m, graph):\n",
    "    for q in range(1, m+1):\n",
    "        for x in range(n):\n",
    "            for y in range(n):\n",
    "                if graph[x][y][0] == q:\n",
    "                    return (x,y)\n",
    "\n",
    "\n",
    "def process(graph, priority):\n",
    "    cnt = 0\n",
    "    for _ in range(10):\n",
    "        print('cnt:', cnt)\n",
    "        print('graph:', graph)\n",
    "        for q in range(1, m+1):\n",
    "            x, y = find_shark(q, n, m, graph)\n",
    "            for pp in priority[graph[x][y][0]-1][graph[x][y][1]-1]:\n",
    "                nx = x + dx[pp]\n",
    "                ny = y + dy[pp]\n",
    "                if 0 <= nx < n and 0 <= ny < n:\n",
    "                    if graph[nx][ny][2] == -1:\n",
    "                        if graph[nx][ny][0] == -1 or graph[nx][ny][0] > graph[x][y][0]:\n",
    "                            graph[nx][ny][0], graph[x][y][0] = graph[x][y][0], -1\n",
    "                            graph[nx][ny][1], graph[x][y][1] = graph[x][y][1], -1\n",
    "                            break\n",
    "            else: \n",
    "                for pp in priority[graph[x][y][0]][graph[x][y][1]-1]:\n",
    "                    nx = x + dx[pp]\n",
    "                    ny = y + dy[pp]\n",
    "                    if 0 <= nx < n and 0 <= ny < n:        \n",
    "                        if graph[nx][ny][2] == graph[x][y][2]:\n",
    "                            graph[nx][ny][0], graph[x][y][0] = graph[x][y][0], -1\n",
    "                            graph[nx][ny][1], graph[x][y][1] = graph[x][y][1], -1\n",
    "                            break\n",
    "                                        \n",
    "        shark_num = 0\n",
    "        for x in range(n):\n",
    "            for y in range(n):\n",
    "                if graph[x][y][0] != -1:\n",
    "                    graph[x][y][2] = graph[x][y][0]\n",
    "                    graph[x][y][3] = k\n",
    "                    shark_num += 1\n",
    "                    \n",
    "                elif graph[x][y][2] != -1:\n",
    "                    if graph[x][y][3] == 1:\n",
    "                        graph[x][y][2] = -1\n",
    "                        graph[x][y][3] = -1\n",
    "                    else:\n",
    "                        graph[x][y][3] -= 1\n",
    "        cnt += 1\n",
    "        if shark_num == 1:\n",
    "            print(cnt)\n",
    "            break\n",
    "        elif cnt == 1000:\n",
    "            print(-1)\n",
    "            break\n",
    "process(graph, priority)"
   ]
  }
 ],
 "metadata": {
  "kernelspec": {
   "display_name": "pytorch",
   "language": "python",
   "name": "pt1.1"
  },
  "language_info": {
   "codemirror_mode": {
    "name": "ipython",
    "version": 3
   },
   "file_extension": ".py",
   "mimetype": "text/x-python",
   "name": "python",
   "nbconvert_exporter": "python",
   "pygments_lexer": "ipython3",
   "version": "3.9.7"
  }
 },
 "nbformat": 4,
 "nbformat_minor": 5
}
