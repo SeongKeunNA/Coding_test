{
 "cells": [
  {
   "cell_type": "markdown",
   "id": "5fa8786c",
   "metadata": {},
   "source": [
    "# 코딩 전 생각"
   ]
  },
  {
   "cell_type": "code",
   "execution_count": null,
   "id": "61cf9a62",
   "metadata": {},
   "outputs": [],
   "source": [
    "\"\"\"\"\"\"\"\"\"\"\n",
    "DFS와 그래프를 이용해 풀어보고자한다.\n",
    "\n",
    "1. 그래프에 정보 입력(물고기의 번호, 물고기의 방향)\n",
    "\n",
    "2. 방향 정보 표현을 위한 dx, dy 리스트 구현\n",
    "\n",
    "3. 상어의 현재 위치와 방향 변수 선언(now_x, now_y, ate, now_d) 및 그래프의 [0,0] 을  [0,0]으로 초기화\n",
    "\n",
    "4. dfs(now_x, now_y, now_d, ate, graph) 함수 선언\n",
    "    answer = max(answer, ate)\n",
    "    while True:\n",
    "        move() # 물고기들의 이동 함수\n",
    "        targets = find_fish() # 사냥 가능한 물고기들의 리스트 반환하는 함수\n",
    "        if targets == None:\n",
    "            return\n",
    "        for t in targets:\n",
    "            x, y, n, d = t\n",
    "            graph[x][y] = (0, 0)\n",
    "            dfs(x, y, d, ate+n, graph)\n",
    "            graph[x][y] = (n, d)\n",
    "        return\n",
    "        \n",
    "5. move() 함수 구현\n",
    "\n",
    "6. find_fish() 함수 구현\n",
    "\"\"\"\"\"\"\"\"\"\""
   ]
  },
  {
   "cell_type": "markdown",
   "id": "797faa0a",
   "metadata": {},
   "source": [
    "# 내 답안"
   ]
  },
  {
   "cell_type": "code",
   "execution_count": 6,
   "id": "58cf9018",
   "metadata": {},
   "outputs": [
    {
     "data": {
      "text/plain": [
       "[[[], [], [], []], [[], [], [], []], [[], [], [], []], [[], [], [], []]]"
      ]
     },
     "execution_count": 6,
     "metadata": {},
     "output_type": "execute_result"
    }
   ],
   "source": [
    "graph = [[[] for _ in range(4)] for _ in range(4)]\n",
    "graph"
   ]
  },
  {
   "cell_type": "code",
   "execution_count": 56,
   "id": "11559267",
   "metadata": {
    "scrolled": false
   },
   "outputs": [
    {
     "name": "stdout",
     "output_type": "stream",
     "text": [
      "16 7 1 4 4 3 12 8\n",
      "14 7 7 6 3 4 10 2\n",
      "5 2 15 2 8 3 6 4\n",
      "11 8 2 4 13 5 9 4\n",
      "37\n"
     ]
    }
   ],
   "source": [
    "graph = [[[] for _ in range(4)] for _ in range(4)]\n",
    "for i in range(4):\n",
    "    data = list(map(int, input().split()))\n",
    "    for j in range(0, 8, 2):        \n",
    "        graph[i][j//2] = [data[j], data[j + 1]]\n",
    "        \n",
    "dx = [-1, -1, 0, 1, 1, 1, 0, -1]\n",
    "dy = [0, -1, -1, -1, 0, 1, 1, 1]\n",
    "\n",
    "ate = graph[0][0][0]\n",
    "graph[0][0][0] = -1\n",
    "\n",
    "def move(graph):\n",
    "    for i in range(1, 16):\n",
    "        fish = find(graph, i)\n",
    "        if fish == None:\n",
    "            continue                \n",
    "        x, y, n, d = fish\n",
    "        for j in range(d - 1, d + 7):\n",
    "            nx = x + dx[j % 8]\n",
    "            ny = y + dy[j % 8]\n",
    "            if 0 <= nx < 4  and 0 <= ny < 4:\n",
    "                if graph[nx][ny][0] != -1:\n",
    "                    graph[nx][ny], graph[x][y] = graph[x][y], graph[nx][ny]\n",
    "                    graph[nx][ny][1] = (j % 8) + 1\n",
    "                    break\n",
    "    return graph\n",
    "\n",
    "def find(graph, w):\n",
    "    for i in range(4):\n",
    "        for j in range(4):\n",
    "            if graph[i][j][0] == w:\n",
    "                return (i, j, graph[i][j][0], graph[i][j][1])\n",
    "\n",
    "def possible(graph):\n",
    "    targets = []\n",
    "    now_x, now_y, _, now_d = find(graph, -1)\n",
    "    nx = now_x + dx[(now_d - 1) % 8]\n",
    "    ny = now_y + dy[(now_d - 1) % 8]\n",
    "    while 0 <= nx < 4 and 0 <= ny < 4:\n",
    "        if graph[nx][ny][0] > 0:\n",
    "            targets.append((nx, ny, graph[nx][ny][0], graph[nx][ny][1]))\n",
    "        nx += dx[(now_d - 1) % 8]\n",
    "        ny += dy[(now_d - 1) % 8]\n",
    "    return targets\n",
    "\n",
    "answer = 0\n",
    "def dfs(ate, graph):\n",
    "    temp = [g for g in graph]\n",
    "    global answer\n",
    "    graph = move(graph)\n",
    "    targets = possible(graph)\n",
    "    now_x, now_y, _, now_d = find(graph, -1)\n",
    "    if len(targets) == 0:\n",
    "        answer = max(answer, ate)\n",
    "        return\n",
    "    for t in targets:\n",
    "        x, y, n, d = t\n",
    "        graph[now_x][now_y] = [0, 0]\n",
    "        graph[x][y] = [-1, d]\n",
    "        dfs(ate + n, graph)\n",
    "        graph[x][y] = [n, d]\n",
    "        graph[now_x][now_y] = [-1, now_d]\n",
    "    return\n",
    "dfs(ate, graph)\n",
    "print(answer)"
   ]
  },
  {
   "cell_type": "markdown",
   "id": "806ced60",
   "metadata": {},
   "source": [
    "# 답안 작성 후 생각"
   ]
  },
  {
   "cell_type": "code",
   "execution_count": null,
   "id": "8aa91a81",
   "metadata": {},
   "outputs": [],
   "source": [
    "\"\"\"\"\"\"\"\"\"\"\n",
    "여러번 풀었는데도 실수가 잦고 소스코드가 정답을 출력하지 못한다.\n",
    "\n",
    "1. 리스트를 + 연산으로 한 경우 a, b, c = ~ 식으로 한 번에 불러올 경우 오류가 발생한다.\n",
    "\n",
    "2. 물고기가 회전한 후 그것을 반영하지 않았다.\n",
    "\n",
    "3. dfs 함수에서 재귀적 호출에 오류가 있는 것으로 보인다.\n",
    "\n",
    "내일 다시 풀어보자.\n",
    "\"\"\"\"\"\"\"\"\"\""
   ]
  },
  {
   "cell_type": "code",
   "execution_count": null,
   "id": "89a4b02c",
   "metadata": {},
   "outputs": [],
   "source": []
  }
 ],
 "metadata": {
  "kernelspec": {
   "display_name": "Python 3 (ipykernel)",
   "language": "python",
   "name": "python3"
  },
  "language_info": {
   "codemirror_mode": {
    "name": "ipython",
    "version": 3
   },
   "file_extension": ".py",
   "mimetype": "text/x-python",
   "name": "python",
   "nbconvert_exporter": "python",
   "pygments_lexer": "ipython3",
   "version": "3.7.13"
  }
 },
 "nbformat": 4,
 "nbformat_minor": 5
}
