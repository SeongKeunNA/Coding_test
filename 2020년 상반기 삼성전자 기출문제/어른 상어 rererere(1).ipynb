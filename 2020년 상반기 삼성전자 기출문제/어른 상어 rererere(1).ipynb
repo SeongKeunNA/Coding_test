{
 "cells": [
  {
   "cell_type": "markdown",
   "id": "452df4ad",
   "metadata": {},
   "source": [
    "# 코딩 전 생각"
   ]
  },
  {
   "cell_type": "code",
   "execution_count": null,
   "id": "0ec3f53d",
   "metadata": {},
   "outputs": [],
   "source": [
    "\"\"\"\"\"\"\"\"\"\"\n",
    "1. graph, smell 이중 리스트를 선언하고 입력 데이터를 바탕으로 각 칸의 상어 정보와 냄새 정보를 그 값으로 함.\n",
    "\n",
    "2. directions 리스트를 선언하고 입력 데이터를 바탕으로 각 상어의 현재 방향 정보를 그 값으로 함.\n",
    "\n",
    "3. priorities 이중 리스트를 선언하고 입력 데이터를 바탕으로 각 상어의 우선 순위 정보를 그 값으로 함.\n",
    "\n",
    "4. move_sharks 함수를 구현함: graph 리스트의 모든 칸에 대해 반복하여 해당 칸에 상어가 존재하면 그 상어를 조건에 맞게 이동시킴.\n",
    "\n",
    "5. count_smell 함수를 구현함: smell 리스트의 모든 값에 대해 반복하여 해당 칸에 상어가 존재하면\n",
    "그 칸을 [상어번호, 냄새의 총 지속시간]으로하고, 그렇지 않다면 냄새의 지속시간을 1 감소시킴.\n",
    "\n",
    "6. 매 반복마다 move 함수와 smell_count 함수를 실행하고 최종적으로 조건에 해당하는 값 출력함.\n",
    "\"\"\"\"\"\"\"\"\"\""
   ]
  },
  {
   "cell_type": "markdown",
   "id": "e45c58d2",
   "metadata": {},
   "source": [
    "# 내 답안"
   ]
  },
  {
   "cell_type": "code",
   "execution_count": 13,
   "id": "137e97f2",
   "metadata": {},
   "outputs": [
    {
     "data": {
      "text/plain": [
       "0"
      ]
     },
     "execution_count": 13,
     "metadata": {},
     "output_type": "execute_result"
    }
   ],
   "source": [
    "smell = [[0] * n for _ in range(n)]\n",
    "smell[0][0]"
   ]
  },
  {
   "cell_type": "code",
   "execution_count": 8,
   "id": "cc0460cc",
   "metadata": {},
   "outputs": [
    {
     "data": {
      "text/plain": [
       "[[[0, 0], [0, 0], [0, 0], [0, 0]],\n",
       " [[0, 0], [0, 0], [0, 0], [0, 0]],\n",
       " [[0, 0], [0, 0], [0, 0], [0, 0]],\n",
       " [[0, 0], [0, 0], [0, 0], [0, 0]]]"
      ]
     },
     "execution_count": 8,
     "metadata": {},
     "output_type": "execute_result"
    }
   ],
   "source": [
    "smell = [[[0, 0] for _ in range(n)]for _ in range(n)]\n",
    "smell"
   ]
  },
  {
   "cell_type": "code",
   "execution_count": 18,
   "id": "f7689404",
   "metadata": {},
   "outputs": [
    {
     "name": "stdout",
     "output_type": "stream",
     "text": [
      "4 2 6\n",
      "1 0 0 0\n",
      "0 0 0 0\n",
      "0 0 0 0\n",
      "0 0 0 2\n",
      "4 3\n",
      "1 2 3 4\n",
      "2 3 4 1\n",
      "3 4 1 2\n",
      "4 1 2 3\n",
      "1 2 3 4\n",
      "2 3 4 1\n",
      "3 4 1 2\n",
      "4 1 2 3\n",
      "-1\n"
     ]
    }
   ],
   "source": [
    "n, m, k = map(int, input().split())\n",
    "graph = [list(map(int, input().split())) for _ in range(n)]\n",
    "smell = [[0] * n for _ in range(n)]\n",
    "for i in range(n):\n",
    "    for j in range(n):\n",
    "        if graph[i][j] > 0:\n",
    "            smell[i][j] = [graph[i][j], k]\n",
    "        else:\n",
    "            smell[i][j] = [0, 0]\n",
    "\n",
    "directions = list(map(int, input().split()))\n",
    "priorities = [[list(map(int, input().split())) for _ in range(4)] for _ in range(m)]\n",
    "dx = [-1, 1, 0, 0]\n",
    "dy = [0, 0, -1, 1]\n",
    "\n",
    "def move_sharks():\n",
    "    temp = [[0] * n for _ in range(n)]\n",
    "    for x in range(n):\n",
    "        for y in range(n):\n",
    "            if graph[x][y] > 0:\n",
    "                for i in priorities[graph[x][y] - 1][directions[graph[x][y] - 1] - 1]:\n",
    "                    nx = x + dx[i - 1]\n",
    "                    ny = y + dy[i - 1]       \n",
    "                    if 0 <= nx < n and 0 <= ny < n:                    \n",
    "                        if smell[nx][ny][1] == 0:\n",
    "                            directions[graph[x][y] - 1] = i\n",
    "                            if temp[nx][ny] == 0:\n",
    "                                temp[nx][ny] = graph[x][y]\n",
    "                            else:\n",
    "                                temp[nx][ny] = min(temp[nx][ny], graph[x][y])\n",
    "                else:\n",
    "                    for j in priorities[graph[x][y] - 1][directions[graph[x][y] - 1] - 1]:\n",
    "                        nx = x + dx[j - 1]\n",
    "                        ny = y + dy[j - 1]       \n",
    "                        if 0 <= nx < n and 0 <= ny < n:     \n",
    "                            if smell[nx][ny][0] == graph[x][y]:\n",
    "                                directions[graph[x][y] - 1] = j\n",
    "                                temp[nx][ny] = graph[x][y]\n",
    "    return temp\n",
    "\n",
    "def process_smell():\n",
    "    for i in range(n):\n",
    "        for j in range(n):\n",
    "            if graph[i][j] > 0:\n",
    "                smell[i][j] = [graph[i][j], k]\n",
    "            elif smell[i][j][1] > 0:\n",
    "                smell[i][j][1] -= 1\n",
    "                \n",
    "def count_sharks():\n",
    "    count = 0\n",
    "    for i in range(n):\n",
    "        for j in range(n):\n",
    "            if graph[i][j] > 0:\n",
    "                count += 1\n",
    "                if count > 1:\n",
    "                    return False\n",
    "    return True\n",
    "                \n",
    "total_count = 0\n",
    "while True:\n",
    "    if count_sharks():\n",
    "        print(total_count)\n",
    "        break\n",
    "    elif count >= 1000:\n",
    "        print(-1)\n",
    "        break\n",
    "    graph = move_sharks()\n",
    "    process_smell()\n",
    "    total_count += 1"
   ]
  },
  {
   "cell_type": "code",
   "execution_count": null,
   "id": "d2dba78a",
   "metadata": {},
   "outputs": [],
   "source": [
    "n, m, k = map(int, input().split())\n",
    "graph = [list(map(int, input().split())) for _ in range(n)]\n",
    "smell = [[0] * n for _ in range(n)]\n",
    "for i in range(n):\n",
    "    for j in range(n):\n",
    "        if graph[i][j] > 0:\n",
    "            smell[i][j] = [graph[i][j], k]\n",
    "        else:\n",
    "            smell[i][j] = [0, 0]\n",
    "\n",
    "directions = list(map(int, input().split()))\n",
    "priorities = [[list(map(int, input().split())) for _ in range(4)] for _ in range(m)]\n",
    "dx = [-1, 1, 0, 0]\n",
    "dy = [0, 0, -1, 1]\n",
    "\n",
    "def move_sharks():\n",
    "    temp = [[0] * n for _ in range(n)]\n",
    "    for x in range(n):\n",
    "        for y in range(n):\n",
    "            if graph[x][y] > 0:\n",
    "                for i in priorities[graph[x][y] - 1][directions[graph[x][y] - 1] - 1]:\n",
    "                    nx = x + dx[i - 1]\n",
    "                    ny = y + dy[i - 1]       \n",
    "                    if 0 <= nx < n and 0 <= ny < n:                    \n",
    "                        if smell[nx][ny][1] == 0:\n",
    "                            directions[graph[x][y] - 1] = i\n",
    "                            if temp[nx][ny] == 0:\n",
    "                                temp[nx][ny] = graph[x][y]\n",
    "                            else:\n",
    "                                temp[nx][ny] = min(temp[nx][ny], graph[x][y])\n",
    "                else:\n",
    "                    for j in priorities[graph[x][y] - 1][directions[graph[x][y] - 1] - 1]:\n",
    "                        nx = x + dx[j - 1]\n",
    "                        ny = y + dy[j - 1]       \n",
    "                        if 0 <= nx < n and 0 <= ny < n:     \n",
    "                            if smell[nx][ny][0] == graph[x][y]:\n",
    "                                directions[graph[x][y] - 1] = j\n",
    "                                temp[nx][ny] = graph[x][y]\n",
    "    return temp\n",
    "\n",
    "def process_smell():\n",
    "    for i in range(n):\n",
    "        for j in range(n):\n",
    "            if graph[i][j] > 0:\n",
    "                smell[i][j] = [graph[i][j], k]\n",
    "            elif smell[i][j][1] > 0:\n",
    "                smell[i][j][1] -= 1\n",
    "                \n",
    "def count_sharks():\n",
    "    count = 0\n",
    "    for i in range(n):\n",
    "        for j in range(n):\n",
    "            if graph[i][j] > 0:\n",
    "                count += 1\n",
    "                if count > 1:\n",
    "                    return False\n",
    "    return True\n",
    "                \n",
    "total_count = 0\n",
    "while True:\n",
    "    if count_sharks():\n",
    "        print(total_count)\n",
    "        break\n",
    "    elif count >= 1000:\n",
    "        print(-1)\n",
    "        break\n",
    "    graph = move_sharks()\n",
    "    process_smell()\n",
    "    total_count += 1"
   ]
  },
  {
   "cell_type": "code",
   "execution_count": 1,
   "id": "0af3fc5f",
   "metadata": {},
   "outputs": [
    {
     "data": {
      "text/plain": [
       "[[None],\n",
       " [None],\n",
       " [None],\n",
       " [None],\n",
       " [None],\n",
       " [None],\n",
       " [None],\n",
       " [None],\n",
       " [None],\n",
       " [None],\n",
       " [None],\n",
       " [None],\n",
       " [None],\n",
       " [None],\n",
       " [None],\n",
       " [None]]"
      ]
     },
     "execution_count": 1,
     "metadata": {},
     "output_type": "execute_result"
    }
   ],
   "source": [
    "n = 4\n",
    "a = [[None] for _ in range(n) for _ in range(n)]\n",
    "a"
   ]
  }
 ],
 "metadata": {
  "kernelspec": {
   "display_name": "Python 3 (ipykernel)",
   "language": "python",
   "name": "python3"
  },
  "language_info": {
   "codemirror_mode": {
    "name": "ipython",
    "version": 3
   },
   "file_extension": ".py",
   "mimetype": "text/x-python",
   "name": "python",
   "nbconvert_exporter": "python",
   "pygments_lexer": "ipython3",
   "version": "3.7.13"
  }
 },
 "nbformat": 4,
 "nbformat_minor": 5
}
