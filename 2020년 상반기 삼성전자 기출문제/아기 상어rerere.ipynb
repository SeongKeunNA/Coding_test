{
 "cells": [
  {
   "cell_type": "markdown",
   "id": "6be6df09",
   "metadata": {},
   "source": [
    "# 코딩 전 생각"
   ]
  },
  {
   "cell_type": "code",
   "execution_count": null,
   "id": "4ad41124",
   "metadata": {},
   "outputs": [],
   "source": [
    "\"\"\"\"\"\"\"\"\"\"\n",
    "1. 매 초마다 반복하여: 현재 상어의 위치에서 먹을 수 있는 물고기의 리스트를 구한다. (거리, x좌표, y좌표)\n",
    "\n",
    "2. 가장 가까운 물고기의 위치로 상어를 이동시키고 먹은 물고기 수를 나타태는 변수를 1 늘린다. 이 때 조건 만족 시 크기도 1 증가시킨다.\n",
    "\"\"\"\"\"\"\"\"\"\""
   ]
  },
  {
   "cell_type": "markdown",
   "id": "63ddfdde",
   "metadata": {},
   "source": [
    "# 내 답안"
   ]
  },
  {
   "cell_type": "code",
   "execution_count": 12,
   "id": "a5b8cefa",
   "metadata": {},
   "outputs": [
    {
     "name": "stdout",
     "output_type": "stream",
     "text": [
      "4\n",
      "4 3 2 1\n",
      "0 0 0 0\n",
      "0 0 9 0\n",
      "1 2 3 4\n",
      "14\n"
     ]
    }
   ],
   "source": [
    "from collections import deque\n",
    "def find_fish():\n",
    "    result = []\n",
    "    q = deque([(0, now_x, now_y)])\n",
    "    while q:\n",
    "        dist, x, y = q.popleft()\n",
    "        for i in range(4):\n",
    "            nx = x + dx[i]\n",
    "            ny = y + dy[i]\n",
    "            if 0 <= nx < n and 0 <= ny < n:\n",
    "                if graph[nx][ny] <= now_size and visited[nx][ny] == 0:\n",
    "                    q.append((dist + 1, nx, ny))\n",
    "                    visited[nx][ny] = 1\n",
    "                    if 0 < graph[nx][ny] < now_size:\n",
    "                        result.append((dist + 1, nx, ny))\n",
    "    if len(result) == 0:\n",
    "        return False\n",
    "    return sorted(result)\n",
    "\n",
    "n = int(input())\n",
    "now_x, now_y = -1, -1\n",
    "now_size, now_ate = 2, 0\n",
    "dx = [-1, 1, 0, 0]\n",
    "dy = [0, 0, 1, -1]\n",
    "\n",
    "graph = []\n",
    "for i in range(n):\n",
    "    data = list(map(int, input().split()))\n",
    "    for j in range(n):\n",
    "        if data[j] == 9:\n",
    "            now_x, now_y = i, j\n",
    "            data[j] = 0\n",
    "    graph.append(data)\n",
    "    \n",
    "count = 0\n",
    "while True:\n",
    "    visited = [[0] * n for _ in range(n)]\n",
    "    visited[now_x][now_y] = 1\n",
    "    possible = find_fish()\n",
    "    if possible == False:\n",
    "        break\n",
    "    dist, x, y = possible[0]\n",
    "    count += dist\n",
    "    now_x, now_y = x, y\n",
    "    graph[now_x][now_y] = 0\n",
    "    now_ate += 1\n",
    "    if now_ate == now_size:\n",
    "        now_size += 1\n",
    "        now_ate = 0\n",
    "print(count)"
   ]
  }
 ],
 "metadata": {
  "kernelspec": {
   "display_name": "Python 3 (ipykernel)",
   "language": "python",
   "name": "python3"
  },
  "language_info": {
   "codemirror_mode": {
    "name": "ipython",
    "version": 3
   },
   "file_extension": ".py",
   "mimetype": "text/x-python",
   "name": "python",
   "nbconvert_exporter": "python",
   "pygments_lexer": "ipython3",
   "version": "3.7.13"
  }
 },
 "nbformat": 4,
 "nbformat_minor": 5
}
