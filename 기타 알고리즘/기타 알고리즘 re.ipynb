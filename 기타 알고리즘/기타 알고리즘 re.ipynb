{
 "cells": [
  {
   "cell_type": "markdown",
   "id": "86f721fa",
   "metadata": {},
   "source": [
    "## 소수 판별 함수 - 완전 탐색"
   ]
  },
  {
   "cell_type": "code",
   "execution_count": 2,
   "id": "a76adf8d",
   "metadata": {},
   "outputs": [
    {
     "name": "stdout",
     "output_type": "stream",
     "text": [
      "False\n",
      "True\n"
     ]
    }
   ],
   "source": [
    "def is_prime_number(x):\n",
    "    for i in range(2, x):\n",
    "        if x % i == 0:\n",
    "            return False\n",
    "    return True\n",
    "print(is_prime_number(4))\n",
    "print(is_prime_number(7))"
   ]
  },
  {
   "cell_type": "markdown",
   "id": "ec25dc0a",
   "metadata": {},
   "source": [
    "## 소수 판별 함수 - 제곱근 전까지만 탐색"
   ]
  },
  {
   "cell_type": "code",
   "execution_count": 3,
   "id": "d6dddeb6",
   "metadata": {},
   "outputs": [
    {
     "name": "stdout",
     "output_type": "stream",
     "text": [
      "False\n",
      "True\n"
     ]
    }
   ],
   "source": [
    "import math\n",
    "\n",
    "def is_prime_number(x):\n",
    "    for i in range(2, int(math.sqrt(x)) + 1):\n",
    "        if x % i == 0:\n",
    "            return False\n",
    "    return True\n",
    "\n",
    "print(is_prime_number(4))\n",
    "print(is_prime_number(7))"
   ]
  },
  {
   "cell_type": "markdown",
   "id": "1ccbbc85",
   "metadata": {},
   "source": [
    "## 에라토스테네스의 체 - n보다 작거나 같은 모든 소수 탐색"
   ]
  },
  {
   "cell_type": "code",
   "execution_count": null,
   "id": "3758d979",
   "metadata": {},
   "outputs": [],
   "source": [
    "import math\n",
    "\n",
    "n = 1000\n",
    "array = [True for i in range(n + 1)]\n",
    "\n",
    "for i in range(2, int(math.sqrt(n)) + 1):\n",
    "    if array[i]i == True:\n",
    "        j = 2\n",
    "        while i * j <= n:\n",
    "            array[i * j] = False\n",
    "            j += 1\n",
    "for i in range(2, n+ 1):\n",
    "    if array[i]:\n",
    "        print(i, end = ' ')"
   ]
  },
  {
   "cell_type": "markdown",
   "id": "c4267a24",
   "metadata": {},
   "source": [
    "## 투 포인터 알고리즘 - 부분합 계산"
   ]
  },
  {
   "cell_type": "code",
   "execution_count": 6,
   "id": "d76e946a",
   "metadata": {},
   "outputs": [
    {
     "name": "stdout",
     "output_type": "stream",
     "text": [
      "3\n"
     ]
    }
   ],
   "source": [
    "n = 5\n",
    "m = 5\n",
    "data = [1, 2, 3, 2, 5]\n",
    "\n",
    "count = 0\n",
    "interval_sum = 0\n",
    "end = 0\n",
    "for start in range(n):\n",
    "    while interval_sum < m and end < n:\n",
    "        interval_sum += data[end]\n",
    "        end += 1\n",
    "    if interval_sum == m:\n",
    "        count += 1\n",
    "    interval_sum -= data[start]\n",
    "print(count)"
   ]
  },
  {
   "cell_type": "markdown",
   "id": "11caf152",
   "metadata": {},
   "source": [
    "## 투 포인터 알고리즘 - 정렬되어 있는 두 리스트의 합집합 연산"
   ]
  },
  {
   "cell_type": "code",
   "execution_count": 9,
   "id": "eabfb462",
   "metadata": {},
   "outputs": [
    {
     "name": "stdout",
     "output_type": "stream",
     "text": [
      "1 2 3 4 5 6 8 "
     ]
    }
   ],
   "source": [
    "n, m = 3, 4\n",
    "a = [1, 3, 5]\n",
    "b = [2, 4, 6, 8]\n",
    "\n",
    "result = [0] * (n + m)\n",
    "i = 0\n",
    "j = 0\n",
    "k = 0\n",
    "\n",
    "while i < n or j < m:\n",
    "    if j >= m or (i < n and a[i] <= b[j]):\n",
    "        result[k] = a[i]\n",
    "        i += 1\n",
    "    else:\n",
    "        result[k] = b[j]\n",
    "        j += 1\n",
    "    k += 1\n",
    "for i in result:\n",
    "    print(i, end = ' ')"
   ]
  },
  {
   "cell_type": "markdown",
   "id": "5379bca2",
   "metadata": {},
   "source": [
    "## 구간 합 계산 - 접두사 합"
   ]
  },
  {
   "cell_type": "code",
   "execution_count": 10,
   "id": "b98ea3a9",
   "metadata": {},
   "outputs": [
    {
     "name": "stdout",
     "output_type": "stream",
     "text": [
      "70\n"
     ]
    }
   ],
   "source": [
    "n = 5\n",
    "data = [10, 20, 30, 40, 50]\n",
    "\n",
    "sum_value = 0\n",
    "prefix_sum = [0]\n",
    "for i in data:\n",
    "    sum_value += i\n",
    "    prefix_sum.append(sum_value)\n",
    "    \n",
    "left = 3\n",
    "right = 4\n",
    "print(prefix_sum[right] - prefix_sum[left - 1])"
   ]
  },
  {
   "cell_type": "markdown",
   "id": "5aa0965a",
   "metadata": {},
   "source": [
    "## 예제 B-1 소수 구하기"
   ]
  },
  {
   "cell_type": "markdown",
   "id": "2a25b86e",
   "metadata": {},
   "source": [
    "# 코딩 전 생각"
   ]
  },
  {
   "cell_type": "code",
   "execution_count": null,
   "id": "0b5e9447",
   "metadata": {},
   "outputs": [],
   "source": [
    "\"\"\"\"\"\"\"\"\"\"\n",
    "1. 2부터 n까지의 소수를 찾아 result_n 세트에 저장한다.\n",
    "\n",
    "2. 2부터 m까지의 소수를 찾아 reuslt_m 세트에 저장한다.\n",
    "\n",
    "3. result_n - result_m 연산의 결과를 한 줄씩 출력한다.\n",
    "\"\"\"\"\"\"\"\"\"\""
   ]
  },
  {
   "cell_type": "markdown",
   "id": "ab3391f7",
   "metadata": {},
   "source": [
    "# 내 답안"
   ]
  },
  {
   "cell_type": "code",
   "execution_count": 15,
   "id": "8aca48b4",
   "metadata": {},
   "outputs": [
    {
     "name": "stdout",
     "output_type": "stream",
     "text": [
      "3 16\n",
      "3\n",
      "5\n",
      "7\n",
      "11\n",
      "13\n"
     ]
    }
   ],
   "source": [
    "m, n = map(int, input().split())\n",
    "\n",
    "def eratosthenes(a):\n",
    "    values = [True for _ in range(a + 1)]\n",
    "    for i in range(2, a):\n",
    "        if values[i] == True:\n",
    "            j = 2\n",
    "            while i * j <= a:\n",
    "                values[i * j] = False\n",
    "                j += 1\n",
    "    result = set()\n",
    "    for i in range(2, a + 1):\n",
    "        if values[i] == True:\n",
    "            result.add(i)\n",
    "    return result\n",
    "\n",
    "answer = eratosthenes(n) - eratosthenes(m - 1)\n",
    "for a in sorted(list(answer)):\n",
    "    print(a)"
   ]
  },
  {
   "cell_type": "markdown",
   "id": "89f3eb2c",
   "metadata": {},
   "source": [
    "# 정답 확인 후 생각"
   ]
  },
  {
   "cell_type": "code",
   "execution_count": null,
   "id": "df6ecd71",
   "metadata": {},
   "outputs": [],
   "source": [
    "\"\"\"\"\"\"\"\"\"\"\n",
    "제곱근까지만 확인하자.\n",
    "\"\"\"\"\"\"\"\"\"\""
   ]
  },
  {
   "cell_type": "markdown",
   "id": "f32ab8a4",
   "metadata": {},
   "source": [
    "## 정답 확인 후 수정 답안"
   ]
  },
  {
   "cell_type": "code",
   "execution_count": 16,
   "id": "0b93ac9b",
   "metadata": {},
   "outputs": [
    {
     "name": "stdout",
     "output_type": "stream",
     "text": [
      "3 16\n",
      "3\n",
      "5\n",
      "7\n",
      "11\n",
      "13\n"
     ]
    }
   ],
   "source": [
    "m, n = map(int, input().split())\n",
    "\n",
    "def eratosthenes(a):\n",
    "    values = [True for _ in range(a + 1)]\n",
    "    for i in range(2, int(math.sqrt(a)) + 1):\n",
    "        if values[i] == True:\n",
    "            j = 2\n",
    "            while i * j <= a:\n",
    "                values[i * j] = False\n",
    "                j += 1\n",
    "    result = set()\n",
    "    for i in range(2, a + 1):\n",
    "        if values[i] == True:\n",
    "            result.add(i)\n",
    "    return result\n",
    "\n",
    "answer = eratosthenes(n) - eratosthenes(m - 1)\n",
    "for a in sorted(list(answer)):\n",
    "    print(a)"
   ]
  },
  {
   "cell_type": "markdown",
   "id": "31f5b527",
   "metadata": {},
   "source": [
    "## 예제 B-2 암호 만들기"
   ]
  },
  {
   "cell_type": "markdown",
   "id": "b30532ff",
   "metadata": {},
   "source": [
    "# 코딩 전 생각"
   ]
  },
  {
   "cell_type": "code",
   "execution_count": null,
   "id": "a0dc8132",
   "metadata": {},
   "outputs": [],
   "source": [
    "\"\"\"\"\"\"\"\"\"\"\n",
    "c개 문자 중 l개 문자열의 조합을 모두 찾아내서 조건에 만족하는 암호들만 정렬하여 출력한다.\n",
    "\"\"\"\"\"\"\"\"\"\""
   ]
  },
  {
   "cell_type": "markdown",
   "id": "cf94bdb1",
   "metadata": {},
   "source": [
    "# 내 답안"
   ]
  },
  {
   "cell_type": "code",
   "execution_count": 19,
   "id": "56da3646",
   "metadata": {
    "collapsed": true
   },
   "outputs": [
    {
     "name": "stdout",
     "output_type": "stream",
     "text": [
      "4 6\n"
     ]
    },
    {
     "ename": "KeyboardInterrupt",
     "evalue": "Interrupted by user",
     "output_type": "error",
     "traceback": [
      "\u001b[1;31m---------------------------------------------------------------------------\u001b[0m",
      "\u001b[1;31mKeyboardInterrupt\u001b[0m                         Traceback (most recent call last)",
      "\u001b[1;32m~\\AppData\\Local\\Temp\\ipykernel_24376\\2083656698.py\u001b[0m in \u001b[0;36m<module>\u001b[1;34m\u001b[0m\n\u001b[0;32m      1\u001b[0m \u001b[1;32mfrom\u001b[0m \u001b[0mitertools\u001b[0m \u001b[1;32mimport\u001b[0m \u001b[0mcombinations\u001b[0m \u001b[1;32mas\u001b[0m \u001b[0mcb\u001b[0m\u001b[1;33m\u001b[0m\u001b[1;33m\u001b[0m\u001b[0m\n\u001b[0;32m      2\u001b[0m \u001b[0ml\u001b[0m\u001b[1;33m,\u001b[0m \u001b[0mc\u001b[0m \u001b[1;33m=\u001b[0m \u001b[0mmap\u001b[0m\u001b[1;33m(\u001b[0m\u001b[0mint\u001b[0m\u001b[1;33m,\u001b[0m \u001b[0minput\u001b[0m\u001b[1;33m(\u001b[0m\u001b[1;33m)\u001b[0m\u001b[1;33m.\u001b[0m\u001b[0msplit\u001b[0m\u001b[1;33m(\u001b[0m\u001b[1;33m)\u001b[0m\u001b[1;33m)\u001b[0m\u001b[1;33m\u001b[0m\u001b[1;33m\u001b[0m\u001b[0m\n\u001b[1;32m----> 3\u001b[1;33m \u001b[0mwords\u001b[0m \u001b[1;33m=\u001b[0m \u001b[0mlist\u001b[0m\u001b[1;33m(\u001b[0m\u001b[0mmap\u001b[0m\u001b[1;33m(\u001b[0m\u001b[0mint\u001b[0m\u001b[1;33m,\u001b[0m \u001b[0minput\u001b[0m\u001b[1;33m(\u001b[0m\u001b[1;33m)\u001b[0m\u001b[1;33m.\u001b[0m\u001b[0msplit\u001b[0m\u001b[1;33m(\u001b[0m\u001b[1;33m)\u001b[0m\u001b[1;33m)\u001b[0m\u001b[1;33m)\u001b[0m\u001b[1;33m\u001b[0m\u001b[1;33m\u001b[0m\u001b[0m\n\u001b[0m\u001b[0;32m      4\u001b[0m \u001b[0mvowels\u001b[0m \u001b[1;33m=\u001b[0m \u001b[1;33m[\u001b[0m\u001b[1;34m'a'\u001b[0m\u001b[1;33m,\u001b[0m \u001b[1;34m'e'\u001b[0m\u001b[1;33m,\u001b[0m \u001b[1;34m'i'\u001b[0m\u001b[1;33m,\u001b[0m \u001b[1;34m'o'\u001b[0m\u001b[1;33m,\u001b[0m \u001b[1;34m'u'\u001b[0m\u001b[1;33m]\u001b[0m\u001b[1;33m\u001b[0m\u001b[1;33m\u001b[0m\u001b[0m\n\u001b[0;32m      5\u001b[0m \u001b[0mpossibles\u001b[0m \u001b[1;33m=\u001b[0m \u001b[0mcb\u001b[0m\u001b[1;33m(\u001b[0m\u001b[0mwords\u001b[0m\u001b[1;33m,\u001b[0m \u001b[0ml\u001b[0m\u001b[1;33m)\u001b[0m\u001b[1;33m\u001b[0m\u001b[1;33m\u001b[0m\u001b[0m\n",
      "\u001b[1;32mD:\\userDATA\\anaconda3\\envs\\py37\\lib\\site-packages\\ipykernel\\kernelbase.py\u001b[0m in \u001b[0;36mraw_input\u001b[1;34m(self, prompt)\u001b[0m\n\u001b[0;32m   1077\u001b[0m             \u001b[0mself\u001b[0m\u001b[1;33m.\u001b[0m\u001b[0m_parent_ident\u001b[0m\u001b[1;33m[\u001b[0m\u001b[1;34m\"shell\"\u001b[0m\u001b[1;33m]\u001b[0m\u001b[1;33m,\u001b[0m\u001b[1;33m\u001b[0m\u001b[1;33m\u001b[0m\u001b[0m\n\u001b[0;32m   1078\u001b[0m             \u001b[0mself\u001b[0m\u001b[1;33m.\u001b[0m\u001b[0mget_parent\u001b[0m\u001b[1;33m(\u001b[0m\u001b[1;34m\"shell\"\u001b[0m\u001b[1;33m)\u001b[0m\u001b[1;33m,\u001b[0m\u001b[1;33m\u001b[0m\u001b[1;33m\u001b[0m\u001b[0m\n\u001b[1;32m-> 1079\u001b[1;33m             \u001b[0mpassword\u001b[0m\u001b[1;33m=\u001b[0m\u001b[1;32mFalse\u001b[0m\u001b[1;33m,\u001b[0m\u001b[1;33m\u001b[0m\u001b[1;33m\u001b[0m\u001b[0m\n\u001b[0m\u001b[0;32m   1080\u001b[0m         )\n\u001b[0;32m   1081\u001b[0m \u001b[1;33m\u001b[0m\u001b[0m\n",
      "\u001b[1;32mD:\\userDATA\\anaconda3\\envs\\py37\\lib\\site-packages\\ipykernel\\kernelbase.py\u001b[0m in \u001b[0;36m_input_request\u001b[1;34m(self, prompt, ident, parent, password)\u001b[0m\n\u001b[0;32m   1118\u001b[0m             \u001b[1;32mexcept\u001b[0m \u001b[0mKeyboardInterrupt\u001b[0m\u001b[1;33m:\u001b[0m\u001b[1;33m\u001b[0m\u001b[1;33m\u001b[0m\u001b[0m\n\u001b[0;32m   1119\u001b[0m                 \u001b[1;31m# re-raise KeyboardInterrupt, to truncate traceback\u001b[0m\u001b[1;33m\u001b[0m\u001b[1;33m\u001b[0m\u001b[1;33m\u001b[0m\u001b[0m\n\u001b[1;32m-> 1120\u001b[1;33m                 \u001b[1;32mraise\u001b[0m \u001b[0mKeyboardInterrupt\u001b[0m\u001b[1;33m(\u001b[0m\u001b[1;34m\"Interrupted by user\"\u001b[0m\u001b[1;33m)\u001b[0m \u001b[1;32mfrom\u001b[0m \u001b[1;32mNone\u001b[0m\u001b[1;33m\u001b[0m\u001b[1;33m\u001b[0m\u001b[0m\n\u001b[0m\u001b[0;32m   1121\u001b[0m             \u001b[1;32mexcept\u001b[0m \u001b[0mException\u001b[0m\u001b[1;33m:\u001b[0m\u001b[1;33m\u001b[0m\u001b[1;33m\u001b[0m\u001b[0m\n\u001b[0;32m   1122\u001b[0m                 \u001b[0mself\u001b[0m\u001b[1;33m.\u001b[0m\u001b[0mlog\u001b[0m\u001b[1;33m.\u001b[0m\u001b[0mwarning\u001b[0m\u001b[1;33m(\u001b[0m\u001b[1;34m\"Invalid Message:\"\u001b[0m\u001b[1;33m,\u001b[0m \u001b[0mexc_info\u001b[0m\u001b[1;33m=\u001b[0m\u001b[1;32mTrue\u001b[0m\u001b[1;33m)\u001b[0m\u001b[1;33m\u001b[0m\u001b[1;33m\u001b[0m\u001b[0m\n",
      "\u001b[1;31mKeyboardInterrupt\u001b[0m: Interrupted by user"
     ]
    }
   ],
   "source": [
    "from itertools import combinations as cb\n",
    "l, c = map(int, input().split())\n",
    "words = list(input().split())\n",
    "vowels = ['a', 'e', 'i', 'o', 'u']\n",
    "possibles = cb(words, l)\n",
    "answer = []\n",
    "for possible in possibles:\n",
    "    vowel = 0\n",
    "    for p in possible:\n",
    "        if p in vowels:\n",
    "            vowel += 1\n",
    "    if 1 <= vowel <= l - 2:\n",
    "        answer.append(sorted(list(possible)))\n",
    "for a in sorted(answer):\n",
    "    print(''.join(a))"
   ]
  }
 ],
 "metadata": {
  "kernelspec": {
   "display_name": "Python 3 (ipykernel)",
   "language": "python",
   "name": "python3"
  },
  "language_info": {
   "codemirror_mode": {
    "name": "ipython",
    "version": 3
   },
   "file_extension": ".py",
   "mimetype": "text/x-python",
   "name": "python",
   "nbconvert_exporter": "python",
   "pygments_lexer": "ipython3",
   "version": "3.7.13"
  }
 },
 "nbformat": 4,
 "nbformat_minor": 5
}
