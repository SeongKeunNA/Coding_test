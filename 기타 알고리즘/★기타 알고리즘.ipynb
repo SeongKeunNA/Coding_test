{
 "cells": [
  {
   "cell_type": "markdown",
   "id": "7b24159e",
   "metadata": {},
   "source": [
    "# 소수 판별 O(x^1/2)"
   ]
  },
  {
   "cell_type": "code",
   "execution_count": 1,
   "id": "f060723d",
   "metadata": {},
   "outputs": [
    {
     "name": "stdout",
     "output_type": "stream",
     "text": [
      "True\n",
      "False\n"
     ]
    }
   ],
   "source": [
    "import math\n",
    "def is_prime_number(x):\n",
    "    for i in range(2, int(math.sqrt(x)) + 1):\n",
    "        if x % i == 0:\n",
    "            return False\n",
    "    return True\n",
    "print(is_prime_number(127))\n",
    "print(is_prime_number(4))"
   ]
  },
  {
   "cell_type": "markdown",
   "id": "887739c2",
   "metadata": {},
   "source": [
    "# 에라토스테네스의 체 O(NloglogN)"
   ]
  },
  {
   "cell_type": "code",
   "execution_count": 2,
   "id": "5482446e",
   "metadata": {},
   "outputs": [
    {
     "name": "stdout",
     "output_type": "stream",
     "text": [
      "2 3 5 7 11 13 17 19 23 29 31 37 41 43 47 53 59 61 67 71 73 79 83 89 97 101 103 107 109 113 127 131 137 139 149 151 157 163 167 173 179 181 191 193 197 199 211 223 227 229 233 239 241 251 257 263 269 271 277 281 283 293 307 311 313 317 331 337 347 349 353 359 367 373 379 383 389 397 401 409 419 421 431 433 439 443 449 457 461 463 467 479 487 491 499 503 509 521 523 541 547 557 563 569 571 577 587 593 599 601 607 613 617 619 631 641 643 647 653 659 661 673 677 683 691 701 709 719 727 733 739 743 751 757 761 769 773 787 797 809 811 821 823 827 829 839 853 857 859 863 877 881 883 887 907 911 919 929 937 941 947 953 967 971 977 983 991 997 "
     ]
    }
   ],
   "source": [
    "# 공간복잡도 때문에 n이 백만 이하일 경우 유용\n",
    "import math\n",
    "n = 1000\n",
    "array = [True for i in range(n + 1)]\n",
    "\n",
    "for i in range(2, int(math.sqrt(n)) + 1):\n",
    "    if array[i] == True:\n",
    "        j = 2\n",
    "        while i * j <= n:\n",
    "            array[i * j] = False\n",
    "            j += 1\n",
    "for i in range(2, n + 1):\n",
    "    if array[i]:\n",
    "        print(i, end = ' ')"
   ]
  },
  {
   "cell_type": "markdown",
   "id": "db064bf5",
   "metadata": {},
   "source": [
    "# 투 포인터"
   ]
  },
  {
   "cell_type": "code",
   "execution_count": 4,
   "id": "352efc5d",
   "metadata": {},
   "outputs": [
    {
     "name": "stdout",
     "output_type": "stream",
     "text": [
      "3\n"
     ]
    }
   ],
   "source": [
    "n = 5 # 데이터의 개수\n",
    "m = 5 # 찾고자 하는 부분합 M\n",
    "data = [1, 2, 3, 2, 5]\n",
    "\n",
    "count = 0\n",
    "interval_sum = 0\n",
    "end = 0\n",
    "\n",
    "for start in range(n):\n",
    "    while interval_sum < m and end < n:\n",
    "        interval_sum += data[end]\n",
    "        end += 1\n",
    "    if interval_sum == m:\n",
    "        count += 1\n",
    "    interval_sum -= data[start]\n",
    "print(count)"
   ]
  },
  {
   "cell_type": "markdown",
   "id": "cfc2c9ba",
   "metadata": {},
   "source": [
    "# 정렬되어 있는 두 리스트의 합집합"
   ]
  },
  {
   "cell_type": "code",
   "execution_count": 5,
   "id": "8c732dee",
   "metadata": {},
   "outputs": [
    {
     "name": "stdout",
     "output_type": "stream",
     "text": [
      "1 2 3 4 5 6 8 "
     ]
    }
   ],
   "source": [
    "# 사전에 정렬된 리스트 A와 B선언\n",
    "n, m = 3, 4\n",
    "a = [1, 3, 5]\n",
    "b = [2, 4, 6, 8]\n",
    "result = [0] * (n + m)\n",
    "i = 0\n",
    "j = 0\n",
    "k = 0\n",
    "while i < n or j < m:\n",
    "    if j >= m or (i < n and a[i] <= b[j]):\n",
    "        result[k] = a[i]\n",
    "        i += 1\n",
    "    else:\n",
    "        result[k] = b[j]\n",
    "        j += 1\n",
    "    k += 1\n",
    "for i in result:\n",
    "    print(i, end = ' ')"
   ]
  },
  {
   "cell_type": "markdown",
   "id": "b63d426f",
   "metadata": {},
   "source": [
    "# 구간 합 계산"
   ]
  },
  {
   "cell_type": "code",
   "execution_count": 6,
   "id": "c0f395e7",
   "metadata": {},
   "outputs": [
    {
     "name": "stdout",
     "output_type": "stream",
     "text": [
      "70\n"
     ]
    }
   ],
   "source": [
    "n = 5\n",
    "data = [10, 20, 30, 40, 50]\n",
    "sum_value = 0\n",
    "prefix_sum = [0]\n",
    "for i in data:\n",
    "    sum_value += i\n",
    "    prefix_sum.append(sum_value)\n",
    "left = 3\n",
    "right = 4\n",
    "print(prefix_sum[right] - prefix_sum[left - 1])"
   ]
  },
  {
   "cell_type": "markdown",
   "id": "73846ac9",
   "metadata": {},
   "source": [
    "# 예제 - 소수 구하기"
   ]
  },
  {
   "cell_type": "code",
   "execution_count": null,
   "id": "dd5e4bbf",
   "metadata": {},
   "outputs": [],
   "source": [
    "import math\n",
    "m, n = map(int, input().split())\n",
    "ck = [True for _ in range(n + 1)]\n",
    "ck[1] = 0\n",
    "for i in range(2, int(math.sqrt(n) + 1)):\n",
    "    if ck[i] == True:\n",
    "        j = 2\n",
    "        while i * j <= n:\n",
    "            ck[i * j] = False\n",
    "            j += 1\n",
    "for i in range(m, n + 1):\n",
    "    if ck[i]:\n",
    "        print(i)"
   ]
  },
  {
   "cell_type": "markdown",
   "id": "26a9a1a3",
   "metadata": {},
   "source": [
    "# 예제 - 암호 만들기"
   ]
  },
  {
   "cell_type": "markdown",
   "id": "d64229a3",
   "metadata": {},
   "source": [
    "# 내 답안"
   ]
  },
  {
   "cell_type": "code",
   "execution_count": 48,
   "id": "111dd1ce",
   "metadata": {},
   "outputs": [
    {
     "name": "stdout",
     "output_type": "stream",
     "text": [
      "4 6\n",
      "a t c i s w\n",
      "citw\n",
      "acsw\n",
      "aitw\n",
      "acit\n",
      "aist\n",
      "cisw\n",
      "cist\n",
      "acst\n",
      "istw\n",
      "aisw\n",
      "acis\n",
      "actw\n",
      "astw\n",
      "aciw\n"
     ]
    }
   ],
   "source": [
    "from itertools import combinations as cb\n",
    "from copy import deepcopy\n",
    "l, c = map(int, input().split())\n",
    "char = list(input().split())\n",
    "a = []\n",
    "b = []\n",
    "for c in char:\n",
    "    if c in ['a', 'e', 'i', 'o', 'u']:\n",
    "        a.append(c)\n",
    "    else:\n",
    "        b.append(c)\n",
    "first = list(cb(a, 1))\n",
    "second = list(cb(b, 2))\n",
    "answer = set()\n",
    "for f in first:\n",
    "    for s1, s2 in second:\n",
    "        select = {f[0], s1, s2}\n",
    "        temp = set(deepcopy(char))\n",
    "        temp -= select\n",
    "        last = list(cb(temp, l - 3))\n",
    "        for la in last:\n",
    "            select.update(la)\n",
    "            passwords = sorted(list(select))\n",
    "            answer.add(''.join(passwords))\n",
    "            select -= set(la)\n",
    "for p in sorted(list(answer)):\n",
    "    print(p)"
   ]
  },
  {
   "cell_type": "markdown",
   "id": "a49fe40b",
   "metadata": {},
   "source": [
    "# 정답"
   ]
  },
  {
   "cell_type": "code",
   "execution_count": 49,
   "id": "997bf21b",
   "metadata": {},
   "outputs": [
    {
     "name": "stdout",
     "output_type": "stream",
     "text": [
      "4 6\n",
      "a t c i s w\n",
      "acis\n",
      "acit\n",
      "aciw\n",
      "acst\n",
      "acsw\n",
      "actw\n",
      "aist\n",
      "aisw\n",
      "aitw\n",
      "astw\n",
      "cist\n",
      "cisw\n",
      "citw\n",
      "istw\n"
     ]
    }
   ],
   "source": [
    "from itertools import combinations as cb\n",
    "l, c = map(int, input().split())\n",
    "char = list(input().split())\n",
    "possibles = cb(char, l)\n",
    "aeiou = ['a', 'e', 'i', 'o', 'u']\n",
    "answer = []\n",
    "for possible in possibles:\n",
    "    a = 0\n",
    "    b = 0\n",
    "    for p in possible:\n",
    "        if p in aeiou:\n",
    "            a += 1\n",
    "        else:\n",
    "            b += 1\n",
    "    if a >= 1 and b >= 2:\n",
    "        result = ''.join(sorted(possible))\n",
    "        answer.append(result)\n",
    "answer.sort()\n",
    "for a in answer:\n",
    "    print(a) "
   ]
  }
 ],
 "metadata": {
  "kernelspec": {
   "display_name": "Python 3 (ipykernel)",
   "language": "python",
   "name": "python3"
  },
  "language_info": {
   "codemirror_mode": {
    "name": "ipython",
    "version": 3
   },
   "file_extension": ".py",
   "mimetype": "text/x-python",
   "name": "python",
   "nbconvert_exporter": "python",
   "pygments_lexer": "ipython3",
   "version": "3.7.13"
  }
 },
 "nbformat": 4,
 "nbformat_minor": 5
}
