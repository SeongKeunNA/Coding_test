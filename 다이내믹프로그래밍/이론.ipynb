{
 "cells": [
  {
   "cell_type": "code",
   "execution_count": 2,
   "id": "694da6d7",
   "metadata": {},
   "outputs": [
    {
     "name": "stdout",
     "output_type": "stream",
     "text": [
      "3\n"
     ]
    }
   ],
   "source": [
    "#피보나치 함수를 재귀 함수로 구현\n",
    "def fibo(x):\n",
    "    if x==1 or x==2:\n",
    "        return 1\n",
    "    return fibo(x-1)+fibo(x-2)\n",
    "print(fibo(4))"
   ]
  },
  {
   "cell_type": "code",
   "execution_count": 4,
   "id": "f268ae1b",
   "metadata": {},
   "outputs": [
    {
     "name": "stdout",
     "output_type": "stream",
     "text": [
      "218922995834555169026\n"
     ]
    }
   ],
   "source": [
    "# 한 번 계산한 결과를 메모이제이션하기 위한 리스트 초기화\n",
    "d=[0]*100\n",
    "\n",
    "# 피보나치 함수를 재귀함수로 구현(탑다운 다이나믹 프로그래밍)\n",
    "def fibo(x):\n",
    "    if x==1 or x==2:\n",
    "        return 1\n",
    "    if d[x]!=0:\n",
    "        return d[x]\n",
    "    d[x]=fibo(x-1)+fibo(x-2)\n",
    "    return d[x]\n",
    "print(fibo(99))"
   ]
  },
  {
   "cell_type": "code",
   "execution_count": 6,
   "id": "27804138",
   "metadata": {},
   "outputs": [
    {
     "name": "stdout",
     "output_type": "stream",
     "text": [
      "f(6) f(5) f(4) f(3) f(2) f(1) f(2) f(3) f(4) "
     ]
    },
    {
     "data": {
      "text/plain": [
       "8"
      ]
     },
     "execution_count": 6,
     "metadata": {},
     "output_type": "execute_result"
    }
   ],
   "source": [
    "# 호출되는 함수 확인\n",
    "d=[0]*100\n",
    "\n",
    "def pibo(x):\n",
    "    print('f(' + str(x) + ')', end=' ')\n",
    "    if x==1 or x==2:\n",
    "        return 1\n",
    "    if d[x]!=0:\n",
    "        return d[x]\n",
    "    d[x]=pibo(x-1)+pibo(x-2)\n",
    "    return d[x]\n",
    "pibo(6)"
   ]
  },
  {
   "cell_type": "code",
   "execution_count": null,
   "id": "5bab3e90",
   "metadata": {},
   "outputs": [],
   "source": [
    "# 피보나치 함수를 반복적으로 구현\n",
    "\n",
    "#앞서 계산된 결과를 저장하기 위한 DP 테이블 초기화\n",
    "d=[0]*100\n",
    "\n",
    "# 첫 번째 피보나치 수와 두 번째 피보나치 수는 1\n",
    "d[1]=1\n",
    "d[2]=1\n",
    "n=99\n",
    "\n",
    "#피보나치 함수 반복문으로 구현(바텀업 다이나믹 프로그래밍)\n",
    "for i in range(3,n+1):\n",
    "    d[i]=d[i-1]+d[i-2]\n",
    "print(d[n])"
   ]
  }
 ],
 "metadata": {
  "kernelspec": {
   "display_name": "Python 3",
   "language": "python",
   "name": "python3"
  },
  "language_info": {
   "codemirror_mode": {
    "name": "ipython",
    "version": 3
   },
   "file_extension": ".py",
   "mimetype": "text/x-python",
   "name": "python",
   "nbconvert_exporter": "python",
   "pygments_lexer": "ipython3",
   "version": "3.8.8"
  }
 },
 "nbformat": 4,
 "nbformat_minor": 5
}
