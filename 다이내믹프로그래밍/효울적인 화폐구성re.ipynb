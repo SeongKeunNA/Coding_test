{
 "cells": [
  {
   "cell_type": "markdown",
   "id": "25f03a55",
   "metadata": {},
   "source": [
    "# 코딩 전 생각"
   ]
  },
  {
   "cell_type": "code",
   "execution_count": null,
   "id": "972f5f73",
   "metadata": {},
   "outputs": [],
   "source": [
    "\"\"\"\"\"\"\"\"\"\"\n",
    "한참을 고민하다가 풀이법을 떠올렸다.\n",
    "\n",
    "우선 m원을 만들기 위한 최솟값을 저장하는 리스트 a을 생성한다.\n",
    "\n",
    "또한 화폐의 모음인 리스트 b를 생성한다.\n",
    "\n",
    "b에 들어있는 원소를 인덱스로 하는 a의 원소를 1로 만든다. ex) for i in b: a[i] = 1\n",
    "\n",
    "a[m] 값을 구하는 am 함수를 작성한다.\n",
    "\n",
    "def am(b, m):\n",
    "    val = m\n",
    "    cnt = 0\n",
    "    while val > 0:\n",
    "    for i in sortd(b, reverse=True):\n",
    "        while True:\n",
    "            if i > val:\n",
    "                break\n",
    "            if i == val:\n",
    "                return cnt + 1\n",
    "            val -= i\n",
    "            cnt += 1\n",
    "                    \n",
    "    if val > 0:\n",
    "        return  -1\n",
    "\n",
    "            \n",
    "\"\"\"\"\"\"\"\"\"\""
   ]
  },
  {
   "cell_type": "markdown",
   "id": "12e13cc5",
   "metadata": {},
   "source": [
    "# 내 답안"
   ]
  },
  {
   "cell_type": "code",
   "execution_count": 10,
   "id": "8e8cf158",
   "metadata": {},
   "outputs": [],
   "source": [
    "import time"
   ]
  },
  {
   "cell_type": "code",
   "execution_count": 11,
   "id": "753f8391",
   "metadata": {},
   "outputs": [
    {
     "name": "stdout",
     "output_type": "stream",
     "text": [
      "10 10000\n",
      "1\n",
      "9\n",
      "11\n",
      "99\n",
      "111\n",
      "222\n",
      "333\n",
      "444\n",
      "555\n",
      "999\n",
      "12\n",
      "time: 0.05664253234863281\n"
     ]
    }
   ],
   "source": [
    "n, m = map(int,input().split())\n",
    "b = []\n",
    "for i in range(n):\n",
    "    b.append(int(input()))\n",
    "start = time.time()\n",
    "\n",
    "a = [0] * 10001\n",
    "for i in b:\n",
    "    a[i] = 1\n",
    "\n",
    "for i in range(1, m+1):\n",
    "    if a[i] == 0:\n",
    "        possible = []\n",
    "        for j in range(len(b)-1, -1, -1):\n",
    "            if i > b[j] and a[i - b[j]] != -1:\n",
    "                possible.append(a[i - b[j]] + a[b[j]])\n",
    "        if len(possible) != 0:\n",
    "            a[i] = min(possible)\n",
    "        else:\n",
    "            a[i] = -1\n",
    "            \n",
    "print(a[m])\n",
    "print('time:', time.time()-start)"
   ]
  },
  {
   "cell_type": "markdown",
   "id": "f09ee5f6",
   "metadata": {},
   "source": [
    "# 답안 작성 후 생각"
   ]
  },
  {
   "cell_type": "code",
   "execution_count": null,
   "id": "4b330880",
   "metadata": {},
   "outputs": [],
   "source": [
    "\"\"\"\"\"\"\"\"\"\"\n",
    "기본적으로 그리디 알고리즘을 바탕으로 작성했고, 가능한 화폐의 조합을 a[i - b[j]] + a[b[j]]라고 표현해 다이나믹프로그래밍으로 구현했다.\n",
    "\"\"\"\"\"\"\"\"\"\""
   ]
  },
  {
   "cell_type": "markdown",
   "id": "01c43411",
   "metadata": {},
   "source": [
    "# 정답"
   ]
  },
  {
   "cell_type": "code",
   "execution_count": 12,
   "id": "003687ae",
   "metadata": {},
   "outputs": [
    {
     "name": "stdout",
     "output_type": "stream",
     "text": [
      "10 10000\n",
      "1\n",
      "9\n",
      "11\n",
      "99\n",
      "111\n",
      "222\n",
      "333\n",
      "444\n",
      "555\n",
      "999\n",
      "12\n",
      "time: 0.049807071685791016\n"
     ]
    }
   ],
   "source": [
    "# 정수 N, M을 입력받기\n",
    "n, m = map(int, input().split())\n",
    "# N개의 화폐 단위 정보를 입력받기\n",
    "array = []\n",
    "for i in range(n):\n",
    "    array.append(int(input()))\n",
    "start = time.time()\n",
    "# 한 번 계산된 결과를 저장하기 위한 DP 테이블 초기화\n",
    "d = [10001] * (m + 1)\n",
    "\n",
    "# 다이나믹 프로그래밍 진행(보텀업)\n",
    "d[0] = 0\n",
    "for i in range(n):\n",
    "    for j in range(array[i], m+1):\n",
    "        if d[j - array[i]] != 10001: # (i - k)원을 만드는 방법이 존재하는 경우\n",
    "            d[j] = min(d[j], d[j - array[i]] + 1)\n",
    "# 계산된 결과 출력\n",
    "if d[m] == 10001: # 최종적으로 M원을 만드는 방법이 없는 경우\n",
    "    print(-1)\n",
    "else:\n",
    "    print(d[m])\n",
    "print('time:', time.time()-start)"
   ]
  },
  {
   "cell_type": "markdown",
   "id": "0eb6d39b",
   "metadata": {},
   "source": [
    "# 정답 확인 후 생각"
   ]
  },
  {
   "cell_type": "code",
   "execution_count": null,
   "id": "45d75944",
   "metadata": {},
   "outputs": [],
   "source": [
    "\"\"\"\"\"\"\"\"\"\"\n",
    "나의 풀이 아이디어와 확실히 다르다.\n",
    "\n",
    "d를 [10001] * (m+1)로 초기화했고,\n",
    "\n",
    "화폐마다 루프를 돌면서 i-k원을 만드는 방법이 존재하는 경우에는 해당 화폐 k를 한 번 더 사용해 i원을 만들 수 있으므로\n",
    "\n",
    "d[j] = min(d[j], d[j - array[i]] + 1)라 했다.\n",
    "\n",
    "시간을 측정해보니 내 답안보다 미세하게 빠르다.\n",
    "\n",
    "\"\"\"\"\"\"\"\"\"\""
   ]
  }
 ],
 "metadata": {
  "kernelspec": {
   "display_name": "pytorch",
   "language": "python",
   "name": "pt1.1"
  },
  "language_info": {
   "codemirror_mode": {
    "name": "ipython",
    "version": 3
   },
   "file_extension": ".py",
   "mimetype": "text/x-python",
   "name": "python",
   "nbconvert_exporter": "python",
   "pygments_lexer": "ipython3",
   "version": "3.9.7"
  }
 },
 "nbformat": 4,
 "nbformat_minor": 5
}
