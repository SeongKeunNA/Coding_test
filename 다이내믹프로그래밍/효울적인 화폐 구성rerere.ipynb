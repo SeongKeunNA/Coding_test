{
 "cells": [
  {
   "cell_type": "markdown",
   "id": "c128bc3d",
   "metadata": {},
   "source": [
    "# 코딩 전 생각"
   ]
  },
  {
   "cell_type": "code",
   "execution_count": 1,
   "id": "6e9d03ed",
   "metadata": {},
   "outputs": [
    {
     "ename": "SyntaxError",
     "evalue": "EOF while scanning triple-quoted string literal (3242883871.py, line 2)",
     "output_type": "error",
     "traceback": [
      "\u001b[1;36m  File \u001b[1;32m\"C:\\Users\\najonggeun\\AppData\\Local\\Temp\\ipykernel_27444\\3242883871.py\"\u001b[1;36m, line \u001b[1;32m2\u001b[0m\n\u001b[1;33m    \"\"\u001b[0m\n\u001b[1;37m      \n^\u001b[0m\n\u001b[1;31mSyntaxError\u001b[0m\u001b[1;31m:\u001b[0m EOF while scanning triple-quoted string literal\n"
     ]
    }
   ],
   "source": [
    "\"\"\"\"\"\"\"\"\"\"\"\n",
    "1. 화폐들의 가치를 array에 저장\n",
    "\n",
    "2. 다이나믹 프로그래밍을 위한 리스트 d 생성 (-1)\n",
    "\n",
    "3. array에 포함된 원소의 d 리스트 값을 1로 함.\n",
    "\n",
    "4. 1부터 m까지 i를 반복하면서 i원을 만들기 위한 최솟값을 구함. 이 때 array의 0번째 원소부터 i보다 작은 원소까지 j를 반복하여\n",
    "d[i] = min(d[i], d[j] + 1)\n",
    "\"\"\"\"\"\"\"\"\"\"\""
   ]
  },
  {
   "cell_type": "code",
   "execution_count": 6,
   "id": "ce343e78",
   "metadata": {},
   "outputs": [
    {
     "data": {
      "text/plain": [
       "[1000000000,\n",
       " 1000000000,\n",
       " 1000000000,\n",
       " 1000000000,\n",
       " 1000000000,\n",
       " 1000000000,\n",
       " 1000000000,\n",
       " 1000000000,\n",
       " 1000000000,\n",
       " 1000000000,\n",
       " 1000000000,\n",
       " 1000000000,\n",
       " 1000000000,\n",
       " 1000000000,\n",
       " 1000000000,\n",
       " 1000000000]"
      ]
     },
     "execution_count": 6,
     "metadata": {},
     "output_type": "execute_result"
    }
   ],
   "source": [
    "d = [INF] * (m + 1)\n",
    "d"
   ]
  },
  {
   "cell_type": "markdown",
   "id": "ca4c0a3c",
   "metadata": {},
   "source": [
    "# 내 답안"
   ]
  },
  {
   "cell_type": "code",
   "execution_count": 23,
   "id": "f62a7019",
   "metadata": {},
   "outputs": [
    {
     "name": "stdout",
     "output_type": "stream",
     "text": [
      "3 8\n",
      "2\n",
      "3\n",
      "5\n",
      "[1000000000, 1000000000, 1, 1, 2, 1, 2, 2, 2, 1000000000]\n",
      "2\n"
     ]
    }
   ],
   "source": [
    "INF = int(1e9)\n",
    "n, m = map(int, input().split())\n",
    "array = []\n",
    "for _ in range(n):\n",
    "    array.append(int(input())) #2 3\n",
    "d = [INF] * 10001\n",
    "for a in array: \n",
    "    d[a] = 1 \n",
    "for i in range(1, m + 1): # 4\n",
    "    for j in range(0, n):\n",
    "        if array[j] >= i:\n",
    "            break\n",
    "        d[i] = min(d[i], d[array[j]]+ d[i-array[j]])\n",
    "print(d[:10])\n",
    "if d[m] >= INF:\n",
    "    print(-1)\n",
    "else:\n",
    "    print(d[m])"
   ]
  },
  {
   "cell_type": "markdown",
   "id": "fe275371",
   "metadata": {},
   "source": [
    "# 정답"
   ]
  },
  {
   "cell_type": "code",
   "execution_count": 20,
   "id": "d5c0a816",
   "metadata": {},
   "outputs": [
    {
     "ename": "SyntaxError",
     "evalue": "unexpected EOF while parsing (2716318230.py, line 11)",
     "output_type": "error",
     "traceback": [
      "\u001b[1;36m  File \u001b[1;32m\"C:\\Users\\najonggeun\\AppData\\Local\\Temp\\ipykernel_27444\\2716318230.py\"\u001b[1;36m, line \u001b[1;32m11\u001b[0m\n\u001b[1;33m    if d[m] == 10001:\u001b[0m\n\u001b[1;37m                     ^\u001b[0m\n\u001b[1;31mSyntaxError\u001b[0m\u001b[1;31m:\u001b[0m unexpected EOF while parsing\n"
     ]
    }
   ],
   "source": [
    "n, m = map(int, input().split())\n",
    "array = []\n",
    "for i in range(n):\n",
    "    array.append(int(input()))\n",
    "d = [10001] * (m + 1)\n",
    "d[0] = 0\n",
    "for i in range(n):\n",
    "    for j in range(array[i], m + 1):\n",
    "        if d[j - array[i]] != 10001:\n",
    "            d[j] = min(d[j], d[j - array[i]] + 1)\n",
    "if d[m] == 10001:\n",
    "    print(-1)\n",
    "else:\n",
    "    print(d[m])"
   ]
  },
  {
   "cell_type": "markdown",
   "id": "33792bb0",
   "metadata": {},
   "source": [
    "# 정답 확인 후 생각"
   ]
  },
  {
   "cell_type": "code",
   "execution_count": null,
   "id": "97debe21",
   "metadata": {},
   "outputs": [],
   "source": [
    "\"\"\"\"\"\"\"\"\"\"\n",
    "동일한 아이디어인 것 같은데 풀이가 다르다.\n",
    "\"\"\"\"\"\"\"\"\"\""
   ]
  }
 ],
 "metadata": {
  "kernelspec": {
   "display_name": "Python 3 (ipykernel)",
   "language": "python",
   "name": "python3"
  },
  "language_info": {
   "codemirror_mode": {
    "name": "ipython",
    "version": 3
   },
   "file_extension": ".py",
   "mimetype": "text/x-python",
   "name": "python",
   "nbconvert_exporter": "python",
   "pygments_lexer": "ipython3",
   "version": "3.7.13"
  }
 },
 "nbformat": 4,
 "nbformat_minor": 5
}
