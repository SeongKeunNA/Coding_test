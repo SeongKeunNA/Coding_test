{
 "cells": [
  {
   "cell_type": "markdown",
   "id": "1bdeb931",
   "metadata": {},
   "source": [
    "# 코딩 전 생각"
   ]
  },
  {
   "cell_type": "code",
   "execution_count": null,
   "id": "33be3938",
   "metadata": {},
   "outputs": [],
   "source": [
    "\"\"\"\"\"\"\"\"\"\"\n",
    "탑다운 방식으로 생각해보았다.\n",
    "\n",
    "\n",
    "d[x] = [0] * 30001\n",
    "\n",
    "def to1(x):\n",
    "     if x == 1:\n",
    "        return 0\n",
    "        \n",
    "     if x==2 or x==3 or x==5:\n",
    "         return 1\n",
    "         \n",
    "     if d[x] != 0:\n",
    "         return d[x]\n",
    "         \n",
    "     next = [d[x - 1] + 1]\n",
    "     if x % 5 == 0:\n",
    "         next.append(d[x % 5] + 1)\n",
    "     if x % 3 == 0:\n",
    "         next.append(d[x % 3] + 1)\n",
    "     if x % 2 == 0:\n",
    "         next.append(d[x % 2] + 1)\n",
    "     d[x] = min(next)\n",
    "     return d[x]\n",
    "\n",
    "\n",
    "바텀업 방식으로 생각해보았다.\n",
    "if X<=3:\n",
    "    if x==1:\n",
    "        print(0)\n",
    "    else:\n",
    "        print(1)\n",
    "    break\n",
    "\n",
    "dp = [0] * 30001\n",
    "dp[]\n",
    "\n",
    "for i in range(4, x+1):\n",
    "    next = [d[i - 1] + 1]\n",
    "    if i % 5 == 0:\n",
    "        next.append(d[i % 5] + 1)\n",
    "    if i % 3 == 0:\n",
    "        next.append(d[i % 3] + 1)\n",
    "    if i % 2 == 0:\n",
    "        next.append(d[i % 2] + 1)\n",
    "    d[i] = min(next)\n",
    "print(d[x])\n",
    "\"\"\"\"\"\"\"\"\"\""
   ]
  },
  {
   "cell_type": "markdown",
   "id": "06dd4e39",
   "metadata": {},
   "source": [
    "# 내 답안 1 바텀업"
   ]
  },
  {
   "cell_type": "code",
   "execution_count": 5,
   "id": "0157e04d",
   "metadata": {},
   "outputs": [
    {
     "name": "stdout",
     "output_type": "stream",
     "text": [
      "26\n",
      "3\n"
     ]
    }
   ],
   "source": [
    "x = int(input())\n",
    "\n",
    "if x<=3:\n",
    "    if x==1:\n",
    "        print(0)\n",
    "    else:\n",
    "        print(1)\n",
    "    \n",
    "else:\n",
    "    dp = [0] * 30001\n",
    "    dp[2], dp[3], dp[5] = 1, 1, 1\n",
    "    for i in range(4, x+1):\n",
    "        next = [dp[i - 1] + 1]\n",
    "        if i % 5 == 0:\n",
    "            next.append(dp[i // 5] + 1)\n",
    "        if i % 3 == 0:\n",
    "            next.append(dp[i // 3] + 1)\n",
    "        if i % 2 == 0:\n",
    "            next.append(dp[i // 2] + 1)\n",
    "        dp[i] = min(next)\n",
    "    print(dp[x])"
   ]
  },
  {
   "cell_type": "markdown",
   "id": "edd91df3",
   "metadata": {},
   "source": [
    "# 내 답안 2 탑다운"
   ]
  },
  {
   "cell_type": "code",
   "execution_count": 2,
   "id": "dc9c6b72",
   "metadata": {},
   "outputs": [
    {
     "name": "stdout",
     "output_type": "stream",
     "text": [
      "26\n",
      "3\n"
     ]
    }
   ],
   "source": [
    "x = int(input())\n",
    "d = [0] * 30001\n",
    "d[2], d[3], d[5] = 1, 1, 1\n",
    "def to1(x):\n",
    "    if x == 1:\n",
    "        return 0\n",
    "\n",
    "    if d[x] != 0:\n",
    "        return d[x]\n",
    "\n",
    "    next = [to1(x - 1) + 1]\n",
    "    if x % 5 == 0:\n",
    "        next.append(to1(x // 5) + 1)\n",
    "    if x % 3 == 0:\n",
    "        next.append(to1(x // 3) + 1)\n",
    "    if x % 2 == 0:\n",
    "        next.append(to1(x // 2) + 1)\n",
    "    d[x] = min(next)\n",
    "    return d[x]\n",
    "    \n",
    "print(to1(x))"
   ]
  },
  {
   "cell_type": "markdown",
   "id": "284207e1",
   "metadata": {},
   "source": [
    "# 답안 작성 후 생각"
   ]
  },
  {
   "cell_type": "code",
   "execution_count": null,
   "id": "84016700",
   "metadata": {},
   "outputs": [],
   "source": [
    "\"\"\"\"\"\"\"\"\"\"\n",
    "처음에는 풀이 아이디어를 바로 떠올리지 못했지만, 예제를 다시 보며 코드를 작성했다.\n",
    "\n",
    "탑다운 방식(재귀)에서는 next 함수에 to1함수를 재귀적으로 불러와야하는데 리스트 d[x]를 잘못 넣는 실수를 해서 시간이 조금 소요됐다.\n",
    "\"\"\"\"\"\"\"\"\"\""
   ]
  },
  {
   "cell_type": "markdown",
   "id": "65d8a823",
   "metadata": {},
   "source": [
    "# 정답"
   ]
  },
  {
   "cell_type": "code",
   "execution_count": 5,
   "id": "c0c27f5e",
   "metadata": {},
   "outputs": [
    {
     "name": "stdout",
     "output_type": "stream",
     "text": [
      "26\n",
      "3\n"
     ]
    }
   ],
   "source": [
    "x = int(input())\n",
    "\n",
    "d = [0] * 30001\n",
    "\n",
    "for i in range(2, x+1):\n",
    "    d[i] = d[i-1]+1\n",
    "    if i % 2 == 0:\n",
    "        d[i] = min(d[i], d[i // 2] + 1)\n",
    "    if i % 3 == 0:\n",
    "        d[i] = min(d[i], d[i // 3] + 1)\n",
    "    if i % 5 == 0:\n",
    "        d[i] = min(d[i], d[i // 5] + 1)\n",
    "print(d[x])"
   ]
  },
  {
   "cell_type": "markdown",
   "id": "f5dccd41",
   "metadata": {},
   "source": [
    "# 정답 확인 후 생각"
   ]
  },
  {
   "cell_type": "code",
   "execution_count": null,
   "id": "273b739b",
   "metadata": {},
   "outputs": [],
   "source": [
    "\"\"\"\"\"\"\"\"\"\"\n",
    "풀이 아이디어는 동일하지만, x의 범위를 나누지 않고 더욱 깔끔하게 코딩했다.\n",
    "\"\"\"\"\"\"\"\"\"\""
   ]
  }
 ],
 "metadata": {
  "kernelspec": {
   "display_name": "pytorch",
   "language": "python",
   "name": "pt1.1"
  },
  "language_info": {
   "codemirror_mode": {
    "name": "ipython",
    "version": 3
   },
   "file_extension": ".py",
   "mimetype": "text/x-python",
   "name": "python",
   "nbconvert_exporter": "python",
   "pygments_lexer": "ipython3",
   "version": "3.9.7"
  }
 },
 "nbformat": 4,
 "nbformat_minor": 5
}
