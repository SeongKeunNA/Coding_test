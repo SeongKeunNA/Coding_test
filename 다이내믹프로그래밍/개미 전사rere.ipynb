{
 "cells": [
  {
   "cell_type": "markdown",
   "id": "d59eed70",
   "metadata": {},
   "source": [
    "# 코딩 전 생각"
   ]
  },
  {
   "cell_type": "code",
   "execution_count": null,
   "id": "029d8121",
   "metadata": {},
   "outputs": [],
   "source": [
    "\"\"\"\"\"\"\"\"\"\"\n",
    "주어진 식량 창고 정보를 리스트 a에 담는다\n",
    "\n",
    "가장 왼쪽 식량창고에서부터 해당위치의 식량창고까지 얻을 수 있는 식량의 최댓값 리스트 d를 선언한다.\n",
    "\n",
    "d1 = a1이고, d2 = max(a1, a2)이다.\n",
    "\n",
    "dn = max(dn-2 + an, dn-1)이다.(n>=3)\n",
    "\"\"\"\"\"\"\"\"\"\""
   ]
  },
  {
   "cell_type": "markdown",
   "id": "1fbe8325",
   "metadata": {},
   "source": [
    "# 내 답안"
   ]
  },
  {
   "cell_type": "code",
   "execution_count": 1,
   "id": "919fe179",
   "metadata": {},
   "outputs": [
    {
     "name": "stdout",
     "output_type": "stream",
     "text": [
      "4\n",
      "1 3 1 5\n",
      "8\n"
     ]
    }
   ],
   "source": [
    "n = int(input())\n",
    "a = list(map(int, input().split()))\n",
    "d = [0] * (n + 1)\n",
    "d[0] = a[0]\n",
    "d[1] = max(a[0], a[1])\n",
    "for i in range(2, n):\n",
    "    d[i] = max(d[i - 2] + a[i], d[i - 1])\n",
    "print(d[n - 1])"
   ]
  },
  {
   "cell_type": "markdown",
   "id": "3c4a8928",
   "metadata": {},
   "source": [
    "# 답안 작성 후 생각"
   ]
  },
  {
   "cell_type": "code",
   "execution_count": null,
   "id": "968e8ebb",
   "metadata": {},
   "outputs": [],
   "source": [
    "\"\"\"\"\"\"\"\"\"\"\n",
    "바텀업 방식을 생각하고 있으니까 a1부터 a2, a3.. an까지의 식을 떠올리기 쉬웠다.\n",
    "\"\"\"\"\"\"\"\"\"\""
   ]
  },
  {
   "cell_type": "markdown",
   "id": "be9090ac",
   "metadata": {},
   "source": [
    "# 정답"
   ]
  },
  {
   "cell_type": "code",
   "execution_count": null,
   "id": "31be3953",
   "metadata": {},
   "outputs": [],
   "source": [
    "n = int(input())\n",
    "array = list(map(int, input().split()))\n",
    "d = [0] * 100\n",
    "d[0] = array[0]\n",
    "d[1] = array[1]\n",
    "for i in range(2, n):\n",
    "    d[i] = max(d[i - 1], d[i - 2] + array[i])\n",
    "print(d[n - 1])"
   ]
  },
  {
   "cell_type": "markdown",
   "id": "0cba9177",
   "metadata": {},
   "source": [
    "# 정답 확인 후 생각"
   ]
  },
  {
   "cell_type": "code",
   "execution_count": null,
   "id": "a949868b",
   "metadata": {},
   "outputs": [],
   "source": [
    "\"\"\"\"\"\"\"\"\"\"\n",
    "이상 무\n",
    "\"\"\"\"\"\"\"\"\"\""
   ]
  }
 ],
 "metadata": {
  "kernelspec": {
   "display_name": "Python 3 (ipykernel)",
   "language": "python",
   "name": "python3"
  },
  "language_info": {
   "codemirror_mode": {
    "name": "ipython",
    "version": 3
   },
   "file_extension": ".py",
   "mimetype": "text/x-python",
   "name": "python",
   "nbconvert_exporter": "python",
   "pygments_lexer": "ipython3",
   "version": "3.7.13"
  }
 },
 "nbformat": 4,
 "nbformat_minor": 5
}
