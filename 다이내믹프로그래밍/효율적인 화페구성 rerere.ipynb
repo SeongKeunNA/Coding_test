{
 "cells": [
  {
   "cell_type": "markdown",
   "id": "e539861d",
   "metadata": {},
   "source": [
    "# 코딩 전 생각"
   ]
  },
  {
   "cell_type": "code",
   "execution_count": null,
   "id": "68085496",
   "metadata": {},
   "outputs": [],
   "source": [
    "\"\"\"\"\"\"\"\"\"\"\n",
    "1. 해당 인덱스만큼의 가치를 만드는 데 필요한 최소 동전의 개수를 담은 리스트 a를 선언한다.(총 m+1개)\n",
    "\n",
    "2. 리스트 a의 값중 0번째 값만 0으로, 나머지는 모두 -1으로 초기화한다.\n",
    "\n",
    "3. 주어지는 동전마다 반복하여, 해당 동전의 가치k부터 m까지 반복하여 리스트를 갱신한다.\n",
    "만약 리스트의 i번째 인덱스에 대해서 갱신한다면 a[i-k]의 값이 -1이 아니라면, a[i] = mion(a[i], a[i-k] + 1)이다.\n",
    "\n",
    "4. 리스트 a의 m 번째 값을 출력한다.\n",
    "\"\"\"\"\"\"\"\"\"\""
   ]
  },
  {
   "cell_type": "markdown",
   "id": "91a2a3ac",
   "metadata": {},
   "source": [
    "# 내 답안"
   ]
  },
  {
   "cell_type": "code",
   "execution_count": 9,
   "id": "408c89bf",
   "metadata": {},
   "outputs": [
    {
     "name": "stdout",
     "output_type": "stream",
     "text": [
      "3 4\n",
      "3\n",
      "5\n",
      "7\n",
      "-1\n"
     ]
    }
   ],
   "source": [
    "INF = int(1e9)\n",
    "n, m = map(int, input().split())\n",
    "a = [INF] * (m + 1)\n",
    "a[0] = 0\n",
    "for _ in range(n):\n",
    "    k = int(input())\n",
    "    for i in range(k, m+1):\n",
    "        if a[i-k] != INF:\n",
    "            a[i] = min(a[i], a[i-k] + 1)\n",
    "if a[m] == INF:\n",
    "    print(-1)\n",
    "else:\n",
    "    print(a[m])"
   ]
  }
 ],
 "metadata": {
  "kernelspec": {
   "display_name": "Python 3 (ipykernel)",
   "language": "python",
   "name": "python3"
  },
  "language_info": {
   "codemirror_mode": {
    "name": "ipython",
    "version": 3
   },
   "file_extension": ".py",
   "mimetype": "text/x-python",
   "name": "python",
   "nbconvert_exporter": "python",
   "pygments_lexer": "ipython3",
   "version": "3.7.13"
  }
 },
 "nbformat": 4,
 "nbformat_minor": 5
}
