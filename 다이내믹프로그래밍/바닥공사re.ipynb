{
 "cells": [
  {
   "cell_type": "markdown",
   "id": "24bdf13c",
   "metadata": {},
   "source": [
    "# 코딩 전 생각"
   ]
  },
  {
   "cell_type": "code",
   "execution_count": null,
   "id": "9b4c1f40",
   "metadata": {},
   "outputs": [],
   "source": [
    "\"\"\"\"\"\"\"\"\"\"\n",
    "2칸을 기준으로 a_n-2까지 꽉 채워지는 경우와 a_n-1까지 꽉 채워지는 경우로 나누어서,\n",
    "3*a_n-2 + 2*a_n-3이라는 점화식을 세워보았다.\n",
    "\"\"\"\"\"\"\"\"\"\""
   ]
  },
  {
   "cell_type": "markdown",
   "id": "2aa31709",
   "metadata": {},
   "source": [
    "# 내 답안"
   ]
  },
  {
   "cell_type": "code",
   "execution_count": 12,
   "id": "4dc991d9",
   "metadata": {},
   "outputs": [
    {
     "name": "stdout",
     "output_type": "stream",
     "text": [
      "4\n",
      "11\n"
     ]
    }
   ],
   "source": [
    "n = int(input())\n",
    "a = [0] * (1001)\n",
    "a[1] = 1\n",
    "a[2] = 3\n",
    "a[3] = 5\n",
    "\n",
    "for i in range(4, n+1):\n",
    "    a[i] = 3 * a[i-2] + 2 * a[i-3]\n",
    "print(a[n]%796796)"
   ]
  },
  {
   "cell_type": "markdown",
   "id": "953fae9d",
   "metadata": {},
   "source": [
    "# 답안 작성 후 생각"
   ]
  },
  {
   "cell_type": "code",
   "execution_count": null,
   "id": "4848d15d",
   "metadata": {},
   "outputs": [],
   "source": [
    "\"\"\"\"\"\"\"\"\"\"\n",
    "풀이 아이디어를 떠올리는 데까지 시간이 오래 걸렸고, \n",
    "\n",
    "문제의 입출력 예시가 하나 밖에 없어서 답지를 보기 전까지는 내 답이 맞는지 확신하지 못할 것 같다.\n",
    "\n",
    "\"\"\"\"\"\"\"\"\"\""
   ]
  },
  {
   "cell_type": "markdown",
   "id": "c57e55d2",
   "metadata": {},
   "source": [
    "# 답안"
   ]
  },
  {
   "cell_type": "code",
   "execution_count": null,
   "id": "63f3ef08",
   "metadata": {},
   "outputs": [],
   "source": [
    "n = int(input())\n",
    "d = [0] * 1001\n",
    "\n",
    "d[1] = 1\n",
    "d[2] = 3\n",
    "for i in range(3, n+1):\n",
    "    d[i] = (d[i - 1] + 2 * d[i - 2]) % 796796\n",
    "print(d[n])"
   ]
  },
  {
   "cell_type": "markdown",
   "id": "50b6f8d8",
   "metadata": {},
   "source": [
    "# 답안 작성 후 생각"
   ]
  },
  {
   "cell_type": "code",
   "execution_count": null,
   "id": "6d6e65e1",
   "metadata": {},
   "outputs": [],
   "source": [
    "\"\"\"\"\"\"\"\"\"\"\"\n",
    "2칸을 기준으로 a_n-2까지 꽉 채워지는 경우와 a_n-1까지 꽉 채워지는 경우로 나누는 것까지는 좋았으나,\n",
    "\n",
    "a_n-1 + 2 * a_n-2로 식을 세우는 것에 실패했다. 특히 세로로 쭉 세우는 것이 a_n-1에 포함되므로 a_n-2에는 3이 아닌 2만 곱하면 된다.\n",
    "\n",
    "\"\"\"\"\"\"\"\"\"\"\""
   ]
  }
 ],
 "metadata": {
  "kernelspec": {
   "display_name": "pytorch",
   "language": "python",
   "name": "pt1.1"
  },
  "language_info": {
   "codemirror_mode": {
    "name": "ipython",
    "version": 3
   },
   "file_extension": ".py",
   "mimetype": "text/x-python",
   "name": "python",
   "nbconvert_exporter": "python",
   "pygments_lexer": "ipython3",
   "version": "3.9.7"
  }
 },
 "nbformat": 4,
 "nbformat_minor": 5
}
