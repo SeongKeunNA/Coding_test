{
 "cells": [
  {
   "cell_type": "markdown",
   "id": "522acacd",
   "metadata": {},
   "source": [
    "# 코딩 전 생각"
   ]
  },
  {
   "cell_type": "code",
   "execution_count": null,
   "id": "73242ced",
   "metadata": {},
   "outputs": [],
   "source": [
    "\"\"\"\"\"\"\"\"\"\"\n",
    "탑다운 방식으로 해결한다.\n",
    "a = [0] * 101\n",
    "a[1], a[2] = s[1], max(s[1:3])\n",
    "for i in range(3, n+1):\n",
    "    a[x] = max(a[x-2] + s[x], a[x-1])\n",
    "return a[x]\n",
    "\"\"\"\"\"\"\"\"\"\""
   ]
  },
  {
   "cell_type": "markdown",
   "id": "ad9e1100",
   "metadata": {},
   "source": [
    "# 내 답안"
   ]
  },
  {
   "cell_type": "code",
   "execution_count": 4,
   "id": "8f08a433",
   "metadata": {},
   "outputs": [
    {
     "name": "stdout",
     "output_type": "stream",
     "text": [
      "4\n",
      "1 3 1 5\n",
      "8\n"
     ]
    }
   ],
   "source": [
    "n = int(input())\n",
    "s = list(map(int,input().split()))\n",
    "a = [0] * 101\n",
    "a[1], a[2] = s[0], max(s[:2])\n",
    "for i in range(3, n+1):\n",
    "    a[i] = max(a[i-2] + s[i-1], a[i-1])\n",
    "print(a[n])"
   ]
  },
  {
   "cell_type": "markdown",
   "id": "c12070ad",
   "metadata": {},
   "source": [
    "# 답안 작성 후 생각"
   ]
  },
  {
   "cell_type": "code",
   "execution_count": null,
   "id": "57766f83",
   "metadata": {},
   "outputs": [],
   "source": [
    "\"\"\"\"\"\"\"\"\"\"\n",
    "문제 풀이 아이디어을 곰곰이 생각해보니 전에 풀었던 기억이 나면서 문제를 해결할 수 있었다.\n",
    "x-2 번 째까지의 최댓값과 x 번 째 식량창고에 들어있는 값과, x-1번 째까지의 값 중 더 큰 값을 해당 값의 최댓값으로 정의했다.\n",
    "\"\"\"\"\"\"\"\"\"\""
   ]
  },
  {
   "cell_type": "markdown",
   "id": "fbec387c",
   "metadata": {},
   "source": [
    "# 정답"
   ]
  },
  {
   "cell_type": "code",
   "execution_count": null,
   "id": "9427dfa1",
   "metadata": {},
   "outputs": [],
   "source": [
    "n = int(input())\n",
    "array = list(map(int, input().split()))\n",
    "\n",
    "d = [0] * 100\n",
    "\n",
    "d[0] = array[0]\n",
    "d[1] = max(array[0], array[1])\n",
    "for i in range(2, n):\n",
    "    d[i] = max(d[i-1], d[i-2]+array[i])\n",
    "    \n",
    "print(d[n-1])"
   ]
  },
  {
   "cell_type": "markdown",
   "id": "9e35c9ea",
   "metadata": {},
   "source": [
    "# 정답 확인 후 생각"
   ]
  },
  {
   "cell_type": "code",
   "execution_count": null,
   "id": "a7eca131",
   "metadata": {},
   "outputs": [],
   "source": [
    "\"\"\"\"\"\"\"\"\"\"\n",
    "풀이 아이디어는 동일하지만 d, 즉 내 풀이에서 a의 인데스를 0부터 제대로 설정했고 for loop도 2,n까지 제대로 돌았다.\n",
    "\n",
    "나는 인덱스를 헷갈렸다.\n",
    "\"\"\"\"\"\"\"\"\"\""
   ]
  }
 ],
 "metadata": {
  "kernelspec": {
   "display_name": "pytorch",
   "language": "python",
   "name": "pt1.1"
  },
  "language_info": {
   "codemirror_mode": {
    "name": "ipython",
    "version": 3
   },
   "file_extension": ".py",
   "mimetype": "text/x-python",
   "name": "python",
   "nbconvert_exporter": "python",
   "pygments_lexer": "ipython3",
   "version": "3.9.7"
  }
 },
 "nbformat": 4,
 "nbformat_minor": 5
}
