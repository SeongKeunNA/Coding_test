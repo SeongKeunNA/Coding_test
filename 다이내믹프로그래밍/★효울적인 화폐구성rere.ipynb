{
 "cells": [
  {
   "cell_type": "markdown",
   "id": "bfb08498",
   "metadata": {},
   "source": [
    "# 코딩 전 생각"
   ]
  },
  {
   "cell_type": "code",
   "execution_count": null,
   "id": "f6a6a8aa",
   "metadata": {},
   "outputs": [],
   "source": [
    "\"\"\"\"\"\"\"\"\"\"\n",
    "1부터 동전의 최소 단위 k1 미만에 해당하는 인덱스의 d 리스트 값은 0이다.\n",
    "\n",
    "동전의 단위 k1, ... kn에 해당하는 인덱스의 d 리스트 값은 1이다.\n",
    "\n",
    "2 15/ 2, 3 에대해서...\n",
    "d[1] = 0\n",
    "d[2] = 1\n",
    "d[3] = 1\n",
    "d[4] = \n",
    "min_value = 1e9\n",
    "for k in range(1, i):\n",
    "    val = m\n",
    "    cnt = 0\n",
    "    if d[k] > 0 and val >= k:\n",
    "        val -= k\n",
    "        cnt += 1\n",
    "        if val == 0:\n",
    "            min_value = min(min_value, cnt)\n",
    "\n",
    "if min_value != 1e9:\n",
    "    d[i] = min_value\n",
    "else:\n",
    "    d[i] = -1\n",
    "\"\"\"\"\"\"\"\"\"\"\""
   ]
  },
  {
   "cell_type": "markdown",
   "id": "19a791c8",
   "metadata": {},
   "source": [
    "# 내 답안"
   ]
  },
  {
   "cell_type": "code",
   "execution_count": 19,
   "id": "b24544fd",
   "metadata": {},
   "outputs": [
    {
     "name": "stdout",
     "output_type": "stream",
     "text": [
      "3 4\n",
      "3\n",
      "5\n",
      "7\n",
      "-1\n"
     ]
    }
   ],
   "source": [
    "n, m = map(int, input().split())\n",
    "array = []\n",
    "\n",
    "for _ in range(n):\n",
    "    array.append(int(input()))\n",
    "    \n",
    "d = [-1] * (m + 1)\n",
    "    \n",
    "for i in range(1, m+1):\n",
    "    if i in array:\n",
    "        d[i] = 1\n",
    "        continue\n",
    "    min_value = 1e9\n",
    "    for k in range(1, i):\n",
    "        if d[k] > 0 and d[i - k] > 0:\n",
    "            min_value = min(min_value, d[k] +d[i-k])\n",
    "    if min_value != 1e9:\n",
    "        d[i] = min_value\n",
    "        continue\n",
    "    d[i] = -1\n",
    "print(d[m])"
   ]
  },
  {
   "cell_type": "markdown",
   "id": "cb3c52ea",
   "metadata": {},
   "source": [
    "# 답안 작성 후 생각"
   ]
  },
  {
   "cell_type": "code",
   "execution_count": null,
   "id": "8c46935b",
   "metadata": {},
   "outputs": [],
   "source": [
    "\"\"\"\"\"\"\"\"\"\"\n",
    "이중 for 문을 돌아 계산량이 최대 5000*10001 = 50005000으로 안전 범위 안이다.\n",
    "\n",
    "보텀업 방식을 사용하되, 현재 만들고자 하는 금액 i원보다 작은 i-k원을 만드는 최소 화폐 개수가 이미 계산되어 있다는 점을 이용했다.\n",
    "\n",
    "\"\"\"\"\"\"\"\"\"\""
   ]
  },
  {
   "cell_type": "markdown",
   "id": "65a94563",
   "metadata": {},
   "source": [
    "# 정답"
   ]
  },
  {
   "cell_type": "code",
   "execution_count": 24,
   "id": "3dac5c88",
   "metadata": {},
   "outputs": [
    {
     "name": "stdout",
     "output_type": "stream",
     "text": [
      "2 15\n",
      "2\n",
      "3\n",
      "5\n"
     ]
    }
   ],
   "source": [
    "n, m = map(int, input().split())\n",
    "array = []\n",
    "for i in range(n):\n",
    "    array.append(int(input()))\n",
    "d = [10001] * (m + 1)\n",
    "\n",
    "d[0] = 0\n",
    "for i in range(n):\n",
    "    for j in range(array[i], m + 1): #1~10000 2~10000... 100~10000 10000\n",
    "        if d[j - array[i]] != 10001:\n",
    "            d[j] = min(d[j], d[j - array[i]] + 1)\n",
    "if d[m] == 10001:\n",
    "    print(-1)\n",
    "else:\n",
    "    print(d[m])"
   ]
  },
  {
   "cell_type": "markdown",
   "id": "d32edfbe",
   "metadata": {},
   "source": [
    "# 정답 확인 후 생각"
   ]
  },
  {
   "cell_type": "code",
   "execution_count": null,
   "id": "d4b0b5bf",
   "metadata": {},
   "outputs": [],
   "source": [
    "\"\"\"\"\"\"\"\"\"\"\n",
    "비슷하지만 다른 방식의 풀이다.\n",
    "\n",
    "역시 이중 for문을 돌지만 연산량이 9491499정도로 나의 1/5 정도 수준이다.\n",
    "\n",
    "화폐의 인덱스를 활용해 작은 화폐부터 화페의 최소 개수 리스트를 갱신하면 된다.\n",
    "\"\"\"\"\"\"\"\"\"\""
   ]
  }
 ],
 "metadata": {
  "kernelspec": {
   "display_name": "Python 3 (ipykernel)",
   "language": "python",
   "name": "python3"
  },
  "language_info": {
   "codemirror_mode": {
    "name": "ipython",
    "version": 3
   },
   "file_extension": ".py",
   "mimetype": "text/x-python",
   "name": "python",
   "nbconvert_exporter": "python",
   "pygments_lexer": "ipython3",
   "version": "3.7.13"
  }
 },
 "nbformat": 4,
 "nbformat_minor": 5
}
