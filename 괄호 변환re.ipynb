{
 "cells": [
  {
   "cell_type": "markdown",
   "id": "a1637175",
   "metadata": {},
   "source": [
    "# 코딩 전 생각"
   ]
  },
  {
   "cell_type": "code",
   "execution_count": null,
   "id": "7b93de3d",
   "metadata": {},
   "outputs": [],
   "source": [
    "\"\"\"\"\"\"\"\"\"\"\n",
    "1. 빈문자열일 경우 그대로 반환\n",
    "\n",
    "2. 올바른 괄호 문자열인지 확인하는 함수 구현\n",
    "\n",
    "3. process 함수 구현:\n",
    "    문자열 w을 문자열 u와 v로 분리하고, 문자열 u가 올바른 괄호 문자열인지 확인\n",
    "    3-1. 만약 u가 올바른 괄호 문자열이라면:\n",
    "        문자열 u는 그대로 두고 문자열 v에 대해 3번을 반복하여 u 뒤에 붙여 반환(process 함수 재귀적 구현)\n",
    "    3-2. 만약 u가 올바른 괄호 문자열이 아니라면:\n",
    "        3-2-1. 문자열 '(' 생성\n",
    "        3-2-2. 문자열 v를 process 함수에 재귀적으로 넣어 반환된 값을 이어 붙임\n",
    "        3-2-3. 문자열 ')'을 붙임\n",
    "        3-2-4. 문자열 u의 첫 번쨰와 마지막 문자를 제거하고, 나머지 문자열의 괄호 방향을 뒤집어서 뒤에 붙임\n",
    "        3-2-5. 생성된 문자열 반환\n",
    "\"\"\"\"\"\"\"\"\"\""
   ]
  },
  {
   "cell_type": "markdown",
   "id": "8a3632b1",
   "metadata": {},
   "source": [
    "# 내 답안"
   ]
  },
  {
   "cell_type": "code",
   "execution_count": 1,
   "id": "94d2730b",
   "metadata": {},
   "outputs": [
    {
     "data": {
      "text/plain": [
       "'df'"
      ]
     },
     "execution_count": 1,
     "metadata": {},
     "output_type": "execute_result"
    }
   ],
   "source": [
    "def check(w):\n",
    "    cnt = 0\n",
    "    if w == '':\n",
    "        return True\n",
    "    for c in w:\n",
    "        if c == '(':\n",
    "            cnt += 1\n",
    "        elif c == ')':\n",
    "            cnt -= 1\n",
    "            if cnt < 0:\n",
    "                return False\n",
    "    if cnt != 0:\n",
    "        return False\n",
    "    return True\n",
    "            \n",
    "def process(w):                 \n",
    "    if w == '' or check(w):\n",
    "        return w\n",
    "    cnt = 0\n",
    "    for i in range(len(w)):\n",
    "        if w[i] =='(':\n",
    "            cnt += 1\n",
    "        else:\n",
    "            cnt -= 1\n",
    "        if cnt == 0:\n",
    "            u = w[:i+1]\n",
    "            if i == len(w) - 1:\n",
    "                v = ''\n",
    "            else:\n",
    "                v = w[i+1:]      \n",
    "            if check(u):\n",
    "                return u + process(v)\n",
    "            else:\n",
    "                string = '('\n",
    "                string += process(v)\n",
    "                string += ')'\n",
    "                if len(u) == 2:\n",
    "                    new_u = ''\n",
    "                else:\n",
    "                    u = u[1:i]\n",
    "                    new_u = ''\n",
    "                    for j in range(len(u)):\n",
    "                        if u[j] == '(':\n",
    "                            new_u += ')'\n",
    "                        else:\n",
    "                            new_u += '('\n",
    "                return string + new_u\n",
    "\n",
    "def solution(p):\n",
    "    if p == '' or check(p):\n",
    "        answer = p\n",
    "    else:\n",
    "        answer = process(p)\n",
    "    return answer"
   ]
  },
  {
   "cell_type": "markdown",
   "id": "23d5b8bc",
   "metadata": {},
   "source": [
    "# 답안 작성 후 생각"
   ]
  },
  {
   "cell_type": "code",
   "execution_count": null,
   "id": "78330dcf",
   "metadata": {},
   "outputs": [],
   "source": [
    "\"\"\"\"\"\"\"\"\"\n",
    "1. 문자열은 튜플처럼 수정이 불가능한 자료 구조이기 때문에, string[0] = 'a'와 같은 형태의 입력이 불가능하다.\n",
    "\n",
    "2. 변수 선언을 반복문 안에 넣을지 밖에 넣을지 잘 생각하고 실수하지 않는다.\n",
    "\"\"\"\"\"\"\"\"\""
   ]
  },
  {
   "cell_type": "markdown",
   "id": "f049c7db",
   "metadata": {},
   "source": [
    "# 정답"
   ]
  },
  {
   "cell_type": "code",
   "execution_count": null,
   "id": "27ade8f0",
   "metadata": {},
   "outputs": [],
   "source": [
    "def balanced_index(p):\n",
    "    count = 0\n",
    "    for i in range(len(p)):\n",
    "        if p[i] == '(':\n",
    "            count += 1\n",
    "        else:\n",
    "            count -= 1\n",
    "        if count == 0:\n",
    "            return i\n",
    "        \n",
    "def check_proper(p):\n",
    "    count = 0\n",
    "    for i in p:\n",
    "        if i == '(':\n",
    "            count += 1\n",
    "        else:\n",
    "            if count == 0:\n",
    "                return False\n",
    "            count -= 1\n",
    "            \n",
    "def solution(p):\n",
    "    answer = ''\n",
    "    if p == '':\n",
    "        return answer\n",
    "    index = balanced_index(p)\n",
    "    u = p[:index + 1]\n",
    "    v = p[index + 1:]\n",
    "    if check_proper(u):\n",
    "        answer = u + solution(v)\n",
    "    else:\n",
    "        answer = '('\n",
    "        answer += solution(v)\n",
    "        answer += ')'\n",
    "        u = list(u[1:-1])\n",
    "        for i in range(len(u)):\n",
    "            if u[i] == '(':\n",
    "                u[i] = ')'\n",
    "            else:\n",
    "                u[i] = '('\n",
    "        answer += \"\".join(u)\n",
    "    return answer"
   ]
  },
  {
   "cell_type": "markdown",
   "id": "186b407f",
   "metadata": {},
   "source": [
    "# 정답 확인 후 생각"
   ]
  },
  {
   "cell_type": "code",
   "execution_count": null,
   "id": "3f1c9fcc",
   "metadata": {},
   "outputs": [],
   "source": [
    "\"\"\"\"\"\"\"\"\"\n",
    "1. balanced_index 함수를 따로 구현하였다.\n",
    "\n",
    "2. check_proper 함수에 빈문자열이 들어가지 않으므로 if p == '' return True 문을 생략했고,\n",
    "닫는 괄호가 나올 때 count가 0이라면 거짓을 출력하도록 구현함으로써 내 코드의 함수보다 깔끔하다.\n",
    "\n",
    "3. 문자열 수정이 불가능한 문제를 해결하기 위해 list(u[1:-1])과 ''.join(u) 문을 이용했다.\n",
    "\n",
    "4. 문자열인 변수의 범위가 아닌 곳을 인덱싱하여 추출하면 빈 문자열이 나온다.\n",
    "\"\"\"\"\"\"\"\"\""
   ]
  }
 ],
 "metadata": {
  "kernelspec": {
   "display_name": "Python 3 (ipykernel)",
   "language": "python",
   "name": "python3"
  },
  "language_info": {
   "codemirror_mode": {
    "name": "ipython",
    "version": 3
   },
   "file_extension": ".py",
   "mimetype": "text/x-python",
   "name": "python",
   "nbconvert_exporter": "python",
   "pygments_lexer": "ipython3",
   "version": "3.7.13"
  }
 },
 "nbformat": 4,
 "nbformat_minor": 5
}
