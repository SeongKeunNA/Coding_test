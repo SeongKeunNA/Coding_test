{
 "cells": [
  {
   "cell_type": "markdown",
   "id": "c6d9c08f",
   "metadata": {},
   "source": [
    "# 코딩 전 생각"
   ]
  },
  {
   "cell_type": "code",
   "execution_count": 1,
   "id": "d90467e8",
   "metadata": {},
   "outputs": [
    {
     "data": {
      "text/plain": [
       "''"
      ]
     },
     "execution_count": 1,
     "metadata": {},
     "output_type": "execute_result"
    }
   ],
   "source": [
    "\"\"\"\"\"\"\"\"\"\"\n",
    "1. 맵 데이터 생성\n",
    "\n",
    "2. 1초마다 가장 번호가 작은 바이러스부터 상하좌우로 증식하는 시뮬레이션 함수 구현\n",
    "\n",
    "3. s초 후에 (x-1, y-1) 위치에 있는 값(바이러스의 종류) 출력\n",
    "\"\"\"\"\"\"\"\"\"\""
   ]
  },
  {
   "cell_type": "markdown",
   "id": "8061b66d",
   "metadata": {},
   "source": [
    "# 내 답안"
   ]
  },
  {
   "cell_type": "code",
   "execution_count": 6,
   "id": "8274c605",
   "metadata": {},
   "outputs": [
    {
     "name": "stdout",
     "output_type": "stream",
     "text": [
      "3 3\n",
      "1 0 2\n",
      "0 0 0\n",
      "3 0 0\n",
      "1 2 2\n",
      "0\n"
     ]
    }
   ],
   "source": [
    "n, k = map(int, input().split())\n",
    "data = []\n",
    "for _ in range(n):\n",
    "    data.append(list(map(int, input().split())))\n",
    "s, X, Y = map(int, input().split())\n",
    "dx = [-1, 1, 0, 0]\n",
    "dy = [0, 0, -1, 1]\n",
    "for i in range(s):\n",
    "    for v in range(1, k+1):\n",
    "        temp = []\n",
    "        for x in range(n):\n",
    "            for y in range(n):\n",
    "                 if data[x][y] == v:\n",
    "                        temp.append((x, y))\n",
    "        for tx,ty in temp:\n",
    "            for i in range(4):\n",
    "                nx = tx + dx[i]\n",
    "                ny = ty + dy[i]\n",
    "                if 0 <= nx < n and 0 <= ny < n and data[nx][ny] == 0:\n",
    "                    data[nx][ny] = v\n",
    "print(data[X-1][Y-1])"
   ]
  },
  {
   "cell_type": "markdown",
   "id": "0019e81c",
   "metadata": {},
   "source": [
    "# 답안 작성 후 생각"
   ]
  },
  {
   "cell_type": "code",
   "execution_count": null,
   "id": "ac9d6c31",
   "metadata": {},
   "outputs": [],
   "source": [
    "\"\"\"\"\"\"\"\"\"\"\n",
    "주어진 입력 예시에 대해 정답을 출력하지만, 백준 사이트에서는 시간초과가 발생한다. \n",
    "\n",
    "시간 복잡도를 계산해보니 계산량이 4천억으로, 역시 for 문만 반복해서는 문제를 풀 수 없는 것 같다.\n",
    "\n",
    "바이러스 위치와 값을 리스트에 저장 ex(1,0,0)하고 큐를 이용한 bfs로 풀어보자.\n",
    "\"\"\"\"\"\"\"\"\"\""
   ]
  },
  {
   "cell_type": "markdown",
   "id": "f4216873",
   "metadata": {},
   "source": [
    "# 2차 답안"
   ]
  },
  {
   "cell_type": "code",
   "execution_count": 12,
   "id": "a1db5490",
   "metadata": {},
   "outputs": [
    {
     "name": "stdout",
     "output_type": "stream",
     "text": [
      "3 3\n",
      "1 0 2\n",
      "0 0 0\n",
      "3 0 0\n",
      "2 3 2\n",
      "q: deque([(1, 0, 0, 0), (2, 0, 2, 0), (3, 2, 0, 0)])\n",
      "data:\n",
      "[1, 0, 2]\n",
      "[0, 0, 0]\n",
      "[3, 0, 0]\n",
      "q: deque([(2, 0, 2, 0), (3, 2, 0, 0), (1, 1, 0, 1), (1, 0, 1, 1)])\n",
      "data:\n",
      "[1, 1, 2]\n",
      "[1, 0, 0]\n",
      "[3, 0, 0]\n",
      "q: deque([(3, 2, 0, 0), (1, 1, 0, 1), (1, 0, 1, 1), (2, 1, 2, 1)])\n",
      "data:\n",
      "[1, 1, 2]\n",
      "[1, 0, 2]\n",
      "[3, 0, 0]\n",
      "q: deque([(1, 1, 0, 1), (1, 0, 1, 1), (2, 1, 2, 1), (3, 2, 1, 1)])\n",
      "data:\n",
      "[1, 1, 2]\n",
      "[1, 0, 2]\n",
      "[3, 3, 0]\n",
      "q: deque([(1, 0, 1, 1), (2, 1, 2, 1), (3, 2, 1, 1), (1, 1, 1, 2)])\n",
      "data:\n",
      "[1, 1, 2]\n",
      "[1, 1, 2]\n",
      "[3, 3, 0]\n",
      "q: deque([(2, 1, 2, 1), (3, 2, 1, 1), (1, 1, 1, 2)])\n",
      "data:\n",
      "[1, 1, 2]\n",
      "[1, 1, 2]\n",
      "[3, 3, 0]\n",
      "q: deque([(3, 2, 1, 1), (1, 1, 1, 2), (2, 2, 2, 2)])\n",
      "data:\n",
      "[1, 1, 2]\n",
      "[1, 1, 2]\n",
      "[3, 3, 2]\n",
      "q: deque([(1, 1, 1, 2), (2, 2, 2, 2)])\n",
      "data:\n",
      "[1, 1, 2]\n",
      "[1, 1, 2]\n",
      "[3, 3, 2]\n",
      "3\n"
     ]
    }
   ],
   "source": [
    "from collections import deque\n",
    "n, k = map(int, input().split())\n",
    "data = []\n",
    "virus = []\n",
    "for i in range(n):\n",
    "    row = (list(map(int, input().split())))\n",
    "    for j in range(n):\n",
    "        if row[j] > 0:\n",
    "            virus.append((row[j], i, j, 0))\n",
    "    data.append(row)\n",
    "\n",
    "q = deque(sorted(virus))            \n",
    "s, X, Y = map(int, input().split())\n",
    "dx = [-1, 1, 0, 0]\n",
    "dy = [0, 0, -1, 1]\n",
    "cnt = -1\n",
    "while q:\n",
    "    v, x, y, c= q.popleft()\n",
    "    if c == s:\n",
    "        break\n",
    "    for i in range(4):\n",
    "        nx =  x+ dx[i]\n",
    "        ny = y + dy[i]\n",
    "        if 0 <= nx < n and 0 <= ny < n and data[nx][ny] == 0:\n",
    "            data[nx][ny] = v\n",
    "            q.append((v, nx, ny, c+1))\n",
    "print(data[X-1][Y-1])"
   ]
  },
  {
   "cell_type": "markdown",
   "id": "6c658f8e",
   "metadata": {},
   "source": [
    "# 2차 답안 작성 후 생각"
   ]
  },
  {
   "cell_type": "code",
   "execution_count": null,
   "id": "2a1137d0",
   "metadata": {},
   "outputs": [],
   "source": [
    "\"\"\"\"\"\"\"\"\"\"\n",
    "큐에 바이러스값과 위치, 그리고 시간(초) 정보를 입력한 bfs로 문제를 해결했다.\n",
    "\"\"\"\"\"\"\"\"\"\""
   ]
  },
  {
   "cell_type": "markdown",
   "id": "e6fa16f4",
   "metadata": {},
   "source": [
    "# 정답"
   ]
  },
  {
   "cell_type": "code",
   "execution_count": null,
   "id": "41214237",
   "metadata": {},
   "outputs": [],
   "source": [
    "from collections import deque\n",
    "\n",
    "n, k = map(int, input().split())\n",
    "graph = []\n",
    "data = []\n",
    "for i in range(n):\n",
    "    graph.append(list(map(int, input().split())))\n",
    "    for j in range(n):\n",
    "        if graph[i][j] != 0:\n",
    "            data.append((graph[i][j], 0, i, j))\n",
    "            \n",
    "data.sort()\n",
    "q = deque(data)\n",
    "\n",
    "target_s, target_x, target_y = map(int, input().split())\n",
    "\n",
    "dx = [-1, 0, 1, 0]\n",
    "dy = [0, 1, 0, -1]\n",
    "\n",
    "while q:\n",
    "    virus, s, x, y = q.popleft()\n",
    "    if s == target_s:\n",
    "        break\n",
    "    for i in range(4):\n",
    "        nx =  x+ dx[i]\n",
    "        ny = y + dy[i]\n",
    "        if 0 <= nx and nx < n and 0 <= ny and nx < n:\n",
    "            if graph[nx][ny] == 0:\n",
    "                graph[nx][ny] = virus\n",
    "                q.append((virus, s+1, nx, ny))\n",
    "print(graph[target_x-1][target_y-1])"
   ]
  },
  {
   "cell_type": "markdown",
   "id": "cd7c460d",
   "metadata": {},
   "source": [
    "# 정답 확인 후 생각"
   ]
  },
  {
   "cell_type": "code",
   "execution_count": null,
   "id": "ac8485c3",
   "metadata": {},
   "outputs": [],
   "source": [
    "\"\"\"\"\"\"\"\"\"\"\n",
    "이상 무\n",
    "\"\"\"\"\"\"\"\"\"\""
   ]
  }
 ],
 "metadata": {
  "kernelspec": {
   "display_name": "Python 3 (ipykernel)",
   "language": "python",
   "name": "python3"
  },
  "language_info": {
   "codemirror_mode": {
    "name": "ipython",
    "version": 3
   },
   "file_extension": ".py",
   "mimetype": "text/x-python",
   "name": "python",
   "nbconvert_exporter": "python",
   "pygments_lexer": "ipython3",
   "version": "3.9.12"
  }
 },
 "nbformat": 4,
 "nbformat_minor": 5
}
