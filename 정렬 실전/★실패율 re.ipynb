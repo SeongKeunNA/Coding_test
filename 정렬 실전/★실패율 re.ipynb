{
 "cells": [
  {
   "cell_type": "markdown",
   "id": "98e78b50",
   "metadata": {},
   "source": [
    "# 코딩 전 생각"
   ]
  },
  {
   "cell_type": "code",
   "execution_count": null,
   "id": "86656733",
   "metadata": {},
   "outputs": [],
   "source": [
    "\"\"\"\"\"\"\"\"\"\"\n",
    "각 스테이지별 실패율을 계산한 뒤 조건에 따라 정렬하여 출력한다.\n",
    "\"\"\"\"\"\"\"\"\"\""
   ]
  },
  {
   "cell_type": "markdown",
   "id": "cef0fb27",
   "metadata": {},
   "source": [
    "# 내 답안"
   ]
  },
  {
   "cell_type": "code",
   "execution_count": 6,
   "id": "8e3aac49",
   "metadata": {},
   "outputs": [
    {
     "name": "stdout",
     "output_type": "stream",
     "text": [
      "[0, 0, 0, 0, 5, 0]\n"
     ]
    },
    {
     "data": {
      "text/plain": [
       "[0, 1, 2, 3, 4, 5]"
      ]
     },
     "execution_count": 6,
     "metadata": {},
     "output_type": "execute_result"
    }
   ],
   "source": [
    "def solution(N, stages):\n",
    "    answer = [] \n",
    "    stages_count = [0] * (N+2)\n",
    "    result = []\n",
    "    fail_rate = [] \n",
    "    for s in stages: \n",
    "        stages_count[s] += 1  # stages_count = [0, 0, 0, 0, 5, 0]\n",
    "    user_num = len(stages) # 5\n",
    "    \n",
    "    for i in range(N+2): # i = 0, 1, 2, 3, 4, 5\n",
    "        if user_num == 0: \n",
    "            for _ in range(i, N+2):\n",
    "                fail_rate.append(0)\n",
    "            break\n",
    "        fail_rate.append(stages_count[i]/user_num) # fail_rate = [0, 0, 0, 0, 1, 0]\n",
    "        user_num -= stages_count[i]\n",
    "        \n",
    "    for i,f in enumerate(fail_rate): \n",
    "        result.append((i, f)) # result = [(0,0), (1,0), (2,0), (3,0), (4,1), (5,0)]\n",
    "        \n",
    "    result = sorted(result[1:-1], key = lambda x: (-(x[1]), (x[0]))) #result = [(4,1),(0,0),(1,0),(2,0),(3,0),(5,0)]\n",
    "    for r in result:\n",
    "        answer.append(r[0]) #answer = [4,0,1,2,3,5]\n",
    "    return answer"
   ]
  },
  {
   "cell_type": "markdown",
   "id": "9f5c6de8",
   "metadata": {},
   "source": [
    "# 답안 작성 후 생각"
   ]
  },
  {
   "cell_type": "code",
   "execution_count": null,
   "id": "50f9af81",
   "metadata": {},
   "outputs": [],
   "source": [
    "\"\"\"\"\"\"\"\"\"\"\n",
    "인덱싱뿐만아니라, stages의 수와 N 중 무엇을 써야할지도 헷갈려서 시간이 조금 걸렸다.\n",
    "\"\"\"\"\"\"\"\"\"\""
   ]
  },
  {
   "cell_type": "markdown",
   "id": "b4e9c0ff",
   "metadata": {},
   "source": [
    "# 정답"
   ]
  },
  {
   "cell_type": "code",
   "execution_count": null,
   "id": "67a9e95d",
   "metadata": {},
   "outputs": [],
   "source": [
    "def solution(N, stages):\n",
    "    asnwer = []\n",
    "    length = len(stages)\n",
    "    \n",
    "    for i in range(1, N+1):\n",
    "        count = stages.count(i)\n",
    "        \n",
    "        if length == 0:\n",
    "            fail = 0\n",
    "        else:\n",
    "            fail = count / legnth\n",
    "        answer.aapend((i, fail))\n",
    "        length -= count\n",
    "    answer = sorted(answer, key = lambda t: t[1], reverse = True)\n",
    "    \n",
    "    answer = [i[0] for i in answer]\n",
    "    return answer"
   ]
  },
  {
   "cell_type": "markdown",
   "id": "10ce29aa",
   "metadata": {},
   "source": [
    "# 정답 확인 후 생각"
   ]
  },
  {
   "cell_type": "code",
   "execution_count": 7,
   "id": "0e8d4cf6",
   "metadata": {},
   "outputs": [
    {
     "ename": "SyntaxError",
     "evalue": "EOF while scanning triple-quoted string literal (886353925.py, line 1)",
     "output_type": "error",
     "traceback": [
      "\u001b[1;36m  File \u001b[1;32m\"C:\\Users\\najonggeun\\AppData\\Local\\Temp\\ipykernel_16196\\886353925.py\"\u001b[1;36m, line \u001b[1;32m1\u001b[0m\n\u001b[1;33m    \"\"\"\"\"\"\"\"\"\"\u001b[0m\n\u001b[1;37m              ^\u001b[0m\n\u001b[1;31mSyntaxError\u001b[0m\u001b[1;31m:\u001b[0m EOF while scanning triple-quoted string literal\n"
     ]
    }
   ],
   "source": [
    "\"\"\"\"\"\"\"\"\"\"\n",
    "1. 매번 count 함수로 i단계(i=1~n)에 머물러 있는 플레이어의 수를 센다.\n",
    "\n",
    "2. 하나의 기준으로만 정렬해도 나머지 하나의 기준은 오름차순으로 자동으로 정렬된다.\n",
    "\n",
    "3. 각 원소의 앞의 숫자만 추출하기 위해 answer = [i[0] for i in answer] 구문을 활용했다.\n",
    "\"\"\"\"\"\"\"\"\"\""
   ]
  }
 ],
 "metadata": {
  "kernelspec": {
   "display_name": "Python 3 (ipykernel)",
   "language": "python",
   "name": "python3"
  },
  "language_info": {
   "codemirror_mode": {
    "name": "ipython",
    "version": 3
   },
   "file_extension": ".py",
   "mimetype": "text/x-python",
   "name": "python",
   "nbconvert_exporter": "python",
   "pygments_lexer": "ipython3",
   "version": "3.7.13"
  }
 },
 "nbformat": 4,
 "nbformat_minor": 5
}
