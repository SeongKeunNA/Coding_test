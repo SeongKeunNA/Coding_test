{
 "cells": [
  {
   "cell_type": "markdown",
   "id": "cf93536a",
   "metadata": {},
   "source": [
    "# 코딩 전 생각"
   ]
  },
  {
   "cell_type": "code",
   "execution_count": null,
   "id": "ef9b851e",
   "metadata": {},
   "outputs": [],
   "source": [
    "\"\"\"\"\"\"\"\"\"\"\n",
    "1. stage 리스트를 계수정렬한 리스트 stages_ 생성\n",
    "\n",
    "2. 반목문으로 stages_의 원소를 하나씩 뽑고, 원소의 값 / n - (현재 스테이지 이전까지 도전한 플레이어 수)을 구함\n",
    "\n",
    "3. 2에서 구한 값을 (i+1, 실패율) 튜플로 data 리스트에 삽입\n",
    "\n",
    "4. data 리스트를 실패율 내림차순으로 정렬하고 answer 리스트에 i+1 부분만 따로 삽입\n",
    "\"\"\"\"\"\"\"\"\"\""
   ]
  },
  {
   "cell_type": "markdown",
   "id": "0a51e1ed",
   "metadata": {},
   "source": [
    "# 내 답안 "
   ]
  },
  {
   "cell_type": "code",
   "execution_count": 1,
   "id": "66a86aab",
   "metadata": {},
   "outputs": [],
   "source": [
    "def solution(N, stages):\n",
    "    answer = []\n",
    "    stages_ = [0] * (N+2)\n",
    "    remain = len(stages)\n",
    "    data = []\n",
    "    for i in range(len(stages)):\n",
    "        stages_[stages[i]] += 1\n",
    "    for i in range(1, N+1):\n",
    "        if remain == 0:\n",
    "            for j in range(i, N+1):\n",
    "                data.append((j, 0))\n",
    "            break           \n",
    "        data.append((i, (stages_[i] / remain)))\n",
    "        remain -= stages_[i]\n",
    "    data.sort(key = lambda x:(-x[1], x[0])) \n",
    "    for i in data:\n",
    "        answer.append(i[0])\n",
    "    return answer"
   ]
  },
  {
   "cell_type": "markdown",
   "id": "df8ec4d6",
   "metadata": {},
   "source": [
    "# 답안 작성 후 생각"
   ]
  },
  {
   "cell_type": "code",
   "execution_count": null,
   "id": "d7f05ca5",
   "metadata": {},
   "outputs": [],
   "source": [
    "\"\"\"\"\"\"\"\"\"\"\n",
    "구현이 특별히 까다롭진 않았다. \n",
    "\n",
    "하지만 리스트 원소의 개수를 꼼꼼히 세야했고, 특히 마지막에 remain == 0 인 상황에서 i+1이 아니라\n",
    "\n",
    "i부터 나머지에 대하여 0의 실패율을 기록해야했는데 i+1로 잘못해서 시간을 허비했다.\n",
    "\"\"\"\"\"\"\"\"\"\""
   ]
  },
  {
   "cell_type": "markdown",
   "id": "378f6fd9",
   "metadata": {},
   "source": [
    "# 정답"
   ]
  },
  {
   "cell_type": "code",
   "execution_count": null,
   "id": "9fd74722",
   "metadata": {},
   "outputs": [],
   "source": [
    "def soluition(N, stages):\n",
    "    answer = []\n",
    "    length = len(stages)\n",
    "    \n",
    "    for i in range(1, N + 1):\n",
    "        count = stages.count(i)\n",
    "        \n",
    "        if length == 0:\n",
    "            fail = 0\n",
    "        else:\n",
    "            fail = count / length\n",
    "            \n",
    "        answer.append((i, fail))\n",
    "        length -= count\n",
    "        \n",
    "    answser = sorted(answer, key = lambda t: t[1], reverse = True)\n",
    "    \n",
    "    answer = [i[0] for i in answer]\n",
    "    return answer"
   ]
  },
  {
   "cell_type": "markdown",
   "id": "7eefe931",
   "metadata": {},
   "source": [
    "# 정답 확인 후 생각"
   ]
  },
  {
   "cell_type": "code",
   "execution_count": null,
   "id": "4200013a",
   "metadata": {},
   "outputs": [],
   "source": [
    "\"\"\"\"\"\"\"\"\"\"\n",
    "문제 풀이 아이디어는 동일하나, 내 답안처럼 계수 정렬 방식을 사용한 것이 아니라,\n",
    "\n",
    "단순히 stages.count를 사용해 해당 스테이지에 머물러 있는 사람의 수를 계산했다.\n",
    "\n",
    "또한 남은 사람이 0일 경우 따로 반복문으로 해당 스테이지 이후의 모든 스테이지를 0으로 만드는 것이 아니라,\n",
    "\n",
    "단순히 반복문에 조건을 추가하여 남은 사람이 0일 경우 실패율을 0으로 만들도록 했다.\n",
    "\n",
    "그 외에 answer을 정렬할 때에도 비록 문제에서 정렬 기준을 두 개를 줬지만, 마지막 조건은 따로 주지 않았다.\n",
    "\n",
    "왜냐하면, 애초에 반복문의 순서대로 리스트에 원소들이 들어오기 때문에\n",
    "\n",
    "파이썬 정렬의 기본 성질인 따로 정렬 기준이 주어지지 않는 이상 원래 원소의 순서를 지키는 것을 이용한 듯하다.\n",
    "\n",
    "마지막으로 answer = [[i[0] for i in answer] 라고 깔끔하게 표현한 것도 익혀보자.\n",
    "\"\"\"\"\"\"\"\"\"\""
   ]
  }
 ],
 "metadata": {
  "kernelspec": {
   "display_name": "pytorch",
   "language": "python",
   "name": "pt1.1"
  },
  "language_info": {
   "codemirror_mode": {
    "name": "ipython",
    "version": 3
   },
   "file_extension": ".py",
   "mimetype": "text/x-python",
   "name": "python",
   "nbconvert_exporter": "python",
   "pygments_lexer": "ipython3",
   "version": "3.9.7"
  }
 },
 "nbformat": 4,
 "nbformat_minor": 5
}
