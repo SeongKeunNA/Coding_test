{
 "cells": [
  {
   "cell_type": "markdown",
   "id": "e8176c0e",
   "metadata": {},
   "source": [
    "# 코딩 전 생각"
   ]
  },
  {
   "cell_type": "code",
   "execution_count": null,
   "id": "8922922a",
   "metadata": {},
   "outputs": [],
   "source": [
    "\"\"\"\"\"\"\"\"\"\"\n",
    "정렬된 숫자 카드 묶음(각각 A장, B장)을 합쳐서 하나로 만드는 데에 A+B번의 비교가 필요하다는 말이 무슨 말인지는\n",
    "\n",
    "이해하지 못했지만, 문제에서의 조건을 받아들인다면 모든 숫자 카드 묶음을 장수 기준으로 오름차순 정렬한 뒤에\n",
    "\n",
    "하나씩 합쳐나가면 된다.\n",
    "\"\"\"\"\"\"\"\"\"\""
   ]
  },
  {
   "cell_type": "markdown",
   "id": "174d6f62",
   "metadata": {},
   "source": [
    "# 내 답안"
   ]
  },
  {
   "cell_type": "code",
   "execution_count": 37,
   "id": "07fbba2b",
   "metadata": {},
   "outputs": [
    {
     "name": "stdout",
     "output_type": "stream",
     "text": [
      "3\n",
      "10\n",
      "20\n",
      "40\n",
      "100\n"
     ]
    }
   ],
   "source": [
    "import heapq\n",
    "answer = 0\n",
    "n = int(input())\n",
    "cards = []\n",
    "for _ in range(n):\n",
    "    heapq.heappush(cards, int(input())) # cards = [10, 20, 40, 50]\n",
    "\n",
    "if len(list(cards)) == 1:\n",
    "    answer = 0\n",
    "    \n",
    "else:\n",
    "    while True:\n",
    "        v1 = heapq.heappop(cards) #10 30 70\n",
    "        v2 = heapq.heappop(cards) #20 40 100\n",
    "        val = v1+v2 #30 70 170\n",
    "        answer += val #30 100 270\n",
    "        if not cards:\n",
    "            break\n",
    "        heapq.heappush(cards, val) #[30, 40, 50] #[70 100]\n",
    "print(answer)"
   ]
  },
  {
   "cell_type": "markdown",
   "id": "893c43fd",
   "metadata": {},
   "source": [
    "# 답안 작성 후 생각"
   ]
  },
  {
   "cell_type": "code",
   "execution_count": null,
   "id": "aade8f18",
   "metadata": {},
   "outputs": [],
   "source": [
    "\"\"\"\"\"\"\"\"\"\"\n",
    "heapq 자료구조를 이용해 정렬을 이용하지 않고 효율적으로 풀었다.\n",
    "\n",
    "백준 2등에 랭크되신 scientist님의 풀이(https://www.acmicpc.net/source/43080528)\n",
    "\n",
    "를 보니 while 반복문이 아니라 n-1번 반복하면 카드 묶음의 개수가 1일 때를 따로 고려하지 않아도 된다.\n",
    "\"\"\"\"\"\"\"\"\"\""
   ]
  },
  {
   "cell_type": "markdown",
   "id": "627e7d73",
   "metadata": {},
   "source": [
    "# 정답"
   ]
  },
  {
   "cell_type": "code",
   "execution_count": null,
   "id": "f3b207e9",
   "metadata": {},
   "outputs": [],
   "source": [
    "import heapq\n",
    "\n",
    "n = int(input())\n",
    "\n",
    "heap = []\n",
    "for i in range(n):\n",
    "    data = int(input())\n",
    "    heapq.heappush(heap, data)\n",
    "result = 0\n",
    "\n",
    "while len(heap) != 1:\n",
    "    one = heapq.heappop(heap)\n",
    "    two = heapq.heappop(heap)\n",
    "    sum_value = one + two\n",
    "    result += sum_value\n",
    "    heapq.heappush(heap, sum_value)\n",
    "print(result)"
   ]
  },
  {
   "cell_type": "markdown",
   "id": "0a4e870b",
   "metadata": {},
   "source": [
    "# 정답 확인 후 생각"
   ]
  },
  {
   "cell_type": "code",
   "execution_count": null,
   "id": "d3d3a890",
   "metadata": {},
   "outputs": [],
   "source": [
    "\"\"\"\"\"\"\"\"\"\"\n",
    "이상 무\n",
    "\"\"\"\"\"\"\"\"\"\""
   ]
  }
 ],
 "metadata": {
  "kernelspec": {
   "display_name": "Python 3 (ipykernel)",
   "language": "python",
   "name": "python3"
  },
  "language_info": {
   "codemirror_mode": {
    "name": "ipython",
    "version": 3
   },
   "file_extension": ".py",
   "mimetype": "text/x-python",
   "name": "python",
   "nbconvert_exporter": "python",
   "pygments_lexer": "ipython3",
   "version": "3.7.13"
  }
 },
 "nbformat": 4,
 "nbformat_minor": 5
}
