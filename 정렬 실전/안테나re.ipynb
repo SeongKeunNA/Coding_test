{
 "cells": [
  {
   "cell_type": "markdown",
   "id": "274fc45c",
   "metadata": {},
   "source": [
    "# 코딩 전 생각"
   ]
  },
  {
   "cell_type": "code",
   "execution_count": null,
   "id": "edadde27",
   "metadata": {},
   "outputs": [],
   "source": [
    "\"\"\"\"\"\"\"\"\"\n",
    "집들의 위치를 정렬한 후 정확히 중앙에 있는(n//2) 집의 위치를 출력한다.\n",
    "\"\"\"\"\"\"\"\"\""
   ]
  },
  {
   "cell_type": "markdown",
   "id": "f2502bc9",
   "metadata": {},
   "source": [
    "# 내 답안"
   ]
  },
  {
   "cell_type": "code",
   "execution_count": 9,
   "id": "c4d4f3bf",
   "metadata": {},
   "outputs": [],
   "source": [
    "del(input)"
   ]
  },
  {
   "cell_type": "code",
   "execution_count": 11,
   "id": "3de690fe",
   "metadata": {},
   "outputs": [
    {
     "name": "stdout",
     "output_type": "stream",
     "text": [
      "4\n",
      "5 1 7 9\n",
      "5\n"
     ]
    }
   ],
   "source": [
    "n = int(input())\n",
    "location = list(map(int, input().split()))\n",
    "location.sort()\n",
    "if n % 2 == 0:\n",
    "    idx = n//2 - 1\n",
    "else:\n",
    "    idx = n//2\n",
    "print(location[idx])"
   ]
  },
  {
   "cell_type": "markdown",
   "id": "0c20277c",
   "metadata": {},
   "source": [
    "# 답안 작성 후 생각"
   ]
  },
  {
   "cell_type": "code",
   "execution_count": null,
   "id": "3994bcaa",
   "metadata": {},
   "outputs": [],
   "source": [
    "\"\"\"\"\"\"\"\"\"\"\n",
    "이상 무\n",
    "\"\"\"\"\"\"\"\"\"\""
   ]
  },
  {
   "cell_type": "markdown",
   "id": "19dda1bc",
   "metadata": {},
   "source": [
    "# 정답"
   ]
  },
  {
   "cell_type": "code",
   "execution_count": null,
   "id": "5f3bf716",
   "metadata": {},
   "outputs": [],
   "source": [
    "n = int(input())\n",
    "data = list(map(int, input().split()))\n",
    "data.sort()\n",
    "\n",
    "print(data[(n - 1) // 2])"
   ]
  },
  {
   "cell_type": "markdown",
   "id": "a27cd6ff",
   "metadata": {},
   "source": [
    "# 정답 확인 후 생각"
   ]
  },
  {
   "cell_type": "code",
   "execution_count": null,
   "id": "afad6cc7",
   "metadata": {},
   "outputs": [],
   "source": [
    "\"\"\"\"\"\"\"\"\"\"\n",
    "정확히 중간값을 구하기 위한 식으로 (n-1)//2 을 사용했다.\n",
    "\"\"\"\"\"\"\"\"\"\""
   ]
  }
 ],
 "metadata": {
  "kernelspec": {
   "display_name": "Python 3 (ipykernel)",
   "language": "python",
   "name": "python3"
  },
  "language_info": {
   "codemirror_mode": {
    "name": "ipython",
    "version": 3
   },
   "file_extension": ".py",
   "mimetype": "text/x-python",
   "name": "python",
   "nbconvert_exporter": "python",
   "pygments_lexer": "ipython3",
   "version": "3.7.13"
  }
 },
 "nbformat": 4,
 "nbformat_minor": 5
}
