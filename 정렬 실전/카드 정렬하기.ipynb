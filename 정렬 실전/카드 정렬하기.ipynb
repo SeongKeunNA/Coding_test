{
 "cells": [
  {
   "cell_type": "markdown",
   "id": "605510e3",
   "metadata": {},
   "source": [
    "# 코딩 전 생각"
   ]
  },
  {
   "cell_type": "code",
   "execution_count": null,
   "id": "0797d7c6",
   "metadata": {},
   "outputs": [],
   "source": [
    "\"\"\"\"\"\"\"\"\"\"\n",
    "우선 A + B번의 비교를 해야한다는 것이 무슨 의미인지 모르겠다.\n",
    "\n",
    "숫자를 확인하며 새로운 정렬을 해야한다는 의미인 것 같기는 하다.\n",
    "\n",
    "숫자 카드 묶음을 오름차순 정렬한 뒤, 한 묶음 씩 더해나가며 비교 회수 변수를 갱신하면 될 것 같다.\n",
    "\"\"\"\"\"\"\"\"\"\""
   ]
  },
  {
   "cell_type": "markdown",
   "id": "066b6c71",
   "metadata": {},
   "source": [
    "# 내 답안"
   ]
  },
  {
   "cell_type": "code",
   "execution_count": 14,
   "id": "aa314ca4",
   "metadata": {},
   "outputs": [
    {
     "name": "stdout",
     "output_type": "stream",
     "text": [
      "3\n",
      "10\n",
      "20\n",
      "40\n",
      "card: deque([10, 20, 40]) count: 0\n",
      "select: [10, 20] card: deque([40]) count: 30\n",
      "-----------\n",
      "card: deque([30, 40]) count: 30\n",
      "select: [30, 40] card: deque([]) count: 100\n",
      "-----------\n",
      "100\n"
     ]
    }
   ],
   "source": [
    "from collections import deque\n",
    "n = int(input())\n",
    "card = []\n",
    "for i in range(n):\n",
    "    card.append(int(input()))\n",
    "count = 0\n",
    "card = deque(card)\n",
    "if n == 1:\n",
    "    print(card[0])\n",
    "else:\n",
    "    while card:\n",
    "        card = deque(sorted(list(card)))\n",
    "        select = []\n",
    "        for i in range(2):\n",
    "            select.append(card.popleft())\n",
    "        count += sum(select)\n",
    "        if len(card) == 0:\n",
    "            print(count)\n",
    "            break\n",
    "        else:\n",
    "            card.appendleft(sum(select))     "
   ]
  },
  {
   "cell_type": "markdown",
   "id": "6bd7c8ff",
   "metadata": {},
   "source": [
    "# 답안 작성 후 생각"
   ]
  },
  {
   "cell_type": "code",
   "execution_count": null,
   "id": "60e02002",
   "metadata": {},
   "outputs": [],
   "source": [
    "\"\"\"\"\"\"\"\"\"\"\n",
    "생각했던 것보다는 시간이 걸렸다.\n",
    "\n",
    "deque을 활용해 매번 가장 작은 두 개의 카드 묶음을 고르고, count 함수에 두 묶음의 합계를 더한 뒤에 더한 값을 새로 덱에 넣는 것을 반복한다.\n",
    "\"\"\"\"\"\"\"\"\"\""
   ]
  },
  {
   "cell_type": "markdown",
   "id": "3b9243f9",
   "metadata": {},
   "source": [
    "# 정답"
   ]
  },
  {
   "cell_type": "code",
   "execution_count": null,
   "id": "7ff67aef",
   "metadata": {},
   "outputs": [],
   "source": [
    "import heapq\n",
    "\n",
    "n = int(input())\n",
    "\n",
    "# 힙(heap)에 초기 카드 묶음을 모두 삽입\n",
    "heap = []\n",
    "for i in range(n):\n",
    "    data = int(input())\n",
    "    heapq.heappush(heap, data)\n",
    "    \n",
    "result = 0\n",
    "\n",
    "# 힙(heap)에 원소가 1개 남을 때까지\n",
    "while len(heap) != 1:\n",
    "    # 가장 작은 2개의 카드 묶음 꺼내기\n",
    "    one = heapq.heappop(heap)\n",
    "    two = heapq.heappop(heap)\n",
    "    # 카드 묶음을 합쳐서 다시 삽입\n",
    "    sum_value = one + two\n",
    "    result += sum_value\n",
    "    heapq.heappush(heap, sym_value)\n",
    "print(result)"
   ]
  },
  {
   "cell_type": "markdown",
   "id": "3801705a",
   "metadata": {},
   "source": [
    "# 정답 확인 후 생각 "
   ]
  },
  {
   "cell_type": "code",
   "execution_count": null,
   "id": "5130f127",
   "metadata": {},
   "outputs": [],
   "source": [
    "\"\"\"\"\"\"\"\"\"\"\n",
    "deque이 아닌 우선순위큐인 heap 자료구조를 이용했다.\n",
    "\n",
    "풀이 과정은 동일하다.\n",
    "\"\"\"\"\"\"\"\"\"\""
   ]
  }
 ],
 "metadata": {
  "kernelspec": {
   "display_name": "pytorch",
   "language": "python",
   "name": "pt1.1"
  },
  "language_info": {
   "codemirror_mode": {
    "name": "ipython",
    "version": 3
   },
   "file_extension": ".py",
   "mimetype": "text/x-python",
   "name": "python",
   "nbconvert_exporter": "python",
   "pygments_lexer": "ipython3",
   "version": "3.9.7"
  }
 },
 "nbformat": 4,
 "nbformat_minor": 5
}
