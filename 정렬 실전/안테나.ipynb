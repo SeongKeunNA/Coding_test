{
 "cells": [
  {
   "cell_type": "markdown",
   "id": "0b6d666e",
   "metadata": {},
   "source": [
    "# 코딩 전 생각"
   ]
  },
  {
   "cell_type": "code",
   "execution_count": 1,
   "id": "12289846",
   "metadata": {},
   "outputs": [
    {
     "data": {
      "text/plain": [
       "'\"\\n집의 위치 리스트를 정렬하고 가능한 안테나의 설치 위치마다 거리의 총합을 계산하며 최솟값을 갱신한다.\\n'"
      ]
     },
     "execution_count": 1,
     "metadata": {},
     "output_type": "execute_result"
    }
   ],
   "source": [
    "\"\"\"\"\"\"\"\"\"\"\n",
    "집의 위치 리스트를 정렬하고 가능한 안테나의 설치 위치마다 거리의 총합을 계산하며 최솟값을 갱신한다.\n",
    "\"\"\"\"\"\"\"\"\"\"\""
   ]
  },
  {
   "cell_type": "markdown",
   "id": "1b2c5d5d",
   "metadata": {},
   "source": [
    "# 내 답안"
   ]
  },
  {
   "cell_type": "code",
   "execution_count": 5,
   "id": "7e1b1a4b",
   "metadata": {},
   "outputs": [
    {
     "name": "stdout",
     "output_type": "stream",
     "text": [
      "4\n",
      "5 1 7 9\n",
      "5\n"
     ]
    }
   ],
   "source": [
    "n = int(input())\n",
    "data = list(map(int, input().split()))\n",
    "data.sort()\n",
    "answer = 100001\n",
    "for i in data:\n",
    "    total = 0\n",
    "    for j in data:\n",
    "        total += abs(i - j)\n",
    "    if total < answer:\n",
    "        answer = total\n",
    "        location = i  \n",
    "print(location)"
   ]
  },
  {
   "cell_type": "markdown",
   "id": "9ddc7321",
   "metadata": {},
   "source": [
    "# 정답"
   ]
  },
  {
   "cell_type": "code",
   "execution_count": null,
   "id": "e78dedff",
   "metadata": {},
   "outputs": [],
   "source": [
    "n = int(input())\n",
    "data = list(map(int, input().split()))\n",
    "data.sort()\n",
    "\n",
    "print(data[(n-1) // 2])"
   ]
  },
  {
   "cell_type": "markdown",
   "id": "5f83c46f",
   "metadata": {},
   "source": [
    "# 정답 확인 후 생각"
   ]
  },
  {
   "cell_type": "code",
   "execution_count": 1,
   "id": "a0f0262c",
   "metadata": {},
   "outputs": [
    {
     "data": {
      "text/plain": [
       "'\"\\n집의 위치 리스트를 정렬하고 가능한 안테나의 설치 위치마다 거리의 총합을 계산하며 최솟값을 갱신한다.\\n'"
      ]
     },
     "execution_count": 1,
     "metadata": {},
     "output_type": "execute_result"
    }
   ],
   "source": [
    "\"\"\"\"\"\"\"\"\"\"\n",
    "조금만 생각해보니 답지처럼 median 인덱스의 값을 출력하면 그만이다.\n",
    "\"\"\"\"\"\"\"\"\"\"\""
   ]
  }
 ],
 "metadata": {
  "kernelspec": {
   "display_name": "pytorch",
   "language": "python",
   "name": "pt1.1"
  },
  "language_info": {
   "codemirror_mode": {
    "name": "ipython",
    "version": 3
   },
   "file_extension": ".py",
   "mimetype": "text/x-python",
   "name": "python",
   "nbconvert_exporter": "python",
   "pygments_lexer": "ipython3",
   "version": "3.9.7"
  }
 },
 "nbformat": 4,
 "nbformat_minor": 5
}
