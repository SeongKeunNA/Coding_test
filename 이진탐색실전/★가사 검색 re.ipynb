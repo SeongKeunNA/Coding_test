{
 "cells": [
  {
   "cell_type": "markdown",
   "id": "61ebb576",
   "metadata": {},
   "source": [
    "# 코딩 전 생각"
   ]
  },
  {
   "cell_type": "code",
   "execution_count": 1,
   "id": "3407b665",
   "metadata": {},
   "outputs": [
    {
     "ename": "SyntaxError",
     "evalue": "EOL while scanning string literal (152850089.py, line 2)",
     "output_type": "error",
     "traceback": [
      "\u001b[1;36m  File \u001b[1;32m\"C:\\Users\\najonggeun\\AppData\\Local\\Temp\\ipykernel_23604\\152850089.py\"\u001b[1;36m, line \u001b[1;32m2\u001b[0m\n\u001b[1;33m    \"\"\"\"\"\"\"\"\"\"\u001b[0m\n\u001b[1;37m              \n^\u001b[0m\n\u001b[1;31mSyntaxError\u001b[0m\u001b[1;31m:\u001b[0m EOL while scanning string literal\n"
     ]
    }
   ],
   "source": [
    "\"\"\"\"\"\"\"\"\"\"\n",
    "words와 words의 단어를 역순으로 배열한 w,wr 리스트를 선언한다.\n",
    "\n",
    "w와 wr의 원소 길이의 최댓값을 지정(wmax wrmax)\n",
    "\n",
    "wmax와 wrmax의 길이를 갖는 wlen과 wlen 이중 리스트를 만들고, 길이에 맞는 위치에 w,wr의 원소를 삽입한다.\n",
    "\n",
    "\n",
    "1. \"fro??\" 형태:\n",
    "     w[len(q)]에서 해당 단어의 ? 앞 글자까지가 같은 문자열의 가장 왼쪽 인덱스값과 가장 오른쪽 인덱스값을 구해 계산\n",
    "\n",
    "2 \"??odo\" 형태:\n",
    "    wr[len(q)]에서 해당 쿼리를 역순으로 정렬한 단어의 ? 앞 글자까지가 같은 문자열의 가장 왼쪽 인덱스값과 가장 오른쪽 인덱스 값을 구해 계산\n",
    "    \n",
    "3. '?????' 형태:\n",
    "    len(wr[len(q)]) 계산\n",
    "\"\"\"\"\"\"\"\"\"\""
   ]
  },
  {
   "cell_type": "markdown",
   "id": "3b083c18",
   "metadata": {},
   "source": [
    "# 내 답안"
   ]
  },
  {
   "cell_type": "code",
   "execution_count": 3,
   "id": "dce30da5",
   "metadata": {},
   "outputs": [
    {
     "name": "stdout",
     "output_type": "stream",
     "text": [
      "wbylen: [[], [], [], [], [], ['frame', 'frodo', 'front', 'frost', 'kakao'], ['frozen']]\n",
      "wrbylen: [[], [], [], [], [], ['emarf', 'oakak', 'odorf', 'tnorf', 'tsorf'], ['nezorf']]\n",
      "q: fro??\n",
      "length : 5\n",
      "q: ????o\n",
      "length : 5\n",
      "q: fr???\n",
      "length : 5\n",
      "q: fro???\n",
      "length : 1\n",
      "q: pro?\n",
      "length : 0\n"
     ]
    },
    {
     "data": {
      "text/plain": [
       "[3, 2, 4, 1, 0]"
      ]
     },
     "execution_count": 3,
     "metadata": {},
     "output_type": "execute_result"
    }
   ],
   "source": [
    "def string_idx(q): # o????\n",
    "    s, e = 0, len(q)-1\n",
    "    while s <= e:\n",
    "        mid = (s + e) // 2\n",
    "        if q[mid] == '?':\n",
    "            idx = mid\n",
    "            e = mid - 1\n",
    "        else:\n",
    "            s = mid + 1\n",
    "    return idx\n",
    "\n",
    "def count_by_value(w, length, q):\n",
    "    idx = string_idx(q) \n",
    "    string = q[:idx] \n",
    "    s, e = 0, length - 1\n",
    "    while s <= e:\n",
    "        mid = (s + e) // 2\n",
    "        if w[len(q)][mid][:idx] > string:\n",
    "            e = mid - 1\n",
    "        elif w[len(q)][mid][:idx] < string:\n",
    "            s = mid + 1\n",
    "        else:\n",
    "            min_idx, max_idx = mid, mid\n",
    "            s, e = 0, min_idx\n",
    "            while s <= e:\n",
    "                mid = (s + e) // 2\n",
    "                if w[len(q)][mid][:idx] == string:\n",
    "                    min_idx = mid\n",
    "                    e = mid - 1\n",
    "                else:\n",
    "                    s = mid + 1\n",
    "            s, e = max_idx, length - 1\n",
    "            while s <= e:\n",
    "                mid = (s + e) // 2\n",
    "                if w[len(q)][mid][:idx] == string:\n",
    "                    max_idx = mid\n",
    "                    s = mid + 1\n",
    "                else:\n",
    "                    e = mid - 1\n",
    "            return max_idx - min_idx + 1\n",
    "    else:\n",
    "        return 0\n",
    "\n",
    "def solution(words, queries):\n",
    "    answer = []\n",
    "    wr = [w[::-1] for w in words]\n",
    "    qmax = max([len(q) for q in queries])\n",
    "    wbylen = [[] for _ in range(qmax+1)]\n",
    "    wrbylen = [[]for _ in range(qmax+1)]\n",
    "    for w in words:\n",
    "        wbylen[len(w)].append(w)\n",
    "    for w in wr:\n",
    "        wrbylen[len(w)].append(w)\n",
    "    for w in [wbylen, wrbylen]:\n",
    "        for i in w:\n",
    "            if len(i) > 1:\n",
    "                i.sort()\n",
    "\n",
    "    for q in queries:\n",
    "        length = len(wbylen[len(q)])\n",
    "        if length == 0:\n",
    "            answer.append(0)\n",
    "        elif q[-1] == '?' and q[0] == '?':\n",
    "            answer.append(length)\n",
    "        elif q[-1] == '?':\n",
    "            answer.append(count_by_value(wbylen, length, q))\n",
    "        elif q[0] == '?':\n",
    "            answer.append(count_by_value(wrbylen, length, q[::-1]))\n",
    "    return answer\n",
    "solution([\"frodo\", \"front\", \"frost\", \"frozen\", \"frame\", \"kakao\"], [\"fro??\", \"????o\", \"fr???\", \"fro???\", \"pro?\"])"
   ]
  },
  {
   "cell_type": "markdown",
   "id": "eefd395d",
   "metadata": {},
   "source": [
    "# 답안 작성 후 생각"
   ]
  },
  {
   "cell_type": "code",
   "execution_count": null,
   "id": "094aefed",
   "metadata": {},
   "outputs": [],
   "source": [
    "\"\"\"\"\"\"\"\"\"\"\n",
    "1. words의 각 단어들과 그 단어를 역순으로 뒤집은 단어들을 각각 길이별로 새로운 이중리스트 wbylen, wrbylen에 넣는다.\n",
    "\n",
    "2. wbylen과 wrbylen의 단어 묶음 중 길이가 2 이상인 단어 묶음을 정렬한다.\n",
    "\n",
    "3. queries의 각 쿼리들에 대해 반복하여, 이진 탐색 함수를 통해 조건에 알맞는 단어의 수를 answer 리스트에 추가한다.\n",
    "\"\"\"\"\"\"\"\"\"\""
   ]
  },
  {
   "cell_type": "markdown",
   "id": "2c35ede5",
   "metadata": {},
   "source": [
    "# 정답"
   ]
  },
  {
   "cell_type": "code",
   "execution_count": null,
   "id": "3eee53c0",
   "metadata": {},
   "outputs": [],
   "source": [
    "from bisect import bisect_left, bisect_right\n",
    "\n",
    "def count_by_range(a, left_value, right_value):\n",
    "    right_index = bisect_right(a, right_value)\n",
    "    lieft_index = bisect_left(a, left_value)\n",
    "    return right_index - left_index\n",
    "\n",
    "array = [[] for _ in range(10001)]\n",
    "reversed_array = [[] for _ in range(10001)]\n",
    "\n",
    "def solution(words, queries):\n",
    "    answer = []\n",
    "    for word in words:\n",
    "        array[len(word)].append(word)\n",
    "        reversed_array[len(word)].append(words[::-1])\n",
    "    \n",
    "    for i in range(10001):\n",
    "        array[i].sort()\n",
    "        reversed_array[i].sort()\n",
    "        \n",
    "    for q in queries:\n",
    "        if q[0] != '?':\n",
    "            res = count_by_range(array[len(q)], q.replace('?', 'a'), q.replace('?', 'z'))\n",
    "        else:\n",
    "            res = count_by_range(reversed_array[len(q)], q[::-1].replace('?', 'a'), q[::-1].replace('?', 'z'))\n",
    "        answer.append(res)\n",
    "    return answer"
   ]
  },
  {
   "cell_type": "markdown",
   "id": "aae486c6",
   "metadata": {},
   "source": [
    "# 정답 확인 후 생각"
   ]
  },
  {
   "cell_type": "code",
   "execution_count": null,
   "id": "10b8c45a",
   "metadata": {},
   "outputs": [],
   "source": [
    "\"\"\"\"\"\"\"\"\"\"\n",
    "'fro??' 라는 쿼리가 들어오면, bisect 라이브러리를 통해 'froaa' 부터 'frozz'사이의 거리를 구해 해결한다.\n",
    "\"\"\"\"\"\"\"\"\"\""
   ]
  }
 ],
 "metadata": {
  "kernelspec": {
   "display_name": "Python 3 (ipykernel)",
   "language": "python",
   "name": "python3"
  },
  "language_info": {
   "codemirror_mode": {
    "name": "ipython",
    "version": 3
   },
   "file_extension": ".py",
   "mimetype": "text/x-python",
   "name": "python",
   "nbconvert_exporter": "python",
   "pygments_lexer": "ipython3",
   "version": "3.7.13"
  }
 },
 "nbformat": 4,
 "nbformat_minor": 5
}
