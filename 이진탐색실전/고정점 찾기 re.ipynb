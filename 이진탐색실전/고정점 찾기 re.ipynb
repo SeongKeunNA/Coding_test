{
 "cells": [
  {
   "cell_type": "markdown",
   "id": "2fa17d66",
   "metadata": {},
   "source": [
    "# 코딩 전 생각"
   ]
  },
  {
   "cell_type": "code",
   "execution_count": 1,
   "id": "c6bd9c99",
   "metadata": {},
   "outputs": [
    {
     "ename": "SyntaxError",
     "evalue": "EOF while scanning triple-quoted string literal (886353925.py, line 1)",
     "output_type": "error",
     "traceback": [
      "\u001b[1;36m  File \u001b[1;32m\"C:\\Users\\najonggeun\\AppData\\Local\\Temp\\ipykernel_19516\\886353925.py\"\u001b[1;36m, line \u001b[1;32m1\u001b[0m\n\u001b[1;33m    \"\"\"\"\"\"\"\"\"\"\u001b[0m\n\u001b[1;37m              ^\u001b[0m\n\u001b[1;31mSyntaxError\u001b[0m\u001b[1;31m:\u001b[0m EOF while scanning triple-quoted string literal\n"
     ]
    }
   ],
   "source": [
    "\"\"\"\"\"\"\"\"\"\"\n",
    "수열이 이미 정렬된 상태이기 때문에, 이진 탐색으로 매번 절반 부분을 제외할 수 있다.\n",
    "\n",
    "즉 수열의 mid번 째 값이 mid보다 크다면, mid 이후 부분에서는 고정점이 나올 수 없으며,\n",
    "\n",
    "수열의 mid번 째 값이 mid보다 작다면, mid 이전 부분에서는 고정점이 나올 수 없다.\n",
    "\n",
    "만약 수열의 mid번 째 값과 mid가 같다면 mid를 출력한다.\n",
    "\n",
    "\"\"\"\"\"\"\"\"\"\""
   ]
  },
  {
   "cell_type": "markdown",
   "id": "eddf0090",
   "metadata": {},
   "source": [
    "# 내 답안(재귀적으로 구현)"
   ]
  },
  {
   "cell_type": "code",
   "execution_count": 4,
   "id": "b78aa286",
   "metadata": {},
   "outputs": [
    {
     "name": "stdout",
     "output_type": "stream",
     "text": [
      "7\n",
      "-15 -4 3 8 9 13 15\n"
     ]
    },
    {
     "data": {
      "text/plain": [
       "-1"
      ]
     },
     "execution_count": 4,
     "metadata": {},
     "output_type": "execute_result"
    }
   ],
   "source": [
    "n = int(input())\n",
    "array = list(map(int, input().split()))\n",
    "def fixed_point(array, s, e):\n",
    "    if s > e:\n",
    "        return -1\n",
    "    mid = (s + e) // 2\n",
    "    if array[mid] > mid:\n",
    "        e = mid - 1\n",
    "        return fixed_point(array, s, e)\n",
    "    \n",
    "    elif array[mid] < mid:\n",
    "        s = mid + 1\n",
    "        return fixed_point(array, s, e)\n",
    "    else:\n",
    "        return mid\n",
    "fixed_point(array, 0, len(array) - 1)"
   ]
  },
  {
   "cell_type": "markdown",
   "id": "b76eb06c",
   "metadata": {},
   "source": [
    "# 내 답안(반복문으로 구현)"
   ]
  },
  {
   "cell_type": "code",
   "execution_count": 12,
   "id": "19c2fe4e",
   "metadata": {},
   "outputs": [
    {
     "name": "stdout",
     "output_type": "stream",
     "text": [
      "5\n",
      "-15 -6 1 3 7\n",
      "3\n"
     ]
    }
   ],
   "source": [
    "n = int(input())\n",
    "array = list(map(int, input().split()))\n",
    "s, e = 0, len(array) - 1\n",
    "while s <= e:\n",
    "    mid = (s + e) // 2\n",
    "    if array[mid] > mid:\n",
    "        e = mid - 1\n",
    "    \n",
    "    elif array[mid] < mid:\n",
    "        s = mid + 1\n",
    "    else:\n",
    "        print(mid)\n",
    "        break\n",
    "else:\n",
    "    print(-1)"
   ]
  },
  {
   "cell_type": "markdown",
   "id": "abb71561",
   "metadata": {},
   "source": [
    "# 답안 작성 후 생각"
   ]
  },
  {
   "cell_type": "code",
   "execution_count": 5,
   "id": "f0793d6b",
   "metadata": {},
   "outputs": [
    {
     "ename": "SyntaxError",
     "evalue": "EOF while scanning triple-quoted string literal (886353925.py, line 1)",
     "output_type": "error",
     "traceback": [
      "\u001b[1;36m  File \u001b[1;32m\"C:\\Users\\najonggeun\\AppData\\Local\\Temp\\ipykernel_19516\\886353925.py\"\u001b[1;36m, line \u001b[1;32m1\u001b[0m\n\u001b[1;33m    \"\"\"\"\"\"\"\"\"\"\u001b[0m\n\u001b[1;37m              ^\u001b[0m\n\u001b[1;31mSyntaxError\u001b[0m\u001b[1;31m:\u001b[0m EOF while scanning triple-quoted string literal\n"
     ]
    }
   ],
   "source": [
    "\"\"\"\"\"\"\"\"\"\n",
    "이상 무\n",
    "\"\"\"\"\"\"\"\"\""
   ]
  },
  {
   "cell_type": "markdown",
   "id": "9d24dda8",
   "metadata": {},
   "source": [
    "# 정답"
   ]
  },
  {
   "cell_type": "code",
   "execution_count": null,
   "id": "650d659d",
   "metadata": {},
   "outputs": [],
   "source": [
    "def binary_search(array, start, end):\n",
    "    if start > end:\n",
    "        return None\n",
    "    mid = (start + end) // 2\n",
    "    if array[mid] == mid:\n",
    "        return mid\n",
    "    \n",
    "    elif array[mid] > mid:\n",
    "        return binary_search(array, start, mid - 1)\n",
    "    \n",
    "    else:\n",
    "        return binary_search(array, mid + 1, end)\n",
    "\n",
    "n = int(input())\n",
    "array = list(map(int, input().split()))\n",
    "\n",
    "index = binary_search(array, 0, n - 1)\n",
    "if index == None:\n",
    "    print(-1)\n",
    "else:\n",
    "    print(index)"
   ]
  },
  {
   "cell_type": "markdown",
   "id": "7614a7a2",
   "metadata": {},
   "source": [
    "# 정답 확인 후 생각"
   ]
  },
  {
   "cell_type": "code",
   "execution_count": null,
   "id": "64604d4c",
   "metadata": {},
   "outputs": [],
   "source": [
    "\"\"\"\"\"\"\"\"\"\"\n",
    "이상 무\n",
    "\"\"\"\"\"\"\"\"\"\""
   ]
  }
 ],
 "metadata": {
  "kernelspec": {
   "display_name": "Python 3 (ipykernel)",
   "language": "python",
   "name": "python3"
  },
  "language_info": {
   "codemirror_mode": {
    "name": "ipython",
    "version": 3
   },
   "file_extension": ".py",
   "mimetype": "text/x-python",
   "name": "python",
   "nbconvert_exporter": "python",
   "pygments_lexer": "ipython3",
   "version": "3.7.13"
  }
 },
 "nbformat": 4,
 "nbformat_minor": 5
}
