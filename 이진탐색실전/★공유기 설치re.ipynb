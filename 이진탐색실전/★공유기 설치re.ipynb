{
 "cells": [
  {
   "cell_type": "markdown",
   "id": "b9aabc38",
   "metadata": {},
   "source": [
    "# 코딩 전 생각"
   ]
  },
  {
   "cell_type": "code",
   "execution_count": null,
   "id": "0d5b3f34",
   "metadata": {},
   "outputs": [],
   "source": [
    "\"\"\"\"\"\"\"\"\"\"\n",
    "1 2 3 4 5 6 7 8 9\n",
    "@ @   @       @ @\n",
    "^     ^         ^\n",
    "\n",
    "집의 위치 정보가 들어있는 리스트를 정렬한 뒤, 맨 앞의 집에 공유기를 설치한다.\n",
    "\n",
    "이후 반복문에서 이진 탐색을 이용해 0부터 n-1까지 중에 간격을 정하고\n",
    "\n",
    "나머지 n - 1개의 공유기를 정해진 간격(집 기준)으로 설치하면서 바로 전 공유기와의 거리를 리스트에 담는다\n",
    "\n",
    "이 과정에서 만약 더 이상 설치할 집이 없으면 이진 탐색 중 end를 mid - 1로 갱신한다.\n",
    "\n",
    "성공적으로 공유기를 다 설치했다면 바로 전 공유기와의 거리 리스트의 최솟값을 최종값과 비교하여 더 큰 값을 최종값으로 하고,\n",
    "\n",
    "이후 이진 탐색 중 start를 mid + 1로 생신한다.\n",
    "\n",
    "\"\"\"\"\"\"\"\"\"\""
   ]
  },
  {
   "cell_type": "markdown",
   "id": "7e69f4a2",
   "metadata": {},
   "source": [
    "# 내 답안"
   ]
  },
  {
   "cell_type": "code",
   "execution_count": null,
   "id": "5105d62b",
   "metadata": {},
   "outputs": [],
   "source": [
    "최소 인덱스가 1, 2, 3..."
   ]
  },
  {
   "cell_type": "code",
   "execution_count": 7,
   "id": "2a643845",
   "metadata": {},
   "outputs": [
    {
     "name": "stdout",
     "output_type": "stream",
     "text": [
      "5 3\n",
      "1\n",
      "2\n",
      "8\n",
      "4\n",
      "9\n"
     ]
    },
    {
     "ename": "KeyboardInterrupt",
     "evalue": "",
     "output_type": "error",
     "traceback": [
      "\u001b[1;31m---------------------------------------------------------------------------\u001b[0m",
      "\u001b[1;31mKeyboardInterrupt\u001b[0m                         Traceback (most recent call last)",
      "\u001b[1;32m~\\AppData\\Local\\Temp\\ipykernel_9968\\2980624527.py\u001b[0m in \u001b[0;36m<module>\u001b[1;34m\u001b[0m\n\u001b[0;32m     12\u001b[0m     \u001b[0mmid\u001b[0m \u001b[1;33m=\u001b[0m \u001b[1;33m(\u001b[0m\u001b[0mstart\u001b[0m \u001b[1;33m+\u001b[0m \u001b[0mend\u001b[0m\u001b[1;33m)\u001b[0m \u001b[1;33m//\u001b[0m \u001b[1;36m2\u001b[0m \u001b[1;31m# 2\u001b[0m\u001b[1;33m\u001b[0m\u001b[1;33m\u001b[0m\u001b[0m\n\u001b[0;32m     13\u001b[0m     \u001b[0mpre\u001b[0m \u001b[1;33m=\u001b[0m \u001b[1;36m0\u001b[0m\u001b[1;33m\u001b[0m\u001b[1;33m\u001b[0m\u001b[0m\n\u001b[1;32m---> 14\u001b[1;33m     \u001b[1;32mfor\u001b[0m \u001b[0mnow\u001b[0m \u001b[1;32min\u001b[0m \u001b[0mrange\u001b[0m\u001b[1;33m(\u001b[0m\u001b[1;36m0\u001b[0m\u001b[1;33m,\u001b[0m \u001b[0mmid\u001b[0m\u001b[1;33m,\u001b[0m \u001b[0mmid\u001b[0m\u001b[1;33m)\u001b[0m\u001b[1;33m:\u001b[0m\u001b[1;33m\u001b[0m\u001b[1;33m\u001b[0m\u001b[0m\n\u001b[0m\u001b[0;32m     15\u001b[0m         \u001b[1;32mif\u001b[0m \u001b[0mnow\u001b[0m \u001b[1;33m>\u001b[0m \u001b[0mn\u001b[0m \u001b[1;33m-\u001b[0m \u001b[1;36m1\u001b[0m\u001b[1;33m:\u001b[0m\u001b[1;33m\u001b[0m\u001b[1;33m\u001b[0m\u001b[0m\n\u001b[0;32m     16\u001b[0m             \u001b[0mend\u001b[0m \u001b[1;33m=\u001b[0m \u001b[0mmid\u001b[0m \u001b[1;33m-\u001b[0m \u001b[1;36m1\u001b[0m\u001b[1;33m\u001b[0m\u001b[1;33m\u001b[0m\u001b[0m\n",
      "\u001b[1;31mKeyboardInterrupt\u001b[0m: "
     ]
    }
   ],
   "source": [
    "n, m = map(int, input().split())\n",
    "house = []\n",
    "for _ in range(n):\n",
    "    house.append(int(input()))\n",
    "house.sort() # 1 2 4 8 9\n",
    "start = 0\n",
    "end = n - 1 # 4\n",
    "answer = -1e9\n",
    "while start <= end: \n",
    "    dist = []\n",
    "    cnt = m - 1 #2\n",
    "    mid = (start + end) // 2 # 2\n",
    "    pre = 0\n",
    "    for now in range(mid, :, mid): # 2, 4\n",
    "        if now > n - 1:\n",
    "            \n",
    "            end = mid - 1 \n",
    "            break\n",
    "        dist.append(house[now] - house[pre]) #[3], [3, 5]\n",
    "        pre = now # 2, 4 \n",
    "        cnt -= 1 # 1, 0\n",
    "        if cnt == 0:\n",
    "            answer = max(min(dist), answer)\n",
    "            start = mid + 1\n",
    "            break\n",
    "            \n",
    "print(answer)"
   ]
  },
  {
   "cell_type": "markdown",
   "id": "5c7fb0d3",
   "metadata": {},
   "source": [
    "# <시도후>\n",
    "\n",
    "생각보다 간단하지 않다. 새로운 해결 방법을 떠올렸다.\n",
    "\n",
    "가장 작은 거리인 1과 가장 큰 거리인 max(house) - min(house) 사이에서 이진탐색으로 매번 공유기 설치 가능여부를 확인한다.\n",
    "    \n",
    "만약 설치가 불가능하다면 탐색 범위를 앞쪽 절반으로 줄이고, 설치가 가능하다면 최대 거리 값을 갱신하고 탐색 범위를 뒤쪽 절반으로 줄인다."
   ]
  },
  {
   "cell_type": "markdown",
   "id": "97757775",
   "metadata": {},
   "source": [
    "# 2차 답안"
   ]
  },
  {
   "cell_type": "code",
   "execution_count": 19,
   "id": "4809900b",
   "metadata": {},
   "outputs": [
    {
     "name": "stdout",
     "output_type": "stream",
     "text": [
      "10 4\n",
      "1\n",
      "4\n",
      "5\n",
      "6\n",
      "7\n",
      "12\n",
      "13\n",
      "14\n",
      "22\n",
      "26\n",
      "6\n"
     ]
    }
   ],
   "source": [
    "n, m = map(int, input().split())\n",
    "house = []\n",
    "for _ in range(n):\n",
    "    house.append(int(input()))\n",
    "house.sort() # 1 9\n",
    "start = 1\n",
    "end = house[-1] - house[0] #  8\n",
    "answer = -1e9 \n",
    "            \n",
    "def check():\n",
    "    nxt_value = house[0] + mid # 5 8 9\n",
    "    cnt = m - 1 # 1\n",
    "    for idx in range(1, n): # 1\n",
    "        if house[idx] >= nxt_value: # 99\n",
    "            nxt_value = house[idx] + mid #\n",
    "            cnt -= 1 #\n",
    "            if cnt == 0:\n",
    "                return True\n",
    "    return False\n",
    "\n",
    "while start <= end:\n",
    "    mid = (start + end) // 2 # 4 7 8\n",
    "    if check():\n",
    "        answer = max(answer, mid) #4 7 8\n",
    "        start = mid + 1 # 8\n",
    "    else:\n",
    "        end = mid - 1 # \n",
    "print(answer)"
   ]
  },
  {
   "cell_type": "markdown",
   "id": "f7d03363",
   "metadata": {},
   "source": [
    "# 답안 작성 후 생각"
   ]
  },
  {
   "cell_type": "code",
   "execution_count": null,
   "id": "774d426c",
   "metadata": {},
   "outputs": [],
   "source": [
    "\"\"\"\"\"\"\"\"\"\"\n",
    "마지막에 check함수에서 cnt가 0일시 True를 리턴하는 문장을 if 문밖에 두는 실수를 하여 조금 지체됐지만 해결했다.\n",
    "\"\"\"\"\"\"\"\"\"\""
   ]
  },
  {
   "cell_type": "markdown",
   "id": "3711981e",
   "metadata": {},
   "source": [
    "# 정답"
   ]
  },
  {
   "cell_type": "code",
   "execution_count": 20,
   "id": "5194c938",
   "metadata": {},
   "outputs": [
    {
     "ename": "SyntaxError",
     "evalue": "invalid syntax (2205167169.py, line 22)",
     "output_type": "error",
     "traceback": [
      "\u001b[1;36m  File \u001b[1;32m\"C:\\Users\\najonggeun\\AppData\\Local\\Temp\\ipykernel_9968\\2205167169.py\"\u001b[1;36m, line \u001b[1;32m22\u001b[0m\n\u001b[1;33m    else\u001b[0m\n\u001b[1;37m        ^\u001b[0m\n\u001b[1;31mSyntaxError\u001b[0m\u001b[1;31m:\u001b[0m invalid syntax\n"
     ]
    }
   ],
   "source": [
    "n, c = list(map(int, input().split()))\n",
    "array = []\n",
    "for _ in range(n):\n",
    "    array.append(int(input()))\n",
    "array.sort()\n",
    "\n",
    "start = array[1] - array[0]\n",
    "end = array[-1] - array[0]\n",
    "result = 0\n",
    "\n",
    "while(start <= end):\n",
    "    mid = (start + end) // 2\n",
    "    value = array[0]\n",
    "    count = 1\n",
    "    for i in range(1, n):\n",
    "        if array[i] >= value + mid:\n",
    "            value = array[i]\n",
    "            count += 1\n",
    "    if count >= c:\n",
    "        start = mid + 1\n",
    "        result = mid\n",
    "    else:\n",
    "        end = mid - 1\n",
    "print(result)"
   ]
  },
  {
   "cell_type": "markdown",
   "id": "5be7910d",
   "metadata": {},
   "source": [
    "# 정답 확인 후 생각"
   ]
  },
  {
   "cell_type": "code",
   "execution_count": null,
   "id": "0285d10b",
   "metadata": {},
   "outputs": [],
   "source": [
    "\"\"\"\"\"\"\"\"\"\"\n",
    "1. 공유기 설치 가능 여부를 판단하는 함수를 따로 구현하지 않았다.\n",
    "\n",
    "2. start의 초깃값으로 array[1] - array[0]을 설정했는데, 백준 1등 랭커의 답지에서도(fler9617, https://www.acmicpc.net/source/14781774)\n",
    "\"B, E = 1, (x[-1]-x[0])//(c-1)+1\"이라고 한 걸 보아 정확하지 않은 것으로 보인다.\n",
    "\n",
    "3. fler9617님의 답안에서 \"x = [int(y) for y in stdin.read().splitlines()][:n]\" 구문과,\n",
    "\n",
    "4. \"B, E = (M, E) if f(M)>=c else (B, M)\" 구문을 배웠다.\n",
    "\"\"\"\"\"\"\"\"\"\""
   ]
  }
 ],
 "metadata": {
  "kernelspec": {
   "display_name": "Python 3 (ipykernel)",
   "language": "python",
   "name": "python3"
  },
  "language_info": {
   "codemirror_mode": {
    "name": "ipython",
    "version": 3
   },
   "file_extension": ".py",
   "mimetype": "text/x-python",
   "name": "python",
   "nbconvert_exporter": "python",
   "pygments_lexer": "ipython3",
   "version": "3.7.13"
  }
 },
 "nbformat": 4,
 "nbformat_minor": 5
}
