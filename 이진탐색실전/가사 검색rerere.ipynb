{
 "cells": [
  {
   "cell_type": "markdown",
   "id": "c27a2ea9",
   "metadata": {},
   "source": [
    "# 코딩 전 생각"
   ]
  },
  {
   "cell_type": "code",
   "execution_count": null,
   "id": "870a9d60",
   "metadata": {},
   "outputs": [],
   "source": [
    "\"\"\"\"\"\"\"\"\"\"\n",
    "0. 10001개의 리스트(가사 단어의 가능한 길이)를 담는 이중 리스트 두 개(W,RW)를 선언한다.\n",
    "\n",
    "1. words의 단어들과 역순 단어들을 각각 W와 RW의 단어 길이에 해당하는 위치에 담고 W와 RW의 모든 리스트를 정렬한다.\n",
    "\n",
    "2-1. 각 쿼리에 대해, ?가 접미어에 있을 경우 ?를 모두 'a'로 바꾸어 bisect_left로 W 리스트에서 해당 단어가 들어갈 인덱스(A)를 구한다.\n",
    "이어서 이번에는 모든 ?를 'z'로 바꾸어 bisect_right로 W 리스트에서 해당 단어가 들어갈 인덱스(B)를 구한다.\n",
    "answer 리스트에 b-a값을 append한다.\n",
    "만약 ?가 접두어에 있을 경우 쿼리의 문자열을 뒤집은 뒤 RW 리스트에서 인덱스를 구한다.\n",
    "\n",
    "2-2. 각 쿼리에 대해, ?가 접미어에 있을 경우 이진 탐색을 통해 ?가 시작되는 인덱스 idx를 찾는다.\n",
    "W의 해당 쿼리의 길이에 해당하는 리스트에서 다시 한번 이진탐색을 수행하여\n",
    "인덱스전까지의 단어가 쿼리의 그것과 일치하는 단어의 개수를 구해 answer에 담는다.\n",
    "?가 접두어에 붙었을 경우 RW에 대해서 위의 동작을 수행한다.\n",
    "\"\"\"\"\"\"\"\"\"\""
   ]
  },
  {
   "cell_type": "markdown",
   "id": "196a99b0",
   "metadata": {},
   "source": [
    "# 내 답안 - a,z를 활용해 bisect 모듈 사용"
   ]
  },
  {
   "cell_type": "code",
   "execution_count": null,
   "id": "893a93bc",
   "metadata": {},
   "outputs": [],
   "source": [
    "from bisect import bisect_left, bisect_right\n",
    "def solution(words, queries):\n",
    "    answer = []\n",
    "    W = [[] for _ in range(10001)]\n",
    "    RW = [[] for _ in range(10001)]\n",
    "    \n",
    "    for word in words:\n",
    "        W[len(word)].append(word)\n",
    "        RW[len(word)].append(word[::-1])\n",
    "    for i in range(1, 10001):\n",
    "        W[i].sort()\n",
    "        RW[i].sort()\n",
    "        \n",
    "    for query in queries:\n",
    "        if query[-1] == '?':\n",
    "            A = bisect_left(W[len(query)], query.replace('?', 'a'))\n",
    "            B = bisect_right(W[len(query)], query.replace('?', 'z'))\n",
    "        else:\n",
    "            A = bisect_left(RW[len(query)], query[::-1].replace('?', 'a'))\n",
    "            B = bisect_right(RW[len(query)], query[::-1].replace('?', 'z'))\n",
    "        answer.append(B-A)\n",
    "    return answer"
   ]
  },
  {
   "cell_type": "markdown",
   "id": "098592e2",
   "metadata": {},
   "source": [
    "# 내 답안 - 이진 탐색 연속 구현"
   ]
  },
  {
   "cell_type": "code",
   "execution_count": null,
   "id": "e5488c9c",
   "metadata": {},
   "outputs": [],
   "source": [
    "def solution(words, queries):\n",
    "    def binary_search(query):\n",
    "        s, e = 0, len(query) - 1\n",
    "        idx = -1\n",
    "        while s <= e:\n",
    "            mid = (s + e) // 2\n",
    "            if query[mid] == '?':\n",
    "                idx = mid\n",
    "                e = mid - 1\n",
    "            else:\n",
    "                s = mid + 1\n",
    "        return idx\n",
    "    def binary_search_count(query, W):\n",
    "        idx = binary_search(query)\n",
    "        s, e = 0, len(W) - 1\n",
    "        lidx, ridx = -1, -1\n",
    "        while s <= e:\n",
    "            mid = (s + e) // 2\n",
    "            if W[mid][:idx] >= query[:idx]:\n",
    "                if W[mid][:idx] == query[:idx] and (mid == 0 or W[mid - 1][:idx] < query[:idx]):\n",
    "                    lidx = mid\n",
    "                    break\n",
    "                e = mid - 1\n",
    "            else:\n",
    "                s = mid + 1\n",
    "        s, e = 0, len(W) - 1\n",
    "        while s <= e:\n",
    "            mid = (s + e) // 2\n",
    "            if W[mid][:idx] > query[:idx]:\n",
    "                e = mid - 1\n",
    "            else:\n",
    "                if W[mid][:idx] == query[:idx] and (mid == len(W) - 1 or W[mid + 1][:idx] > query[:idx]):\n",
    "                    ridx = mid\n",
    "                    break\n",
    "                s = mid + 1\n",
    "        if ridx == -1:\n",
    "            return 0\n",
    "        else:    \n",
    "            return ridx - lidx + 1\n",
    "    answer = []\n",
    "    W = [[] for _ in range(10001)]\n",
    "    RW = [[] for _ in range(10001)]\n",
    "    \n",
    "    for word in words:\n",
    "        W[len(word)].append(word)\n",
    "        RW[len(word)].append(word[::-1])\n",
    "    for i in range(1, 10001):\n",
    "        W[i].sort()\n",
    "        RW[i].sort()\n",
    "    for query in queries:\n",
    "        if query[-1] == '?' and query[0] == '?':\n",
    "            answer.append(len(W[len(query)]))\n",
    "        elif query[-1] == '?':\n",
    "            answer.append(binary_search_count(query, W[len(query)]))\n",
    "        else:\n",
    "            answer.append(binary_search_count(query[::-1], RW[len(query)]))\n",
    "    return answer"
   ]
  }
 ],
 "metadata": {
  "kernelspec": {
   "display_name": "Python 3 (ipykernel)",
   "language": "python",
   "name": "python3"
  },
  "language_info": {
   "codemirror_mode": {
    "name": "ipython",
    "version": 3
   },
   "file_extension": ".py",
   "mimetype": "text/x-python",
   "name": "python",
   "nbconvert_exporter": "python",
   "pygments_lexer": "ipython3",
   "version": "3.7.13"
  }
 },
 "nbformat": 4,
 "nbformat_minor": 5
}
