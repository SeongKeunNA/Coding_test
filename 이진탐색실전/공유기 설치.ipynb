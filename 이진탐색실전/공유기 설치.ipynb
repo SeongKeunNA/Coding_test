{
 "cells": [
  {
   "cell_type": "markdown",
   "id": "cf078493",
   "metadata": {},
   "source": [
    "# 답안 작성 전 생각"
   ]
  },
  {
   "cell_type": "code",
   "execution_count": null,
   "id": "ef76ba9f",
   "metadata": {},
   "outputs": [],
   "source": [
    "\"\"\"\"\"\"\"\"\"\"\n",
    "공유기 사이를 가장 멀리 떨어뜨려야하므로 이진탐색기법을 적용한다.\n",
    "\n",
    "먼저 집의 좌표 리스트를 오름차순 정렬한 뒤, 2개의 공유기를 처음과 끝에 설치한다.\n",
    "\n",
    "함수를 통해 가장 인접한 두 공유기 사이의 거리를 최대화하게끔 c-2개의 공유기를 설치한다.\n",
    "\n",
    "가장 인접한 두 공유기 사이의 거리를 출력한다.\n",
    "\n",
    "\"\"\"\"\"\"\"\"\"\""
   ]
  },
  {
   "cell_type": "markdown",
   "id": "c85df3a1",
   "metadata": {},
   "source": [
    "# 내 답안"
   ]
  },
  {
   "cell_type": "code",
   "execution_count": null,
   "id": "652b15ca",
   "metadata": {},
   "outputs": [],
   "source": [
    "from bisect import bisect_left\n",
    "import sys\n",
    "import heapq\n",
    "\n",
    "n, m = map(int, input().split())\n",
    "array = []\n",
    "for i in range(n):\n",
    "    array.append(int(input()))    \n",
    "array.sort()\n",
    "\n",
    "m = m-2\n",
    "q = []\n",
    "start = 0\n",
    "end = n-1\n",
    "break_ = 1\n",
    "\n",
    "if m == 0:\n",
    "    print(array[-1] - array[0])\n",
    "else:\n",
    "    q.append((0, n-1))\n",
    "    \n",
    "def center_(array, start, end):\n",
    "    mid = (array[start] + array[end]) / 2\n",
    "    left_index = bisect_left(array, mid)\n",
    "    if left_index == 0:\n",
    "        center = 0     \n",
    "    elif value_(array, start, end, left_index) >= value_(array, start, end, left_index-1):\n",
    "        center = left_index\n",
    "    else:2\n",
    "        center = left_index-1\n",
    "    return center\n",
    "        \n",
    "def value_(array,start,end, center):\n",
    "    return min((array[end]-array[center]),(array[center] - array[start]))\n",
    "\n",
    "            \n",
    "while q:\n",
    "    print('q:',q, 'start:',start,'end:',end)\n",
    "    m -= 1\n",
    "    center = center_(array,start,end)\n",
    "    mid = (array[start] + array[end]) / 2\n",
    "    \n",
    "    if m == 0:\n",
    "        print(min((array[end] - array[center]), (array[center] - array[start])))\n",
    "        break_ = 0\n",
    "    if break_ == 0:\n",
    "        break\n",
    "        \n",
    "    if center - start > 1:\n",
    "        q.append((start, center))\n",
    "    if end - center > 1:\n",
    "        q.append((center, end))\n",
    "    h = []\n",
    "    for i in q:\n",
    "        center = center_(array, i[0], i[1])\n",
    "        val = value_(array, i[0], i[1], center)\n",
    "        heapq.heappush(h, (-val,i[0], i[1]))\n",
    "    q = []\n",
    "    for i in h:\n",
    "        q.append((i[1],i[2]))\n",
    "    start, end = q[0][0], q[0][1]\n",
    "    del(q[0])"
   ]
  },
  {
   "cell_type": "markdown",
   "id": "7707e91e",
   "metadata": {},
   "source": [
    "# 답지 1차확인후 생각"
   ]
  },
  {
   "cell_type": "code",
   "execution_count": null,
   "id": "80109c4c",
   "metadata": {},
   "outputs": [],
   "source": [
    "\"\"\"\"\"\"\"\"\"\"\n",
    "생각보다 만만한 문제가 아니었다... 풀이 아이디어를 떠올리는 것은 어렵지 않았고, 다양한 테스트케이스에 대해서 정답을 출력하기는 하지만,\n",
    "\n",
    "백준에서 계속 시간초과가 발생한다. 힌트와 테스트케이스만 참고해서 스스로 해결해보려했으나, 답지를 통해 문제 방향을 재설정해보려고 한다.\n",
    "\n",
    "답지 초반 부분을 확인해보니, 백준 사이트 힌트에서 제시한대로 이분법을 공유기 분배에 사용하는 것이 아니라, 떡볶이 떡 문제처럼 \n",
    "\n",
    "해당 간격으로 공유기를 c개 설치할 수 있는지를 테스트하는 데 사용하는 것으로 보인다.\n",
    "\"\"\"\"\"\"\"\"\"\""
   ]
  },
  {
   "cell_type": "markdown",
   "id": "4fad0427",
   "metadata": {},
   "source": [
    "# 내 2차 답안"
   ]
  },
  {
   "cell_type": "code",
   "execution_count": 13,
   "id": "a723c446",
   "metadata": {},
   "outputs": [
    {
     "name": "stdout",
     "output_type": "stream",
     "text": [
      "5 4\n",
      "3\n",
      "6\n",
      "7\n",
      "8\n",
      "9\n",
      "last: 0 array: [3, 6, 7, 8, 9] start 1 end: 6 mid: 3 c: 1\n",
      "last: 0 array: [3, 6, 7, 8, 9] start 1 end: 2 mid: 1 c: 1\n",
      "last: 0 array: [3, 6, 7, 8, 9] start 2 end: 2 mid: 2 c: 1\n",
      "1\n"
     ]
    }
   ],
   "source": [
    "n, m = map(int, input().split())\n",
    "array = []\n",
    "for i in range(n):\n",
    "    array.append(int(input())) \n",
    "array.sort()\n",
    "\n",
    "start = 1\n",
    "end = array[-1] - array[0]\n",
    "c, i, last = 1, 1, 0\n",
    "answer = -1e9\n",
    "\n",
    "while start <= end:\n",
    "    mid = (start + end) // 2\n",
    "    print('last:', last, 'array:',array,'start', start, 'end:',end, 'mid:',mid,'c:',c)\n",
    "    while i <= n-1:\n",
    "        if array[i] - array[last] >= mid:\n",
    "            c += 1\n",
    "            last = i\n",
    "        i += 1  \n",
    "    if c >= m:\n",
    "        answer = max(mid, answer)\n",
    "        start = mid + 1\n",
    "    else:\n",
    "        end = mid -1\n",
    "    c, i, last = 1, 1, 0\n",
    "            \n",
    "print(answer)"
   ]
  },
  {
   "cell_type": "markdown",
   "id": "d76c15b6",
   "metadata": {},
   "source": [
    "# 답안 작성후 생각"
   ]
  },
  {
   "cell_type": "code",
   "execution_count": null,
   "id": "1b7555af",
   "metadata": {},
   "outputs": [],
   "source": [
    "\"\"\"\"\"\"\"\"\"\"\n",
    "처음에 재귀적으로 접근해 모든 경우마다 return을 했지만 재귀오류가 발생해 모두 반복문으로 바꾸었다.\n",
    "\n",
    "그랬는데도 22%대에서 시간초과가 발생해서 sys.stdin.readline().strip()을 사용하고 pypy3로 제출하니 192ms만에 합격했다.\n",
    "\n",
    "혹시 몰라 파이썬3로 제출해보니 1204ms로 합격하는 걸 보니 추가적으로 시간을 절약할 수 있는 방법이 있는 것 같다.\n",
    "\"\"\"\"\"\"\"\"\"\""
   ]
  },
  {
   "cell_type": "markdown",
   "id": "74074d56",
   "metadata": {},
   "source": [
    "# 정답"
   ]
  },
  {
   "cell_type": "code",
   "execution_count": 12,
   "id": "d5e34595",
   "metadata": {},
   "outputs": [
    {
     "name": "stdout",
     "output_type": "stream",
     "text": [
      "5 4\n",
      "3\n",
      "6\n",
      "7\n",
      "8\n",
      "9\n",
      "0\n"
     ]
    }
   ],
   "source": [
    "n, c = list(map(int,input().split()))\n",
    "array = []\n",
    "for _ in range(n):\n",
    "    array.append(int(input()))\n",
    "array.sort()\n",
    "\n",
    "start = array[1] - array[0]\n",
    "end = array[-1] - array[0]\n",
    "result = 0\n",
    "\n",
    "while start <= end:\n",
    "    mid = (start + end) // 2\n",
    "    value = array[0]\n",
    "    count = 1\n",
    "    \n",
    "    for i in range(1, n):\n",
    "        if array[i] >= value + mid:\n",
    "            value = array[i]\n",
    "            count += 1\n",
    "    if count >= c:\n",
    "        start = mid + 1\n",
    "        result = mid\n",
    "    else:\n",
    "        end = mid - 1\n",
    "print(result)"
   ]
  },
  {
   "cell_type": "markdown",
   "id": "167c904a",
   "metadata": {},
   "source": [
    "# 정답 확인 후 생각"
   ]
  },
  {
   "cell_type": "code",
   "execution_count": null,
   "id": "dec60199",
   "metadata": {},
   "outputs": [],
   "source": [
    "\"\"\"\"\"\"\"\"\"\"\n",
    "역시나 풀이 아이디어는 동일하지만 조금 더 코드가 깔끔한 것 같다.\n",
    "\n",
    "그리고 처음에 start를 1이 아니라 array[1] - array[0]으로 초기화는데, 내 답안처럼 \n",
    "\n",
    "1로 초기화해야 주어진 조건에서 문제를 풀 수 있는 것으로 보인다.\n",
    "\n",
    "한편 c, i, last 변수를 반복하여 초기화하는 것은 복잡하고, 어차피 i가 last에서 끝나므로 답안처럼 for문 안에 넣는 게 편하다.\n",
    "\"\"\"\"\"\"\"\"\"\""
   ]
  }
 ],
 "metadata": {
  "kernelspec": {
   "display_name": "pytorch",
   "language": "python",
   "name": "pt1.1"
  },
  "language_info": {
   "codemirror_mode": {
    "name": "ipython",
    "version": 3
   },
   "file_extension": ".py",
   "mimetype": "text/x-python",
   "name": "python",
   "nbconvert_exporter": "python",
   "pygments_lexer": "ipython3",
   "version": "3.9.7"
  }
 },
 "nbformat": 4,
 "nbformat_minor": 5
}
