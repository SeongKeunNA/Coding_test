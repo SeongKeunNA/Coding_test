{
 "cells": [
  {
   "cell_type": "markdown",
   "id": "b4bf69a8",
   "metadata": {},
   "source": [
    "# 코딩 전 생각"
   ]
  },
  {
   "cell_type": "code",
   "execution_count": null,
   "id": "5972f428",
   "metadata": {},
   "outputs": [],
   "source": [
    "\"\"\"\"\"\"\"\"\"\"\n",
    "최근접 공유기 사이의 거리 d를 이진 탐색을 통해 구한다.\n",
    "\n",
    "이 때 가장 앞의 집에 공유기를 설치 한 뒤에 나머지 공유기 c-1개를 설치하는데, 정해진 간격으로 공유기를 설치하다가\n",
    "\n",
    "공유기가 다 설치되기 전에 집의 마지막 좌표를 넘어간다면 d의 앞쪽 반을 탐색하고,\n",
    "\n",
    "공유기 설치를 완료하면 d를 저장한 뒤에 d의 뒤쪽 반을 탐색한다.\n",
    "\"\"\"\"\"\"\"\"\"\""
   ]
  },
  {
   "cell_type": "markdown",
   "id": "e722994d",
   "metadata": {},
   "source": [
    "# 내 답안"
   ]
  },
  {
   "cell_type": "code",
   "execution_count": 7,
   "id": "b20bc438",
   "metadata": {},
   "outputs": [
    {
     "name": "stdout",
     "output_type": "stream",
     "text": [
      "5 3\n",
      "1\n",
      "2\n",
      "8\n",
      "4\n",
      "9\n",
      "3\n"
     ]
    }
   ],
   "source": [
    "def process(array, mid, c):\n",
    "    idx = 0\n",
    "    c -= 1\n",
    "    while c > 0:\n",
    "        for i in range(idx + 1, n):\n",
    "            if array[i] - array[idx] >= mid:\n",
    "                idx = i\n",
    "                c -= 1\n",
    "                break\n",
    "        else:\n",
    "            return False\n",
    "    return True\n",
    "\n",
    "n, c = map(int, input().split())\n",
    "array = []\n",
    "for _ in range(n):\n",
    "    array.append(int(input()))\n",
    "array.sort() # 1 2 4 8 9\n",
    "start = 1\n",
    "end = array[-1] - array[0]\n",
    "d = 0\n",
    "while start <= end:\n",
    "    mid = (start + end) // 2\n",
    "    if process(array, mid, c) == True:\n",
    "        d = mid\n",
    "        start = mid + 1\n",
    "    else:\n",
    "        end = mid - 1\n",
    "print(d)"
   ]
  }
 ],
 "metadata": {
  "kernelspec": {
   "display_name": "Python 3 (ipykernel)",
   "language": "python",
   "name": "python3"
  },
  "language_info": {
   "codemirror_mode": {
    "name": "ipython",
    "version": 3
   },
   "file_extension": ".py",
   "mimetype": "text/x-python",
   "name": "python",
   "nbconvert_exporter": "python",
   "pygments_lexer": "ipython3",
   "version": "3.7.13"
  }
 },
 "nbformat": 4,
 "nbformat_minor": 5
}
