{
 "cells": [
  {
   "cell_type": "markdown",
   "id": "8cbd42ec",
   "metadata": {},
   "source": [
    "# 코딩 전 생각(1)"
   ]
  },
  {
   "cell_type": "code",
   "execution_count": null,
   "id": "58095005",
   "metadata": {},
   "outputs": [],
   "source": [
    "\"\"\"\"\"\"\"\"\"\"\n",
    "1. words의 원소인 word들을 거꾸로 하여 만든 reverse_words 리스트를 만들고 words와 reverse_words 리스트를 정렬한다.\n",
    "\n",
    "2. words와 reverse_words의 각 단어들을 단어의 개수대로 이중 리스트 words_by_len와 reverse_words_by_len에 담는다.\n",
    "\n",
    "3. queries의 원소인 각 query들에 대해 만약 'fro??'의 형태라면 words_by_len[5]의 리스트에서\n",
    "froaa가 들어갈 위치와 frozz가 들어갈 위치를 bisect_left와 bisect_right를 이용해 찾아 개수를 세서 answer 리스트에 담는다.\n",
    "\n",
    "4. queries의 원소인 각 query들에 대해 만약 '????o'의 형태라면 reverse_words_by_len[5] 리스트에서 3번을 반복한다."
   ]
  },
  {
   "cell_type": "markdown",
   "id": "ddc853e8",
   "metadata": {},
   "source": [
    "# 코딩 전 생각(2)"
   ]
  },
  {
   "cell_type": "code",
   "execution_count": null,
   "id": "48ca70ac",
   "metadata": {},
   "outputs": [],
   "source": [
    "\"\"\"\"\"\"\"\"\"\"\n",
    "1. words의 원소인 word들을 거꾸로 하여 만든 reverse_words 리스트를 만든다.\n",
    "\n",
    "2. words와 reverse_words의 각 단어들을 단어의 개수대로 이중 리스트 words_by_len와 reverse_words_by_len에 담는다.\n",
    "\n",
    "3. queries의 원소인 각 query들에 대해 만약 'fro??'의 형태라면 words_by_len[5]의 리스트에서\n",
    "\n",
    "앞의 세글자가 fro인 첫 번째와 마지막 인덱스를  찾아 개수를 세고 answer 리스트에 담는다.\n",
    "\n",
    "4. queries의 원소인 각 query들에 대해 만약 '????o'의 형태라면 reverse_words_by_len[5] 리스트에서 3번을 반복한다.\n",
    "\"\"\"\"\"\"\"\"\"\""
   ]
  },
  {
   "cell_type": "markdown",
   "id": "c5207d0f",
   "metadata": {},
   "source": [
    "# 내 답안(1)"
   ]
  },
  {
   "cell_type": "code",
   "execution_count": 12,
   "id": "14b94790",
   "metadata": {},
   "outputs": [
    {
     "data": {
      "text/plain": [
       "[[], [], []]"
      ]
     },
     "execution_count": 12,
     "metadata": {},
     "output_type": "execute_result"
    }
   ],
   "source": [
    "from bisect import bisect_left, bisect_right\n",
    "def find_idx(query):\n",
    "    idx = 0\n",
    "    start = 1\n",
    "    end = len(query) - 1\n",
    "    while start <= end:\n",
    "        mid = (start + end) // 2\n",
    "        if query[mid] == '?':\n",
    "            end = mid - 1\n",
    "        else:\n",
    "            idx = mid\n",
    "            start = mid + 1\n",
    "    return idx\n",
    "\n",
    "def solution(words, queries):\n",
    "    answer = []\n",
    "    reversed_words = []\n",
    "    for word in words:\n",
    "        reversed_words.append(word[::-1])\n",
    "    words_by_len = [[] for _ in range(10001)]\n",
    "    reversed_words_by_len = [[] for _ in range(10001)]\n",
    "    for word in words:\n",
    "        words_by_len[len(word)].append(word)\n",
    "    for reversed_word in reversed_words:\n",
    "        reversed_words_by_len[len(reversed_word)].append(reversed_word)\n",
    "    for w in words_by_len:\n",
    "        w. sort()\n",
    "    for r in reversed_words_by_len:\n",
    "        r.sort()\n",
    "    for query in queries:\n",
    "        length = len(query)\n",
    "        if query[0] == '?' and query[-1] == '?':\n",
    "            answer.append(len(words_by_len[length]))\n",
    "        \n",
    "        else:\n",
    "            if query[0] == '?':\n",
    "                idx = find_idx(query[::-1])\n",
    "                left_value = query[::-1][:idx+1] + 'a' * (length - idx)\n",
    "                right_value = query[::-1][:idx+1] + 'z' * (length - idx)\n",
    "                a = bisect_left(reversed_words_by_len[length], left_value)\n",
    "                b = bisect_right(reversed_words_by_len[length], right_value)\n",
    "                if a == b:\n",
    "                    answer.append(0)\n",
    "                else:\n",
    "                    answer.append(b-a)\n",
    "            else:\n",
    "                idx = find_idx(query)\n",
    "                left_value = query[:idx+1] + 'a' * (length - idx)\n",
    "                right_value = query[:idx+1] + 'z' * (length - idx)\n",
    "                a = bisect_left(words_by_len[length], left_value)\n",
    "                b = bisect_right(words_by_len[length], right_value)\n",
    "                if a == b:\n",
    "                    answer.append(0)\n",
    "                else:\n",
    "                    answer.append(b-a)\n",
    "    return answer"
   ]
  },
  {
   "cell_type": "markdown",
   "id": "61280463",
   "metadata": {},
   "source": [
    "# 내 답안(2)"
   ]
  },
  {
   "cell_type": "code",
   "execution_count": null,
   "id": "be0b3ca7",
   "metadata": {},
   "outputs": [],
   "source": [
    "def find_idx(query):\n",
    "    idx = 0\n",
    "    start = 1\n",
    "    end = len(query) - 1\n",
    "    while start <= end:\n",
    "        mid = (start + end) // 2\n",
    "        if query[mid] == '?':\n",
    "            end = mid - 1\n",
    "        else:\n",
    "            idx = mid\n",
    "            start = mid + 1\n",
    "    return idx\n",
    "\n",
    "def left_value(query, words): #c??? y??? z???\n",
    "    idx = find_idx(query)\n",
    "    left = -1\n",
    "    prefix = query[:idx+1]\n",
    "    start = 0\n",
    "    end = len(words) - 1\n",
    "    while start <= end:\n",
    "        mid = (start + end) // 2\n",
    "        if words[mid][:idx + 1] < prefix:\n",
    "            start = mid + 1\n",
    "        else:\n",
    "            left = mid\n",
    "            end = mid - 1\n",
    "    return left\n",
    "            \n",
    "            \n",
    "def right_value(query, words):\n",
    "    idx = find_idx(query)\n",
    "    right = -1\n",
    "    prefix = query[:idx+1]\n",
    "    start = 0\n",
    "    end = len(words) - 1 #3\n",
    "    while start <= end:\n",
    "        mid = (start + end) // 2\n",
    "        if words[mid][:idx + 1] <= prefix:\n",
    "            right = mid\n",
    "            start = mid + 1\n",
    "        else:\n",
    "            end = mid - 1\n",
    "    return right\n",
    "\n",
    "def solution(words, queries):\n",
    "    answer = []\n",
    "    reversed_words = []\n",
    "    for word in words:\n",
    "        reversed_words.append(word[::-1])\n",
    "    words_by_len = [[] for _ in range(10001)]\n",
    "    reversed_words_by_len = [[] for _ in range(10001)]\n",
    "    for word in words:\n",
    "        words_by_len[len(word)].append(word)\n",
    "    for reversed_word in reversed_words:\n",
    "        reversed_words_by_len[len(reversed_word)].append(reversed_word)\n",
    "    for w in words_by_len:\n",
    "        w. sort()\n",
    "    for r in reversed_words_by_len:\n",
    "        r.sort()\n",
    "\n",
    "        \n",
    "    for query in queries:\n",
    "        length = len(query) # 4\n",
    "        if query[0] == '?' and query[-1] == '?': \n",
    "            answer.append(len(words_by_len[length]))\n",
    "        else:\n",
    "            if query[0] == '?': \n",
    "                left = left_value(query[::-1], reversed_words_by_len[length]) #y???\n",
    "                right = right_value(query[::-1], reversed_words_by_len[length])\n",
    "\n",
    "            else:\n",
    "                left = left_value(query, words_by_len[length])\n",
    "                right = right_value(query, words_by_len[length])\n",
    "       \n",
    "            if left == -1 or right == -1:\n",
    "                answer.append(0)\n",
    "            else:\n",
    "                answer.append(right - left + 1)\n",
    "    return answer"
   ]
  },
  {
   "cell_type": "markdown",
   "id": "24afccf8",
   "metadata": {},
   "source": [
    "# 정답 확인 후 생각"
   ]
  },
  {
   "cell_type": "code",
   "execution_count": null,
   "id": "57c1b08a",
   "metadata": {},
   "outputs": [],
   "source": []
  },
  {
   "cell_type": "code",
   "execution_count": null,
   "id": "a9bbc190",
   "metadata": {},
   "outputs": [],
   "source": [
    "\"\"\"\"\"\"\"\"\"\"\n",
    "소스 코드 길이를 조금만 더 줄여보자.\n",
    "\"\"\"\"\"\"\"\"\"\""
   ]
  }
 ],
 "metadata": {
  "kernelspec": {
   "display_name": "Python 3 (ipykernel)",
   "language": "python",
   "name": "python3"
  },
  "language_info": {
   "codemirror_mode": {
    "name": "ipython",
    "version": 3
   },
   "file_extension": ".py",
   "mimetype": "text/x-python",
   "name": "python",
   "nbconvert_exporter": "python",
   "pygments_lexer": "ipython3",
   "version": "3.7.13"
  }
 },
 "nbformat": 4,
 "nbformat_minor": 5
}
