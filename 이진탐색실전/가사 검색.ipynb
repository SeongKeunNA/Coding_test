{
 "cells": [
  {
   "cell_type": "markdown",
   "id": "2aeb3fa3",
   "metadata": {},
   "source": [
    "# 코딩 전 생각"
   ]
  },
  {
   "cell_type": "code",
   "execution_count": null,
   "id": "11a28196",
   "metadata": {},
   "outputs": [],
   "source": [
    "\"\"\"\"\"\"\"\"\"\"\n",
    "for q in queries:\n",
    "queries 중 하나를 뽑아서,\n",
    "for w in words:\n",
    "1. 총 길이가 같은지 확인\n",
    "2-1. 만약 q[0]이 \"?\"이고 q[-1]이 \"?\"이 아닌 경우:\n",
    "0부터 len(w)-2까지 이진탐색 시작해 ?끝나는 지점p찾기\n",
    "끝나는 지점부터 단어 끝까지가 같으면 cnt += 1 \n",
    "2-2. 만약 q[0]이 \"?\"이 아니고 q[-1]이 \"?\"인 경우:\n",
    "1부터 len(w)-1까지 이진탐색 시작해 ?시작하는 지점p찾기\n",
    "? 시작 전 지점까지 단어 끝까지가 같으면 cnt +=1\n",
    "2-3. else(둘다 ?):\n",
    "    cnt += 1\n",
    "result[q] = cnt\n",
    "\"\"\"\"\"\"\"\"\"\""
   ]
  },
  {
   "cell_type": "markdown",
   "id": "13ec0df3",
   "metadata": {},
   "source": [
    "# 내 답안"
   ]
  },
  {
   "cell_type": "code",
   "execution_count": null,
   "id": "0641ac17",
   "metadata": {},
   "outputs": [],
   "source": [
    "p = 0\n",
    "val = 0\n",
    "break_ = 0\n",
    "\n",
    "def bsearch(query):\n",
    "    p = 0\n",
    "    if query[0] == '?' and query[-1] != '?':\n",
    "        val = 0\n",
    "        start, end = 1, len(query) - 1\n",
    "        \n",
    "    elif query[0] != '?' and query[-1] == '?':\n",
    "        val = 1\n",
    "        start, end = 0, len(query) - 2\n",
    "\n",
    "    else:\n",
    "        return -1\n",
    "\n",
    "\n",
    "    while start <= end:\n",
    "        mid = (start + end) // 2\n",
    "        if query[mid] == '?':\n",
    "            if val == 0:\n",
    "                start = mid + 1\n",
    "            else:\n",
    "                end = mid - 1\n",
    "        else:\n",
    "            p = mid\n",
    "            if val == 0:\n",
    "                end = mid - 1\n",
    "            else:\n",
    "                start = mid + 1\n",
    "    if val ==0:\n",
    "        s, e = p,len(query)\n",
    "    else:\n",
    "        s, e = 0,p+1\n",
    "    return [p,s,e]\n",
    "    \n",
    "def solution(words, queries):\n",
    "    answer = []\n",
    "    for query in queries:\n",
    "        cnt = 0     \n",
    "        val = 0        \n",
    "        p,s,e = bsearch(query)\n",
    "        if p == -1:\n",
    "            for word in words:\n",
    "                if len(word) == len(query):\n",
    "                    cnt += 1\n",
    "        else:\n",
    "            for word in words:\n",
    "                break_ = 0\n",
    "                if len(word) == len(query):  \n",
    "                    for i in range(s, e):\n",
    "                        if word[i] != query[i]:\n",
    "                            break_ = 1\n",
    "                            break\n",
    "                    if break_ == 0:\n",
    "                        cnt += 1\n",
    "        answer.append(cnt)  \n",
    "    return answer"
   ]
  },
  {
   "cell_type": "markdown",
   "id": "b884b142",
   "metadata": {},
   "source": [
    "# 1차 답안 작성 후 생각"
   ]
  },
  {
   "cell_type": "code",
   "execution_count": null,
   "id": "a9b5142d",
   "metadata": {},
   "outputs": [],
   "source": [
    "\"\"\"\"\"\"\"\"\"\"\n",
    "풀이 아이디어를 떠올리는 것은 어렵지 않았다.\n",
    "\n",
    "자잘한 부분에서 조금 더 함수를 깔끔하게 표현하는 데 시간을 많이 쓰기는 했다.\n",
    "\n",
    "문제는 효율성 체크 부분에서 5개 중 앞의 3개 테스트 케이스에서 계속 시간 초과가 발생한다는 것이다.\n",
    "\n",
    "내일 다시 한번 확인해서 시간을 줄일 수 있는 방법을 떠올려봐야겠다.\n",
    "\"\"\"\"\"\"\"\"\"\""
   ]
  }
 ],
 "metadata": {
  "kernelspec": {
   "display_name": "pytorch",
   "language": "python",
   "name": "pt1.1"
  },
  "language_info": {
   "codemirror_mode": {
    "name": "ipython",
    "version": 3
   },
   "file_extension": ".py",
   "mimetype": "text/x-python",
   "name": "python",
   "nbconvert_exporter": "python",
   "pygments_lexer": "ipython3",
   "version": "3.9.7"
  }
 },
 "nbformat": 4,
 "nbformat_minor": 5
}
