{
 "cells": [
  {
   "cell_type": "markdown",
   "id": "60ba52a7",
   "metadata": {},
   "source": [
    "# 코딩 전 생각"
   ]
  },
  {
   "cell_type": "code",
   "execution_count": null,
   "id": "7b4ebb7a",
   "metadata": {},
   "outputs": [],
   "source": [
    "\"\"\"\"\"\"\"\"\"\"\n",
    "처음에는 조금 당황했지만 이진 탐색의 원리를 생각하다가 해결 방법을 깨달았다.\n",
    "\n",
    "주어지는 리스트가 오름차순으로 정렬되어 있으므로, 중간점 인덱스의 원소가 중간점 인덱스보다 크면 중간 인덱스 이후부터 살펴보면 되는 식이다.\n",
    "\"\"\"\"\"\"\"\"\"\""
   ]
  },
  {
   "cell_type": "markdown",
   "id": "2d4754cd",
   "metadata": {},
   "source": [
    "# 내 답안"
   ]
  },
  {
   "cell_type": "code",
   "execution_count": 4,
   "id": "18e293da",
   "metadata": {},
   "outputs": [
    {
     "name": "stdout",
     "output_type": "stream",
     "text": [
      "7\n",
      "-15 -4 3 8 9 13 15\n"
     ]
    },
    {
     "data": {
      "text/plain": [
       "-1"
      ]
     },
     "execution_count": 4,
     "metadata": {},
     "output_type": "execute_result"
    }
   ],
   "source": [
    "n = int(input())\n",
    "array = list(map(int, input().split()))\n",
    "def bisect(array, start, end):\n",
    "    if start > end:\n",
    "        return -1 \n",
    "    mid = (start + end) // 2\n",
    "    if array[mid] == mid:\n",
    "        return mid\n",
    "    elif array[mid] > mid:\n",
    "        return bisect(array, start, mid-1)  \n",
    "    else:\n",
    "        return bisect(array, mid+1, end)\n",
    "bisect(array, 0, n-1)"
   ]
  },
  {
   "cell_type": "markdown",
   "id": "aa4c8954",
   "metadata": {},
   "source": [
    "# 답안 작성 후 생각"
   ]
  },
  {
   "cell_type": "code",
   "execution_count": null,
   "id": "59ae4813",
   "metadata": {},
   "outputs": [],
   "source": [
    "\"\"\"\"\"\"\"\"\"\"\n",
    "이상 무\n",
    "\"\"\"\"\"\"\"\"\"\""
   ]
  },
  {
   "cell_type": "markdown",
   "id": "e104eda5",
   "metadata": {},
   "source": [
    "# 정답"
   ]
  },
  {
   "cell_type": "code",
   "execution_count": null,
   "id": "839c2fb0",
   "metadata": {},
   "outputs": [],
   "source": [
    "def binary_search(array, start, end):\n",
    "    if start > end:\n",
    "        return None\n",
    "    mid = (start + end) // 2\n",
    "    if array[mid] == mid:\n",
    "        return mid\n",
    "    elif array[mid] > mid:\n",
    "        return binary_search(array, start, mid-1)\n",
    "    else:\n",
    "        return binary_search(array, mid + 1, end)\n",
    "n = int(input())\n",
    "array = list(map(int, input().split()))\n",
    "\n",
    "index = binary_search(array, 0, n-1)\n",
    "\n",
    "if index == None:\n",
    "    print(-1)\n",
    "else:\n",
    "    print(index)"
   ]
  },
  {
   "cell_type": "markdown",
   "id": "b6818f4d",
   "metadata": {},
   "source": [
    "# 정답 확인 후 생각"
   ]
  },
  {
   "cell_type": "code",
   "execution_count": null,
   "id": "b5d63b03",
   "metadata": {},
   "outputs": [],
   "source": [
    "\"\"\"\"\"\"\"\"\"\"\n",
    "이상 무\n",
    "\"\"\"\"\"\"\"\"\"\""
   ]
  }
 ],
 "metadata": {
  "kernelspec": {
   "display_name": "pytorch",
   "language": "python",
   "name": "pt1.1"
  },
  "language_info": {
   "codemirror_mode": {
    "name": "ipython",
    "version": 3
   },
   "file_extension": ".py",
   "mimetype": "text/x-python",
   "name": "python",
   "nbconvert_exporter": "python",
   "pygments_lexer": "ipython3",
   "version": "3.9.7"
  }
 },
 "nbformat": 4,
 "nbformat_minor": 5
}
