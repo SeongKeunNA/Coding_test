{
 "cells": [
  {
   "cell_type": "markdown",
   "id": "c3556496",
   "metadata": {},
   "source": [
    "# 코딩 전 생각"
   ]
  },
  {
   "cell_type": "code",
   "execution_count": 1,
   "id": "e07c5cae",
   "metadata": {},
   "outputs": [
    {
     "ename": "SyntaxError",
     "evalue": "EOF while scanning triple-quoted string literal (886353925.py, line 1)",
     "output_type": "error",
     "traceback": [
      "\u001b[1;36m  File \u001b[1;32m\"C:\\Users\\najonggeun\\AppData\\Local\\Temp\\ipykernel_2120\\886353925.py\"\u001b[1;36m, line \u001b[1;32m1\u001b[0m\n\u001b[1;33m    \"\"\"\"\"\"\"\"\"\"\u001b[0m\n\u001b[1;37m              ^\u001b[0m\n\u001b[1;31mSyntaxError\u001b[0m\u001b[1;31m:\u001b[0m EOF while scanning triple-quoted string literal\n"
     ]
    }
   ],
   "source": [
    "\"\"\"\"\"\"\"\"\"\"\n",
    "1. bisect모듈활용해보기.\n",
    "2. bisect모듈을 활용하지 않고 이진 탐색 직접 구현\n",
    "\"\"\"\"\"\"\"\"\"\""
   ]
  },
  {
   "cell_type": "markdown",
   "id": "316f48d2",
   "metadata": {},
   "source": [
    "# 내 답안(bisect 모듈 사용)"
   ]
  },
  {
   "cell_type": "code",
   "execution_count": 18,
   "id": "f7171638",
   "metadata": {},
   "outputs": [
    {
     "name": "stdout",
     "output_type": "stream",
     "text": [
      "7 2\n",
      "1 1 2 2 2 2 3\n",
      "4\n"
     ]
    }
   ],
   "source": [
    "from bisect import bisect_left, bisect_right\n",
    "n, x = map(int, input().split())\n",
    "data = list(map(int ,input().split()))\n",
    "\n",
    "if data[0] > x or data[-1] < x:\n",
    "    print(-1)\n",
    "else:\n",
    "    a = bisect_left(data, x)\n",
    "    b = bisect_right(data, x)\n",
    "    print(b-a)"
   ]
  },
  {
   "cell_type": "markdown",
   "id": "d2fe9192",
   "metadata": {},
   "source": [
    "# 내 답안(이진탐색 직접 구현)"
   ]
  },
  {
   "cell_type": "code",
   "execution_count": 31,
   "id": "6a0a51cd",
   "metadata": {},
   "outputs": [
    {
     "ename": "KeyboardInterrupt",
     "evalue": "Interrupted by user",
     "output_type": "error",
     "traceback": [
      "\u001b[1;31m---------------------------------------------------------------------------\u001b[0m",
      "\u001b[1;31mKeyboardInterrupt\u001b[0m                         Traceback (most recent call last)",
      "\u001b[1;32m~\\AppData\\Local\\Temp\\ipykernel_2120\\2526460174.py\u001b[0m in \u001b[0;36m<module>\u001b[1;34m\u001b[0m\n\u001b[1;32m----> 1\u001b[1;33m \u001b[0mn\u001b[0m\u001b[1;33m,\u001b[0m \u001b[0mx\u001b[0m \u001b[1;33m=\u001b[0m \u001b[0mmap\u001b[0m\u001b[1;33m(\u001b[0m\u001b[0mint\u001b[0m\u001b[1;33m,\u001b[0m \u001b[0minput\u001b[0m\u001b[1;33m(\u001b[0m\u001b[1;33m)\u001b[0m\u001b[1;33m.\u001b[0m\u001b[0msplit\u001b[0m\u001b[1;33m(\u001b[0m\u001b[1;33m)\u001b[0m\u001b[1;33m)\u001b[0m\u001b[1;33m\u001b[0m\u001b[1;33m\u001b[0m\u001b[0m\n\u001b[0m\u001b[0;32m      2\u001b[0m \u001b[0mdata\u001b[0m \u001b[1;33m=\u001b[0m \u001b[0mlist\u001b[0m\u001b[1;33m(\u001b[0m\u001b[0mmap\u001b[0m\u001b[1;33m(\u001b[0m\u001b[0mint\u001b[0m \u001b[1;33m,\u001b[0m\u001b[0minput\u001b[0m\u001b[1;33m(\u001b[0m\u001b[1;33m)\u001b[0m\u001b[1;33m.\u001b[0m\u001b[0msplit\u001b[0m\u001b[1;33m(\u001b[0m\u001b[1;33m)\u001b[0m\u001b[1;33m)\u001b[0m\u001b[1;33m)\u001b[0m\u001b[1;33m\u001b[0m\u001b[1;33m\u001b[0m\u001b[0m\n\u001b[0;32m      3\u001b[0m \u001b[1;32mdef\u001b[0m \u001b[0mbsearch\u001b[0m\u001b[1;33m(\u001b[0m\u001b[0mdata\u001b[0m\u001b[1;33m,\u001b[0m \u001b[0mx\u001b[0m\u001b[1;33m)\u001b[0m\u001b[1;33m:\u001b[0m\u001b[1;33m\u001b[0m\u001b[1;33m\u001b[0m\u001b[0m\n\u001b[0;32m      4\u001b[0m     \u001b[0ms\u001b[0m \u001b[1;33m=\u001b[0m \u001b[1;36m0\u001b[0m\u001b[1;33m\u001b[0m\u001b[1;33m\u001b[0m\u001b[0m\n\u001b[0;32m      5\u001b[0m     \u001b[0me\u001b[0m \u001b[1;33m=\u001b[0m \u001b[0mlen\u001b[0m\u001b[1;33m(\u001b[0m\u001b[0mdata\u001b[0m\u001b[1;33m)\u001b[0m\u001b[1;33m-\u001b[0m\u001b[1;36m1\u001b[0m\u001b[1;33m\u001b[0m\u001b[1;33m\u001b[0m\u001b[0m\n",
      "\u001b[1;32mD:\\userDATA\\anaconda3\\envs\\py37\\lib\\site-packages\\ipykernel\\kernelbase.py\u001b[0m in \u001b[0;36mraw_input\u001b[1;34m(self, prompt)\u001b[0m\n\u001b[0;32m   1077\u001b[0m             \u001b[0mself\u001b[0m\u001b[1;33m.\u001b[0m\u001b[0m_parent_ident\u001b[0m\u001b[1;33m[\u001b[0m\u001b[1;34m\"shell\"\u001b[0m\u001b[1;33m]\u001b[0m\u001b[1;33m,\u001b[0m\u001b[1;33m\u001b[0m\u001b[1;33m\u001b[0m\u001b[0m\n\u001b[0;32m   1078\u001b[0m             \u001b[0mself\u001b[0m\u001b[1;33m.\u001b[0m\u001b[0mget_parent\u001b[0m\u001b[1;33m(\u001b[0m\u001b[1;34m\"shell\"\u001b[0m\u001b[1;33m)\u001b[0m\u001b[1;33m,\u001b[0m\u001b[1;33m\u001b[0m\u001b[1;33m\u001b[0m\u001b[0m\n\u001b[1;32m-> 1079\u001b[1;33m             \u001b[0mpassword\u001b[0m\u001b[1;33m=\u001b[0m\u001b[1;32mFalse\u001b[0m\u001b[1;33m,\u001b[0m\u001b[1;33m\u001b[0m\u001b[1;33m\u001b[0m\u001b[0m\n\u001b[0m\u001b[0;32m   1080\u001b[0m         )\n\u001b[0;32m   1081\u001b[0m \u001b[1;33m\u001b[0m\u001b[0m\n",
      "\u001b[1;32mD:\\userDATA\\anaconda3\\envs\\py37\\lib\\site-packages\\ipykernel\\kernelbase.py\u001b[0m in \u001b[0;36m_input_request\u001b[1;34m(self, prompt, ident, parent, password)\u001b[0m\n\u001b[0;32m   1118\u001b[0m             \u001b[1;32mexcept\u001b[0m \u001b[0mKeyboardInterrupt\u001b[0m\u001b[1;33m:\u001b[0m\u001b[1;33m\u001b[0m\u001b[1;33m\u001b[0m\u001b[0m\n\u001b[0;32m   1119\u001b[0m                 \u001b[1;31m# re-raise KeyboardInterrupt, to truncate traceback\u001b[0m\u001b[1;33m\u001b[0m\u001b[1;33m\u001b[0m\u001b[1;33m\u001b[0m\u001b[0m\n\u001b[1;32m-> 1120\u001b[1;33m                 \u001b[1;32mraise\u001b[0m \u001b[0mKeyboardInterrupt\u001b[0m\u001b[1;33m(\u001b[0m\u001b[1;34m\"Interrupted by user\"\u001b[0m\u001b[1;33m)\u001b[0m \u001b[1;32mfrom\u001b[0m \u001b[1;32mNone\u001b[0m\u001b[1;33m\u001b[0m\u001b[1;33m\u001b[0m\u001b[0m\n\u001b[0m\u001b[0;32m   1121\u001b[0m             \u001b[1;32mexcept\u001b[0m \u001b[0mException\u001b[0m\u001b[1;33m:\u001b[0m\u001b[1;33m\u001b[0m\u001b[1;33m\u001b[0m\u001b[0m\n\u001b[0;32m   1122\u001b[0m                 \u001b[0mself\u001b[0m\u001b[1;33m.\u001b[0m\u001b[0mlog\u001b[0m\u001b[1;33m.\u001b[0m\u001b[0mwarning\u001b[0m\u001b[1;33m(\u001b[0m\u001b[1;34m\"Invalid Message:\"\u001b[0m\u001b[1;33m,\u001b[0m \u001b[0mexc_info\u001b[0m\u001b[1;33m=\u001b[0m\u001b[1;32mTrue\u001b[0m\u001b[1;33m)\u001b[0m\u001b[1;33m\u001b[0m\u001b[1;33m\u001b[0m\u001b[0m\n",
      "\u001b[1;31mKeyboardInterrupt\u001b[0m: Interrupted by user"
     ]
    }
   ],
   "source": [
    "n, x = map(int, input().split())\n",
    "data = list(map(int ,input().split()))\n",
    "def bsearch(data, x):\n",
    "    s = 0\n",
    "    e = len(data)-1\n",
    "    while s <= e:\n",
    "        mid = (s + e) // 2\n",
    "        if data[mid] > x:\n",
    "            e = mid - 1\n",
    "        elif data[mid] < x:\n",
    "            s = mid + 1\n",
    "        elif data[mid] == x:\n",
    "            min_idx = mid\n",
    "            max_idx = mid\n",
    "            s, e = 0, mid-1\n",
    "            while s <= e:\n",
    "                mid = (s + e) // 2\n",
    "                if data[mid] == 2:\n",
    "                    min_idx = min(min_idx, mid)\n",
    "                    e = mid - 1\n",
    "                else:\n",
    "                    s = mid + 1\n",
    "            s, e = mid+1, len(data)-1\n",
    "            while s <= e: \n",
    "                mid = (s + e) // 2\n",
    "                if data[mid] == 2:\n",
    "                    max_idx = max(max_idx, mid)\n",
    "                    s = mid + 1\n",
    "                else:\n",
    "                    e = mid - 1\n",
    "            return max_idx-min_idx+1\n",
    "    return -1\n",
    "bsearch(data, x)"
   ]
  },
  {
   "cell_type": "markdown",
   "id": "9eca2784",
   "metadata": {},
   "source": [
    "# 답안 작성 후 생각"
   ]
  },
  {
   "cell_type": "code",
   "execution_count": 19,
   "id": "b3b2265a",
   "metadata": {},
   "outputs": [
    {
     "ename": "SyntaxError",
     "evalue": "EOF while scanning triple-quoted string literal (1195929667.py, line 2)",
     "output_type": "error",
     "traceback": [
      "\u001b[1;36m  File \u001b[1;32m\"C:\\Users\\najonggeun\\AppData\\Local\\Temp\\ipykernel_2120\\1195929667.py\"\u001b[1;36m, line \u001b[1;32m2\u001b[0m\n\u001b[1;33m    \"\"\u001b[0m\n\u001b[1;37m      \n^\u001b[0m\n\u001b[1;31mSyntaxError\u001b[0m\u001b[1;31m:\u001b[0m EOF while scanning triple-quoted string literal\n"
     ]
    }
   ],
   "source": [
    "\"\"\"\"\"\"\"\"\"\"\n",
    "이진 탐색 직접 구현 시 반복문이 아니라 재귀적으로도 구현할 수 있었던 것 같은데 기억이 오래돼서 헷갈린다.\n",
    "\n",
    "반복문 역시 조금 더 간결하게 작성할 수 있을 것 같다.\n",
    "\"\"\"\"\"\"\"\"\"\""
   ]
  },
  {
   "cell_type": "markdown",
   "id": "f6595e99",
   "metadata": {},
   "source": [
    "# 정답(bisect 모듈 사용)"
   ]
  },
  {
   "cell_type": "code",
   "execution_count": 50,
   "id": "afd994cc",
   "metadata": {},
   "outputs": [
    {
     "name": "stdout",
     "output_type": "stream",
     "text": [
      "7 4\n",
      "1 1 2 2 2 2 3\n",
      "-1\n"
     ]
    }
   ],
   "source": [
    "from bisect import bisect_left, bisect_right\n",
    "\n",
    "def count_by_range(array, left_value, right_value):\n",
    "    right_index = bisect_right(array, right_value)\n",
    "    left_index = bisect_left(array, left_value)\n",
    "    return right_index - left_index\n",
    "n, x = map(int, input().split())\n",
    "array = list(map(int ,input().split()))\n",
    "count = count_by_range(array, x, x)\n",
    "if count == 0:\n",
    "    print(-1)\n",
    "else:\n",
    "    print(count)"
   ]
  },
  {
   "cell_type": "markdown",
   "id": "43dbd54b",
   "metadata": {},
   "source": [
    "# 정답 확인 후 생각"
   ]
  },
  {
   "cell_type": "code",
   "execution_count": null,
   "id": "86f2498a",
   "metadata": {},
   "outputs": [],
   "source": [
    "\"\"\"\"\"\"\"\"\"\"\n",
    "리스트의 최소 원소와 최대원소를 통해 미리 해당 수의 존재 여부를 파악하지 않고, count함수의 결과가 0이라면 -1을 출력하도록 했다.\n",
    "\"\"\"\"\"\"\"\"\"\""
   ]
  },
  {
   "cell_type": "markdown",
   "id": "e1a8a9b9",
   "metadata": {},
   "source": [
    "# 정답(이진탐색 직접 구현)"
   ]
  },
  {
   "cell_type": "code",
   "execution_count": 23,
   "id": "4daa59cf",
   "metadata": {},
   "outputs": [
    {
     "name": "stdout",
     "output_type": "stream",
     "text": [
      "7 4\n",
      "1 1 2 2 2 2 3\n",
      "-1\n"
     ]
    }
   ],
   "source": [
    "def count_by_value(array, x):\n",
    "    n = len(array)\n",
    "    a= first(array, x, 0, n - 1)\n",
    "    if a == None:\n",
    "        return 0\n",
    "    b = last(array, x, 0, n - 1)\n",
    "    return b - a + 1\n",
    "\n",
    "def first(array, target, start, end):\n",
    "    if start > end:\n",
    "        return None\n",
    "    mid = (start + end) // 2\n",
    "    if (mid == 0 or target > array[mid - 1]) and array[mid] == target:\n",
    "        return mid\n",
    "    elif array[mid] >= target:\n",
    "        return first(array, target, start, mid - 1)\n",
    "    else:\n",
    "        return first(array, target, mid + 1, end)\n",
    "    \n",
    "def last(array, target, start, end):\n",
    "    if start > end:\n",
    "        return None\n",
    "    mid =  (start + end) // 2\n",
    "    if (mid == n - 1 or target < array[mid + 1]) and array[mid] == target:\n",
    "        return mid\n",
    "    elif array[mid] > target:\n",
    "        return last(array, target, start, mid - 1)\n",
    "    else:\n",
    "        return last(array, target, mid + 1, end)\n",
    "n, x = map(int, input().split())\n",
    "array = list(map(int, input().split()))\n",
    "\n",
    "count = count_by_value(array, x)\n",
    "if count == 0:\n",
    "    print(-1)\n",
    "else:\n",
    "    print(count)"
   ]
  },
  {
   "cell_type": "markdown",
   "id": "ba87ce0b",
   "metadata": {},
   "source": [
    "# 정답 확인 후 생각"
   ]
  },
  {
   "cell_type": "code",
   "execution_count": null,
   "id": "97c43ceb",
   "metadata": {},
   "outputs": [],
   "source": [
    "\"\"\"\"\"\"\"\"\"\"\n",
    "랜덤 모듈로 임의의 값을 넣어 계산해보니 나의 모듈이 오답을 출력한다는 것을 알게 되었다.\n",
    "\n",
    "정답 소스 코드의 내용을 숙지하자.\n",
    "\n",
    "1. first 함수와 last 함수를 나누어 구현했다.\n",
    "\n",
    "2. 반복문이 아닌 재귀문으로 구현했다.\n",
    "\n",
    "3. first 함수의 경우 현재 mid가 0이거나 바로 전 인덱스가 target 값보다 작은지, 그리고 mid 인덱스의 값이 target 값과 같은지 확인한다.\n",
    "\n",
    "4. last 함수의 경우 현재 mid가 n-1이거나 바로 다음 인덱스가 target 값보다 큰지, 그리고 mid 인덱스의 값이 target 값과 같은지 확인한다.\n",
    "\n",
    "5. first 함수의 경우 mid인덱스의 값이 target보다 크거나 같으면 왼쪽을 확인하고, last 함수의 경우 작거나 같으면 오른을 확인한다.\n",
    "(즉, first 함수는 target값과 같아도 최대한 왼쪽에 있는 값을 찾고, last 함수는 최대한 오른쪽에 있는 값을 찾는다.)\n",
    "\"\"\"\"\"\"\"\"\"\""
   ]
  }
 ],
 "metadata": {
  "kernelspec": {
   "display_name": "Python 3 (ipykernel)",
   "language": "python",
   "name": "python3"
  },
  "language_info": {
   "codemirror_mode": {
    "name": "ipython",
    "version": 3
   },
   "file_extension": ".py",
   "mimetype": "text/x-python",
   "name": "python",
   "nbconvert_exporter": "python",
   "pygments_lexer": "ipython3",
   "version": "3.7.13"
  }
 },
 "nbformat": 4,
 "nbformat_minor": 5
}
