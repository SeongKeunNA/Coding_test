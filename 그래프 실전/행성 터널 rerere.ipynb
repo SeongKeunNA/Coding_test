{
 "cells": [
  {
   "cell_type": "markdown",
   "id": "00f7e562",
   "metadata": {},
   "source": [
    "# 코딩 전 생각"
   ]
  },
  {
   "cell_type": "code",
   "execution_count": null,
   "id": "88bd020f",
   "metadata": {},
   "outputs": [],
   "source": [
    "\"\"\"\"\"\"\"\"\"\"\n",
    "각 행성의 번호와 x, y, z 좌표를 각각 담은 리스트를 정렬하고, 가능한 n -1 개의 터널 3개를 한 리스트에 담는다.\n",
    "\n",
    "이후 크루스칼 알고리즘을 적용하여 최소 비용을 구한다.\n",
    "\"\"\"\"\"\"\"\"\"\""
   ]
  },
  {
   "cell_type": "markdown",
   "id": "f48cd5aa",
   "metadata": {},
   "source": [
    "# 내 답안"
   ]
  },
  {
   "cell_type": "code",
   "execution_count": 1,
   "id": "d473970b",
   "metadata": {},
   "outputs": [
    {
     "name": "stdout",
     "output_type": "stream",
     "text": [
      "5\n",
      "11 -15 -15\n",
      "14 -5 -15\n",
      "-1 -1 -5\n",
      "10 -4 -1\n",
      "19 -4 19\n",
      "4\n"
     ]
    }
   ],
   "source": [
    "n = int(input())\n",
    "x = []\n",
    "y = []\n",
    "z = []\n",
    "for i in range(n):\n",
    "    a, b, c = map(int, input().split())\n",
    "    x.append((a, i))\n",
    "    y.append((b, i))\n",
    "    z.append((c, i))\n",
    "x.sort()\n",
    "y.sort()\n",
    "z.sort()\n",
    "possible = []\n",
    "for locate in [x, y, z]:\n",
    "    for j in range(1, n):\n",
    "        possible.append((locate[j][0]- locate[j-1][0], j, j - 1))\n",
    "possible.sort()\n",
    "answer = 0\n",
    "hist = []\n",
    "for p in possible:\n",
    "    dist, a, b = p\n",
    "    if (a, b) not in hist:\n",
    "        hist.append((a, b))\n",
    "        answer += dist\n",
    "print(answer)"
   ]
  },
  {
   "cell_type": "code",
   "execution_count": 5,
   "id": "2515bc96",
   "metadata": {},
   "outputs": [
    {
     "name": "stdout",
     "output_type": "stream",
     "text": [
      "5\n",
      "11 -15 -15\n",
      "14 -5 -15\n",
      "-1 -1 -5\n",
      "10 -4 -1\n",
      "19 -4 19\n",
      "[(11, 1, 0), (1, 2, 1), (3, 3, 2), (5, 4, 3), (10, 1, 0), (1, 2, 1), (0, 3, 2), (3, 4, 3), (0, 1, 0), (10, 2, 1), (4, 3, 2), (20, 4, 3)]\n",
      "[(0, 1, 0), (0, 3, 2), (1, 2, 1), (1, 2, 1), (3, 3, 2), (3, 4, 3), (4, 3, 2), (5, 4, 3), (10, 1, 0), (10, 2, 1), (11, 1, 0), (20, 4, 3)]\n",
      "4\n"
     ]
    }
   ],
   "source": [
    "def find_parent(parent, x):\n",
    "    if parent[x] != x:\n",
    "        parent[x] = find_parent(parent, parent[x])\n",
    "    return parent[x]\n",
    "def union_parent(parent, a, b):\n",
    "    a = find_parent(parent, a)\n",
    "    b = find_parent(parent, b)\n",
    "    if a < b:\n",
    "        parent[b] = a\n",
    "    else:\n",
    "        parent[a] = b\n",
    "n = int(input())\n",
    "x = []\n",
    "y = []\n",
    "z = []\n",
    "for i in range(n):\n",
    "    a, b, c = map(int, input().split())\n",
    "    x.append((a, i))\n",
    "    y.append((b, i))\n",
    "    z.append((c, i))\n",
    "x.sort()\n",
    "y.sort()\n",
    "z.sort()\n",
    "possible = []\n",
    "for locate in [x, y, z]:\n",
    "    for j in range(1, n):\n",
    "        possible.append((locate[j][0]- locate[j-1][0], locate[j][1], locate[j-1][1]))\n",
    "possible.sort()\n",
    "answer = 0\n",
    "parent = [0] * n\n",
    "for i in range(n):\n",
    "    parent[i] = i\n",
    "for p in possible:\n",
    "    dist, a, b = p\n",
    "    if find_parent(parent, a) != find_parent(parent, b):\n",
    "        union_parent(parent, a, b)\n",
    "        answer += dist\n",
    "print(answer)"
   ]
  }
 ],
 "metadata": {
  "kernelspec": {
   "display_name": "Python 3 (ipykernel)",
   "language": "python",
   "name": "python3"
  },
  "language_info": {
   "codemirror_mode": {
    "name": "ipython",
    "version": 3
   },
   "file_extension": ".py",
   "mimetype": "text/x-python",
   "name": "python",
   "nbconvert_exporter": "python",
   "pygments_lexer": "ipython3",
   "version": "3.7.13"
  }
 },
 "nbformat": 4,
 "nbformat_minor": 5
}
