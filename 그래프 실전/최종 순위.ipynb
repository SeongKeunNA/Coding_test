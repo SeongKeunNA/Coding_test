{
 "cells": [
  {
   "cell_type": "code",
   "execution_count": null,
   "id": "a007f15c",
   "metadata": {},
   "outputs": [],
   "source": [
    "서로소집합(크루스칼), 위상정렬\n",
    "a5(0,b) b4(a,c) c3(b,d) d2(c, e) e1(d,e)\n",
    "\n",
    "2,4\n",
    "b4(c,e) d2(a,c)\n",
    "\n",
    "a5(0,b) b4(c,e) c3(b,d) d2(a, c) e1(d,0)\n",
    "a(cd)\n",
    "\n",
    "\n",
    "\n",
    "\n",
    "a5(b) b4(e), d2(c)\n",
    "\n",
    "\n",
    "inner = [],[1],[1,2],[1,2,3],[1,2,3,4]\n",
    "\n",
    "\n",
    "\n",
    "inner = [1,2,3,4],[1,2,3],[1,2],[1],[]\n",
    "2,4 [1,2,3,4],[1],[1,2],[1,2,3],[]\n",
    "3,4 [1,2,3,4],[1],[1,2,3],[1,2],[]\n",
    "ebdca\n",
    "\n",
    "\n",
    "\n"
   ]
  },
  {
   "cell_type": "markdown",
   "id": "607eb46a",
   "metadata": {},
   "source": [
    "# 코딩 전 생각"
   ]
  },
  {
   "cell_type": "code",
   "execution_count": 1,
   "id": "d7db774b",
   "metadata": {},
   "outputs": [
    {
     "ename": "SyntaxError",
     "evalue": "EOF while scanning triple-quoted string literal (Temp/ipykernel_19064/886353925.py, line 1)",
     "output_type": "error",
     "traceback": [
      "\u001b[1;36m  File \u001b[1;32m\"C:\\Users\\NAJONG~1\\AppData\\Local\\Temp/ipykernel_19064/886353925.py\"\u001b[1;36m, line \u001b[1;32m1\u001b[0m\n\u001b[1;33m    \"\"\"\"\"\"\"\"\"\"\u001b[0m\n\u001b[1;37m              ^\u001b[0m\n\u001b[1;31mSyntaxError\u001b[0m\u001b[1;31m:\u001b[0m EOF while scanning triple-quoted string literal\n"
     ]
    }
   ],
   "source": [
    "\"\"\"\"\"\"\"\"\"\"\n",
    "서로소 집합(크루스칼)알고리즘이나 위상정렬 중 어떤 개념을 적용시켜 풀어야할지부터 막혔다.\n",
    "\n",
    "1시간 반동안 생각해본 결과, 순위가 바뀐 m개의 팀 쌍을 분리시킨 후 다시 합치는 union-find 연산을 이용한 \n",
    "\n",
    "풀이가 될 것 같다.\n",
    "\n",
    "대략적인 풀이는\n",
    "\n",
    "0. 모든 팀을 (팀번호, 올해 순위)로 묶음\n",
    "\n",
    "1. 모든 팀의 parent를 올해 자신의 순위로 함\n",
    "\n",
    "2. m개의 팀 쌍에 대해 각각 parent를 설정함 (둘 중 순위가 높은 팀의 parent를 낮은 팀의 번호로 설정)\n",
    "\n",
    "3. m개의 팀쌍과 기존 팀들을 묶음\n",
    "\n",
    "이런 흐름이 될 것 같은데, 풀이가 조금 막막하다.\n",
    "\n",
    "답지 첫부분에서 풀이 힌트를 참고하고자한다.\n",
    "\n",
    "\"\"\"\"\"\"\"\"\"\""
   ]
  },
  {
   "cell_type": "markdown",
   "id": "6ece97bb",
   "metadata": {},
   "source": [
    "# 답지 초반 부분 확인 후 생각"
   ]
  },
  {
   "cell_type": "code",
   "execution_count": null,
   "id": "8e2aa004",
   "metadata": {},
   "outputs": [],
   "source": [
    "\"\"\"\"\"\"\"\"\"\"\n",
    "혹시나 했는데 위상정렬을 이용한 문제였다.\n",
    "\n",
    "내가 노트에 그린 대로 팀 간의 순위 정보를 그래프로 그린 후, 문제에서 요구한 3가지 케이스에 맞게 정답을 출력할 수 있도록\n",
    "\n",
    "소스코드를 작성하면 될 것 같다. 문제 풀이 아이디어만 확인하고 소스코드는 보지 않았으므로, 내일 혼자서 답안을 작성해보고자 한다.\n",
    "\"\"\"\"\"\"\"\"\"\""
   ]
  }
 ],
 "metadata": {
  "kernelspec": {
   "display_name": "pytorch",
   "language": "python",
   "name": "pt1.1"
  },
  "language_info": {
   "codemirror_mode": {
    "name": "ipython",
    "version": 3
   },
   "file_extension": ".py",
   "mimetype": "text/x-python",
   "name": "python",
   "nbconvert_exporter": "python",
   "pygments_lexer": "ipython3",
   "version": "3.9.7"
  }
 },
 "nbformat": 4,
 "nbformat_minor": 5
}
