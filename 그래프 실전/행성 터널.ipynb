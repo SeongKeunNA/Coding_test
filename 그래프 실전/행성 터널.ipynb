{
 "cells": [
  {
   "cell_type": "markdown",
   "id": "28dbb85c",
   "metadata": {},
   "source": [
    "# 코딩 전 생각"
   ]
  },
  {
   "cell_type": "code",
   "execution_count": 1,
   "id": "1451524d",
   "metadata": {},
   "outputs": [
    {
     "ename": "SyntaxError",
     "evalue": "EOF while scanning triple-quoted string literal (Temp/ipykernel_7572/886353925.py, line 1)",
     "output_type": "error",
     "traceback": [
      "\u001b[1;36m  File \u001b[1;32m\"C:\\Users\\NAJONG~1\\AppData\\Local\\Temp/ipykernel_7572/886353925.py\"\u001b[1;36m, line \u001b[1;32m1\u001b[0m\n\u001b[1;33m    \"\"\"\"\"\"\"\"\"\"\u001b[0m\n\u001b[1;37m              ^\u001b[0m\n\u001b[1;31mSyntaxError\u001b[0m\u001b[1;31m:\u001b[0m EOF while scanning triple-quoted string literal\n"
     ]
    }
   ],
   "source": [
    "\"\"\"\"\"\"\"\"\"\"\n",
    "크루스칼 알고리즘을 적용해 푸는 문제인 것 같다.\n",
    "\n",
    "다만 다른 문제들과 차이점이 있다면, 노드 간의 연결이 정해져있는 게 아니라는 점이다.\n",
    "\n",
    "즉, 모든 노드가 서로 연결 가능하기 때문에, 최소 비용 순으로 연결하는 것이 어렵다.\n",
    "\n",
    "특히 노드 개수가 최대 100,000개로, 적지 않으므로 x,y,z 좌표 별로 정렬을 한 번만 수행하고\n",
    "\n",
    "그 결과를 바탕으로 매 번 최소 연결 거리인 행성을 연결하는 방법을 적용해보고자 한다.\n",
    "\"\"\"\"\"\"\"\"\"\""
   ]
  },
  {
   "cell_type": "markdown",
   "id": "e11a611d",
   "metadata": {},
   "source": [
    "# 내 답안"
   ]
  },
  {
   "cell_type": "code",
   "execution_count": 6,
   "id": "f9dbd247",
   "metadata": {},
   "outputs": [
    {
     "name": "stdout",
     "output_type": "stream",
     "text": [
      "5\n",
      "11 -15 -15\n",
      "14 -5 -15\n",
      "-1 -1 -5\n",
      "10 -4 -1\n",
      "10 -4 19\n"
     ]
    },
    {
     "ename": "TypeError",
     "evalue": "unsupported operand type(s) for -: 'list' and 'list'",
     "output_type": "error",
     "traceback": [
      "\u001b[1;31m---------------------------------------------------------------------------\u001b[0m",
      "\u001b[1;31mTypeError\u001b[0m                                 Traceback (most recent call last)",
      "\u001b[1;32mC:\\Users\\NAJONG~1\\AppData\\Local\\Temp/ipykernel_7572/2763196781.py\u001b[0m in \u001b[0;36m<module>\u001b[1;34m\u001b[0m\n\u001b[0;32m     29\u001b[0m     \u001b[1;32mfor\u001b[0m \u001b[0mp\u001b[0m \u001b[1;32min\u001b[0m \u001b[1;33m[\u001b[0m\u001b[0mx_planet\u001b[0m\u001b[1;33m,\u001b[0m\u001b[0my_planet\u001b[0m\u001b[1;33m,\u001b[0m\u001b[0mz_planet\u001b[0m\u001b[1;33m]\u001b[0m\u001b[1;33m:\u001b[0m\u001b[1;33m\u001b[0m\u001b[1;33m\u001b[0m\u001b[0m\n\u001b[0;32m     30\u001b[0m         \u001b[1;32mfor\u001b[0m \u001b[0mi\u001b[0m \u001b[1;32min\u001b[0m \u001b[0mrange\u001b[0m\u001b[1;33m(\u001b[0m\u001b[0mn\u001b[0m\u001b[1;33m-\u001b[0m\u001b[1;36m1\u001b[0m\u001b[1;33m)\u001b[0m\u001b[1;33m:\u001b[0m\u001b[1;33m\u001b[0m\u001b[1;33m\u001b[0m\u001b[0m\n\u001b[1;32m---> 31\u001b[1;33m             \u001b[1;32mif\u001b[0m \u001b[0mlast\u001b[0m \u001b[1;33m<\u001b[0m \u001b[0mp\u001b[0m\u001b[1;33m[\u001b[0m\u001b[0mi\u001b[0m\u001b[1;33m+\u001b[0m\u001b[1;36m1\u001b[0m\u001b[1;33m]\u001b[0m \u001b[1;33m-\u001b[0m \u001b[0mp\u001b[0m\u001b[1;33m[\u001b[0m\u001b[0mi\u001b[0m\u001b[1;33m]\u001b[0m \u001b[1;33m<\u001b[0m \u001b[0mmin_value\u001b[0m\u001b[1;33m:\u001b[0m\u001b[1;33m\u001b[0m\u001b[1;33m\u001b[0m\u001b[0m\n\u001b[0m\u001b[0;32m     32\u001b[0m                 \u001b[0mmin_value\u001b[0m \u001b[1;33m=\u001b[0m \u001b[0mp\u001b[0m\u001b[1;33m[\u001b[0m\u001b[0mi\u001b[0m\u001b[1;33m+\u001b[0m\u001b[1;36m1\u001b[0m\u001b[1;33m]\u001b[0m \u001b[1;33m-\u001b[0m \u001b[0mp\u001b[0m\u001b[1;33m[\u001b[0m\u001b[0mi\u001b[0m\u001b[1;33m]\u001b[0m\u001b[1;33m\u001b[0m\u001b[1;33m\u001b[0m\u001b[0m\n\u001b[0;32m     33\u001b[0m                 \u001b[0mtunnel\u001b[0m \u001b[1;33m=\u001b[0m \u001b[1;33m(\u001b[0m\u001b[0mp\u001b[0m\u001b[1;33m[\u001b[0m\u001b[0mi\u001b[0m\u001b[1;33m+\u001b[0m\u001b[1;36m1\u001b[0m\u001b[1;33m]\u001b[0m\u001b[1;33m,\u001b[0m\u001b[0mp\u001b[0m\u001b[1;33m[\u001b[0m\u001b[0mi\u001b[0m\u001b[1;33m]\u001b[0m\u001b[1;33m)\u001b[0m\u001b[1;33m\u001b[0m\u001b[1;33m\u001b[0m\u001b[0m\n",
      "\u001b[1;31mTypeError\u001b[0m: unsupported operand type(s) for -: 'list' and 'list'"
     ]
    }
   ],
   "source": [
    "def find_parent(parent,x):\n",
    "    if parent[x] != x:\n",
    "        parent[x] = find_parent(parent, parent[x])\n",
    "    return parent[x]\n",
    "\n",
    "def union_parent(parent, a, b):\n",
    "    a = find_parent(parent, a)\n",
    "    b = find_parent(parent, b)\n",
    "    if a < b:\n",
    "        parent[b] = a\n",
    "    else:\n",
    "        parent[a] = b\n",
    "\n",
    "n = int(input())\n",
    "parent = [0] * (n+1)\n",
    "planet = []\n",
    "for i in range(1, n+1):\n",
    "    parent[i] = i\n",
    "    \n",
    "for i in range(n):\n",
    "    data = list(map(int, input().split()))\n",
    "    planet.append(data)\n",
    "    x_planet.append((data[0],i))\n",
    "    y_planet.append((data[1],i))\n",
    "    z_planet.append((data[2],i))\n",
    "\n",
    "planets = [x_planet, y_planet, z_planet]\n",
    "for p in planets:\n",
    "    p.sort()\n",
    "\n",
    "for i in range(n-1):\n",
    "    min_value = 1e9\n",
    "    last = 0\n",
    "    for j in range(3):\n",
    "        for k in range(n-1):\n",
    "            if last < planets[j][k+1] - planets[j][k] < min_value:\n",
    "                min_value = planets[])\n",
    "    last = min_value\n",
    "    if find_parent(parent, tunnel[0]) != find_parent(parent, tunnel[1]):\n",
    "        union_parent(parent, tunnel[0], tunnel[1])\n",
    "        result += min_valuej][k+1] - planets[j][k]\n",
    "                tunnel = (p[i+1],p[i)"
   ]
  },
  {
   "cell_type": "markdown",
   "id": "a5671193",
   "metadata": {},
   "source": [
    "# 답안 작성 후 생각"
   ]
  },
  {
   "cell_type": "code",
   "execution_count": 7,
   "id": "07d624a3",
   "metadata": {},
   "outputs": [
    {
     "ename": "SyntaxError",
     "evalue": "EOF while scanning triple-quoted string literal (Temp/ipykernel_7572/2409538860.py, line 1)",
     "output_type": "error",
     "traceback": [
      "\u001b[1;36m  File \u001b[1;32m\"C:\\Users\\NAJONG~1\\AppData\\Local\\Temp/ipykernel_7572/2409538860.py\"\u001b[1;36m, line \u001b[1;32m1\u001b[0m\n\u001b[1;33m    \"\"\"\"\"\"\"\"\"\u001b[0m\n\u001b[1;37m             ^\u001b[0m\n\u001b[1;31mSyntaxError\u001b[0m\u001b[1;31m:\u001b[0m EOF while scanning triple-quoted string literal\n"
     ]
    }
   ],
   "source": [
    "\"\"\"\"\"\"\"\"\"\n",
    "내가 생각했던 방식은 노드가 최대 100,000개인 상태에서 이중 for 문을 돌기 때문에\n",
    "\n",
    "어떻게 해도 시간 복잡도 측면에서 효율적이지 않은 것 같다.\n",
    "\n",
    "다른 방법을 새롭게 떠올려보고자 한다.\n",
    "\"\"\"\"\"\"\"\"\""
   ]
  },
  {
   "cell_type": "code",
   "execution_count": 11,
   "id": "e457ef54",
   "metadata": {},
   "outputs": [
    {
     "name": "stdout",
     "output_type": "stream",
     "text": [
      "5\n",
      "11 -15 -15\n",
      "14 -5 -15\n",
      "-1 -1 -5\n",
      "10 -4 -1\n",
      "19 -4 19\n",
      "4\n"
     ]
    }
   ],
   "source": [
    "def find_parent(parent,x):\n",
    "    if parent[x] != x:\n",
    "        parent[x] = find_parent(parent, parent[x])\n",
    "    return parent[x]\n",
    "\n",
    "def union_parent(parent, a, b):\n",
    "    a = find_parent(parent, a)\n",
    "    b = find_parent(parent, b)\n",
    "    if a < b:\n",
    "        parent[b] = a\n",
    "    else:\n",
    "        parent[a] = b\n",
    "\n",
    "n = int(input())\n",
    "planet = []\n",
    "x_planet = []\n",
    "y_planet = []\n",
    "z_planet = []\n",
    "parent = [0] * (n+1)\n",
    "for i in range(1, n+1):\n",
    "    parent[i] = i\n",
    "    \n",
    "for i in range(1,n+1):\n",
    "    data = list(map(int, input().split()))\n",
    "    data.append(i)\n",
    "    planet.append(data)\n",
    "    x_planet.append((data[0],i))\n",
    "    y_planet.append((data[1],i))\n",
    "    z_planet.append((data[2],i))\n",
    "\n",
    "planets = [x_planet, y_planet, z_planet]\n",
    "edges = []\n",
    "for p in range(3):\n",
    "    planets[p].sort()\n",
    "    for i in range(n-1):\n",
    "        a = planets[p][i]\n",
    "        b = planets[p][i+1]\n",
    "        edges.append((b[0]-a[0], a[1], b[1]))\n",
    "edges.sort()\n",
    "result = 0\n",
    "for e in edges:\n",
    "    cost, a, b = e\n",
    "    if find_parent(parent, a) != find_parent(parent, b):\n",
    "        union_parent(parent, a, b)\n",
    "        result += cost\n",
    "print(result)"
   ]
  },
  {
   "cell_type": "markdown",
   "id": "5505861b",
   "metadata": {},
   "source": [
    "# 답안 작성 후 생각"
   ]
  },
  {
   "cell_type": "code",
   "execution_count": null,
   "id": "ce0122fc",
   "metadata": {},
   "outputs": [],
   "source": [
    "\"\"\"\"\"\"\"\"\"\"\n",
    "3차원 좌표를 가진 행성들 간의 거리를 비교하는 방법 자체가 깔끔한 것 같지는 않지만, \n",
    "\n",
    "그러한 아이디어를 나름대로 깔끔하게 구현은 한 것 같다.\n",
    "\n",
    "이중 for 문도 없고, 입력 예시에 대해 정답을 출력한다.\n",
    "\"\"\"\"\"\"\"\"\"\""
   ]
  },
  {
   "cell_type": "markdown",
   "id": "fdc29fbe",
   "metadata": {},
   "source": [
    "# 정답"
   ]
  },
  {
   "cell_type": "code",
   "execution_count": null,
   "id": "54535c5c",
   "metadata": {},
   "outputs": [],
   "source": [
    "def find_parent(parent, x):\n",
    "    if parent[x] != x:\n",
    "        parent[x] = find_parent(parent, parent[x])\n",
    "    return parent[x]\n",
    "\n",
    "def union_parent(parent, a, b):\n",
    "    a = find_parent(parent, a)\n",
    "    b = find_parent(parent, b)\n",
    "    if a < b:\n",
    "        parent[b] = a\n",
    "    else:\n",
    "        parent[a] = b\n",
    "        \n",
    "n = int(input())\n",
    "parent = [0] * (n+1)\n",
    "\n",
    "edges = []\n",
    "result = 0\n",
    "\n",
    "for i in range(1, n+1):\n",
    "    parent[i] = i\n",
    "    \n",
    "x = []\n",
    "y = []\n",
    "z = []\n",
    "\n",
    "for i in range(1, n+1):\n",
    "    data = list(map(int, input().split()))\n",
    "    x.append((data[0], i))\n",
    "    y.append((data[1], i))\n",
    "    z.append((data[2], i))\n",
    "    \n",
    "x.sort()\n",
    "y.sort()\n",
    "z.sort()\n",
    "\n",
    "for i in range(n-1):\n",
    "    edges.append((x[i+1][0] - x[i][0], x[i][1], x[i+1][1]))\n",
    "    edges.append((y[i+1][0] - y[i][0], y[i][1], y[i+1][1]))\n",
    "    edges.append((z[i+1][0] - z[i][0], z[i][1], z[i+1][1]))\n",
    "edges.sort()\n",
    "\n",
    "for edge in edges:\n",
    "    cost, a, b = edge\n",
    "    if find_parent(parent, a) != find_parent(parent, b):\n",
    "        union_parent(parent, a, b)\n",
    "        result += cost\n",
    "print(result)"
   ]
  },
  {
   "cell_type": "markdown",
   "id": "f8b4acc7",
   "metadata": {},
   "source": [
    "# 정답 확인 후 생각"
   ]
  },
  {
   "cell_type": "code",
   "execution_count": 12,
   "id": "6a2f4a3e",
   "metadata": {},
   "outputs": [
    {
     "ename": "SyntaxError",
     "evalue": "EOF while scanning triple-quoted string literal (Temp/ipykernel_7572/886353925.py, line 1)",
     "output_type": "error",
     "traceback": [
      "\u001b[1;36m  File \u001b[1;32m\"C:\\Users\\NAJONG~1\\AppData\\Local\\Temp/ipykernel_7572/886353925.py\"\u001b[1;36m, line \u001b[1;32m1\u001b[0m\n\u001b[1;33m    \"\"\"\"\"\"\"\"\"\"\u001b[0m\n\u001b[1;37m              ^\u001b[0m\n\u001b[1;31mSyntaxError\u001b[0m\u001b[1;31m:\u001b[0m EOF while scanning triple-quoted string literal\n"
     ]
    }
   ],
   "source": [
    "\"\"\"\"\"\"\"\"\"\"\n",
    "내 풀이에 확신을 가지지 못했었는데, 정답 풀이와 정확히 일치했다.\n",
    "\n",
    "차이점은, 내 풀이는 edges에 원소들을 추가할 때, for i in range(3)과 planets 리스트를 이용해 한 번에 원소들을 추가했지만\n",
    "\n",
    "답지의 풀이에서는 단일 루프 안에서 edges에 x,y,z 좌표별로 원소들을 추가했다는 점이다.\n",
    "\n",
    "이 부분은 답지가 더 깔끔한 것 같다.\n",
    "\"\"\"\"\"\"\"\"\"\""
   ]
  }
 ],
 "metadata": {
  "kernelspec": {
   "display_name": "pytorch",
   "language": "python",
   "name": "pt1.1"
  },
  "language_info": {
   "codemirror_mode": {
    "name": "ipython",
    "version": 3
   },
   "file_extension": ".py",
   "mimetype": "text/x-python",
   "name": "python",
   "nbconvert_exporter": "python",
   "pygments_lexer": "ipython3",
   "version": "3.9.7"
  }
 },
 "nbformat": 4,
 "nbformat_minor": 5
}
