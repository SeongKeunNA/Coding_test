{
 "cells": [
  {
   "cell_type": "markdown",
   "id": "8b6c89e9",
   "metadata": {},
   "source": [
    "# 코딩 전 생각"
   ]
  },
  {
   "cell_type": "code",
   "execution_count": null,
   "id": "094ca63c",
   "metadata": {},
   "outputs": [],
   "source": [
    "\"\"\"\"\"\"\"\"\"\"\n",
    "팀 간의 순위를 그래프 정보로 표현하고 바뀐 팀의 정보를 이용해 그래프를 갱신한다. 이후 위상 정렬을 이용해 문제를 해결한다.\n",
    "\n",
    "1. 그래프 리스트를 선언하고 작년 팀의 정보를 토대로 순위가 낮은 팀이 높은 팀 가리키도록 값을 초기화한다.\n",
    "\n",
    "2. 상대적인 등수가 바뀐 팀들의 그래프 정보를 뒤바꾼다.\n",
    "\n",
    "3. 위상정렬용 q(deque)를 선언하고 루프를 돌며 가장 순위가 높은 팀(indegree가 0인팀)을 q에 삽입한다.\n",
    "\n",
    "4. count = 0, answer = []으로 선언하고, q가 빌 때까지 반복하여: 만약 q에 두 개 이상의 노드가 있다면 CERRAIN = False로 바꾸고 break한다.\n",
    "그렇지 않다면 answer에 꺼낸 노드의 값을 넣고 꺼낸 노드와 연결된 노드의 indegree 값을 1뺀 후에 indegree가 1이라면 그 노드를 q에 넣는다.\n",
    "\n",
    "5. 만약 CERTAIN = False라면 '?'를, count < n이라면 'IMPOSSIBLE'를, 그렇지 않다면 answer 리스트의 값을 출력한다.\n",
    "\"\"\"\"\"\"\"\"\"\""
   ]
  },
  {
   "cell_type": "markdown",
   "id": "336277e0",
   "metadata": {},
   "source": [
    "# 내 답안"
   ]
  },
  {
   "cell_type": "code",
   "execution_count": 32,
   "id": "af90ebd3",
   "metadata": {},
   "outputs": [
    {
     "name": "stdout",
     "output_type": "stream",
     "text": [
      "1\n",
      "4\n",
      "1 2 3 4\n",
      "3\n",
      "1 2\n",
      "3 4\n",
      "2 3\n",
      "count: 0\n",
      "n: 4\n",
      "POSSIBLE: True\n",
      "count: 0\n",
      "n: 4\n",
      "POSSIBLE: True\n"
     ]
    }
   ],
   "source": [
    "from collections import deque\n",
    "for tc in range(int(input())):\n",
    "    n = int(input())\n",
    "    graph = [[0] * (n + 1) for _ in range(n + 1)]\n",
    "    data = list(map(int, input().split()))\n",
    "    for i in range(n):\n",
    "        for j in range(i+1, n):\n",
    "            graph[data[i]][data[j]] = 1\n",
    "    m = int(input())\n",
    "    for _ in range(m):\n",
    "        a, b = map(int, input().split())\n",
    "        if graph[a][b] == 1:\n",
    "            graph[a][b] = 0\n",
    "            graph[b][a] = 1\n",
    "        else:\n",
    "            graph[b][a] = 0\n",
    "            graph[a][b] = 1\n",
    "    indegree = [0] * (n + 1)\n",
    "    for i in range(1, n + 1):\n",
    "        indegree[i] = n - sum(graph[i]) - 1\n",
    "    q = deque()\n",
    "    for i in range(1, n + 1):\n",
    "        if indegree[i] == 0:\n",
    "            q.append(i)\n",
    "    CERTAIN = True\n",
    "    POSSIBLE = True\n",
    "    answer = []\n",
    "    count = 0\n",
    "    while q:\n",
    "        if len(q) >= 2:\n",
    "            CERTAIN = False\n",
    "            break\n",
    "        now = q.popleft()\n",
    "        answer.append(now)\n",
    "        for i in range(1, n + 1):\n",
    "            if graph[now][i] == 1:\n",
    "                indegree[i] -= 1\n",
    "                if indegree[i] == 0:\n",
    "                    q.append(i)\n",
    "        count += 1\n",
    "    if count < n:\n",
    "        POSSIBLE = False\n",
    "        \n",
    "    if CERTAIN == False:\n",
    "        print('?')\n",
    "    elif POSSIBLE == False:\n",
    "        print('IMPOSSIBLE')\n",
    "    else:\n",
    "        for a in answer:\n",
    "            print(a, end = ' ')"
   ]
  }
 ],
 "metadata": {
  "kernelspec": {
   "display_name": "Python 3 (ipykernel)",
   "language": "python",
   "name": "python3"
  },
  "language_info": {
   "codemirror_mode": {
    "name": "ipython",
    "version": 3
   },
   "file_extension": ".py",
   "mimetype": "text/x-python",
   "name": "python",
   "nbconvert_exporter": "python",
   "pygments_lexer": "ipython3",
   "version": "3.7.13"
  }
 },
 "nbformat": 4,
 "nbformat_minor": 5
}
