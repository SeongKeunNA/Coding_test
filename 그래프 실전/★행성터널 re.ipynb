{
 "cells": [
  {
   "cell_type": "markdown",
   "id": "92e20b80",
   "metadata": {},
   "source": [
    "# 코딩 전 생각"
   ]
  },
  {
   "cell_type": "code",
   "execution_count": null,
   "id": "50b71519",
   "metadata": {},
   "outputs": [],
   "source": [
    "\"\"\"\"\"\"\"\"\"\"\n",
    "1. 모든 행성의 번호와 x, y, z 좌표를 담은 리스트를\n",
    "x, y, z 좌표 별로 정렬한다.\n",
    "\n",
    "2. 해당 행성에서 가장 가까운 행성을 구하는 함수를 구현한다.\n",
    "\n",
    "3. 해당 행성에서 가장 가까우면서 루트 노드가 다른(아직 연결되지 않은) 행성을 찾아 서로 연결하고(union 연산), 비용을 더한다.\n",
    "\"\"\"\"\"\"\"\"\"\""
   ]
  },
  {
   "cell_type": "markdown",
   "id": "79cc3d14",
   "metadata": {},
   "source": [
    "# 내 답안"
   ]
  },
  {
   "cell_type": "code",
   "execution_count": 16,
   "id": "cd1f0400",
   "metadata": {},
   "outputs": [
    {
     "name": "stdout",
     "output_type": "stream",
     "text": [
      "5\n",
      "11 -15 -15\n",
      "14 -5 -15\n",
      "-1 -1 -5\n",
      "10 -4 -1\n",
      "19 -4 19\n",
      "d: 0 a: 1 b: 0\n",
      "parent: [0, 1, 2, 3, 4]\n",
      "d: 0 a: 4 b: 3\n",
      "parent: [0, 0, 2, 3, 4]\n",
      "d: 1 a: 0 b: 3\n",
      "parent: [0, 0, 2, 3, 3]\n",
      "d: 1 a: 3 b: 1\n",
      "parent: [0, 0, 2, 0, 3]\n",
      "d: 3 a: 1 b: 0\n",
      "parent: [0, 0, 2, 0, 3]\n",
      "d: 3 a: 2 b: 4\n",
      "parent: [0, 0, 2, 0, 3]\n",
      "d: 4 a: 3 b: 2\n",
      "parent: [0, 0, 0, 0, 0]\n",
      "d: 5 a: 4 b: 1\n",
      "parent: [0, 0, 0, 0, 0]\n",
      "d: 10 a: 1 b: 0\n",
      "parent: [0, 0, 0, 0, 0]\n",
      "d: 10 a: 2 b: 1\n",
      "parent: [0, 0, 0, 0, 0]\n",
      "d: 11 a: 3 b: 2\n",
      "parent: [0, 0, 0, 0, 0]\n",
      "d: 20 a: 4 b: 3\n",
      "parent: [0, 0, 0, 0, 0]\n",
      "4\n"
     ]
    }
   ],
   "source": [
    "def find_parent(parent, x):\n",
    "    if parent[x] != x:\n",
    "        parent[x] = find_parent(parent, parent[x])\n",
    "    return parent[x]\n",
    "\n",
    "def union_parent(parent, a, b):\n",
    "    a = find_parent(parent, a)\n",
    "    b = find_parent(parent, b)\n",
    "    if a < b:\n",
    "        parent[b] = a\n",
    "    else:\n",
    "        parent[a] = b\n",
    "\n",
    "n = int(input())\n",
    "parent = [0] * n\n",
    "for i in range(n):\n",
    "    parent[i] = i\n",
    "x = []\n",
    "y = []\n",
    "z = []\n",
    "for i in range(n):\n",
    "    data = list(map(int, input().split()))\n",
    "    x.append((data[0], i))\n",
    "    y.append((data[1], i))\n",
    "    z.append((data[2], i))\n",
    "x.sort()\n",
    "y.sort()\n",
    "z.sort()\n",
    "\n",
    "distance = []\n",
    "\n",
    "for i in range(n-1):\n",
    "    distance.append((abs(x[i+1][0] - x[i][0]), x[i+1][1], x[i][1]))\n",
    "    distance.append((abs(y[i+1][0] - y[i][0]), y[i+1][1], y[i][1]))\n",
    "    distance.append((abs(z[i+1][0] - z[i][0]), z[i+1][1], z[i][1]))\n",
    "distance.sort()\n",
    "answer=  0\n",
    "for dist in distance:\n",
    "    d, a, b = dist\n",
    "    if find_parent(parent, a) == find_parent(parent, b):\n",
    "        continue\n",
    "    union_parent(parent, a, b)\n",
    "    answer += d\n",
    "print(answer)"
   ]
  },
  {
   "cell_type": "code",
   "execution_count": 12,
   "id": "f4b83ba4",
   "metadata": {},
   "outputs": [
    {
     "name": "stdout",
     "output_type": "stream",
     "text": [
      "[(-1, 2), (10, 3), (11, 0), (14, 1), (19, 4)]\n",
      "[(-15, 0), (-5, 1), (-4, 3), (-4, 4), (-1, 2)]\n",
      "[(-15, 0), (-15, 1), (-5, 2), (-1, 3), (19, 4)]\n"
     ]
    }
   ],
   "source": [
    "print(x)\n",
    "print(y)\n",
    "print(z)"
   ]
  },
  {
   "cell_type": "code",
   "execution_count": 13,
   "id": "7f700974",
   "metadata": {},
   "outputs": [
    {
     "name": "stdout",
     "output_type": "stream",
     "text": [
      "[(0, 1, 0), (0, 4, 3), (1, 0, 3), (1, 3, 1), (3, 1, 0), (3, 2, 4), (4, 3, 2), (5, 4, 1), (10, 1, 0), (10, 2, 1), (11, 3, 2), (20, 4, 3)]\n"
     ]
    }
   ],
   "source": [
    "print(di`stance)"
   ]
  },
  {
   "cell_type": "markdown",
   "id": "897ad18b",
   "metadata": {},
   "source": [
    "# 답안 작성 후 생각"
   ]
  },
  {
   "cell_type": "code",
   "execution_count": null,
   "id": "a53ab8c6",
   "metadata": {},
   "outputs": [],
   "source": [
    "\"\"\"\"\"\"\"\"\"\"\n",
    "백준에서도 정답 판정을 받았지만 정확히 왜 이 풀이가 항상 최소 비용을 보장하는지는 아직 잘 모르겠다.\n",
    "\"\"\"\"\"\"\"\"\"\""
   ]
  },
  {
   "cell_type": "markdown",
   "id": "9455437a",
   "metadata": {},
   "source": [
    "# 정답"
   ]
  },
  {
   "cell_type": "code",
   "execution_count": null,
   "id": "ea2038b5",
   "metadata": {},
   "outputs": [],
   "source": [
    "def find_parent(parent, x):\n",
    "    if parent[x] != x:\n",
    "        parent[x] = find_parent(parent, parent[x])\n",
    "    return parent[x]\n",
    "\n",
    "def union_parent(parent, a, b):\n",
    "    a = find_parent(parent, a)\n",
    "    b = find_parent(parent, b)\n",
    "    if a < b:\n",
    "        parent[b] = a\n",
    "    else:\n",
    "        parent[a] = b\n",
    "\n",
    "n = int(input())\n",
    "parent = [0] * n\n",
    "edges = []\n",
    "result = 0\n",
    "for i in range(n):\n",
    "    parent[i] = i\n",
    "x = []\n",
    "y = []\n",
    "z = []\n",
    "for i in range(n):\n",
    "    data = list(map(int, input().split()))\n",
    "    x.append((data[0], i))\n",
    "    y.append((data[1], i))\n",
    "    z.append((data[2], i))\n",
    "x.sort()\n",
    "y.sort()\n",
    "z.sort()\n",
    "\n",
    "for i in range(n-1):\n",
    "    edges.append(((x[i+1][0] - x[i][0]), x[i+1][1], x[i][1]))\n",
    "    edges.append(((y[i+1][0] - y[i][0]), y[i+1][1], y[i][1]))\n",
    "    edges.append(((z[i+1][0] - z[i][0]), z[i+1][1], z[i][1]))\n",
    "edges.sort()\n",
    "for edge in distance:\n",
    "    cost, a, b = edge\n",
    "    if find_parent(parent, a) != find_parent(parent, b):\n",
    "        union_parent(parent, a, b)\n",
    "        result += cost\n",
    "print(result)"
   ]
  },
  {
   "cell_type": "markdown",
   "id": "e67ceb92",
   "metadata": {},
   "source": [
    "# 정답 확인 후 생각"
   ]
  },
  {
   "cell_type": "code",
   "execution_count": null,
   "id": "9150e448",
   "metadata": {},
   "outputs": [],
   "source": [
    "\"\"\"\"\"\"\"\"\"\"\n",
    "기본적으로 풀이 아이디어는 동일하다.\n",
    "\n",
    "답지에서는, n - 1개의 행성을 위치 순으로 정렬한다면 항상 최저의 비용으로 크루스칼 알고리즘을 만족할 수 있다고 설명한다.\n",
    "\n",
    "그림으로 보니 더욱 이해가 쉬웠다. \n",
    "\"\"\"\"\"\"\"\"\"\""
   ]
  }
 ],
 "metadata": {
  "kernelspec": {
   "display_name": "Python 3 (ipykernel)",
   "language": "python",
   "name": "python3"
  },
  "language_info": {
   "codemirror_mode": {
    "name": "ipython",
    "version": 3
   },
   "file_extension": ".py",
   "mimetype": "text/x-python",
   "name": "python",
   "nbconvert_exporter": "python",
   "pygments_lexer": "ipython3",
   "version": "3.7.13"
  }
 },
 "nbformat": 4,
 "nbformat_minor": 5
}
