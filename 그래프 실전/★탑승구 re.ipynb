{
 "cells": [
  {
   "cell_type": "markdown",
   "id": "999f1276",
   "metadata": {},
   "source": [
    "# 코딩 전 생각"
   ]
  },
  {
   "cell_type": "code",
   "execution_count": null,
   "id": "6d3f6327",
   "metadata": {},
   "outputs": [],
   "source": [
    "\"\"\"\"\"\"\"\"\"\"\n",
    "1번4 2번1 3번1\n",
    "4 1 \n",
    "\n",
    "1번2 2번2 3번3 4번3 5번4 6번4\n",
    "2 1 3 \n",
    "\n",
    "이런 식으로 가장 먼저 비행기를 가능한 뒤쪽(높은 번호)의 탑승구에 도킹하는 식으로 해결할 수 있다.\n",
    "\"\"\"\"\"\"\"\"\"\""
   ]
  },
  {
   "cell_type": "markdown",
   "id": "9b417aea",
   "metadata": {},
   "source": [
    "# 내 답안:완전탐색"
   ]
  },
  {
   "cell_type": "code",
   "execution_count": 17,
   "id": "a2e1ab38",
   "metadata": {},
   "outputs": [
    {
     "name": "stdout",
     "output_type": "stream",
     "text": [
      "6\n",
      "8\n",
      "2\n",
      "3\n",
      "5\n",
      "1\n",
      "3\n",
      "4\n",
      "4\n",
      "1\n"
     ]
    },
    {
     "data": {
      "text/plain": [
       "([1, 1, 1, 0, 1, 0], 4)"
      ]
     },
     "execution_count": 17,
     "metadata": {},
     "output_type": "execute_result"
    }
   ],
   "source": [
    "g = int(input())\n",
    "p = int(input())\n",
    "possible = [0] * (p + 1)\n",
    "for i in range(1, p + 1):\n",
    "    possible[i] = int(input())\n",
    "gate = [0] * (g + 1)\n",
    "def dock():\n",
    "    count = 0\n",
    "    for i in range(1, p + 1): \n",
    "        for j in range(possible[i], 0, -1): \n",
    "            if gate[j] == 0: \n",
    "                gate[j] = 1 \n",
    "                count += 1\n",
    "                break\n",
    "        \n",
    "        else:\n",
    "            return gate[1:], count\n",
    "dock()"
   ]
  },
  {
   "cell_type": "markdown",
   "id": "04013647",
   "metadata": {},
   "source": [
    "# 답안 작성 후 생각"
   ]
  },
  {
   "cell_type": "code",
   "execution_count": null,
   "id": "84ec1620",
   "metadata": {},
   "outputs": [],
   "source": [
    "\"\"\"\"\"\"\"\"\"\"\n",
    "순차 탐색 한다면, 비행기의 수 x 빈 탑승구만큼의 연산이 필요하다.\n",
    "\n",
    "이는 최악의 경우, 100,000 *(100,000 + 99,999 + 99,998 ... + 1) = 250002500000000으로 효율적이지 않다.\n",
    "\n",
    "위상 정렬의 방식을 이용해서 가능한 탑승구의 수(gi)가 가장 작은 비행기부터 착륙시킨다.\n",
    "\n",
    "예를 들어, 주어진 입력이 아래와 같을 경우 4번째 비행기까지 착륙이 가능하다.\n",
    "\n",
    "6\n",
    "8 \n",
    "2\n",
    "3\n",
    "5\n",
    "1 \n",
    "3\n",
    "4\n",
    "4\n",
    "1 \n",
    "\n",
    "1까지: 4, 8 -> 4번째 비행기가 1칸 (8은탈락, answer = 7)\n",
    "2까지: 1 -> 1번째 비행기가 2칸\n",
    "3까지: 2, 5 -> 2번째 비행기가 3칸 (5는탈락, answer = 4)\n",
    "4까지: 6, 7 -> 6번째비행기가 4칸(7는탈락, answer = 4)\n",
    "5까지: 3 -> 3번째비행기가 5칸\n",
    "6까지: -\n",
    "즉, [4, 1, 2, 6, 3]\n",
    "\"\"\"\"\"\"\"\"\"\""
   ]
  },
  {
   "cell_type": "markdown",
   "id": "a515f836",
   "metadata": {},
   "source": [
    "# 내 답안: 위상정렬"
   ]
  },
  {
   "cell_type": "code",
   "execution_count": 20,
   "id": "1250c001",
   "metadata": {},
   "outputs": [
    {
     "data": {
      "text/plain": [
       "[[], [], [], [], []]"
      ]
     },
     "execution_count": 20,
     "metadata": {},
     "output_type": "execute_result"
    }
   ],
   "source": [
    "possible = [[] for _ in range(g + 1)]\n",
    "possible"
   ]
  },
  {
   "cell_type": "code",
   "execution_count": 29,
   "id": "8c216352",
   "metadata": {},
   "outputs": [
    {
     "name": "stdout",
     "output_type": "stream",
     "text": [
      "4\n",
      "6\n",
      "2\n",
      "2\n",
      "3\n",
      "3\n",
      "4\n",
      "4\n"
     ]
    },
    {
     "data": {
      "text/plain": [
       "3"
      ]
     },
     "execution_count": 29,
     "metadata": {},
     "output_type": "execute_result"
    }
   ],
   "source": [
    "g = int(input())\n",
    "p = int(input())\n",
    "possible = [[] for _ in range(g + 1)] \n",
    "gate = [0] * (g + 1)\n",
    "for i in range(1, p + 1):\n",
    "    possible[int(input())].append(i)\n",
    "def dock():\n",
    "    total_cnt = 0\n",
    "    for i in range(1, g + 1):\n",
    "        cnt = 0\n",
    "        if len(possible[i]) >= 2:\n",
    "            possible[i].sort()\n",
    "        for j in range(len(possible[i])): # 23 #i = 1\n",
    "            if i - cnt <= 0:\n",
    "                continue\n",
    "            if gate[i - cnt] == 1:\n",
    "                return total_cnt\n",
    "            gate[i - cnt] = 1\n",
    "            cnt += 1\n",
    "            total_cnt += 1\n",
    "    return total_cnt\n",
    "dock()"
   ]
  },
  {
   "cell_type": "markdown",
   "id": "bff23c5c",
   "metadata": {},
   "source": [
    "# 정답 앞부분 확인 후 내 답안"
   ]
  },
  {
   "cell_type": "code",
   "execution_count": 44,
   "id": "3766d801",
   "metadata": {},
   "outputs": [
    {
     "name": "stdout",
     "output_type": "stream",
     "text": [
      "4\n",
      "3\n",
      "4\n",
      "1\n",
      "1\n",
      "2\n"
     ]
    }
   ],
   "source": [
    "def find_parent(parent, x):\n",
    "    if parent[x] != x:\n",
    "        parent[x] = find_parent(parent, parent[x])\n",
    "    return parent[x]\n",
    "\n",
    "def union_parent(parent, a, b):\n",
    "    a = find_parent(parent, a)\n",
    "    b = find_parent(parent, b)\n",
    "    if a < b:\n",
    "        parent[b] = a\n",
    "    else:\n",
    "        parent[a] = b\n",
    "g = int(input())\n",
    "p = int(input())\n",
    "parent = [0] * (g + 1)\n",
    "for i in range(1, g + 1):\n",
    "    parent[i] = i\n",
    "answer = 0\n",
    "possible = []\n",
    "for _ in range(p):\n",
    "    possible.append(int(input()))\n",
    "for p in possible:\n",
    "    root = parent[p] \n",
    "    if root != 0:\n",
    "        union_parent(parent,root, root - 1)\n",
    "        answer += 1\n",
    "    else:\n",
    "        print(answer)\n",
    "        break\n",
    "else:\n",
    "    print(answer)"
   ]
  },
  {
   "cell_type": "markdown",
   "id": "77aa71a9",
   "metadata": {},
   "source": [
    "# 정답"
   ]
  },
  {
   "cell_type": "code",
   "execution_count": null,
   "id": "a0c5d5d8",
   "metadata": {},
   "outputs": [],
   "source": [
    "def find_parent(parent, x):\n",
    "    if parent[x] != x:\n",
    "        parent[x] = find_parent(parent, parent[x])\n",
    "    return parent[x]\n",
    "\n",
    "def union_parent(parent, a, b):\n",
    "    a = find_parent(parent, a)\n",
    "    b = find_parent(parent, b)\n",
    "    if a < b:\n",
    "        parent[b] = a\n",
    "    else:\n",
    "        parent[a] = b\n",
    "g = int(input())\n",
    "p = int(input())\n",
    "parent = [0] * (g + 1)\n",
    "for i in range(1, g + 1):\n",
    "    parent[i] = i\n",
    "result = 0\n",
    "for _ in range(p):\n",
    "    data = find_parent(parent, int(input()))\n",
    "    if data == 0:\n",
    "        break\n",
    "    union_parent(parent, data, data - 1)\n",
    "    result += 1\n",
    "print(result)"
   ]
  },
  {
   "cell_type": "markdown",
   "id": "851639c2",
   "metadata": {},
   "source": [
    "# 정답 확인 후 생각"
   ]
  },
  {
   "cell_type": "code",
   "execution_count": null,
   "id": "1aa6fc90",
   "metadata": {},
   "outputs": [],
   "source": [
    "\"\"\"\"\"\"\"\"\"\"\n",
    "문제만 보고서는 서로소 집합 알고리즘을 떠올리기 어려운 난이도 있는 문제인 것 같다.\n",
    "\"\"\"\"\"\"\"\"\"\""
   ]
  }
 ],
 "metadata": {
  "kernelspec": {
   "display_name": "Python 3 (ipykernel)",
   "language": "python",
   "name": "python3"
  },
  "language_info": {
   "codemirror_mode": {
    "name": "ipython",
    "version": 3
   },
   "file_extension": ".py",
   "mimetype": "text/x-python",
   "name": "python",
   "nbconvert_exporter": "python",
   "pygments_lexer": "ipython3",
   "version": "3.7.13"
  }
 },
 "nbformat": 4,
 "nbformat_minor": 5
}
