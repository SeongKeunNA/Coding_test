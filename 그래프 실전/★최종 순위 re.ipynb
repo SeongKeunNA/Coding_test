{
 "cells": [
  {
   "cell_type": "markdown",
   "id": "fba0218b",
   "metadata": {},
   "source": [
    "# 코딩 전 생각"
   ]
  },
  {
   "cell_type": "code",
   "execution_count": 2,
   "id": "dcf1b12c",
   "metadata": {},
   "outputs": [
    {
     "data": {
      "text/plain": [
       "'\"\"\\n작년 1등 2등 3등 4등 \\n    3팀 4팀 2팀 1팀 \\n    1     1        \\n2,4\\n'"
      ]
     },
     "execution_count": 2,
     "metadata": {},
     "output_type": "execute_result"
    }
   ],
   "source": [
    "\"\"\"\"\"\"\"\"\"\"\"\n",
    "작년 1등 2등 3등 4등 \n",
    "    3팀 4팀 2팀 1팀 \n",
    "    1     1        \n",
    "2,4\n",
    "\n",
    "그림판으로 그리면서 문제를 이해해보니 저번에 풀었던 기억도 나고 해결방안이 쉽게 떠올랐다.\n",
    "\n",
    "바뀐 순위들을 갱신하고 위상정렬을 진행하며 큐에 원소가 두 개 이상 들어가면 정확한 순위를 알 수 없는 것이고,\n",
    "\n",
    "모든 노드를 처리하기 전에 큐가 비어버리면 일관성이 없는 것이다.\n",
    "\"\"\"\"\"\"\"\"\"\"\""
   ]
  },
  {
   "cell_type": "markdown",
   "id": "0a9d2add",
   "metadata": {},
   "source": [
    "# 내 답안"
   ]
  },
  {
   "cell_type": "code",
   "execution_count": 6,
   "id": "bad58613",
   "metadata": {
    "scrolled": true
   },
   "outputs": [
    {
     "name": "stdout",
     "output_type": "stream",
     "text": [
      "3\n",
      "5\n",
      "5 4 3 2 1\n",
      "2\n",
      "2 4\n",
      "3 4\n",
      "5 3 2 4 1 3\n",
      "2 3 1\n",
      "0\n",
      "2 3 1 4\n",
      "1 2 3 4\n",
      "3\n",
      "1 2\n",
      "3 4\n",
      "2 3\n",
      "IMPOSSIBLE\n"
     ]
    }
   ],
   "source": [
    "from collections import deque\n",
    "for tc in range(int(input())):\n",
    "    n = int(input())\n",
    "    last = list(map(int, input().split()))\n",
    "    graph = [[] for _ in range(n + 1)]\n",
    "    indegree = [0] * (n + 1)\n",
    "    for i in range(n):\n",
    "        bigger_than = last[i+1:]\n",
    "        graph[last[i]] = bigger_than\n",
    "        for j in bigger_than:\n",
    "            indegree[j] += 1\n",
    "    m = int(input())\n",
    "    change = []\n",
    "    for _ in range(m):\n",
    "        change.append(list(map(int, input().split())))\n",
    "    for c in change:\n",
    "        a, b = c\n",
    "        if b in graph[a]: # a가 b보다 순위가 높음\n",
    "            graph[a].remove(b)\n",
    "            graph[b].append(a)\n",
    "            indegree[b] -= 1\n",
    "            indegree[a] += 1\n",
    "        else:\n",
    "            graph[b].remove(a)\n",
    "            graph[a].append(b)\n",
    "            indegree[a] -= 1\n",
    "            indegree[b] += 1\n",
    "    q = deque()\n",
    "    for i in range(1, n+1):\n",
    "        if indegree[i] == 0:\n",
    "            q.append(i)\n",
    "    result = []\n",
    "    while q:\n",
    "        if len(q) >= 2:\n",
    "            print('?')\n",
    "        now = q.popleft()\n",
    "        result.append(now)\n",
    "        for i in graph[now]:\n",
    "            indegree[i] -= 1\n",
    "            if indegree[i] == 0:\n",
    "                q.append(i)\n",
    "    if len(result) < n:\n",
    "        print('IMPOSSIBLE')\n",
    "    else:\n",
    "        for r in result:\n",
    "            print(r, end = ' ')"
   ]
  },
  {
   "cell_type": "markdown",
   "id": "8a84019e",
   "metadata": {},
   "source": [
    "# 답안 작성 후 생각"
   ]
  },
  {
   "cell_type": "code",
   "execution_count": null,
   "id": "1dbeb9af",
   "metadata": {},
   "outputs": [],
   "source": [
    "\"\"\"\"\"\"\"\"\"\"\n",
    "이상 무\n",
    "\"\"\"\"\"\"\"\"\"\""
   ]
  },
  {
   "cell_type": "markdown",
   "id": "6a77a866",
   "metadata": {},
   "source": [
    "# 정답 확인 후 생각"
   ]
  },
  {
   "cell_type": "code",
   "execution_count": null,
   "id": "dc0e7cf6",
   "metadata": {},
   "outputs": [],
   "source": [
    "\"\"\"\"\"\"\"\"\"\"\n",
    "인접리스트가 아닌 인접행렬로 문제를 해결했다.\n",
    "\"\"\"\"\"\"\"\"\"\""
   ]
  }
 ],
 "metadata": {
  "kernelspec": {
   "display_name": "Python 3 (ipykernel)",
   "language": "python",
   "name": "python3"
  },
  "language_info": {
   "codemirror_mode": {
    "name": "ipython",
    "version": 3
   },
   "file_extension": ".py",
   "mimetype": "text/x-python",
   "name": "python",
   "nbconvert_exporter": "python",
   "pygments_lexer": "ipython3",
   "version": "3.7.13"
  }
 },
 "nbformat": 4,
 "nbformat_minor": 5
}
