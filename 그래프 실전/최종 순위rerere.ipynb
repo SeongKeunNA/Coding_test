{
 "cells": [
  {
   "cell_type": "code",
   "execution_count": 3,
   "id": "aec439ed",
   "metadata": {},
   "outputs": [
    {
     "ename": "IndentationError",
     "evalue": "expected an indented block (2660959113.py, line 49)",
     "output_type": "error",
     "traceback": [
      "\u001b[1;36m  File \u001b[1;32m\"C:\\Users\\najonggeun\\AppData\\Local\\Temp\\ipykernel_25636\\2660959113.py\"\u001b[1;36m, line \u001b[1;32m49\u001b[0m\n\u001b[1;33m    print(a, end = ' ')\u001b[0m\n\u001b[1;37m        ^\u001b[0m\n\u001b[1;31mIndentationError\u001b[0m\u001b[1;31m:\u001b[0m expected an indented block\n"
     ]
    }
   ],
   "source": [
    "from collections import deque\n",
    "from sys import stdin\n",
    "input = stdin.readline\n",
    "for tc in range(int(input())):\n",
    "    n = int(input())\n",
    "    t = list(map(int, input().split()))\n",
    "    indegree = [0] * (n + 1)\n",
    "    graph = [[] for _ in range(n+1)]\n",
    "    for i in range(n):\n",
    "        graph[t[i]] = t[i + 1:]\n",
    "        indegree[t[i]] = i\n",
    "    m = int(input())\n",
    "    for _ in range(m):\n",
    "        a, b = map(int, input().split())\n",
    "        if b in graph[a]:\n",
    "            graph[a].remove(b)\n",
    "            graph[b].append(a)\n",
    "            indegree[b] -= 1\n",
    "            indegree[a] += 1\n",
    "        else:\n",
    "            graph[b].remove(a)\n",
    "            graph[a].append(b)\n",
    "            indegree[a] -= 1\n",
    "            indegree[b] += 1\n",
    "            \n",
    "    q = deque([])\n",
    "    for i in range(1, n + 1):\n",
    "        if indegree[i] == 0:\n",
    "            q.append(i)\n",
    "    answer = []\n",
    "    ck = 0\n",
    "    while q:\n",
    "        if len(q) > 1:\n",
    "            ck = 1\n",
    "            break\n",
    "        now = q.popleft()\n",
    "        answer.append(now)\n",
    "        for i in graph[now]:\n",
    "            indegree[i] -= 1\n",
    "            if indegree[i] == 0:\n",
    "                q.append(i)\n",
    "                \n",
    "    if len(answer) < n:\n",
    "        print('IMPOSSIBLE')\n",
    "    elif ck == 1:\n",
    "        print('?')\n",
    "    else:\n",
    "        for a in answer:\n",
    "            print(a, end = ' ')"
   ]
  }
 ],
 "metadata": {
  "kernelspec": {
   "display_name": "Python 3 (ipykernel)",
   "language": "python",
   "name": "python3"
  },
  "language_info": {
   "codemirror_mode": {
    "name": "ipython",
    "version": 3
   },
   "file_extension": ".py",
   "mimetype": "text/x-python",
   "name": "python",
   "nbconvert_exporter": "python",
   "pygments_lexer": "ipython3",
   "version": "3.7.13"
  }
 },
 "nbformat": 4,
 "nbformat_minor": 5
}
