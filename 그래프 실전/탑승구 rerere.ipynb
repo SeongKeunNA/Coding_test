{
 "cells": [
  {
   "cell_type": "markdown",
   "id": "03b656a6",
   "metadata": {},
   "source": [
    "# 코딩 전 생각"
   ]
  },
  {
   "cell_type": "code",
   "execution_count": null,
   "id": "1bd7beb8",
   "metadata": {},
   "outputs": [],
   "source": [
    "\"\"\"\"\"\"\"\"\"\"\n",
    "union-find 연산으로 문제를 해결한다.\n",
    "\n",
    "우선 모든 탑승구의 parent 탑승구(노드)를 각자의 비행기 번호로 하고, 1번 비행기의 parent 탑승구만 0번 탑승구로 한다.\n",
    "\n",
    "이후 도착하는 비행기의 순서대로 (gi-1)의 parent 탑승구를 확인해 해당 비행기의 루트 노드로 삼고 count를 1 더한다.\n",
    "\n",
    "이때 해당 비행기의 루트 노드가 0이라면 더 이상 비행기를 도킹할 수 없다는 것이므로 카운트를 출력한다.\n",
    "\n",
    "\"\"\"\"\"\"\"\"\"\""
   ]
  },
  {
   "cell_type": "markdown",
   "id": "b72ec0f0",
   "metadata": {},
   "source": [
    "# 내 답안"
   ]
  },
  {
   "cell_type": "code",
   "execution_count": 10,
   "id": "364649d1",
   "metadata": {},
   "outputs": [
    {
     "name": "stdout",
     "output_type": "stream",
     "text": [
      "4\n",
      "6\n",
      "2\n",
      "2\n",
      "3\n",
      "3\n",
      "4\n",
      "4\n",
      "[0, 1, 2, 3, 4]\n",
      "[0, 1, 1, 3, 4]\n",
      "[0, 0, 1, 3, 4]\n",
      "[0, 0, 0, 0, 4]\n",
      "3\n"
     ]
    }
   ],
   "source": [
    "def find_parent(parent, x):\n",
    "    if parent[x] != x:\n",
    "        parent[x] = find_parent(parent, parent[x])\n",
    "    return parent[x]\n",
    "\n",
    "def union_parent(parent, a, b):\n",
    "    a = find_parent(parent, a)\n",
    "    b = find_parent(parent, b)\n",
    "    if a < b:\n",
    "        parent[b] = a\n",
    "    else:\n",
    "        parent[a] = b\n",
    "g = int(input())\n",
    "p = int(input())\n",
    "parent = [0] * (g + 1)\n",
    "for i in range(1, g + 1):\n",
    "    parent[i] = i\n",
    "gi = []\n",
    "for _ in range(p):\n",
    "    gi.append(int(input()))\n",
    "count = 0\n",
    "for i in gi:\n",
    "    if find_parent(parent, i) == 0:\n",
    "        print(count)\n",
    "        break\n",
    "    union_parent(parent, find_parent(parent, i), find_parent(parent, i) - 1)\n",
    "    count += 1"
   ]
  }
 ],
 "metadata": {
  "kernelspec": {
   "display_name": "Python 3 (ipykernel)",
   "language": "python",
   "name": "python3"
  },
  "language_info": {
   "codemirror_mode": {
    "name": "ipython",
    "version": 3
   },
   "file_extension": ".py",
   "mimetype": "text/x-python",
   "name": "python",
   "nbconvert_exporter": "python",
   "pygments_lexer": "ipython3",
   "version": "3.7.13"
  }
 },
 "nbformat": 4,
 "nbformat_minor": 5
}
