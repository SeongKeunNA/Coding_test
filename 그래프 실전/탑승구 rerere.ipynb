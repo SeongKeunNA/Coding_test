{
 "cells": [
  {
   "cell_type": "markdown",
   "id": "9242b402",
   "metadata": {},
   "source": [
    "# 코딩 전 생각"
   ]
  },
  {
   "cell_type": "code",
   "execution_count": null,
   "id": "e8baacba",
   "metadata": {},
   "outputs": [],
   "source": [
    "\"\"\"\"\"\"\"\"\"\"\n",
    "union-find 연산을 통해 효율적으로 해결할 수 있다.\n",
    "\n",
    "1. union_parent 연산과 find_parent 연산 정의\n",
    "\n",
    "2. 탑승구의 수 G + 1만큼의 원소를 갖는 parent 리스트를 선언하고 모든 노드의 부모 노드가 자기 자신을 가리키도록 함\n",
    "\n",
    "3. 비행기의 수인 P만큼 반복하여:\n",
    "    i번째 비행기의 도킹 탑승구 번호의 최댓값인 gi를 이용해 gi번째 노드의 부모 노드를 gi - 1번째 노드 - 1로 한다.\n",
    "    만약 이때 gi의 부모 노드가 0이라면 현재까지 카운트한 비행기의 개수를 출력한다.\n",
    "\"\"\"\"\"\"\"\"\"\""
   ]
  },
  {
   "cell_type": "markdown",
   "id": "74a4782c",
   "metadata": {},
   "source": [
    "# 내 답안"
   ]
  },
  {
   "cell_type": "code",
   "execution_count": 13,
   "id": "de3d2fea",
   "metadata": {},
   "outputs": [
    {
     "name": "stdout",
     "output_type": "stream",
     "text": [
      "4\n",
      "3\n",
      "4\n",
      "1\n",
      "1\n",
      "2\n"
     ]
    }
   ],
   "source": [
    "def find_parent(parent, x):\n",
    "    if parent[x] != x:\n",
    "        parent[x] = find_parent(parent, parent[x])\n",
    "    return parent[x]\n",
    "\n",
    "def union_parent(parent, a, b):\n",
    "    a = find_parent(parent, a)\n",
    "    b = find_parent(parent, b)\n",
    "    if a < b:\n",
    "        parent[b] = a\n",
    "    else:\n",
    "        parent[a] = b\n",
    "        \n",
    "g = int(input())\n",
    "p = int(input())\n",
    "parent = [0] * (g + 1)\n",
    "for i in range(g + 1):\n",
    "    parent[i] = i\n",
    "plane = []\n",
    "for _ in range(p):\n",
    "    plane.append(int(input()))\n",
    "\n",
    "count = 0\n",
    "for p in plane:\n",
    "    if parent[p] == 0:\n",
    "        break\n",
    "    union_parent(parent, parent[p], parent[p] - 1)\n",
    "    count += 1\n",
    "print(count)"
   ]
  }
 ],
 "metadata": {
  "kernelspec": {
   "display_name": "Python 3 (ipykernel)",
   "language": "python",
   "name": "python3"
  },
  "language_info": {
   "codemirror_mode": {
    "name": "ipython",
    "version": 3
   },
   "file_extension": ".py",
   "mimetype": "text/x-python",
   "name": "python",
   "nbconvert_exporter": "python",
   "pygments_lexer": "ipython3",
   "version": "3.7.13"
  }
 },
 "nbformat": 4,
 "nbformat_minor": 5
}
