{
 "cells": [
  {
   "cell_type": "markdown",
   "id": "60952782",
   "metadata": {},
   "source": [
    "# 코딩 전 생각"
   ]
  },
  {
   "cell_type": "code",
   "execution_count": null,
   "id": "efeaa3f2",
   "metadata": {},
   "outputs": [],
   "source": [
    "\"\"\"\"\"\"\"\"\"\"\n",
    "각 비행기의 도킹 가능 탑승구 정보를 입력받아 그래프를 작성한다.\n",
    "\n",
    "비행기의 번호와 비행기의 도킹 가능 탑승구 정보를 리스트로 묶고, 탑승구 번호가 작은 순대로 정렬한다.\n",
    "\n",
    "탑승구 번호가 작은 비행기부터 도킹을 실시한다.\n",
    "\n",
    "이 때 해당 탑승구i의 도킹 여부를 나타내는 docking 리스트의 i번째 값이 1이라면 다음 도킹 가능 탑승구로 넘어간다.\n",
    "\n",
    "도킹 가능한 탑승구를 찾았다면 해당 탑승구i의 도킹 여부를 나타내는 docking 리스트의 i번째 값을 1로 바꾼다.\n",
    "\n",
    "만약 어느 탑승구에도 도킹할 수 없다면 sum(docking)으로 도킹된 비행기의 최대개수를 출력한 뒤 break한다.\n",
    "\"\"\"\"\"\"\"\"\"\""
   ]
  },
  {
   "cell_type": "markdown",
   "id": "99ebc7a7",
   "metadata": {},
   "source": [
    "# 내 답안"
   ]
  },
  {
   "cell_type": "code",
   "execution_count": 3,
   "id": "b2d9288c",
   "metadata": {},
   "outputs": [
    {
     "name": "stdout",
     "output_type": "stream",
     "text": [
      "4\n",
      "6\n",
      "2\n",
      "2\n",
      "3\n",
      "3\n",
      "4\n",
      "4\n",
      "3\n",
      "3\n"
     ]
    }
   ],
   "source": [
    "g = int(input())\n",
    "p = int(input())\n",
    "data = []\n",
    "docking = [0] * (g+1)\n",
    "for i in range(1,p+1):\n",
    "    data.append((int(input()),i))\n",
    "data.sort()\n",
    "for i in data:\n",
    "    ck = 0\n",
    "    for j in range(1, i[0]+1):\n",
    "        if docking[j] == 1:\n",
    "            continue\n",
    "        docking[j] = 1\n",
    "        ck = 1\n",
    "        break\n",
    "    if ck == 0:\n",
    "        print(sum(docking))\n",
    "        break\n",
    "print(sum(docking))"
   ]
  },
  {
   "cell_type": "markdown",
   "id": "8f64b2db",
   "metadata": {},
   "source": [
    "# 답안 작성 후 생각"
   ]
  },
  {
   "cell_type": "code",
   "execution_count": 4,
   "id": "4ef35a85",
   "metadata": {},
   "outputs": [
    {
     "ename": "SyntaxError",
     "evalue": "EOF while scanning triple-quoted string literal (Temp/ipykernel_20568/886353925.py, line 1)",
     "output_type": "error",
     "traceback": [
      "\u001b[1;36m  File \u001b[1;32m\"C:\\Users\\NAJONG~1\\AppData\\Local\\Temp/ipykernel_20568/886353925.py\"\u001b[1;36m, line \u001b[1;32m1\u001b[0m\n\u001b[1;33m    \"\"\"\"\"\"\"\"\"\"\u001b[0m\n\u001b[1;37m              ^\u001b[0m\n\u001b[1;31mSyntaxError\u001b[0m\u001b[1;31m:\u001b[0m EOF while scanning triple-quoted string literal\n"
     ]
    }
   ],
   "source": [
    "\"\"\"\"\"\"\"\"\"\"\n",
    "답안을 작성하면서 생각이 바뀌었다.\n",
    "\n",
    "비행기의 순서대로 루프를 돌면서, 가능한 높은 번호의 탑승구에 도킹한다.\n",
    "\n",
    "이 때, 어느 탑승구에도 도킹할 수 없다면, sum(docking)을 출력하고 break한다.\n",
    "\"\"\"\"\"\"\"\"\"\""
   ]
  },
  {
   "cell_type": "code",
   "execution_count": 15,
   "id": "0dac456b",
   "metadata": {},
   "outputs": [
    {
     "name": "stdout",
     "output_type": "stream",
     "text": [
      "4\n",
      "3\n",
      "4\n",
      "1\n",
      "1\n",
      "2\n"
     ]
    }
   ],
   "source": [
    "g = int(input())\n",
    "p = int(input())\n",
    "docking = [0] * (g+1)\n",
    "data = []\n",
    "for _ in range(p):\n",
    "    data.append(int(input()))\n",
    "    \n",
    "for i in range(p):\n",
    "    for j in range(data[i], 0, -1):\n",
    "        if docking[j] == 0:\n",
    "            docking[j] = 1\n",
    "            break\n",
    "    else:\n",
    "        break\n",
    "print(sum(docking))"
   ]
  },
  {
   "cell_type": "markdown",
   "id": "8bcca67f",
   "metadata": {},
   "source": [
    "# 답안 작성 후 생각"
   ]
  },
  {
   "cell_type": "code",
   "execution_count": null,
   "id": "8b4fc946",
   "metadata": {},
   "outputs": [],
   "source": [
    "\"\"\"\"\"\"\"\"\"\"\n",
    "그래프 이론 중 하나를 이용해 문제를 푼 것은 아니지만 주어진 예제 2개에 대해서 정답을 출력하는 답안을 작성했다.\n",
    "\n",
    "다른 그래프 이론 문제들처럼 문제를 보자마자 어떤 유형을 적용시켜야하는 건지 떠오르는 문제는 아닌 것 같다.\n",
    "\"\"\"\"\"\"\"\"\"\""
   ]
  },
  {
   "cell_type": "markdown",
   "id": "c36c0e61",
   "metadata": {},
   "source": [
    "# 정답"
   ]
  },
  {
   "cell_type": "code",
   "execution_count": null,
   "id": "91c6b4b8",
   "metadata": {},
   "outputs": [],
   "source": [
    "def find_parent(parent, x):\n",
    "    if parent[x] != x:\n",
    "        parent[x] = find_parent(parent,parent[x])\n",
    "    return parent[x]\n",
    "\n",
    "def union_parent(parent, a, b):\n",
    "    a = find_parent(parent, a)\n",
    "    b = find_parent(parent, b)\n",
    "    if a < b:\n",
    "        parent[b] = a\n",
    "    else:\n",
    "        parent[a] = b\n",
    "g = int(input())\n",
    "p = int(input())\n",
    "parent = [0] * ( g+1)\n",
    "for i in range(1, g+1):\n",
    "    parent[i] = i\n",
    "result = 0\n",
    "\n",
    "for _ in range(p):\n",
    "    data = find_parent(parent, int(input()))\n",
    "    if data == 0:\n",
    "        break\n",
    "    union_parent(parent, data, data-1)\n",
    "    result +=1\n",
    "print(result)"
   ]
  },
  {
   "cell_type": "markdown",
   "id": "31998073",
   "metadata": {},
   "source": [
    "# 정답 확인 후 생각"
   ]
  },
  {
   "cell_type": "code",
   "execution_count": null,
   "id": "13753d50",
   "metadata": {},
   "outputs": [],
   "source": [
    "\"\"\"\"\"\"\"\"\"\"\n",
    "서로소 집합 알고리즘을 적용해 매 반복마다 해당 비행기의 가장 높은 번호의 탑승구의 루트 노드\n",
    "\n",
    "바로 아래 번호의 탑승구와 연결하여 푸는 문제였다.\n",
    "\n",
    "내 답안의 풀이 아이디어처럼 매 반복 시 가장 높은 번호의 탑승구를 찾는다는 점은 동일하지만,\n",
    "\n",
    "이를 이용해 가장 높은 번호의 루트 노드와 바로 왼쪽 노드를 유니언 연산하고 루트 노드가 0일 시 종료한다는 개념을\n",
    "\n",
    "떠올리기는 조금 어려울 것 같다.\n",
    "\"\"\"\"\"\"\"\"\"\""
   ]
  }
 ],
 "metadata": {
  "kernelspec": {
   "display_name": "pytorch",
   "language": "python",
   "name": "pt1.1"
  },
  "language_info": {
   "codemirror_mode": {
    "name": "ipython",
    "version": 3
   },
   "file_extension": ".py",
   "mimetype": "text/x-python",
   "name": "python",
   "nbconvert_exporter": "python",
   "pygments_lexer": "ipython3",
   "version": "3.9.7"
  }
 },
 "nbformat": 4,
 "nbformat_minor": 5
}
