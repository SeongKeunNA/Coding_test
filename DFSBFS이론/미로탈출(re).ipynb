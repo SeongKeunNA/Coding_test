{
 "cells": [
  {
   "cell_type": "markdown",
   "id": "b4687e8d",
   "metadata": {},
   "source": [
    "# 내 답안"
   ]
  },
  {
   "cell_type": "code",
   "execution_count": 70,
   "id": "0049d771",
   "metadata": {},
   "outputs": [
    {
     "name": "stdout",
     "output_type": "stream",
     "text": [
      "5 6\n",
      "101010\n",
      "111111\n",
      "000001\n",
      "111111\n",
      "111111\n"
     ]
    },
    {
     "data": {
      "text/plain": [
       "10"
      ]
     },
     "execution_count": 70,
     "metadata": {},
     "output_type": "execute_result"
    }
   ],
   "source": [
    "from collections import deque\n",
    "n, m = map(int,input().split())\n",
    "graph = []\n",
    "for i in range(n):\n",
    "    graph.append(list(int(a) for a in input()))\n",
    "distance = [[0 for _ in range (m)] for _ in range(n)]\n",
    "distance[0][0] = 1\n",
    "def bfs(graph, distance):\n",
    "    u = (-1, 0)\n",
    "    d = (1, 0)\n",
    "    l =  (0, -1)\n",
    "    r = (0, 1)\n",
    "    queue = deque([(0, 0)])\n",
    "    graph[0][0] = 0\n",
    "    while queue:\n",
    "        dx, dy = queue.popleft()   \n",
    "        for j in (u, d, l, r):\n",
    "            nx = dx + j[0]\n",
    "            ny = dy + j[1]\n",
    "            if nx < 0 or ny <0 or nx >= n or ny >= m or graph[nx][ny] == 0:\n",
    "                continue\n",
    "            graph[nx][ny] = 0\n",
    "            distance[nx][ny] = distance[dx][dy] + 1\n",
    "            queue.append((nx,ny))\n",
    "    return distance[n-1][m-1]\n",
    "bfs(graph,distance)"
   ]
  },
  {
   "cell_type": "code",
   "execution_count": null,
   "id": "44077aba",
   "metadata": {},
   "outputs": [],
   "source": [
    "\"\"\"\"\"\"\"\"\"\n",
    "처음에는 앞의 얼음 문제랑 비슷해보여서 DFS로 시작했으나 모르고 문제 해설 일부분에 queue라는 부분을 봐버려서 BFS로 바꾸어 생각했다.\n",
    "실전 문제 특정 거리의 도시 찾기와 비슷한 부분에서 막힌다.\n",
    "도착지점까지 이동은 하지만, 최솟값 도출이 어렵다.\n",
    "queue에서 pop할 때만 세도 중복이 생기기 때문에...\n",
    "\n",
    "\n",
    "그러다가...\n",
    "문제해설 앞 쪽 일부분을 보고 힌트를 얻어 distance라는 최솟값 행렬을 만들어 해결하였다.\n",
    "\n",
    "답안 예시를 보니, 따로 distance 행렬을 만들 필요는 없고 단순히 graph의 값을 전 값 + 1하면 된다.\n",
    "\"\"\"\"\"\"\"\"\""
   ]
  },
  {
   "cell_type": "markdown",
   "id": "3abcc273",
   "metadata": {},
   "source": [
    "# 정답"
   ]
  },
  {
   "cell_type": "code",
   "execution_count": 72,
   "id": "fe3643fb",
   "metadata": {},
   "outputs": [
    {
     "name": "stdout",
     "output_type": "stream",
     "text": [
      "5 6\n",
      "101010\n",
      "111111\n",
      "000001\n",
      "111111\n",
      "111111\n",
      "10\n"
     ]
    }
   ],
   "source": [
    "from collections import deque\n",
    "\n",
    "n, m = map(int,input().split())\n",
    "\n",
    "graph = []\n",
    "for i in range(n):\n",
    "    graph.append(list(map(int,input())))\n",
    "    \n",
    "dx = [-1, 1, 0, 0]\n",
    "dy = [0, 0, -1, 1]\n",
    "\n",
    "def bfs(x,y):\n",
    "    queue = deque()\n",
    "    queue.append((x,y))\n",
    "    \n",
    "    while queue:\n",
    "        x, y = queue.popleft()\n",
    "        for i in range(4):\n",
    "            nx = x + dx[i]\n",
    "            ny = y + dy[i]\n",
    "            \n",
    "            if nx < 0 or ny <0 or nx >= n or ny >= m:\n",
    "                continue\n",
    "            if graph [nx][ny] == 0:\n",
    "                continue\n",
    "            if graph[nx][ny] == 1:\n",
    "                graph[nx][ny] = graph[x][y] + 1\n",
    "                queue.append((nx, ny))\n",
    "    return graph[n-1][m-1]\n",
    "print(bfs(0, 0))"
   ]
  }
 ],
 "metadata": {
  "kernelspec": {
   "display_name": "pytorch",
   "language": "python",
   "name": "pt1.1"
  },
  "language_info": {
   "codemirror_mode": {
    "name": "ipython",
    "version": 3
   },
   "file_extension": ".py",
   "mimetype": "text/x-python",
   "name": "python",
   "nbconvert_exporter": "python",
   "pygments_lexer": "ipython3",
   "version": "3.9.7"
  }
 },
 "nbformat": 4,
 "nbformat_minor": 5
}
