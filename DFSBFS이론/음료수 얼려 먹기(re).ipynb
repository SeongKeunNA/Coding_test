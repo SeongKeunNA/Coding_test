{
 "cells": [
  {
   "cell_type": "code",
   "execution_count": 79,
   "id": "113c6ccc",
   "metadata": {
    "scrolled": false
   },
   "outputs": [
    {
     "name": "stdout",
     "output_type": "stream",
     "text": [
      "3 3\n",
      "001\n",
      "010\n",
      "101\n",
      "3\n"
     ]
    }
   ],
   "source": [
    "n, m = map(int, input().split())\n",
    "graph = []\n",
    "for i in range(n):\n",
    "    graph.append(list(int(a) for a in input()))\n",
    "visited = [[0] * m for _ in range(n)]\n",
    "cnt = 0\n",
    "def dfs(graph, v1, v2, ck=1):\n",
    "    global visited\n",
    "    global cnt\n",
    "    if  v1 < 0 or v1 >= n or v2 < 0 or v2 >= m or visited[v1][v2] == 1 or graph[v1][v2] == 1:\n",
    "        return \n",
    "    else:\n",
    "        visited[v1][v2] = 1\n",
    "        dfs(graph, v1-1, v2, 0)\n",
    "        dfs(graph, v1+1, v2, 0)\n",
    "        dfs(graph, v1, v2-1, 0)\n",
    "        dfs(graph, v1, v2+1, 0)\n",
    "    if ck == 1:\n",
    "        cnt += 1\n",
    "for i in range(n):\n",
    "    for j in range(m):\n",
    "        dfs(graph, i, j, 1)\n",
    "print(cnt)\n",
    "\n"
   ]
  },
  {
   "cell_type": "code",
   "execution_count": null,
   "id": "1319820f",
   "metadata": {},
   "outputs": [],
   "source": [
    "\"\"\"\"\"\"\"\"\"\n",
    "아이디어:\n",
    "\n",
    "1,1에서 출발해서 상/하/좌/우 확인해 방문처리하면서 1이거나 범위 초과, 0이어도 방문처리 시 pass, 0이면 재귀적으로 다시 이동\n",
    "하나의 재귀가 끝나면 answer+1\n",
    "모든 그래프의 얼음에 대해 반복하면서 만약 방문처리 됐거나 1이면 패스, 다른 얼음 찾으면 거기서부터 다시 dfs\n",
    "\n",
    "어려웠던 점:\n",
    "\n",
    "visited를 [[0] * m] * n으로 정의해서 다른 행의 원소들이 바뀜. [[0] * m for _ in range(n)] 으로 바꾸어 해결\n",
    "\n",
    "재귀함수로 구현 시 cnt 값이 한 번에 얼음의 갯수 만큼 올라감. 함수에 시작 위치를 체크하는 인수 넣어 해결\n",
    "\"\"\"\"\"\"\"\"\""
   ]
  }
 ],
 "metadata": {
  "kernelspec": {
   "display_name": "pytorch",
   "language": "python",
   "name": "pt1.1"
  },
  "language_info": {
   "codemirror_mode": {
    "name": "ipython",
    "version": 3
   },
   "file_extension": ".py",
   "mimetype": "text/x-python",
   "name": "python",
   "nbconvert_exporter": "python",
   "pygments_lexer": "ipython3",
   "version": "3.9.7"
  }
 },
 "nbformat": 4,
 "nbformat_minor": 5
}
