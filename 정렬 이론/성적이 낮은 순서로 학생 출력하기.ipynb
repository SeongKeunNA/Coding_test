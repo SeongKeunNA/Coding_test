{
 "cells": [
  {
   "cell_type": "code",
   "execution_count": 22,
   "id": "4d313795",
   "metadata": {},
   "outputs": [
    {
     "name": "stdout",
     "output_type": "stream",
     "text": [
      "2\n",
      "홍길동 95\n",
      "이순신 77\n",
      "이순신 홍길동 "
     ]
    }
   ],
   "source": [
    "n=int(input())\n",
    "grade=[]\n",
    "\n",
    "for i in range(n):\n",
    "    name,score= input().split() \n",
    "    grade.append([name, int(score)])\n",
    "\n",
    "result=sorted(grade,key=lambda x:x[1])\n",
    "for i in range(n):\n",
    "    print(result[i][0], end=' ')"
   ]
  }
 ],
 "metadata": {
  "kernelspec": {
   "display_name": "Python 3",
   "language": "python",
   "name": "python3"
  },
  "language_info": {
   "codemirror_mode": {
    "name": "ipython",
    "version": 3
   },
   "file_extension": ".py",
   "mimetype": "text/x-python",
   "name": "python",
   "nbconvert_exporter": "python",
   "pygments_lexer": "ipython3",
   "version": "3.8.8"
  }
 },
 "nbformat": 4,
 "nbformat_minor": 5
}
