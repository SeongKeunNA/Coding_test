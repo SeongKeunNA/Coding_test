{
 "cells": [
  {
   "cell_type": "code",
   "execution_count": 13,
   "id": "dfe738fc",
   "metadata": {},
   "outputs": [
    {
     "name": "stdout",
     "output_type": "stream",
     "text": [
      "2\n",
      "홍길동 95\n",
      "이순신 77\n",
      "이순신 홍길동 "
     ]
    }
   ],
   "source": [
    "n = int(input())\n",
    "data = {}\n",
    "for i in range(n):\n",
    "    input_data = list(input().split())\n",
    "    data[input_data[0]] = input_data[1] \n",
    "data = sorted(data.items(), key = lambda x: x[1])\n",
    "for i in data:\n",
    "    print(i[0], end = ' ')\n"
   ]
  }
 ],
 "metadata": {
  "kernelspec": {
   "display_name": "pytorch",
   "language": "python",
   "name": "pt1.1"
  },
  "language_info": {
   "codemirror_mode": {
    "name": "ipython",
    "version": 3
   },
   "file_extension": ".py",
   "mimetype": "text/x-python",
   "name": "python",
   "nbconvert_exporter": "python",
   "pygments_lexer": "ipython3",
   "version": "3.9.7"
  }
 },
 "nbformat": 4,
 "nbformat_minor": 5
}
