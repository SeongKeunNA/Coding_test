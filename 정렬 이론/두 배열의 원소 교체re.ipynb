{
 "cells": [
  {
   "cell_type": "code",
   "execution_count": 12,
   "id": "f4b48f2e",
   "metadata": {},
   "outputs": [
    {
     "name": "stdout",
     "output_type": "stream",
     "text": [
      "5 3\n",
      "1 2 3 4 5\n",
      "5 5 5 6 6\n",
      "26\n"
     ]
    }
   ],
   "source": [
    "n, k = map(int, input().split())\n",
    "A = list(map(int, input().split()))\n",
    "B = list(map(int, input().split()))\n",
    "\n",
    "a = [0] * max(A)\n",
    "ar = []\n",
    "for i in range(n):\n",
    "    a[A[i]-1] += 1\n",
    "for i in range(max(A)):\n",
    "    for j in range(a[i]):\n",
    "         ar.append(i+1)\n",
    "            \n",
    "b = [0] * max(B)\n",
    "br = []\n",
    "for i in range(n):\n",
    "    b[B[i]-1] += 1\n",
    "for i in range(max(B)):\n",
    "    for j in range(b[i]):\n",
    "         br.append(i+1)\n",
    "for i in range(k):\n",
    "    if ar[i] < br[n-i-1]:\n",
    "        ar[i], br[n-i-1] = br[n-i-1], ar[i]\n",
    "    else:\n",
    "        break\n",
    "\n",
    "answer = 0        \n",
    "print(sum(ar))"
   ]
  }
 ],
 "metadata": {
  "kernelspec": {
   "display_name": "pytorch",
   "language": "python",
   "name": "pt1.1"
  },
  "language_info": {
   "codemirror_mode": {
    "name": "ipython",
    "version": 3
   },
   "file_extension": ".py",
   "mimetype": "text/x-python",
   "name": "python",
   "nbconvert_exporter": "python",
   "pygments_lexer": "ipython3",
   "version": "3.9.7"
  }
 },
 "nbformat": 4,
 "nbformat_minor": 5
}
