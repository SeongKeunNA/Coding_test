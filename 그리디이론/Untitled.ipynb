{
 "cells": [
  {
   "cell_type": "code",
   "execution_count": 45,
   "id": "d0d08418",
   "metadata": {},
   "outputs": [
    {
     "ename": "SyntaxError",
     "evalue": "invalid syntax (<ipython-input-45-5a388bdd8c82>, line 11)",
     "output_type": "error",
     "traceback": [
      "\u001b[1;36m  File \u001b[1;32m\"<ipython-input-45-5a388bdd8c82>\"\u001b[1;36m, line \u001b[1;32m11\u001b[0m\n\u001b[1;33m    reserve.del(j)\u001b[0m\n\u001b[1;37m            ^\u001b[0m\n\u001b[1;31mSyntaxError\u001b[0m\u001b[1;31m:\u001b[0m invalid syntax\n"
     ]
    }
   ],
   "source": [
    "def solution(n, lost, reserve):\n",
    "    answer=n-len(lost)\n",
    "    for i in lost[:]:\n",
    "        if i in reserve:\n",
    "            reserve.remove(i)\n",
    "            lost.remove(i)\n",
    "    for i in lost:\n",
    "        j=0\n",
    "        while j<len(reserve):\n",
    "            if i-1==reserve[j]:\n",
    "                reserve.del(j)\n",
    "                answer+=1\n",
    "                continue\n",
    "            elif i+1==reserve[j]:\n",
    "                reserve.del(j)\n",
    "                answer+=1\n",
    "                continue\n",
    "            else:\n",
    "                j+=1\n",
    "    return answer               "
   ]
  },
  {
   "cell_type": "code",
   "execution_count": 46,
   "id": "9d64b303",
   "metadata": {},
   "outputs": [
    {
     "ename": "ValueError",
     "evalue": "list.remove(x): x not in list",
     "output_type": "error",
     "traceback": [
      "\u001b[1;31m---------------------------------------------------------------------------\u001b[0m",
      "\u001b[1;31mValueError\u001b[0m                                Traceback (most recent call last)",
      "\u001b[1;32m<ipython-input-46-a636aee86afd>\u001b[0m in \u001b[0;36m<module>\u001b[1;34m\u001b[0m\n\u001b[1;32m----> 1\u001b[1;33m \u001b[0msolution\u001b[0m\u001b[1;33m(\u001b[0m\u001b[1;36m5\u001b[0m\u001b[1;33m,\u001b[0m\u001b[1;33m[\u001b[0m\u001b[1;36m2\u001b[0m\u001b[1;33m,\u001b[0m\u001b[1;36m4\u001b[0m\u001b[1;33m]\u001b[0m\u001b[1;33m,\u001b[0m\u001b[1;33m[\u001b[0m\u001b[1;36m1\u001b[0m\u001b[1;33m,\u001b[0m\u001b[1;36m3\u001b[0m\u001b[1;33m,\u001b[0m\u001b[1;36m5\u001b[0m\u001b[1;33m]\u001b[0m\u001b[1;33m)\u001b[0m\u001b[1;33m\u001b[0m\u001b[1;33m\u001b[0m\u001b[0m\n\u001b[0m",
      "\u001b[1;32m<ipython-input-42-9d8392402213>\u001b[0m in \u001b[0;36msolution\u001b[1;34m(n, lost, reserve)\u001b[0m\n\u001b[0;32m      8\u001b[0m             \u001b[1;32mif\u001b[0m \u001b[0mi\u001b[0m\u001b[1;33m-\u001b[0m\u001b[1;36m1\u001b[0m\u001b[1;33m==\u001b[0m\u001b[0mj\u001b[0m\u001b[1;33m:\u001b[0m\u001b[1;33m\u001b[0m\u001b[1;33m\u001b[0m\u001b[0m\n\u001b[0;32m      9\u001b[0m                 \u001b[0mreserve\u001b[0m\u001b[1;33m.\u001b[0m\u001b[0mremove\u001b[0m\u001b[1;33m(\u001b[0m\u001b[0mj\u001b[0m\u001b[1;33m)\u001b[0m\u001b[1;33m\u001b[0m\u001b[1;33m\u001b[0m\u001b[0m\n\u001b[1;32m---> 10\u001b[1;33m                 \u001b[0mlost\u001b[0m\u001b[1;33m.\u001b[0m\u001b[0mremove\u001b[0m\u001b[1;33m(\u001b[0m\u001b[0mi\u001b[0m\u001b[1;33m-\u001b[0m\u001b[1;36m1\u001b[0m\u001b[1;33m)\u001b[0m\u001b[1;33m\u001b[0m\u001b[1;33m\u001b[0m\u001b[0m\n\u001b[0m\u001b[0;32m     11\u001b[0m                 \u001b[0manswer\u001b[0m\u001b[1;33m+=\u001b[0m\u001b[1;36m1\u001b[0m\u001b[1;33m\u001b[0m\u001b[1;33m\u001b[0m\u001b[0m\n\u001b[0;32m     12\u001b[0m             \u001b[1;32melif\u001b[0m \u001b[0mi\u001b[0m\u001b[1;33m+\u001b[0m\u001b[1;36m1\u001b[0m\u001b[1;33m==\u001b[0m\u001b[0mj\u001b[0m\u001b[1;33m:\u001b[0m\u001b[1;33m\u001b[0m\u001b[1;33m\u001b[0m\u001b[0m\n",
      "\u001b[1;31mValueError\u001b[0m: list.remove(x): x not in list"
     ]
    }
   ],
   "source": [
    "solution(5,[2,4],[1,3,5])"
   ]
  },
  {
   "cell_type": "code",
   "execution_count": 47,
   "id": "a490ebb3",
   "metadata": {},
   "outputs": [],
   "source": [
    "def solution(n, lost, reserve):\n",
    "    answer=n-len(lost)\n",
    "    for i in lost:\n",
    "        if i in reserve:\n",
    "            reserve.remove(i)"
   ]
  },
  {
   "cell_type": "code",
   "execution_count": 48,
   "id": "d2235219",
   "metadata": {},
   "outputs": [],
   "source": [
    "solution(5,[2,4],[1,2,5])"
   ]
  },
  {
   "cell_type": "code",
   "execution_count": 49,
   "id": "e15da138",
   "metadata": {},
   "outputs": [],
   "source": [
    "def solution(n, lost, reserve):\n",
    "    #여벌 체육복을 가진 학생 중 도난 당한 학생을 제외한다.\n",
    "    lost.sort()\n",
    "    reserve.sort()\n",
    "    for i in reserve:\n",
    "        if i in lost:\n",
    "            reserve.remove(i)\n",
    "            lost.remove(i)\n",
    "    #여벌을 갖고 있는 학생 중 도난 당한 학생의 앞, 뒤 번호를 찾아 빌려줄 수 있는 경우를 찾는다.\n",
    "    for i in reserve[:]:  #<-------------------------\n",
    "        for j in lost[:]:  #<-------------------------\n",
    "            if i - 1 == j or i + 1 == j: #여벌 학생의 앞, 뒤 번호 중 도난 학생을 찾는다.\n",
    "                lost.remove(j)\n",
    "    answer = n - len(lost)\n",
    "    return answer"
   ]
  },
  {
   "cell_type": "code",
   "execution_count": 50,
   "id": "6331c737",
   "metadata": {},
   "outputs": [
    {
     "data": {
      "text/plain": [
       "5"
      ]
     },
     "execution_count": 50,
     "metadata": {},
     "output_type": "execute_result"
    }
   ],
   "source": [
    "solution(5,[2,4],[1,3,5])"
   ]
  },
  {
   "cell_type": "code",
   "execution_count": null,
   "id": "205706ec",
   "metadata": {},
   "outputs": [],
   "source": [
    "def solution(n, lost, reserve):\n",
    "    for i in lost[:]:\n",
    "        if i in reserve:\n",
    "            reserve.remove(i)\n",
    "            lost.remove(i)\n",
    "    for i in lost[:]:\n",
    "        for j in reserve[:]:\n",
    "            if i - 1 == j or i + 1 == j:\n",
    "                lost.remove(i)\n",
    "    answer = n - len(lost)\n",
    "    return answer"
   ]
  },
  {
   "cell_type": "code",
   "execution_count": null,
   "id": "b8af2f52",
   "metadata": {},
   "outputs": [],
   "source": []
  }
 ],
 "metadata": {
  "kernelspec": {
   "display_name": "Python 3",
   "language": "python",
   "name": "python3"
  },
  "language_info": {
   "codemirror_mode": {
    "name": "ipython",
    "version": 3
   },
   "file_extension": ".py",
   "mimetype": "text/x-python",
   "name": "python",
   "nbconvert_exporter": "python",
   "pygments_lexer": "ipython3",
   "version": "3.8.8"
  }
 },
 "nbformat": 4,
 "nbformat_minor": 5
}
