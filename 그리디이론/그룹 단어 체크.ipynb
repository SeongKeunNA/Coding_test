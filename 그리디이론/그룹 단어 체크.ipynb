{
 "cells": [
  {
   "cell_type": "code",
   "execution_count": 18,
   "id": "d2b67d20",
   "metadata": {},
   "outputs": [
    {
     "name": "stdout",
     "output_type": "stream",
     "text": [
      "단어의 개수를 입력하세요.: 3\n",
      "1번째 단어를 입력하세요. :abccc\n",
      "2번째 단어를 입력하세요. :avddd\n",
      "3번째 단어를 입력하세요. :avdbsa\n",
      "그룹 단어의 개수는 2개입니다.\n"
     ]
    }
   ],
   "source": [
    "def sol(s):\n",
    "    n=len(s)\n",
    "    ck=[]\n",
    "    ck.append(s[0])\n",
    "    for i in range(n-1):\n",
    "        if s[i]!=s[i+1]:\n",
    "            if s[i+1] not in ck:\n",
    "                ck.append(s[i+1])\n",
    "            else:\n",
    "                return 0\n",
    "                break\n",
    "    return 1\n",
    "\n",
    "\n",
    "N=int(input('단어의 개수를 입력하세요.: '))\n",
    "word=[]\n",
    "word=[0]*N\n",
    "for i in range(N):\n",
    "    word[i]=str(input(f'{i+1}번째 단어를 입력하세요. :'))\n",
    "\n",
    "gr_ck=[]    \n",
    "for i in word:\n",
    "    gr_ck.append(sol(i))\n",
    "print(f'그룹 단어의 개수는 {sum(gr_ck)}개입니다.')\n",
    "    \n",
    "\n",
    "    \n",
    "      \n",
    "\n",
    "                \n",
    "                \n",
    "        \n",
    "    \n",
    "    "
   ]
  },
  {
   "cell_type": "code",
   "execution_count": 17,
   "id": "965e3be0",
   "metadata": {},
   "outputs": [
    {
     "data": {
      "text/plain": [
       "0"
      ]
     },
     "execution_count": 17,
     "metadata": {},
     "output_type": "execute_result"
    }
   ],
   "source": [
    "def sol(s):\n",
    "    n=len(s)\n",
    "    ck=[]\n",
    "    ck.append(s[0])\n",
    "    for i in range(n-1):\n",
    "        if s[i]!=s[i+1]:\n",
    "            if s[i+1] not in ck:\n",
    "                ck.append(s[i+1])\n",
    "            else:\n",
    "                return 0\n",
    "                break\n",
    "    return 1\n",
    "\n",
    "\n"
   ]
  }
 ],
 "metadata": {
  "kernelspec": {
   "display_name": "Python 3",
   "language": "python",
   "name": "python3"
  },
  "language_info": {
   "codemirror_mode": {
    "name": "ipython",
    "version": 3
   },
   "file_extension": ".py",
   "mimetype": "text/x-python",
   "name": "python",
   "nbconvert_exporter": "python",
   "pygments_lexer": "ipython3",
   "version": "3.8.8"
  }
 },
 "nbformat": 4,
 "nbformat_minor": 5
}
