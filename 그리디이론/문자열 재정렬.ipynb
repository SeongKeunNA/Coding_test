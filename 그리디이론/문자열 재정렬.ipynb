{
 "cells": [
  {
   "cell_type": "code",
   "execution_count": 33,
   "id": "f36f5676",
   "metadata": {},
   "outputs": [
    {
     "name": "stdout",
     "output_type": "stream",
     "text": [
      "문자열입력: AJKDLSI412K4JSJ9D\n",
      "ADDIJJJKKLSS20\n"
     ]
    }
   ],
   "source": [
    "S=input('문자열입력: ') #1<=len(S)<=10000\n",
    "s=[]\n",
    "n=[]\n",
    "for i in range(len(S)):\n",
    "    try:\n",
    "        n.append(int(S[i]))\n",
    "\n",
    "    except ValueError:\n",
    "        s.append(S[i])\n",
    "        \n",
    "    \n",
    "s=sorted(s)\n",
    "val=0\n",
    "for i in n:\n",
    "    val+=i\n",
    "s.append(val)\n",
    "print(*s,sep='')"
   ]
  }
 ],
 "metadata": {
  "kernelspec": {
   "display_name": "Python 3",
   "language": "python",
   "name": "python3"
  },
  "language_info": {
   "codemirror_mode": {
    "name": "ipython",
    "version": 3
   },
   "file_extension": ".py",
   "mimetype": "text/x-python",
   "name": "python",
   "nbconvert_exporter": "python",
   "pygments_lexer": "ipython3",
   "version": "3.8.8"
  }
 },
 "nbformat": 4,
 "nbformat_minor": 5
}
