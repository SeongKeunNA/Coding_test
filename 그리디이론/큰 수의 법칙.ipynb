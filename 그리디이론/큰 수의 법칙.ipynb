{
 "cells": [
  {
   "cell_type": "markdown",
   "id": "ce49d1ca",
   "metadata": {},
   "source": [
    "# 코딩 전 생각"
   ]
  },
  {
   "cell_type": "code",
   "execution_count": 1,
   "id": "ac9cec71",
   "metadata": {},
   "outputs": [
    {
     "data": {
      "text/plain": [
       "''"
      ]
     },
     "execution_count": 1,
     "metadata": {},
     "output_type": "execute_result"
    }
   ],
   "source": [
    "\"\"\"\"\"\"\"\"\"\"\n",
    "1. 배열을 정렬\n",
    "\n",
    "2. 배열의 최댓값과 두 번째로 큰 값만 고른다 (a, b)\n",
    "\n",
    "3. k가 1: a+b+a+b..\n",
    "   k가 2: a+a+b+a+a+b+...\n",
    "   k가 3: a+a+a+b+a+a+a+b+...\n",
    "   \n",
    "   즉, 반복하여 (a * k + b)를 더한다. 최종 식은 {m // (k+1) * (a * k + b)} + (m % k+1) * a}이다.\n",
    "    \n",
    "\"\"\"\"\"\"\"\"\"\""
   ]
  },
  {
   "cell_type": "markdown",
   "id": "5677bcb1",
   "metadata": {},
   "source": [
    "# 내 답안"
   ]
  },
  {
   "cell_type": "code",
   "execution_count": 1,
   "id": "615f9e0f",
   "metadata": {},
   "outputs": [
    {
     "name": "stdout",
     "output_type": "stream",
     "text": [
      "5 8 3\n",
      "2 4 5 4 6\n",
      "46\n"
     ]
    }
   ],
   "source": [
    "n, m, k = map(int, input().split())\n",
    "array = list(map(int, input().split()))\n",
    "array.sort()\n",
    "a = array[-1]\n",
    "b = array[-2]\n",
    "print((m // (k + 1) * (a * k + b)) + (m % (k + 1) * a))"
   ]
  },
  {
   "cell_type": "markdown",
   "id": "4a76acf4",
   "metadata": {},
   "source": [
    "# 답안 작성 후 생각"
   ]
  },
  {
   "cell_type": "code",
   "execution_count": null,
   "id": "61051452",
   "metadata": {},
   "outputs": [],
   "source": [
    "\"\"\"\"\"\"\"\"\"\"\n",
    "이상 무\n",
    "\"\"\"\"\"\"\"\"\"\""
   ]
  },
  {
   "cell_type": "markdown",
   "id": "4c9b1547",
   "metadata": {},
   "source": [
    "# 정답"
   ]
  },
  {
   "cell_type": "code",
   "execution_count": null,
   "id": "422a2acb",
   "metadata": {},
   "outputs": [],
   "source": [
    "n, m, k = map(int, input().split())\n",
    "data = list(map(int, input().split()))\n",
    "data.sort()\n",
    "a = data[n - 1]\n",
    "b = data[n - 2]\n",
    "result = 0\n",
    "while True:\n",
    "    for i in range(k):\n",
    "        if m == 0:\n",
    "            break\n",
    "        result += first\n",
    "        m -= 1\n",
    "    if m == 0:\n",
    "        break\n",
    "    result += second\n",
    "    m -= 1\n",
    "print(result)"
   ]
  },
  {
   "cell_type": "markdown",
   "id": "1b957e44",
   "metadata": {},
   "source": [
    "# 두번 째 답안"
   ]
  },
  {
   "cell_type": "code",
   "execution_count": null,
   "id": "a0045eee",
   "metadata": {},
   "outputs": [],
   "source": [
    "n, m, k = map(int, input().split())\n",
    "data = list(map(int, input().split()))\n",
    "data.sort()\n",
    "a = data[n - 1]\n",
    "b = data[n - 2]\n",
    "\n",
    "count = int(m / (k + 1)) * k\n",
    "count += m % ( k + 1)\n",
    "result = 0\n",
    "result += (count) * a\n",
    "result += (m - count) * second\n",
    "\n",
    "print(result)"
   ]
  },
  {
   "cell_type": "markdown",
   "id": "78e3987a",
   "metadata": {},
   "source": [
    "# 정답 확인 후 생각"
   ]
  },
  {
   "cell_type": "code",
   "execution_count": null,
   "id": "4da92b4d",
   "metadata": {},
   "outputs": [],
   "source": [
    "\"\"\"\"\"\"\"\"\"\"\n",
    "소스코드의 가독성을 위해 장황하게 식을 작성하지 않고 반복문이나 더하는 횟수를 나누어 작성했다.\n",
    "\"\"\"\"\"\"\"\"\"\""
   ]
  }
 ],
 "metadata": {
  "kernelspec": {
   "display_name": "Python 3 (ipykernel)",
   "language": "python",
   "name": "python3"
  },
  "language_info": {
   "codemirror_mode": {
    "name": "ipython",
    "version": 3
   },
   "file_extension": ".py",
   "mimetype": "text/x-python",
   "name": "python",
   "nbconvert_exporter": "python",
   "pygments_lexer": "ipython3",
   "version": "3.7.13"
  }
 },
 "nbformat": 4,
 "nbformat_minor": 5
}
