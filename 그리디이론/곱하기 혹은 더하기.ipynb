{
 "cells": [
  {
   "cell_type": "code",
   "execution_count": 7,
   "id": "055f2a28",
   "metadata": {},
   "outputs": [
    {
     "data": {
      "text/plain": [
       "576"
      ]
     },
     "execution_count": 7,
     "metadata": {},
     "output_type": "execute_result"
    }
   ],
   "source": [
    "def plmul(s):\n",
    "    val=int(s[0])\n",
    "    for i in range(1, len(s)):\n",
    "        if int(s[i-1])<=1 or int(s[i])<=1:\n",
    "            val+=int(s[i])\n",
    "        else:\n",
    "            val*=int(s[i])\n",
    "    return val\n",
    "\n",
    "plmul('02984')\n",
    "            \n",
    "            \n",
    "            "
   ]
  }
 ],
 "metadata": {
  "kernelspec": {
   "display_name": "Python 3",
   "language": "python",
   "name": "python3"
  },
  "language_info": {
   "codemirror_mode": {
    "name": "ipython",
    "version": 3
   },
   "file_extension": ".py",
   "mimetype": "text/x-python",
   "name": "python",
   "nbconvert_exporter": "python",
   "pygments_lexer": "ipython3",
   "version": "3.8.8"
  }
 },
 "nbformat": 4,
 "nbformat_minor": 5
}
