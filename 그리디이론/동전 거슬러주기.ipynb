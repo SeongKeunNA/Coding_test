{
 "cells": [
  {
   "cell_type": "code",
   "execution_count": 66,
   "id": "ade62d10",
   "metadata": {},
   "outputs": [
    {
     "data": {
      "text/plain": [
       "6"
      ]
     },
     "execution_count": 66,
     "metadata": {},
     "output_type": "execute_result"
    }
   ],
   "source": [
    "def m(N):\n",
    "    c_500=N//500\n",
    "    N%=500\n",
    "    if N==0:\n",
    "        return c_500\n",
    "    c_100=N//100\n",
    "    N%=100\n",
    "    if N==0:\n",
    "        return c_500+c_100\n",
    "    c_50=N//50\n",
    "    N%=50\n",
    "    if N==0:\n",
    "        return c_500+c_100+c_50\n",
    "    c_10=N//10\n",
    "    return c_500+c_100+c_50+c_10\n",
    "\n",
    "m(1260)\n",
    "    "
   ]
  }
 ],
 "metadata": {
  "kernelspec": {
   "display_name": "Python 3",
   "language": "python",
   "name": "python3"
  },
  "language_info": {
   "codemirror_mode": {
    "name": "ipython",
    "version": 3
   },
   "file_extension": ".py",
   "mimetype": "text/x-python",
   "name": "python",
   "nbconvert_exporter": "python",
   "pygments_lexer": "ipython3",
   "version": "3.8.8"
  }
 },
 "nbformat": 4,
 "nbformat_minor": 5
}
