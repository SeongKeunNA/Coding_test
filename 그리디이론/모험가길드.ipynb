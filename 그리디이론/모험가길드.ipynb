{
 "cells": [
  {
   "cell_type": "code",
   "execution_count": 4,
   "id": "aaa2f8ba",
   "metadata": {},
   "outputs": [
    {
     "name": "stdout",
     "output_type": "stream",
     "text": [
      "모험가의 수를 입력하세요.: 7\n",
      "1번째 모험가의 공포도를 입력하세요.: 5\n",
      "2번째 모험가의 공포도를 입력하세요.: 3\n",
      "3번째 모험가의 공포도를 입력하세요.: 2\n",
      "4번째 모험가의 공포도를 입력하세요.: 2\n",
      "5번째 모험가의 공포도를 입력하세요.: 1\n",
      "6번째 모험가의 공포도를 입력하세요.: 1\n",
      "7번째 모험가의 공포도를 입력하세요.: 1\n",
      "4\n"
     ]
    }
   ],
   "source": [
    "while True:\n",
    "    N=int(input('모험가의 수를 입력하세요.: '))\n",
    "    if 1<=N<=100000:\n",
    "        break\n",
    "\n",
    "fear=[0]*N\n",
    "\n",
    "for i in range(N):\n",
    "    while True:\n",
    "        fear[i]=int(input(f'{i+1}번째 모험가의 공포도를 입력하세요.: '))\n",
    "        if 1<=fear[i]<=N:\n",
    "            break    \n",
    "\n",
    "fear=sorted(fear)\n",
    "grp=0\n",
    "last_index=0\n",
    "b=0\n",
    "j=0\n",
    "for i in range(1,N+1):\n",
    "    cnt=0\n",
    "    while j!=N:\n",
    "        if fear[j-b]==i:\n",
    "            cnt+=1\n",
    "            j+=1\n",
    "        else:\n",
    "            break\n",
    "    a=cnt//i\n",
    "    grp+=a\n",
    "    b=cnt%i\n",
    "print(grp)"
   ]
  }
 ],
 "metadata": {
  "kernelspec": {
   "display_name": "Python 3",
   "language": "python",
   "name": "python3"
  },
  "language_info": {
   "codemirror_mode": {
    "name": "ipython",
    "version": 3
   },
   "file_extension": ".py",
   "mimetype": "text/x-python",
   "name": "python",
   "nbconvert_exporter": "python",
   "pygments_lexer": "ipython3",
   "version": "3.8.8"
  }
 },
 "nbformat": 4,
 "nbformat_minor": 5
}
