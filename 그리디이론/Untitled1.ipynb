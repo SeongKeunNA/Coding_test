{
 "cells": [
  {
   "cell_type": "code",
   "execution_count": 4,
   "id": "a4b30b06",
   "metadata": {},
   "outputs": [],
   "source": []
  },
  {
   "cell_type": "code",
   "execution_count": 5,
   "id": "69659508",
   "metadata": {},
   "outputs": [
    {
     "data": {
      "text/plain": [
       "[3, 5]"
      ]
     },
     "execution_count": 5,
     "metadata": {},
     "output_type": "execute_result"
    }
   ],
   "source": [
    "solution([44, 1, 0, 0, 31, 25], [31, 10, 45, 1, 6, 19])"
   ]
  },
  {
   "cell_type": "code",
   "execution_count": 26,
   "id": "3a37df93",
   "metadata": {},
   "outputs": [],
   "source": [
    "def solution(new_id):\n",
    "    answer = ''\n",
    "    \n",
    "\n",
    "    new_id=new_id.lower() #1\n",
    "    print(new_id)\n",
    "    new_id=''.join(c for c in new_id if c.isalpha() or c.isdigit() or c in['-','_','.'])\n",
    "    print(new_id)\n",
    "    result=''\n",
    "    result=new_id[0]\n",
    "    for i in range(1,len(new_id)):\n",
    "        \n",
    "        if new_id[i]!='.':\n",
    "            result+=new_id[i]\n",
    "        else:\n",
    "            if new_id[i-1]!='.':\n",
    "                result+=new_id[i]\n",
    "            else:\n",
    "                pass\n",
    "    new_id=result\n",
    "    print(new_id)\n",
    "\n",
    "    new_id=new_id.strip('.')\n",
    "    print(new_id)    \n",
    "    if len(new_id)==0:\n",
    "        new_id=\"a\"\n",
    "        print(new_id)\n",
    "    if len(new_id)>=16:\n",
    "        new_id=new_id[0:15]\n",
    "        print(new_id)\n",
    "    new_id=new_id.strip('.')\n",
    "    print(new_id)\n",
    "    if len(new_id)<=2:\n",
    "        new_id+=new_id[len(new_id)-1]*(3-len(new_id))\n",
    "    print(new_id)\n",
    "    return new_id\n"
   ]
  },
  {
   "cell_type": "code",
   "execution_count": 27,
   "id": "4c49bcd4",
   "metadata": {
    "scrolled": true
   },
   "outputs": [
    {
     "name": "stdout",
     "output_type": "stream",
     "text": [
      "...!@bat#*..y.abcdefghijklm\n",
      "...bat..y.abcdefghijklm\n",
      ".bat.y.abcdefghijklm\n",
      "bat.y.abcdefghijklm\n",
      "bat.y.abcdefghi\n",
      "bat.y.abcdefghi\n",
      "bat.y.abcdefghi\n"
     ]
    },
    {
     "data": {
      "text/plain": [
       "''"
      ]
     },
     "execution_count": 27,
     "metadata": {},
     "output_type": "execute_result"
    }
   ],
   "source": [
    "solution(\"...!@BaT#*..y.abcdefghijklm\")"
   ]
  }
 ],
 "metadata": {
  "kernelspec": {
   "display_name": "Python 3",
   "language": "python",
   "name": "python3"
  },
  "language_info": {
   "codemirror_mode": {
    "name": "ipython",
    "version": 3
   },
   "file_extension": ".py",
   "mimetype": "text/x-python",
   "name": "python",
   "nbconvert_exporter": "python",
   "pygments_lexer": "ipython3",
   "version": "3.8.8"
  }
 },
 "nbformat": 4,
 "nbformat_minor": 5
}
