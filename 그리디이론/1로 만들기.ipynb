{
 "cells": [
  {
   "cell_type": "code",
   "execution_count": 9,
   "id": "85ae20fa",
   "metadata": {},
   "outputs": [],
   "source": [
    "def nk(N,K): # 1<=N<=100,000, 2<=K<=100,000\n",
    "    cnt=0\n",
    "    while N!=1:\n",
    "        if N%K==0:\n",
    "            N//=K\n",
    "            cnt+=1\n",
    "        else:\n",
    "            N-=1\n",
    "            cnt+=1\n",
    "    return cnt"
   ]
  },
  {
   "cell_type": "code",
   "execution_count": 10,
   "id": "2c241529",
   "metadata": {},
   "outputs": [
    {
     "data": {
      "text/plain": [
       "2"
      ]
     },
     "execution_count": 10,
     "metadata": {},
     "output_type": "execute_result"
    }
   ],
   "source": [
    "nk(25,5)"
   ]
  }
 ],
 "metadata": {
  "kernelspec": {
   "display_name": "Python 3",
   "language": "python",
   "name": "python3"
  },
  "language_info": {
   "codemirror_mode": {
    "name": "ipython",
    "version": 3
   },
   "file_extension": ".py",
   "mimetype": "text/x-python",
   "name": "python",
   "nbconvert_exporter": "python",
   "pygments_lexer": "ipython3",
   "version": "3.8.8"
  }
 },
 "nbformat": 4,
 "nbformat_minor": 5
}
