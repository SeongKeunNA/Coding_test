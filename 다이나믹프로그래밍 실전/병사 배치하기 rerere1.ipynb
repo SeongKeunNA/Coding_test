{
 "cells": [
  {
   "cell_type": "markdown",
   "id": "88afe097",
   "metadata": {},
   "source": [
    "# 코딩 전 생각"
   ]
  },
  {
   "cell_type": "code",
   "execution_count": null,
   "id": "21740bdf",
   "metadata": {},
   "outputs": [],
   "source": []
  },
  {
   "cell_type": "code",
   "execution_count": null,
   "id": "8ac1d327",
   "metadata": {},
   "outputs": [],
   "source": [
    "\"\"\"\"\"\"\"\"\"\"\n",
    "1. 해당 번호까지의 병사들 중 가장 긴 감소하는 부분 수열의 수를 값으로 가지는 리스트 a를 선언한다.\n",
    "\n",
    "2. 전투력 리스트 f를 선언해 입력값으로 초기화한다.\n",
    "\n",
    "3. 최대 길이 체크용 리스트 ck 를 선언한다.\n",
    "\n",
    "3. 1부터 n까지 반복하여(i):\n",
    "    1부터 i까지 반복하여(j):\n",
    "    if f[j-1] <= f[j]:\n",
    "        value = 1\n",
    "    else:\n",
    "        a[j] = a[j-1] + 1        \n",
    "    max_value = max(a[1:i])\n",
    "\n",
    "\n",
    "......\n",
    "풀이법이 쉽게 생각나지 않는다. 내일 다시 풀어보자.\n",
    "\"\"\"\"\"\"\"\"\"\""
   ]
  }
 ],
 "metadata": {
  "kernelspec": {
   "display_name": "Python 3 (ipykernel)",
   "language": "python",
   "name": "python3"
  },
  "language_info": {
   "codemirror_mode": {
    "name": "ipython",
    "version": 3
   },
   "file_extension": ".py",
   "mimetype": "text/x-python",
   "name": "python",
   "nbconvert_exporter": "python",
   "pygments_lexer": "ipython3",
   "version": "3.7.13"
  }
 },
 "nbformat": 4,
 "nbformat_minor": 5
}
