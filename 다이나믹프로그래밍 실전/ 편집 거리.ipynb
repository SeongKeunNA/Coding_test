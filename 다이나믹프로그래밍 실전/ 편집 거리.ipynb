{
 "cells": [
  {
   "cell_type": "markdown",
   "id": "6ff41c61",
   "metadata": {},
   "source": [
    "# 코딩 전 생각"
   ]
  },
  {
   "cell_type": "code",
   "execution_count": null,
   "id": "d928efbd",
   "metadata": {},
   "outputs": [],
   "source": [
    "\"\"\"\"\"\"\"\"\"\n",
    "풀이 아이디어가 잘 떠오르지 않는다.\n",
    "\n",
    "이전의 다이나믹 프로그래밍 문제들보다 경우의 수가 더욱 많고 접근이 어려운 것 같다.\n",
    "\n",
    "\"\"\"\"\"\"\"\"\""
   ]
  },
  {
   "cell_type": "code",
   "execution_count": 20,
   "id": "7292803d",
   "metadata": {},
   "outputs": [
    {
     "name": "stdout",
     "output_type": "stream",
     "text": [
      "abcdefghijklmnopqrstuvwxyabcdefghijklmnopqrstuvwxyabcdefghijklmnopqrstuvwxyabcdefghijklmnopqrstuvwxyabcdefghijklmnopqrstuvwxyabcdefghijklmnopqrstuvwxyabcdefghijklmnopqrstuvwxyabcdefghijklmnopqrstuvwxyabcdefghijklmnopqrstuvwxyabcdefghijklmnopqrstuvwxyabcdefghijklmnopqrstuvwxyabcdefghijklmnopqrstuvwxyabcdefghijklmnopqrstuvwxyabcdefghijklmnopqrstuvwxyabcdefghijklmnopqrstuvwxyabcdefghijklmnopqrstuvwxyabcdefghijklmnopqrstuvwxyabcdefghijklmnopqrstuvwxyabcdefghijklmnopqrstuvwxyabcdefghijklmnopqrstuvwxyabcdefghijklmnopqrstuvwxyabcdefghijklmnopqrstuvwxyabcdefghijklmnopqrstuvwxyabcdefghijklmnopqrstuvwxyabcdefghijklmnopqrstuvwxyabcdefghijklmnopqrstuvwxyabcdefghijklmnopqrstuvwxyabcdefghijklmnopqrstuvwxyabcdefghijklmnopqrstuvwxyabcdefghijklmnopqrstuvwxyabcdefghijklmnopqrstuvwxyabcdefghijklmnopqrstuvwxyabcdefghijklmnopqrstuvwxyabcdefghijklmnopqrstuvwxyabcdefghijklmnopqrstuvwxyabcdefghijklmnopqrstuvwxyabcdefghijklmnopqrstuvwxyabcdefghijklmnopqrstuvwxyabcdefghijklmnopqrstuvwxyabcdefghijklmnopqrstuvwxyabcdefghijklmnopqrstuvwxyabcdefghijklmnopqrstuvwxyabcdefghijklmnopqrstuvwxyabcdefghijklmnopqrstuvwxyabcdefghijklmnopqrstuvwxyabcdefghijklmnopqrstuvwxyabcdefghijklmnopqrstuvwxyabcdefghijklmnopqrstuvwxyabcdefghijklmnopqrstuvwxyabcdefghijklmnopqrstuvwxyabcdefghijklmnopqrstuvwxyabcdefghijklmnopqrstuvwxyabcdefghijklmnopqrstuvwxyabcdefghijklmnopqrstuvwxyabcdefghijklmnopqrstuvwxyabcdefghijklmnopqrstuvwxyabcdefghijklmnopqrstuvwxyabcdefghijklmnopqrstuvwxyabcdefghijklmnopqrstuvwxyabcdefghijklmnopqrstuvwxyabcdefghijklmnopqrstuvwxyabcdefghijklmnopqrstuvwxyabcdefghijklmnopqrstuvwxyabcdefghijklmnopqrstuvwxyabcdefghijklmnopqrstuvwxyabcdefghijklmnopqrstuvwxyabcdefghijklmnopqrstuvwxyabcdefghijklmnopqrstuvwxyabcdefghijklmnopqrstuvwxyabcdefghijklmnopqrstuvwxyabcdefghijklmnopqrstuvwxyabcdefghijklmnopqrstuvwxyabcdefghijklmnopqrstuvwxyabcdefghijklmnopqrstuvwxyabcdefghijklmnopqrstuvwxyabcdefghijklmnopqrstuvwxyabcdefghijklmnopqrstuvwxyabcdefghijklmnopqrstuvwxyabcdefghijklmnopqrstuvwxyabcdefghijklmnopqrstuvwxyabcdefghijklmnopqrstuvwxyabcdefghijklmnopqrstuvwxyabcdefghijklmnopqrstuvwxyabcdefghijklmnopqrstuvwxyabcdefghijklmnopqrstuvwxyabcdefghijklmnopqrstuvwxyabcdefghijklmnopqrstuvwxyabcdefghijklmnopqrstuvwxyabcdefghijklmnopqrstuvwxyabcdefghijklmnopqrstuvwxyabcdefghijklmnopqrstuvwxyabcdefghijklmnopqrstuvwxyabcdefghijklmnopqrstuvwxyabcdefghijklmnopqrstuvwxyabcdefghijklmnopqrstuvwxyabcdefghijklmnopqrstuvwxyabcdefghijklmnopqrstuvwxyabcdefghijklmnopqrstuvwxyabcdefghijklmnopqrstuvwxyabcdefghijklmnopqrstuvwxyabcdefghijklmnopqrstuvwxyabcdefghijklmnopqrstuvwxyabcdefghijklmnopqrstuvwxyabcdefghijklmnopqrstuvwxyabcdefghijklmnopqrstuvwxyabcdefghijklmnopqrstuvwxyabcdefghijklmnopqrstuvwxyabcdefghijklmnopqrstuvwxyabcdefghijklmnopqrstuvwxyabcdefghijklmnopqrstuvwxyabcdefghijklmnopqrstuvwxyabcdefghijklmnopqrstuvwxyabcdefghijklmnopqrstuvwxyabcdefghijklmnopqrstuvwxyabcdefghijklmnopqrstuvwxyabcdefghijklmnopqrstuvwxyabcdefghijklmnopqrstuvwxyabcdefghijklmnopqrstuvwxyabcdefghijklmnopqrstuvwxyabcdefghijklmnopqrstuvwxyabcdefghijklmnopqrstuvwxyabcdefghijklmnopqrstuvwxyabcdefghijklmnopqrstuvwxyabcdefghijklmnopqrstuvwxyabcdefghijklmnopqrstuvwxyabcdefghijklmnopqrstuvwxyabcdefghijklmnopqrstuvwxyabcdefghijklmnopqrstuvwxyabcdefghijklmnopqrstuvwxyabcdefghijklmnopqrstuvwxyabcdefghijklmnopqrstuvwxyabcdefghijklmnopqrstuvwxyabcdefghijklmnopqrstuvwxyabcdefghijklmnopqrstuvwxyabcdefghijklmnopqrstuvwxyabcdefghijklmnopqrstuvwxyabcdefghijklmnopqrstuvwxyabcdefghijklmnopqrstuvwxyabcdefghijklmnopqrstuvwxyabcdefghijklmnopqrstuvwxyabcdefghijklmnopqrstuvwxyabcdefghijklmnopqrstuvwxyabcdefghijklmnopqrstuvwxyabcdefghijklmnopqrstuvwxyabcdefghijklmnopqrstuvwxyabcdefghijklmnopqrstuvwxyabcdefghijklmnopqrstuvwxyabcdefghijklmnopqrstuvwxyabcdefghijklmnopqrstuvwxyabcdefghijklmnopqrstuvwxyabcdefghijklmnopqrstuvwxyabcdefghijklmnopqrstuvwxyabcdefghijklmnopqrstuvwxyabcdefghijklmnopqrstuvwxyabcdefghijklmnopqrstuvwxyabcdefghijklmnopqrstuvwxyabcdefghijklmnopqrstuvwxyabcdefghijklmnopqrstuvwxyabcdefghijklmnopqrstuvwxyabcdefghijklmnopqrstuvwxyabcdefghijklmnopqrstuvwxyabcdefghijklmnopqrstuvwxyabcdefghijklmnopqrstuvwxyabcdefghijklmnopqrstuvwxyabcdefghijklmnopqrstuvwxyabcdefghijklmnopqrstuvwxyabcdefghijklmnopqrstuvwxyabcdefghijklmnopqrstuvwxyabcdefghijklmnopqrstuvwxyabcdefghijklmnopqrstuvwxyabcdefghijklmnopqrstuvwxyabcdefghijklmnopqrstuvwxyabcdefghijklmnopqrstuvwxyabcdefghijklmnopqrstuvwxyabcdefghijklmnopqrstuvwxyabcdefghijklmnopqrstuvwxyabcdefghijklmnopqrstuvwxyabcdefghijklmnopqrstuvwxyabcdefghijklmnopqrstuvwxyabcdefghijklmnopqrstuvwxyabcdefghijklmnopqrstuvwxyabcdefghijklmnopqrstuvwxyabcdefghijklmnopqrstuvwxyabcdefghijklmnopqrstuvwxyabcdefghijklmnopqrstuvwxyabcdefghijklmnopqrstuvwxyabcdefghijklmnopqrstuvwxyabcdefghijklmnopqrstuvwxyabcdefghijklmnopqrstuvwxyabcdefghijklmnopqrstuvwxyabcdefghijklmnopqrstuvwxyabcdefghijklmnopqrstuvwxyabcdefghijklmnopqrstuvwxyabcdefghijklmnopqrstuvwxyabcdefghijklmnopqrstuvwxyabcdefghijklmnopqrstuvwxyabcdefghijklmnopqrstuvwxyabcdefghijklmnopqrstuvwxyabcdefghijklmnopqrstuvwxyabcdefghijklmnopqrstuvwxy\n",
      "zxcvbnmasdfghjklqwertyuiozxcvbnmasdfghjklqwertyuiozxcvbnmasdfghjklqwertyuiozxcvbnmasdfghjklqwertyuiozxcvbnmasdfghjklqwertyuiozxcvbnmasdfghjklqwertyuiozxcvbnmasdfghjklqwertyuiozxcvbnmasdfghjklqwertyuiozxcvbnmasdfghjklqwertyuiozxcvbnmasdfghjklqwertyuiozxcvbnmasdfghjklqwertyuiozxcvbnmasdfghjklqwertyuiozxcvbnmasdfghjklqwertyuiozxcvbnmasdfghjklqwertyuiozxcvbnmasdfghjklqwertyuiozxcvbnmasdfghjklqwertyuiozxcvbnmasdfghjklqwertyuiozxcvbnmasdfghjklqwertyuiozxcvbnmasdfghjklqwertyuiozxcvbnmasdfghjklqwertyuiozxcvbnmasdfghjklqwertyuiozxcvbnmasdfghjklqwertyuiozxcvbnmasdfghjklqwertyuiozxcvbnmasdfghjklqwertyuiozxcvbnmasdfghjklqwertyuiozxcvbnmasdfghjklqwertyuiozxcvbnmasdfghjklqwertyuiozxcvbnmasdfghjklqwertyuiozxcvbnmasdfghjklqwertyuiozxcvbnmasdfghjklqwertyuiozxcvbnmasdfghjklqwertyuiozxcvbnmasdfghjklqwertyuiozxcvbnmasdfghjklqwertyuiozxcvbnmasdfghjklqwertyuiozxcvbnmasdfghjklqwertyuiozxcvbnmasdfghjklqwertyuiozxcvbnmasdfghjklqwertyuiozxcvbnmasdfghjklqwertyuiozxcvbnmasdfghjklqwertyuiozxcvbnmasdfghjklqwertyuiozxcvbnmasdfghjklqwertyuiozxcvbnmasdfghjklqwertyuiozxcvbnmasdfghjklqwertyuiozxcvbnmasdfghjklqwertyuiozxcvbnmasdfghjklqwertyuiozxcvbnmasdfghjklqwertyuiozxcvbnmasdfghjklqwertyuiozxcvbnmasdfghjklqwertyuiozxcvbnmasdfghjklqwertyuiozxcvbnmasdfghjklqwertyuiozxcvbnmasdfghjklqwertyuiozxcvbnmasdfghjklqwertyuiozxcvbnmasdfghjklqwertyuiozxcvbnmasdfghjklqwertyuiozxcvbnmasdfghjklqwertyuiozxcvbnmasdfghjklqwertyuiozxcvbnmasdfghjklqwertyuiozxcvbnmasdfghjklqwertyuiozxcvbnmasdfghjklqwertyuiozxcvbnmasdfghjklqwertyuiozxcvbnmasdfghjklqwertyuiozxcvbnmasdfghjklqwertyuiozxcvbnmasdfghjklqwertyuiozxcvbnmasdfghjklqwertyuiozxcvbnmasdfghjklqwertyuiozxcvbnmasdfghjklqwertyuiozxcvbnmasdfghjklqwertyuiozxcvbnmasdfghjklqwertyuiozxcvbnmasdfghjklqwertyuiozxcvbnmasdfghjklqwertyuiozxcvbnmasdfghjklqwertyuiozxcvbnmasdfghjklqwertyuiozxcvbnmasdfghjklqwertyuiozxcvbnmasdfghjklqwertyuiozxcvbnmasdfghjklqwertyuiozxcvbnmasdfghjklqwertyuiozxcvbnmasdfghjklqwertyuiozxcvbnmasdfghjklqwertyuiozxcvbnmasdfghjklqwertyuiozxcvbnmasdfghjklqwertyuiozxcvbnmasdfghjklqwertyuiozxcvbnmasdfghjklqwertyuiozxcvbnmasdfghjklqwertyuiozxcvbnmasdfghjklqwertyuiozxcvbnmasdfghjklqwertyuiozxcvbnmasdfghjklqwertyuiozxcvbnmasdfghjklqwertyuiozxcvbnmasdfghjklqwertyuiozxcvbnmasdfghjklqwertyuiozxcvbnmasdfghjklqwertyuiozxcvbnmasdfghjklqwertyuiozxcvbnmasdfghjklqwertyuiozxcvbnmasdfghjklqwertyuiozxcvbnmasdfghjklqwertyuiozxcvbnmasdfghjklqwertyuiozxcvbnmasdfghjklqwertyuiozxcvbnmasdfghjklqwertyuiozxcvbnmasdfghjklqwertyuiozxcvbnmasdfghjklqwertyuiozxcvbnmasdfghjklqwertyuiozxcvbnmasdfghjklqwertyuiozxcvbnmasdfghjklqwertyuiozxcvbnmasdfghjklqwertyuiozxcvbnmasdfghjklqwertyuiozxcvbnmasdfghjklqwertyuiozxcvbnmasdfghjklqwertyuiozxcvbnmasdfghjklqwertyuiozxcvbnmasdfghjklqwertyuiozxcvbnmasdfghjklqwertyuiozxcvbnmasdfghjklqwertyuiozxcvbnmasdfghjklqwertyuiozxcvbnmasdfghjklqwertyuiozxcvbnmasdfghjklqwertyuiozxcvbnmasdfghjklqwertyuiozxcvbnmasdfghjklqwertyuiozxcvbnmasdfghjklqwertyuiozxcvbnmasdfghjklqwertyuiozxcvbnmasdfghjklqwertyuiozxcvbnmasdfghjklqwertyuiozxcvbnmasdfghjklqwertyuiozxcvbnmasdfghjklqwertyuiozxcvbnmasdfghjklqwertyuiozxcvbnmasdfghjklqwertyuiozxcvbnmasdfghjklqwertyuiozxcvbnmasdfghjklqwertyuiozxcvbnmasdfghjklqwertyuiozxcvbnmasdfghjklqwertyuiozxcvbnmasdfghjklqwertyuiozxcvbnmasdfghjklqwertyuiozxcvbnmasdfghjklqwertyuiozxcvbnmasdfghjklqwertyuiozxcvbnmasdfghjklqwertyuiozxcvbnmasdfghjklqwertyuiozxcvbnmasdfghjklqwertyuiozxcvbnmasdfghjklqwertyuiozxcvbnmasdfghjklqwertyuiozxcvbnmasdfghjklqwertyuiozxcvbnmasdfghjklqwertyuiozxcvbnmasdfghjklqwertyuiozxcvbnmasdfghjklqwertyuiozxcvbnmasdfghjklqwertyuiozxcvbnmasdfghjklqwertyuiozxcvbnmasdfghjklqwertyuiozxcvbnmasdfghjklqwertyuiozxcvbnmasdfghjklqwertyuiozxcvbnmasdfghjklqwertyuiozxcvbnmasdfghjklqwertyuiozxcvbnmasdfghjklqwertyuiozxcvbnmasdfghjklqwertyuiozxcvbnmasdfghjklqwertyuiozxcvbnmasdfghjklqwertyuiozxcvbnmasdfghjklqwertyuiozxcvbnmasdfghjklqwertyuiozxcvbnmasdfghjklqwertyuiozxcvbnmasdfghjklqwertyuiozxcvbnmasdfghjklqwertyuiozxcvbnmasdfghjklqwertyuiozxcvbnmasdfghjklqwertyuiozxcvbnmasdfghjklqwertyuiozxcvbnmasdfghjklqwertyuiozxcvbnmasdfghjklqwertyuiozxcvbnmasdfghjklqwertyuiozxcvbnmasdfghjklqwertyuiozxcvbnmasdfghjklqwertyuiozxcvbnmasdfghjklqwertyuiozxcvbnmasdfghjklqwertyuiozxcvbnmasdfghjklqwertyuiozxcvbnmasdfghjklqwertyuiozxcvbnmasdfghjklqwertyuiozxcvbnmasdfghjklqwertyuiozxcvbnmasdfghjklqwertyuiozxcvbnmasdfghjklqwertyuiozxcvbnmasdfghjklqwertyuiozxcvbnmasdfghjklqwertyuiozxcvbnmasdfghjklqwertyuiozxcvbnmasdfghjklqwertyuiozxcvbnmasdfghjklqwertyuiozxcvbnmasdfghjklqwertyuiozxcvbnmasdfghjklqwertyuiozxcvbnmasdfghjklqwertyuiozxcvbnmasdfghjklqwertyuiozxcvbnmasdfghjklqwertyuiozxcvbnmasdfghjklqwertyuiozxcvbnmasdfghjklqwertyuiozxcvbnmasdfghjklqwertyuiozxcvbnmasdfghjklqwertyuiozxcvbnmasdfghjklqwertyuiozxcvbnmasdfghjklqwertyuiozxcvbnmasdfghjklqwertyuiozxcvbnmasdfghjklqwertyuiozxcvbnmasdfghjklqwertyuiozxcvbnmasdfghjklqwertyuiozxcvbnmasdfghjklqwertyuiozxcvbnmasdfghjklqwertyuiozxcvbnmasdfghjklqwertyuiozxcvbnmasdfghjklqwertyuiozxcvbnmasdfghjklqwertyuiozxcvbnmasdfghjklqwertyuiozxcvbnmasdfghjklqwertyuiozxcvbnmasdfghjklqwertyuio\n"
     ]
    },
    {
     "name": "stdout",
     "output_type": "stream",
     "text": [
      "4600\n"
     ]
    }
   ],
   "source": [
    "A = ['a'] + list(input())  #acat\n",
    "B = ['a'] + list(input()) #acut\n",
    "dp = [0] * (len(B)) #0000\n",
    "i = 1\n",
    "\n",
    "while True:\n",
    "    if len(A) <= i:\n",
    "        print(dp[i-1])\n",
    "        break\n",
    "        \n",
    "    if A[i] == B[i]:\n",
    "        dp[i] = dp[i-1] #dp[1]=0\n",
    "        i += 1\n",
    "    else:\n",
    "        dp[i] = dp[i-1]+1 #dp[2] = 1\n",
    "\n",
    "        if len(A) == len(B):\n",
    "            A[i] = B[i] #A:acut\n",
    "            i += 1\n",
    "\n",
    "        elif len(A) > len(B):\n",
    "            del(A[i])\n",
    "\n",
    "        else:\n",
    "            pre = A[:i]\n",
    "            post = A[i:]\n",
    "            A = pre+[B[i]]+post\n",
    "            i += 1"
   ]
  },
  {
   "cell_type": "code",
   "execution_count": 24,
   "id": "9a21518b",
   "metadata": {},
   "outputs": [
    {
     "name": "stdout",
     "output_type": "stream",
     "text": [
      "sunday\n",
      "saturday\n",
      "3\n"
     ]
    }
   ],
   "source": [
    "A = ['a'] + list(input())  #acat\n",
    "B = ['a'] + list(input()) #acut\n",
    "i = 1\n",
    "cnt = 0\n",
    "while True:\n",
    "    if len(A) <= i:\n",
    "        print(cnt)\n",
    "        break\n",
    "        \n",
    "    if A[i] == B[i]:\n",
    "        i += 1\n",
    "    else:\n",
    "        cnt+=1 #dp[2] = 1\n",
    "\n",
    "        if len(A) == len(B):\n",
    "            A[i] = B[i] #A:acut\n",
    "            i += 1\n",
    "\n",
    "        elif len(A) > len(B):\n",
    "            del(A[i])\n",
    "\n",
    "        else:\n",
    "            pre = A[:i]\n",
    "            post = A[i:]\n",
    "            A = pre+[B[i]]+post\n",
    "            i += 1"
   ]
  },
  {
   "cell_type": "markdown",
   "id": "04fd2656",
   "metadata": {},
   "source": [
    "# 답안 작성 후 생각"
   ]
  },
  {
   "cell_type": "code",
   "execution_count": null,
   "id": "f2bac7c2",
   "metadata": {},
   "outputs": [],
   "source": [
    "\"\"\"\"\"\"\"\"\"\"\n",
    "주어진 예제를 손으로 풀면서 문제 풀이 아이디어를 떠올렸다.\n",
    "\n",
    "한 글자씩 처리를 반복하면서 남은 문자의 개수에 따라 삽입, 삭제, 교체를 해주었다.\n",
    "\n",
    "5000글자에 대해서도 효율적으로 작동하고, 그 결과도 주어진 예제의 출력 예시와 일치한다.\n",
    "\n",
    "하지만 굳이 다이나믹프로그래밍으로 풀지 않고 cnt 변수를 증가시켜 문제를 해결해도 답안이 다르지 않은 거로 보아 \n",
    "\n",
    "정답이 아닐 수도 있을 것 같다.\n",
    "\"\"\"\"\"\"\"\"\"\""
   ]
  },
  {
   "cell_type": "markdown",
   "id": "7d746e75",
   "metadata": {},
   "source": [
    "# 정답"
   ]
  },
  {
   "cell_type": "code",
   "execution_count": 28,
   "id": "b5140852",
   "metadata": {},
   "outputs": [
    {
     "name": "stdout",
     "output_type": "stream",
     "text": [
      "abcdefghijklmnopqrstuvwxyabcdefghijklmnopqrstuvwxyabcdefghijklmnopqrstuvwxyabcdefghijklmnopqrstuvwxyabcdefghijklmnopqrstuvwxyabcdefghijklmnopqrstuvwxyabcdefghijklmnopqrstuvwxyabcdefghijklmnopqrstuvwxyabcdefghijklmnopqrstuvwxyabcdefghijklmnopqrstuvwxyabcdefghijklmnopqrstuvwxyabcdefghijklmnopqrstuvwxyabcdefghijklmnopqrstuvwxyabcdefghijklmnopqrstuvwxyabcdefghijklmnopqrstuvwxyabcdefghijklmnopqrstuvwxyabcdefghijklmnopqrstuvwxyabcdefghijklmnopqrstuvwxyabcdefghijklmnopqrstuvwxyabcdefghijklmnopqrstuvwxyabcdefghijklmnopqrstuvwxyabcdefghijklmnopqrstuvwxyabcdefghijklmnopqrstuvwxyabcdefghijklmnopqrstuvwxyabcdefghijklmnopqrstuvwxyabcdefghijklmnopqrstuvwxyabcdefghijklmnopqrstuvwxyabcdefghijklmnopqrstuvwxyabcdefghijklmnopqrstuvwxyabcdefghijklmnopqrstuvwxyabcdefghijklmnopqrstuvwxyabcdefghijklmnopqrstuvwxyabcdefghijklmnopqrstuvwxyabcdefghijklmnopqrstuvwxyabcdefghijklmnopqrstuvwxyabcdefghijklmnopqrstuvwxyabcdefghijklmnopqrstuvwxyabcdefghijklmnopqrstuvwxyabcdefghijklmnopqrstuvwxyabcdefghijklmnopqrstuvwxyabcdefghijklmnopqrstuvwxyabcdefghijklmnopqrstuvwxyabcdefghijklmnopqrstuvwxyabcdefghijklmnopqrstuvwxyabcdefghijklmnopqrstuvwxyabcdefghijklmnopqrstuvwxyabcdefghijklmnopqrstuvwxyabcdefghijklmnopqrstuvwxyabcdefghijklmnopqrstuvwxyabcdefghijklmnopqrstuvwxyabcdefghijklmnopqrstuvwxyabcdefghijklmnopqrstuvwxyabcdefghijklmnopqrstuvwxyabcdefghijklmnopqrstuvwxyabcdefghijklmnopqrstuvwxyabcdefghijklmnopqrstuvwxyabcdefghijklmnopqrstuvwxyabcdefghijklmnopqrstuvwxyabcdefghijklmnopqrstuvwxyabcdefghijklmnopqrstuvwxyabcdefghijklmnopqrstuvwxyabcdefghijklmnopqrstuvwxyabcdefghijklmnopqrstuvwxyabcdefghijklmnopqrstuvwxyabcdefghijklmnopqrstuvwxyabcdefghijklmnopqrstuvwxyabcdefghijklmnopqrstuvwxyabcdefghijklmnopqrstuvwxyabcdefghijklmnopqrstuvwxyabcdefghijklmnopqrstuvwxyabcdefghijklmnopqrstuvwxyabcdefghijklmnopqrstuvwxyabcdefghijklmnopqrstuvwxyabcdefghijklmnopqrstuvwxyabcdefghijklmnopqrstuvwxyabcdefghijklmnopqrstuvwxyabcdefghijklmnopqrstuvwxyabcdefghijklmnopqrstuvwxyabcdefghijklmnopqrstuvwxyabcdefghijklmnopqrstuvwxyabcdefghijklmnopqrstuvwxyabcdefghijklmnopqrstuvwxyabcdefghijklmnopqrstuvwxyabcdefghijklmnopqrstuvwxyabcdefghijklmnopqrstuvwxyabcdefghijklmnopqrstuvwxyabcdefghijklmnopqrstuvwxyabcdefghijklmnopqrstuvwxyabcdefghijklmnopqrstuvwxyabcdefghijklmnopqrstuvwxyabcdefghijklmnopqrstuvwxyabcdefghijklmnopqrstuvwxyabcdefghijklmnopqrstuvwxyabcdefghijklmnopqrstuvwxyabcdefghijklmnopqrstuvwxyabcdefghijklmnopqrstuvwxyabcdefghijklmnopqrstuvwxyabcdefghijklmnopqrstuvwxyabcdefghijklmnopqrstuvwxyabcdefghijklmnopqrstuvwxyabcdefghijklmnopqrstuvwxyabcdefghijklmnopqrstuvwxyabcdefghijklmnopqrstuvwxyabcdefghijklmnopqrstuvwxyabcdefghijklmnopqrstuvwxyabcdefghijklmnopqrstuvwxyabcdefghijklmnopqrstuvwxyabcdefghijklmnopqrstuvwxyabcdefghijklmnopqrstuvwxyabcdefghijklmnopqrstuvwxyabcdefghijklmnopqrstuvwxyabcdefghijklmnopqrstuvwxyabcdefghijklmnopqrstuvwxyabcdefghijklmnopqrstuvwxyabcdefghijklmnopqrstuvwxyabcdefghijklmnopqrstuvwxyabcdefghijklmnopqrstuvwxyabcdefghijklmnopqrstuvwxyabcdefghijklmnopqrstuvwxyabcdefghijklmnopqrstuvwxyabcdefghijklmnopqrstuvwxyabcdefghijklmnopqrstuvwxyabcdefghijklmnopqrstuvwxyabcdefghijklmnopqrstuvwxyabcdefghijklmnopqrstuvwxyabcdefghijklmnopqrstuvwxyabcdefghijklmnopqrstuvwxyabcdefghijklmnopqrstuvwxyabcdefghijklmnopqrstuvwxyabcdefghijklmnopqrstuvwxyabcdefghijklmnopqrstuvwxyabcdefghijklmnopqrstuvwxyabcdefghijklmnopqrstuvwxyabcdefghijklmnopqrstuvwxyabcdefghijklmnopqrstuvwxyabcdefghijklmnopqrstuvwxyabcdefghijklmnopqrstuvwxyabcdefghijklmnopqrstuvwxyabcdefghijklmnopqrstuvwxyabcdefghijklmnopqrstuvwxyabcdefghijklmnopqrstuvwxyabcdefghijklmnopqrstuvwxyabcdefghijklmnopqrstuvwxyabcdefghijklmnopqrstuvwxyabcdefghijklmnopqrstuvwxyabcdefghijklmnopqrstuvwxyabcdefghijklmnopqrstuvwxyabcdefghijklmnopqrstuvwxyabcdefghijklmnopqrstuvwxyabcdefghijklmnopqrstuvwxyabcdefghijklmnopqrstuvwxyabcdefghijklmnopqrstuvwxyabcdefghijklmnopqrstuvwxyabcdefghijklmnopqrstuvwxyabcdefghijklmnopqrstuvwxyabcdefghijklmnopqrstuvwxyabcdefghijklmnopqrstuvwxyabcdefghijklmnopqrstuvwxyabcdefghijklmnopqrstuvwxyabcdefghijklmnopqrstuvwxyabcdefghijklmnopqrstuvwxyabcdefghijklmnopqrstuvwxyabcdefghijklmnopqrstuvwxyabcdefghijklmnopqrstuvwxyabcdefghijklmnopqrstuvwxyabcdefghijklmnopqrstuvwxyabcdefghijklmnopqrstuvwxyabcdefghijklmnopqrstuvwxyabcdefghijklmnopqrstuvwxyabcdefghijklmnopqrstuvwxyabcdefghijklmnopqrstuvwxyabcdefghijklmnopqrstuvwxyabcdefghijklmnopqrstuvwxyabcdefghijklmnopqrstuvwxyabcdefghijklmnopqrstuvwxyabcdefghijklmnopqrstuvwxyabcdefghijklmnopqrstuvwxyabcdefghijklmnopqrstuvwxyabcdefghijklmnopqrstuvwxyabcdefghijklmnopqrstuvwxyabcdefghijklmnopqrstuvwxyabcdefghijklmnopqrstuvwxyabcdefghijklmnopqrstuvwxyabcdefghijklmnopqrstuvwxyabcdefghijklmnopqrstuvwxyabcdefghijklmnopqrstuvwxyabcdefghijklmnopqrstuvwxyabcdefghijklmnopqrstuvwxyabcdefghijklmnopqrstuvwxyabcdefghijklmnopqrstuvwxyabcdefghijklmnopqrstuvwxyabcdefghijklmnopqrstuvwxyabcdefghijklmnopqrstuvwxyabcdefghijklmnopqrstuvwxyabcdefghijklmnopqrstuvwxyabcdefghijklmnopqrstuvwxyabcdefghijklmnopqrstuvwxyabcdefghijklmnopqrstuvwxyabcdefghijklmnopqrstuvwxyabcdefghijklmnopqrstuvwxy\n",
      "zxcvbnmasdfghjklqwertyuiozxcvbnmasdfghjklqwertyuiozxcvbnmasdfghjklqwertyuiozxcvbnmasdfghjklqwertyuiozxcvbnmasdfghjklqwertyuiozxcvbnmasdfghjklqwertyuiozxcvbnmasdfghjklqwertyuiozxcvbnmasdfghjklqwertyuiozxcvbnmasdfghjklqwertyuiozxcvbnmasdfghjklqwertyuiozxcvbnmasdfghjklqwertyuiozxcvbnmasdfghjklqwertyuiozxcvbnmasdfghjklqwertyuiozxcvbnmasdfghjklqwertyuiozxcvbnmasdfghjklqwertyuiozxcvbnmasdfghjklqwertyuiozxcvbnmasdfghjklqwertyuiozxcvbnmasdfghjklqwertyuiozxcvbnmasdfghjklqwertyuiozxcvbnmasdfghjklqwertyuiozxcvbnmasdfghjklqwertyuiozxcvbnmasdfghjklqwertyuiozxcvbnmasdfghjklqwertyuiozxcvbnmasdfghjklqwertyuiozxcvbnmasdfghjklqwertyuiozxcvbnmasdfghjklqwertyuiozxcvbnmasdfghjklqwertyuiozxcvbnmasdfghjklqwertyuiozxcvbnmasdfghjklqwertyuiozxcvbnmasdfghjklqwertyuiozxcvbnmasdfghjklqwertyuiozxcvbnmasdfghjklqwertyuiozxcvbnmasdfghjklqwertyuiozxcvbnmasdfghjklqwertyuiozxcvbnmasdfghjklqwertyuiozxcvbnmasdfghjklqwertyuiozxcvbnmasdfghjklqwertyuiozxcvbnmasdfghjklqwertyuiozxcvbnmasdfghjklqwertyuiozxcvbnmasdfghjklqwertyuiozxcvbnmasdfghjklqwertyuiozxcvbnmasdfghjklqwertyuiozxcvbnmasdfghjklqwertyuiozxcvbnmasdfghjklqwertyuiozxcvbnmasdfghjklqwertyuiozxcvbnmasdfghjklqwertyuiozxcvbnmasdfghjklqwertyuiozxcvbnmasdfghjklqwertyuiozxcvbnmasdfghjklqwertyuiozxcvbnmasdfghjklqwertyuiozxcvbnmasdfghjklqwertyuiozxcvbnmasdfghjklqwertyuiozxcvbnmasdfghjklqwertyuiozxcvbnmasdfghjklqwertyuiozxcvbnmasdfghjklqwertyuiozxcvbnmasdfghjklqwertyuiozxcvbnmasdfghjklqwertyuiozxcvbnmasdfghjklqwertyuiozxcvbnmasdfghjklqwertyuiozxcvbnmasdfghjklqwertyuiozxcvbnmasdfghjklqwertyuiozxcvbnmasdfghjklqwertyuiozxcvbnmasdfghjklqwertyuiozxcvbnmasdfghjklqwertyuiozxcvbnmasdfghjklqwertyuiozxcvbnmasdfghjklqwertyuiozxcvbnmasdfghjklqwertyuiozxcvbnmasdfghjklqwertyuiozxcvbnmasdfghjklqwertyuiozxcvbnmasdfghjklqwertyuiozxcvbnmasdfghjklqwertyuiozxcvbnmasdfghjklqwertyuiozxcvbnmasdfghjklqwertyuiozxcvbnmasdfghjklqwertyuiozxcvbnmasdfghjklqwertyuiozxcvbnmasdfghjklqwertyuiozxcvbnmasdfghjklqwertyuiozxcvbnmasdfghjklqwertyuiozxcvbnmasdfghjklqwertyuiozxcvbnmasdfghjklqwertyuiozxcvbnmasdfghjklqwertyuiozxcvbnmasdfghjklqwertyuiozxcvbnmasdfghjklqwertyuiozxcvbnmasdfghjklqwertyuiozxcvbnmasdfghjklqwertyuiozxcvbnmasdfghjklqwertyuiozxcvbnmasdfghjklqwertyuiozxcvbnmasdfghjklqwertyuiozxcvbnmasdfghjklqwertyuiozxcvbnmasdfghjklqwertyuiozxcvbnmasdfghjklqwertyuiozxcvbnmasdfghjklqwertyuiozxcvbnmasdfghjklqwertyuiozxcvbnmasdfghjklqwertyuiozxcvbnmasdfghjklqwertyuiozxcvbnmasdfghjklqwertyuiozxcvbnmasdfghjklqwertyuiozxcvbnmasdfghjklqwertyuiozxcvbnmasdfghjklqwertyuiozxcvbnmasdfghjklqwertyuiozxcvbnmasdfghjklqwertyuiozxcvbnmasdfghjklqwertyuiozxcvbnmasdfghjklqwertyuiozxcvbnmasdfghjklqwertyuiozxcvbnmasdfghjklqwertyuiozxcvbnmasdfghjklqwertyuiozxcvbnmasdfghjklqwertyuiozxcvbnmasdfghjklqwertyuiozxcvbnmasdfghjklqwertyuiozxcvbnmasdfghjklqwertyuiozxcvbnmasdfghjklqwertyuiozxcvbnmasdfghjklqwertyuiozxcvbnmasdfghjklqwertyuiozxcvbnmasdfghjklqwertyuiozxcvbnmasdfghjklqwertyuiozxcvbnmasdfghjklqwertyuiozxcvbnmasdfghjklqwertyuiozxcvbnmasdfghjklqwertyuiozxcvbnmasdfghjklqwertyuiozxcvbnmasdfghjklqwertyuiozxcvbnmasdfghjklqwertyuiozxcvbnmasdfghjklqwertyuiozxcvbnmasdfghjklqwertyuiozxcvbnmasdfghjklqwertyuiozxcvbnmasdfghjklqwertyuiozxcvbnmasdfghjklqwertyuiozxcvbnmasdfghjklqwertyuiozxcvbnmasdfghjklqwertyuiozxcvbnmasdfghjklqwertyuiozxcvbnmasdfghjklqwertyuiozxcvbnmasdfghjklqwertyuiozxcvbnmasdfghjklqwertyuiozxcvbnmasdfghjklqwertyuiozxcvbnmasdfghjklqwertyuiozxcvbnmasdfghjklqwertyuiozxcvbnmasdfghjklqwertyuiozxcvbnmasdfghjklqwertyuiozxcvbnmasdfghjklqwertyuiozxcvbnmasdfghjklqwertyuiozxcvbnmasdfghjklqwertyuiozxcvbnmasdfghjklqwertyuiozxcvbnmasdfghjklqwertyuiozxcvbnmasdfghjklqwertyuiozxcvbnmasdfghjklqwertyuiozxcvbnmasdfghjklqwertyuiozxcvbnmasdfghjklqwertyuiozxcvbnmasdfghjklqwertyuiozxcvbnmasdfghjklqwertyuiozxcvbnmasdfghjklqwertyuiozxcvbnmasdfghjklqwertyuiozxcvbnmasdfghjklqwertyuiozxcvbnmasdfghjklqwertyuiozxcvbnmasdfghjklqwertyuiozxcvbnmasdfghjklqwertyuiozxcvbnmasdfghjklqwertyuiozxcvbnmasdfghjklqwertyuiozxcvbnmasdfghjklqwertyuiozxcvbnmasdfghjklqwertyuiozxcvbnmasdfghjklqwertyuiozxcvbnmasdfghjklqwertyuiozxcvbnmasdfghjklqwertyuiozxcvbnmasdfghjklqwertyuiozxcvbnmasdfghjklqwertyuiozxcvbnmasdfghjklqwertyuiozxcvbnmasdfghjklqwertyuiozxcvbnmasdfghjklqwertyuiozxcvbnmasdfghjklqwertyuiozxcvbnmasdfghjklqwertyuiozxcvbnmasdfghjklqwertyuiozxcvbnmasdfghjklqwertyuiozxcvbnmasdfghjklqwertyuiozxcvbnmasdfghjklqwertyuiozxcvbnmasdfghjklqwertyuiozxcvbnmasdfghjklqwertyuiozxcvbnmasdfghjklqwertyuiozxcvbnmasdfghjklqwertyuiozxcvbnmasdfghjklqwertyuiozxcvbnmasdfghjklqwertyuiozxcvbnmasdfghjklqwertyuiozxcvbnmasdfghjklqwertyuiozxcvbnmasdfghjklqwertyuiozxcvbnmasdfghjklqwertyuiozxcvbnmasdfghjklqwertyuiozxcvbnmasdfghjklqwertyuiozxcvbnmasdfghjklqwertyuiozxcvbnmasdfghjklqwertyuiozxcvbnmasdfghjklqwertyuiozxcvbnmasdfghjklqwertyuiozxcvbnmasdfghjklqwertyuiozxcvbnmasdfghjklqwertyuiozxcvbnmasdfghjklqwertyuiozxcvbnmasdfghjklqwertyuiozxcvbnmasdfghjklqwertyuiozxcvbnmasdfghjklqwertyuiozxcvbnmasdfghjklqwertyuiozxcvbnmasdfghjklqwertyuiozxcvbnmasdfghjklqwertyuiozxcvbnmasdfghjklqwertyuiozxcvbnmasdfghjklqwertyuiozxcvbnmasdfghjklqwertyuio\n"
     ]
    },
    {
     "name": "stdout",
     "output_type": "stream",
     "text": [
      "4600\n"
     ]
    }
   ],
   "source": [
    "# 최소 편집 거리(Edit DIstance) 계산을 위한 다이나믹 프로그래밍\n",
    "def edit_dist(str1, str2):\n",
    "    n = len(str1)\n",
    "    m = len(str2)\n",
    "    \n",
    "    # 다이나믹 프로그래밍을 위한 2차원 DP 테이블 초기화\n",
    "    dp = [[0] * (m + 1) for _ in range(n + 1)]\n",
    "    \n",
    "    # DP 테이블 초기 설정\n",
    "    for i in range(1, n + 1):\n",
    "        dp[i][0] = i\n",
    "    for j in range(1, m + 1):\n",
    "        dp[0][j] = j\n",
    "        \n",
    "    # 최소 편집 거리 계산\n",
    "    for i in range(1, n + 1):\n",
    "        for j in range(1, m + 1):\n",
    "            # 문자가 같다면, 왼쪽 위에 해당하는 수를 그대로 대입\n",
    "            if str1[i - 1] == str2[i - 1]:\n",
    "                dp[i][j] = dp[i - 1][j - 1]\n",
    "            # 문자가 다르다면, 3가지 경우 중에서 최솟값 찾기\n",
    "            else: # 삽입(왼쪽), 삭제(위쪽), 교체(왼쪽 위) 중에서 최소  비용을  찾아 대입\n",
    "                dp[i][j] = 1 + min(dp[i][j - 1], dp[i-1][j], dp[i - 1][j - 1])\n",
    "    return dp[n][m]\n",
    "\n",
    "str1 = input()\n",
    "str2 = input()\n",
    "\n",
    "# 최소 편집 거리 출력\n",
    "print(edit_dist(str1, str2))"
   ]
  },
  {
   "cell_type": "markdown",
   "id": "2228656b",
   "metadata": {},
   "source": [
    "# 정답 확인 후 생각"
   ]
  },
  {
   "cell_type": "code",
   "execution_count": null,
   "id": "e3b8581c",
   "metadata": {},
   "outputs": [],
   "source": [
    "\"\"\"\"\"\"\"\"\"\"\n",
    "문자열 A와 문자열 B로 행렬을 만들어 해결하였다. 내 답안은 루프를 돌며 매번 문자열 A를 수정하지만,\n",
    "\n",
    "답지에서는 행렬의 이전 값들을 이용해서 매번 새로운 문자열을 만드는 최소 편집 거리만 계산했다.\n",
    "\n",
    "내 답안과 달리 덜 직관적이지만 확실히 다이나믹 프로그래밍을 이용해서 풀이했다.\n",
    "\n",
    "풀이 시간은 내 답안보다 확실히 느렸다.\n",
    "\n",
    "\"\"\"\"\"\"\"\"\"\""
   ]
  }
 ],
 "metadata": {
  "kernelspec": {
   "display_name": "pytorch",
   "language": "python",
   "name": "pt1.1"
  },
  "language_info": {
   "codemirror_mode": {
    "name": "ipython",
    "version": 3
   },
   "file_extension": ".py",
   "mimetype": "text/x-python",
   "name": "python",
   "nbconvert_exporter": "python",
   "pygments_lexer": "ipython3",
   "version": "3.9.7"
  }
 },
 "nbformat": 4,
 "nbformat_minor": 5
}
