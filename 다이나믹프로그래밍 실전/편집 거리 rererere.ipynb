{
 "cells": [
  {
   "cell_type": "markdown",
   "id": "0bb62455",
   "metadata": {},
   "source": [
    "# 코딩 전 생각"
   ]
  },
  {
   "cell_type": "code",
   "execution_count": null,
   "id": "11f232f5",
   "metadata": {},
   "outputs": [],
   "source": [
    "\"\"\"\"\"\"\"\"\"\"\n",
    "1. 문자열 A의 길이를 len_A, B의 길이를 len_B라할 때 (len_A + 1, len_B + 1) 크기의 행렬을 표현하는 이중 리스트 m을 선언한다.\n",
    "이 때 m[i][j]의 값의 의미는 A의 i번째 인덱스까지의 글자를 B의 j번째 인덱스까지의 글자로 변환하는 데 드는 최소 편집거리이다.\n",
    "\n",
    "2. 우선 행렬 m의 0행의 모든 열과 0열의 모든 행의 값을 각각 0, 1, 2, ... len_B로 한다.\n",
    "\n",
    "3. 행렬 m의 (1,1)부터 (len_A, len_B)까지의 값을 (i, j)로 반복하여: \n",
    "만약 문자열 A의 i번째 문자와 문자열 B의 j번째 문자가 같다면: 행렬 m의 (i, j) 값은 (i-1, j-1)값이다.\n",
    "만약 그렇지 않다면: 1) 교체 m(i-1, j-1), 2) 삭제 m(i-1, j), 3)삽입 m(i, j -1) 중 최솟값 + 1이다.\n",
    "\"\"\"\"\"\"\"\"\"\""
   ]
  },
  {
   "cell_type": "markdown",
   "id": "5bc23f34",
   "metadata": {},
   "source": [
    "# 내 답안"
   ]
  },
  {
   "cell_type": "code",
   "execution_count": 5,
   "id": "605e4f64",
   "metadata": {},
   "outputs": [
    {
     "name": "stdout",
     "output_type": "stream",
     "text": [
      "sunday\n",
      "saturday\n",
      "3\n"
     ]
    }
   ],
   "source": [
    "A = input()\n",
    "B = input()\n",
    "len_A = len(A)\n",
    "len_B = len(B)\n",
    "m = [[0] * (len_B + 1) for _ in range(len_A + 1)]\n",
    "\n",
    "for i in range(len_A + 1):\n",
    "    m[i][0] = i\n",
    "for j in range(len_B + 1):\n",
    "    m[0][j] = j\n",
    "    \n",
    "for i in range(1, len_A + 1):\n",
    "    for j in range(1, len_B + 1):\n",
    "        if A[i-1] == B[j-1]:\n",
    "            m[i][j] = m[i-1][j-1]\n",
    "        else:\n",
    "            m[i][j] = min(m[i-1][j-1], m[i-1][j], m[i][j-1]) + 1\n",
    "print(m[len_A][len_B])"
   ]
  }
 ],
 "metadata": {
  "kernelspec": {
   "display_name": "Python 3 (ipykernel)",
   "language": "python",
   "name": "python3"
  },
  "language_info": {
   "codemirror_mode": {
    "name": "ipython",
    "version": 3
   },
   "file_extension": ".py",
   "mimetype": "text/x-python",
   "name": "python",
   "nbconvert_exporter": "python",
   "pygments_lexer": "ipython3",
   "version": "3.7.13"
  }
 },
 "nbformat": 4,
 "nbformat_minor": 5
}
