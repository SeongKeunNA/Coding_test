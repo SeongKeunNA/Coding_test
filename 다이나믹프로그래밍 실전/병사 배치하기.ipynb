{
 "cells": [
  {
   "cell_type": "markdown",
   "id": "6da7030a",
   "metadata": {},
   "source": [
    "# 코딩 전 생각"
   ]
  },
  {
   "cell_type": "code",
   "execution_count": null,
   "id": "a837e9f2",
   "metadata": {},
   "outputs": [],
   "source": []
  },
  {
   "cell_type": "code",
   "execution_count": null,
   "id": "5b03f47d",
   "metadata": {},
   "outputs": [],
   "source": [
    "i번째인 4를 지웠을 때의 최댓값: 지금까지의 열외인원 수 + 1 + 15 11 8 5 2 4 중 다음에 지울 수\n",
    "i+1번째인 8를 지웠을 때의 \n",
    "    "
   ]
  },
  {
   "cell_type": "code",
   "execution_count": 2,
   "id": "5082dadb",
   "metadata": {},
   "outputs": [
    {
     "ename": "SyntaxError",
     "evalue": "invalid syntax (Temp/ipykernel_3148/1109904118.py, line 1)",
     "output_type": "error",
     "traceback": [
      "\u001b[1;36m  File \u001b[1;32m\"C:\\Users\\NAJONG~1\\AppData\\Local\\Temp/ipykernel_3148/1109904118.py\"\u001b[1;36m, line \u001b[1;32m1\u001b[0m\n\u001b[1;33m    23 62 43 72 73 62 43\u001b[0m\n\u001b[1;37m       ^\u001b[0m\n\u001b[1;31mSyntaxError\u001b[0m\u001b[1;31m:\u001b[0m invalid syntax\n"
     ]
    }
   ],
   "source": [
    "10 9 8 34 37 69 72 70 \n",
    "\n",
    "8을지운다: 10이 맨앞이다. 이전까지 수중 34보다 높은값이 몇개냐: 1개다. 그러면 앞전체3-1= 2을 지워야한다.\n",
    "대신 \n",
    "34를 지운다: 42 9 8로가\n",
    "뒤에 8보다 작은 수 vs 앞에 34보다 큰 수\n",
    "\n",
    "\n",
    "\n",
    "\n",
    "\n",
    "\n",
    "\n",
    "최선: 48\n",
    "    \n",
    "\n",
    "\n",
    "39 38 37 36 21 43\n",
    "39 38 37 21 43\n",
    "49 23 22 21 43 1vs2 43x\n",
    "49 48 22 21 43 2vs1 43xd\n",
    "49 48 47 21 43 3vs1\n",
    "39 38 37 21 43\n",
    "15 11 4 8 3 2 1\n",
    "15 11 5 8 5 2 4\n",
    "\n",
    "뒤쪽(5,2,4)중 8보다 크거나 같은것: 0\n",
    "'' 4보다크거나 같은것:1\n",
    "즉, 4를 없앰.\n",
    "\n",
    "15 11 8 5 2 4\n",
    "\n",
    "a[0]: [0, 0, 0, 0, 1, 0]\n",
    "a[1]: a[0]\n",
    "a[1][data[i]] += 1\n",
    "a[1]:[0, 0, 1, 0, 1, 0]\n",
    "a[2]:[0, 0, 1, 0, 1, 1]\n",
    "...\n",
    "\n",
    "뒤쪽이 0: return value\n",
    "\n",
    "\n",
    "\n",
    "\n",
    "\n",
    "15 11 7 8 5 2 4\n",
    "\n",
    "\n",
    "49 48 47 21 43 \n",
    "147 24 23 22 21 43\n",
    "147 38 37 36 21 43\n",
    "\n",
    "리스트에서 i+1번째보다 큰 수와 작은수를 비교해서..\n",
    "\n"
   ]
  },
  {
   "cell_type": "code",
   "execution_count": null,
   "id": "63c96848",
   "metadata": {},
   "outputs": [],
   "source": [
    "5 3 6 2 4 1 \n",
    "6 5 4 3 2 1\n",
    "\n",
    "8 7 3 6 1 \n",
    "\n",
    "5 4 3 6 33\n",
    "\n",
    "a[0]: [0, 0, 0, 0, 1, 0]\n",
    "a[1]: a[0]\n",
    "a[1][data[i]] += 1\n",
    "a[1]:[0, 0, 1, 0, 1, 0]\n",
    "a[2]:[0, 0, 1, 0, 1, 1]\n",
    "...\n",
    "if data[i] < data[i+1]:\n",
    "    left = sum(a[i-1][:data[i]+1])"
   ]
  },
  {
   "cell_type": "code",
   "execution_count": 1,
   "id": "30d30530",
   "metadata": {},
   "outputs": [
    {
     "data": {
      "text/plain": [
       "4"
      ]
     },
     "execution_count": 1,
     "metadata": {},
     "output_type": "execute_result"
    }
   ],
   "source": [
    "a= [1, 4, 2, 3]\n",
    "a[1]"
   ]
  }
 ],
 "metadata": {
  "kernelspec": {
   "display_name": "pytorch",
   "language": "python",
   "name": "pt1.1"
  },
  "language_info": {
   "codemirror_mode": {
    "name": "ipython",
    "version": 3
   },
   "file_extension": ".py",
   "mimetype": "text/x-python",
   "name": "python",
   "nbconvert_exporter": "python",
   "pygments_lexer": "ipython3",
   "version": "3.9.7"
  }
 },
 "nbformat": 4,
 "nbformat_minor": 5
}
