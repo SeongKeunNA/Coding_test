{
 "cells": [
  {
   "cell_type": "markdown",
   "id": "d8e3167d",
   "metadata": {},
   "source": [
    "# 코딩 전 생각"
   ]
  },
  {
   "cell_type": "code",
   "execution_count": null,
   "id": "740aa065",
   "metadata": {},
   "outputs": [],
   "source": [
    "\"\"\"\"\"\"\"\"\"\"\n",
    "1. 못생긴 수를 순서대로 담는 리스트 a를 선언하고 값을 모두 1로 초기화한다.\n",
    "\n",
    "2. 리스트에서 각각 2, 3, 5를 곱해야 할 인덱스 변수 idx2, idx3, idx5를 선언하고 모두 1로 초기화한다.\n",
    "\n",
    "3. 1부터 n-1까지 반복하여(i) idx2 * 2와 idx3 * 3, idx5 * 5중 최솟값을 a[i]의 값으로 초기화한다.\n",
    "이후 최솟값에 해당하는 idx변수를 1 증가시킨다.\n",
    "\"\"\"\"\"\"\"\"\"\""
   ]
  },
  {
   "cell_type": "markdown",
   "id": "14c713e8",
   "metadata": {},
   "source": [
    "# 내 답안"
   ]
  },
  {
   "cell_type": "code",
   "execution_count": 5,
   "id": "e9ac4cc9",
   "metadata": {},
   "outputs": [
    {
     "name": "stdout",
     "output_type": "stream",
     "text": [
      "10\n",
      "12\n"
     ]
    }
   ],
   "source": [
    "n = int(input()) \n",
    "a = [1] * n \n",
    "idx2, idx3, idx5 = 0, 0, 0 \n",
    "for i in range(1, n): \n",
    "    a[i] = min(a[idx2] * 2, a[idx3] * 3, a[idx5] * 5)\n",
    "    if a[i] == a[idx2] * 2:\n",
    "        idx2 += 1\n",
    "    if a[i] == a[idx3] * 3:\n",
    "        idx3 += 1\n",
    "    if a[i] == a[idx5] * 5:\n",
    "        idx5 += 1\n",
    "print(a[n-1])"
   ]
  }
 ],
 "metadata": {
  "kernelspec": {
   "display_name": "Python 3 (ipykernel)",
   "language": "python",
   "name": "python3"
  },
  "language_info": {
   "codemirror_mode": {
    "name": "ipython",
    "version": 3
   },
   "file_extension": ".py",
   "mimetype": "text/x-python",
   "name": "python",
   "nbconvert_exporter": "python",
   "pygments_lexer": "ipython3",
   "version": "3.7.13"
  }
 },
 "nbformat": 4,
 "nbformat_minor": 5
}
