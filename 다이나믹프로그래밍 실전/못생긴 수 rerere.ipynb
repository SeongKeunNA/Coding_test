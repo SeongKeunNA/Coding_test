{
 "cells": [
  {
   "cell_type": "markdown",
   "id": "5d1369eb",
   "metadata": {},
   "source": [
    "# 코딩 전 생각"
   ]
  },
  {
   "cell_type": "code",
   "execution_count": null,
   "id": "c30ab9be",
   "metadata": {},
   "outputs": [],
   "source": [
    "\"\"\"\"\"\"\"\"\"\"\n",
    "\n",
    "a[0] = 1, temp = [0, 0, 0]\n",
    "a[1] = min(a[temp[0]] * 2, a[0] * a[temp[1]] * 3, a[temp[2]] * 5 = 2, temp = [1, 0, 0]\n",
    "a[2] = min(a[temp[0]] * 2, a[0] * a[temp[1]] * 3, a[temp[2]] * 5 = 3, temp = [1, 1, 0]\n",
    "a[3] = min(4, 6, 5) = 4, temp = [2, 1, 0]\n",
    "a[4] = min(6, 6, 5) = 5 temp = [2, 1, 1]\n",
    "a[5] = min(6, 6, 10) = 6 temp = [3, 1, 1]\n",
    "a[6] = min(8, 6, 10) = 6, temp = [4, 1, 1] or a[6] = \n",
    ". 3, 2, 1 6,9, 10\n",
    ".\n",
    ".\n",
    "\"\"\"\"\"\"\"\"\"\""
   ]
  },
  {
   "cell_type": "markdown",
   "id": "e174c452",
   "metadata": {},
   "source": [
    "# 내 답안"
   ]
  },
  {
   "cell_type": "code",
   "execution_count": 14,
   "id": "1edf29bc",
   "metadata": {},
   "outputs": [
    {
     "name": "stdout",
     "output_type": "stream",
     "text": [
      "4\n",
      "4\n"
     ]
    }
   ],
   "source": [
    "n = int(input())\n",
    "a = [1] * n\n",
    "temp = [0] * 3\n",
    "for i in range(1, n):\n",
    "    a[i] = min(a[temp[0]] * 2, a[temp[1]] * 3, a[temp[2]] * 5)\n",
    "    if a[i] == a[temp[0]] * 2:\n",
    "        temp[0] += 1\n",
    "    if a[i] == a[temp[1]] * 3:\n",
    "        temp[1] += 1\n",
    "    if a[i] == a[temp[2]] * 5:\n",
    "        temp[2] += 1\n",
    "print(a[n-1])"
   ]
  },
  {
   "cell_type": "markdown",
   "id": "25a81075",
   "metadata": {},
   "source": [
    "# 정답 확인 후 생각"
   ]
  },
  {
   "cell_type": "code",
   "execution_count": null,
   "id": "c5f86582",
   "metadata": {},
   "outputs": [],
   "source": [
    "\"\"\"\"\"\"\"\"\"\"\n",
    "다음 값으로 가능한 값이 여러 개일 경우 해당하는 temp 리스트의 값을 모두 +1해야하는 것에 주의하자.\n",
    "\"\"\"\"\"\"\"\"\"\""
   ]
  }
 ],
 "metadata": {
  "kernelspec": {
   "display_name": "Python 3 (ipykernel)",
   "language": "python",
   "name": "python3"
  },
  "language_info": {
   "codemirror_mode": {
    "name": "ipython",
    "version": 3
   },
   "file_extension": ".py",
   "mimetype": "text/x-python",
   "name": "python",
   "nbconvert_exporter": "python",
   "pygments_lexer": "ipython3",
   "version": "3.7.13"
  }
 },
 "nbformat": 4,
 "nbformat_minor": 5
}
