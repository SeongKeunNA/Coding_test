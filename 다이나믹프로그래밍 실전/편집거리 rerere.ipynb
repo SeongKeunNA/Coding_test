{
 "cells": [
  {
   "cell_type": "markdown",
   "id": "b69f0c0c",
   "metadata": {},
   "source": [
    "# 코딩 전 생각"
   ]
  },
  {
   "cell_type": "code",
   "execution_count": null,
   "id": "ff9927ad",
   "metadata": {},
   "outputs": [],
   "source": [
    "\"\"\"\"\"\"\"\"\"\"\n",
    "문자열 A를 행으로, 문자열 B를 열로 가지는 변환 행렬을 만든다.\n",
    "\n",
    "이 때 행렬에서 i행 j열에 적힌 숫자는,\n",
    "\n",
    "문자열 A의 i번째까지의 문자열에서 문자열 B의 j번째 글자까지의 문자열로 만드는 데 필요한 최소 편집거리이다.\n",
    "\n",
    "우선 행렬의 모든 값을 0으로 초기화한 뒤에, 0행의 모든 열과 0열의 모든 행에 1을 대입한다.\n",
    "\n",
    "  @ s a t u r d a y\n",
    "@ 0 1 2 3 4 5 6 7 8\n",
    "s 1 0 0 0 0 0 0 0 0\n",
    "u 2 0 0 0 0 0 0 0 0\n",
    "n 3 0 0 0 0 0 0 0 0\n",
    "d 4 0 0 0 0 0 0 0 0\n",
    "a 5 0 0 0 0 0 0 0 0\n",
    "y 6 0 0 0 0 0 0 0 0\n",
    "- 7 0 0 0 0 0 0 0 0\n",
    "- 8 0 0 0 0 0 0 0 0\n",
    "\n",
    "나머지는 이중 for 문을 반복하여 채우는데, 이 때 a[i-1] == b[i-1]이라면 t[i][j] = t[i-1][j-1]이고, 아니라면\n",
    "\n",
    "min(t[i-1][j] + 1, t[i][j-1] + 1, t[i-1][j-1] + 1)이다.\n",
    "\n",
    "이는 각각 삭제/삽입/교체 연산에 해당한다. \n",
    "ejhja\n",
    "abddu\n",
    "\n",
    "\"\"\"\"\"\"\"\"\"\""
   ]
  },
  {
   "cell_type": "markdown",
   "id": "97c0bfdc",
   "metadata": {},
   "source": [
    "# 내 답안"
   ]
  },
  {
   "cell_type": "code",
   "execution_count": 20,
   "id": "b8ed6781",
   "metadata": {},
   "outputs": [
    {
     "name": "stdout",
     "output_type": "stream",
     "text": [
      "sunday\n",
      "saturday\n",
      "[0, 1, 2, 3, 4, 5, 6, 7, 8]\n",
      "[1, 0, 1, 2, 3, 4, 5, 6, 7]\n",
      "[2, 1, 1, 2, 2, 3, 4, 5, 6]\n",
      "[3, 2, 2, 2, 3, 3, 4, 5, 6]\n",
      "[4, 3, 3, 3, 3, 4, 3, 4, 5]\n",
      "[5, 4, 3, 4, 4, 4, 4, 3, 4]\n",
      "[6, 5, 4, 4, 5, 5, 5, 4, 3]\n",
      "[7, 0, 0, 0, 0, 0, 0, 0, 0]\n",
      "[8, 0, 0, 0, 0, 0, 0, 0, 0]\n",
      "3\n"
     ]
    }
   ],
   "source": [
    "a = input()\n",
    "b = input()\n",
    "length = max(len(a), len(b)) + 1\n",
    "t = [[0] * length for _ in range(length)]\n",
    "for i in range(1, length):\n",
    "    t[i][0] = i\n",
    "    t[0][i] = i\n",
    "for i in range(1, len(a)+1):\n",
    "    for j in range(1, len(b)+1):\n",
    "        if a[i-1] == b[j-1]:\n",
    "            t[i][j] = t[i-1][j-1]\n",
    "        else:\n",
    "            t[i][j] = min(t[i-1][j] + 1, t[i][j-1] + 1, t[i-1][j-1] + 1) \n",
    "            \n",
    "for i in t:\n",
    "    print(i)\n",
    "print(t[len(a)][len(b)])"
   ]
  },
  {
   "cell_type": "markdown",
   "id": "362e3c7b",
   "metadata": {},
   "source": [
    "# 정답"
   ]
  },
  {
   "cell_type": "code",
   "execution_count": 18,
   "id": "2b325059",
   "metadata": {},
   "outputs": [
    {
     "name": "stdout",
     "output_type": "stream",
     "text": [
      "sunday\n",
      "saturday\n",
      "3\n"
     ]
    }
   ],
   "source": [
    "def edit_dist(str1, str2):\n",
    "    n = len(str1)\n",
    "    m = len(str2)\n",
    "    dp = [[0] * (m + 1) for _ in range(n + 1)]\n",
    "    for i in range(1, n + 1):\n",
    "        dp[i][0] = i\n",
    "    for j in range(1, m + 1):\n",
    "        dp[0][j] = j\n",
    "    for i in range(1, n + 1):\n",
    "        for j in range(1, m + 1):\n",
    "            if str1[i - 1] == str2[j - 1]:\n",
    "                dp[i][j] = dp[i - 1][j - 1]\n",
    "            else:\n",
    "                dp[i][j] = 1 + min(dp[i][j-1], dp[i-1][j], dp[i-1][j-1])\n",
    "    return dp[n][m]\n",
    "str1 = input()\n",
    "str2 = input()\n",
    "print(edit_dist(str1, str2))"
   ]
  },
  {
   "cell_type": "markdown",
   "id": "0a9d91e7",
   "metadata": {},
   "source": [
    "# 정답 확인 후 생각"
   ]
  },
  {
   "cell_type": "code",
   "execution_count": null,
   "id": "f69a371d",
   "metadata": {},
   "outputs": [],
   "source": [
    "\"\"\"\"\"\"\"\"\"\"\n",
    "행렬의 i행 j열 값을 구할 때 문자열 a와 문자열 b의 몇 번째 글자인지에 상관없이\n",
    "\n",
    "해당 글자가 서로 같다면 바로 전 글자까지의 편집 거리(dp[i-1][j-1])를 그대로 쓸 수 있다.\n",
    "\"\"\"\"\"\"\"\"\"\""
   ]
  }
 ],
 "metadata": {
  "kernelspec": {
   "display_name": "Python 3 (ipykernel)",
   "language": "python",
   "name": "python3"
  },
  "language_info": {
   "codemirror_mode": {
    "name": "ipython",
    "version": 3
   },
   "file_extension": ".py",
   "mimetype": "text/x-python",
   "name": "python",
   "nbconvert_exporter": "python",
   "pygments_lexer": "ipython3",
   "version": "3.7.13"
  }
 },
 "nbformat": 4,
 "nbformat_minor": 5
}
