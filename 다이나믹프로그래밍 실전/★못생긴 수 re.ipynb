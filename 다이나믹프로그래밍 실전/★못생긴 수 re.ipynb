{
 "cells": [
  {
   "cell_type": "markdown",
   "id": "fd66945f",
   "metadata": {},
   "source": [
    "# 코딩 전 생각"
   ]
  },
  {
   "cell_type": "code",
   "execution_count": null,
   "id": "4908fe6c",
   "metadata": {},
   "outputs": [],
   "source": [
    "\"\"\"\"\"\"\"\"\"\"\n",
    "1에다가 2,3,5배 2에다가2,3,5배 3에다가 2,3,5배 4에다가2,3,5배,,,이런식!\n",
    "tmp = [1, 1, 1] # 다음 곱할 value\n",
    "a[0] = 1 \n",
    "a[1] = 2 # (2, 3, 5) 중 최소인 2 tmp = [2, 1, 1] a[1] a[0] a[0]\n",
    "a[2] = 3 # (4,3,5)중 최소인3 tmp = [2, 2, 1] a[1] a[1] a[0]\n",
    "a[3] = 4 # (4, 6, 5)중최소인 4 tmp = [3, 2, 1] a[2] a[1] a[0]\n",
    "a[4] = 5 # (6, 6, 5)중 최소인 5 tmp = [3,2,2] a[2]a[1]a[1]\n",
    "a[5] = 6 # (6,6,10)중 최소인 6 tmp = [4, 3, 2] a[3]a[2]a[1]\n",
    "a[6] = 8 # (8, 9, 10)중 최소인 8 tmp = [5, 3, 2] \n",
    "a[7] = 9 # (10, 9, 10)중 최소인 9 tmp = [5, 4, 2]\n",
    "a[8] = 10 # (10, 12, 10)중 최소인 10 tmp = [6, 4, 3]\n",
    "a[9] = 12 #(12, 12, 15)중 최소인 12 tmp = [7, 4, 4]\n",
    "a[10] = 15 # (14,)\n",
    ".\n",
    ".\n",
    ".\n",
    "\"\"\"\"\"\"\"\"\"\""
   ]
  },
  {
   "cell_type": "markdown",
   "id": "edd14b46",
   "metadata": {},
   "source": [
    "# 내 답안"
   ]
  },
  {
   "cell_type": "code",
   "execution_count": 3,
   "id": "08a1780d",
   "metadata": {},
   "outputs": [
    {
     "name": "stdout",
     "output_type": "stream",
     "text": [
      "4\n",
      "4\n"
     ]
    }
   ],
   "source": [
    "n = int(input())\n",
    "a = [1] * n\n",
    "tmp = [0, 0, 0]\n",
    "for i in range(1, n):\n",
    "    possible = [a[tmp[0]] * 2, a[tmp[1]] * 3, a[tmp[2]] * 5]\n",
    "    value = min(possible)\n",
    "    for j in range(3):\n",
    "        if possible[j] == value:\n",
    "            tmp[j] += 1\n",
    "    a[i] = value\n",
    "print(a[n-1])"
   ]
  },
  {
   "cell_type": "markdown",
   "id": "df775ce8",
   "metadata": {},
   "source": [
    "# 답안 작성 후 생각"
   ]
  },
  {
   "cell_type": "code",
   "execution_count": null,
   "id": "ba73b732",
   "metadata": {},
   "outputs": [],
   "source": [
    "\"\"\"\"\"\"\"\"\"\"\n",
    "이 문제 역시 정확한 풀이 과정을 떠올리는 데 오랜 시간이 걸렸다.\n",
    "\n",
    "못생긴수 인덱스를 담은 tmp 리스트를 활용하여 2, 3, 5를 곱할 다음 숫자를 구하고 그 중 최솟값을 n번째 못생긴 수로 정한다.\n",
    "\"\"\"\"\"\"\"\"\"\""
   ]
  },
  {
   "cell_type": "markdown",
   "id": "d1765a5c",
   "metadata": {},
   "source": [
    "# 정답"
   ]
  },
  {
   "cell_type": "code",
   "execution_count": null,
   "id": "71133a1d",
   "metadata": {},
   "outputs": [],
   "source": [
    "n = int(input())\n",
    "\n",
    "ugly = [0] * n\n",
    "ugly[0] = 1\n",
    "i2 = i3 = i5 = 0\n",
    "next2, next3, next5 = 2, 3, 5\n",
    "\n",
    "for i in range(1, n):\n",
    "    ugly[i] = min(next2, next3, next5)\n",
    "    if ugly[i] == next2:\n",
    "        i2 += 1\n",
    "        next2 = ugly[i2] * 2\n",
    "    if ugly[i] == next3:\n",
    "        i3 += 1\n",
    "        next3 = ugly[i3] * 3\n",
    "    if ugly[i] = next5:\n",
    "        i5 += 1\n",
    "        next5 = ugly[i5] * 5\n",
    "print(ugly[n - 1])"
   ]
  },
  {
   "cell_type": "markdown",
   "id": "d0f3e8e1",
   "metadata": {},
   "source": [
    "# 정답 확인 후 생각"
   ]
  },
  {
   "cell_type": "code",
   "execution_count": null,
   "id": "df72e6af",
   "metadata": {},
   "outputs": [],
   "source": [
    "\"\"\"\"\"\"\"\"\"\"\n",
    "이상 무\n",
    "\"\"\"\"\"\"\"\"\"\""
   ]
  }
 ],
 "metadata": {
  "kernelspec": {
   "display_name": "Python 3 (ipykernel)",
   "language": "python",
   "name": "python3"
  },
  "language_info": {
   "codemirror_mode": {
    "name": "ipython",
    "version": 3
   },
   "file_extension": ".py",
   "mimetype": "text/x-python",
   "name": "python",
   "nbconvert_exporter": "python",
   "pygments_lexer": "ipython3",
   "version": "3.7.13"
  }
 },
 "nbformat": 4,
 "nbformat_minor": 5
}
