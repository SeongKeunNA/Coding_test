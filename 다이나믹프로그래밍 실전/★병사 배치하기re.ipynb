{
 "cells": [
  {
   "cell_type": "markdown",
   "id": "b863cd36",
   "metadata": {},
   "source": [
    "# 코딩 전 생각"
   ]
  },
  {
   "cell_type": "code",
   "execution_count": null,
   "id": "119d5669",
   "metadata": {},
   "outputs": [],
   "source": [
    "\"\"\"\"\"\"\"\"\"\"\n",
    "주어진 입력이 15 11 4 8 5 2 4이라고하자.\n",
    "\n",
    "이 때 맨 뒤에서 한 칸 앞에서부터 뒤로(2에서부터 15로) 반복하면서 해당 전투력을 가진 병사를 열외시킬지/말지를 결정한다.\n",
    "\n",
    "먼저, 맨 뒤의 병사는 열외시키지 않아도 된다 (d[n - 1] = 0)\n",
    "\n",
    "또한, 바로 전의 전투력보다 높은 전투력을 가진 병사가 있을 때는 d[i] = d[i + 1]이다.\n",
    "\n",
    "그렇지 않은 경우에는 해당하는 병사를 열외시킬지 말지를 결정해야 한다.\n",
    "\n",
    "예를 들어, 2 - 4의 열에서 1) 전투력 2의 병사를 제외할 경우: 전투력 4의 병사만 남는다, (d[i + 1]) (1) \n",
    "2) 전투력 2의 병사를 제외하지 않을 경우: 2에서부터 마지막 병사까지 확인하여 최소 열외 수를 확인한다. 4를 열외해야하니 (1)\n",
    "\n",
    "또 다른 예로 4 - 8 - 5 - 2 - 4에서는  3333333111112221111\n",
    "\n",
    "1) 4의 병사를 제외할 경우: d[i + 1], 2) 4의 병사를 제외하지 않을 경우: 4보다 작거나 같은 값을 찾고 (cnt)\n",
    "\n",
    "그 이후의 최소 열외 값과 cnt값을 더한 값을 1)의 경우와 비교하여 더 작은 값을 선택하여 병사를 제외하고 d[i]에 대입한다.\n",
    "\"\"\"\"\"\"\"\"\"\""
   ]
  },
  {
   "cell_type": "code",
   "execution_count": null,
   "id": "ec770af9",
   "metadata": {},
   "outputs": [],
   "source": [
    "10 7 9 8  /  11 10 7 9 8"
   ]
  },
  {
   "cell_type": "code",
   "execution_count": 15,
   "id": "4a5c4c2b",
   "metadata": {},
   "outputs": [
    {
     "name": "stdout",
     "output_type": "stream",
     "text": [
      "20\n",
      "16 6 1 8 13 12 15 15 18 8 18 9 13 12 5 16 13 15 18 1\n",
      "[9, 9, 9, 8, 7, 7, 6, 6, 5, 5, 4, 4, 3, 3, 3, 2, 2, 1, 0, 0]\n"
     ]
    }
   ],
   "source": [
    "n = int(input())\n",
    "array = list(map(int, input().split()))\n",
    "d = [0] * n\n",
    "for i in range(n-2, -1, -1):\n",
    "    if array[i] > array[i + 1]:\n",
    "        d[i] = d[i + 1]\n",
    "    else:\n",
    "        value = 1e9\n",
    "        cnt = 0\n",
    "        for j in range(i + 1, n):\n",
    "            if array[j] <= array[i]:\n",
    "                value = cnt + d[j]\n",
    "                break\n",
    "            else:\n",
    "                cnt += 1\n",
    "        else:\n",
    "            value = cnt\n",
    "        d[i] = min(d[i + 1] + 1, value)\n",
    "print(d)        "
   ]
  },
  {
   "cell_type": "code",
   "execution_count": 12,
   "id": "c8fbd8d3",
   "metadata": {},
   "outputs": [],
   "source": [
    "import random"
   ]
  },
  {
   "cell_type": "code",
   "execution_count": 14,
   "id": "f9205a08",
   "metadata": {},
   "outputs": [
    {
     "data": {
      "text/plain": [
       "'16 6 1 8 13 12 15 15 18 8 18 9 13 12 5 16 13 15 18 1'"
      ]
     },
     "execution_count": 14,
     "metadata": {},
     "output_type": "execute_result"
    }
   ],
   "source": [
    "'16, 6, 1, 8, 13, 12, 15, 15, 18, 8, 18, 9, 13, 12, 5, 16, 13, 15, 18, 1'.replace(',', '')"
   ]
  },
  {
   "cell_type": "markdown",
   "id": "cef1ecc0",
   "metadata": {},
   "source": [
    "# 답안 작성 후 생각"
   ]
  },
  {
   "cell_type": "code",
   "execution_count": null,
   "id": "c61316e8",
   "metadata": {},
   "outputs": [],
   "source": [
    "\"\"\"\"\"\"\"\"\"\"\n",
    "교재에 표기된 난이도는 별 1.5개이지만, 다이나믹 프로그래밍 실전 문제 중 어려운 편인 것 같다.\n",
    "\n",
    "다시 푸는 것임에도 오랜 시간 고민하다가 풀이 아이디어를 떠올렸다.\n",
    "\n",
    "주어진 입력 예시에 대해서는 정답을 출력하지만 백준에서는 바로 오답이라고 기록된다.\n",
    "\n",
    "random한 입력 예시를 만들어 결과를 살펴보아도 어디가 잘못됐는지 파악하기가 어렵다.\n",
    "\n",
    "답지 초반 부분까지만 읽고 다시 도전해보자.\n",
    "\"\"\"\"\"\"\"\"\"\""
   ]
  },
  {
   "cell_type": "markdown",
   "id": "e09a7dfb",
   "metadata": {},
   "source": [
    "# 내 답안2"
   ]
  },
  {
   "cell_type": "code",
   "execution_count": 23,
   "id": "69703b0f",
   "metadata": {
    "collapsed": true
   },
   "outputs": [
    {
     "ename": "KeyboardInterrupt",
     "evalue": "Interrupted by user",
     "output_type": "error",
     "traceback": [
      "\u001b[1;31m---------------------------------------------------------------------------\u001b[0m",
      "\u001b[1;31mKeyboardInterrupt\u001b[0m                         Traceback (most recent call last)",
      "\u001b[1;32m~\\AppData\\Local\\Temp\\ipykernel_25972\\1757007005.py\u001b[0m in \u001b[0;36m<module>\u001b[1;34m\u001b[0m\n\u001b[1;32m----> 1\u001b[1;33m \u001b[0mn\u001b[0m \u001b[1;33m=\u001b[0m \u001b[0mint\u001b[0m\u001b[1;33m(\u001b[0m\u001b[0minput\u001b[0m\u001b[1;33m(\u001b[0m\u001b[1;33m)\u001b[0m\u001b[1;33m)\u001b[0m\u001b[1;33m\u001b[0m\u001b[1;33m\u001b[0m\u001b[0m\n\u001b[0m\u001b[0;32m      2\u001b[0m \u001b[0marray\u001b[0m \u001b[1;33m=\u001b[0m \u001b[0mlist\u001b[0m\u001b[1;33m(\u001b[0m\u001b[0mmap\u001b[0m\u001b[1;33m(\u001b[0m\u001b[0mint\u001b[0m\u001b[1;33m,\u001b[0m \u001b[0minput\u001b[0m\u001b[1;33m(\u001b[0m\u001b[1;33m)\u001b[0m\u001b[1;33m.\u001b[0m\u001b[0msplit\u001b[0m\u001b[1;33m(\u001b[0m\u001b[1;33m)\u001b[0m\u001b[1;33m)\u001b[0m\u001b[1;33m)\u001b[0m\u001b[1;33m[\u001b[0m\u001b[1;33m:\u001b[0m\u001b[1;33m:\u001b[0m\u001b[1;33m-\u001b[0m\u001b[1;36m1\u001b[0m\u001b[1;33m]\u001b[0m\u001b[1;33m\u001b[0m\u001b[1;33m\u001b[0m\u001b[0m\n\u001b[0;32m      3\u001b[0m \u001b[0md\u001b[0m \u001b[1;33m=\u001b[0m \u001b[1;33m[\u001b[0m\u001b[1;36m1\u001b[0m\u001b[1;33m]\u001b[0m \u001b[1;33m*\u001b[0m \u001b[0mn\u001b[0m\u001b[1;33m\u001b[0m\u001b[1;33m\u001b[0m\u001b[0m\n\u001b[0;32m      4\u001b[0m \u001b[1;32mfor\u001b[0m \u001b[0mi\u001b[0m \u001b[1;32min\u001b[0m \u001b[0mrange\u001b[0m\u001b[1;33m(\u001b[0m\u001b[0mn\u001b[0m\u001b[1;33m)\u001b[0m\u001b[1;33m:\u001b[0m\u001b[1;33m\u001b[0m\u001b[1;33m\u001b[0m\u001b[0m\n\u001b[0;32m      5\u001b[0m     \u001b[1;32mfor\u001b[0m \u001b[0mj\u001b[0m \u001b[1;32min\u001b[0m \u001b[0mrange\u001b[0m\u001b[1;33m(\u001b[0m\u001b[0mi\u001b[0m\u001b[1;33m)\u001b[0m\u001b[1;33m:\u001b[0m\u001b[1;33m\u001b[0m\u001b[1;33m\u001b[0m\u001b[0m\n",
      "\u001b[1;32mD:\\userDATA\\anaconda3\\envs\\py37\\lib\\site-packages\\ipykernel\\kernelbase.py\u001b[0m in \u001b[0;36mraw_input\u001b[1;34m(self, prompt)\u001b[0m\n\u001b[0;32m   1077\u001b[0m             \u001b[0mself\u001b[0m\u001b[1;33m.\u001b[0m\u001b[0m_parent_ident\u001b[0m\u001b[1;33m[\u001b[0m\u001b[1;34m\"shell\"\u001b[0m\u001b[1;33m]\u001b[0m\u001b[1;33m,\u001b[0m\u001b[1;33m\u001b[0m\u001b[1;33m\u001b[0m\u001b[0m\n\u001b[0;32m   1078\u001b[0m             \u001b[0mself\u001b[0m\u001b[1;33m.\u001b[0m\u001b[0mget_parent\u001b[0m\u001b[1;33m(\u001b[0m\u001b[1;34m\"shell\"\u001b[0m\u001b[1;33m)\u001b[0m\u001b[1;33m,\u001b[0m\u001b[1;33m\u001b[0m\u001b[1;33m\u001b[0m\u001b[0m\n\u001b[1;32m-> 1079\u001b[1;33m             \u001b[0mpassword\u001b[0m\u001b[1;33m=\u001b[0m\u001b[1;32mFalse\u001b[0m\u001b[1;33m,\u001b[0m\u001b[1;33m\u001b[0m\u001b[1;33m\u001b[0m\u001b[0m\n\u001b[0m\u001b[0;32m   1080\u001b[0m         )\n\u001b[0;32m   1081\u001b[0m \u001b[1;33m\u001b[0m\u001b[0m\n",
      "\u001b[1;32mD:\\userDATA\\anaconda3\\envs\\py37\\lib\\site-packages\\ipykernel\\kernelbase.py\u001b[0m in \u001b[0;36m_input_request\u001b[1;34m(self, prompt, ident, parent, password)\u001b[0m\n\u001b[0;32m   1118\u001b[0m             \u001b[1;32mexcept\u001b[0m \u001b[0mKeyboardInterrupt\u001b[0m\u001b[1;33m:\u001b[0m\u001b[1;33m\u001b[0m\u001b[1;33m\u001b[0m\u001b[0m\n\u001b[0;32m   1119\u001b[0m                 \u001b[1;31m# re-raise KeyboardInterrupt, to truncate traceback\u001b[0m\u001b[1;33m\u001b[0m\u001b[1;33m\u001b[0m\u001b[1;33m\u001b[0m\u001b[0m\n\u001b[1;32m-> 1120\u001b[1;33m                 \u001b[1;32mraise\u001b[0m \u001b[0mKeyboardInterrupt\u001b[0m\u001b[1;33m(\u001b[0m\u001b[1;34m\"Interrupted by user\"\u001b[0m\u001b[1;33m)\u001b[0m \u001b[1;32mfrom\u001b[0m \u001b[1;32mNone\u001b[0m\u001b[1;33m\u001b[0m\u001b[1;33m\u001b[0m\u001b[0m\n\u001b[0m\u001b[0;32m   1121\u001b[0m             \u001b[1;32mexcept\u001b[0m \u001b[0mException\u001b[0m\u001b[1;33m:\u001b[0m\u001b[1;33m\u001b[0m\u001b[1;33m\u001b[0m\u001b[0m\n\u001b[0;32m   1122\u001b[0m                 \u001b[0mself\u001b[0m\u001b[1;33m.\u001b[0m\u001b[0mlog\u001b[0m\u001b[1;33m.\u001b[0m\u001b[0mwarning\u001b[0m\u001b[1;33m(\u001b[0m\u001b[1;34m\"Invalid Message:\"\u001b[0m\u001b[1;33m,\u001b[0m \u001b[0mexc_info\u001b[0m\u001b[1;33m=\u001b[0m\u001b[1;32mTrue\u001b[0m\u001b[1;33m)\u001b[0m\u001b[1;33m\u001b[0m\u001b[1;33m\u001b[0m\u001b[0m\n",
      "\u001b[1;31mKeyboardInterrupt\u001b[0m: Interrupted by user"
     ]
    }
   ],
   "source": [
    "n = int(input())\n",
    "array = list(map(int, input().split()))[::-1]\n",
    "d = [1] * n\n",
    "for i in range(n):\n",
    "    for j in range(i):\n",
    "        if array[j] < array[i]:\n",
    "            d[i] = max(d[i], d[j] + 1)\n",
    "print(n - max(d))"
   ]
  },
  {
   "cell_type": "markdown",
   "id": "aaf120bd",
   "metadata": {},
   "source": [
    "# 2차 답안 작성 후 생각"
   ]
  },
  {
   "cell_type": "code",
   "execution_count": null,
   "id": "0f235098",
   "metadata": {},
   "outputs": [],
   "source": [
    "\"\"\"\"\"\"\"\"\"\"\n",
    "답지 첫 부분을 보니 내 풀이와 접근 방식부터 달랐다. \n",
    "\n",
    "이중 for문을 돌면서 현재 확인하는 위치 이전의 위치에 있는 병사들의 전투력이 이전보다 크다면 d[i] 값을 갱신한다.\n",
    "\n",
    "3차 답안으로 증가하는 부분수열문제가 아닌 감소하는 부분수열 문제로도 풀어보았다.\n",
    "\"\"\"\"\"\"\"\"\"\""
   ]
  },
  {
   "cell_type": "markdown",
   "id": "76be8cea",
   "metadata": {},
   "source": [
    "# 3차 답안"
   ]
  },
  {
   "cell_type": "code",
   "execution_count": null,
   "id": "e31d5722",
   "metadata": {},
   "outputs": [],
   "source": [
    "n = int(input())\n",
    "array = list(map(int, input().split()))\n",
    "d = [1] * n\n",
    "for i in range(n):\n",
    "    for j in range(i):\n",
    "        if array[j] > array[i]:\n",
    "            d[i] = max(d[i], d[j] + 1)\n",
    "print(n - max(d))"
   ]
  },
  {
   "cell_type": "markdown",
   "id": "d6d2257f",
   "metadata": {},
   "source": [
    "# 정답"
   ]
  },
  {
   "cell_type": "code",
   "execution_count": null,
   "id": "f6a5cb9c",
   "metadata": {},
   "outputs": [],
   "source": [
    "n = int(input())\n",
    "array = list(map(int, input().split()))\n",
    "array.reverse()\n",
    "dp= [1] * n\n",
    "for i in range(1, n):\n",
    "    for j in range(0, i):\n",
    "        if array[j] < array[i]:\n",
    "            d[i] = max(d[i], d[j] + 1)\n",
    "print(n - max(dp))"
   ]
  },
  {
   "cell_type": "markdown",
   "id": "d58908a2",
   "metadata": {},
   "source": [
    "# 정답 확인 후 생각"
   ]
  },
  {
   "cell_type": "code",
   "execution_count": null,
   "id": "21e9a291",
   "metadata": {},
   "outputs": [],
   "source": [
    "\"\"\"\"\"\"\"\"\"\n",
    "이상 무 \n",
    "\"\"\"\"\"\"\"\"\""
   ]
  }
 ],
 "metadata": {
  "kernelspec": {
   "display_name": "Python 3 (ipykernel)",
   "language": "python",
   "name": "python3"
  },
  "language_info": {
   "codemirror_mode": {
    "name": "ipython",
    "version": 3
   },
   "file_extension": ".py",
   "mimetype": "text/x-python",
   "name": "python",
   "nbconvert_exporter": "python",
   "pygments_lexer": "ipython3",
   "version": "3.7.13"
  }
 },
 "nbformat": 4,
 "nbformat_minor": 5
}
