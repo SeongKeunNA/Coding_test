{
 "cells": [
  {
   "cell_type": "markdown",
   "id": "1d89d324",
   "metadata": {},
   "source": [
    "# 코딩 전 생각"
   ]
  },
  {
   "cell_type": "code",
   "execution_count": null,
   "id": "a6799512",
   "metadata": {},
   "outputs": [],
   "source": [
    "\"\"\"\"\"\"\"\"\"\"\n",
    "매 n일 마다 루프를 돌린다. i: (1~n+1)\n",
    "\n",
    "만약, t[i] + i > n이라면 continue한다. \n",
    "\n",
    "루프 안에서 n-1일부터 1일까지 다시 루프를 돌린다. (j일)\n",
    "\n",
    "만약 j+t[j] <= n이라면 a[i] = a[j] + p[i]이다.\n",
    "\"\"\"\"\"\"\"\"\"\""
   ]
  },
  {
   "cell_type": "markdown",
   "id": "78ea699e",
   "metadata": {},
   "source": [
    "# 내 답안"
   ]
  },
  {
   "cell_type": "code",
   "execution_count": 31,
   "id": "44316a64",
   "metadata": {},
   "outputs": [],
   "source": [
    "import time"
   ]
  },
  {
   "cell_type": "code",
   "execution_count": 33,
   "id": "7ca1e4c7",
   "metadata": {},
   "outputs": [
    {
     "name": "stdout",
     "output_type": "stream",
     "text": [
      "7\n",
      "3 10\n",
      "5 20\n",
      "1 10\n",
      "1 20\n",
      "2 15\n",
      "4 40\n",
      "2 200\n",
      "45\n",
      "0.0\n"
     ]
    }
   ],
   "source": [
    "n = int(input())\n",
    "t = [0]\n",
    "p = [0]\n",
    "for i in range(n):\n",
    "    ti, pi = map(int, input().split())\n",
    "    t.append(ti)\n",
    "    p.append(pi)\n",
    "s = time.time()\n",
    "a = [0] * (n+1)\n",
    "a[1] = p[1]\n",
    "for i in range(2, n+1):\n",
    "    if t[i] + i > n+1:\n",
    "        a[i] = 0\n",
    "        continue\n",
    "    max_val = 0\n",
    "    for j in range(i-1, 0, -1):\n",
    "        if j + t[j] <= i:\n",
    "            max_val = max(max_val, a[j])\n",
    "    a[i] = max_val + p[i]\n",
    "print(max(a))\n",
    "print(time.time()-s)"
   ]
  },
  {
   "cell_type": "markdown",
   "id": "f28a3f42",
   "metadata": {},
   "source": [
    "# 답안 작성 후 생각"
   ]
  },
  {
   "cell_type": "code",
   "execution_count": null,
   "id": "8e37d1f6",
   "metadata": {},
   "outputs": [],
   "source": [
    "\"\"\"\"\"\"\"\"\"\"\n",
    "다이나믹 프로그래밍에 조금 익숙해졌는지 풀이 속도가 빨라졌다.\n",
    "\n",
    "두 번 째 예시에서 첫 번째 루프 안에서  if 절의 조건 식의 뒤부분이 n+1이 아니라 n이라고 해서 답이 55가 아닌 45가 나오는 것을 수정했다.\n",
    "\"\"\"\"\"\"\"\"\"\""
   ]
  },
  {
   "cell_type": "markdown",
   "id": "9a1e40c6",
   "metadata": {},
   "source": [
    "# 정답"
   ]
  },
  {
   "cell_type": "code",
   "execution_count": 32,
   "id": "dca2952c",
   "metadata": {},
   "outputs": [
    {
     "name": "stdout",
     "output_type": "stream",
     "text": [
      "7\n",
      "3 10\n",
      "5 20\n",
      "1 10\n",
      "1 20\n",
      "2 15\n",
      "4 40\n",
      "2 200\n",
      "45\n",
      "0.0\n"
     ]
    }
   ],
   "source": [
    "n = int(input())\n",
    "t = []\n",
    "p = []\n",
    "dp = [0] * (n+1)\n",
    "max_value = 0\n",
    "\n",
    "for _ in range(n):\n",
    "    x, y = map(int, input().split())\n",
    "    t.append(x)\n",
    "    p.append(y)\n",
    "s = time.time()    \n",
    "for i in range(n-1, -1, -1):\n",
    "    time1 = t[i] + i\n",
    "    # 상담이 기간 안에 끝나는 경우\n",
    "    if time1 <= n:\n",
    "        # 점화식에 맞게, 현재까지의 최고 이익 계산\n",
    "        dp[i] = max(p[i] + dp[time1], max_value)\n",
    "        max_value = dp[i]\n",
    "    # 상담이 기간을 벗어나는 경우\n",
    "    else:\n",
    "        dp[i] = max_value\n",
    "print(max_value)\n",
    "print(time.time() - s)        "
   ]
  },
  {
   "cell_type": "markdown",
   "id": "a00cae19",
   "metadata": {},
   "source": [
    "# 정답 확인 후 생각"
   ]
  },
  {
   "cell_type": "code",
   "execution_count": null,
   "id": "23ded352",
   "metadata": {},
   "outputs": [],
   "source": [
    "\"\"\"\"\"\"\"\"\"\"\n",
    "나의 풀이와 반대로 뒤쪽 날짜부터 세서 문제를 해결했다.\n",
    "\n",
    "1일을 리스트의 1번쨰인덱스로 맞추기 위한 작업을 따로 진행하지도 않았다.\n",
    "\n",
    "게다가 max_value를 나와 다른 방식으로, 지금까지의 최댓값을 저장하는 데 사용했다.\n",
    "\n",
    "내 답안과 비교해보니 내 코드는 무늬만 다이나믹 프로그래밍이고 이중 for문에 if까지 많이 붙어있어 비효율적인 것 같다.\n",
    "\"\"\"\"\"\"\"\"\"\""
   ]
  }
 ],
 "metadata": {
  "kernelspec": {
   "display_name": "pytorch",
   "language": "python",
   "name": "pt1.1"
  },
  "language_info": {
   "codemirror_mode": {
    "name": "ipython",
    "version": 3
   },
   "file_extension": ".py",
   "mimetype": "text/x-python",
   "name": "python",
   "nbconvert_exporter": "python",
   "pygments_lexer": "ipython3",
   "version": "3.9.7"
  }
 },
 "nbformat": 4,
 "nbformat_minor": 5
}
