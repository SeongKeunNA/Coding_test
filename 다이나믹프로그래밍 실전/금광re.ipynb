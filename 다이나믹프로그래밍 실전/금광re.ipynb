{
 "cells": [
  {
   "cell_type": "markdown",
   "id": "0cbb3f98",
   "metadata": {},
   "source": [
    "# 코딩 전 생각"
   ]
  },
  {
   "cell_type": "code",
   "execution_count": null,
   "id": "d2313f54",
   "metadata": {},
   "outputs": [],
   "source": [
    "\"\"\"\"\"\"\"\"\"\"\n",
    "d1 = max(1열)\n",
    "\n",
    "d2 = max(1열에서 i번 선택했을 경우 max(2열의 i-1, i, i+1 번째 행))\n",
    "\n",
    "만약 i == 0일경우 i번쨰와 i+1번쨰만비교\n",
    "\n",
    "만약 i == n-1일 경우 i-1번째와 i번째만비교\n",
    "\"\"\"\"\"\"\"\"\"\""
   ]
  },
  {
   "cell_type": "markdown",
   "id": "c44039ef",
   "metadata": {},
   "source": [
    "# 내 답안"
   ]
  },
  {
   "cell_type": "code",
   "execution_count": 9,
   "id": "b28e56bf",
   "metadata": {},
   "outputs": [
    {
     "name": "stdout",
     "output_type": "stream",
     "text": [
      "2\n",
      "3 4\n",
      "1 3 3 2 2 1 4 1 0 6 4 7\n",
      "19\n",
      "4 4\n",
      "1 3 1 5 2 2 4 1 5 0 2 3 0 6 1 2\n",
      "16\n"
     ]
    }
   ],
   "source": [
    "for _ in range(int(input())):\n",
    "    n, m =  map(int, input().split())\n",
    "    data = list(map(int, input().split()))\n",
    "    graph = []\n",
    "    for i in range(0, n*m, m):\n",
    "        array = []\n",
    "        for j in range(i, i+m):\n",
    "            array.append(data[j])\n",
    "        graph.append(array)\n",
    "    for i in range(1, m): # i = 1\n",
    "        for j in range(n):# j = 0\n",
    "            if j == 0:\n",
    "                up = 0 \n",
    "            else:\n",
    "                up = graph[j-1][i-1]\n",
    "                \n",
    "            if j == n - 1:\n",
    "                down = 0\n",
    "            else:\n",
    "                down = graph[j+1][i-1] \n",
    "            mid = graph[j][i - 1] \n",
    "            graph[j][i] += max(up, mid, down) # max(0, 1, 2) + 3 = 5\n",
    "    max_value = -1e9\n",
    "    for i in range(n):\n",
    "        max_value = max(max_value, graph[i][m-1])\n",
    "    print(max_value)"
   ]
  },
  {
   "cell_type": "markdown",
   "id": "17ca8d8d",
   "metadata": {},
   "source": [
    "# 답안 작성 후 생각"
   ]
  },
  {
   "cell_type": "code",
   "execution_count": null,
   "id": "82c10171",
   "metadata": {},
   "outputs": [],
   "source": [
    "\"\"\"\"\"\"\"\"\"\"\n",
    "위에서, 옆에서, 아래에서 오는 경우를 모두 고려한 이중 for문을 통해 해결했다.\n",
    "\"\"\"\"\"\"\"\"\"\""
   ]
  },
  {
   "cell_type": "markdown",
   "id": "ea56c397",
   "metadata": {},
   "source": [
    "# 정답"
   ]
  },
  {
   "cell_type": "code",
   "execution_count": null,
   "id": "11209689",
   "metadata": {},
   "outputs": [],
   "source": [
    "for tc in range(int(input())):\n",
    "    n, m = map(int, input().split())\n",
    "    array = list(map(int, input().split()))\n",
    "    \n",
    "    dp = []\n",
    "    index = 0\n",
    "    for i in range(n):\n",
    "        dp.append(array[index:index + m])\n",
    "        index += m\n",
    "    for j in range(1, m):\n",
    "        for i in range(n):\n",
    "            if i == 0:\n",
    "                left_up = 0\n",
    "            else:\n",
    "                left_up = dp[i - 1][j - 1]\n",
    "            if i == n - 1:\n",
    "                left_down = 0\n",
    "            else:\n",
    "                left_down = dp[i + 1][j - 1]\n",
    "            left = dp[i][j - 1]\n",
    "            dp[i][j] = dp[i][j] + max(left_up, left, left_down)\n",
    "    result = 0\n",
    "    for i in range(n):\n",
    "        result = max(result, dp[i][m - 1])\n",
    "    print(result)"
   ]
  },
  {
   "cell_type": "markdown",
   "id": "c2f89da9",
   "metadata": {},
   "source": [
    "# 정답 확인 후 생각"
   ]
  },
  {
   "cell_type": "code",
   "execution_count": null,
   "id": "7fb6d785",
   "metadata": {},
   "outputs": [],
   "source": [
    "\"\"\"\"\"\"\"\"\"\"\n",
    "처음에 주어진 금광 정보를 행렬로 담을 때, 다음과 같은 깔끔한 코드를 사용했다.\n",
    "\n",
    "dp = []\n",
    "index = 0\n",
    "for i in range(n):\n",
    "    dp.append(array[index:index + m])\n",
    "    index += m\n",
    "\"\"\"\"\"\"\"\"\"\""
   ]
  }
 ],
 "metadata": {
  "kernelspec": {
   "display_name": "Python 3 (ipykernel)",
   "language": "python",
   "name": "python3"
  },
  "language_info": {
   "codemirror_mode": {
    "name": "ipython",
    "version": 3
   },
   "file_extension": ".py",
   "mimetype": "text/x-python",
   "name": "python",
   "nbconvert_exporter": "python",
   "pygments_lexer": "ipython3",
   "version": "3.7.13"
  }
 },
 "nbformat": 4,
 "nbformat_minor": 5
}
