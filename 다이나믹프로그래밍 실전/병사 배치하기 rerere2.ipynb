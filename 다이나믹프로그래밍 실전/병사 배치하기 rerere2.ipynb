{
 "cells": [
  {
   "cell_type": "markdown",
   "id": "d027057f",
   "metadata": {},
   "source": [
    "# 코딩 전 생각"
   ]
  },
  {
   "cell_type": "code",
   "execution_count": null,
   "id": "bc4e9f08",
   "metadata": {},
   "outputs": [],
   "source": [
    "\"\"\"\"\"\"\"\"\"\"\"\n",
    "1. 해당 인덱스까지(해당 인덱스를 포함)의 병사들 중 가장 긴 감소하는 부분 수열의 수를 값으로 가지는 리스트 a를 선언함.\n",
    "이때 모든 값을 1로 초기화함.\n",
    "\n",
    "2. 1번째 병사부터 n-1번째 병사까지 반복하여(i):\n",
    "        a리스트의 i번째 인덱스의 값 = 이전의 값(1~i)중 가장 큰 값 + 1\n",
    "\"\"\"\"\"\"\"\"\"\"\""
   ]
  },
  {
   "cell_type": "markdown",
   "id": "5964b9d9",
   "metadata": {},
   "source": [
    "# 내 답안"
   ]
  },
  {
   "cell_type": "code",
   "execution_count": 12,
   "id": "94267629",
   "metadata": {},
   "outputs": [
    {
     "name": "stdout",
     "output_type": "stream",
     "text": [
      "10\n",
      "37 15 25 42 37 18 69 74 58 82\n",
      "9\n"
     ]
    }
   ],
   "source": [
    "n = int(input())\n",
    "f = list(map(int, input().split()))\n",
    "a = [1] * n\n",
    "for i in range(1, n):\n",
    "    for j in range(i):\n",
    "        if f[j] > f[i]:\n",
    "            a[i] = max(a[i], a[j] + 1)\n",
    "print(n - max(a))"
   ]
  },
  {
   "cell_type": "code",
   "execution_count": 13,
   "id": "d1f27600",
   "metadata": {
    "scrolled": true
   },
   "outputs": [
    {
     "name": "stdout",
     "output_type": "stream",
     "text": [
      "[1, 2, 2, 1, 2, 3, 1, 1, 2, 1]\n"
     ]
    }
   ],
   "source": [
    "print(a)"
   ]
  },
  {
   "cell_type": "code",
   "execution_count": null,
   "id": "52557644",
   "metadata": {},
   "outputs": [],
   "source": [
    "15 11 4 8 5 2 4\n",
    "1 2 3 3 "
   ]
  },
  {
   "cell_type": "code",
   "execution_count": 6,
   "id": "6854e71c",
   "metadata": {},
   "outputs": [
    {
     "ename": "SyntaxError",
     "evalue": "invalid syntax (4118200658.py, line 1)",
     "output_type": "error",
     "traceback": [
      "\u001b[1;36m  File \u001b[1;32m\"C:\\Users\\najonggeun\\AppData\\Local\\Temp\\ipykernel_27208\\4118200658.py\"\u001b[1;36m, line \u001b[1;32m1\u001b[0m\n\u001b[1;33m    15 11 4 8 5 2 4\u001b[0m\n\u001b[1;37m        ^\u001b[0m\n\u001b[1;31mSyntaxError\u001b[0m\u001b[1;31m:\u001b[0m invalid syntax\n"
     ]
    }
   ],
   "source": [
    "# 만약 f[i-1] <= f[i]이라면 a[i] = max()\n",
    "5 4 6 5 4 \n",
    "1 2 1 2 3\n",
    "1 1 1 1 1\n",
    "\n",
    "1 2 2 3 3\n",
    "for j in range(0, i):\n",
    "    if f[j] > f[i]:\n",
    "        a[i] = max(a[i], a[j] + 1)\n",
    "a[i] = max(a[i], a[i-1])\n",
    "1 2 2 1 1\n",
    "1 2 2 \n",
    "    \n",
    "    \n",
    "1 2 \n"
   ]
  },
  {
   "cell_type": "code",
   "execution_count": null,
   "id": "03f76690",
   "metadata": {},
   "outputs": [],
   "source": [
    "\n",
    "n = int(input())\n",
    "f = list(map(int, input().split()))\n",
    "a = [1] * n\n",
    "for i in range(1, n):\n",
    "    for j in range(0, i):\n",
    "        if f[j] > f[i]:\n",
    "            a[i] = max(a[i], a[j] + 1)\n",
    "    a[i] = max(a[i], a[i - 1])\n",
    "print(n - a[n-1])"
   ]
  },
  {
   "cell_type": "markdown",
   "id": "339d1247",
   "metadata": {},
   "source": [
    "# 정답 확인 후 생각"
   ]
  },
  {
   "cell_type": "code",
   "execution_count": null,
   "id": "ae3d838c",
   "metadata": {},
   "outputs": [],
   "source": [
    "\"\"\"\"\"\"\"\"\"\"\n",
    "해당 인덱스를 마지막으로 가지는 부분수열을 매번 계산한다. 즉, 해당 인덱스를 반드시 포함하여야 한다.\n",
    "\n",
    "또한 구하고자하는 최대길이는 리스트의 맨 마지막 값이 아니라 리스트의 최대값이다.\n",
    "\"\"\"\"\"\"\"\"\"\""
   ]
  }
 ],
 "metadata": {
  "kernelspec": {
   "display_name": "Python 3 (ipykernel)",
   "language": "python",
   "name": "python3"
  },
  "language_info": {
   "codemirror_mode": {
    "name": "ipython",
    "version": 3
   },
   "file_extension": ".py",
   "mimetype": "text/x-python",
   "name": "python",
   "nbconvert_exporter": "python",
   "pygments_lexer": "ipython3",
   "version": "3.7.13"
  }
 },
 "nbformat": 4,
 "nbformat_minor": 5
}
