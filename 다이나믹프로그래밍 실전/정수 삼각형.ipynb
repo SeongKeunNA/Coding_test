{
 "cells": [
  {
   "cell_type": "markdown",
   "id": "f16d0d35",
   "metadata": {},
   "source": [
    "# 코딩 전 생각"
   ]
  },
  {
   "cell_type": "code",
   "execution_count": null,
   "id": "081782f0",
   "metadata": {},
   "outputs": [],
   "source": [
    "\"\"\"\"\"\"\"\"\"\"\n",
    "기본적으로 앞의 금광 문제와 비슷한 것 같다.\n",
    "\n",
    "다른 점이 있다면 삼각형 모양이라는 점과, 다음 단계로 나아갈 때 왼쪽 아래와 오른쪽 아래 중 선택한다는 것이다.\n",
    "\"\"\"\"\"\"\"\"\"\""
   ]
  },
  {
   "cell_type": "markdown",
   "id": "fc610b79",
   "metadata": {},
   "source": [
    "# 내 답안"
   ]
  },
  {
   "cell_type": "code",
   "execution_count": 16,
   "id": "d557b70b",
   "metadata": {},
   "outputs": [
    {
     "name": "stdout",
     "output_type": "stream",
     "text": [
      "5\n",
      "7\n",
      "3 8\n",
      "8 1 0\n",
      "2 7 4 4\n",
      "4 5 2 6 5\n",
      "[[7], [10], [], [], []]\n",
      "[[7], [10, 15], [], [], []]\n",
      "[[7], [10, 15], [18], [], []]\n",
      "[[7], [10, 15], [18, 16], [], []]\n",
      "[[7], [10, 15], [18, 16, 15], [], []]\n",
      "[[7], [10, 15], [18, 16, 15], [20], []]\n",
      "[[7], [10, 15], [18, 16, 15], [20, 25], []]\n",
      "[[7], [10, 15], [18, 16, 15], [20, 25, 20], []]\n",
      "[[7], [10, 15], [18, 16, 15], [20, 25, 20, 19], []]\n",
      "[[7], [10, 15], [18, 16, 15], [20, 25, 20, 19], [24]]\n",
      "[[7], [10, 15], [18, 16, 15], [20, 25, 20, 19], [24, 30]]\n",
      "[[7], [10, 15], [18, 16, 15], [20, 25, 20, 19], [24, 30, 27]]\n",
      "[[7], [10, 15], [18, 16, 15], [20, 25, 20, 19], [24, 30, 27, 26]]\n",
      "[[7], [10, 15], [18, 16, 15], [20, 25, 20, 19], [24, 30, 27, 26, 24]]\n",
      "30\n"
     ]
    }
   ],
   "source": [
    "n = int(input())\n",
    "triangle = []\n",
    "for i in range(n):\n",
    "    triangle.append(list(map(int, input().split())))\n",
    "max_val = [[]for i in range(n)]    \n",
    "max_val[0] = triangle[0]\n",
    "\n",
    "for i in range(1, n):\n",
    "    for j in range(len(triangle[i])):\n",
    "        if j == 0:\n",
    "            max_val[i].append(triangle[i][j] + max_val[i-1][j])\n",
    "        elif j == len(triangle[i-1]):\n",
    "            max_val[i].append(triangle[i][j] + max_val[i-1][j-1])\n",
    "        else:\n",
    "            value = max(max_val[i-1][j-1],max_val[i-1][j])\n",
    "            max_val[i].append(triangle[i][j] + value)\n",
    "print(max(max_val[n-1]))"
   ]
  },
  {
   "cell_type": "markdown",
   "id": "17bc1ffa",
   "metadata": {},
   "source": [
    "# 답안 작성 후 생각"
   ]
  },
  {
   "cell_type": "code",
   "execution_count": null,
   "id": "77af8dcd",
   "metadata": {},
   "outputs": [],
   "source": [
    "\"\"\"\"\"\"\"\"\"\"\n",
    "생각보다 풀이에 시간이 걸렸다.\n",
    "\n",
    "아직 금광 문제가 익숙하지 않은 것도 있고, 금광 문제와 인덱스를 처리하는 부분이 조금 달라서 그런 것도 같다.\n",
    "\"\"\"\"\"\"\"\"\"\""
   ]
  },
  {
   "cell_type": "markdown",
   "id": "149653d1",
   "metadata": {},
   "source": [
    "# 정답"
   ]
  },
  {
   "cell_type": "code",
   "execution_count": null,
   "id": "712a49fb",
   "metadata": {},
   "outputs": [],
   "source": [
    "n = int(input())\n",
    "dp = []\n",
    "for _ in range(n):\n",
    "    dp.append(list(map(int, input.split())))\n",
    "\n",
    "for i in range(1, n):\n",
    "    for j in range(i+1):\n",
    "        if j == 0:\n",
    "            up_left = 0\n",
    "        else:\n",
    "            up_left = dp[i - 1][j - 1]\n",
    "            \n",
    "        if j == i:\n",
    "            up = 0\n",
    "        else:\n",
    "            up = dp[i - 1][j]\n",
    "        dp[i][j] = dp[i][j] + max(up_left, up)\n",
    "print(max(dp[n-1]))"
   ]
  },
  {
   "cell_type": "markdown",
   "id": "8ce0b1fa",
   "metadata": {},
   "source": [
    "# 정답 확인 후 생각"
   ]
  },
  {
   "cell_type": "code",
   "execution_count": null,
   "id": "5bfe12ca",
   "metadata": {},
   "outputs": [],
   "source": [
    "\"\"\"\"\"\"\"\"\"\"\n",
    "문제 풀이 아이디어는 동일하지만, dp 테이블만 가지고 문제를 해결하였고, j가 0이거나 i일 때 각각 up_left와 up을 0으로 하여 보다 깔끔하게 해결했다.\n",
    "\"\"\"\"\"\"\"\"\"\""
   ]
  }
 ],
 "metadata": {
  "kernelspec": {
   "display_name": "pytorch",
   "language": "python",
   "name": "pt1.1"
  },
  "language_info": {
   "codemirror_mode": {
    "name": "ipython",
    "version": 3
   },
   "file_extension": ".py",
   "mimetype": "text/x-python",
   "name": "python",
   "nbconvert_exporter": "python",
   "pygments_lexer": "ipython3",
   "version": "3.9.7"
  }
 },
 "nbformat": 4,
 "nbformat_minor": 5
}
