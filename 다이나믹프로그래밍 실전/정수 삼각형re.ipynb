{
 "cells": [
  {
   "cell_type": "markdown",
   "id": "be31a24c",
   "metadata": {},
   "source": [
    "# 코딩 전 생각"
   ]
  },
  {
   "cell_type": "code",
   "execution_count": null,
   "id": "2bab4083",
   "metadata": {},
   "outputs": [],
   "source": [
    "\"\"\"\"\"\"\"\"\"\"\n",
    "왼쪽 위에서 오는 경우와 오른쪽 위에서 오는 경우로 나누어 해결한다.\n",
    "\"\"\"\"\"\"\"\"\"\""
   ]
  },
  {
   "cell_type": "markdown",
   "id": "c4355d76",
   "metadata": {},
   "source": [
    "# 내 답안"
   ]
  },
  {
   "cell_type": "code",
   "execution_count": 2,
   "id": "5bed0988",
   "metadata": {},
   "outputs": [
    {
     "name": "stdout",
     "output_type": "stream",
     "text": [
      "5\n",
      "7\n",
      "3 8\n",
      "8 1 0\n",
      "2 7 4 4\n",
      "4 5 2 6 5\n",
      "30\n"
     ]
    }
   ],
   "source": [
    "n = int(input())\n",
    "graph = []\n",
    "for _ in range(n):\n",
    "    graph.append(list(map(int, input().split())))\n",
    "for i in range(1, n): #1~ 4\n",
    "    for j in range(i + 1): # 01, 012, 0123, 01234\n",
    "        if j == 0:\n",
    "            left_up = 0\n",
    "        else:\n",
    "            left_up = graph[i - 1][j - 1]\n",
    "        if j == i:\n",
    "            right_up = 0\n",
    "        else:\n",
    "            right_up = graph[i - 1][j]\n",
    "        graph[i][j] += max(left_up, right_up)\n",
    "answer = -1e9\n",
    "for i in range(n):\n",
    "    answer = max(answer, graph[n - 1][i])\n",
    "print(answer)"
   ]
  },
  {
   "cell_type": "markdown",
   "id": "f61e54df",
   "metadata": {},
   "source": [
    "# 답안 작성 후 생각"
   ]
  },
  {
   "cell_type": "code",
   "execution_count": null,
   "id": "7d755713",
   "metadata": {},
   "outputs": [],
   "source": [
    "\"\"\"\"\"\"\"\"\"\"\n",
    "이상 무 \n",
    "\"\"\"\"\"\"\"\"\"\""
   ]
  },
  {
   "cell_type": "markdown",
   "id": "130fd960",
   "metadata": {},
   "source": [
    "# 정답"
   ]
  },
  {
   "cell_type": "code",
   "execution_count": null,
   "id": "ac5357a7",
   "metadata": {},
   "outputs": [],
   "source": [
    "n = int(input())\n",
    "dp = []\n",
    "\n",
    "for _ in range(n):\n",
    "    dp.append(list(map(int, input().split())))\n",
    "for i in range(1, n):\n",
    "    for j in range(i + 1):\n",
    "        if j == 0:\n",
    "            up_left = 0\n",
    "        else:\n",
    "            up_left = dp[i - 1][j - 1]\n",
    "        if j == i:\n",
    "            up = 0\n",
    "        else:\n",
    "            up = dp[i - 1][j]\n",
    "        dp[i][j] = dp[i][j] + max(up_left, up)\n",
    "print(max(dp[n - 1]))\n",
    "    "
   ]
  },
  {
   "cell_type": "markdown",
   "id": "ebafb3ca",
   "metadata": {},
   "source": [
    "# 정답 확인 후 생각"
   ]
  },
  {
   "cell_type": "code",
   "execution_count": null,
   "id": "84a2809c",
   "metadata": {},
   "outputs": [],
   "source": [
    "\"\"\"\"\"\"\"\"\"\n",
    "이상 무\n",
    "\"\"\"\"\"\"\"\"\""
   ]
  }
 ],
 "metadata": {
  "kernelspec": {
   "display_name": "Python 3 (ipykernel)",
   "language": "python",
   "name": "python3"
  },
  "language_info": {
   "codemirror_mode": {
    "name": "ipython",
    "version": 3
   },
   "file_extension": ".py",
   "mimetype": "text/x-python",
   "name": "python",
   "nbconvert_exporter": "python",
   "pygments_lexer": "ipython3",
   "version": "3.7.13"
  }
 },
 "nbformat": 4,
 "nbformat_minor": 5
}
