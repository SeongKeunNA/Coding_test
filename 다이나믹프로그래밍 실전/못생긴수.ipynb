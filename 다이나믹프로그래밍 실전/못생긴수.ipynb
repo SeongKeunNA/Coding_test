{
 "cells": [
  {
   "cell_type": "markdown",
   "id": "279c72d0",
   "metadata": {},
   "source": [
    "# 코딩 전 생각"
   ]
  },
  {
   "cell_type": "code",
   "execution_count": null,
   "id": "fe61c05b",
   "metadata": {},
   "outputs": [],
   "source": [
    "\"\"\"\"\"\"\"\"\"\"\n",
    "1부터 시작해서 2, 3, 5를 곱한 결과값이 만약 리스트에 없다면  추가한다.\n",
    "\n",
    "-> 이중 루프 구조이고, 한 루프 당 not in 연산이 최대 3번이며 비교횟수가 많아서인지 시간초과가 발생한다.\n",
    "\n",
    "if not in 연산을 if a[j] * k > a[i-1] (k=2, 3, 5)로 바꾸어서 효율적인 코드를 작성했다.\n",
    "\"\"\"\"\"\"\"\"\"\""
   ]
  },
  {
   "cell_type": "code",
   "execution_count": 23,
   "id": "a6f64420",
   "metadata": {},
   "outputs": [],
   "source": [
    "import time"
   ]
  },
  {
   "cell_type": "code",
   "execution_count": 25,
   "id": "a339683b",
   "metadata": {},
   "outputs": [
    {
     "name": "stdout",
     "output_type": "stream",
     "text": [
      "1000\n",
      "51200000\n",
      "0.22363901138305664\n"
     ]
    }
   ],
   "source": [
    "n = int(input())    \n",
    "s=time.time()\n",
    "a = [1] * (n)\n",
    "for i in range(1, n):\n",
    "    value = 1e9\n",
    "    for j in range(i):\n",
    "        if a[j] * 2 > a[i-1]:\n",
    "            value = min(value, a[j] * 2)\n",
    "        elif a[j] * 3 > a[i-1]:\n",
    "            value = min(value, a[j] * 3)\n",
    "        elif a[j] * 5 > a[i-1]:\n",
    "            value = min(value, a[j] * 5)\n",
    "    a[i] = value\n",
    "print(a[n-1])\n",
    "print(time.time()-s)"
   ]
  },
  {
   "cell_type": "markdown",
   "id": "d3b50bae",
   "metadata": {},
   "source": [
    "# 정답"
   ]
  },
  {
   "cell_type": "code",
   "execution_count": 24,
   "id": "1b650933",
   "metadata": {},
   "outputs": [
    {
     "name": "stdout",
     "output_type": "stream",
     "text": [
      "1000\n",
      "51200000\n",
      "0.0009770393371582031\n"
     ]
    }
   ],
   "source": [
    "n = int(input())\n",
    "s = time.time()\n",
    "ugly = [0] * n # 못생긴 수를 담기 위한 테이블(1차원 DP 테이블)\n",
    "ugly[0] = 1 # 첫 번째 못생긴 수는 1\n",
    "\n",
    "# 2배, 3배, 5배를 위한 인덱스\n",
    "i2 = i3 = i5 = 0\n",
    "# 처음에 곱셈값을 초기화\n",
    "next2, next3, next5 = 2, 3, 5\n",
    "\n",
    "# 1부터 n까지의 못생긴 수를 찾기\n",
    "for l in range(1, n):\n",
    "    # 가능한 곱셉 결과 중에서 가장 작은 수를 선택\n",
    "    ugly[l] = min(next2, next3, next5)\n",
    "    # 인덱스에 따라서 곱셈 결과를 증가\n",
    "    if ugly[l] == next2:\n",
    "        i2 += 1\n",
    "        next2 = ugly[i2] * 2\n",
    "        \n",
    "    if ugly[l] == next3:\n",
    "        i3 += 1\n",
    "        next3 = ugly[i3] * 3\n",
    "        \n",
    "    if ugly[l] == next5:\n",
    "        i5 += 1\n",
    "        next5 = ugly[i5] * 5\n",
    "# n번째 못생긴 수를 출력\n",
    "print(ugly[n-1])   \n",
    "print(time.time()-s)"
   ]
  },
  {
   "cell_type": "markdown",
   "id": "215e8bb5",
   "metadata": {},
   "source": [
    "# 정답 확인 후 생각"
   ]
  },
  {
   "cell_type": "code",
   "execution_count": null,
   "id": "e8fb26a4",
   "metadata": {},
   "outputs": [],
   "source": [
    "\"\"\"\"\"\"\"\"\"\"\n",
    "다음 가능한 수 중 최솟값을 알아낸다는 점은 내 풀이와 동일하지만,\n",
    "\n",
    "i2, i3, i5 인덱스를 두어서 next2, next3, next5를 매번 갱신한다는 점이 다르다.\n",
    "\n",
    "답지를 보고도 한 참을 생각한 후에야 풀이를 이해했다.\n",
    "\n",
    "깔끔한 풀이인 것 같다.\n",
    "\n",
    "n의 최댓값인 1000을 넣었을 때, 내 풀이는 0.22초 만에 답을 내지만 정답은 0.0009초 만에 답을 낸다.\n",
    "\"\"\"\"\"\"\"\"\"\""
   ]
  }
 ],
 "metadata": {
  "kernelspec": {
   "display_name": "pytorch",
   "language": "python",
   "name": "pt1.1"
  },
  "language_info": {
   "codemirror_mode": {
    "name": "ipython",
    "version": 3
   },
   "file_extension": ".py",
   "mimetype": "text/x-python",
   "name": "python",
   "nbconvert_exporter": "python",
   "pygments_lexer": "ipython3",
   "version": "3.9.7"
  }
 },
 "nbformat": 4,
 "nbformat_minor": 5
}
