{
 "cells": [
  {
   "cell_type": "markdown",
   "id": "131cc9bc",
   "metadata": {},
   "source": [
    "# 코딩 전 생각"
   ]
  },
  {
   "cell_type": "code",
   "execution_count": null,
   "id": "77f0d3a9",
   "metadata": {},
   "outputs": [],
   "source": [
    "\"\"\"\"\"\"\"\"\"\"\n",
    "7일 중 1일치 일만 할 경우:\n",
    "1일차의 일은 3일치이므로 가능 (d[1] = 10)\n",
    "\n",
    "7일 중 2일치까지 할 경우:\n",
    "1) 1일치 일을 할 경우: 2일치 일 불가능 d[2] = 10\n",
    "2) 1일치 일을 안 하고 2일치 일을 할 경우: d[2] = 20\n",
    "=> d[2] = 20\n",
    "\n",
    "7일 중 3일치까지 할 경우:\n",
    "1) 1일치 일을 할 경우: 2, 3일치 일 불가능 d[3] = 10\n",
    "2) 1일치 일을 안 하고 2일치 일을 할경우: 3일치 일 불가능 d[3] = 20\n",
    "3) 1, 2일치 일을 안 하고 3일치 일을 할 경우: d[3] = 10\n",
    "\n",
    ".\n",
    ".\n",
    ".\n",
    "\n",
    "\n",
    "\n",
    "특정일로부터 마지막날까지 가능한 최대이익을 n일부터 거꾸로 구한다.\n",
    "\n",
    "ex) 7일부터: 7일의 일을 하는 경우: 0(불가능)\n",
    "    6일부터: 6일의 일을하는 경우/ 하지 않는 경우 0(불가능)/0\n",
    "    5일부터: 5일의 일을 하는 경우/ 하지 않는 경우 15/0\n",
    "    4알부터: 4일의 일을 하는 경우/ 하지 않는 경우 35/15\n",
    "    .\n",
    "    .\n",
    "    .\n",
    "\"\"\"\"\"\"\"\"\"\""
   ]
  },
  {
   "cell_type": "markdown",
   "id": "43737036",
   "metadata": {},
   "source": [
    "# 내 답안"
   ]
  },
  {
   "cell_type": "code",
   "execution_count": 9,
   "id": "75a5fbff",
   "metadata": {},
   "outputs": [
    {
     "name": "stdout",
     "output_type": "stream",
     "text": [
      "10\n",
      "1 1\n",
      "1 2\n",
      "1 3\n",
      "1 4\n",
      "1 5\n",
      "1 6\n",
      "1 7\n",
      "1 8\n",
      "1 9\n",
      "1 10\n",
      "55\n"
     ]
    }
   ],
   "source": [
    "n = int(input())\n",
    "data = [(0,0)] #01234567\n",
    "for _ in range(n):\n",
    "    data.append(tuple(map(int, input().split())))\n",
    "d = [0] * 17\n",
    "for i in range(n, 0, -1): #6\n",
    "    next_day = i + data[i][0] # 6+ data[5][0]\n",
    "    if next_day > n + 1:\n",
    "        d[i] = d[i+1]\n",
    "    else:\n",
    "        d[i] = max(data[i][1] + d[next_day], d[i + 1])\n",
    "print(d[1])"
   ]
  },
  {
   "cell_type": "markdown",
   "id": "de20a35d",
   "metadata": {},
   "source": [
    "# 답안 작성 후 생각"
   ]
  },
  {
   "cell_type": "code",
   "execution_count": null,
   "id": "bc929337",
   "metadata": {},
   "outputs": [],
   "source": [
    "\"\"\"\"\"\"\"\"\"\"\n",
    "금광이나 정수 삼각형 문제와 달리 생각을 오래하고나서야 해결할 수 있었다.\n",
    "\n",
    "n일차부터 1일차까지 역순으로 해당 일차부터의 최대 이익을 계산한다.\n",
    "\n",
    "이 때 해당 일차의 일을 하고 다음 돌아오는 날짜의 최대이익 vs 해당 일차의 일을 하지 않고 바로 다음날의 최대이익 중 최댓값을 계산한다.\n",
    "\n",
    "특히 돌아오는 날짜(next_day)가 n이 아닌 n+1보다 클 때에 d[i] = d[i+1]로 처리하는 것에 주의한다.\n",
    "\"\"\"\"\"\"\"\"\"\""
   ]
  },
  {
   "cell_type": "markdown",
   "id": "5985773b",
   "metadata": {},
   "source": [
    "# 정답"
   ]
  },
  {
   "cell_type": "code",
   "execution_count": null,
   "id": "b665dda2",
   "metadata": {},
   "outputs": [],
   "source": [
    "n = int(input())\n",
    "t = []\n",
    "p = []\n",
    "dp = [0] * (n + 1) #0~n\n",
    "max_value = 0\n",
    "\n",
    "for _ in range(n):\n",
    "    x, y = map(int, input().split())\n",
    "    t.append(x)\n",
    "    p.append(y)\n",
    "for i in range(n - 1, -1, -1):#n-1~0\n",
    "    time = t[i] + i\n",
    "    if time <= n:\n",
    "        dp[i] = max(dp[i] + dp[time], max_value)\n",
    "        max_value = dp[i]\n",
    "    else:\n",
    "        dp[i] = max_value\n",
    "print(max_value)"
   ]
  },
  {
   "cell_type": "markdown",
   "id": "2f523709",
   "metadata": {},
   "source": [
    "# 정답 확인 후 생각"
   ]
  },
  {
   "cell_type": "code",
   "execution_count": null,
   "id": "92b6231b",
   "metadata": {},
   "outputs": [],
   "source": [
    "\"\"\"\"\"\"\"\"\"\"\n",
    "인덱싱을 제외하면 특이사항은 없다.\n",
    "\"\"\"\"\"\"\"\"\"\""
   ]
  }
 ],
 "metadata": {
  "kernelspec": {
   "display_name": "Python 3 (ipykernel)",
   "language": "python",
   "name": "python3"
  },
  "language_info": {
   "codemirror_mode": {
    "name": "ipython",
    "version": 3
   },
   "file_extension": ".py",
   "mimetype": "text/x-python",
   "name": "python",
   "nbconvert_exporter": "python",
   "pygments_lexer": "ipython3",
   "version": "3.7.13"
  }
 },
 "nbformat": 4,
 "nbformat_minor": 5
}
