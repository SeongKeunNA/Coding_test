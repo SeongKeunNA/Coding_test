{
 "cells": [
  {
   "cell_type": "markdown",
   "id": "41855394",
   "metadata": {},
   "source": [
    "# 코딩 전 생각"
   ]
  },
  {
   "cell_type": "code",
   "execution_count": null,
   "id": "eca8572b",
   "metadata": {},
   "outputs": [],
   "source": [
    "\"\"\"\"\"\"\"\"\"\"\n",
    "우선 도시의 개수와 통로의 최대 개수가 각각 30,000개, 200,000개이므로 플로이드워셜 알고리즘보다는 다익스트라 알고리즘을 사용하고자 한다.\n",
    "\n",
    "도시 C에서 출발한 메시지를 전파한 후에 메시지가 도달한 도시의 숫자와, 각 도시가 메시지를 받은 시간을 기록한 리스트에서 최댓값을 출력한다.\n",
    "\"\"\"\"\"\"\"\"\"\""
   ]
  },
  {
   "cell_type": "markdown",
   "id": "fb174849",
   "metadata": {},
   "source": [
    "# 내 답안"
   ]
  },
  {
   "cell_type": "code",
   "execution_count": 5,
   "id": "e7b768f4",
   "metadata": {},
   "outputs": [
    {
     "name": "stdout",
     "output_type": "stream",
     "text": [
      "3 2 1\n",
      "1 2 4\n",
      "1 3 2\n",
      "2 4\n"
     ]
    }
   ],
   "source": [
    "import heapq\n",
    "n, m, s = map(int, input().split())\n",
    "INF = int(1e9)\n",
    "time = [INF] * (n+1)\n",
    "graph = [[] for _ in range(n+1)]\n",
    "for i in range(m):\n",
    "    a, b, c = map(int, input().split())\n",
    "    graph[a].append((c, b))\n",
    "q = []\n",
    "heapq.heappush(q,(0, s))\n",
    "while q:\n",
    "    t, city = heapq.heappop(q)\n",
    "    for i in graph[city]:\n",
    "        time[i[1]] = min(time[i[1]], t + i[0])\n",
    "        heapq.heappush(q, (time[i[1]], i[1]))\n",
    "cnt = 0\n",
    "max_time = -1e9\n",
    "for i in time:\n",
    "    if i < INF:\n",
    "        cnt += 1\n",
    "        max_time = max(max_time, i)\n",
    "print(cnt, max_time)"
   ]
  },
  {
   "cell_type": "markdown",
   "id": "7265edec",
   "metadata": {},
   "source": [
    "# 답안 작성 후 생각"
   ]
  },
  {
   "cell_type": "code",
   "execution_count": null,
   "id": "5a6bdf07",
   "metadata": {},
   "outputs": [],
   "source": [
    "\"\"\"\"\"\"\"\"\"\"\n",
    "문제 난이도가 3개였던 것에 비해 어렵지 않게 문제를 풀었다.\n",
    "\n",
    "코딩 전 생각했던대로 풀이했다.\n",
    "\"\"\"\"\"\"\"\"\"\""
   ]
  },
  {
   "cell_type": "markdown",
   "id": "552c9299",
   "metadata": {},
   "source": [
    "# 정답"
   ]
  },
  {
   "cell_type": "code",
   "execution_count": null,
   "id": "40f00500",
   "metadata": {},
   "outputs": [],
   "source": [
    "import heapq\n",
    "import sys\n",
    "\n",
    "input = sys.stdin.readline\n",
    "INF = int(1e9)\n",
    "\n",
    "n, m, start = map(int, input().split())\n",
    "graph = [[] for i in range(n + 1)]\n",
    "distance = [INF] * (n+1)\n",
    "\n",
    "for _ in range(m):\n",
    "    x, y, z = map(int, input().split())\n",
    "    graph[x].append((y, z))\n",
    "    \n",
    "def dijkstra(start):\n",
    "    q = []\n",
    "    heapq.heappush(q, (0, start))\n",
    "    distance[start] = 0\n",
    "    while q:\n",
    "        dist, now = heapq.heappop(q)\n",
    "        if distance[now] < dist:\n",
    "            continue\n",
    "        for i in graph[now]:\n",
    "            cost = dist + i[1]\n",
    "            if cost < distance[i[0]]:\n",
    "                distance[i[0]] = cost\n",
    "                heapq.heappush(q, (cost, i[0]))\n",
    "dijksta(start)\n",
    "\n",
    "count = 0\n",
    "max_distance = 0\n",
    "for d in distance:\n",
    "    if d != INF:\n",
    "        count += 1\n",
    "        max_distance = max(max_distance, d)\n",
    "pirnt(count -1, max_distance)"
   ]
  },
  {
   "cell_type": "markdown",
   "id": "33e000ca",
   "metadata": {},
   "source": [
    "# 정답 확인 후 생각"
   ]
  },
  {
   "cell_type": "code",
   "execution_count": null,
   "id": "816898fe",
   "metadata": {},
   "outputs": [],
   "source": [
    "\"\"\"\"\"\"\"\"\"\"\n",
    "전반적으로 내 답안과 비슷하지만, 다른 점이 두 가지 정도 있다.\n",
    "\n",
    "하나는 내 답안에서는 출발지점에서 출발지점까지의 distance가 누락되었다는 것이다.\n",
    "\n",
    "다른 하나는 답지에서는 q에서 원소를 꺼낸 후에 if 문으로 비교한 후에 이미 처리된 적이 있으면 continue 처리하지만,\n",
    "\n",
    "내 답안에서는 단순히\n",
    "\n",
    "for i in graph[city]:\n",
    "    time[i[1]] = min(time[i[1]], t + i[0])\n",
    "    heapq.heappush(q, (time[i[1]], i[1]))\n",
    "    \n",
    "로 처리했다는 점이다.\n",
    "\"\"\"\"\"\"\"\"\"\""
   ]
  }
 ],
 "metadata": {
  "kernelspec": {
   "display_name": "pytorch",
   "language": "python",
   "name": "pt1.1"
  },
  "language_info": {
   "codemirror_mode": {
    "name": "ipython",
    "version": 3
   },
   "file_extension": ".py",
   "mimetype": "text/x-python",
   "name": "python",
   "nbconvert_exporter": "python",
   "pygments_lexer": "ipython3",
   "version": "3.9.7"
  }
 },
 "nbformat": 4,
 "nbformat_minor": 5
}
