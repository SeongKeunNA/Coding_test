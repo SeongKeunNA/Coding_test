{
 "cells": [
  {
   "cell_type": "markdown",
   "id": "36eef76f",
   "metadata": {},
   "source": [
    "# 코딩 전 생각"
   ]
  },
  {
   "cell_type": "code",
   "execution_count": null,
   "id": "1595f6ae",
   "metadata": {},
   "outputs": [],
   "source": [
    "\"\"\"\"\"\"\"\"\"\"\n",
    "다익스트라 알고리즘을 이용해서 distance 정보를 갱신한 뒤에, 최소 거리(시간)가 INF(무한)이 아닌 모든 도시의 수와\n",
    "\n",
    "그 중 최대 시간을 출력한다.\n",
    "\"\"\"\"\"\"\"\"\"\""
   ]
  },
  {
   "cell_type": "code",
   "execution_count": 5,
   "id": "8228adcf",
   "metadata": {},
   "outputs": [
    {
     "name": "stdout",
     "output_type": "stream",
     "text": [
      "3 2 1\n",
      "1 2 4\n",
      "1 3 2\n",
      "2 4\n"
     ]
    }
   ],
   "source": [
    "import heapq\n",
    "INF = int(1e9)\n",
    "n, m, c = map(int, input().split())\n",
    "graph = [[] for _ in range(n + 1)]\n",
    "for _ in range(m):\n",
    "    a, b, t = map(int, input().split())\n",
    "    graph[a].append((b, t))\n",
    "distance = [INF] * (n + 1)\n",
    "distance[c] = 0\n",
    "q = []\n",
    "heapq.heappush(q, (0, c))\n",
    "while q:\n",
    "    dist, now = heapq.heappop(q)\n",
    "    for i in graph[now]:\n",
    "        cost = dist + i[1]\n",
    "        if distance[i[0]] > cost:\n",
    "            distance[i[0]] = cost\n",
    "            heapq.heappush(q, (cost, i[0]))\n",
    "count = 0\n",
    "max_value = -1e9\n",
    "for i in range(1, n + 1):\n",
    "    if distance[i] < INF:\n",
    "        count += 1\n",
    "        max_value = max(max_value, distance[i])\n",
    "print(count - 1, max_value)"
   ]
  },
  {
   "cell_type": "markdown",
   "id": "a22a859a",
   "metadata": {},
   "source": [
    "# 답안 작성 후 생각"
   ]
  },
  {
   "cell_type": "code",
   "execution_count": null,
   "id": "69cd6e5e",
   "metadata": {},
   "outputs": [],
   "source": [
    "\"\"\"\"\"\"\"\"\"\"\n",
    "조금 헷갈리는 부분을 제외하면 크게 응용이 필요한 것은 아니다.\n",
    "\"\"\"\"\"\"\"\"\"\""
   ]
  },
  {
   "cell_type": "markdown",
   "id": "9921213b",
   "metadata": {},
   "source": [
    "# 정답"
   ]
  },
  {
   "cell_type": "code",
   "execution_count": null,
   "id": "9995efc3",
   "metadata": {},
   "outputs": [],
   "source": [
    "import heapq\n",
    "INF = int(1e9)\n",
    "n, m, start = map(int, input().split())\n",
    "graph = [[] for i in range(n + 1)]\n",
    "distance = [INF] * (n + 1)\n",
    "\n",
    "for _ in range(m):\n",
    "    x, y, z = map(int, input().split())\n",
    "    graph[x].append((y, z))\n",
    "\n",
    "def dijkstra:\n",
    "    q = []\n",
    "    heapq.heappush(q, (0, start))\n",
    "    distance[start] = 0\n",
    "    while q:\n",
    "        dist, now = heapq.heappop(q)\n",
    "        if distance[now] < dist:\n",
    "            continue\n",
    "        for i in graph[now]:\n",
    "            cost = dist + i[1]\n",
    "            if distance[i[0]] > cost:\n",
    "                distance[i[0]] = cost\n",
    "                heapq.heappush(q, (cost, i[0]))\n",
    "dijkstra(start)\n",
    "count = 0\n",
    "max_distance = 0\n",
    "for d in distance:\n",
    "    if d != INF:\n",
    "        count += 1\n",
    "        max_distance = max(max_distance, d)\n",
    "print(count - 1, max_distance)"
   ]
  },
  {
   "cell_type": "markdown",
   "id": "ffd000d5",
   "metadata": {},
   "source": [
    "# 정답 확인 후 생각"
   ]
  },
  {
   "cell_type": "code",
   "execution_count": null,
   "id": "d1dc9369",
   "metadata": {},
   "outputs": [],
   "source": [
    "\"\"\"\"\"\"\"\"\"\"\n",
    "다익스트라 알고리즘에서는 다음 코드를 잊지말자.\n",
    "\n",
    "if distance[now] < dist:\n",
    "            continue\n",
    "\n",
    "\"\"\"\"\"\"\"\"\"\""
   ]
  }
 ],
 "metadata": {
  "kernelspec": {
   "display_name": "Python 3 (ipykernel)",
   "language": "python",
   "name": "python3"
  },
  "language_info": {
   "codemirror_mode": {
    "name": "ipython",
    "version": 3
   },
   "file_extension": ".py",
   "mimetype": "text/x-python",
   "name": "python",
   "nbconvert_exporter": "python",
   "pygments_lexer": "ipython3",
   "version": "3.7.13"
  }
 },
 "nbformat": 4,
 "nbformat_minor": 5
}
