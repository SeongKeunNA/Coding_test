{
 "cells": [
  {
   "cell_type": "markdown",
   "id": "aaaa990f",
   "metadata": {},
   "source": [
    "# 코딩 전 생각"
   ]
  },
  {
   "cell_type": "code",
   "execution_count": null,
   "id": "b4ee7b1f",
   "metadata": {},
   "outputs": [],
   "source": [
    "\"\"\"\"\"\"\"\"\"\"\n",
    "1-k-x 까지의 최소 이동 시간을 찾아야 하므로,\n",
    "\n",
    "1. 다익스트라 알고리즘을 이용해 1-k/ 1-x까지의 최소 이동 거리를 구해 합산한다.\n",
    "\n",
    "2. 플로이드워셜 알고리즘을 이용해 1-k-x까지의 최소 이동 거리를 구한다.\n",
    "\"\"\"\"\"\"\"\"\"\""
   ]
  },
  {
   "cell_type": "markdown",
   "id": "cfa71047",
   "metadata": {},
   "source": [
    "# 내 답안: 다익스트라 알고리즘"
   ]
  },
  {
   "cell_type": "code",
   "execution_count": 9,
   "id": "0a4efb9b",
   "metadata": {},
   "outputs": [
    {
     "name": "stdout",
     "output_type": "stream",
     "text": [
      "4 2\n",
      "1 3\n",
      "2 4\n",
      "3 4\n",
      "-1\n"
     ]
    }
   ],
   "source": [
    "import heapq\n",
    "INF = int(1e9)\n",
    "n, m = map(int, input().split())\n",
    "graph = [[] for _ in range(n + 1)]\n",
    "for _ in range(m):\n",
    "    a, b = map(int, input().split())\n",
    "    graph[a].append(b)\n",
    "    graph[b].append(a)\n",
    "x, k = map(int, input().split())\n",
    "def dijkstra(start, end):\n",
    "    distance = [INF] * (n + 1)\n",
    "    distance[start] = 0\n",
    "    q = []\n",
    "    heapq.heappush(q, start)\n",
    "    while q:\n",
    "        now = heapq.heappop(q)\n",
    "        cost = distance[now] + 1\n",
    "        for i in graph[now]:\n",
    "            if distance[i] > cost:\n",
    "                distance[i] = cost\n",
    "                heapq.heappush(q, i)\n",
    "    if distance[end] == INF:\n",
    "        return -1\n",
    "    else:\n",
    "        return distance[end]\n",
    "if dijkstra(1, k) == -1 or dijkstra(k, x) == -1:\n",
    "    print(-1)\n",
    "else:\n",
    "    print(dijkstra(1, k) + dijkstra(k, x))"
   ]
  },
  {
   "cell_type": "markdown",
   "id": "482fef1c",
   "metadata": {},
   "source": [
    "# 내 답안:플로이드 워셜"
   ]
  },
  {
   "cell_type": "code",
   "execution_count": 15,
   "id": "71f4ff63",
   "metadata": {},
   "outputs": [
    {
     "name": "stdout",
     "output_type": "stream",
     "text": [
      "5 7\n",
      "1 2\n",
      "1 3\n",
      "1 4\n",
      "2 4\n",
      "3 4\n",
      "3 5\n",
      "4 5\n",
      "4 5\n",
      "3\n"
     ]
    }
   ],
   "source": [
    "INF = int(1e9)\n",
    "n, m = map(int, input().split())\n",
    "\n",
    "distance = [[INF] * (n + 1) for _ in range(n + 1)]\n",
    "for _ in range(m):\n",
    "    a, b = map(int, input().split())\n",
    "    distance[a][b] = 1\n",
    "    distance[b][a] = 1\n",
    "x, k = map(int, input().split())\n",
    "for a in range(1, n+1):\n",
    "    for b in range(1, n+1):\n",
    "        if a == b:\n",
    "            distance[a][b] == 0\n",
    "for i in range(1, n + 1):\n",
    "    for a in range(1, n + 1):\n",
    "        for b in range(1, n + 1):\n",
    "            distance[a][b] = min(distance[a][b], distance[a][i] + distance[i][b])\n",
    "if distance[1][k] == INF or distance[k][x] == INF:\n",
    "    print(-1)\n",
    "else:\n",
    "    print(distance[1][k] + distance[k][x])"
   ]
  },
  {
   "cell_type": "markdown",
   "id": "b7dd3f84",
   "metadata": {},
   "source": [
    "# 답안 작성 후 생각"
   ]
  },
  {
   "cell_type": "code",
   "execution_count": 16,
   "id": "01439f11",
   "metadata": {},
   "outputs": [
    {
     "ename": "SyntaxError",
     "evalue": "EOF while scanning triple-quoted string literal (2409538860.py, line 1)",
     "output_type": "error",
     "traceback": [
      "\u001b[1;36m  File \u001b[1;32m\"C:\\Users\\najonggeun\\AppData\\Local\\Temp\\ipykernel_9492\\2409538860.py\"\u001b[1;36m, line \u001b[1;32m1\u001b[0m\n\u001b[1;33m    \"\"\"\"\"\"\"\"\"\u001b[0m\n\u001b[1;37m             ^\u001b[0m\n\u001b[1;31mSyntaxError\u001b[0m\u001b[1;31m:\u001b[0m EOF while scanning triple-quoted string literal\n"
     ]
    }
   ],
   "source": [
    "\"\"\"\"\"\"\"\"\"\"\n",
    "이상 무 \n",
    "\"\"\"\"\"\"\"\"\"\""
   ]
  },
  {
   "cell_type": "markdown",
   "id": "ded86fb3",
   "metadata": {},
   "source": [
    "# 정답"
   ]
  },
  {
   "cell_type": "code",
   "execution_count": null,
   "id": "12a3cc9a",
   "metadata": {},
   "outputs": [],
   "source": [
    "INF = int(1e9)\n",
    "n, m = map(int, input().split())\n",
    "graph = [[INF] * (n + 1) for _ in range(n + 1)]\n",
    "\n",
    "for a in range(1, n+1):\n",
    "    for b in range(1, n+1):\n",
    "        if a == b:\n",
    "            graph[a][b] == 0\n",
    "            \n",
    "for _ in range(m):\n",
    "    a, b = map(int, input().split())\n",
    "    graph[a][b] = 1\n",
    "    graph[b][a] = 1\n",
    "    \n",
    "x, k = map(int, input().split())\n",
    "\n",
    "for k in range(1, n + 1):\n",
    "    for a in range(1, n + 1):\n",
    "        for b in range(1, n + 1):\n",
    "            distance[a][b] = min(distance[a][b], distance[a][k] + distance[k][b])\n",
    "            \n",
    "distance = graph[1][k] + graph[k][x]\n",
    "\n",
    "if distance[1][k] >= INF:\n",
    "    print('-1')\n",
    "else:\n",
    "    print(distance)"
   ]
  },
  {
   "cell_type": "markdown",
   "id": "00eee383",
   "metadata": {},
   "source": [
    "# 정답 확인 후 생각"
   ]
  },
  {
   "cell_type": "code",
   "execution_count": null,
   "id": "8ed47531",
   "metadata": {},
   "outputs": [],
   "source": [
    "\"\"\"\"\"\"\"\"\"\"\n",
    "이상 무\n",
    "\"\"\"\"\"\"\"\"\"\""
   ]
  }
 ],
 "metadata": {
  "kernelspec": {
   "display_name": "Python 3 (ipykernel)",
   "language": "python",
   "name": "python3"
  },
  "language_info": {
   "codemirror_mode": {
    "name": "ipython",
    "version": 3
   },
   "file_extension": ".py",
   "mimetype": "text/x-python",
   "name": "python",
   "nbconvert_exporter": "python",
   "pygments_lexer": "ipython3",
   "version": "3.7.13"
  }
 },
 "nbformat": 4,
 "nbformat_minor": 5
}
