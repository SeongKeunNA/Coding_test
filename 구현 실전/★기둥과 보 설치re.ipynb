{
 "cells": [
  {
   "cell_type": "markdown",
   "id": "761b7281",
   "metadata": {},
   "source": [
    "# 코딩 전 생각"
   ]
  },
  {
   "cell_type": "code",
   "execution_count": 1,
   "id": "408ae468",
   "metadata": {},
   "outputs": [
    {
     "ename": "SyntaxError",
     "evalue": "EOF while scanning triple-quoted string literal (886353925.py, line 1)",
     "output_type": "error",
     "traceback": [
      "\u001b[1;36m  File \u001b[1;32m\"C:\\Users\\najonggeun\\AppData\\Local\\Temp\\ipykernel_9496\\886353925.py\"\u001b[1;36m, line \u001b[1;32m1\u001b[0m\n\u001b[1;33m    \"\"\"\"\"\"\"\"\"\"\u001b[0m\n\u001b[1;37m              ^\u001b[0m\n\u001b[1;31mSyntaxError\u001b[0m\u001b[1;31m:\u001b[0m EOF while scanning triple-quoted string literal\n"
     ]
    }
   ],
   "source": [
    "\"\"\"\"\"\"\"\"\"\"\n",
    "1. 설치되어 있는 기둥과 보를 담는 리스트 생성\n",
    "\n",
    "2. build_frame의 원소인 [x,y,a,b]마다 반복하여:\n",
    "    1. x, y, a, b = i로 뽑아냄\n",
    "    2. b가 0이면 삭제, 1이면 설치/ a가 0이면 기둥, 1이면 보\n",
    "    2-1. 삭제:\n",
    "        2-1-1. 기둥 삭제:\n",
    "            2-1-1-1. 위에(x, y+1) 기둥이 존재:\n",
    "                (x-1, y+1)이나 (x, y+1) 위치에 보가 있어야함\n",
    "            2-1-1-2. 왼쪽 위에 (x-1, y+1) 보가 존재:\n",
    "                x-2,y+1과 x,y+1에 보가 있거나 x-1, y에 기둥이 있어야함\n",
    "            2-1-1-3. 오른쪽 위에 (x, y+1) 보가 존재:\n",
    "                x-1,y+1과 x+1,y+1에 보가 있거나 x+1, y에 기둥이 있어야함\n",
    "                \n",
    "                \n",
    "        2-1-2. 보 삭제:\n",
    "            2-1-2-1. 왼쪽보(x-1,y)가 있을 경우:\n",
    "                x-1,y-1나 x,y-1에 기둥이 있어야함\n",
    "                \n",
    "            2-1-2-2. 오른쪽보(x+1,y)가 있을 경우:\n",
    "                x+1,y-1나 x+2,y-1에 기둥이 있어야함\n",
    "                \n",
    "            2-1-2-3. x+1,y위치에 기둥이 있을 경우:\n",
    "                기둥 및에 기둥(x+1,y-1)이 있어야 함\n",
    "    2-2. 설치:\n",
    "        2-2-1. 기둥 설치\n",
    "        2-2-2. 보 설치\n",
    "        \n",
    "3. 리스트 정렬 후 반환\n",
    "\"\"\"\"\"\"\"\"\"\""
   ]
  },
  {
   "cell_type": "markdown",
   "id": "d5967767",
   "metadata": {},
   "source": [
    "# 내 답안"
   ]
  },
  {
   "cell_type": "code",
   "execution_count": null,
   "id": "78a235c4",
   "metadata": {},
   "outputs": [],
   "source": [
    "def check(answer):\n",
    "    for ans in answer:\n",
    "        x, y, a = ans\n",
    "        if  a == 0:\n",
    "            if y != 0 and [x, y-1, 0] not in answer and [x-1, y, 1] not in answer and [x, y, 1] not in answer:\n",
    "                return False\n",
    "        elif a == 1:\n",
    "            if ([x-1, y, 1] not in answer or [x+1, y, 1] not in answer) and [x, y-1, 0] not in answer and [x+1, y-1, 0] not in answer:\n",
    "                return False\n",
    "    return True\n",
    "            \n",
    "def solution(n, build_frame):\n",
    "    answer = []\n",
    "    for f in build_frame:\n",
    "        x, y, a, b = f\n",
    "        if b == 0:\n",
    "            answer.remove([x,y,a])\n",
    "            if not check(answer):\n",
    "                answer.append([x,y,a])\n",
    "\n",
    "        elif b == 1:\n",
    "            if a == 0:\n",
    "                if y != 0 and [x, y-1, 0] not in answer and [x-1, y, 1] not in answer and [x, y, 1] not in answer:\n",
    "                    continue\n",
    "            elif a == 1:\n",
    "                if ([x-1, y, 1] not in answer or [x+1, y, 1] not in answer) and [x, y-1, 0] not in answer and [x+1, y-1, 0] not in answer:\n",
    "                    continue\n",
    "            answer.append([x,y,a])\n",
    "            \n",
    "    answer.sort(key = lambda x:(x[0], x[1], x[2]))\n",
    "    return answer"
   ]
  },
  {
   "cell_type": "markdown",
   "id": "44c0c718",
   "metadata": {},
   "source": [
    "# 답안 작성 후 생각"
   ]
  },
  {
   "cell_type": "code",
   "execution_count": null,
   "id": "e9be6154",
   "metadata": {},
   "outputs": [],
   "source": [
    "\"\"\"\"\"\"\"\"\"\"\n",
    "문제의 틀은 빨리 잡았지만, 보의 삭제 가능 여부는 양 옆의 보를 확인하는 작업 때문에\n",
    "\n",
    "현재 설치된 모든 건축물에 대해 확인해야 한다는 것과, \n",
    "\n",
    "같은 위치에 보와 기둥이 설치될 수 있다는 것을 힌트를 보고 뒤늦게 깨달음\n",
    "\"\"\"\"\"\"\"\"\"\""
   ]
  },
  {
   "cell_type": "markdown",
   "id": "39dcc57c",
   "metadata": {},
   "source": [
    "# 정답"
   ]
  },
  {
   "cell_type": "code",
   "execution_count": null,
   "id": "86b23b12",
   "metadata": {},
   "outputs": [],
   "source": [
    "def possible(answer):\n",
    "    for x, y, stuff in answer:\n",
    "        if stuff == 0:\n",
    "            if y == 0 or [x-1,y,1] in answer or [x, y, 1] in answer or [x,y-1,0] in answer:\n",
    "                continue\n",
    "            return False\n",
    "        elif stuff == 1:\n",
    "            if [x, y-1, 0] in answer or [x+1, y-1, 0] in answer or ([x-1, y,1]in answer and [x+1, y,1] in answer):\n",
    "                continue\n",
    "            return False\n",
    "    return True\n",
    "\n",
    "def solution(n, build_frame):\n",
    "    ansewr = []\n",
    "    for frame in built_frame:\n",
    "        x,y,stuff,operate = frame\n",
    "        if operate ==0:\n",
    "            answer.remove([x,y,stuff])\n",
    "            if not possible(answer):\n",
    "                answer.append([x,y,stuff])\n",
    "        if operate ==1:\n",
    "            answer.append([x,y,stuff])\n",
    "            if not possible(answer):\n",
    "                answer.remove([x,y,stuff])\n",
    "    return sorted(answer)"
   ]
  },
  {
   "cell_type": "markdown",
   "id": "304c9b01",
   "metadata": {},
   "source": [
    "# 정답 확인 후 생각"
   ]
  },
  {
   "cell_type": "code",
   "execution_count": null,
   "id": "2c2785bd",
   "metadata": {},
   "outputs": [],
   "source": [
    "\"\"\"\"\"\"\"\"\"\"\n",
    "삭제 연산이 아니라 추가 연산에도 possible 함수를 이용했다.\n",
    "\"\"\"\"\"\"\"\"\"\""
   ]
  }
 ],
 "metadata": {
  "kernelspec": {
   "display_name": "Python 3 (ipykernel)",
   "language": "python",
   "name": "python3"
  },
  "language_info": {
   "codemirror_mode": {
    "name": "ipython",
    "version": 3
   },
   "file_extension": ".py",
   "mimetype": "text/x-python",
   "name": "python",
   "nbconvert_exporter": "python",
   "pygments_lexer": "ipython3",
   "version": "3.7.13"
  }
 },
 "nbformat": 4,
 "nbformat_minor": 5
}
