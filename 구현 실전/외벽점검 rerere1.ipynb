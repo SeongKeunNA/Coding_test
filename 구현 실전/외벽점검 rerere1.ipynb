{
 "cells": [
  {
   "cell_type": "markdown",
   "id": "68cfef41",
   "metadata": {},
   "source": [
    "# 코딩 전 생각"
   ]
  },
  {
   "cell_type": "code",
   "execution_count": null,
   "id": "60c87c8f",
   "metadata": {},
   "outputs": [],
   "source": [
    "\"\"\"\"\"\"\"\"\"\"\n",
    "0. new_weak = weak로 선언하고, weak의 각 원소에 n을 더한 값을 추가함.\n",
    "\n",
    "1. weak의 개수를 length 변수로 선언함.\n",
    "\n",
    "2. 투입할 친구 수 i를 1부터 len(dist)까지 늘려가면서:\n",
    "    friends 변수를 dist[-i:]로 선언함.\n",
    "    possible 변수에 friends 변수들을 나열할 수 있는 모든 조합(순열)을 담음.\n",
    "    for p in possible:\n",
    "        idx = 0\n",
    "        pos = weak[0]\n",
    "        while True:\n",
    "            if idx >= length - 1:\n",
    "                return i\n",
    "            if pos >= weak[idx]:\n",
    "                idx += 1\n",
    "            else:\n",
    "                pos = weak[idx] + p[fnum]\n",
    "                fnum += 1\n",
    "                idx += 1\n",
    "                if fnum >= i - 1:\n",
    "                    break\n",
    "* 문제 흐름:\n",
    "    idx = 1, fnum = 1\n",
    "    1) 현재위치를 출발위치에서 도착위치까지 이동 \n",
    "    \n",
    "    2) 도착 위치가 weak[idx] 보다 덜 갔을 경우:\n",
    "        친구를 추가하고, 현재 위치를 weak[idx]로 변경.\n",
    "        \n",
    "    3-idx를 1늘림.\n",
    "    \n",
    "\"\"\"\"\"\"\"\"\"\""
   ]
  },
  {
   "cell_type": "markdown",
   "id": "dbb4ca4c",
   "metadata": {},
   "source": [
    "# 내 답안"
   ]
  },
  {
   "cell_type": "code",
   "execution_count": 6,
   "id": "416facd0",
   "metadata": {},
   "outputs": [],
   "source": [
    "from itertools import permutations as pe\n",
    "\n",
    "a=[1,2,3,4]\n",
    "aa = list(pe(a[-1:], 1))"
   ]
  },
  {
   "cell_type": "code",
   "execution_count": 8,
   "id": "3241d87c",
   "metadata": {},
   "outputs": [],
   "source": [
    "from itertools import permutations as pe\n",
    "def solution(n, weak, dist):\n",
    "    length = len(weak)\n",
    "    for i in range(1, len(dist) + 1):\n",
    "        friends = dist[-i:]\n",
    "        possible = list(pe(friends, i))\n",
    "        for p in possible:\n",
    "            pos = weak[0]\n",
    "            idx = 0\n",
    "            fnum = 1\n",
    "            ck = 0 # p = (4,3)\n",
    "            while True:\n",
    "                if ck == 1:\n",
    "                    break\n",
    "                pos += p[0] #5\n",
    "                while True:\n",
    "                    idx += 1 # 1 2\n",
    "                    if pos < weak[idx]:   #5 6 \n",
    "                        if fnum >= i:\n",
    "                            ck = 1 #ck=1\n",
    "                        pos = weak[idx] #6\n",
    "                        break\n",
    "                    if idx >= length - 1:\n",
    "                        return i\n",
    "                    "
   ]
  },
  {
   "cell_type": "code",
   "execution_count": 9,
   "id": "00064f5f",
   "metadata": {},
   "outputs": [
    {
     "ename": "IndexError",
     "evalue": "list index out of range",
     "output_type": "error",
     "traceback": [
      "\u001b[1;31m---------------------------------------------------------------------------\u001b[0m",
      "\u001b[1;31mIndexError\u001b[0m                                Traceback (most recent call last)",
      "\u001b[1;32m~\\AppData\\Local\\Temp\\ipykernel_25728\\105421178.py\u001b[0m in \u001b[0;36m<module>\u001b[1;34m\u001b[0m\n\u001b[1;32m----> 1\u001b[1;33m \u001b[0msolution\u001b[0m\u001b[1;33m(\u001b[0m\u001b[1;36m12\u001b[0m\u001b[1;33m,\u001b[0m \u001b[1;33m[\u001b[0m\u001b[1;36m1\u001b[0m\u001b[1;33m,\u001b[0m\u001b[1;36m5\u001b[0m\u001b[1;33m,\u001b[0m\u001b[1;36m6\u001b[0m\u001b[1;33m,\u001b[0m\u001b[1;36m10\u001b[0m\u001b[1;33m]\u001b[0m\u001b[1;33m,\u001b[0m \u001b[1;33m[\u001b[0m\u001b[1;36m1\u001b[0m\u001b[1;33m,\u001b[0m\u001b[1;36m2\u001b[0m\u001b[1;33m,\u001b[0m\u001b[1;36m3\u001b[0m\u001b[1;33m,\u001b[0m\u001b[1;36m4\u001b[0m\u001b[1;33m]\u001b[0m\u001b[1;33m)\u001b[0m\u001b[1;33m\u001b[0m\u001b[1;33m\u001b[0m\u001b[0m\n\u001b[0m",
      "\u001b[1;32m~\\AppData\\Local\\Temp\\ipykernel_25728\\4182052223.py\u001b[0m in \u001b[0;36msolution\u001b[1;34m(n, weak, dist)\u001b[0m\n\u001b[0;32m     16\u001b[0m                 \u001b[1;32mwhile\u001b[0m \u001b[1;32mTrue\u001b[0m\u001b[1;33m:\u001b[0m\u001b[1;33m\u001b[0m\u001b[1;33m\u001b[0m\u001b[0m\n\u001b[0;32m     17\u001b[0m                     \u001b[0midx\u001b[0m \u001b[1;33m+=\u001b[0m \u001b[1;36m1\u001b[0m \u001b[1;31m# 1 2\u001b[0m\u001b[1;33m\u001b[0m\u001b[1;33m\u001b[0m\u001b[0m\n\u001b[1;32m---> 18\u001b[1;33m                     \u001b[1;32mif\u001b[0m \u001b[0mpos\u001b[0m \u001b[1;33m<\u001b[0m \u001b[0mweak\u001b[0m\u001b[1;33m[\u001b[0m\u001b[0midx\u001b[0m\u001b[1;33m]\u001b[0m\u001b[1;33m:\u001b[0m   \u001b[1;31m#5 6\u001b[0m\u001b[1;33m\u001b[0m\u001b[1;33m\u001b[0m\u001b[0m\n\u001b[0m\u001b[0;32m     19\u001b[0m                         \u001b[1;32mif\u001b[0m \u001b[0mfnum\u001b[0m \u001b[1;33m>=\u001b[0m \u001b[0mi\u001b[0m\u001b[1;33m:\u001b[0m\u001b[1;33m\u001b[0m\u001b[1;33m\u001b[0m\u001b[0m\n\u001b[0;32m     20\u001b[0m                             \u001b[0mck\u001b[0m \u001b[1;33m=\u001b[0m \u001b[1;36m1\u001b[0m \u001b[1;31m#ck=1\u001b[0m\u001b[1;33m\u001b[0m\u001b[1;33m\u001b[0m\u001b[0m\n",
      "\u001b[1;31mIndexError\u001b[0m: list index out of range"
     ]
    }
   ],
   "source": [
    "solution(12, [1,5,6,10], [1,2,3,4])"
   ]
  },
  {
   "cell_type": "code",
   "execution_count": null,
   "id": "9438c602",
   "metadata": {},
   "outputs": [],
   "source": [
    "from itertools import permutations as pe\n",
    "def solution(n, weak, dist):\n",
    "    new_weak = []\n",
    "    for w in weak:\n",
    "        new_weak.append(w)\n",
    "        new_weak.append(w + n)\n",
    "    new_weak.sort()\n",
    "    \n",
    "    length = len(weak)\n",
    "    for i in range(1, len(dist) + 1):\n",
    "        friends = dist[-i:]\n",
    "        possible = list(pe(friends, i))\n",
    "        for p in possible:\n",
    "            for s in range(0, length): #3\n",
    "                pos = weak[s] #9\n",
    "                idx = s #3\n",
    "                fnum = 1\n",
    "                ck = 0 # p= (7)\n",
    "                while True:\n",
    "                    if ck == 1:\n",
    "                        break\n",
    "                    pos += p[fnum - 1]  #16\n",
    "                    while True:\n",
    "                        idx += 1 # 4\n",
    "                        if idx >= s + length: #8?\n",
    "                            return i\n",
    "                        if pos < new_weak[idx]:   #5 6 \n",
    "                            if fnum >= i:\n",
    "                                ck = 1 #ck=1\n",
    "                            pos = new_weak[idx] #6\n",
    "                            break"
   ]
  },
  {
   "cell_type": "markdown",
   "id": "1683b30c",
   "metadata": {},
   "source": [
    "# 답안 작성 후 생각"
   ]
  },
  {
   "cell_type": "code",
   "execution_count": null,
   "id": "9c9e12f7",
   "metadata": {},
   "outputs": [],
   "source": [
    "\"\"\"\"\"\"\"\"\"\"\n",
    "우여곡절 끝에 두 가지 입력 예제에 대해서는 정답을 출력하지만, 프로그래머스 사이트에서는 대부분 오답을 기록한다.\n",
    "\"\"\"\"\"\"\"\"\"\""
   ]
  }
 ],
 "metadata": {
  "kernelspec": {
   "display_name": "Python 3 (ipykernel)",
   "language": "python",
   "name": "python3"
  },
  "language_info": {
   "codemirror_mode": {
    "name": "ipython",
    "version": 3
   },
   "file_extension": ".py",
   "mimetype": "text/x-python",
   "name": "python",
   "nbconvert_exporter": "python",
   "pygments_lexer": "ipython3",
   "version": "3.7.13"
  }
 },
 "nbformat": 4,
 "nbformat_minor": 5
}
