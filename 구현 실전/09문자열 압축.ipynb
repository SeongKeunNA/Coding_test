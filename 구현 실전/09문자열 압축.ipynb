{
 "cells": [
  {
   "cell_type": "code",
   "execution_count": 86,
   "id": "4281a166",
   "metadata": {},
   "outputs": [],
   "source": [
    "#내 답안\n",
    "def solution(s):\n",
    "    answer = len(s)\n",
    "    def com(s, srt, k):\n",
    "        result = []\n",
    "        r = 1\n",
    "        t = s[srt:srt + k]\n",
    "        while srt + (2 * k) <= len(s):\n",
    "            if s[srt + k:srt + (2 * k)] ==  t:\n",
    "                r += 1\n",
    "                srt += k\n",
    "            else:\n",
    "                if r > 1:\n",
    "                    result.append(str(r))\n",
    "                r = 1\n",
    "                result.append(t)\n",
    "                t = s[srt + k:srt + (2 * k)]\n",
    "                srt += k\n",
    "\n",
    "        if r > 1:\n",
    "            for i in str(r):\n",
    "                result.append(i)\n",
    "        result.append(t)\n",
    "        result.append(s[srt+k:len(s)])\n",
    "        return len(''.join(result))\n",
    "    for i in range(1, len(s)//2 + 1):\n",
    "        answer = min(answer, com(s, 0, i)) \n",
    "    return answer"
   ]
  },
  {
   "cell_type": "code",
   "execution_count": 87,
   "id": "193efee0",
   "metadata": {},
   "outputs": [
    {
     "data": {
      "text/plain": [
       "14"
      ]
     },
     "execution_count": 87,
     "metadata": {},
     "output_type": "execute_result"
    }
   ],
   "source": [
    "# 정답\n",
    "def solution(s):\n",
    "    answer = len(s)\n",
    "    # 1개 단위(strep)부터 압축 단위를 늘려가며 확인\n",
    "    for step in range(1, len(s) // 2 + 1):\n",
    "        compressed = ''\n",
    "        prev = s[0:step] # 앞에서부터 step만큼의 문자열 추출\n",
    "        count = 1\n",
    "        \n",
    "        # 단위(step) 크기만큼 증가시키며 이전 문자열과 비교\n",
    "        for j in range(step, len(s), step):\n",
    "            # 이전 상태와 동일하다면 압축 횟수(count) 증가\n",
    "            if prev == s[j:j + step]:\n",
    "                count += 1\n",
    "            # 다른 문자열이 나왔다면(더 이상 압축하지 못하는 경우라면)\n",
    "            else:\n",
    "                compressed += str(count) + prev if count >= 2 else prev\n",
    "                prev = s[j:j + step] # 다시 상태 초기화\n",
    "                count = 1\n",
    "        # 남아 있는 문자열에 대해서 처리\n",
    "        compressed += str(count) + prev if count >= 2 else prev\n",
    "        answer = min(answer, len(compressed))\n",
    "    return answer"
   ]
  }
 ],
 "metadata": {
  "kernelspec": {
   "display_name": "pytorch",
   "language": "python",
   "name": "pt1.1"
  },
  "language_info": {
   "codemirror_mode": {
    "name": "ipython",
    "version": 3
   },
   "file_extension": ".py",
   "mimetype": "text/x-python",
   "name": "python",
   "nbconvert_exporter": "python",
   "pygments_lexer": "ipython3",
   "version": "3.9.7"
  }
 },
 "nbformat": 4,
 "nbformat_minor": 5
}
