{
 "cells": [
  {
   "cell_type": "code",
   "execution_count": 18,
   "id": "83b56d22",
   "metadata": {},
   "outputs": [
    {
     "name": "stdout",
     "output_type": "stream",
     "text": [
      "123402\n",
      "123\n",
      "402\n",
      "LUCKY\n"
     ]
    }
   ],
   "source": [
    "#내 답안\n",
    "n = int(input())\n",
    "nn = str(n)\n",
    "a = nn[:int((len(nn)) / 2)]\n",
    "b = nn[int((len(nn) / 2)):]\n",
    "asum = 0\n",
    "bsum = 0\n",
    "for i in a:\n",
    "    asum += int(i)\n",
    "for i in b:\n",
    "    bsum += int(i)\n",
    "if asum == bsum:\n",
    "    print('LUCKY')\n",
    "else:\n",
    "    print('READY')"
   ]
  },
  {
   "cell_type": "code",
   "execution_count": 21,
   "id": "4e7bc0c8",
   "metadata": {},
   "outputs": [
    {
     "name": "stdout",
     "output_type": "stream",
     "text": [
      "7755\n",
      "READY\n"
     ]
    }
   ],
   "source": [
    "# 정답\n",
    "n = input()\n",
    "length = len(n)\n",
    "summary = 0\n",
    "\n",
    "for i in range(length // 2):\n",
    "    summary += int(n[i])\n",
    "    \n",
    "for i in range(length // 2, length):\n",
    "    summary -= int(n[i])\n",
    "    \n",
    "if summary == 0:\n",
    "    print('LUCKY')\n",
    "else:\n",
    "    print('READY')"
   ]
  }
 ],
 "metadata": {
  "kernelspec": {
   "display_name": "pytorch",
   "language": "python",
   "name": "pt1.1"
  },
  "language_info": {
   "codemirror_mode": {
    "name": "ipython",
    "version": 3
   },
   "file_extension": ".py",
   "mimetype": "text/x-python",
   "name": "python",
   "nbconvert_exporter": "python",
   "pygments_lexer": "ipython3",
   "version": "3.9.7"
  }
 },
 "nbformat": 4,
 "nbformat_minor": 5
}
