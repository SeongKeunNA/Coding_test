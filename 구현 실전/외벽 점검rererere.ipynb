{
 "cells": [
  {
   "cell_type": "markdown",
   "id": "e67aa39d",
   "metadata": {},
   "source": [
    "# 코딩 전 생각"
   ]
  },
  {
   "cell_type": "code",
   "execution_count": null,
   "id": "8e8e2486",
   "metadata": {},
   "outputs": [],
   "source": [
    "\"\"\"\"\"\"\"\"\"\"\n",
    "1. weak의 각 원소에 n을 더한 원소를 추가한 new_weak 리스트를 선언한다.\n",
    "\n",
    "2. 총 투입 인원을 1, 2.. len(dist)만큼 증가시키며(i명):\n",
    "\n",
    "3. 가장 이동 거리가 큰 i명의 친구들을 대상으로(dist[-i:])\n",
    "\n",
    "4. 친구들의 가능한 순서를 permutation으로 구하여 그 가능한 경우의 수마다 반복하여:(friends)\n",
    "\n",
    "5. 시작 인덱스를 len(weak)만큼 반복하여(s):\n",
    "인덱스가 weak의 길이보다 작을 때까지 반복하여 매 반복마다 친구를 이동시키고:\n",
    "1)만약 다음 인덱스위치까지 이동했다면, 인덱스를 1증가시킨다.\n",
    "2)그렇지 않다면 친구를 한명 더 투입시키고,\n",
    "현재 위치를 인덱스 + 새로운 친구의 이동거리로 하고 인덱스를 증가시킨다.\n",
    "이때 더 이상 부를 친구가 없으면 continue하고, 그렇지않으면서 반복문이 끝나면 현재 i값을 반환한다.\n",
    "\"\"\"\"\"\"\"\"\"\""
   ]
  },
  {
   "cell_type": "markdown",
   "id": "0e5cdc5f",
   "metadata": {},
   "source": [
    "# 내 답안"
   ]
  },
  {
   "cell_type": "code",
   "execution_count": null,
   "id": "df00306f",
   "metadata": {},
   "outputs": [],
   "source": [
    "from itertools import permutations as pt\n",
    "def solution(n, weak, dist):\n",
    "    answer = 0\n",
    "    new_weak = []\n",
    "    for w in weak:\n",
    "        new_weak.append(w)\n",
    "        new_weak.append(w+n)\n",
    "    new_weak.sort()\n",
    "    for i in range(1, len(dist) + 1):\n",
    "        for friends in pt(dist[-i:], i):\n",
    "            for s in range(len(weak)):\n",
    "                friend_idx = 0\n",
    "                pos = weak[s] + friends[friend_idx]\n",
    "                for idx in range(s, s + len(weak)):\n",
    "                    if pos < new_weak[idx]:\n",
    "                        if friend_idx >= i - 1:\n",
    "                            break\n",
    "                        friend_idx += 1\n",
    "                        pos = new_weak[idx] + friends[friend_idx]\n",
    "                else:\n",
    "                    return i\n",
    "    return -1"
   ]
  }
 ],
 "metadata": {
  "kernelspec": {
   "display_name": "Python 3 (ipykernel)",
   "language": "python",
   "name": "python3"
  },
  "language_info": {
   "codemirror_mode": {
    "name": "ipython",
    "version": 3
   },
   "file_extension": ".py",
   "mimetype": "text/x-python",
   "name": "python",
   "nbconvert_exporter": "python",
   "pygments_lexer": "ipython3",
   "version": "3.7.13"
  }
 },
 "nbformat": 4,
 "nbformat_minor": 5
}
