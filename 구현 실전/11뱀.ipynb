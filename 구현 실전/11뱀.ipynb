{
 "cells": [
  {
   "cell_type": "markdown",
   "id": "450e762f",
   "metadata": {},
   "source": [
    "# 내 답안"
   ]
  },
  {
   "cell_type": "code",
   "execution_count": 14,
   "id": "bd4ef725",
   "metadata": {
    "scrolled": true
   },
   "outputs": [
    {
     "name": "stdout",
     "output_type": "stream",
     "text": [
      "6\n",
      "3\n",
      "3 4\n",
      "2 5\n",
      "5 3\n",
      "3\n",
      "3 D\n",
      "15 L\n",
      "17 D\n",
      "9\n"
     ]
    }
   ],
   "source": [
    "# 입력 조건 \n",
    "n = int(input())\n",
    "k = int(input())\n",
    "a = []\n",
    "d = []\n",
    "dd = 'r'\n",
    "s = [[1,1]]\n",
    "cnt = 0\n",
    "end = 0\n",
    "\n",
    "for _ in range(k):\n",
    "    a.append(list(map(int, input().split())))\n",
    "l = int(input())\n",
    "\n",
    "for _ in range(l):\n",
    "    d.append(list(input().split()))\n",
    "    \n",
    "for i in range(len(d)):\n",
    "    d[i][0] = int(d[i][0])\n",
    "    \n",
    "# 함수 선언\n",
    "\n",
    "move = [(0, 1), (0, -1), (1, 0), (- 1, 0)]\n",
    "\n",
    "def move_(move, s, dd):  \n",
    "    global cnt\n",
    "    global a\n",
    "    global end\n",
    "\n",
    "    ls = len(s) - 1 \n",
    "    if dd == 'r': \n",
    "        next_move = s[ls][1] + move[0][1]\n",
    "        if next_move > n or [s[ls][0], next_move] in s:\n",
    "            return False\n",
    "        else:\n",
    "            if [s[ls][0], next_move] in a:\n",
    "                a.remove([s[ls][0], next_move])\n",
    "                s.append([s[ls][0], next_move])\n",
    "                return True\n",
    "            else:\n",
    "                s.append([s[ls][0], next_move])\n",
    "                del(s[0])\n",
    "                return True\n",
    "                \n",
    "    elif dd == 'l':\n",
    "        next_move = s[ls][1] + move[1][1]\n",
    "        if next_move < 1 or [s[ls][0], next_move]  in s:\n",
    "            return False\n",
    "            \n",
    "        else:\n",
    "            if [s[ls][0], next_move] in a:\n",
    "                a.remove([s[ls][0], next_move])\n",
    "                s.append([s[ls][0], next_move])\n",
    "                return True\n",
    "\n",
    "            else:\n",
    "                s.append([s[ls][0], next_move])\n",
    "                del(s[0])\n",
    "                return True\n",
    "                \n",
    "    elif dd == 'd':\n",
    "        next_move = s[ls][0] + move[2][0]\n",
    "        if next_move > n or [next_move ,s[ls][1]]  in s:\n",
    "            return False\n",
    "        else:\n",
    "            if [next_move ,s[ls][1]]  in a:\n",
    "                a.remove([next_move ,s[ls][1]])\n",
    "                s.append([next_move ,s[ls][1]])\n",
    "                return True\n",
    "            else:\n",
    "                s.append([next_move ,s[ls][1]])\n",
    "                del(s[0])\n",
    "                return True\n",
    "                    \n",
    "    else: # u s:  [[2, 9], [3, 9], [3, 8], [2, 8], [1, 8]]\n",
    "        next_move = s[ls][0] + move[3][0]\n",
    "        if next_move < 1 or [next_move ,s[ls][1]]   in s:\n",
    "            return False\n",
    "        else:\n",
    "            if [next_move ,s[ls][1]] in a:\n",
    "                a.remove([next_move ,s[ls][1]])\n",
    "                s.append([next_move ,s[ls][1]])\n",
    "                return True\n",
    "            else:\n",
    "                s.append([next_move ,s[ls][1]])\n",
    "                del(s[0])                  \n",
    "                return True\n",
    "\n",
    "def direction(dd, d):\n",
    "    if dd == 'r':\n",
    "        if d[0][1] == 'D':\n",
    "            return 'd'\n",
    "        elif d[0][1] == 'L':\n",
    "            return 'u'\n",
    "    elif dd == 'l':\n",
    "        if d[0][1] == 'D':\n",
    "            return 'u'\n",
    "        elif d[0][1] == 'L':\n",
    "            return 'd'\n",
    "    elif dd == 'd':\n",
    "        if d[0][1] == 'D':\n",
    "            return 'l'\n",
    "        elif d[0][1] == 'L':\n",
    "            return 'r'\n",
    "    elif dd == 'u':\n",
    "        if d[0][1] == 'D':\n",
    "            return 'r'\n",
    "        elif d[0][1] == 'L':\n",
    "            return'l'\n",
    "        \n",
    "# 본 코드\n",
    "end = 0                    \n",
    "while end == 0:\n",
    "    if len(d) <= 0:\n",
    "        if move_(move,s, dd):\n",
    "            s = s \n",
    "            cnt += 1\n",
    "        else:\n",
    "            print(cnt + 1)\n",
    "            break\n",
    "    else:\n",
    "        for i in range(d[0][0]):\n",
    "            if move_(move, s, dd):\n",
    "                cnt += 1\n",
    "                s = s\n",
    "            else:\n",
    "                print(cnt + 1)\n",
    "                end = 1\n",
    "                break\n",
    "\n",
    "        dd = direction(dd, d)   \n",
    "        \n",
    "              \n",
    "        if len(d) == 1:\n",
    "            del(d[0])\n",
    "        else:\n",
    "            d[1][0] -= cnt\n",
    "            del(d[0])"
   ]
  },
  {
   "cell_type": "markdown",
   "id": "e49430f1",
   "metadata": {},
   "source": [
    "# 정답"
   ]
  },
  {
   "cell_type": "code",
   "execution_count": 29,
   "id": "46db03ec",
   "metadata": {},
   "outputs": [
    {
     "name": "stdout",
     "output_type": "stream",
     "text": [
      "10\n",
      "5\n",
      "1 5\n",
      "1 3\n",
      "1 2\n",
      "1 6\n",
      "1 7\n",
      "4\n",
      "8 D\n",
      "10 D\n",
      "11 D\n",
      "13 L\n",
      "13\n"
     ]
    }
   ],
   "source": [
    "n = int(input())\n",
    "k = int(input())\n",
    "data = [[0] * (n + 1) for _ in range(n + 1)] # 맵 정보\n",
    "info = [] # 방향 회전 정보\n",
    "\n",
    "# 맵 정보(사과 있는 곳은 1로 표시)\n",
    "for _ in range(k):\n",
    "    a, b = map(int, input().split())\n",
    "    data[a][b] = 1\n",
    "\n",
    "# 방향 회전 정보 입력\n",
    "l = int(input())\n",
    "for _ in range(l):\n",
    "    x, c = input().split()\n",
    "    info.append((int(x), c))\n",
    "\n",
    "# 처음에는 오른쪽을 보고 있으므로(동, 남, 서, 북)\n",
    "dx = [0, 1, 0, -1]\n",
    "dy = [1, 0, -1, 0]\n",
    "\n",
    "def turn(direction, c):\n",
    "    if c == \"L\":\n",
    "        direction = (direction - 1) % 4\n",
    "    else:\n",
    "        direction = (direction + 1) % 4\n",
    "    return direction\n",
    "\n",
    "def simulate():\n",
    "    x, y = 1, 1 # 뱀의 머리 위치\n",
    "    data[x][y] = 2 # 뱀이 존재하는 위치는 2로 표시\n",
    "    direction = 0 # 처음에는 동쪽을 보고 있음\n",
    "    time = 0 # 시작한 뒤에 지난 '초' 시간\n",
    "    index = 0 # 다음에 회전할 정보\n",
    "    q = [(x, y)] # 뱀이 차지하고 있는 위치 정보(꼬리가 앞쪽)\n",
    "\n",
    "    while True:\n",
    "        nx = x + dx[direction]\n",
    "        ny = y + dy[direction]\n",
    "        # 맵 범위 안에 있고, 뱀의 몸통이 없는 위치라면\n",
    "        if 1 <= nx and nx <= n and 1 <= ny and ny <= n and data[nx][ny] != 2:\n",
    "            # 사과가 없다면 이동 후에 꼬리 제거\n",
    "            if data[nx][ny] == 0:\n",
    "                data[nx][ny] = 2\n",
    "                q.append((nx, ny))\n",
    "                px, py = q.pop(0)\n",
    "                data[px][py] = 0\n",
    "            # 사과가 있다면 이동 후에 꼬리 그대로 두기\n",
    "            if data[nx][ny] == 1:\n",
    "                data[nx][ny] = 2\n",
    "                q.append((nx, ny))\n",
    "        # 벽이나 뱀의 몸통과 부딪혔다면\n",
    "        else:\n",
    "            time += 1\n",
    "            break\n",
    "        x, y = nx, ny # 다음 위치로 머리를 이동\n",
    "        time += 1\n",
    "        if index < l and time == info[index][0]: # 회전할 시간인 경우 회전\n",
    "            direction = turn(direction, info[index][1])\n",
    "            index += 1\n",
    "    return time\n",
    "\n",
    "print(simulate())"
   ]
  },
  {
   "cell_type": "code",
   "execution_count": 26,
   "id": "4e6f1660",
   "metadata": {},
   "outputs": [
    {
     "data": {
      "text/plain": [
       "0"
      ]
     },
     "execution_count": 26,
     "metadata": {},
     "output_type": "execute_result"
    }
   ],
   "source": [
    "0 % 4"
   ]
  },
  {
   "cell_type": "code",
   "execution_count": 25,
   "id": "f756e9c8",
   "metadata": {},
   "outputs": [
    {
     "data": {
      "text/plain": [
       "3"
      ]
     },
     "execution_count": 25,
     "metadata": {},
     "output_type": "execute_result"
    }
   ],
   "source": [
    "-1 % 4"
   ]
  },
  {
   "cell_type": "code",
   "execution_count": null,
   "id": "af56fc26",
   "metadata": {},
   "outputs": [],
   "source": []
  }
 ],
 "metadata": {
  "kernelspec": {
   "display_name": "pytorch",
   "language": "python",
   "name": "pt1.1"
  },
  "language_info": {
   "codemirror_mode": {
    "name": "ipython",
    "version": 3
   },
   "file_extension": ".py",
   "mimetype": "text/x-python",
   "name": "python",
   "nbconvert_exporter": "python",
   "pygments_lexer": "ipython3",
   "version": "3.9.7"
  }
 },
 "nbformat": 4,
 "nbformat_minor": 5
}
