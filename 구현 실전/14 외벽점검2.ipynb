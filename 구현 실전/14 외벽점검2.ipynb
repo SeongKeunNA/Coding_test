{
 "cells": [
  {
   "cell_type": "markdown",
   "id": "19ce3441",
   "metadata": {},
   "source": [
    "# 내 답안"
   ]
  },
  {
   "cell_type": "code",
   "execution_count": 46,
   "id": "2fab3b09",
   "metadata": {},
   "outputs": [
    {
     "data": {
      "text/plain": [
       "'\\n테스트 1 〉\\t통과 (0.03ms, 10.3MB)\\n테스트 2 〉\\t통과 (0.08ms, 10.4MB)\\n테스트 3 〉\\t통과 (1607.45ms, 10.3MB)\\n테스트 4 〉\\t통과 (564.74ms, 10.3MB)\\n테스트 5 〉\\t통과 (28.26ms, 10.3MB)\\n테스트 6 〉\\t실패 (1000.13ms, 10.9MB)\\n테스트 7 〉\\t통과 (0.05ms, 10.3MB)\\n테스트 8 〉\\t통과 (0.21ms, 10.3MB)\\n테스트 9 〉\\t통과 (0.78ms, 10.3MB)\\n테스트 10 〉\\t실패 (시간 초과)\\n테스트 11 〉\\t실패 (시간 초과)\\n테스트 12 〉\\t실패 (시간 초과)\\n테스트 13 〉\\t실패 (시간 초과)\\n테스트 14 〉\\t실패 (시간 초과)\\n테스트 15 〉\\t통과 (7258.94ms, 10.9MB)\\n테스트 16 〉\\t통과 (21.98ms, 10.4MB)\\n테스트 17 〉\\t통과 (1269.37ms, 10.5MB)\\n테스트 18 〉\\t통과 (138.11ms, 10.3MB)\\n테스트 19 〉\\t통과 (6.86ms, 10.3MB)\\n테스트 20 〉\\t통과 (76.28ms, 10.3MB)\\n테스트 21 〉\\t통과 (3.95ms, 10.3MB)\\n테스트 22 〉\\t실패 (29.10ms, 10.4MB)\\n테스트 23 〉\\t통과 (29.59ms, 10.3MB)\\n테스트 24 〉\\t통과 (27.61ms, 10.3MB)\\n테스트 25 〉\\t통과 (2.35ms, 10.3MB)\\n'"
      ]
     },
     "execution_count": 46,
     "metadata": {},
     "output_type": "execute_result"
    }
   ],
   "source": [
    "\"\"\"\n",
    "테스트 1 〉\t통과 (0.03ms, 10.3MB)\n",
    "테스트 2 〉\t통과 (0.08ms, 10.4MB)\n",
    "테스트 3 〉\t통과 (1607.45ms, 10.3MB)\n",
    "테스트 4 〉\t통과 (564.74ms, 10.3MB)\n",
    "테스트 5 〉\t통과 (28.26ms, 10.3MB)\n",
    "테스트 6 〉\t실패 (1000.13ms, 10.9MB)\n",
    "테스트 7 〉\t통과 (0.05ms, 10.3MB)\n",
    "테스트 8 〉\t통과 (0.21ms, 10.3MB)\n",
    "테스트 9 〉\t통과 (0.78ms, 10.3MB)\n",
    "테스트 10 〉\t실패 (시간 초과)\n",
    "테스트 11 〉\t실패 (시간 초과)\n",
    "테스트 12 〉\t실패 (시간 초과)\n",
    "테스트 13 〉\t실패 (시간 초과)\n",
    "테스트 14 〉\t실패 (시간 초과)\n",
    "테스트 15 〉\t통과 (7258.94ms, 10.9MB)\n",
    "테스트 16 〉\t통과 (21.98ms, 10.4MB)\n",
    "테스트 17 〉\t통과 (1269.37ms, 10.5MB)\n",
    "테스트 18 〉\t통과 (138.11ms, 10.3MB)\n",
    "테스트 19 〉\t통과 (6.86ms, 10.3MB)\n",
    "테스트 20 〉\t통과 (76.28ms, 10.3MB)\n",
    "테스트 21 〉\t통과 (3.95ms, 10.3MB)\n",
    "테스트 22 〉\t실패 (29.10ms, 10.4MB)\n",
    "테스트 23 〉\t통과 (29.59ms, 10.3MB)\n",
    "테스트 24 〉\t통과 (27.61ms, 10.3MB)\n",
    "테스트 25 〉\t통과 (2.35ms, 10.3MB)\n",
    "\"\"\""
   ]
  },
  {
   "cell_type": "code",
   "execution_count": 43,
   "id": "2722a8cb",
   "metadata": {},
   "outputs": [],
   "source": [
    "from itertools import combinations\n",
    "import copy\n",
    "def solution(n, weak, dist):\n",
    "    dist.sort(reverse=True)\n",
    "    for i in range(1,len(dist)+1):\n",
    "        start_list = list(combinations(weak,i))\n",
    "        friend_list = dist[:i]\n",
    "        possible = [[0] * i]\n",
    "        for m in range(1, i+1):\n",
    "            c = list(combinations(list(range(i)),m))\n",
    "            for ci in c:\n",
    "                new = [0] * (i)\n",
    "                for cii in ci:\n",
    "                    new[cii] = 1\n",
    "                possible.append(new)\n",
    "        print('start_list:', start_list, 'friend_list: ',friend_list, 'possible: ', possible)\n",
    "                \n",
    "        for j in start_list:\n",
    "            print('------------')\n",
    "            for q in possible:\n",
    "                weak_ = copy.deepcopy(weak)\n",
    "                for k in range(i):\n",
    "                    start = j[k]\n",
    "                    move = []\n",
    "                    \n",
    "                    if q[k] == 0:\n",
    "                        for m in range(start, start+friend_list[k]+1):\n",
    "                            if m >= n:\n",
    "                                m = m - n \n",
    "                            move.append(m)\n",
    "                        for mm in move:\n",
    "                            if mm in weak_:\n",
    "                                weak_.remove(mm)                         \n",
    "                    else:\n",
    "                        for m in range(start, start-friend_list[k]-1, -1):\n",
    "                            if m < 0:\n",
    "                                m = n + m\n",
    "                            move.append(m)\n",
    "                        for mm in move:\n",
    "                            if mm in weak_:\n",
    "                                weak_.remove(mm)         \n",
    "                    print('start', start, 'move: ', move, 'weak_: ', weak_)\n",
    "                if len(weak_) == 0:\n",
    "                    return i\n",
    "\n",
    "                \n",
    "    return -1"
   ]
  },
  {
   "cell_type": "markdown",
   "id": "286239d4",
   "metadata": {},
   "source": [
    "# 정답"
   ]
  },
  {
   "cell_type": "code",
   "execution_count": null,
   "id": "7de6ee12",
   "metadata": {},
   "outputs": [],
   "source": [
    "from itertools import permutations\n",
    "\n",
    "def solution(n, weak, dist):\n",
    "    # 길이를 2배로 늘려서 '원형'을 일자 형태로 변형\n",
    "    length = len(weak)\n",
    "    for i in range(length):\n",
    "        weak.append(weak[i] + n)\n",
    "    answer = len(dist) + 1 # 투입할 친구 수의 최솟값을 찾아야 하므로 len(dist) + 1로 초기화\n",
    "    # 0부터 length - 1까지의 위치를 각각 시작점으로 설정\n",
    "    for start in range(length):\n",
    "        # 친구를 나열하는 모든 경우 각각에 대하여 확인\n",
    "        for friends in list(permutations(dist, len(dist))):\n",
    "            count = 1 # 투입할 친구의 수\n",
    "            # 해당 친구가 점검할 수 있는 마지막 위치\n",
    "            position = weak[start] + friends[count - 1]\n",
    "            # 시작점부터 모든 취약한 지점을 확인\n",
    "            for index in range(start, start + length):\n",
    "                # 점검할 수 있는 위치를 벗어나는 경우\n",
    "                if position < weak[index]:\n",
    "                    count += 1 # 새로운 친구를 투입\n",
    "                    if count > len(dist): # 더 투입이 불가능하다면 종료\n",
    "                        break\n",
    "                    position = weak[index] + friends[count - 1]\n",
    "            answer = min(answer, count) # 최솟값 계산\n",
    "    if answer > len(dist):\n",
    "        return -1\n",
    "    return answer"
   ]
  }
 ],
 "metadata": {
  "kernelspec": {
   "display_name": "pytorch",
   "language": "python",
   "name": "pt1.1"
  },
  "language_info": {
   "codemirror_mode": {
    "name": "ipython",
    "version": 3
   },
   "file_extension": ".py",
   "mimetype": "text/x-python",
   "name": "python",
   "nbconvert_exporter": "python",
   "pygments_lexer": "ipython3",
   "version": "3.9.7"
  }
 },
 "nbformat": 4,
 "nbformat_minor": 5
}
