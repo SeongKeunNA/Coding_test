{
 "cells": [
  {
   "cell_type": "markdown",
   "id": "60de55e6",
   "metadata": {},
   "source": [
    "# 내 답안"
   ]
  },
  {
   "cell_type": "code",
   "execution_count": 1,
   "id": "1c31277f",
   "metadata": {},
   "outputs": [],
   "source": [
    "from itertools import permutations as pe\n",
    "def solution(n, weak, dist):\n",
    "    dist.sort()\n",
    "    length = len(weak)\n",
    "    new_weak = []\n",
    "    for w in weak:\n",
    "        new_weak.append(w)\n",
    "        new_weak.append(w + n)\n",
    "    new_weak.sort()\n",
    "    for i in range(1, len(dist) + 1):\n",
    "        friends = dist[-i:] \n",
    "        possible = list(pe(friends, i))\n",
    "        for p in possible:\n",
    "            for s in range(0, length): #3\n",
    "                pos = weak[s] #10\n",
    "                idx = s + 1 # 4\n",
    "                fnum = 1\n",
    "                while fnum <= i: # 2 22\n",
    "                    pos += p[fnum - 1]  # 20\n",
    "                    while True:                     \n",
    "                        if idx >= s + length: # 6 7\n",
    "                            return i\n",
    "                        if pos < new_weak[idx]: # 20 18\n",
    "                            pos = new_weak[idx] # 17\n",
    "                            fnum += 1 # 2\n",
    "                            idx += 1 # 6\n",
    "                            break\n",
    "                        idx += 1  # 7"
   ]
  },
  {
   "cell_type": "markdown",
   "id": "72888cc5",
   "metadata": {},
   "source": [
    "# 답안 작성 후 생각"
   ]
  },
  {
   "cell_type": "code",
   "execution_count": null,
   "id": "219fb5ab",
   "metadata": {},
   "outputs": [],
   "source": [
    "\"\"\"\"\"\"\"\"\"\"\n",
    "3, 4, 13, 23, 24번 테스트 케이스에 대해서 오답을 출력한다. 힌트를 얻어 다시 작성해보자.\n",
    "\"\"\"\"\"\"\"\"\"\""
   ]
  },
  {
   "cell_type": "markdown",
   "id": "bca2487b",
   "metadata": {},
   "source": [
    "# 힌트 확인 후 생각"
   ]
  },
  {
   "cell_type": "code",
   "execution_count": 2,
   "id": "88a1aaad",
   "metadata": {},
   "outputs": [
    {
     "ename": "SyntaxError",
     "evalue": "EOF while scanning triple-quoted string literal (645322110.py, line 2)",
     "output_type": "error",
     "traceback": [
      "\u001b[1;36m  File \u001b[1;32m\"C:\\Users\\najonggeun\\AppData\\Local\\Temp\\ipykernel_22992\\645322110.py\"\u001b[1;36m, line \u001b[1;32m2\u001b[0m\n\u001b[1;33m    \"\"\"\"\"\"\"\"\"\"\u001b[0m\n\u001b[1;37m              ^\u001b[0m\n\u001b[1;31mSyntaxError\u001b[0m\u001b[1;31m:\u001b[0m EOF while scanning triple-quoted string literal\n"
     ]
    }
   ],
   "source": [
    "\"\"\"\"\"\"\"\"\"\"\n",
    "모든 친구를 동원해도 외벽 점검이 불가능할 경우 -1을 출력하는 것을 구현하지 않았다.\n",
    "\"\"\"\"\"\"\"\"\"\""
   ]
  },
  {
   "cell_type": "markdown",
   "id": "796b30b1",
   "metadata": {},
   "source": [
    "# 정답"
   ]
  },
  {
   "cell_type": "code",
   "execution_count": null,
   "id": "48f3a509",
   "metadata": {},
   "outputs": [],
   "source": [
    "from itertools import permutations\n",
    "\n",
    "def solution(n, weak, dist):\n",
    "    length = len(weak)\n",
    "    for i in range(length):\n",
    "        weak.append(weak[i] + n)\n",
    "    answer = len(dist) + 1\n",
    "    for start in range(length):\n",
    "        for friends in list(permutations(dist, len(dist))):\n",
    "            count = 1\n",
    "            position = weak[start] + friends[count - 1]\n",
    "            for index in range(start, start + length):\n",
    "                if position < weak[index]:\n",
    "                    count += 1\n",
    "                    if count > len(dist):\n",
    "                        break\n",
    "                    position = weak[index] + friends[count - 1]\n",
    "            answer = min(answer, count)\n",
    "    if answer > len(dist):\n",
    "        return -1\n",
    "    return answer"
   ]
  },
  {
   "cell_type": "markdown",
   "id": "7e62b2c7",
   "metadata": {},
   "source": [
    "# 정답 확인 후 생각"
   ]
  },
  {
   "cell_type": "code",
   "execution_count": null,
   "id": "7a4aff81",
   "metadata": {},
   "outputs": [],
   "source": [
    "\"\"\"\"\"\"\"\"\"\"\n",
    "1. 투입할 친구의 인원 수를 반복문으로 돌지 않고, 모든 가능한 친구의 순서쌍을 반복했다.\n",
    "\n",
    "2. while 문을 두 개 사용한 내 답안과 달리, for문으로 start에서 start + length -까지 index 변수를 루프로 돌리고\n",
    "count 변수를 사용해 깔끔하게 구현했다.\n",
    "\"\"\"\"\"\"\"\"\"\""
   ]
  }
 ],
 "metadata": {
  "kernelspec": {
   "display_name": "Python 3 (ipykernel)",
   "language": "python",
   "name": "python3"
  },
  "language_info": {
   "codemirror_mode": {
    "name": "ipython",
    "version": 3
   },
   "file_extension": ".py",
   "mimetype": "text/x-python",
   "name": "python",
   "nbconvert_exporter": "python",
   "pygments_lexer": "ipython3",
   "version": "3.7.13"
  }
 },
 "nbformat": 4,
 "nbformat_minor": 5
}
