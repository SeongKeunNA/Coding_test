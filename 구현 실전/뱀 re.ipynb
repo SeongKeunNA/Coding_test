{
 "cells": [
  {
   "cell_type": "markdown",
   "id": "da958793",
   "metadata": {},
   "source": [
    "# 코딩 전 생각"
   ]
  },
  {
   "cell_type": "code",
   "execution_count": null,
   "id": "3389d636",
   "metadata": {},
   "outputs": [],
   "source": [
    "\"\"\"\"\"\"\"\"\"\"\n",
    "0. N x N 크기의 맵 생성\n",
    "\n",
    "1. 사과 위치 리스트 생성\n",
    "\n",
    "2. 뱀의 머리, 꼬리 위치 변수 생성\n",
    "\n",
    "3. 현재 뱀의 방향 정보 변수 생성\n",
    "\n",
    "4. 뱀의 이동을 구현하는 반복문 작성:\n",
    "    4-1. 뱀의 머리위치로부터 다음 이동 위치 구하기(방향 전환 여부와 회전 방향 구현)\n",
    "    4-2. 다음 이동 위치가 벽이거나 자신의 몸이 존재하는 칸이면 break\n",
    "    4-3. 다음 이동 칸에 사과가 있다면, 리스트에서 사과를 제거함\n",
    "    4-4. 다음 이동 칸에 사과가 없다면, 다음 이동 칸을 뱀의 머리가 점유하고(맵에서 1로 수정),\n",
    "    뱀의 꼬리가 있떤 자리를 맵에서 0으로 수정함.\n",
    "    4-5. 1초를 셈\n",
    "\"\"\"\"\"\"\"\"\"\""
   ]
  },
  {
   "cell_type": "markdown",
   "id": "5297be82",
   "metadata": {},
   "source": [
    "# 내 답안"
   ]
  },
  {
   "cell_type": "code",
   "execution_count": 33,
   "id": "f0205b79",
   "metadata": {},
   "outputs": [
    {
     "name": "stdout",
     "output_type": "stream",
     "text": [
      "6\n",
      "3\n",
      "3 4\n",
      "2 5\n",
      "5 3\n",
      "3\n",
      "3 D\n",
      "15 L\n",
      "17 D\n",
      "rotate: {'3': 'D', '15': 'L', '17': 'D'}\n",
      "9\n"
     ]
    }
   ],
   "source": [
    "apple = []\n",
    "rotate = {}\n",
    "n = int(input())\n",
    "k = int(input())\n",
    "for i in range(k):\n",
    "    apple.append(tuple(map(int, input().split())))\n",
    "l = int(input())\n",
    "for i in range(l):\n",
    "    a, b = input().split()\n",
    "    rotate[str(a)] = b\n",
    "    \n",
    "head = [1, 1]\n",
    "snake = [(1,1)]\n",
    "direction = 1\n",
    "dx = [-1, 0, 1, 0] # 상 우 하 좌\n",
    "dy = [0, 1, 0, -1]\n",
    "rotate_keys = rotate.keys()\n",
    "cnt = 0\n",
    "\n",
    "while True:\n",
    "    cnt += 1\n",
    "    nxt = [head[0] + dx[direction], head[1] + dy[direction]]\n",
    "    if nxt[0] < 1 or nxt[0] > n or nxt[1] < 1 or nxt[1] > n:\n",
    "        break   \n",
    "    if (nxt[0], nxt[1]) in snake:\n",
    "        break\n",
    "        \n",
    "    \n",
    "    if (nxt[0], nxt[1]) in apple:\n",
    "        apple.remove((nxt[0], nxt[1]))\n",
    "    else:\n",
    "        del(snake[0])\n",
    "    head = nxt\n",
    "    snake.append((head[0], head[1]))\n",
    "    if str(cnt) in rotate_keys:\n",
    "        if rotate[str(cnt)] == 'L':\n",
    "            direction = ((direction - 1)+4) % 4\n",
    "        else:\n",
    "            direction = (direction + 1) % 4    \n",
    "print(cnt)"
   ]
  },
  {
   "cell_type": "markdown",
   "id": "7cc96965",
   "metadata": {},
   "source": [
    "# 답안 작성 후 생각"
   ]
  },
  {
   "cell_type": "code",
   "execution_count": null,
   "id": "354d0e04",
   "metadata": {},
   "outputs": [],
   "source": [
    "\"\"\"\"\"\"\"\"\"\"\n",
    "1. 맵을 이용한 문제에서는 0,0/1,1 인덱싱을 주의하자\n",
    "\n",
    "2. 매 초를 셀 때 초의 시작과 끝에 유의하자\n",
    "\"\"\"\"\"\"\"\"\"\""
   ]
  },
  {
   "cell_type": "markdown",
   "id": "f515e256",
   "metadata": {},
   "source": [
    "# 정답"
   ]
  },
  {
   "cell_type": "code",
   "execution_count": 2,
   "id": "47b24cd5",
   "metadata": {},
   "outputs": [
    {
     "ename": "SyntaxError",
     "evalue": "invalid syntax (3167492273.py, line 30)",
     "output_type": "error",
     "traceback": [
      "\u001b[1;36m  File \u001b[1;32m\"C:\\Users\\najonggeun\\AppData\\Local\\Temp\\ipykernel_23952\\3167492273.py\"\u001b[1;36m, line \u001b[1;32m30\u001b[0m\n\u001b[1;33m    data[x][y] 2 # 뱀이 존재하는 위치는 2로 표시\u001b[0m\n\u001b[1;37m               ^\u001b[0m\n\u001b[1;31mSyntaxError\u001b[0m\u001b[1;31m:\u001b[0m invalid syntax\n"
     ]
    }
   ],
   "source": [
    "n = int(input())\n",
    "k = int(input())\n",
    "data = [[0] * (n+1) for _ in range(n+1)]\n",
    "info = [] # 방향 회전 정보\n",
    "\n",
    "# 맵 정보(사과 있는 곳은 1로 표시)\n",
    "for _ in range(k): \n",
    "    a, b = map(int, input().split())\n",
    "    data[a][b] = 1\n",
    "    \n",
    "# 방향 회전 정보 입력\n",
    "l = int(input())\n",
    "for _ in range(l):\n",
    "    x, c = input().split()\n",
    "    info.append((int(x), c))\n",
    "    \n",
    "# 처음에는 오른쪽을 보고 있으므로(동, 남, 서 ,북)\n",
    "dx = [0, 1, 0, -1]\n",
    "dy = [1, 0, -1, 0]\n",
    "\n",
    "def turn(direction, c):\n",
    "    if c == 'L':\n",
    "        direction = (direction - 1) % 4\n",
    "    else:\n",
    "        direction = (direction + 1) % 4\n",
    "    return direction\n",
    "\n",
    "def simulate():\n",
    "    x, y = 1, 1 # 뱀의 머리 위치\n",
    "    data[x][y] 2 # 뱀이 존재하는 위치는 2로 표시\n",
    "    direction = 0 # 처음에는 동쪽을 보고 있음\n",
    "    time = 0\n",
    "    index = 0 # 다음에 회전할 정보\n",
    "    q = [(x, y)] # 뱀이 차지하고 있는 위치 정보 (꼬리가 앞쪽)\n",
    "    while True:\n",
    "        nx = x + dx[direction]\n",
    "        ny = y + dy[direction]\n",
    "        if 1 <= nx and nx <= n and 1 <= ny and ny <= n and data[nx][ny] != 2:\n",
    "            # 사과가 없다면 이동 후에 꼬리 제거\n",
    "            if data[x][y] == 0:\n",
    "                data[nx][ny] = 2\n",
    "                q.append((nx, ny))\n",
    "                px, py = q.pop(0)\n",
    "                data[px][py] = 0\n",
    "            if data[nx][ny] == 1:\n",
    "                data[nx][ny] = 2\n",
    "                q.append((nx, ny))\n",
    "        else:\n",
    "            time += 1\n",
    "            break\n",
    "        x, y = nx, ny # 다음 위치로 머리를 이동\n",
    "        time += 1\n",
    "        if index < l and time == info[index][0]:\n",
    "            direction = trun(direction, info[index][1])\n",
    "            index += 1\n",
    "    return time\n",
    "print(simulate())"
   ]
  },
  {
   "cell_type": "markdown",
   "id": "b6e85300",
   "metadata": {},
   "source": [
    "# 정답 확인 후 생각"
   ]
  },
  {
   "cell_type": "code",
   "execution_count": null,
   "id": "2b1ed6e6",
   "metadata": {},
   "outputs": [],
   "source": [
    "\"\"\"\"\"\"\"\"\"\"\n",
    "1. data라는 이중 리스트 맵에 빈칸, 사과, 뱀의 존재를 각각 0, 1, 2로 표현함\n",
    "\n",
    "2. direction 변경 함수를 따로 구현했고, -1 % 4가 3이라는 사실을 이용해 간결하게 코딩함\n",
    "\n",
    "3. 딕셔너리를 활용한 내 풀이와 달리 index라는 변수를 사용해 회전 여부와 방향을 결정함\n",
    "\"\"\"\"\"\"\"\"\"\""
   ]
  }
 ],
 "metadata": {
  "kernelspec": {
   "display_name": "Python 3 (ipykernel)",
   "language": "python",
   "name": "python3"
  },
  "language_info": {
   "codemirror_mode": {
    "name": "ipython",
    "version": 3
   },
   "file_extension": ".py",
   "mimetype": "text/x-python",
   "name": "python",
   "nbconvert_exporter": "python",
   "pygments_lexer": "ipython3",
   "version": "3.7.13"
  }
 },
 "nbformat": 4,
 "nbformat_minor": 5
}
