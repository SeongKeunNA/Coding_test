{
 "cells": [
  {
   "cell_type": "markdown",
   "id": "d2646b12",
   "metadata": {},
   "source": [
    "# 코딩 전 생각"
   ]
  },
  {
   "cell_type": "code",
   "execution_count": null,
   "id": "41a72148",
   "metadata": {},
   "outputs": [],
   "source": [
    "\"\"\"\"\"\"\"\"\"\"\n",
    "1. 자물쇠의 크기 x9인 맵을 생성\n",
    "\n",
    "2. 자물쇠의 시계방향 90도 회전 함수 구현:\n",
    "    def rotate(key):\n",
    "        rotated_key =  [[] for _ in range(m)] for _ in range(m))\n",
    "        for i in range(m):\n",
    "            for j in range(m):\n",
    "                rotated_key[i][j] = key[m-j-1][i]\n",
    "        return rotated_key\n",
    "                \n",
    "    \n",
    "\n",
    "3. 열쇠를 맵의 0,0에서부터 3n-1,3n-1까지 이동하면서:\n",
    "    기본키에서 시계방향으로 90도 회전하면서:\n",
    "        3-1. 맵에서 키의 현재 위치 중 돌기가 있는 부분이 자물쇠의 돌기와 겹친다면 continue\n",
    "        3-2. 자물쇠의 홈이 전부 채워지지 않는다면 continue\n",
    "        3-3. return true\n",
    "        3-4  전부 돌았다면 return false   \n",
    "\"\"\"\"\"\"\"\"\"\""
   ]
  },
  {
   "cell_type": "markdown",
   "id": "5086ff22",
   "metadata": {},
   "source": [
    "# 내 답안"
   ]
  },
  {
   "cell_type": "code",
   "execution_count": 29,
   "id": "6a6aa44d",
   "metadata": {},
   "outputs": [
    {
     "data": {
      "text/plain": [
       "True"
      ]
     },
     "execution_count": 29,
     "metadata": {},
     "output_type": "execute_result"
    }
   ],
   "source": [
    "import copy\n",
    "def solution(key, lock):\n",
    "    m = len(key)\n",
    "    n = len(lock)\n",
    "\n",
    "     \n",
    "    def rotate(key):\n",
    "        rotated_key =  [[[] for _ in range(m)] for _ in range(m)]\n",
    "        for i in range(m):\n",
    "            for j in range(m):\n",
    "                rotated_key[i][j] = key[m-j-1][i]\n",
    "        return rotated_key\n",
    "    \n",
    "    def check_lock(data):\n",
    "        for i in range(n, 2*n):\n",
    "            for j in range(n, 2*n):\n",
    "                if data[i][j] != 1:\n",
    "                    return False\n",
    "        return True\n",
    "     \n",
    "    for i in range(3*n-m+1):\n",
    "        for j in range(3*n-m+1):\n",
    "            for _ in range(4): \n",
    "                data = [[0 for _ in range(3 * n)] for _ in range(3 * n)]\n",
    "                for a in range(n):\n",
    "                    for b in range(n):\n",
    "                        data[a+n][b+n] = lock[a][b]\n",
    "                key = rotate(key)\n",
    "                brk = 0\n",
    "                for k in range(m):\n",
    "                    if brk == 1:\n",
    "                        break\n",
    "                    for l in range(m):       \n",
    "                        data[i+k][j+l] += key[k][l]\n",
    "                        if data[i+k][j+l] == 2:\n",
    "                            brk = 1\n",
    "                            break\n",
    "                if brk == 0:\n",
    "                    if check_lock(data):\n",
    "                        return True\n",
    "    return False"
   ]
  },
  {
   "cell_type": "markdown",
   "id": "94aea677",
   "metadata": {},
   "source": [
    "# 답안 작성 후 생각"
   ]
  },
  {
   "cell_type": "code",
   "execution_count": 30,
   "id": "dce12f1e",
   "metadata": {},
   "outputs": [
    {
     "ename": "SyntaxError",
     "evalue": "EOL while scanning string literal (1462532316.py, line 8)",
     "output_type": "error",
     "traceback": [
      "\u001b[1;36m  Input \u001b[1;32mIn [30]\u001b[1;36m\u001b[0m\n\u001b[1;33m    \"\"\"\"\"\"\"\"\"\"\u001b[0m\n\u001b[1;37m              \n^\u001b[0m\n\u001b[1;31mSyntaxError\u001b[0m\u001b[1;31m:\u001b[0m EOL while scanning string literal\n"
     ]
    }
   ],
   "source": [
    "\"\"\"\"\"\"\"\"\"\"\n",
    "rotate 함수 구현 및 전체적인 풀이 작성에는 오랜 시간이 걸리지 않았지만,\n",
    "\n",
    "자물쇠와 열쇠의 길이인 n과 m을 헷갈려서, 그리고 시간 초과가 발생해서 풀이에 오랜 시간이 걸렸다.\n",
    "\n",
    "시간 초과는 매 반복마다 copy.deepcopy를 반복해서 생기는 문제였다.\n",
    "\n",
    "\"\"\"\"\"\"\"\"\"\""
   ]
  },
  {
   "cell_type": "markdown",
   "id": "03d2417b",
   "metadata": {},
   "source": [
    "# 정답"
   ]
  },
  {
   "cell_type": "code",
   "execution_count": null,
   "id": "9f0df7b8",
   "metadata": {},
   "outputs": [],
   "source": [
    "def rotate_a_matrix_by_90_degree(a):\n",
    "    n = len(a)\n",
    "    m = len(a[0])\n",
    "    result = [[0] * n for _ in range(m)]\n",
    "    for i in range(n):\n",
    "        for j in range(m):\n",
    "            result[j][n-i-1] = a[i][j]\n",
    "    return result\n",
    "\n",
    "def check(new_lock):\n",
    "    lock_length = len(new_lock) // 3\n",
    "    for i in range(lock_length, lock_length * 2):\n",
    "        for j in range(lock_length, lock_length * 2):\n",
    "            if new_lock[i][j] != 1:\n",
    "                return False\n",
    "    return True\n",
    "\n",
    "def solution(key, lock):\n",
    "    n = len(lock)\n",
    "    m = len(key)\n",
    "    new_lock = [[0] * (n * 3) for _ in range(n * 3)]\n",
    "    for i in range(n):\n",
    "        for j in range(n):\n",
    "            new_lock[i+n][j+n] = lock[i][j]\n",
    "    for rotation in range(4):\n",
    "        key = rotate_a_matrix_by_90_degree(key)\n",
    "        for x in range(n * 2):\n",
    "            for y in range(n * 2):\n",
    "                for i in range(m):\n",
    "                    for j in range(m):\n",
    "                        new_lock[x + i][y + i] += key[i][j]\n",
    "                if check(new_lock) == True:\n",
    "                    return True\n",
    "                for i in range(m):\n",
    "                    for j in range(m):\n",
    "                        new_lock[x+i][y+j] -= key[i][j]\n",
    "    return False"
   ]
  },
  {
   "cell_type": "markdown",
   "id": "1d2c1633",
   "metadata": {},
   "source": [
    "# 정답 확인 후 생각"
   ]
  },
  {
   "cell_type": "code",
   "execution_count": null,
   "id": "a53f8c26",
   "metadata": {},
   "outputs": [],
   "source": [
    "\"\"\"\"\"\"\"\"\"\n",
    "우선 solution 함수 밖에서 회전 함수와 체크 함수를 구현했다.\n",
    "\n",
    "또한 매번 key를 움직일 때,\n",
    "for i in range(3*n-m+1):\n",
    "    for j in range(3*n-m+1):\n",
    "를 사용하는 것이 아니라, \n",
    "for x in range(n * 2):\n",
    "        for y in range(n * 2):\n",
    "로 훨씬 간결하게 해결했다.\n",
    "\n",
    "게다가 check 함수를 돌리고나서 다시 맵을 복사하거나 새로 만드는 것이 아니라,\n",
    "\n",
    "다시 이중 루프를 돌아서, 더했던 값을 다시 빼주었다.\n",
    "\"\"\"\"\"\"\"\"\""
   ]
  }
 ],
 "metadata": {
  "kernelspec": {
   "display_name": "pytorch",
   "language": "python",
   "name": "pt1.1"
  },
  "language_info": {
   "codemirror_mode": {
    "name": "ipython",
    "version": 3
   },
   "file_extension": ".py",
   "mimetype": "text/x-python",
   "name": "python",
   "nbconvert_exporter": "python",
   "pygments_lexer": "ipython3",
   "version": "3.9.12"
  }
 },
 "nbformat": 4,
 "nbformat_minor": 5
}
