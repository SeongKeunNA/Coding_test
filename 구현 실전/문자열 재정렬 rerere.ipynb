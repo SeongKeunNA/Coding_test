{
 "cells": [
  {
   "cell_type": "code",
   "execution_count": 5,
   "id": "2043c05f",
   "metadata": {},
   "outputs": [
    {
     "name": "stdout",
     "output_type": "stream",
     "text": [
      "AJKDLSI412K4JSJ9D\n",
      "ADDIJJJKKLSS20\n"
     ]
    }
   ],
   "source": [
    "data = list(input())\n",
    "value = 0\n",
    "array = []\n",
    "for d in data:\n",
    "    if d.isdigit():\n",
    "        value += int(d)\n",
    "        continue\n",
    "    array.append(d)\n",
    "array.sort()\n",
    "array.append(str(value))\n",
    "print(''.join(array))"
   ]
  }
 ],
 "metadata": {
  "kernelspec": {
   "display_name": "Python 3 (ipykernel)",
   "language": "python",
   "name": "python3"
  },
  "language_info": {
   "codemirror_mode": {
    "name": "ipython",
    "version": 3
   },
   "file_extension": ".py",
   "mimetype": "text/x-python",
   "name": "python",
   "nbconvert_exporter": "python",
   "pygments_lexer": "ipython3",
   "version": "3.9.12"
  }
 },
 "nbformat": 4,
 "nbformat_minor": 5
}
