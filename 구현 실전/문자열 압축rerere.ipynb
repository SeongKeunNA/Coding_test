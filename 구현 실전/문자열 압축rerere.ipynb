{
 "cells": [
  {
   "cell_type": "markdown",
   "id": "72bbb718",
   "metadata": {},
   "source": [
    "# 코딩 전 생각"
   ]
  },
  {
   "cell_type": "code",
   "execution_count": null,
   "id": "cab51782",
   "metadata": {},
   "outputs": [],
   "source": [
    "\"\"\"\"\"\"\"\"\"\"\"\n",
    "1. s의 최대 값이 1000이고 이때 최대 압축 단위는 1000//2 = 500이므로 완전탐색으로 해결한다.\n",
    "\n",
    "2. 압축 단위를 1부터 len(s) // 2까지 반복하여 문자열을 압축하고 최소 길이를 갱신하여 최종 출력한다.\n",
    "\"\"\"\"\"\"\"\"\"\"\""
   ]
  },
  {
   "cell_type": "markdown",
   "id": "8d914e64",
   "metadata": {},
   "source": [
    "# 내 답안"
   ]
  },
  {
   "cell_type": "code",
   "execution_count": 1,
   "id": "21bd7724",
   "metadata": {},
   "outputs": [
    {
     "data": {
      "text/plain": [
       "1"
      ]
     },
     "execution_count": 1,
     "metadata": {},
     "output_type": "execute_result"
    }
   ],
   "source": [
    "def solution(s):\n",
    "    length = len(s)\n",
    "    if length == 1:\n",
    "        return 1\n",
    "    answer = 1e9\n",
    "    for step in range(1, (length // 2) + 1): # 1\n",
    "        pre = s[0:step] # a\n",
    "        num = 1\n",
    "        result = ''\n",
    "        for j in range(step, length, step): #1 2 3\n",
    "            if s[j:j+step] == pre: \n",
    "                num += 1 # 2 \n",
    "            else:\n",
    "                if num == 1: \n",
    "                    result += pre \n",
    "                else:\n",
    "                    result += str(num) + pre \n",
    "                    num = 1\n",
    "                pre = s[j:j+step] # a\n",
    "        if num == 1:\n",
    "            result += pre\n",
    "        else:\n",
    "            result += str(num) + pre\n",
    "        answer = min(answer, len(result)) \n",
    "    return answer"
   ]
  },
  {
   "cell_type": "markdown",
   "id": "e73cfa50",
   "metadata": {},
   "source": [
    "# 답안 작성 후 생각"
   ]
  },
  {
   "cell_type": "code",
   "execution_count": null,
   "id": "1607a157",
   "metadata": {},
   "outputs": [],
   "source": [
    "\"\"\"\"\"\"\"\"\"\"\n",
    "문자열의 경우 인덱싱에서 값이 넘어가도 유효한 범위만 추출한다.\n",
    "\n",
    "예를 들어, A = 'abc'에서 A[2:8]은 'c'를 추출한다.\n",
    "\"\"\"\"\"\"\"\"\"\""
   ]
  }
 ],
 "metadata": {
  "kernelspec": {
   "display_name": "Python 3 (ipykernel)",
   "language": "python",
   "name": "python3"
  },
  "language_info": {
   "codemirror_mode": {
    "name": "ipython",
    "version": 3
   },
   "file_extension": ".py",
   "mimetype": "text/x-python",
   "name": "python",
   "nbconvert_exporter": "python",
   "pygments_lexer": "ipython3",
   "version": "3.7.13"
  }
 },
 "nbformat": 4,
 "nbformat_minor": 5
}
