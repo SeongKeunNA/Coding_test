{
 "cells": [
  {
   "cell_type": "code",
   "execution_count": 1,
   "id": "5cfdeac8",
   "metadata": {},
   "outputs": [
    {
     "data": {
      "text/plain": [
       "[1, 2]"
      ]
     },
     "execution_count": 1,
     "metadata": {},
     "output_type": "execute_result"
    }
   ],
   "source": [
    "from itertools import combinations\n",
    "def solution(n, weak, dist):\n",
    "    answer = 0\n",
    "    dist.sort(reverse=True)\n",
    "    for i in range(len(weak)):\n",
    "        for _ in range(len(weak)):\n",
    "            start_list = list(combinations(weak,i+1))\n",
    "            for j in start_list:\n",
    "                friend_list = dist[:i+1]\n",
    "                for k in j:\n",
    "                    k로부터 시계방향\n",
    "                \n",
    "                    \n",
    "                weak_ = weak\n",
    "                for l in friend_list:\n",
    "\n",
    "                    if start in weak:\n",
    "                        weak_.remove(start)\n",
    "                    if len(weak_) == 0:\n",
    "                        return i+1\n",
    "                    start += 1\n",
    "                    \n",
    "                    \n",
    "                weak_ = weak\n",
    "                for l in friend_list:\n",
    "                    if start in weak:\n",
    "                        weak_.remove(start)\n",
    "                    if len(weak_) == 0:\n",
    "                        return i+1\n",
    "                    start -= 1\n",
    "\n",
    "\n",
    "    return answer\n",
    "\n",
    "\n",
    "\"\"\"\n",
    "\n",
    "for i in weak:\n",
    "    \n",
    "\n",
    "\n",
    "m = len(weak)\n",
    "(1. m개 모두 선택하는 경우의 수(1개):\n",
    "    m개중 2개를 고르는 조합 중 거리가 가장 긴 경우를 고름)\n",
    "    \n",
    "1. weak 중 하나 골라서 시계/반시계로 dist가장 긴 한 명이 해결: return1\n",
    "\n",
    "2. weak 중 두 개 골라서 시계/반시계로 dist가장 긴 순으로 골라서 해결: return2\n",
    "...\n",
    "\n",
    "if weak 다 채웟는데 친구 남으면 남은 친구를 한 명 씩 더 보냄... 해결 시 return m+k\n",
    "\n",
    "if 남은 친구 없으면 return -1\n",
    "\n",
    "\n",
    "\n",
    "\n",
    "\"\"\"\n"
   ]
  }
 ],
 "metadata": {
  "kernelspec": {
   "display_name": "pytorch",
   "language": "python",
   "name": "pt1.1"
  },
  "language_info": {
   "codemirror_mode": {
    "name": "ipython",
    "version": 3
   },
   "file_extension": ".py",
   "mimetype": "text/x-python",
   "name": "python",
   "nbconvert_exporter": "python",
   "pygments_lexer": "ipython3",
   "version": "3.9.7"
  }
 },
 "nbformat": 4,
 "nbformat_minor": 5
}
