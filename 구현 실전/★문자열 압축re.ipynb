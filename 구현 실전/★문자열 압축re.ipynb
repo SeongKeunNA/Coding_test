{
 "cells": [
  {
   "cell_type": "markdown",
   "id": "30162762",
   "metadata": {},
   "source": [
    "# 코딩 전 생각"
   ]
  },
  {
   "cell_type": "code",
   "execution_count": 1,
   "id": "962ffb8b",
   "metadata": {},
   "outputs": [
    {
     "ename": "SyntaxError",
     "evalue": "EOF while scanning triple-quoted string literal (886353925.py, line 1)",
     "output_type": "error",
     "traceback": [
      "\u001b[1;36m  Input \u001b[1;32mIn [1]\u001b[1;36m\u001b[0m\n\u001b[1;33m    \"\"\"\"\"\"\"\"\"\"\u001b[0m\n\u001b[1;37m              ^\u001b[0m\n\u001b[1;31mSyntaxError\u001b[0m\u001b[1;31m:\u001b[0m EOF while scanning triple-quoted string literal\n"
     ]
    }
   ],
   "source": [
    "\"\"\"\"\"\"\"\"\"\"\n",
    "우선 문자열을 자를 단위가 될 수 있는 것은 1부터 len(s) // 2까지이다.\n",
    "\n",
    "가장 단순하게는 1부터 시작해 반복하여 처리하고 문자열 길이의 \n",
    "\n",
    "최솟값을 갱신하는 방법이 있을 것 같다. 하지만 최대 1000 x 500의\n",
    "\n",
    "이중 for 문을 돌려야 하므로 효율적이지 않을 것 같다. \n",
    "\n",
    "그럼에도 불구하고 다른 아이디어가 떠오르지 않기 때문에 시도해보고자 한다.\n",
    "\n",
    "\"\"\"\"\"\"\"\"\"\""
   ]
  },
  {
   "cell_type": "markdown",
   "id": "24f5ffef",
   "metadata": {},
   "source": [
    "# 내 답안"
   ]
  },
  {
   "cell_type": "code",
   "execution_count": null,
   "id": "c3153abd",
   "metadata": {},
   "outputs": [],
   "source": [
    "def solution(s):\n",
    "    length = len(s)\n",
    "    min_value = 1e9\n",
    "    \n",
    "    if length == 1:\n",
    "        return 1\n",
    "    \n",
    "    for i in  range(1, (length//2)+1):\n",
    "        pre = s[0:i]\n",
    "        nxt_idx = i\n",
    "        cnt = 1\n",
    "        value = ''\n",
    "        for _ in range((length//i)-1):\n",
    "            if pre == s[nxt_idx:nxt_idx+i]:\n",
    "                cnt += 1\n",
    "            elif cnt > 1:\n",
    "                value += str(cnt) + pre\n",
    "                cnt = 1\n",
    "            else:\n",
    "                value += pre\n",
    "            pre = s[nxt_idx:nxt_idx+i]\n",
    "            nxt_idx += i\n",
    "        if cnt > 1:\n",
    "            value += str(cnt) + pre\n",
    "        else:\n",
    "            value += pre\n",
    "\n",
    "        min_value = min(min_value, len(value)+(length%i))\n",
    "    return min_value"
   ]
  },
  {
   "cell_type": "markdown",
   "id": "e49c9e91",
   "metadata": {},
   "source": [
    "# 답안 작성 후 생각"
   ]
  },
  {
   "cell_type": "code",
   "execution_count": 3,
   "id": "7fc72aa1",
   "metadata": {},
   "outputs": [
    {
     "ename": "SyntaxError",
     "evalue": "EOF while scanning triple-quoted string literal (886353925.py, line 1)",
     "output_type": "error",
     "traceback": [
      "\u001b[1;36m  Input \u001b[1;32mIn [3]\u001b[1;36m\u001b[0m\n\u001b[1;33m    \"\"\"\"\"\"\"\"\"\"\u001b[0m\n\u001b[1;37m              ^\u001b[0m\n\u001b[1;31mSyntaxError\u001b[0m\u001b[1;31m:\u001b[0m EOF while scanning triple-quoted string literal\n"
     ]
    }
   ],
   "source": [
    "\"\"\"\"\"\"\"\"\"\"\n",
    "주어진 문자열의 몫과 나머지를 이용한 완전 탐색으로 해결했다.\n",
    "\n",
    "문자열의 최대 길이가 1000 밖에 되지 않아서인지\n",
    "\n",
    "프로그래머스 사이트에서도 시간 제한에 걸리지 않았다.\n",
    "\n",
    "한 개의 테스트 케이스에서만 오답을 출력하길래\n",
    "\n",
    "length//2인 부분에서 문제가 발생하는 것이라고 추측하여\n",
    "\n",
    "문자열 s의 길이가 1인 경우에는 1을 return 하도록 구현했다.\n",
    "\n",
    "\"\"\"\"\"\"\"\"\"\""
   ]
  },
  {
   "cell_type": "markdown",
   "id": "49eb188f",
   "metadata": {},
   "source": [
    "# 정답"
   ]
  },
  {
   "cell_type": "code",
   "execution_count": null,
   "id": "244c4c77",
   "metadata": {},
   "outputs": [],
   "source": [
    "def solution(s):\n",
    "    answer = len(s)\n",
    "    # 1개 단위(step)부터 압축 단위를 늘려가며 확인\n",
    "    for step in ragne(1, len(s) // 2 + 1):\n",
    "        compressed = ''\n",
    "        prev = s[0:step]\n",
    "        count = 1\n",
    "        for j in range(step, len(s), step):\n",
    "            if prev == s[j:j+step]:\n",
    "                count += 1\n",
    "            else:\n",
    "                compressed += str(count) + prev if count >= 2 else prev\n",
    "                prev = s[j:j + stpe]\n",
    "                count = 1\n",
    "        compressed += str(count) + prev if count >= 2 else prev\n",
    "        answer = min(answer, len(compressed))\n",
    "    return answer"
   ]
  },
  {
   "cell_type": "markdown",
   "id": "23c68850",
   "metadata": {},
   "source": [
    "# 정답 확인 후 생각"
   ]
  },
  {
   "cell_type": "code",
   "execution_count": null,
   "id": "4aaa53ff",
   "metadata": {},
   "outputs": [],
   "source": [
    "\"\"\"\"\"\"\"\"\"\"\n",
    "답안 역시 내 풀이와 굉장히 비슷하다.\n",
    "\n",
    "다른 점은, 답지에서는 for j in range(step, len(s), step)을 통해\n",
    "\n",
    "따로 nxt_idx를 구현하거나 몫과 나머지를 구하는 절차 없이 간단하게 구현했다.\n",
    "\"\"\"\"\"\"\"\"\"\""
   ]
  }
 ],
 "metadata": {
  "kernelspec": {
   "display_name": "pytorch",
   "language": "python",
   "name": "pt1.1"
  },
  "language_info": {
   "codemirror_mode": {
    "name": "ipython",
    "version": 3
   },
   "file_extension": ".py",
   "mimetype": "text/x-python",
   "name": "python",
   "nbconvert_exporter": "python",
   "pygments_lexer": "ipython3",
   "version": "3.9.12"
  }
 },
 "nbformat": 4,
 "nbformat_minor": 5
}
