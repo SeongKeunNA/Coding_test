{
 "cells": [
  {
   "cell_type": "markdown",
   "id": "9303ed32",
   "metadata": {},
   "source": [
    "# 코딩 전 생각"
   ]
  },
  {
   "cell_type": "code",
   "execution_count": null,
   "id": "605bc37d",
   "metadata": {},
   "outputs": [],
   "source": [
    "\"\"\"\"\"\"\"\"\"\"\n",
    "s의 길이가 최대 1000이므로 자를 수 있는 최소 단위(1)부터 최대 단위(len(s) // 2)까지 모두 잘라 최솟값을 찾는 완전 탐색을 이용한다.\n",
    "\"\"\"\"\"\"\"\"\"\""
   ]
  },
  {
   "cell_type": "markdown",
   "id": "aea2e7ce",
   "metadata": {},
   "source": [
    "# 내 답안"
   ]
  },
  {
   "cell_type": "code",
   "execution_count": null,
   "id": "af26eb82",
   "metadata": {},
   "outputs": [],
   "source": [
    "def solution(s):\n",
    "    answer = 1e9\n",
    "    n = len(s) #aabbaccc, 8\n",
    "    if n == 1:\n",
    "        return 1\n",
    "    for step in range(1, n // 2 + 1): #1, 4\n",
    "        result = \"\"\n",
    "        times = 1\n",
    "        pre = s[:step] #a\n",
    "        for i in range(step, n - step + 1, step): #4\n",
    "            if s[i: i + step] == pre: #c == c\n",
    "                times += 1 # 2\n",
    "            elif times > 1:         \n",
    "                result += str(times) + pre #2a\n",
    "                times = 1\n",
    "            else:\n",
    "                result += pre\n",
    "            pre = s[i: i + step]\n",
    "        if times > 1:\n",
    "            result += str(times) + pre\n",
    "        else:\n",
    "            result += pre\n",
    "        if n % step != 0:\n",
    "            result += s[-(n%step):]\n",
    "        answer = min(answer, len(result))\n",
    "    return answer"
   ]
  },
  {
   "cell_type": "markdown",
   "id": "bd4d4aa9",
   "metadata": {},
   "source": [
    "# 답안 작성 후 생각"
   ]
  },
  {
   "cell_type": "code",
   "execution_count": null,
   "id": "9cc77b42",
   "metadata": {},
   "outputs": [],
   "source": [
    "\"\"\"\"\"\"\"\"\"\"\n",
    "답지에서는 for j in range(step, len(s), step)으로 처리하여 마지막에 남는 문자열이 없도록 했다.\n",
    "\n",
    "문자열 인덱싱에서 존재하지 않는 범위를 지정해도 오류가 발생하지 않음을 이용한 것이다.\n",
    "\"\"\"\"\"\"\"\"\"\""
   ]
  }
 ],
 "metadata": {
  "kernelspec": {
   "display_name": "Python 3 (ipykernel)",
   "language": "python",
   "name": "python3"
  },
  "language_info": {
   "codemirror_mode": {
    "name": "ipython",
    "version": 3
   },
   "file_extension": ".py",
   "mimetype": "text/x-python",
   "name": "python",
   "nbconvert_exporter": "python",
   "pygments_lexer": "ipython3",
   "version": "3.9.12"
  }
 },
 "nbformat": 4,
 "nbformat_minor": 5
}
