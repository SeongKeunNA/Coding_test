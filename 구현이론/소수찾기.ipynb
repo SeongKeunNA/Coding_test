{
 "cells": [
  {
   "cell_type": "code",
   "execution_count": 11,
   "id": "7f9bc624",
   "metadata": {},
   "outputs": [
    {
     "name": "stdout",
     "output_type": "stream",
     "text": [
      "자연수의 개수를 입력하세요.: 3\n",
      "1번째 자연수를 입력하세요.: 11\n",
      "2번째 자연수를 입력하세요.: 13\n",
      "3번째 자연수를 입력하세요.: 251\n",
      "소수의 갯수는 총 3개입니다.\n"
     ]
    }
   ],
   "source": [
    "while True:\n",
    "    N=int(input('자연수의 개수를 입력하세요.: '))\n",
    "    if 1<=N<=100:\n",
    "        break\n",
    "NN=[0]*N        \n",
    "for i in range(N):\n",
    "    while True:\n",
    "        NN[i]=int(input(f'{i+1}번째 자연수를 입력하세요.: '))\n",
    "        if 1<=NN[i]<1000:\n",
    "            break\n",
    "            \n",
    "cnt=0\n",
    "\n",
    "for i in NN:\n",
    "    if i==1:\n",
    "        pass\n",
    "    if i==2or i==3:\n",
    "        cnt+=1\n",
    "   \n",
    "    if i%2==0:\n",
    "        break\n",
    "        \n",
    "    for j in range(3,i):\n",
    "        if i%j==0:\n",
    "            break\n",
    "    else:\n",
    "        cnt+=1\n",
    "    \n",
    "    \n",
    "    \n",
    "  \n",
    "        \n",
    "print(f'소수의 갯수는 총 {cnt}개입니다.')\n",
    "    \n",
    "\n",
    "\n",
    "        \n",
    "        \n",
    "    \n",
    "    \n",
    "          "
   ]
  },
  {
   "cell_type": "markdown",
   "id": "947d89b8",
   "metadata": {},
   "source": [
    " "
   ]
  }
 ],
 "metadata": {
  "kernelspec": {
   "display_name": "Python 3",
   "language": "python",
   "name": "python3"
  },
  "language_info": {
   "codemirror_mode": {
    "name": "ipython",
    "version": 3
   },
   "file_extension": ".py",
   "mimetype": "text/x-python",
   "name": "python",
   "nbconvert_exporter": "python",
   "pygments_lexer": "ipython3",
   "version": "3.8.8"
  }
 },
 "nbformat": 4,
 "nbformat_minor": 5
}
