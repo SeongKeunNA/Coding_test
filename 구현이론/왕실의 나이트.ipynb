{
 "cells": [
  {
   "cell_type": "code",
   "execution_count": 24,
   "id": "b428e5fa",
   "metadata": {},
   "outputs": [
    {
     "name": "stdout",
     "output_type": "stream",
     "text": [
      "위치입력: a1\n",
      "2\n"
     ]
    }
   ],
   "source": [
    "at=input('위치입력: ')\n",
    "change=int(ord(str(at[0]))-96)\n",
    "x,y=int(at[1]),change\n",
    "cnt=0\n",
    "dx=[-1,1,0,0]\n",
    "dy=[0,0,1,-1]\n",
    "\n",
    "\n",
    "move_types=['u','d','r','l']\n",
    "plans=['uul','uur','ddr','ddl','rru','rrd','llu','lld']\n",
    "for plan in plans:\n",
    "    x,y=int(at[1]),change\n",
    "    for i in range(3):\n",
    "        for j in range(len(move_types)):\n",
    "            if plan[i]==move_types[j]:\n",
    "                x+=dx[j]\n",
    "                y+=dy[j]\n",
    "            else:\n",
    "                pass\n",
    "    if x<1 or x>8 or y<1 or y>8:\n",
    "        pass\n",
    "    else:\n",
    "        cnt+=1       \n",
    "print(cnt)     "
   ]
  },
  {
   "cell_type": "code",
   "execution_count": 21,
   "id": "86c87818",
   "metadata": {},
   "outputs": [
    {
     "data": {
      "text/plain": [
       "99"
      ]
     },
     "execution_count": 21,
     "metadata": {},
     "output_type": "execute_result"
    }
   ],
   "source": [
    "ord('c')"
   ]
  }
 ],
 "metadata": {
  "kernelspec": {
   "display_name": "Python 3",
   "language": "python",
   "name": "python3"
  },
  "language_info": {
   "codemirror_mode": {
    "name": "ipython",
    "version": 3
   },
   "file_extension": ".py",
   "mimetype": "text/x-python",
   "name": "python",
   "nbconvert_exporter": "python",
   "pygments_lexer": "ipython3",
   "version": "3.8.8"
  }
 },
 "nbformat": 4,
 "nbformat_minor": 5
}
