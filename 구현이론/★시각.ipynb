{
 "cells": [
  {
   "cell_type": "markdown",
   "id": "cf8de0aa",
   "metadata": {},
   "source": [
    "# 코딩 전 생각"
   ]
  },
  {
   "cell_type": "code",
   "execution_count": null,
   "id": "58bd5482",
   "metadata": {},
   "outputs": [],
   "source": [
    "\"\"\"\"\"\"\"\"\"\"\"\n",
    "시간의 모든 자리수 마다 반복문을 돌리면 효율성이 떨어지므로 3이 들어가는 경우를 모두 구한다.\n",
    "\n",
    "시간에 3이들어가는 횟수(cnt)와 안 들어가는 경우(n - cnt + 1)를 구하고\n",
    "\n",
    "''''''''\n",
    "3600 * cnt(3이 들어가는 경우)\n",
    "\n",
    "+\n",
    "\n",
    "(60 * 60 - (5 * 9 * 5 * 9)) * (n - cnt + 1) (3이 안 들어가는 경우)\n",
    "''''''''\n",
    "\n",
    "를 계산한다. 여기서 (60 * 60 - (5 * 9 * 5 * 9))는 모든 분 아래 경우의 수 (3600초)에서\n",
    "\n",
    "3이 한 번도 안나온 경우의 수를 빼서 한 번이라도 나온 횟수를 센 것 이다.\n",
    "\n",
    "\"\"\"\"\"\"\"\"\"\"\"\n"
   ]
  },
  {
   "cell_type": "markdown",
   "id": "73654818",
   "metadata": {},
   "source": [
    "# 내 답안"
   ]
  },
  {
   "cell_type": "code",
   "execution_count": 31,
   "id": "9bd614ef",
   "metadata": {},
   "outputs": [
    {
     "name": "stdout",
     "output_type": "stream",
     "text": [
      "5\n",
      "11475\n"
     ]
    }
   ],
   "source": [
    "n = int(input())\n",
    "cnt = 0\n",
    "for i in range(n+1):\n",
    "    for j in str(i):\n",
    "        if j == '3':\n",
    "            cnt += 1\n",
    "value = (cnt * 3600) + (n - cnt + 1) * (3600 - (45 * 45))\n",
    "print(value)"
   ]
  },
  {
   "cell_type": "markdown",
   "id": "5af1e3a5",
   "metadata": {},
   "source": [
    "# 답안 작성 후 생각"
   ]
  },
  {
   "cell_type": "code",
   "execution_count": null,
   "id": "8daeae42",
   "metadata": {},
   "outputs": [],
   "source": [
    "\"\"\"\"\"\"\"\"\"\"\n",
    "생각보다는 까다로운 문제였지만 나름대로 짧은 코드로 구현했다.\n",
    "\"\"\"\"\"\"\"\"\"\""
   ]
  },
  {
   "cell_type": "markdown",
   "id": "462925a4",
   "metadata": {},
   "source": [
    "# 정답"
   ]
  },
  {
   "cell_type": "code",
   "execution_count": 32,
   "id": "a64147ec",
   "metadata": {},
   "outputs": [
    {
     "name": "stdout",
     "output_type": "stream",
     "text": [
      "5\n",
      "11475\n"
     ]
    }
   ],
   "source": [
    "h = int(input())\n",
    "\n",
    "count = 0\n",
    "for i in range(h + 1):\n",
    "    for j in range(60):\n",
    "        for k in range(60):\n",
    "            if '3' in str(i) + str(j) + str(k):\n",
    "                count += 1\n",
    "print(count)"
   ]
  },
  {
   "cell_type": "markdown",
   "id": "57f147dd",
   "metadata": {},
   "source": [
    "# 정답 확인 후 생각"
   ]
  },
  {
   "cell_type": "code",
   "execution_count": null,
   "id": "b4397a0d",
   "metadata": {},
   "outputs": [],
   "source": [
    "\"\"\"\"\"\"\"\"\"\"\n",
    "전체 경우의 수가 24 * 60 * 60 = 86,400개로 완전 탐색이 가능하다.\n",
    "\"\"\"\"\"\"\"\"\"\""
   ]
  }
 ],
 "metadata": {
  "kernelspec": {
   "display_name": "Python 3 (ipykernel)",
   "language": "python",
   "name": "python3"
  },
  "language_info": {
   "codemirror_mode": {
    "name": "ipython",
    "version": 3
   },
   "file_extension": ".py",
   "mimetype": "text/x-python",
   "name": "python",
   "nbconvert_exporter": "python",
   "pygments_lexer": "ipython3",
   "version": "3.7.13"
  }
 },
 "nbformat": 4,
 "nbformat_minor": 5
}
