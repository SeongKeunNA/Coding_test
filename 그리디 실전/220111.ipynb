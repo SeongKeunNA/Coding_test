{
 "cells": [
  {
   "cell_type": "markdown",
   "id": "09b5f6f6",
   "metadata": {},
   "source": [
    "# 01 모험가 길드"
   ]
  },
  {
   "cell_type": "code",
   "execution_count": 25,
   "id": "160a4e92",
   "metadata": {},
   "outputs": [
    {
     "name": "stdout",
     "output_type": "stream",
     "text": [
      "6\n",
      "1 2 2 2 3 3\n",
      "3\n"
     ]
    }
   ],
   "source": [
    "# 내 답안\n",
    "n = int(input())\n",
    "fear = list(map(int, input().split()))\n",
    "fear.sort()\n",
    "cnt = 0 \n",
    "\n",
    "while len(fear) >= 1:\n",
    "    num = fear[0]\n",
    "    if num == 1:\n",
    "        cnt += 1\n",
    "        fear = fear[1:]\n",
    "    else:\n",
    "        if len(fear) >= num:\n",
    "            num = max(num, fear[num-1])\n",
    "            if len (fear) >= num and fear[num -1] <= num:\n",
    "                cnt+=1\n",
    "                fear=fear[num:]\n",
    "            else:\n",
    "                break                \n",
    "        else:\n",
    "            break\n",
    "print(cnt) "
   ]
  },
  {
   "cell_type": "code",
   "execution_count": 26,
   "id": "205676e9",
   "metadata": {},
   "outputs": [
    {
     "name": "stdout",
     "output_type": "stream",
     "text": [
      "5\n",
      "2 3 1 2 2\n",
      "2\n"
     ]
    }
   ],
   "source": [
    "# 정답\n",
    "n = int(input())\n",
    "data = list(map(int, input().split()))\n",
    "data.sort()\n",
    "\n",
    "result = 0 # 총 그룹의 수\n",
    "count = 0 # 현재 그룹에 포함된 모험가의 수\n",
    "\n",
    "for i in data: # 공포도를 낮은 것부터 하나씩 확인하며\n",
    "    count += 1 # 현재 그룹에 해당 모험가를 포함시키기\n",
    "    if count >= i: # 현재 그룹에 포함된 모험가의 수가 현재의 공포도 이상이라면, 그룹 결성\n",
    "        result += 1 # 총 그룹의 수 증가시키기\n",
    "        count = 0 # 현재 그룹에 포함된 모험가의 수 초기화\n",
    "\n",
    "print(result) # 총 그룹의 수 출력"
   ]
  },
  {
   "cell_type": "markdown",
   "id": "268d98be",
   "metadata": {},
   "source": [
    "# 02 곱하기 혹은 더하기"
   ]
  },
  {
   "cell_type": "code",
   "execution_count": 31,
   "id": "19ccb656",
   "metadata": {},
   "outputs": [
    {
     "name": "stdout",
     "output_type": "stream",
     "text": [
      "567\n",
      "210\n"
     ]
    }
   ],
   "source": [
    "# 내 답안\n",
    "s = input()\n",
    "value = int(s[0])\n",
    "for i in s[1:]:\n",
    "    i=int(i)\n",
    "    if value <= 0:\n",
    "        value += i\n",
    "        \n",
    "    else:\n",
    "        if i <= 1:\n",
    "            value += i\n",
    "        else:\n",
    "            value *= i\n",
    "print(value)"
   ]
  },
  {
   "cell_type": "code",
   "execution_count": 34,
   "id": "7d294cfb",
   "metadata": {},
   "outputs": [
    {
     "name": "stdout",
     "output_type": "stream",
     "text": [
      "567\n",
      "210\n"
     ]
    }
   ],
   "source": [
    "# 정답\n",
    "data = input()\n",
    "\n",
    "result = int(data[0])\n",
    "\n",
    "for i in range(1, len(data)):\n",
    "    num = int(data[i])\n",
    "    if num <= 1 or result <= 1:\n",
    "        result += num\n",
    "    else:\n",
    "        result *= num\n",
    "print(result)"
   ]
  }
 ],
 "metadata": {
  "kernelspec": {
   "display_name": "Python 3",
   "language": "python",
   "name": "python3"
  },
  "language_info": {
   "codemirror_mode": {
    "name": "ipython",
    "version": 3
   },
   "file_extension": ".py",
   "mimetype": "text/x-python",
   "name": "python",
   "nbconvert_exporter": "python",
   "pygments_lexer": "ipython3",
   "version": "3.8.8"
  }
 },
 "nbformat": 4,
 "nbformat_minor": 5
}
