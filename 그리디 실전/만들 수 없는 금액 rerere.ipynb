{
 "cells": [
  {
   "cell_type": "markdown",
   "id": "e76ebb21",
   "metadata": {},
   "source": [
    "# 코딩 전 생각"
   ]
  },
  {
   "cell_type": "code",
   "execution_count": null,
   "id": "81e86550",
   "metadata": {},
   "outputs": [],
   "source": [
    "\"\"\"\"\"\"\"\"\"\"\n",
    "1. 동전을 금액 오름차순으로 정렬한다.\n",
    "\n",
    "2. 목표 금액 변수를 target으로 선언하고 1로 초기화한다.\n",
    "\n",
    "3. 동전의 수 만큼 인덱스 i를 반복하여:\n",
    "    i번째 화폐의 단위가 target보다 크다면 target을 return 한다.\n",
    "    그렇지 않다면 target에 해당 화폐 단위를 더한다.\n",
    "\"\"\"\"\"\"\"\"\"\""
   ]
  },
  {
   "cell_type": "code",
   "execution_count": 3,
   "id": "f4cbf334",
   "metadata": {},
   "outputs": [
    {
     "name": "stdout",
     "output_type": "stream",
     "text": [
      "5\n",
      "3 2 1 1 9\n",
      "8\n"
     ]
    }
   ],
   "source": [
    "n = int(input())\n",
    "array  = list(map(int, input().split()))\n",
    "array.sort()\n",
    "target = 1\n",
    "for i in range(n):\n",
    "    if array[i] > target:\n",
    "        print(target)\n",
    "        break\n",
    "    target += array[i]"
   ]
  }
 ],
 "metadata": {
  "kernelspec": {
   "display_name": "Python 3 (ipykernel)",
   "language": "python",
   "name": "python3"
  },
  "language_info": {
   "codemirror_mode": {
    "name": "ipython",
    "version": 3
   },
   "file_extension": ".py",
   "mimetype": "text/x-python",
   "name": "python",
   "nbconvert_exporter": "python",
   "pygments_lexer": "ipython3",
   "version": "3.7.13"
  }
 },
 "nbformat": 4,
 "nbformat_minor": 5
}
