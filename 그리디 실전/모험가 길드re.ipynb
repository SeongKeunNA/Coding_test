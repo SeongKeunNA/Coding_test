{
 "cells": [
  {
   "cell_type": "markdown",
   "id": "e4bff5db",
   "metadata": {},
   "source": [
    "# 코딩 전 생각"
   ]
  },
  {
   "cell_type": "code",
   "execution_count": 1,
   "id": "ab5d6838",
   "metadata": {},
   "outputs": [
    {
     "ename": "SyntaxError",
     "evalue": "EOL while scanning string literal (1011622033.py, line 1)",
     "output_type": "error",
     "traceback": [
      "\u001b[1;36m  Input \u001b[1;32mIn [1]\u001b[1;36m\u001b[0m\n\u001b[1;33m    \"\"\"\"\"\"\"\u001b[0m\n\u001b[1;37m           ^\u001b[0m\n\u001b[1;31mSyntaxError\u001b[0m\u001b[1;31m:\u001b[0m EOL while scanning string literal\n"
     ]
    }
   ],
   "source": [
    "\"\"\"\"\"\"\"\"\"\n",
    "우선 모험가들을 공포도가 낮은 순으로 정렬한 뒤, 매 모험가들을 대상으로 반복하면서\n",
    "\n",
    "새롭게 들어온 모험가의 공포도가 그룹의 총 멤버 수와 같다면 그룹 수를 1 추가한다.\n",
    "\n",
    "ex) 1 2 2 2 3\n",
    "\n",
    "group1 -> mem += 1, terrified += 1 : cnt+=1 , mem, terrified = 0, 0\n",
    "group2 -> mem += 1, terrified = 2\n",
    "group2 -> mem += 1, terrified = 2 : cnt +=1 , mem, terrified = 0, 0\n",
    "...\n",
    "\"\"\"\"\"\"\"\"\""
   ]
  },
  {
   "cell_type": "markdown",
   "id": "224a7e2b",
   "metadata": {},
   "source": [
    "# 내 답안"
   ]
  },
  {
   "cell_type": "code",
   "execution_count": 2,
   "id": "02142c0c",
   "metadata": {},
   "outputs": [
    {
     "name": "stdout",
     "output_type": "stream",
     "text": [
      "5\n",
      "2 3 1 2 2\n",
      "2\n"
     ]
    }
   ],
   "source": [
    "n = int(input())\n",
    "members = list(map(int, input().split()))\n",
    "members.sort()\n",
    "mem = 0\n",
    "cnt = 0\n",
    "for i in members:\n",
    "    mem += 1\n",
    "    if i == mem:\n",
    "        cnt += 1\n",
    "        mem = 0\n",
    "print(cnt)"
   ]
  },
  {
   "cell_type": "markdown",
   "id": "73d7dc24",
   "metadata": {},
   "source": [
    "# 답안 작성 후 생각"
   ]
  },
  {
   "cell_type": "code",
   "execution_count": null,
   "id": "5ec2c8f5",
   "metadata": {},
   "outputs": [],
   "source": [
    "\"\"\"\"\"\"\"\"\"\"\n",
    "그룹의 수를 최대화하기 위해 그룹의 멤버 수가 공포도와 같아질 때마다\n",
    "\n",
    "바로바로 여행을 떠나도록 그리디 알고리즘으로 구현했다.\n",
    "\"\"\"\"\"\"\"\"\"\""
   ]
  },
  {
   "cell_type": "markdown",
   "id": "4fe921cc",
   "metadata": {},
   "source": [
    "# 정답"
   ]
  },
  {
   "cell_type": "code",
   "execution_count": null,
   "id": "9fd9163c",
   "metadata": {},
   "outputs": [],
   "source": [
    "n = int(input())\n",
    "data = list(map(int, input().split()))\n",
    "data.sort()\n",
    "\n",
    "result = 0\n",
    "count = 0\n",
    "for i in data:\n",
    "    count += 1\n",
    "    if count >= i:\n",
    "        result += 1\n",
    "        count = 0\n",
    "print(result)"
   ]
  },
  {
   "cell_type": "markdown",
   "id": "0441a470",
   "metadata": {},
   "source": [
    "# 답안 작성 후 생각"
   ]
  },
  {
   "cell_type": "code",
   "execution_count": null,
   "id": "05f93fa5",
   "metadata": {},
   "outputs": [],
   "source": [
    "\"\"\"\"\"\"\"\"\"\"\n",
    "내 풀이와 다른 점은 해당 그룹의 멤버 수와 새로 들어온 멤버의 공포도를 비교할 때 멤버 수가 공포도보다 크거나 같을 때 처리를 한다는 것이다.\n",
    "\n",
    "하지만 내 풀이처럼 ==을 써도 이상이 없을 것 같다.\n",
    "\"\"\"\"\"\"\"\"\"\""
   ]
  }
 ],
 "metadata": {
  "kernelspec": {
   "display_name": "pytorch",
   "language": "python",
   "name": "pt1.1"
  },
  "language_info": {
   "codemirror_mode": {
    "name": "ipython",
    "version": 3
   },
   "file_extension": ".py",
   "mimetype": "text/x-python",
   "name": "python",
   "nbconvert_exporter": "python",
   "pygments_lexer": "ipython3",
   "version": "3.9.12"
  }
 },
 "nbformat": 4,
 "nbformat_minor": 5
}
