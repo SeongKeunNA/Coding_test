{
 "cells": [
  {
   "cell_type": "markdown",
   "id": "d8c85894",
   "metadata": {},
   "source": [
    "# 볼링공 고르기"
   ]
  },
  {
   "cell_type": "code",
   "execution_count": 2,
   "id": "92c18fb2",
   "metadata": {},
   "outputs": [
    {
     "name": "stdout",
     "output_type": "stream",
     "text": [
      "8 5\n",
      "1 5 4 3 2 4 5 2\n",
      "25\n"
     ]
    }
   ],
   "source": [
    "# 내 답안\n",
    "n, m = map(int, input().split())\n",
    "b = list(map(int, input().split()))\n",
    "b.sort()\n",
    "cnt = 0\n",
    "\n",
    "for i in range(n):\n",
    "    for j in range(i+1, n):\n",
    "        if b[i] != b[j]:\n",
    "            cnt += 1\n",
    "print(cnt)"
   ]
  },
  {
   "cell_type": "code",
   "execution_count": 3,
   "id": "5042700c",
   "metadata": {},
   "outputs": [
    {
     "name": "stdout",
     "output_type": "stream",
     "text": [
      "5 3\n",
      "1 2 2 3 3\n",
      "8\n"
     ]
    }
   ],
   "source": [
    "# 정답\n",
    "n, m = map(int, input().split())\n",
    "data = list(map(int, input().split()))\n",
    "\n",
    "# 1부터 10까지의 무게를 담을 수 있는 리스트\n",
    "array = [0] * 11\n",
    "for x in data:\n",
    "    array[x] += 1\n",
    "    \n",
    "result = 0\n",
    "# 1부터 m까지의 각 무게에 대하여 처리\n",
    "for i in range(1, m+1):\n",
    "    n -= array[i] # 무게가 i인 볼링공의 개수(A가 선택할 수 있는 개수) 제외\n",
    "    result += array[i] * n # B가 선택하는 경우의 수와 곱하기\n",
    "print(result)"
   ]
  },
  {
   "cell_type": "markdown",
   "id": "d79ca036",
   "metadata": {},
   "source": [
    "# 무지의 먹방 라이브"
   ]
  },
  {
   "cell_type": "code",
   "execution_count": 1,
   "id": "97e9796c",
   "metadata": {},
   "outputs": [],
   "source": [
    "# 내 답안1\n",
    "def solution(food_times, k):\n",
    "    answer = 0\n",
    "    ft = food_times\n",
    "    n = len(ft)\n",
    "    c = 0\n",
    "    def eat(ft, n, m, c, k):\n",
    "        if c >= n:\n",
    "            return -1\n",
    "\n",
    "        for i in range(m, k + 1):\n",
    "            if ft[i % n] > 0:\n",
    "                c = 0\n",
    "                if i == k:\n",
    "                    return (i % n) + 1\n",
    "                ft[i % n] -= 1\n",
    "                \n",
    "            else:\n",
    "                c += 1\n",
    "                k += 1\n",
    "                return eat(ft, n, i + 1, c, k)\n",
    "        \n",
    "    answer = eat(ft, n, 0, 0, k)\n",
    "    return answer"
   ]
  },
  {
   "cell_type": "code",
   "execution_count": null,
   "id": "c3e059d2",
   "metadata": {},
   "outputs": [],
   "source": [
    "# 정답\n",
    "import heapq\n",
    "\n",
    "def solution(food_times, k):\n",
    "    # 전체 음식을 먹는 시간보다 k가 크거나 같다면 -1\n",
    "    if sum(food_times) <= k:\n",
    "        return -1\n",
    "\n",
    "    # 시간이 작은 음식부터 빼야 하므로 우선순위 큐를 이용\n",
    "    q = []\n",
    "    for i in range(len(food_times)):\n",
    "        # (음식 시간, 음식 번호) 형태로 우선순위 큐에 삽입\n",
    "        heapq.heappush(q, (food_times[i], i + 1))  \n",
    "\n",
    "    sum_value = 0 # 먹기 위해 사용한 시간\n",
    "    previous = 0 # 직전에 다 먹은 음식 시간\n",
    "    length = len(food_times) # 남은 음식의 개수\n",
    "\n",
    "    # sum_value + (현재의 음식 시간 - 이전 음식 시간) * 현재 음식 개수와 k 비교\n",
    "    while sum_value + ((q[0][0] - previous) * length) <= k:\n",
    "        now = heapq.heappop(q)[0]\n",
    "        sum_value += (now - previous) * length\n",
    "        length -= 1 # 다 먹은 음식 제외\n",
    "        previous = now # 이전 음식 시간 재설정\n",
    "\n",
    "    # 남은 음식 중에서 몇 번째 음식인지 확인하여 출력\n",
    "    result = sorted(q, key=lambda x: x[1]) # 음식의 번호 기준으로 정렬\n",
    "    return result[(k - sum_value) % length][1]"
   ]
  }
 ],
 "metadata": {
  "kernelspec": {
   "display_name": "Python 3",
   "language": "python",
   "name": "python3"
  },
  "language_info": {
   "codemirror_mode": {
    "name": "ipython",
    "version": 3
   },
   "file_extension": ".py",
   "mimetype": "text/x-python",
   "name": "python",
   "nbconvert_exporter": "python",
   "pygments_lexer": "ipython3",
   "version": "3.8.8"
  }
 },
 "nbformat": 4,
 "nbformat_minor": 5
}
