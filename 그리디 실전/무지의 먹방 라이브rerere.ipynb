{
 "cells": [
  {
   "cell_type": "markdown",
   "id": "6006b05f",
   "metadata": {},
   "source": [
    "# 코딩 전 생각"
   ]
  },
  {
   "cell_type": "code",
   "execution_count": null,
   "id": "99f5ea5c",
   "metadata": {},
   "outputs": [],
   "source": [
    "\"\"\"\"\"\"\"\"\"\n",
    "0. 만약 sum(food_times) >= k라면:\n",
    "    print(-1)\n",
    "    break\n",
    "    \n",
    "1. food 리스트에 (음식의 남은 시간, 음식의 번호)을 삽입하여 오름차순으로 정렬한다.\n",
    "\n",
    "2. length = len(food), pre = 0으로 초기화한다.\n",
    "\n",
    "3. food_times의 길이만큼 i를 반복하여:\n",
    "    time = (food[i][0] - pre) * length\n",
    "    if time <= k(남은 시간)이라면:\n",
    "        k -= time\n",
    "        length -= 1\n",
    "        pre += food[i][0]\n",
    "        food[i][0] = 0        \n",
    "    그렇지 않다면:\n",
    "        q = [f[1] for f in food[i:]]\n",
    "        q = heapify(q)\n",
    "        print(q[k % length])\n",
    "\"\"\"\"\"\"\"\"\""
   ]
  },
  {
   "cell_type": "markdown",
   "id": "6ae24714",
   "metadata": {},
   "source": [
    "# 내 답안"
   ]
  },
  {
   "cell_type": "code",
   "execution_count": null,
   "id": "a5fcb5d9",
   "metadata": {},
   "outputs": [],
   "source": [
    "def solution(food_times, k):\n",
    "    answer = 0\n",
    "    if sum(food_times) <= k: # 1 2 2 5\n",
    "        return -1\n",
    "    food = []\n",
    "    for i,t in enumerate(food_times):\n",
    "        food.append((t, i + 1))\n",
    "    food.sort() # 1,1 3,2 5,3 7,4, 9,5\n",
    "    length = len(food) # 5\n",
    "    pre = 0\n",
    "    for i in range(len(food)): # 0 1 2 \n",
    "        time = (food[i][0] - pre) * length #5 8\n",
    "        if time <= k: \n",
    "            k -= time # k = 13 -> 8 0\n",
    "            length -= 1 # length = 4 3\n",
    "            pre = food[i][0] # 1 4\n",
    "        else: #k=8, i=1, time = 8\n",
    "            q = [f[1] for f in food[i:]] #[2, 3, 4, 5]\n",
    "            q.sort()\n",
    "            return q[k % length] "
   ]
  },
  {
   "cell_type": "markdown",
   "id": "ea00570a",
   "metadata": {},
   "source": [
    "# 정답"
   ]
  },
  {
   "cell_type": "code",
   "execution_count": null,
   "id": "7b557616",
   "metadata": {},
   "outputs": [],
   "source": [
    "import heapq\n",
    "\n",
    "def solution(food_times, k):\n",
    "    if sum(food_times) <= k:\n",
    "        return -1\n",
    "    q = []\n",
    "    for i in range(len(food_times)):\n",
    "        heapq.heappush(q, (food_times[i], i + 1))\n",
    "    sum_value = 0\n",
    "    previous = 0\n",
    "    length = len(food_times)\n",
    "    while sum_value + ((q[0][0] - previous) * length) <= k:\n",
    "        now = heapq.heqppop(q)[0]\n",
    "        sum_value += (now - previous) * length\n",
    "        length -= 1\n",
    "        previous = now\n",
    "    result = sorted(q, key = lambda x: x[1])\n",
    "    return result[k % length][1]"
   ]
  },
  {
   "cell_type": "markdown",
   "id": "4241932b",
   "metadata": {},
   "source": [
    "# 정답 확인 후 생각"
   ]
  },
  {
   "cell_type": "code",
   "execution_count": null,
   "id": "d96f3626",
   "metadata": {},
   "outputs": [],
   "source": [
    "\"\"\"\"\"\"\"\"\"\"\n",
    "이상 무\n",
    "\"\"\"\"\"\"\"\"\"\""
   ]
  }
 ],
 "metadata": {
  "kernelspec": {
   "display_name": "Python 3 (ipykernel)",
   "language": "python",
   "name": "python3"
  },
  "language_info": {
   "codemirror_mode": {
    "name": "ipython",
    "version": 3
   },
   "file_extension": ".py",
   "mimetype": "text/x-python",
   "name": "python",
   "nbconvert_exporter": "python",
   "pygments_lexer": "ipython3",
   "version": "3.7.13"
  }
 },
 "nbformat": 4,
 "nbformat_minor": 5
}
