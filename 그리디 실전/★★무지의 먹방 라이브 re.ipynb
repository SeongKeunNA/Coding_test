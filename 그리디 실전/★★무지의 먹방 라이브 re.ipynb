{
 "cells": [
  {
   "cell_type": "markdown",
   "id": "0b6bb28d",
   "metadata": {},
   "source": [
    "# 코딩 전 생각"
   ]
  },
  {
   "cell_type": "code",
   "execution_count": 1,
   "id": "936f43fd",
   "metadata": {},
   "outputs": [
    {
     "ename": "SyntaxError",
     "evalue": "EOF while scanning triple-quoted string literal (2409538860.py, line 1)",
     "output_type": "error",
     "traceback": [
      "\u001b[1;36m  Input \u001b[1;32mIn [1]\u001b[1;36m\u001b[0m\n\u001b[1;33m    \"\"\"\"\"\"\"\"\"\u001b[0m\n\u001b[1;37m             ^\u001b[0m\n\u001b[1;31mSyntaxError\u001b[0m\u001b[1;31m:\u001b[0m EOF while scanning triple-quoted string literal\n"
     ]
    }
   ],
   "source": [
    "\"\"\"\"\"\"\"\"\"\n",
    "heapq 라이브러리를 이용해 다음에 먹을 음식의 번호를 쉽게 결정할 수 있도록 한다.\n",
    "\n",
    "0. food_list에서 enumerate를 이용해 heapq인 q를 만든다. (음식번호, 남은시간)\n",
    "\n",
    "<루프>\n",
    "만약 k가 len(food_times)- 1보다 작다면:\n",
    "    루프 탈출\n",
    "1. q의 원소중 최솟값(남은 시간의 최솟값)만큼의 숫자를 한 번에 뺀다.\n",
    "\n",
    "2. k 역시 해당하는 최솟값만큼 뺀다.\n",
    "\n",
    "3. 0이 된 음식은 q에서 제거한다.\n",
    "\n",
    "4. q의 길이가 0이라면 -1리턴\n",
    "\n",
    "남은 음식을 heapq로 만들어...\n",
    "\"\"\"\"\"\"\"\"\""
   ]
  },
  {
   "cell_type": "markdown",
   "id": "ad8a0d8e",
   "metadata": {},
   "source": [
    "# 내 답안"
   ]
  },
  {
   "cell_type": "code",
   "execution_count": 30,
   "id": "6c898181",
   "metadata": {
    "scrolled": true
   },
   "outputs": [
    {
     "name": "stdout",
     "output_type": "stream",
     "text": [
      "q: [[3, 0], [1, 1], [2, 2]]\n",
      "q: [[2, 0], [0, 1], [1, 2]]\n",
      "k: 2\n",
      "q: [[2, 0], [1, 2]]\n",
      "q: [[2, 0], [1, 2]]\n",
      "k: 2\n",
      "q: [[1, 0]]\n",
      "k: 0\n"
     ]
    },
    {
     "data": {
      "text/plain": [
       "1"
      ]
     },
     "execution_count": 30,
     "metadata": {},
     "output_type": "execute_result"
    }
   ],
   "source": [
    "import heapq\n",
    "import copy\n",
    "def solution(food_times, k):\n",
    "    min_value = min(food_times)\n",
    "    q = []   \n",
    "    for i,t in enumerate(food_times):\n",
    "        heapq.heappush(q, [t, i])\n",
    "    if k > sum(food_times):\n",
    "        return -1\n",
    "    while k >= len(q) - 1 and k > 0:\n",
    "        if len(q) == 0:\n",
    "            return -1\n",
    "        min_value = min(q)\n",
    "        min_count = q.count(min_value)\n",
    "        start = min(min_value, k//len(q))\n",
    "        for i in range(len(q)):\n",
    "            q[i][0] -= start\n",
    "        k -= start * len(q)        \n",
    "        for _ in range(min_count):\n",
    "            heapq.heappop(q)\n",
    "            \n",
    "    return q[k][1] + 1     \n",
    "solution([3, 1, 2], 5)"
   ]
  },
  {
   "cell_type": "markdown",
   "id": "f4cb7127",
   "metadata": {},
   "source": [
    "# 답안 작성 후 생각"
   ]
  },
  {
   "cell_type": "code",
   "execution_count": 31,
   "id": "ab563efc",
   "metadata": {},
   "outputs": [
    {
     "ename": "SyntaxError",
     "evalue": "EOF while scanning triple-quoted string literal (886353925.py, line 1)",
     "output_type": "error",
     "traceback": [
      "\u001b[1;36m  Input \u001b[1;32mIn [31]\u001b[1;36m\u001b[0m\n\u001b[1;33m    \"\"\"\"\"\"\"\"\"\"\u001b[0m\n\u001b[1;37m              ^\u001b[0m\n\u001b[1;31mSyntaxError\u001b[0m\u001b[1;31m:\u001b[0m EOF while scanning triple-quoted string literal\n"
     ]
    }
   ],
   "source": [
    "\"\"\"\"\"\"\"\"\"\"\n",
    "프로그래머스에서 소스 코드를 제출한 결과, 32개의 테스트 케이스 중 5개에서 런타임 오류가 발생했고, \n",
    "\n",
    "효율성 테스트에서는 한 문제도 시간 초과를 피해갈 수 없었다.\n",
    "\"\"\"\"\"\"\"\"\"\""
   ]
  },
  {
   "cell_type": "markdown",
   "id": "a6480216",
   "metadata": {},
   "source": [
    "# 2차 답안"
   ]
  },
  {
   "cell_type": "code",
   "execution_count": 42,
   "id": "de32c483",
   "metadata": {},
   "outputs": [
    {
     "data": {
      "text/plain": [
       "1"
      ]
     },
     "execution_count": 42,
     "metadata": {},
     "output_type": "execute_result"
    }
   ],
   "source": [
    "import heapq\n",
    "def solution(food_times, k):\n",
    "    min_value = min(food_times)\n",
    "    q = []   \n",
    "    for i,t in enumerate(food_times):\n",
    "        heapq.heappush(q, [t, i])\n",
    "    if k >= sum(food_times):\n",
    "        return -1\n",
    "    \n",
    "    while k >= len(q) - 1 and k > 0:\n",
    "        min_value = min(q)[0]\n",
    "        min_count = 0\n",
    "        for i in q:\n",
    "            if i[0] == min_value:\n",
    "                min_count += 1\n",
    "        start = min(min_value, k//len(q))\n",
    "        for i in range(len(q)):\n",
    "            q[i][0] -= start\n",
    "        k -= start * len(q)        \n",
    "        for _ in range(min_count):\n",
    "            heapq.heappop(q)\n",
    "            \n",
    "    return q[k][1] + 1     \n",
    "solution([3, 1, 2], 5)"
   ]
  },
  {
   "cell_type": "markdown",
   "id": "5a8471b1",
   "metadata": {},
   "source": [
    "# 2차 답안 작성 후 생각"
   ]
  },
  {
   "cell_type": "code",
   "execution_count": 43,
   "id": "863281ac",
   "metadata": {},
   "outputs": [
    {
     "ename": "SyntaxError",
     "evalue": "EOF while scanning triple-quoted string literal (886353925.py, line 1)",
     "output_type": "error",
     "traceback": [
      "\u001b[1;36m  Input \u001b[1;32mIn [43]\u001b[1;36m\u001b[0m\n\u001b[1;33m    \"\"\"\"\"\"\"\"\"\"\u001b[0m\n\u001b[1;37m              ^\u001b[0m\n\u001b[1;31mSyntaxError\u001b[0m\u001b[1;31m:\u001b[0m EOF while scanning triple-quoted string literal\n"
     ]
    }
   ],
   "source": [
    "\"\"\"\"\"\"\"\"\"\"\n",
    "1차 답안보다 조금 더 정돈된 코드를 작성했지만 오히려 실패가 발생하고 효율성 테스트도 통과하지 못했다.\n",
    "\"\"\"\"\"\"\"\"\"\""
   ]
  },
  {
   "cell_type": "markdown",
   "id": "aa12aab6",
   "metadata": {},
   "source": [
    "# 3차 답안 "
   ]
  },
  {
   "cell_type": "code",
   "execution_count": null,
   "id": "0eec3ca4",
   "metadata": {},
   "outputs": [],
   "source": [
    "import heapq\n",
    "def solution(food_times, k):\n",
    "    if k >= sum(food_times):\n",
    "        return -1\n",
    "    \n",
    "    q = []   \n",
    "    for i,t in enumerate(food_times):\n",
    "        heapq.heappush(q, [t, i])\n",
    "        \n",
    "    k = sum(food_times) % k\n",
    "               \n",
    "    ..."
   ]
  },
  {
   "cell_type": "markdown",
   "id": "8134b2e9",
   "metadata": {},
   "source": [
    "# 3차 답안 작성 후 생각"
   ]
  },
  {
   "cell_type": "code",
   "execution_count": null,
   "id": "b4802fd4",
   "metadata": {},
   "outputs": [],
   "source": [
    "\"\"\"\"\"\"\"\"\"\"\n",
    "k를 한번에 줄이는 아이디어를 떠올렸지만 food_times를 그에 맞게 줄이는 방법을 떠올리지 못했다.\n",
    "\"\"\"\"\"\"\"\"\"\""
   ]
  },
  {
   "cell_type": "markdown",
   "id": "9b52926e",
   "metadata": {},
   "source": [
    "# 답지 처음 부분 참고한 답안"
   ]
  },
  {
   "cell_type": "code",
   "execution_count": 67,
   "id": "ba491486",
   "metadata": {},
   "outputs": [
    {
     "name": "stdout",
     "output_type": "stream",
     "text": [
      "len(q): 8\n",
      "time: 1 index: 6 k: 27\n",
      "time: 2 index: 2 k: 19\n",
      "time: 3 index: 3 k: 5\n",
      "q: [[3, 3], [6, 4], [4, 1], [8, 8], [7, 5], [5, 7]] k: 5\n",
      "5\n",
      "[[4, 1], [3, 3], [6, 4], [7, 5], [5, 7], [8, 8]]\n"
     ]
    },
    {
     "data": {
      "text/plain": [
       "8"
      ]
     },
     "execution_count": 67,
     "metadata": {},
     "output_type": "execute_result"
    }
   ],
   "source": [
    "import heapq\n",
    "def solution(food_times, k):\n",
    "    if k >= sum(food_times):\n",
    "        return -1         \n",
    "    q = []   \n",
    "    for i,t in enumerate(food_times):\n",
    "        heapq.heappush(q, [t, i+1])\n",
    "    while True:\n",
    "        time, index = heapq.heappop(q)\n",
    "        if time * (len(q) + 1) <= k:\n",
    "            k -= time * (len(q) + 1)\n",
    "        else:\n",
    "            heapq.heappush(q, [time, index])\n",
    "\n",
    "            q.sort(key = lambda x: x[1])\n",
    "            idx = k % len(q)\n",
    "            return (q[idx][1]) \n",
    "    \n",
    "solution([4,2,3,6,7,1,5,8], 27)"
   ]
  },
  {
   "cell_type": "markdown",
   "id": "dcc56364",
   "metadata": {},
   "source": [
    "# 답지 참고 답안 작성 후 생각"
   ]
  },
  {
   "cell_type": "code",
   "execution_count": null,
   "id": "76e09ca0",
   "metadata": {},
   "outputs": [],
   "source": [
    "\"\"\"\"\"\"\"\"\"\"\n",
    "제거할 수 있는 음식을 모두 제거하고 마지막에 남은 음식들의 개수를 이용해서\n",
    "최종 답을 출력하는 부분에서 계속 오류가 발생하는 것 같다.\n",
    "\"\"\"\"\"\"\"\"\"\""
   ]
  },
  {
   "cell_type": "markdown",
   "id": "717f6da7",
   "metadata": {},
   "source": [
    "# 정답"
   ]
  },
  {
   "cell_type": "code",
   "execution_count": 84,
   "id": "4bcdb99d",
   "metadata": {},
   "outputs": [
    {
     "name": "stdout",
     "output_type": "stream",
     "text": [
      "q: [(2, 3), (3, 1)] k: 2 now: 1\n",
      "q: [(3, 1)] k: 0 now: 2\n"
     ]
    },
    {
     "data": {
      "text/plain": [
       "1"
      ]
     },
     "execution_count": 84,
     "metadata": {},
     "output_type": "execute_result"
    }
   ],
   "source": [
    "import heapq\n",
    "\n",
    "def solution(food_times, k):\n",
    "    # 전체 음식을 먹는 시간보다 k가 크거나 같다면 -1\n",
    "    if sum(food_times) <= k:\n",
    "        return -1\n",
    "    q = []\n",
    "    for i in range(len(food_times)):\n",
    "        heapq.heappush(q, (food_times[i], i+1))\n",
    "    sum_value = 0 # 먹기 위해 사용한 시간\n",
    "    previous = 0 # 직전에 다 먹은 음식 시간\n",
    "    length = len(food_times) # 남은 음식의 개수\n",
    "    # sum_value + (현재의 음식 시간 - 이전 음식 시간) * 현재 음식개수와 k 비교\n",
    "    while (q[0][0] - previous) * length <= k:\n",
    "        \n",
    "        now = heapq.heappop(q)[0]\n",
    "        \n",
    "        \n",
    "        k -= (now - previous) * length\n",
    "        print('q:',q , 'k:',k, 'now:',now)\n",
    "        length -= 1 # 다 먹은 음식 제외\n",
    "        previous = now # 이전 음식 시간 재설정      \n",
    "       \n",
    "    # 남은 음식 중에서 몇 번 째 음식인지 확인하여 출력\n",
    "    result = sorted(q, key = lambda x: x[1]) # 음식의 번호 기준으로 정렬\n",
    "    return result[k % length][1]\n",
    "solution([3, 1, 2], 5)"
   ]
  },
  {
   "cell_type": "code",
   "execution_count": 70,
   "id": "0544f6f5",
   "metadata": {},
   "outputs": [
    {
     "data": {
      "text/plain": [
       "1"
      ]
     },
     "execution_count": 70,
     "metadata": {},
     "output_type": "execute_result"
    }
   ],
   "source": [
    "import heapq\n",
    "\n",
    "def solution(food_times, k):\n",
    "    # 전체 음식을 먹는 시간보다 k가 크거나 같다면 -1\n",
    "    if sum(food_times) <= k:\n",
    "        return -1\n",
    "    q = []\n",
    "    for i in range(len(food_times)):\n",
    "        heapq.heappush(q, (food_times[i], i+1))\n",
    "    sum_value = 0 # 먹기 위해 사용한 시간\n",
    "    previous = 0 # 직전에 다 먹은 음식 시간\n",
    "    length = len(food_times) # 남은 음식의 개수\n",
    "    # sum_value + (현재의 음식 시간 - 이전 음식 시간) * 현재 음식개수와 k 비교\n",
    "    while sum_value + ((q[0][0] - previous) * length) <= k:\n",
    "        now = heapq.heappop(q)[0]\n",
    "        sum_value += (now - previous) * length\n",
    "        length -= 1 # 다 먹은 음식 제외\n",
    "        previous = now # 이전 음식 시간 재설정\n",
    "    # 남은 음식 중에서 몇 번 째 음식인지 확인하여 출력\n",
    "    result = sorted(q, key = lambda x: x[1]) # 음식의 번호 기준으로 정렬\n",
    "    return result[(k - sum_value) % length][1]\n",
    "solution([3, 1, 2], 5)"
   ]
  },
  {
   "cell_type": "markdown",
   "id": "a034b62c",
   "metadata": {},
   "source": [
    "# 정답 확인 후 생각"
   ]
  },
  {
   "cell_type": "code",
   "execution_count": null,
   "id": "7483c9ee",
   "metadata": {},
   "outputs": [],
   "source": [
    "\"\"\"\"\"\"\"\"\"\"\n",
    "1. heapq 자료구조에서 q[0]만으로 최소힙을 찾을 수 있다(heapq.heappop() 불필요)\n",
    "\n",
    "2. 직전에 먹은 음식 시간을 매번 빼주어야 한다.\n",
    "\"\"\"\"\"\"\"\"\"\""
   ]
  }
 ],
 "metadata": {
  "kernelspec": {
   "display_name": "pytorch",
   "language": "python",
   "name": "pt1.1"
  },
  "language_info": {
   "codemirror_mode": {
    "name": "ipython",
    "version": 3
   },
   "file_extension": ".py",
   "mimetype": "text/x-python",
   "name": "python",
   "nbconvert_exporter": "python",
   "pygments_lexer": "ipython3",
   "version": "3.9.12"
  }
 },
 "nbformat": 4,
 "nbformat_minor": 5
}
