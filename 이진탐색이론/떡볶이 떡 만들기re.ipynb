{
 "cells": [
  {
   "cell_type": "markdown",
   "id": "67bacf77",
   "metadata": {},
   "source": [
    "# 내 답안"
   ]
  },
  {
   "cell_type": "code",
   "execution_count": 12,
   "id": "ca7e47e1",
   "metadata": {},
   "outputs": [
    {
     "name": "stdout",
     "output_type": "stream",
     "text": [
      "4 6\n",
      "19 15 10 17\n",
      "15\n"
     ]
    }
   ],
   "source": [
    "n, m = map(int, input().split())\n",
    "data = list(map(int, input().split()))\n",
    "data.sort()\n",
    "\n",
    "def cut(data, height):\n",
    "    answer = 0\n",
    "    for i in data:\n",
    "        if i > height:\n",
    "            answer += (i - height)\n",
    "    return answer\n",
    "\n",
    "def make(start, end, data, goal):\n",
    "    while start <= end:\n",
    "        mid = (start + end) // 2\n",
    "\n",
    "        if cut(data, mid) < goal:\n",
    "            end = mid - 1\n",
    "        elif cut(data, mid) > goal:\n",
    "            start = mid + 1\n",
    "        else:\n",
    "            while True:\n",
    "                mid += 1\n",
    "                if cut(data, mid) < goal:\n",
    "                    return mid - 1\n",
    "                            \n",
    "answer = make(0, data[n-1], data, m)\n",
    "print(answer)"
   ]
  },
  {
   "cell_type": "markdown",
   "id": "fc7540aa",
   "metadata": {},
   "source": [
    "# 정답"
   ]
  },
  {
   "cell_type": "code",
   "execution_count": null,
   "id": "9e99dcb5",
   "metadata": {},
   "outputs": [],
   "source": [
    "n ,m = list(map(int, input().split()))\n",
    "array = list(map(int,input().split()))\n",
    "start = 0\n",
    "end = max(array)\n",
    "\n",
    "result = 0\n",
    "while(start <= end):\n",
    "    total = 0\n",
    "    mid = (start + end) // 2\n",
    "    for x in array:\n",
    "        if x > mid:\n",
    "            total += x - mid\n",
    "    if total < m:\n",
    "        end = mid - 1\n",
    "    else:\n",
    "        result = mid\n",
    "        start = mid + 1\n",
    "print(result)"
   ]
  },
  {
   "cell_type": "markdown",
   "id": "e9e31144",
   "metadata": {},
   "source": [
    "# 정답 확인 후 생각"
   ]
  },
  {
   "cell_type": "code",
   "execution_count": null,
   "id": "0fdc119b",
   "metadata": {},
   "outputs": [],
   "source": [
    "떡의 리스트를 정렬하지 않고 그냥 max 함수로 end 값을 설정한다.\n",
    "떡의 개수와 같을 때부터 다시 while 문으로 들어가 높이를 1씩 높이지 않고,\n",
    "잘려서 얻어진 떡 길이의 총합이 목표값보다 크다면 이미 조건의 일부가 만족된 것이므로 \n",
    "result 변수에 넣고 최적화를 위해 start를 mid + 1로 변경하고 반복한다."
   ]
  }
 ],
 "metadata": {
  "kernelspec": {
   "display_name": "pytorch",
   "language": "python",
   "name": "pt1.1"
  },
  "language_info": {
   "codemirror_mode": {
    "name": "ipython",
    "version": 3
   },
   "file_extension": ".py",
   "mimetype": "text/x-python",
   "name": "python",
   "nbconvert_exporter": "python",
   "pygments_lexer": "ipython3",
   "version": "3.9.7"
  }
 },
 "nbformat": 4,
 "nbformat_minor": 5
}
