{
 "cells": [
  {
   "cell_type": "markdown",
   "id": "cf1c3a1f",
   "metadata": {},
   "source": [
    "# 코딩 전 생각"
   ]
  },
  {
   "cell_type": "code",
   "execution_count": null,
   "id": "76d269ac",
   "metadata": {},
   "outputs": [],
   "source": [
    "\"\"\"\"\"\"\"\"\"\"\n",
    "떡을 자를 수 있는 최소 높이와 최대 높이를 기준으로 하여 이진 탐색으로 매번 새로운 높이로 떡을 잘라 확인한다.\n",
    "\"\"\"\"\"\"\"\"\"\""
   ]
  },
  {
   "cell_type": "markdown",
   "id": "b2cb56ef",
   "metadata": {},
   "source": [
    "# 내 답안"
   ]
  },
  {
   "cell_type": "code",
   "execution_count": 9,
   "id": "cdcb3eb3",
   "metadata": {},
   "outputs": [
    {
     "name": "stdout",
     "output_type": "stream",
     "text": [
      "4 1\n",
      "19 10 15 17\n",
      "18\n"
     ]
    }
   ],
   "source": [
    "n, m = map(int, input().split())\n",
    "array = list(map(int, input().split()))\n",
    "array.sort() # 10 15 17 1\n",
    "start = 0\n",
    "end = array[-1] - 1 \n",
    "\n",
    "def cut(array, mid):\n",
    "    result = 0\n",
    "    for a in reversed(array):\n",
    "        if a > mid:\n",
    "            result += a - mid\n",
    "        else:\n",
    "            break\n",
    "    return result\n",
    "\n",
    "while start <= end:\n",
    "    mid = (start + end) // 2\n",
    "    if cut(array, mid) >= m:\n",
    "        if cut(array, mid+1) < m:\n",
    "            print(mid)\n",
    "            break\n",
    "        else:\n",
    "            start = mid + 1\n",
    "    else:\n",
    "        end = mid - 1"
   ]
  },
  {
   "cell_type": "markdown",
   "id": "84758806",
   "metadata": {},
   "source": [
    "# 답안 작성 후 생각"
   ]
  },
  {
   "cell_type": "code",
   "execution_count": null,
   "id": "60e67d7a",
   "metadata": {},
   "outputs": [],
   "source": [
    "\"\"\"\"\"\"\"\"\"\"\n",
    "이상 무\n",
    "\"\"\"\"\"\"\"\"\"\""
   ]
  },
  {
   "cell_type": "markdown",
   "id": "8d282021",
   "metadata": {},
   "source": [
    "# 정답 "
   ]
  },
  {
   "cell_type": "code",
   "execution_count": null,
   "id": "a8d18444",
   "metadata": {},
   "outputs": [],
   "source": [
    "n, m = map(int, input().split())\n",
    "array = list(map(int, input().split()))\n",
    "start = 0\n",
    "end = max(array)\n",
    "\n",
    "result = 0\n",
    "while(start <= end):\n",
    "    total = 0\n",
    "    mid = (start + end) // 2\n",
    "    for x in array:\n",
    "        if x > mid:\n",
    "            total += x - mid\n",
    "    if total < m:\n",
    "        end = mid - 1\n",
    "    else:\n",
    "        result = mid\n",
    "        start = mid + 1\n",
    "print(result)"
   ]
  },
  {
   "cell_type": "markdown",
   "id": "1823dae2",
   "metadata": {},
   "source": [
    "# 정답 확인 후 생각"
   ]
  },
  {
   "cell_type": "code",
   "execution_count": null,
   "id": "6252244d",
   "metadata": {},
   "outputs": [],
   "source": [
    "\"\"\"\"\"\"\"\"\"\"\n",
    "array를 정렬한 후 array의 원소를 대상으로 반복문을 수행하다가 해당 떡의 길이가 절단기보다 작을 경우 break하지 않고,\n",
    "\n",
    "그냥 array의 모든 원소에 대해서 반복문을 수행했다.\n",
    "\n",
    "또한 해당 높이로 자른 떡 길이의 총합이 목표치와 같거나 크다면 절단기 높이를 1cm 올려서 수행한 결과와 비교하지 않고\n",
    "\n",
    "result를 해당 높이로 갱신했다.\n",
    "\"\"\"\"\"\"\"\"\"\""
   ]
  }
 ],
 "metadata": {
  "kernelspec": {
   "display_name": "Python 3 (ipykernel)",
   "language": "python",
   "name": "python3"
  },
  "language_info": {
   "codemirror_mode": {
    "name": "ipython",
    "version": 3
   },
   "file_extension": ".py",
   "mimetype": "text/x-python",
   "name": "python",
   "nbconvert_exporter": "python",
   "pygments_lexer": "ipython3",
   "version": "3.9.12"
  }
 },
 "nbformat": 4,
 "nbformat_minor": 5
}
