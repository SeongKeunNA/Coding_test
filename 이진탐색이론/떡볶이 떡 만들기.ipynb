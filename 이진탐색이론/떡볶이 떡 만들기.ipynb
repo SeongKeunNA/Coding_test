{
 "cells": [
  {
   "cell_type": "code",
   "execution_count": 10,
   "id": "0762c519",
   "metadata": {},
   "outputs": [
    {
     "ename": "SyntaxError",
     "evalue": "invalid syntax (<ipython-input-10-e3fb3d51c11e>, line 19)",
     "output_type": "error",
     "traceback": [
      "\u001b[1;36m  File \u001b[1;32m\"<ipython-input-10-e3fb3d51c11e>\"\u001b[1;36m, line \u001b[1;32m19\u001b[0m\n\u001b[1;33m    binary_cut(dd_list,0,n-1)ㅁ\u001b[0m\n\u001b[1;37m                             ^\u001b[0m\n\u001b[1;31mSyntaxError\u001b[0m\u001b[1;31m:\u001b[0m invalid syntax\n"
     ]
    }
   ],
   "source": [
    "#나의 풀이\n",
    "n,m=map(int,input().split())\n",
    "dd_list=list(map(int,input().split()))\n",
    "dd_list.sort()\n",
    "\n",
    "def binary_cut(dd_list,start,end):\n",
    "    dd=0\n",
    "    mid=(end-start)//2\n",
    "    for i in dd_list:\n",
    "        if i>dd_list[mid]:\n",
    "            dd+=i-dd_list[mid]\n",
    "    if dd==m:\n",
    "        return dd_list[mid]\n",
    "    elif dd < m:\n",
    "        \n",
    "        return binary_cut(dd_list,mid+1,end)\n",
    "    else:\n",
    "        return binary_cut(dd_list,start,mid-1)\n",
    "binary_cut(dd_list,0,n-1)"
   ]
  },
  {
   "cell_type": "code",
   "execution_count": 12,
   "id": "d2c863ea",
   "metadata": {},
   "outputs": [
    {
     "name": "stdout",
     "output_type": "stream",
     "text": [
      "4 6\n",
      "19 15 10 17\n",
      "15\n"
     ]
    }
   ],
   "source": [
    "n,m=list(map(int,input().split(' ')))\n",
    "\n",
    "array=list(map(int, input().split()))\n",
    "\n",
    "start=0\n",
    "end=max(array)\n",
    "\n",
    "result=0\n",
    "while(start<=end):\n",
    "    total=0\n",
    "    mid=(start+end)//2\n",
    "    for x in array:\n",
    "        if x>mid:\n",
    "            total+=x-mid\n",
    "    if total<m:\n",
    "        end=mid-1\n",
    "    else:\n",
    "        result=mid\n",
    "        start=mid+1\n",
    "print(result)"
   ]
  }
 ],
 "metadata": {
  "kernelspec": {
   "display_name": "Python 3",
   "language": "python",
   "name": "python3"
  },
  "language_info": {
   "codemirror_mode": {
    "name": "ipython",
    "version": 3
   },
   "file_extension": ".py",
   "mimetype": "text/x-python",
   "name": "python",
   "nbconvert_exporter": "python",
   "pygments_lexer": "ipython3",
   "version": "3.8.8"
  }
 },
 "nbformat": 4,
 "nbformat_minor": 5
}
