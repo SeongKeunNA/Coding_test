{
 "cells": [
  {
   "cell_type": "markdown",
   "id": "32c0c7a2",
   "metadata": {},
   "source": [
    "# 코딩 전 생각"
   ]
  },
  {
   "cell_type": "code",
   "execution_count": null,
   "id": "8d4c8e5b",
   "metadata": {},
   "outputs": [],
   "source": [
    "\"\"\"\"\"\"\"\"\"\"\n",
    "이진 탐색을 이용해 해결한다.\n",
    "\"\"\"\"\"\"\"\"\"\""
   ]
  },
  {
   "cell_type": "markdown",
   "id": "3825a334",
   "metadata": {},
   "source": [
    "# 내 답안(이진탐색)"
   ]
  },
  {
   "cell_type": "code",
   "execution_count": 5,
   "id": "1aa08b60",
   "metadata": {},
   "outputs": [
    {
     "name": "stdout",
     "output_type": "stream",
     "text": [
      "5\n",
      "8 3 7 9 2\n",
      "3\n",
      "5 7 9\n",
      "no yes yes "
     ]
    }
   ],
   "source": [
    "n = int(input())\n",
    "inven = list(map(int, input().split()))\n",
    "m = int(input())\n",
    "query = list(map(int, input().split()))\n",
    "inven.sort()\n",
    "\n",
    "def check(inven, start, end, target):\n",
    "    while start <= end:\n",
    "        mid = (start + end) // 2\n",
    "        if inven[mid] == target:\n",
    "            return 'yes'\n",
    "        elif inven[mid] > target:\n",
    "            end = mid - 1\n",
    "        else:\n",
    "            start = mid + 1\n",
    "    return 'no'\n",
    "\n",
    "for q in query:\n",
    "    print(check(inven, 0, n-1, q), end = ' ')"
   ]
  },
  {
   "cell_type": "markdown",
   "id": "8b294491",
   "metadata": {},
   "source": [
    "# 내 답안(계수정렬)"
   ]
  },
  {
   "cell_type": "code",
   "execution_count": null,
   "id": "f33f1b14",
   "metadata": {},
   "outputs": [],
   "source": [
    "n = int(input())\n",
    "array = list(map(int, input().split()))\n",
    "array_count = [0] * (max(array) + 1)\n",
    "for a in array:\n",
    "    array_count[a] += 1\n",
    "m = int(input())\n",
    "x = list(map(int, input().split()))\n",
    "\n",
    "for i in x:\n",
    "    if array_count[i] > 0:\n",
    "        print('yes', end = ' ')\n",
    "    else:\n",
    "        print('no', end = ' ')"
   ]
  },
  {
   "cell_type": "markdown",
   "id": "b24e36f6",
   "metadata": {},
   "source": [
    "# 내 답안(집합 자료형)"
   ]
  },
  {
   "cell_type": "code",
   "execution_count": 16,
   "id": "ac6a8622",
   "metadata": {},
   "outputs": [
    {
     "name": "stdout",
     "output_type": "stream",
     "text": [
      "5\n",
      "8 3 7 9 2\n",
      "3\n",
      "5 7 9\n",
      "array: {2, 3, 7, 8, 9} x: [5, 7, 9]\n",
      "no yes yes "
     ]
    }
   ],
   "source": [
    "n = int(input())\n",
    "array = set(map(int, input().split()))\n",
    "m = int(input())\n",
    "x = list(map(int, input().split()))\n",
    "print('array:', array,'x:',x)\n",
    "for i in x:\n",
    "    if i in array:\n",
    "        print('yes', end = ' ')\n",
    "    else:\n",
    "        print('no', end = ' ')"
   ]
  },
  {
   "cell_type": "markdown",
   "id": "f0f90637",
   "metadata": {},
   "source": [
    "# 답안 작성 후 생각"
   ]
  },
  {
   "cell_type": "code",
   "execution_count": null,
   "id": "9d475be6",
   "metadata": {},
   "outputs": [],
   "source": [
    "\"\"\"\"\"\"\"\"\"\"\n",
    "집합 자료형을 이용한 풀이는 잘못된 것으로 보인다.\n",
    "\"\"\"\"\"\"\"\"\"\""
   ]
  },
  {
   "cell_type": "markdown",
   "id": "9cb89c08",
   "metadata": {},
   "source": [
    "# 정답(이진탐색)"
   ]
  },
  {
   "cell_type": "code",
   "execution_count": 6,
   "id": "41a2be96",
   "metadata": {},
   "outputs": [
    {
     "ename": "IndentationError",
     "evalue": "expected an indented block (3802442000.py, line 2)",
     "output_type": "error",
     "traceback": [
      "\u001b[1;36m  Input \u001b[1;32mIn [6]\u001b[1;36m\u001b[0m\n\u001b[1;33m    while start <= end:\u001b[0m\n\u001b[1;37m                       ^\u001b[0m\n\u001b[1;31mIndentationError\u001b[0m\u001b[1;31m:\u001b[0m expected an indented block\n"
     ]
    }
   ],
   "source": [
    "def binary_search(array, target, start, end):\n",
    "    while start <= end:\n",
    "        mid = (start + end) // 2\n",
    "        if array[mid] == target:\n",
    "            return mid\n",
    "        elif array[mid] > target:\n",
    "            end = mid - 1\n",
    "        else:\n",
    "            start = mid + 1\n",
    "    return None\n",
    "\n",
    "n = int(input())\n",
    "array = list(map(int, input().split()))\n",
    "array.sort()\n",
    "m = int(input())\n",
    "x = list(map(int, input().split()))\n",
    "\n",
    "for i in x:\n",
    "    result = binary_search(array, i,  0, n - 1)\n",
    "    if result != None:\n",
    "        print('yes', end = ' ')\n",
    "    else:\n",
    "        print('no', end = ' ')"
   ]
  },
  {
   "cell_type": "markdown",
   "id": "ab1c7257",
   "metadata": {},
   "source": [
    "# 정답(계수정렬)"
   ]
  },
  {
   "cell_type": "code",
   "execution_count": 11,
   "id": "1424d07d",
   "metadata": {},
   "outputs": [
    {
     "name": "stdout",
     "output_type": "stream",
     "text": [
      "5\n",
      "8 3 7 9 2\n",
      "3\n",
      "5 7 9\n",
      "no yes yes "
     ]
    }
   ],
   "source": [
    "n = int(input())\n",
    "array = list(map(int, input().split()))\n",
    "array_count = [0] * (max(array) + 1)\n",
    "for a in array:\n",
    "    array_count[a] += 1\n",
    "m = int(input())\n",
    "x = list(map(int, input().split()))\n",
    "\n",
    "for i in x:\n",
    "    if array_count[i] > 0:\n",
    "        print('yes', end = ' ')\n",
    "    else:\n",
    "        print('no', end = ' ')"
   ]
  },
  {
   "cell_type": "markdown",
   "id": "e25f7350",
   "metadata": {},
   "source": [
    "# 정답(집합자료형)"
   ]
  },
  {
   "cell_type": "code",
   "execution_count": null,
   "id": "c19ebbf0",
   "metadata": {},
   "outputs": [],
   "source": [
    "n = int(input())\n",
    "array = set(map(int, input().split()))\n",
    "m = int(input())\n",
    "x = list(map(int, input().split()))\n",
    "for i in x:\n",
    "    if i in array:\n",
    "        print('yes', end = ' ')\n",
    "    else:\n",
    "        print('no', end = ' ')"
   ]
  },
  {
   "cell_type": "markdown",
   "id": "2ee6bd71",
   "metadata": {},
   "source": [
    "# 정답 확인 후 생각"
   ]
  },
  {
   "cell_type": "code",
   "execution_count": null,
   "id": "d5e1a8d3",
   "metadata": {},
   "outputs": [],
   "source": [
    "\"\"\"\"\"\"\"\"\"\"\n",
    "이상 무\n",
    "\"\"\"\"\"\"\"\"\"\""
   ]
  }
 ],
 "metadata": {
  "kernelspec": {
   "display_name": "Python 3 (ipykernel)",
   "language": "python",
   "name": "python3"
  },
  "language_info": {
   "codemirror_mode": {
    "name": "ipython",
    "version": 3
   },
   "file_extension": ".py",
   "mimetype": "text/x-python",
   "name": "python",
   "nbconvert_exporter": "python",
   "pygments_lexer": "ipython3",
   "version": "3.9.12"
  }
 },
 "nbformat": 4,
 "nbformat_minor": 5
}
