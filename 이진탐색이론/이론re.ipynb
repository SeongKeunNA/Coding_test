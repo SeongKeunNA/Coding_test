{
 "cells": [
  {
   "cell_type": "markdown",
   "id": "212114f9",
   "metadata": {},
   "source": [
    "# 7-2 재귀 함수로구현한 이진 탐색 소스코드"
   ]
  },
  {
   "cell_type": "code",
   "execution_count": null,
   "id": "35b18424",
   "metadata": {},
   "outputs": [],
   "source": [
    "# 이진 탐색 소스코드 구현(재귀 함수)\n",
    "def binary_search(array, target, start, end):\n",
    "    if start > end:\n",
    "        return None\n",
    "    mid = (start + end) // 2\n",
    "    if array[mid] == target:\n",
    "        return mid\n",
    "    elif array[mid] > target:\n",
    "        return binary_search(array, target, start, mid-1)\n",
    "    else:\n",
    "        return binary_search(array, target, mid+1, end)\n",
    "n, target = list(map(int, input().split()))\n",
    "array = list(map(int,input().split()))\n",
    "\n",
    "result = binary_search(array, target, 0, n-1)\n",
    "if result = None:\n",
    "    print('원소가 존재하지 않습니다.')\n",
    "else:\n",
    "    print(result + 1)"
   ]
  },
  {
   "cell_type": "code",
   "execution_count": null,
   "id": "77a4047b",
   "metadata": {},
   "outputs": [],
   "source": [
    "# 이진 탐색 소스코드 구현(반복문)\n",
    "def binary_search(array, target, start, end):\n",
    "    while start <= end:\n",
    "        mid = (start + end) // 2\n",
    "        if array[mid] == target:\n",
    "            return mid\n",
    "        elif array[mid] > target:\n",
    "            end = mid - 1\n",
    "        else:\n",
    "            start = mid + 1\n",
    "        return None\n",
    "n, target = list(map(int, input().split()))\n",
    "array = list(map(int,input().split()))\n",
    "\n",
    "result = binary_search(array, target, 0, n-1)\n",
    "if result = None:\n",
    "    print('원소가 존재하지 않습니다.')\n",
    "else:\n",
    "    print(result + 1)"
   ]
  }
 ],
 "metadata": {
  "kernelspec": {
   "display_name": "pytorch",
   "language": "python",
   "name": "pt1.1"
  },
  "language_info": {
   "codemirror_mode": {
    "name": "ipython",
    "version": 3
   },
   "file_extension": ".py",
   "mimetype": "text/x-python",
   "name": "python",
   "nbconvert_exporter": "python",
   "pygments_lexer": "ipython3",
   "version": "3.9.7"
  }
 },
 "nbformat": 4,
 "nbformat_minor": 5
}
