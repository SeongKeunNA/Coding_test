{
 "cells": [
  {
   "cell_type": "markdown",
   "id": "2c008ec8",
   "metadata": {},
   "source": [
    "# 1. 이진 탐색 사용"
   ]
  },
  {
   "cell_type": "code",
   "execution_count": 8,
   "id": "a17daac6",
   "metadata": {},
   "outputs": [
    {
     "name": "stdout",
     "output_type": "stream",
     "text": [
      "5\n",
      "8 3 7 9 2\n",
      "3\n",
      "5 7 9\n",
      "no yes yes "
     ]
    }
   ],
   "source": [
    "n = int(input())\n",
    "inven = list(map(int, input().split()))\n",
    "m = int(input())\n",
    "check = list(map(int,input().split()))\n",
    "inven.sort()\n",
    "\n",
    "def b_search(start, end, array, target):\n",
    "    if start > end:\n",
    "        return None\n",
    "    mid = (start + end) // 2\n",
    "    if array[mid] == target:\n",
    "        return mid + 1\n",
    "    elif array[mid] < target:\n",
    "        return b_search(mid + 1, end, array, target)\n",
    "    else:\n",
    "        return b_search(start, mid - 1, array, target)\n",
    "        \n",
    "for i in check:\n",
    "    if b_search(0, n-1, inven, i) != None:\n",
    "        print('yes', end = ' ')\n",
    "    else:\n",
    "        print('no', end = ' ')"
   ]
  },
  {
   "cell_type": "markdown",
   "id": "071f8d9e",
   "metadata": {},
   "source": [
    "# 2. 계수 정렬 사용"
   ]
  },
  {
   "cell_type": "code",
   "execution_count": 10,
   "id": "3a11610a",
   "metadata": {},
   "outputs": [
    {
     "name": "stdout",
     "output_type": "stream",
     "text": [
      "5\n",
      "8 3 7 9 2\n",
      "3\n",
      "5 7 9\n",
      "no yes yes "
     ]
    }
   ],
   "source": [
    "n = int(input())\n",
    "inven = list(map(int, input().split()))\n",
    "m = int(input())\n",
    "check = list(map(int,input().split()))\n",
    "inven_ = [0] * (max(inven) + 1)\n",
    "for i in range(n):\n",
    "    inven_[inven[i]] += 1\n",
    "for i in range(m):\n",
    "    if inven_[check[i]] != 0:\n",
    "        print('yes', end = ' ')\n",
    "    else:\n",
    "        print('no', end = ' ')"
   ]
  },
  {
   "cell_type": "markdown",
   "id": "9a416def",
   "metadata": {},
   "source": [
    "# 3. 집합 자료형 사용"
   ]
  },
  {
   "cell_type": "code",
   "execution_count": 11,
   "id": "ba6d133c",
   "metadata": {},
   "outputs": [
    {
     "name": "stdout",
     "output_type": "stream",
     "text": [
      "5\n",
      "8 3 7 9 2\n",
      "3\n",
      "5 7 9\n",
      "no yes yes "
     ]
    }
   ],
   "source": [
    "n = int(input())\n",
    "inven = list(map(int, input().split()))\n",
    "m = int(input())\n",
    "check = list(map(int,input().split()))\n",
    "inven_set = set(inven)\n",
    "for i in check:\n",
    "    if i in inven_set:\n",
    "        print('yes', end = ' ')\n",
    "    else:\n",
    "        print('no', end = ' ')"
   ]
  }
 ],
 "metadata": {
  "kernelspec": {
   "display_name": "pytorch",
   "language": "python",
   "name": "pt1.1"
  },
  "language_info": {
   "codemirror_mode": {
    "name": "ipython",
    "version": 3
   },
   "file_extension": ".py",
   "mimetype": "text/x-python",
   "name": "python",
   "nbconvert_exporter": "python",
   "pygments_lexer": "ipython3",
   "version": "3.9.7"
  }
 },
 "nbformat": 4,
 "nbformat_minor": 5
}
