{
 "cells": [
  {
   "cell_type": "markdown",
   "id": "a71d20bb",
   "metadata": {},
   "source": [
    "# 코딩 전 생각"
   ]
  },
  {
   "cell_type": "code",
   "execution_count": null,
   "id": "607d2f70",
   "metadata": {},
   "outputs": [],
   "source": [
    "\"\"\"\"\"\"\"\"\"\n",
    "1. n, k / 맵 정보 입력 받아서 맵 생성 이 때 맵 정보에 0이 아닌 숫자가 입력되면 바이러스 set에 추가하고 오름차순 정렬\n",
    "\n",
    "2. S초 동안 반복하여:\n",
    "    for i in virus set:\n",
    "        virus() - virus함수 실행\n",
    "        \n",
    "3. 맵의 [X-1][Y-1] 위치의 값 출력\n",
    "\"\"\"\"\"\"\"\"\""
   ]
  },
  {
   "cell_type": "markdown",
   "id": "99d167cb",
   "metadata": {},
   "source": [
    "# 내 답안"
   ]
  },
  {
   "cell_type": "code",
   "execution_count": 2,
   "id": "e0e8615d",
   "metadata": {
    "scrolled": true
   },
   "outputs": [
    {
     "name": "stdout",
     "output_type": "stream",
     "text": [
      "3 3\n",
      "1 0 2\n",
      "0 0 0\n",
      "3 0 0\n",
      "1 2 2\n",
      "0\n"
     ]
    }
   ],
   "source": [
    "n, k = map(int, input().split())\n",
    "data = []\n",
    "virus_list = [[] for _ in range(k+1)]\n",
    "for i in range(n):\n",
    "    data_row = list(map(int ,input().split()))\n",
    "    for j in range(n):\n",
    "        if data_row[j] != 0:\n",
    "            virus_list[data_row[j]].append((i,j))              \n",
    "    data.append(data_row)                    \n",
    "virus_list.sort()\n",
    "def virus(v, x, y):\n",
    "    global data\n",
    "   \n",
    "    if x < 0 or x >= n or y < 0 or y >= n:\n",
    "        return False\n",
    "    if data[x][y] != v and data[x][y] != 0:\n",
    "        return False\n",
    "    data[x][y] = v\n",
    "    return True\n",
    "                    \n",
    "s, x, y = map(int, input().split())\n",
    "\n",
    "dx = [0, 0, 1, -1]\n",
    "dy = [1, -1, 0, 0]  \n",
    "for i in range(s): \n",
    "    for j in range(1, k+1):\n",
    "        if not virus_list[j]:\n",
    "            continue\n",
    "        for m in virus_list[j]:\n",
    "            for i in range(4):\n",
    "                nx = m[0] + dx[i]\n",
    "                ny = m[1] + dy[i]\n",
    "                virus(j, nx, ny)\n",
    "print(data[x-1][y-1])"
   ]
  },
  {
   "cell_type": "markdown",
   "id": "d8cf24ba",
   "metadata": {},
   "source": [
    "# 답안 작성 후 생각"
   ]
  },
  {
   "cell_type": "code",
   "execution_count": null,
   "id": "1d5dfe22",
   "metadata": {},
   "outputs": [],
   "source": [
    "\"\"\"\"\"\"\"\"\"\n",
    "단순한 DFS문제라고 생각했지만, 답안 작성 전 예상했던 것보다는 조금 문제가 복잡했다.\n",
    "\n",
    "\n",
    "처음에는 virus 함수를 선언할 때, 자기 자신부터 False가 나오게끔 잘못 설정해서 그것을 수정하는 데\n",
    "많은 시간이 소요됐다.\n",
    "\n",
    "마지막에 매 초마다, 그리고 매 바이러스 종류마다 맵이 변화하는 것을 어떻게 반영할까 고민했지만,\n",
    "곰곰히 생각해보니 그냥 하던대로 전역변수로 처리하면 될 것 같아서 그렇게 했다.\n",
    "\"\"\"\"\"\"\"\"\""
   ]
  },
  {
   "cell_type": "markdown",
   "id": "8d7ee994",
   "metadata": {},
   "source": [
    "# 답안"
   ]
  },
  {
   "cell_type": "code",
   "execution_count": null,
   "id": "39de0aa4",
   "metadata": {},
   "outputs": [],
   "source": [
    "from collections import deque\n",
    "\n",
    "n,k = map(int,input().split())\n",
    "\n",
    "graph = [] # 전체 보드 정보를 담는 리스트\n",
    "data = [] # 바이러스에 대한 정보를 담는 리스트\n",
    "\n",
    "for i in range(n):\n",
    "    # 보드 정보를 한 줄 단위로 입력\n",
    "    graph.append(list(map(int, input().split())))\n",
    "    for j in range(n):\n",
    "        # 해당 위치에 바이러스가 존재하는 경우\n",
    "        if graph[i][j] != 0:\n",
    "            # (바이러스 종류, 시간, 위치 X, 위치 Y) 삽입\n",
    "            data.append((graph[i][j], 0, i, j))\n",
    "            \n",
    "# 정렬 이후에 큐로 옮기기(낮은 번호의 바이러스가 먼저 증식하므로)\n",
    "data.sort()\n",
    "q = deque(data)\n",
    "\n",
    "target_s, target_x,  target_y = map(int, input().split())\n",
    "\n",
    "dx = [-1, 0, 1, 0]\n",
    "dy = [0, 1, 0, -1]\n",
    "\n",
    "# 너비 우선 탐색(BFS) 진행\n",
    "while q:\n",
    "    virus, s, x, y = q.popleft()\n",
    "    # 정확히 s초가 지나거나, 큐가 빌 때까지 반복\n",
    "    if s == target_s:\n",
    "        break\n",
    "        \n",
    "    # 현재 노드에서 주변 4가지 위치를 각각 확인\n",
    "    for i in range(4):\n",
    "        nx = x + dx[i]\n",
    "        ny = y + dy[i]\n",
    "        \n",
    "        if 0 <= nx < n and 0 <= ny < n:\n",
    "            if graph[nx][ny] == 0:\n",
    "                graph[nx][ny] = virus\n",
    "                q.append((virus, s + 1, nx, ny))\n",
    "print(graph[target_x - 1][target_y - 1])"
   ]
  },
  {
   "cell_type": "markdown",
   "id": "042d0b3a",
   "metadata": {},
   "source": [
    "# 답지 확인후 생각"
   ]
  },
  {
   "cell_type": "code",
   "execution_count": null,
   "id": "3159b49a",
   "metadata": {},
   "outputs": [],
   "source": [
    "\"\"\"\"\"\"\"\"\"\n",
    "풀이 아이디어는 비슷하지만, 알고보니 BFS 문제였다.\n",
    "\n",
    "바이러스에 대한 정보를 담는 리스트를 따로 만드는데, 처음에는 바이러스의 시간을 모두 0으로 설정한다.\n",
    "\n",
    "이들을 바이러스 우선순위 순으로 큐에 넣고 돌리는데, 상하좌우 한 그 위치에서 시간만 1초 더해 큐에 다시 삽입하는 게 포인트다.\n",
    "\n",
    "입력 부분을 포함하여 전체적으로 내 답안보다 깔끔하다.\n",
    "\"\"\"\"\"\"\"\"\""
   ]
  }
 ],
 "metadata": {
  "kernelspec": {
   "display_name": "pytorch",
   "language": "python",
   "name": "pt1.1"
  },
  "language_info": {
   "codemirror_mode": {
    "name": "ipython",
    "version": 3
   },
   "file_extension": ".py",
   "mimetype": "text/x-python",
   "name": "python",
   "nbconvert_exporter": "python",
   "pygments_lexer": "ipython3",
   "version": "3.9.7"
  }
 },
 "nbformat": 4,
 "nbformat_minor": 5
}
