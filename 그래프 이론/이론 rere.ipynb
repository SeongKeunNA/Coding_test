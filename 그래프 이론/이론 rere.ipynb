{
 "cells": [
  {
   "cell_type": "markdown",
   "id": "45b0bd5f",
   "metadata": {},
   "source": [
    "# 10-1.py 기본적인 서로소 집합 알고리즘 소스코드"
   ]
  },
  {
   "cell_type": "code",
   "execution_count": 1,
   "id": "c9acf4ad",
   "metadata": {},
   "outputs": [
    {
     "ename": "SyntaxError",
     "evalue": "invalid syntax (17227297.py, line 23)",
     "output_type": "error",
     "traceback": [
      "\u001b[1;36m  File \u001b[1;32m\"C:\\Users\\najonggeun\\AppData\\Local\\Temp\\ipykernel_21716\\17227297.py\"\u001b[1;36m, line \u001b[1;32m23\u001b[0m\n\u001b[1;33m    for i in range(1, v + 1)\u001b[0m\n\u001b[1;37m                            ^\u001b[0m\n\u001b[1;31mSyntaxError\u001b[0m\u001b[1;31m:\u001b[0m invalid syntax\n"
     ]
    }
   ],
   "source": [
    "def find_parent(parent, x):\n",
    "    if parent[x] != x:\n",
    "        return find_parent(parent, parent[x])\n",
    "    return x\n",
    "\n",
    "def union_parent(parent, a, b):\n",
    "    a = find_parent(parent, a)\n",
    "    b = find_parent(parent, b)\n",
    "    if a < b:\n",
    "        parent[b] = a\n",
    "    else:\n",
    "        parent[a] = b\n",
    "v, e = map(int, input().split())\n",
    "parent = [0] * (v + 1)\n",
    "\n",
    "for i in range(1, v + 1):\n",
    "    parent[i] = i\n",
    "    \n",
    "for i in range(e):\n",
    "    a, b = map(int, input().split())\n",
    "    union_parent(parent, a, b)\n",
    "print('각 원소가 속한 집합:', end = '')\n",
    "for i in range(1, v + 1):\n",
    "    print(find_parent(parent, i), end = ' ')\n",
    "print()\n",
    "\n",
    "print('부모 테이블: ', end = '')\n",
    "for i in range(1, v+1):\n",
    "    print(parent[i], end = ' ')"
   ]
  },
  {
   "cell_type": "markdown",
   "id": "c8b1a9c8",
   "metadata": {},
   "source": [
    "# 10-2.py 경로 압축 기법 소스코드"
   ]
  },
  {
   "cell_type": "code",
   "execution_count": null,
   "id": "755f0510",
   "metadata": {},
   "outputs": [],
   "source": [
    "def find_parent(parent, x):\n",
    "    if parent[x] != x:\n",
    "        parent[x] = find_parent(parent, parent[x])\n",
    "    return parent[x]"
   ]
  },
  {
   "cell_type": "markdown",
   "id": "8e8d810a",
   "metadata": {},
   "source": [
    "# 10-4.py 서로소 집합을 활용한 사이클 판별 소스코드"
   ]
  },
  {
   "cell_type": "code",
   "execution_count": null,
   "id": "6a8b0a49",
   "metadata": {},
   "outputs": [],
   "source": [
    "def find_parent(parent, x):\n",
    "    if parent[x] != x:\n",
    "        parent[x] = find_parent(parent, parent[x])\n",
    "    return parent[x]\n",
    "\n",
    "def union_parent(parent, a, b):\n",
    "    a = find_parent(parent, a)\n",
    "    b = find_parent(parent, b)\n",
    "    if a < b:\n",
    "        parent[b] = a\n",
    "    else:\n",
    "        parent[a] = b\n",
    "v, e = map(int, input().split())\n",
    "parent = [0] * (v + 1)\n",
    "\n",
    "for i in range(1, v + 1):\n",
    "    parent[i] = i\n",
    "cycle = False\n",
    "\n",
    "for i in range(e):\n",
    "    a, b = map(int, input().split())\n",
    "    if find_parent(parent, a) == find_parent(parent, b):\n",
    "        cycle = True\n",
    "        break\n",
    "    else:\n",
    "        union_parent(parent, a, b)\n",
    "if cycle:\n",
    "    print('사이클이 발생했습니다.')\n",
    "else:\n",
    "    print('사이클이 발생하지 않았습니다.')"
   ]
  },
  {
   "cell_type": "markdown",
   "id": "3c9e7bad",
   "metadata": {},
   "source": [
    "# 신장 트리"
   ]
  },
  {
   "cell_type": "markdown",
   "id": "89d19b8b",
   "metadata": {},
   "source": [
    "# 10-5.py 크루스칼 알고리즘 소스코드"
   ]
  },
  {
   "cell_type": "code",
   "execution_count": null,
   "id": "5e0baf17",
   "metadata": {},
   "outputs": [],
   "source": [
    "def find_parent(parent, x):\n",
    "    if parent[x] != x:\n",
    "        parent[x] = find_parent(parent, parent[x])\n",
    "    return parent[x]\n",
    "\n",
    "def union_parent(parent, a, b):\n",
    "    a = find_parent(parent, a)\n",
    "    b = find_parent(parent, b)\n",
    "    if a < b:\n",
    "        parent[b] = a\n",
    "    else:\n",
    "        parent[a] = b\n",
    "v, e = map(int, input().split())\n",
    "parent = [0] * (v + 1)\n",
    "edges = []\n",
    "result = 0\n",
    "\n",
    "for i in range(1, v + 1):\n",
    "    parent[i] = i\n",
    "    \n",
    "for _ in range(e):\n",
    "    a, b, cost = map(int, input().split())\n",
    "    edges.append((cost, a, b))\n",
    "edges.sort()\n",
    "\n",
    "for edge in edges:\n",
    "    cost, a, b = edge\n",
    "    if find_parent(a) != find_parent(b):\n",
    "        union_parent(parent, a, b)\n",
    "        result += cost\n",
    "print(result)"
   ]
  },
  {
   "cell_type": "markdown",
   "id": "a06a1926",
   "metadata": {},
   "source": [
    "# 10-6.py 위상 정렬 소스코드"
   ]
  },
  {
   "cell_type": "code",
   "execution_count": null,
   "id": "5d75c8a7",
   "metadata": {},
   "outputs": [],
   "source": [
    "from collections import deque\n",
    "v, e  = map(int, input().split())\n",
    "indegree = [0] * (v + 1)\n",
    "graph = [[] for i in range(v + 1)]\n",
    "for _ in range(e):\n",
    "    a, b = map(int, input().split())\n",
    "    graph[a].append(b)\n",
    "    indegree[b] += 1\n",
    "def topology_sort():\n",
    "    result = []\n",
    "    q = deque()  \n",
    "    for i in range(1, v + 1):\n",
    "        if indegree[i] == 0:\n",
    "            q.append(i)\n",
    "    while q:\n",
    "        now = q.popleft()\n",
    "        result.append(now)\n",
    "        for i in graph[now]:\n",
    "            indegree[i] -= 1\n",
    "            if indegree[i] == 0:\n",
    "                q.append(i)\n",
    "    for i in result:\n",
    "        print(i, end = ' ')\n",
    "topology_sort()"
   ]
  }
 ],
 "metadata": {
  "kernelspec": {
   "display_name": "Python 3 (ipykernel)",
   "language": "python",
   "name": "python3"
  },
  "language_info": {
   "codemirror_mode": {
    "name": "ipython",
    "version": 3
   },
   "file_extension": ".py",
   "mimetype": "text/x-python",
   "name": "python",
   "nbconvert_exporter": "python",
   "pygments_lexer": "ipython3",
   "version": "3.7.13"
  }
 },
 "nbformat": 4,
 "nbformat_minor": 5
}
