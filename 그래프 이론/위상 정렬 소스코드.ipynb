{
 "cells": [
  {
   "cell_type": "code",
   "execution_count": 3,
   "id": "a2c0f384",
   "metadata": {},
   "outputs": [
    {
     "name": "stdout",
     "output_type": "stream",
     "text": [
      "7 8\n",
      "1 2\n",
      "1 5\n",
      "2 3\n",
      "2 6\n",
      "3 4\n",
      "4 7\n",
      "5 6\n",
      "6 4\n",
      "1 2 5 3 6 4 7 "
     ]
    }
   ],
   "source": [
    "from collections import deque\n",
    "\n",
    "# 노드의 개수와 간선의 개수를 입력받기\n",
    "v, e = map(int, input().split())\n",
    "\n",
    "# 모든 노드에 대한 진입차수는 0으로 초기화\n",
    "indegree = [0] * (v + 1)\n",
    "\n",
    "# 각 노드에 연결된 간선 정보를 담기 위한 연결 리스트(그래프) 초기화\n",
    "graph = [[] for i in range(v + 1)]\n",
    "# 방향 그래프의 모든 간선 정보를 입력받기\n",
    "for _ in range(e):\n",
    "    a, b = map(int, input().split())\n",
    "    graph[a].append(b)\n",
    "    indegree[b] += 1\n",
    "    \n",
    "# 위상 정렬 함수\n",
    "def topology_sort():\n",
    "    result = [] # 알고리즘 수행 결과를 담을 리스트\n",
    "    q = deque() # 큐 기능을 위한 deque 라이브러리 사용\n",
    "    \n",
    "    # 처음 시작할 떄는 진입차수가 0인 노드를 큐에 삽입\n",
    "    for i in range(1, v + 1):\n",
    "        if indegree[i] == 0:\n",
    "            q.append(i)\n",
    "            \n",
    "    # 큐가 빌 때까지 반복\n",
    "    while q:\n",
    "        # 큐에서 원소 꺼내기\n",
    "        now = q.popleft()\n",
    "        result.append(now)\n",
    "        # 해당 원소와 연결된 노드들의 진입차수에서 1빼기\n",
    "        for i in graph[now]:\n",
    "            indegree[i] -= 1\n",
    "            # 새롭게 진입차수가 0이 되는 노드를 큐에 삽입\n",
    "            if indegree[i] == 0:\n",
    "                q.append(i)\n",
    "    # 위상 정렬을 수행항 결과 출력\n",
    "    for i in result:\n",
    "        print(i, end=' ')\n",
    "topology_sort()"
   ]
  }
 ],
 "metadata": {
  "kernelspec": {
   "display_name": "Python 3",
   "language": "python",
   "name": "python3"
  },
  "language_info": {
   "codemirror_mode": {
    "name": "ipython",
    "version": 3
   },
   "file_extension": ".py",
   "mimetype": "text/x-python",
   "name": "python",
   "nbconvert_exporter": "python",
   "pygments_lexer": "ipython3",
   "version": "3.8.8"
  }
 },
 "nbformat": 4,
 "nbformat_minor": 5
}
