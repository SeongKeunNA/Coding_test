{
 "cells": [
  {
   "cell_type": "markdown",
   "id": "df76dc1d",
   "metadata": {},
   "source": [
    "# 코딩 전 생각"
   ]
  },
  {
   "cell_type": "code",
   "execution_count": 2,
   "id": "d331dd75",
   "metadata": {},
   "outputs": [
    {
     "ename": "SyntaxError",
     "evalue": "EOL while scanning string literal (Temp/ipykernel_5000/3289807602.py, line 22)",
     "output_type": "error",
     "traceback": [
      "\u001b[1;36m  File \u001b[1;32m\"C:\\Users\\NAJONG~1\\AppData\\Local\\Temp/ipykernel_5000/3289807602.py\"\u001b[1;36m, line \u001b[1;32m22\u001b[0m\n\u001b[1;33m    \"\"\"\"\"\"\"\"\"\"\u001b[0m\n\u001b[1;37m              \n^\u001b[0m\n\u001b[1;31mSyntaxError\u001b[0m\u001b[1;31m:\u001b[0m EOL while scanning string literal\n"
     ]
    }
   ],
   "source": [
    "\"\"\"\"\"\"\"\"\"\"\n",
    "위상 정렬을 이용한다.\n",
    "\n",
    "먼저 각 그레프 정보를 list(map(int,input().split()))방식으로 입력받는다.\n",
    "\n",
    "이 리스트에서 첫 수를 그 번호의 강의의 강의시간으로 입력한다.\n",
    "\n",
    "ex) time[i] = a\n",
    "\n",
    "나머지 숫자에 대해서 -1이 나오기 전까지, 그 번호의 강의를 듣기 전에 들어야하는 강의의 번호로 입력한다.\n",
    "\n",
    "ex) graph[b].append(i), indegree[i] += 1\n",
    "\n",
    "그 후 큐에서 원소를 꺼낸뒤, 그 원소에 해당하는 강의의 번호와 그 강의를 듣기까지의 총 시간을 튜플 형태로 result에 입력한다.\n",
    "\n",
    "now, t = q.pop(left)\n",
    "\n",
    "for i in graph[now]:\n",
    "    indegree[i] -= 1\n",
    "    if indegree[i] == 0:\n",
    "        q.append((i, t+time[i]))\n",
    "\"\"\"\"\"\"\"\"\"\""
   ]
  },
  {
   "cell_type": "code",
   "execution_count": 17,
   "id": "f1d9231e",
   "metadata": {
    "scrolled": true
   },
   "outputs": [
    {
     "name": "stdout",
     "output_type": "stream",
     "text": [
      "5\n",
      "20 -1\n",
      "10 1 -1\n",
      "4 -1\n",
      "4 3 1 -1\n",
      "3 3 -1\n",
      "i: 2 t: 20 time[i]: 10\n",
      "i: 4 t: 4 time[i]: 4\n",
      "i: 5 t: 4 time[i]: 3\n",
      "20\n",
      "4\n",
      "30\n",
      "8\n",
      "7\n"
     ]
    }
   ],
   "source": [
    "from collections import deque\n",
    "n = int(input())\n",
    "time = [0] * (n+1)\n",
    "indegree = [0] * (n+1)\n",
    "graph = [[] for _ in range(n+1)]\n",
    "result = []\n",
    "for i in range(1, n+1):\n",
    "    Input_data = list(map(int,input().split()))\n",
    "    time[i] = Input_data[0]\n",
    "    for j in Input_data[1:]:\n",
    "        if j == -1:\n",
    "            break\n",
    "        graph[j].append(i)\n",
    "        indegree[i] += 1\n",
    "        \n",
    "q = deque([])\n",
    "for i in range(1, n+1):\n",
    "    if indegree[i] == 0:\n",
    "        q.append((i, time[i]))\n",
    "while q:\n",
    "    now, t = q.popleft()\n",
    "    result.append((now,t))\n",
    "    for i in graph[now]:\n",
    "        indegree[i] -= 1\n",
    "        if indegree[i] == 0:\n",
    "            print('i:',i,'t:',t,'time[i]:',time[i])\n",
    "            q.append((i, t+time[i]))\n",
    "for i in result:\n",
    "    print(i[1])"
   ]
  },
  {
   "cell_type": "code",
   "execution_count": null,
   "id": "476cf625",
   "metadata": {},
   "outputs": [],
   "source": [
    "5\n",
    "20 -1\n",
    "10 1 -1\n",
    "4 -1\n",
    "4 3 1 -1\n",
    "3 3 -1"
   ]
  },
  {
   "cell_type": "markdown",
   "id": "dbd6a2e2",
   "metadata": {},
   "source": [
    "# 답안 작성 후 생각"
   ]
  },
  {
   "cell_type": "code",
   "execution_count": null,
   "id": "c474e0ef",
   "metadata": {},
   "outputs": [],
   "source": [
    "\"\"\"\"\"\"\"\"\"\"\n",
    "생각보다 문제가 쉽게 해결됐다. 위상 정렬 예제에서의 소스코드에서 result에 정렬 결과뿐만아니라, 해당 번호의 강의를 듣는 데 걸리는\n",
    "총 시간을 함께 출력하게 했다.\n",
    "\"\"\"\"\"\"\"\"\"\""
   ]
  },
  {
   "cell_type": "markdown",
   "id": "45ad984f",
   "metadata": {},
   "source": [
    "# 정답"
   ]
  },
  {
   "cell_type": "code",
   "execution_count": 16,
   "id": "3ab7b0db",
   "metadata": {},
   "outputs": [
    {
     "name": "stdout",
     "output_type": "stream",
     "text": [
      "5\n",
      "20 -1\n",
      "10 1 -1\n",
      "4 -1\n",
      "4 3 1 -1\n",
      "3 3 -1\n",
      "20\n",
      "30\n",
      "4\n",
      "24\n",
      "7\n"
     ]
    }
   ],
   "source": [
    "from collections import deque\n",
    "import copy\n",
    "\n",
    "# 노드의 개수 입력받기\n",
    "v = int(input())\n",
    "\n",
    "# 모든 노드에 대한 진입차수는 0으로 초기화\n",
    "indegree = [0] *(v+1)\n",
    "\n",
    "# 각 노드에 연결된 간선 정보를 담기 위한 연결 리스트(그래프) 초기화\n",
    "graph = [[] for i in range(v+1)]\n",
    "\n",
    "# 각 강의 시간을 0으로 초기화\n",
    "timee = [0] * (v+1)\n",
    "\n",
    "# 방향 그래프의 모든 간선 정보를 입력받기\n",
    "for i in range(1, v+1):\n",
    "    data = list(map(int, input().split()))\n",
    "    timee[i] = data[0] # 첫 번째 수는 시간 정보를 담고 있음\n",
    "    for x in data[1:-1]:\n",
    "        indegree[i] += 1\n",
    "        graph[x].append(i)\n",
    "        \n",
    "# 위상 정렬 함수\n",
    "def topology_sort():\n",
    "    result = copy.deepcopy(timee) # 알고리즘 수행 결과를 담을 리스트\n",
    "    q = deque() # 큐 기능을 위한 deque 라이브러리 사용\n",
    "    \n",
    "    # 처음 시작할 때는 진입차수가 0인 노드를 큐에 삽입\n",
    "    for i in range(1, v+1):\n",
    "        if indegree[i] == 0:\n",
    "            q.append(i)\n",
    "    # 큐가 빌 때까지 반복\n",
    "    while q:\n",
    "        # 큐에서 원소 꺼내기\n",
    "        now = q.popleft()\n",
    "        # 해당 원소와 연결된 노드들의 진입차수에서 1빼기\n",
    "        for i in graph[now]:\n",
    "            result[i] = max(result[i], result[now] + timee[i])\n",
    "            indegree[i] -= 1\n",
    "            # 새롭게 진입차수가 0이 되는 노드를 큐에 삽입\n",
    "            if indegree[i] == 0:\n",
    "                q.append(i)\n",
    "                \n",
    "    # 위상 정렬을 수행한 결과 출력\n",
    "    for i in range(1, v+1):\n",
    "        print(result[i])\n",
    "topology_sort()"
   ]
  },
  {
   "cell_type": "markdown",
   "id": "1538e812",
   "metadata": {},
   "source": [
    "# 정답 확인 후 생각"
   ]
  },
  {
   "cell_type": "code",
   "execution_count": null,
   "id": "a097640b",
   "metadata": {},
   "outputs": [],
   "source": [
    "\"\"\"\"\"\"\"\"\"\"\n",
    "답지의 풀이가 내 풀이와 다른 점은, 각 노드에 대해 인접한 노드를 확인할 때, 인접한 노드에 대하여\n",
    "\n",
    "현재보다 강의 시간이 더 긴 경우를 찾는다면, 더 오랜 시간이 걸리는 경우의 시간 값을 저장하는 방식으로 결과 테이블을 갱신한다는 것이다.\n",
    "\n",
    "내 답안이 확실히 맞는 풀이인지 확신하기 어려워서, 테스트케이스를 몇 개 만들어서 답지와 비교해보니\n",
    "\n",
    "5\n",
    "20 -1\n",
    "10 1 -1\n",
    "4 -1\n",
    "4 3 1 -1\n",
    "3 3 -1\n",
    "라는 테스트 케이스에 대해서 내 답안은 오답을 출력한다.\n",
    "\n",
    "답지에서처럼 확실히 갱신하는 방법이\n",
    "\"\"\"\"\"\"\"\"\"\""
   ]
  }
 ],
 "metadata": {
  "kernelspec": {
   "display_name": "pytorch",
   "language": "python",
   "name": "pt1.1"
  },
  "language_info": {
   "codemirror_mode": {
    "name": "ipython",
    "version": 3
   },
   "file_extension": ".py",
   "mimetype": "text/x-python",
   "name": "python",
   "nbconvert_exporter": "python",
   "pygments_lexer": "ipython3",
   "version": "3.9.7"
  }
 },
 "nbformat": 4,
 "nbformat_minor": 5
}
