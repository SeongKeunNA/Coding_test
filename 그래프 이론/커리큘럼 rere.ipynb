{
 "cells": [
  {
   "cell_type": "markdown",
   "id": "723eac70",
   "metadata": {},
   "source": [
    "# 코딩 전 생각"
   ]
  },
  {
   "cell_type": "code",
   "execution_count": null,
   "id": "fe7bba7f",
   "metadata": {},
   "outputs": [],
   "source": [
    "\"\"\"\"\"\"\"\"\"\"\n",
    "위상정렬을 통해 문제를 해결한다.\n",
    "\n",
    "매 반복에서 선택된 노드와 연결된 노드의 진입차수를 1 줄이면서 해당 노드(연결된 노드)의 수강 전 최대 소요 시간을 갱신한다. \n",
    "\"\"\"\"\"\"\"\"\"\""
   ]
  },
  {
   "cell_type": "markdown",
   "id": "7486ca0e",
   "metadata": {},
   "source": [
    "# 내 답안"
   ]
  },
  {
   "cell_type": "code",
   "execution_count": 8,
   "id": "134af9f3",
   "metadata": {},
   "outputs": [
    {
     "name": "stdout",
     "output_type": "stream",
     "text": [
      "5\n",
      "10 -1\n",
      "10 1 -1\n",
      "4 1 -1\n",
      "4 3 1 -1\n",
      "3 3 -1\n",
      "10\n",
      "20\n",
      "14\n",
      "18\n",
      "17\n"
     ]
    }
   ],
   "source": [
    "from collections import deque\n",
    "n = int(input())\n",
    "graph = [[] for _ in range(n+1)]\n",
    "lecture_time = [0] * (n + 1)\n",
    "total_time = [0] * (n + 1)\n",
    "indegree = [0] * (n + 1)\n",
    "for i in range(1, n + 1):\n",
    "    data = list(map(int, input().split()))\n",
    "    lecture_time[i] = data[0]\n",
    "    if data[1] == -1:\n",
    "        continue\n",
    "    for j in data[1:-1]:\n",
    "        indegree[i] += 1\n",
    "        graph[j].append(i)\n",
    "q = deque([])\n",
    "for i in range(1, n + 1):\n",
    "    if indegree[i] == 0:\n",
    "        total_time[i] = lecture_time[i]\n",
    "        q.append(i)\n",
    "while q:\n",
    "    now = q.popleft()\n",
    "    for i in graph[now]:\n",
    "        total_time[i] = max(total_time[i], lecture_time[i] + total_time[now])\n",
    "        indegree[i] -= 1\n",
    "        if indegree[i] == 0:\n",
    "            q.append(i)\n",
    "for i in range(1, n + 1):\n",
    "    print(total_time[i])"
   ]
  },
  {
   "cell_type": "markdown",
   "id": "0a4057ae",
   "metadata": {},
   "source": [
    "# 정답"
   ]
  },
  {
   "cell_type": "code",
   "execution_count": null,
   "id": "470d4b02",
   "metadata": {},
   "outputs": [],
   "source": [
    "from collecitons import deque\n",
    "import copy\n",
    "\n",
    "v = int(input())\n",
    "indegree = [[0] * (v + 1)]\n",
    "time = [0] * (v + 1)\n",
    "for i in range(1, v + 1):\n",
    "    data = list(map(int, input().split()))\n",
    "    time[i] = data[0]\n",
    "    for x in data[1:-1]:\n",
    "        indegree[i] += 1\n",
    "        graph[x].append(i)\n",
    "def topology_sort():\n",
    "    result = copy.deepcopy(time)\n",
    "    q = deque()\n",
    "    for i in range(1, v + 1):\n",
    "        if indegree[i] == 0:\n",
    "            q.append(i)\n",
    "    while q:\n",
    "        now = q.popleft()\n",
    "        for i in graph[now]:\n",
    "            result[i] = max(result[i], result[now] + time[i])\n",
    "            indegree[i] -= 1\n",
    "            if indegree[i] == 0:\n",
    "                q.append(i)\n",
    "    for i in range(1, v + 1):\n",
    "        print(result[i])\n",
    "topology_sort()"
   ]
  },
  {
   "cell_type": "markdown",
   "id": "dec97df5",
   "metadata": {},
   "source": [
    "# 정답 확인 후 생각"
   ]
  },
  {
   "cell_type": "code",
   "execution_count": null,
   "id": "72ddb49d",
   "metadata": {},
   "outputs": [],
   "source": [
    "\"\"\"\"\"\"\"\"\"\"\n",
    "1. copy.deepcopy를 사용해 처음 result(total_time) 리스트의 값을 time(lecture_time)리스트로 초기화했다.\n",
    "\n",
    "2. q = deque([])가 아니라 q = deque()로 초기화했다.\n",
    "\"\"\"\"\"\"\"\"\"\""
   ]
  }
 ],
 "metadata": {
  "kernelspec": {
   "display_name": "Python 3 (ipykernel)",
   "language": "python",
   "name": "python3"
  },
  "language_info": {
   "codemirror_mode": {
    "name": "ipython",
    "version": 3
   },
   "file_extension": ".py",
   "mimetype": "text/x-python",
   "name": "python",
   "nbconvert_exporter": "python",
   "pygments_lexer": "ipython3",
   "version": "3.7.13"
  }
 },
 "nbformat": 4,
 "nbformat_minor": 5
}
