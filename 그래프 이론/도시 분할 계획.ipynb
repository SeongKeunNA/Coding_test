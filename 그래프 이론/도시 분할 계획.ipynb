{
 "cells": [
  {
   "cell_type": "code",
   "execution_count": 5,
   "id": "5e2b0db8",
   "metadata": {},
   "outputs": [
    {
     "name": "stdout",
     "output_type": "stream",
     "text": [
      "7 12\n",
      "1 2 3\n",
      "1 3 2\n",
      "3 2 1\n",
      "2 5 2\n",
      "3 4 4\n",
      "7 3 6\n",
      "5 1 5\n",
      "1 6 2\n",
      "6 4 1\n",
      "6 5 3\n",
      "4 5 3\n",
      "6 7 4\n",
      "8\n"
     ]
    }
   ],
   "source": [
    "def find_parent(parent, x):\n",
    "    if parent[x] != x:\n",
    "        parent[x] = find_parent(parent, parent[x])\n",
    "    return parent[x]\n",
    "\n",
    "def union_parent(parent, a, b):\n",
    "    a = find_parent(parent, a)\n",
    "    b = find_parent(parent, b)\n",
    "    if a < b :\n",
    "        parent[b] = a\n",
    "    else:\n",
    "        parent[a] =b\n",
    "    \n",
    "n, m = map(int, input().split())\n",
    "parent = [0] * (n + 1)\n",
    "edges = []\n",
    "result = 0\n",
    "\n",
    "for i in range(1, n+1):\n",
    "    parent[i] = i\n",
    "\n",
    "for i in range(m):\n",
    "    a, b, c = map(int,input().split())\n",
    "    edges.append((c, a, b))\n",
    "    \n",
    "edges.sort()\n",
    "last = 0\n",
    "\n",
    "\n",
    "for edge in edges:\n",
    "    c, a, b = edge\n",
    "    if find_parent(parent,a) != find_parent(parent,b):\n",
    "        union_parent(parent, a, b)\n",
    "        result += c\n",
    "        last= c\n",
    "print(result - last)        "
   ]
  }
 ],
 "metadata": {
  "kernelspec": {
   "display_name": "Python 3",
   "language": "python",
   "name": "python3"
  },
  "language_info": {
   "codemirror_mode": {
    "name": "ipython",
    "version": 3
   },
   "file_extension": ".py",
   "mimetype": "text/x-python",
   "name": "python",
   "nbconvert_exporter": "python",
   "pygments_lexer": "ipython3",
   "version": "3.8.8"
  }
 },
 "nbformat": 4,
 "nbformat_minor": 5
}
