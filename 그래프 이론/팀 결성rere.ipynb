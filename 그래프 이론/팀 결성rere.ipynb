{
 "cells": [
  {
   "cell_type": "markdown",
   "id": "3ee290f2",
   "metadata": {},
   "source": [
    "# 코딩 전 생각"
   ]
  },
  {
   "cell_type": "code",
   "execution_count": null,
   "id": "0b79ce2b",
   "metadata": {},
   "outputs": [],
   "source": [
    "\"\"\"\"\"\"\"\"\"\"\n",
    "find 연산과 union연산을 함수로 구현하여 해결한다.\n",
    "\"\"\"\"\"\"\"\"\"\""
   ]
  },
  {
   "cell_type": "markdown",
   "id": "4a9175cb",
   "metadata": {},
   "source": [
    "# 내 답안"
   ]
  },
  {
   "cell_type": "code",
   "execution_count": 5,
   "id": "cd83474f",
   "metadata": {},
   "outputs": [
    {
     "name": "stdout",
     "output_type": "stream",
     "text": [
      "7 8\n",
      "0 1 3\n",
      "1 1 7\n",
      "NO\n",
      "0 7 6\n",
      "1 7 1\n",
      "NO\n",
      "0 3 7\n",
      "0 4 2\n",
      "0 1 1\n",
      "1 1 1\n",
      "YES\n"
     ]
    }
   ],
   "source": [
    "def find_parent(parent, x):\n",
    "    if parent[x] != x:\n",
    "        parent[x] = find_parent(parent, parent[x])\n",
    "    return parent[x]\n",
    "\n",
    "def union_parent(parent, a, b):\n",
    "    a = find_parent(parent, a)\n",
    "    b = find_parent(parent, b)\n",
    "    if a < b:\n",
    "        parent[b] = a\n",
    "    else:\n",
    "        parent[a] = b\n",
    "n, m = map(int, input().split())\n",
    "parent = [0] * (n + 1)\n",
    "for i in range(0, n + 1):\n",
    "    parent[i] = i\n",
    "for _ in range(m):\n",
    "    oper, x, y = map(int, input().split())\n",
    "    if oper == 0:\n",
    "        union_parent(parent, x, y)\n",
    "    elif oper == 1:\n",
    "        if find_parent(parent, x) == find_parent(parent, y):\n",
    "            print('YES')\n",
    "        else:\n",
    "            print('NO')"
   ]
  },
  {
   "cell_type": "markdown",
   "id": "3b792223",
   "metadata": {},
   "source": [
    "# 답안 작성 후 생각"
   ]
  },
  {
   "cell_type": "code",
   "execution_count": null,
   "id": "5bc2612c",
   "metadata": {},
   "outputs": [],
   "source": [
    "\"\"\"\"\"\"\"\"\"\"\n",
    "이상 무\n",
    "\"\"\"\"\"\"\"\"\"\""
   ]
  }
 ],
 "metadata": {
  "kernelspec": {
   "display_name": "Python 3 (ipykernel)",
   "language": "python",
   "name": "python3"
  },
  "language_info": {
   "codemirror_mode": {
    "name": "ipython",
    "version": 3
   },
   "file_extension": ".py",
   "mimetype": "text/x-python",
   "name": "python",
   "nbconvert_exporter": "python",
   "pygments_lexer": "ipython3",
   "version": "3.7.13"
  }
 },
 "nbformat": 4,
 "nbformat_minor": 5
}
