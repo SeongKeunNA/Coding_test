{
 "cells": [
  {
   "cell_type": "markdown",
   "id": "2d8709df",
   "metadata": {},
   "source": [
    "# 코딩 전 생각"
   ]
  },
  {
   "cell_type": "code",
   "execution_count": null,
   "id": "cc31db6b",
   "metadata": {},
   "outputs": [],
   "source": [
    "\"\"\"\"\"\"\"\"\"\"\n",
    "'팀 합치기 연산'과 '같은 팀 여부 확인'이라는 표현을 통해 서로소 판별 알고리즘인 적용해야한다는 것을 알 수 있다.\n",
    "\"\"\"\"\"\"\"\"\"\""
   ]
  },
  {
   "cell_type": "markdown",
   "id": "de1fb05b",
   "metadata": {},
   "source": [
    "# 내 답안"
   ]
  },
  {
   "cell_type": "code",
   "execution_count": 5,
   "id": "1a1f6caa",
   "metadata": {},
   "outputs": [
    {
     "name": "stdout",
     "output_type": "stream",
     "text": [
      "7 8\n",
      "0 1 3\n",
      "parent: [0, 1, 2, 3, 4, 5, 6, 7] x: 1\n",
      "parent: [0, 1, 2, 3, 4, 5, 6, 7] x: 3\n",
      "1 1 7\n",
      "NO\n",
      "0 7 6\n",
      "parent: [0, 1, 2, 1, 4, 5, 6, 7] x: 7\n",
      "parent: [0, 1, 2, 1, 4, 5, 6, 7] x: 6\n",
      "1 7 1\n",
      "NO\n",
      "0 3 7\n",
      "parent: [0, 1, 2, 1, 4, 5, 6, 6] x: 3\n",
      "parent: [0, 1, 2, 1, 4, 5, 6, 6] x: 1\n",
      "parent: [0, 1, 2, 1, 4, 5, 6, 6] x: 7\n",
      "parent: [0, 1, 2, 1, 4, 5, 6, 6] x: 6\n",
      "0 4 2\n",
      "parent: [0, 1, 2, 1, 4, 5, 1, 6] x: 4\n",
      "parent: [0, 1, 2, 1, 4, 5, 1, 6] x: 2\n",
      "0 1 1\n",
      "parent: [0, 1, 2, 1, 2, 5, 1, 6] x: 1\n",
      "parent: [0, 1, 2, 1, 2, 5, 1, 6] x: 1\n",
      "1 1 1\n",
      "YES\n"
     ]
    }
   ],
   "source": [
    "n, m = map(int, input().split())\n",
    "\n",
    "parent = [0] * (n + 1)\n",
    "for i in range(n+1):\n",
    "    parent[i] = i\n",
    "    \n",
    "def find_parent(parent, x):\n",
    "    if parent[x] != x:\n",
    "        parent[x] = find_parent(parent, parent[x])\n",
    "    return parent[x]\n",
    "\n",
    "def union_parent(parent, a, b):\n",
    "    a = find_parent(parent, a)\n",
    "    b = find_parent(parent, b)\n",
    "    if a < b:\n",
    "        parent[b] = a\n",
    "    else:\n",
    "        parent[a] = b\n",
    "\n",
    "for _ in range(m):\n",
    "    oper, a, b = map(int, input().split())\n",
    "    if oper == 0:\n",
    "        union_parent(parent, a, b)\n",
    "    else:\n",
    "        if parent[a] == parent[b]:\n",
    "            print('YES')\n",
    "        else:\n",
    "            print('NO')\n",
    "    "
   ]
  },
  {
   "cell_type": "markdown",
   "id": "460410ee",
   "metadata": {},
   "source": [
    "# 답안 작성 후 생각"
   ]
  },
  {
   "cell_type": "code",
   "execution_count": null,
   "id": "7ea86c29",
   "metadata": {},
   "outputs": [],
   "source": [
    "\"\"\"\"\"\"\"\"\"\"\n",
    "예제 코드와 비슷한 방법으로 구현하였다.\n",
    "\"\"\"\"\"\"\"\"\"\""
   ]
  },
  {
   "cell_type": "markdown",
   "id": "98fad587",
   "metadata": {},
   "source": [
    "# 정답"
   ]
  },
  {
   "cell_type": "code",
   "execution_count": null,
   "id": "1b28c02c",
   "metadata": {},
   "outputs": [],
   "source": [
    "def find_parent(parent, x):\n",
    "    if parent[x] != x:\n",
    "        parent[x] = find_parent(parent, parent[x])\n",
    "    return parent[x]\n",
    "\n",
    "def union_parent(parent, a, b):\n",
    "    a = find_parent(parent, a)\n",
    "    b = find_parent(parent, b)\n",
    "    if a < b:\n",
    "        parent[b] = a\n",
    "    else:\n",
    "        parent[a] = b\n",
    "\n",
    "n, m = map(int, input().split())\n",
    "parent = [0] * (n + 1)\n",
    "for i in range(n+1):\n",
    "    parent[i] = i\n",
    "for _ in range(m):\n",
    "    oper, a, b = map(int, input().split())\n",
    "    if oper == 0:\n",
    "        union_parent(parent, a, b)\n",
    "    else:\n",
    "        if find_parent(parent, a) == find_parent(parent, b):\n",
    "            print('YES')\n",
    "        else:\n",
    "            print('NO')"
   ]
  },
  {
   "cell_type": "markdown",
   "id": "33b5750b",
   "metadata": {},
   "source": [
    "# 정답 확인 후 생각"
   ]
  },
  {
   "cell_type": "code",
   "execution_count": 6,
   "id": "4eeccde3",
   "metadata": {},
   "outputs": [
    {
     "ename": "SyntaxError",
     "evalue": "EOF while scanning triple-quoted string literal (Temp/ipykernel_2760/886353925.py, line 1)",
     "output_type": "error",
     "traceback": [
      "\u001b[1;36m  File \u001b[1;32m\"C:\\Users\\NAJONG~1\\AppData\\Local\\Temp/ipykernel_2760/886353925.py\"\u001b[1;36m, line \u001b[1;32m1\u001b[0m\n\u001b[1;33m    \"\"\"\"\"\"\"\"\"\"\u001b[0m\n\u001b[1;37m              ^\u001b[0m\n\u001b[1;31mSyntaxError\u001b[0m\u001b[1;31m:\u001b[0m EOF while scanning triple-quoted string literal\n"
     ]
    }
   ],
   "source": [
    "\"\"\"\"\"\"\"\"\"\"\n",
    "마지막에 a와 b가 같은 팀인지 판단하는 부분에서 답지는 find_parent 함수를 직접 호출하여 비교하고,\n",
    "\n",
    "내 답안은 갱신된 parent 리스트에서 바로 확인했다.\n",
    "\"\"\"\"\"\"\"\"\"\""
   ]
  },
  {
   "cell_type": "code",
   "execution_count": null,
   "id": "2bcc8433",
   "metadata": {},
   "outputs": [],
   "source": []
  }
 ],
 "metadata": {
  "kernelspec": {
   "display_name": "pytorch",
   "language": "python",
   "name": "pt1.1"
  },
  "language_info": {
   "codemirror_mode": {
    "name": "ipython",
    "version": 3
   },
   "file_extension": ".py",
   "mimetype": "text/x-python",
   "name": "python",
   "nbconvert_exporter": "python",
   "pygments_lexer": "ipython3",
   "version": "3.9.7"
  }
 },
 "nbformat": 4,
 "nbformat_minor": 5
}
