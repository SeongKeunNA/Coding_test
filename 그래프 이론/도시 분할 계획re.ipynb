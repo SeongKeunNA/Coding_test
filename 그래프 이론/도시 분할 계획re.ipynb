{
 "cells": [
  {
   "cell_type": "markdown",
   "id": "2382bf4b",
   "metadata": {},
   "source": [
    "# 코딩 전 생각"
   ]
  },
  {
   "cell_type": "code",
   "execution_count": null,
   "id": "d2c70b7e",
   "metadata": {},
   "outputs": [],
   "source": [
    "\"\"\"\"\"\"\"\"\"\"\n",
    "문제를 아래와 같이 두 부분으로 나누어 해결하면 될 것 같다.\n",
    "\n",
    "1. 하나의 마을을 두 개의 큰 마을로 분리하기\n",
    "\n",
    "2. 각 마을을 대상으로 크루스칼 알고리즘을 적용해 최소 신장 트리를 만드는 데 필요한 최소 비용을 계산하여 합한다.\n",
    "\n",
    "\n",
    "그런데 1번에서 두 개의 큰 마을로 분리하는 최적의 방법을 잘 모르겠다. \n",
    "\n",
    "예를들어, 단순히 가장 큰 유지비가 필요한 길이 연결하는 두 집을 기준으로 나누는 것이 최적의 해를 보장하는지 모르겠다.\n",
    "\"\"\"\"\"\"\"\"\"\""
   ]
  },
  {
   "cell_type": "code",
   "execution_count": null,
   "id": "415adb2a",
   "metadata": {},
   "outputs": [],
   "source": [
    "\"\"\"\"\"\"\"\"\"\"\n",
    "다시 생각해보니, 문제 해결 계획을 잘못 세운 것 같다.\n",
    "\n",
    "우선 마을의 전체 집과 길을 대상으로 크루스칼 알고리즘을 적용한 뒤, 남은 길 중 가장 유지비가 많은 길을 제거하면 된다.\n",
    "\"\"\"\"\"\"\"\"\"\""
   ]
  },
  {
   "cell_type": "code",
   "execution_count": 2,
   "id": "14c08c49",
   "metadata": {},
   "outputs": [
    {
     "name": "stdout",
     "output_type": "stream",
     "text": [
      "7 12\n",
      "1 2 3\n",
      "1 3 2\n",
      "3 2 1\n",
      "2 5 2\n",
      "3 4 4\n",
      "7 3 6\n",
      "5 1 5\n",
      "1 6 2\n",
      "6 4 1\n",
      "6 5 3\n",
      "4 5 3\n",
      "6 7 4\n",
      "8\n"
     ]
    }
   ],
   "source": [
    "n, m = map(int, input().split())\n",
    "edges = []\n",
    "parent = [0] * (n+1)\n",
    "for i in range(1, n+1):\n",
    "    parent[i] = i\n",
    "    \n",
    "def union_parent(parent, a, b):\n",
    "    a = find_parent(parent, a)\n",
    "    b = find_parent(parent, b)\n",
    "    if a < b:\n",
    "        parent[b] = a\n",
    "    else:\n",
    "        parent[a] = b\n",
    "        \n",
    "def find_parent(parent, x):\n",
    "    if parent[x] != x:\n",
    "        parent[x] = find_parent(parent, parent[x])\n",
    "    return parent[x]\n",
    "\n",
    "for _ in range(m):\n",
    "    a,b,cost = map(int, input().split())\n",
    "    edges.append((cost, a, b))\n",
    "edges.sort()\n",
    "result = 0\n",
    "\n",
    "for e in edges:\n",
    "    cost, a, b = e\n",
    "    if find_parent(parent, a) != find_parent(parent, b):\n",
    "        union_parent(parent, a, b)\n",
    "        result += cost\n",
    "        max_cost = cost\n",
    "print(result-max_cost)"
   ]
  },
  {
   "cell_type": "markdown",
   "id": "7417efe2",
   "metadata": {},
   "source": [
    "# 답안 작성 후 생각"
   ]
  },
  {
   "cell_type": "code",
   "execution_count": null,
   "id": "d12aa72b",
   "metadata": {},
   "outputs": [],
   "source": [
    "\"\"\"\"\"\"\"\"\"\"\n",
    "이론 복습 후 이틀 정도 코딩테스트 준비를 쉰 다음 실전 문제를 풀어서 그런지 이론과 소스코드가 조금 헷갈렸다.\n",
    "\n",
    "다시 이론을 복습하면서 그림을 보니, 문제 풀이 아이디어를 떠올릴 수 있었다.\n",
    "\n",
    "마을을 분리하는 것은 크루스칼 알고리즘을 적용한 뒤에 그 중 가장 유지비가 많은 길 하나를 삭제하는 것이었다.\n",
    "\"\"\"\"\"\"\"\"\"\""
   ]
  },
  {
   "cell_type": "markdown",
   "id": "ffd1314c",
   "metadata": {},
   "source": [
    "# 정답"
   ]
  },
  {
   "cell_type": "code",
   "execution_count": null,
   "id": "1b14d4c9",
   "metadata": {},
   "outputs": [],
   "source": [
    "def find_parent(parent, x):\n",
    "    if parent[x] != x:\n",
    "        parent[x] = find_parent(parent, parent[x])\n",
    "    return parent[x]\n",
    "\n",
    "def union_parent(parent, a, b):\n",
    "    a = find_parent(parent, a)\n",
    "    b = find_parent(parent, b)\n",
    "    if a < b:\n",
    "        parent[b] = a\n",
    "    else:\n",
    "        parent[a] = b\n",
    "        \n",
    "v, e = map(int, input().split())\n",
    "parent = [0] * (v+1)\n",
    "\n",
    "edges = []\n",
    "result = 0\n",
    "\n",
    "for i in range(1, v+1):\n",
    "    parent[i] = i\n",
    "    \n",
    "for _ in range(e):\n",
    "    a,b,cost = map(int, input().split())\n",
    "    edges.append((cost, a, b))\n",
    "\n",
    "edges.sort()\n",
    "last = 0\n",
    "\n",
    "for edge in edges:\n",
    "    cost, a, b = edge\n",
    "    if find_parent(parent, a) != find_parent(parent, b):\n",
    "        union_parent(parent, a, b)\n",
    "        result += cost\n",
    "        last = cost\n",
    "print(result-last)"
   ]
  },
  {
   "cell_type": "markdown",
   "id": "e1ab01e6",
   "metadata": {},
   "source": [
    "# 정답 확인 후 생각"
   ]
  },
  {
   "cell_type": "code",
   "execution_count": null,
   "id": "90d73344",
   "metadata": {},
   "outputs": [],
   "source": [
    "\"\"\"\"\"\"\"\"\"\"\n",
    "나의 풀이와 동일하다.\n",
    "\"\"\"\"\"\"\"\"\"\""
   ]
  }
 ],
 "metadata": {
  "kernelspec": {
   "display_name": "pytorch",
   "language": "python",
   "name": "pt1.1"
  },
  "language_info": {
   "codemirror_mode": {
    "name": "ipython",
    "version": 3
   },
   "file_extension": ".py",
   "mimetype": "text/x-python",
   "name": "python",
   "nbconvert_exporter": "python",
   "pygments_lexer": "ipython3",
   "version": "3.9.7"
  }
 },
 "nbformat": 4,
 "nbformat_minor": 5
}
