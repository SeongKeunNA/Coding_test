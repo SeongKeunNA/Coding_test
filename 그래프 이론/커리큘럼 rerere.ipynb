{
 "cells": [
  {
   "cell_type": "markdown",
   "id": "7305b465",
   "metadata": {},
   "source": [
    "# 코딩 전 생각"
   ]
  },
  {
   "cell_type": "code",
   "execution_count": 2,
   "id": "464fa196",
   "metadata": {},
   "outputs": [
    {
     "ename": "SyntaxError",
     "evalue": "EOL while scanning string literal (152850089.py, line 2)",
     "output_type": "error",
     "traceback": [
      "\u001b[1;36m  File \u001b[1;32m\"C:\\Users\\najonggeun\\AppData\\Local\\Temp\\ipykernel_23572\\152850089.py\"\u001b[1;36m, line \u001b[1;32m2\u001b[0m\n\u001b[1;33m    \"\"\"\"\"\"\"\"\"\"\u001b[0m\n\u001b[1;37m              \n^\u001b[0m\n\u001b[1;31mSyntaxError\u001b[0m\u001b[1;31m:\u001b[0m EOL while scanning string literal\n"
     ]
    }
   ],
   "source": [
    "\"\"\"\"\"\"\"\"\"\"\n",
    "1. 입력 정보를 바탕으로 선수 과목 정보를 그래프로 표현한다.\n",
    "만약 선수 과목이 없다면 바로 q에 삽입하고 해당 강의에 대한 최소 시간을 해당 과목의 강의 시간으로 한다.\n",
    "\n",
    "2. q가 빌 때까지 반복하여, q에서 원소를 뽑아 해당 과목을 선수 과목으로 포함하는 과목의 선수과목 수를 -1한다.\n",
    "이 때, 해당 과목의 선수 과목 중 가장 긴 최소 강의 시간보다\n",
    "q에서 뽑아낸 과목의 최소 강의 시간이 더 크다면 갱신한다.\n",
    "만약 선수 과목 수가 0이 된다면 그 과목을 q에 삽입한다. \n",
    "\n",
    "3. 모든 과목의 최소 시간을 출력한다.\n",
    "\"\"\"\"\"\"\"\"\"\""
   ]
  },
  {
   "cell_type": "markdown",
   "id": "62ad2291",
   "metadata": {},
   "source": [
    "# 내 답안"
   ]
  },
  {
   "cell_type": "code",
   "execution_count": 5,
   "id": "6c61ba51",
   "metadata": {},
   "outputs": [
    {
     "name": "stdout",
     "output_type": "stream",
     "text": [
      "5\n",
      "10 -1\n",
      "10 1 -1\n",
      "4 1 -1\n",
      "4 3 1 -1\n",
      "3 3 -1\n",
      "10\n",
      "20\n",
      "14\n",
      "18\n",
      "17\n"
     ]
    }
   ],
   "source": [
    "from collections import deque\n",
    "n = int(input())\n",
    "time = [0] * (n +1)\n",
    "pre = [0] * (n +1)\n",
    "total_time = [0] * (n + 1)\n",
    "graph  = [[] for _ in range(n + 1)]\n",
    "q = deque([])\n",
    "for i in range(1, n + 1):\n",
    "    data = list(map(int, input().split()))\n",
    "    time[i] = data[0]\n",
    "    for j in data[1:-1]:\n",
    "        pre[i] += 1\n",
    "        graph[j].append(i)\n",
    "    if pre[i] == 0:\n",
    "        total_time[i] = time[i]\n",
    "        q.append(i)\n",
    "while q:\n",
    "    now = q.popleft()\n",
    "    for i in graph[now]:\n",
    "        pre[i] -= 1\n",
    "        total_time[i] = max(total_time[i], time[i] + total_time[now])\n",
    "        if pre[i] == 0:\n",
    "            q.append(i)\n",
    "for i in range(1, n + 1):\n",
    "    print(total_time[i])"
   ]
  }
 ],
 "metadata": {
  "kernelspec": {
   "display_name": "Python 3 (ipykernel)",
   "language": "python",
   "name": "python3"
  },
  "language_info": {
   "codemirror_mode": {
    "name": "ipython",
    "version": 3
   },
   "file_extension": ".py",
   "mimetype": "text/x-python",
   "name": "python",
   "nbconvert_exporter": "python",
   "pygments_lexer": "ipython3",
   "version": "3.7.13"
  }
 },
 "nbformat": 4,
 "nbformat_minor": 5
}
