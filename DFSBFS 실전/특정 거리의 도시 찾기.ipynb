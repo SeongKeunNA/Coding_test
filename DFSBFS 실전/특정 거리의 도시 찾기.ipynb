{
 "cells": [
  {
   "cell_type": "markdown",
   "id": "8058dff7",
   "metadata": {},
   "source": [
    "# 내 답안"
   ]
  },
  {
   "cell_type": "code",
   "execution_count": null,
   "id": "7f65b15d",
   "metadata": {},
   "outputs": [],
   "source": [
    "from collections import deque\n",
    "\n",
    "n, m, k, x = map(int,input().split())\n",
    "\n",
    "graph = [[] for _ in range(n+1)]\n",
    "\n",
    "for _ in range(m):    \n",
    "    a, b = map(int,input().split())    \n",
    "    graph[a].append(b)   \n",
    "\n",
    "visited = [False] * (n+1)\n",
    "\n",
    "distance = [0] * (n+1)\n",
    "    \n",
    "def bfs(graph, start, visited, distance):\n",
    "    queue = deque([start])\n",
    "    visited[start] = True\n",
    "    while queue:\n",
    "        v = queue.popleft()                      \n",
    "        for i in graph[v]:\n",
    "            if not visited[i]:\n",
    "                queue.append(i)\n",
    "                visited[i] = True\n",
    "                distance[i] = distance[v] + 1\n",
    "    result = []\n",
    "    for i in range(1, len(distance)):\n",
    "        if distance[i] == k:\n",
    "            result.append(i)\n",
    "    if result:\n",
    "        for i in result:\n",
    "            print(i)\n",
    "    else:\n",
    "        print(-1)\n",
    "        \n",
    "\n",
    "bfs(graph, x, visited, distance)  "
   ]
  },
  {
   "cell_type": "code",
   "execution_count": null,
   "id": "40d472c7",
   "metadata": {},
   "outputs": [],
   "source": [
    "\"\"\"\"\"\"\"\"\"\n",
    "이론 문제 복습 전에는 헤메다가 비슷한 이론 문제인 미로탈출을 풀고 나니까 쉬웠다.\n",
    "\"\"\"\"\"\"\"\"\""
   ]
  },
  {
   "cell_type": "markdown",
   "id": "2a0ab86b",
   "metadata": {},
   "source": [
    "# 정답"
   ]
  },
  {
   "cell_type": "code",
   "execution_count": null,
   "id": "a7edd7a9",
   "metadata": {},
   "outputs": [],
   "source": [
    "from collections import deque\n",
    "\n",
    "# 도시의 개수, 도로의 개수, 거리 정보, 출발 도시 번호\n",
    "n, m, k, x = map(int, input().split())\n",
    "graph = [[] for _ in range(n + 1)]\n",
    "\n",
    "# 모든 도로 정보 입력 받기\n",
    "for _ in range(m):\n",
    "    a, b = map(int, input().split())\n",
    "    graph[a].append(b)\n",
    "\n",
    "# 모든 도시에 대한 최단 거리 초기화\n",
    "distance = [-1] * (n + 1)\n",
    "distance[x] = 0 # 출발 도시까지의 거리는 0으로 설정\n",
    "\n",
    "# 너비 우선 탐색(BFS) 수행\n",
    "q = deque([x])\n",
    "while q:\n",
    "    now = q.popleft()\n",
    "    # 현재 도시에서 이동할 수 있는 모든 도시를 확인\n",
    "    for next_node in graph[now]:\n",
    "        # 아직 방문하지 않은 도시라면\n",
    "        if distance[next_node] == -1:\n",
    "            # 최단 거리 갱신\n",
    "            distance[next_node] = distance[now] + 1\n",
    "            q.append(next_node)\n",
    "\n",
    "# 최단 거리가 K인 모든 도시의 번호를 오름차순으로 출력\n",
    "check = False\n",
    "for i in range(1, n + 1):\n",
    "    if distance[i] == k:\n",
    "        print(i)\n",
    "        check = True\n",
    "\n",
    "# 만약 최단 거리가 K인 도시가 없다면, -1 출력\n",
    "if check == False:\n",
    "    print(-1)"
   ]
  },
  {
   "cell_type": "code",
   "execution_count": null,
   "id": "3374710f",
   "metadata": {},
   "outputs": [],
   "source": [
    "\"\"\"\"\"\"\"\"\"\n",
    "distance 리스트를 만드는 것은 같지만, 따로 visited 리스트를 만들지 않고 처음 distance 리스트를 생성할 때 출발지를 0으로, \n",
    "나머지 모든 원소를 0이 아닌 -1로 초기화하였다.\n",
    "\n",
    "또한, 다음 방문할 노드를 선택하는 과정에서 distance list의 값이 -1이면 아직 방문하지 않은 것으로 간주하였다.\n",
    "\n",
    "마지막에 최단 거리 도시 번호를 출력할 때에는 거리가 k인 도시가 없는지 파악하기 위해 루프 안에 다시 루프를 돌리는 것이 아니라,\n",
    "check 라는 진위 변수를 생성하여 효율적으로 처리하였다.\n",
    "\"\"\"\"\"\"\"\"\""
   ]
  }
 ],
 "metadata": {
  "kernelspec": {
   "display_name": "pytorch",
   "language": "python",
   "name": "pt1.1"
  },
  "language_info": {
   "codemirror_mode": {
    "name": "ipython",
    "version": 3
   },
   "file_extension": ".py",
   "mimetype": "text/x-python",
   "name": "python",
   "nbconvert_exporter": "python",
   "pygments_lexer": "ipython3",
   "version": "3.9.7"
  }
 },
 "nbformat": 4,
 "nbformat_minor": 5
}
