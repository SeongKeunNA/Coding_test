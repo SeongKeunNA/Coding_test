{
 "cells": [
  {
   "cell_type": "markdown",
   "id": "d17fa51b",
   "metadata": {},
   "source": [
    "# 코딩 전 생각"
   ]
  },
  {
   "cell_type": "code",
   "execution_count": null,
   "id": "4d701fea",
   "metadata": {},
   "outputs": [],
   "source": [
    "'''''''''\n",
    "글이 길어 복잡하지만 예시를 통해 문제의 내용을 파악했다.\n",
    "\n",
    "용어의 정의에서 문제 풀이 아이디어는 제공하므로 재귀함수 구현에 집중하려고 한다.\n",
    "local variable 'u' referenced before assignment\n",
    "''''''''"
   ]
  },
  {
   "cell_type": "markdown",
   "id": "8a4f6202",
   "metadata": {},
   "source": [
    "# 나의 답안"
   ]
  },
  {
   "cell_type": "code",
   "execution_count": 14,
   "id": "082b186d",
   "metadata": {},
   "outputs": [],
   "source": [
    "def solution(p):\n",
    "    def check(s):\n",
    "        while '()' in s:\n",
    "            for i in ('()', ' '):\n",
    "                s = s.replace(i, \"\")\n",
    "        if s:\n",
    "            return False\n",
    "        else:\n",
    "            return True\n",
    "    def trans(w, w_list, u = None, v = None, answer = None):\n",
    "        if w == \"\":\n",
    "            return \"\"\n",
    "        for i in range(len(w)):\n",
    "            w_list.append(w[i])\n",
    "            if w_list.count('(') > 0 and w_list.count('(') == w_list.count(')'):\n",
    "                print('u: ', w_list, 'v: ', w[i+1:])\n",
    "                u, v = w_list, w[i+1:]\n",
    "                if check(\"\".join(u)):\n",
    "                    return \"\".join(u) + trans(v, [])\n",
    "                else:\n",
    "                    answer = '(' + trans(v, []) + ')'\n",
    "                    for j in \"\".join(u[1:i]):\n",
    "                        if j == '(':\n",
    "                            answer += ')'\n",
    "                        else:\n",
    "                            answer += '('\n",
    "                    return answer\n",
    "\n",
    "    if check(p):\n",
    "        return p\n",
    "    else:\n",
    "        return trans(p, [], '')"
   ]
  },
  {
   "cell_type": "markdown",
   "id": "b557ef5e",
   "metadata": {},
   "source": [
    "# 답안 작성 후 생각"
   ]
  },
  {
   "cell_type": "code",
   "execution_count": null,
   "id": "4e9b33f4",
   "metadata": {},
   "outputs": [],
   "source": [
    "'''''''''\n",
    "난이도 1짜리 문제지만 생각보다 오래 걸렸다...\n",
    "\n",
    "재귀 함수 구현 시 인수에 있지 않은 문자를 선언하여 쓰게 되면 재귀적으로 호출했을 때 오류가 생긴다는 것을 확인했다.\n",
    "\n",
    "또한, trans 함수에서 w_list.append(w[i])을 반복문 마지막에 작성해서 정해진 w 문자열의 길이를 넘었을 때 오류가 생기는 것을 확인했다.\n",
    "\n",
    "마지막으로 함수 인자 중 u, v, answer은 함수 선언 시에 특별한 숫자가 필요한 것이 아니라, 재귀함수 구현을 위해서만 쓰이므로,\n",
    "\n",
    "인자에 기본값 None을 줘서 함수 호출 시 표기를 간편하게 했다.\n",
    "\n",
    "''''''''"
   ]
  },
  {
   "cell_type": "markdown",
   "id": "1308f667",
   "metadata": {},
   "source": [
    "# 정답"
   ]
  },
  {
   "cell_type": "code",
   "execution_count": null,
   "id": "7bab0550",
   "metadata": {},
   "outputs": [],
   "source": [
    "# '균형잡힌 괄호 문자열'의 인덱스 반환\n",
    "def balanced_index(p):\n",
    "    count = 0 # 왼쪽 괄호의 개수\n",
    "    for i in range(len(p)):\n",
    "        if p[i] == '(':\n",
    "            count += 1\n",
    "        else:\n",
    "            count -= 1\n",
    "        if count == 0:\n",
    "            return i\n",
    "\n",
    "# '올바른 괄호 문자열'인지 판단\n",
    "def check_proper(p):\n",
    "    count = 0 # 왼쪽 괄호의 개수\n",
    "    for i in p:\n",
    "        if i == '(':\n",
    "            count += 1\n",
    "        else:\n",
    "            if count == 0 # 쌍이 맞지 않는 경우에 False 반환\n",
    "                return False\n",
    "            count -= 1\n",
    "    return True # 쌍이 맞는 경우에 True 반환\n",
    "\n",
    "def solution(p):\n",
    "    answer = '':\n",
    "    if p == '':\n",
    "        return answer\n",
    "    index = balanced_index(p)\n",
    "    u = p[:index + 1]\n",
    "    v = p[index + 1:]\n",
    "    # '올바른 문자열'이면, v에 대해 함수를 수행한 결과를 붙여 반환\n",
    "    if check_proper(u):\n",
    "        answer = u + solution(v)\n",
    "    # '올바른 괄호 문자열'이 아니라면 아래의 과정을 수행\n",
    "    else:\n",
    "        answer = '('\n",
    "        answer += solution(v)\n",
    "        answer += ')'\n",
    "        u = list(u[1:-1]) # 첫 번째와 마지막 문자를 제거\n",
    "        for i in range(len(u)):\n",
    "            if u[i] == '(':\n",
    "                u[i] = ')'\n",
    "            else:\n",
    "                u[i] = '('\n",
    "        answer += \"\".join(u)\n",
    "    return answer"
   ]
  },
  {
   "cell_type": "markdown",
   "id": "143b8c58",
   "metadata": {},
   "source": [
    "# 정답 확인후 생각"
   ]
  },
  {
   "cell_type": "code",
   "execution_count": null,
   "id": "961a8a42",
   "metadata": {},
   "outputs": [],
   "source": [
    "'''''''''\n",
    "우선 나는 solution 함수 안에 올바른 문자열인지 확인하는 함수와 문자열을 변환하는 함수를 넣은 2 in 1 구조인 반면,\n",
    "\n",
    "답지는 균형잡힌 괄호 문자열의 인덱스를 반환하는 함수와 올바른 괄호 문자열인지 확인하는 함수, 그리고 solution 함수 이렇게\n",
    "\n",
    "1, 1, 1 구조이다.\n",
    "\n",
    "답지 확인 전 내 생각과 달리 solution 함수의 인자로 u,v,answer을 따로 만들어 주지 않고 함수에서 선언하여도 재귀적 구현에\n",
    "이상이 없었다.\n",
    "\n",
    "또한, 균형잡힌 괄호 문자열의 인덱스를 반환하는 함수를 따로 구현하고, u와 v를 모두 문자열로 지정해서 내 코드보다 깔끔했다.\n",
    "\n",
    "올바른 괄호 문자열인지 판단하는 함수나 문자열에서 처음과 끝 문자를 제거하는 것도 조금 더 깔끔하게 구현했다.\n",
    "\n",
    "''''''''"
   ]
  }
 ],
 "metadata": {
  "kernelspec": {
   "display_name": "pytorch",
   "language": "python",
   "name": "pt1.1"
  },
  "language_info": {
   "codemirror_mode": {
    "name": "ipython",
    "version": 3
   },
   "file_extension": ".py",
   "mimetype": "text/x-python",
   "name": "python",
   "nbconvert_exporter": "python",
   "pygments_lexer": "ipython3",
   "version": "3.9.7"
  }
 },
 "nbformat": 4,
 "nbformat_minor": 5
}
