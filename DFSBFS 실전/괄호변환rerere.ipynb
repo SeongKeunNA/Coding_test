{
 "cells": [
  {
   "cell_type": "markdown",
   "id": "c9fb6344",
   "metadata": {},
   "source": [
    "# 내 답안"
   ]
  },
  {
   "cell_type": "code",
   "execution_count": null,
   "id": "8423cf36",
   "metadata": {},
   "outputs": [],
   "source": [
    "def separate(p):\n",
    "    cnt = 0\n",
    "    for i in range(len(p)):\n",
    "        if p[i] == '(':\n",
    "            cnt += 1\n",
    "        else:\n",
    "            cnt -= 1\n",
    "        if cnt == 0:\n",
    "            return p[:i+1], p[i+1:] \n",
    "        \n",
    "def check(p):\n",
    "    cnt = 0\n",
    "    for i in range(len(p)):\n",
    "        if p[i] == '(':\n",
    "            cnt += 1\n",
    "        else:\n",
    "            cnt -= 1\n",
    "        if cnt < 0:\n",
    "            return False\n",
    "    return True\n",
    "\n",
    "def solution(p):\n",
    "    answer = ''\n",
    "    if p == '':\n",
    "        return answer\n",
    "    u, v = separate(p) \n",
    "    if check(u):\n",
    "        return u + solution(v)\n",
    "    else:\n",
    "        answer += '(' + solution(v) + ')' \n",
    "        new_u = ''\n",
    "        for w in u[1:-1]:\n",
    "            if w == '(':\n",
    "                new_u += ')'\n",
    "            else:\n",
    "                new_u += '('\n",
    "        return answer + new_u    "
   ]
  },
  {
   "cell_type": "markdown",
   "id": "5a4a024c",
   "metadata": {},
   "source": [
    "# 정답 확인 후 생각"
   ]
  },
  {
   "cell_type": "code",
   "execution_count": null,
   "id": "7752202d",
   "metadata": {},
   "outputs": [],
   "source": [
    "\"\"\"\"\"\"\"\"\"\"\n",
    "이상 무\n",
    "\"\"\"\"\"\"\"\"\"\""
   ]
  }
 ],
 "metadata": {
  "kernelspec": {
   "display_name": "Python 3 (ipykernel)",
   "language": "python",
   "name": "python3"
  },
  "language_info": {
   "codemirror_mode": {
    "name": "ipython",
    "version": 3
   },
   "file_extension": ".py",
   "mimetype": "text/x-python",
   "name": "python",
   "nbconvert_exporter": "python",
   "pygments_lexer": "ipython3",
   "version": "3.7.13"
  }
 },
 "nbformat": 4,
 "nbformat_minor": 5
}
