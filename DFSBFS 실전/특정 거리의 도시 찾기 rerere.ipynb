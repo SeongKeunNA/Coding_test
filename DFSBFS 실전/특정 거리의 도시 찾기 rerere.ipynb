{
 "cells": [
  {
   "cell_type": "markdown",
   "id": "977058bb",
   "metadata": {},
   "source": [
    "# 코딩 전 생각"
   ]
  },
  {
   "cell_type": "code",
   "execution_count": null,
   "id": "0a615577",
   "metadata": {},
   "outputs": [],
   "source": [
    "\"\"\"\"\"\"\"\"\"\"\n",
    "1. 그래프 정보 입력(인접 리스트)\n",
    "\n",
    "2. bfs\n",
    "\"\"\"\"\"\"\"\"\"\""
   ]
  },
  {
   "cell_type": "markdown",
   "id": "3c70c359",
   "metadata": {},
   "source": [
    "# 내 답안"
   ]
  },
  {
   "cell_type": "code",
   "execution_count": 6,
   "id": "08fa3720",
   "metadata": {},
   "outputs": [
    {
     "name": "stdout",
     "output_type": "stream",
     "text": [
      "4 4 2 1\n",
      "1 2\n",
      "1 3\n",
      "2 3\n",
      "2 4\n",
      "4\n"
     ]
    }
   ],
   "source": [
    "from collections import deque\n",
    "n, m, k, x = map(int, input().split())\n",
    "graph = [[] for _ in range(n + 1)]\n",
    "for _ in range(m):\n",
    "    a, b  = map(int, input().split())\n",
    "    graph[a].append(b)\n",
    "q = deque([])\n",
    "q.append((x, 0))\n",
    "dist = [1e9] * (n + 1)\n",
    "dist[x] = 0\n",
    "while q:\n",
    "    now, c = q.popleft()\n",
    "    for i in graph[now]:\n",
    "        if dist[i] > c + 1:\n",
    "            dist[i] = c + 1\n",
    "            q.append((i, c + 1))\n",
    "cnt = 0\n",
    "for i in range(n + 1):\n",
    "    if dist[i] == k:\n",
    "        cnt += 1\n",
    "        print(i)\n",
    "if cnt == 0:\n",
    "    print(-1)"
   ]
  },
  {
   "cell_type": "markdown",
   "id": "877fe6bd",
   "metadata": {},
   "source": [
    "# 답안 작성 후 생각"
   ]
  },
  {
   "cell_type": "code",
   "execution_count": 7,
   "id": "06b3b476",
   "metadata": {},
   "outputs": [
    {
     "ename": "SyntaxError",
     "evalue": "EOF while scanning triple-quoted string literal (2885262322.py, line 2)",
     "output_type": "error",
     "traceback": [
      "\u001b[1;36m  File \u001b[1;32m\"C:\\Users\\najonggeun\\AppData\\Local\\Temp\\ipykernel_34100\\2885262322.py\"\u001b[1;36m, line \u001b[1;32m2\u001b[0m\n\u001b[1;33m    \"\"\"\"\"\"\"\"\"\"\"\"\u001b[0m\n\u001b[1;37m                \n^\u001b[0m\n\u001b[1;31mSyntaxError\u001b[0m\u001b[1;31m:\u001b[0m EOF while scanning triple-quoted string literal\n"
     ]
    }
   ],
   "source": [
    "\"\"\"\"\"\"\"\"\"\n",
    "이상 무\n",
    "\"\"\"\"\"\"\"\"\""
   ]
  }
 ],
 "metadata": {
  "kernelspec": {
   "display_name": "Python 3 (ipykernel)",
   "language": "python",
   "name": "python3"
  },
  "language_info": {
   "codemirror_mode": {
    "name": "ipython",
    "version": 3
   },
   "file_extension": ".py",
   "mimetype": "text/x-python",
   "name": "python",
   "nbconvert_exporter": "python",
   "pygments_lexer": "ipython3",
   "version": "3.7.13"
  }
 },
 "nbformat": 4,
 "nbformat_minor": 5
}
