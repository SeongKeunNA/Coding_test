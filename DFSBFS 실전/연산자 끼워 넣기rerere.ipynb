{
 "cells": [
  {
   "cell_type": "markdown",
   "id": "45148133",
   "metadata": {},
   "source": [
    "# 코딩 전 생각"
   ]
  },
  {
   "cell_type": "code",
   "execution_count": null,
   "id": "4af14548",
   "metadata": {},
   "outputs": [],
   "source": [
    "\"\"\"\"\"\"\"\"\"\"\n",
    "dfs를 이용한 완전 탐색으로 답을 찾는다.\n",
    "\"\"\"\"\"\"\"\"\"\""
   ]
  },
  {
   "cell_type": "markdown",
   "id": "68a72cfa",
   "metadata": {},
   "source": [
    "# 내 답안"
   ]
  },
  {
   "cell_type": "code",
   "execution_count": 15,
   "id": "d40729fc",
   "metadata": {
    "scrolled": true
   },
   "outputs": [
    {
     "name": "stdout",
     "output_type": "stream",
     "text": [
      "6\n",
      "1 2 3 4 5 6\n",
      "2 1 1 1\n",
      "54\n",
      "-24\n"
     ]
    }
   ],
   "source": [
    "n = int(input())\n",
    "data = list(map(int, input().split()))\n",
    "oper = list(map(int, input().split()))\n",
    "min_value = 1e9\n",
    "max_value = -1e9\n",
    "def dfs(cnt, value):\n",
    "    global min_value, max_value\n",
    "    if cnt == n - 1:\n",
    "        min_value = min(min_value, value)\n",
    "        max_value = max(max_value, value)\n",
    "        return\n",
    "\n",
    "    for i in range(4):\n",
    "        if oper[i] > 0:\n",
    "            oper[i] -= 1 \n",
    "            if i == 0:            \n",
    "                dfs(cnt+1, value + data[cnt+1]) #dfs(1, 7) #1010 \n",
    "            elif i == 1:\n",
    "                dfs(cnt+1, value - data[cnt+1])\n",
    "            elif i == 2:\n",
    "                dfs(cnt+1, value * data[cnt+1]) # dfs(2, 35)\n",
    "            else:\n",
    "                if value < 0 and data[cnt + 1] > 0:\n",
    "                    dfs(cnt+1, -(-value // data[cnt+1]))\n",
    "                else:\n",
    "                    dfs(cnt+1, value//data[cnt+1])\n",
    "            oper[i] += 1 #0010\n",
    "dfs(0, data[0])\n",
    "print(max_value)\n",
    "print(min_value)"
   ]
  },
  {
   "cell_type": "markdown",
   "id": "cf40baac",
   "metadata": {},
   "source": [
    "# 정답 확인 후 생각"
   ]
  },
  {
   "cell_type": "code",
   "execution_count": 16,
   "id": "4f97b3cd",
   "metadata": {},
   "outputs": [
    {
     "ename": "SyntaxError",
     "evalue": "EOF while scanning triple-quoted string literal (886353925.py, line 1)",
     "output_type": "error",
     "traceback": [
      "\u001b[1;36m  File \u001b[1;32m\"C:\\Users\\najonggeun\\AppData\\Local\\Temp\\ipykernel_37100\\886353925.py\"\u001b[1;36m, line \u001b[1;32m1\u001b[0m\n\u001b[1;33m    \"\"\"\"\"\"\"\"\"\"\u001b[0m\n\u001b[1;37m              ^\u001b[0m\n\u001b[1;31mSyntaxError\u001b[0m\u001b[1;31m:\u001b[0m EOF while scanning triple-quoted string literal\n"
     ]
    }
   ],
   "source": [
    "\"\"\"\"\"\"\"\"\"\"\n",
    "문제에서 주어진 조건에 따라 나눗셈을 하기 위해 int(now/data[i])라는 코드를 사용함.\n",
    "\"\"\"\"\"\"\"\"\"\""
   ]
  }
 ],
 "metadata": {
  "kernelspec": {
   "display_name": "Python 3 (ipykernel)",
   "language": "python",
   "name": "python3"
  },
  "language_info": {
   "codemirror_mode": {
    "name": "ipython",
    "version": 3
   },
   "file_extension": ".py",
   "mimetype": "text/x-python",
   "name": "python",
   "nbconvert_exporter": "python",
   "pygments_lexer": "ipython3",
   "version": "3.7.13"
  }
 },
 "nbformat": 4,
 "nbformat_minor": 5
}
