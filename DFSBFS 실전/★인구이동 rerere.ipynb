{
 "cells": [
  {
   "cell_type": "markdown",
   "id": "cd7f47d0",
   "metadata": {},
   "source": [
    "# 코딩 전 생각"
   ]
  },
  {
   "cell_type": "code",
   "execution_count": null,
   "id": "4168908e",
   "metadata": {},
   "outputs": [],
   "source": [
    "\"\"\"\"\"\"\"\"\"\"\n",
    "bfs를 이용해 인구 이동함수를 구현한다.\n",
    "\"\"\"\"\"\"\"\"\"\""
   ]
  },
  {
   "cell_type": "markdown",
   "id": "464bea47",
   "metadata": {},
   "source": [
    "# 내 답안"
   ]
  },
  {
   "cell_type": "code",
   "execution_count": 5,
   "id": "41c659e3",
   "metadata": {},
   "outputs": [
    {
     "data": {
      "text/plain": [
       "[[], [], [], [], [], [], [], [], []]"
      ]
     },
     "execution_count": 5,
     "metadata": {},
     "output_type": "execute_result"
    }
   ],
   "source": [
    "n= 3\n",
    "idx_num = [[] for _ in range(n * n)]\n",
    "idx_num"
   ]
  },
  {
   "cell_type": "code",
   "execution_count": 1,
   "id": "b757bcf0",
   "metadata": {},
   "outputs": [
    {
     "name": "stdout",
     "output_type": "stream",
     "text": [
      "4 10 50\n",
      "10 100 20 90\n",
      "80 100 60 70\n",
      "70 20 30 40\n",
      "50 20 100 10\n",
      "8\n"
     ]
    }
   ],
   "source": [
    "from collections import deque\n",
    "n, l, r = map(int, input().split())\n",
    "nation = []\n",
    "for _ in range(n):\n",
    "    nation.append(list(map(int, input().split())))\n",
    "dx = [1, -1, 0, 0]\n",
    "dy = [0, 0, 1, -1]\n",
    "\n",
    "def bfs(nation):\n",
    "    idx_num = [[] for _ in range(n * n)]\n",
    "    idx_sum = [[] for _ in range(n * n)]\n",
    "    q = deque()\n",
    "    k = 0\n",
    "    for i in range(n):\n",
    "        for j in range(n):\n",
    "            q.append((i,j,k))\n",
    "            idx_num[k].append((i, j))\n",
    "            idx_sum[k] = nation[i][j]\n",
    "            k += 1          \n",
    "    while q:\n",
    "        x, y, idx = q.popleft()\n",
    "        if visited[x][y] == 0:\n",
    "            visited[x][y] = 1\n",
    "            for i in range(4):\n",
    "                nx = x + dx[i]\n",
    "                ny = y + dy[i]\n",
    "                if 0 <= nx < n and 0 <= ny < n and visited[nx][ny] == 0:\n",
    "                    if l<= abs(nation[x][y] - nation[nx][ny]) <= r and (nx,ny,idx) not in q:\n",
    "                        q.append((nx, ny, idx))\n",
    "                        visited[nx][ny] = 1\n",
    "                        idx_num[idx].append((nx, ny))\n",
    "                        idx_sum[idx] += nation[nx][ny]\n",
    "    ck = 0\n",
    "    for i in range(n * n):\n",
    "        if len(idx_num[i]) > 1:\n",
    "            ck = 1\n",
    "            value = idx_sum[i] // len(idx_num[i])\n",
    "            for x, y in idx_num[i]:\n",
    "                nation[x][y] = value\n",
    "    if ck == 0:\n",
    "        return False\n",
    "    return nation\n",
    "\n",
    "cnt = 0\n",
    "while True:\n",
    "    visited = [[0] * n for _ in range(n)]\n",
    "    nation = bfs(nation)\n",
    "    if nation == False:\n",
    "        print(cnt)\n",
    "        break\n",
    "    cnt += 1"
   ]
  },
  {
   "cell_type": "markdown",
   "id": "45d82ac7",
   "metadata": {},
   "source": [
    "# 답안 작성 후 생각"
   ]
  },
  {
   "cell_type": "code",
   "execution_count": null,
   "id": "c1071c2e",
   "metadata": {},
   "outputs": [],
   "source": [
    "\"\"\"\"\"\"\"\"\"\"\n",
    "bfs가 아닌 dfs로 문제를 풀어보자.\n",
    "\"\"\"\"\"\"\"\"\"\""
   ]
  },
  {
   "cell_type": "markdown",
   "id": "73120a4d",
   "metadata": {},
   "source": [
    "# 내 답안2"
   ]
  },
  {
   "cell_type": "code",
   "execution_count": 10,
   "id": "4d8fa6f5",
   "metadata": {},
   "outputs": [
    {
     "name": "stdout",
     "output_type": "stream",
     "text": [
      "3 5 10\n",
      "10 15 20\n",
      "20 30 25\n",
      "40 22 10\n"
     ]
    },
    {
     "ename": "KeyboardInterrupt",
     "evalue": "",
     "output_type": "error",
     "traceback": [
      "\u001b[1;31m---------------------------------------------------------------------------\u001b[0m",
      "\u001b[1;31mKeyboardInterrupt\u001b[0m                         Traceback (most recent call last)",
      "\u001b[1;32m~\\AppData\\Local\\Temp\\ipykernel_24976\\603689882.py\u001b[0m in \u001b[0;36m<module>\u001b[1;34m\u001b[0m\n\u001b[0;32m     40\u001b[0m         \u001b[0mvalue\u001b[0m \u001b[1;33m=\u001b[0m \u001b[0midx_sum\u001b[0m\u001b[1;33m[\u001b[0m\u001b[0mi\u001b[0m\u001b[1;33m]\u001b[0m \u001b[1;33m//\u001b[0m \u001b[0mlen\u001b[0m\u001b[1;33m(\u001b[0m\u001b[0midx_num\u001b[0m\u001b[1;33m[\u001b[0m\u001b[0mi\u001b[0m\u001b[1;33m]\u001b[0m\u001b[1;33m)\u001b[0m\u001b[1;33m\u001b[0m\u001b[1;33m\u001b[0m\u001b[0m\n\u001b[0;32m     41\u001b[0m         \u001b[1;32mfor\u001b[0m \u001b[0mx\u001b[0m\u001b[1;33m,\u001b[0m \u001b[0my\u001b[0m \u001b[1;32min\u001b[0m \u001b[0midx_num\u001b[0m\u001b[1;33m[\u001b[0m\u001b[0mi\u001b[0m\u001b[1;33m]\u001b[0m\u001b[1;33m:\u001b[0m\u001b[1;33m\u001b[0m\u001b[1;33m\u001b[0m\u001b[0m\n\u001b[1;32m---> 42\u001b[1;33m             \u001b[0mnation\u001b[0m\u001b[1;33m[\u001b[0m\u001b[0mx\u001b[0m\u001b[1;33m]\u001b[0m\u001b[1;33m[\u001b[0m\u001b[0my\u001b[0m\u001b[1;33m]\u001b[0m \u001b[1;33m=\u001b[0m \u001b[0mvalue\u001b[0m\u001b[1;33m\u001b[0m\u001b[1;33m\u001b[0m\u001b[0m\n\u001b[0m\u001b[0;32m     43\u001b[0m     \u001b[0mcount\u001b[0m \u001b[1;33m+=\u001b[0m \u001b[1;36m1\u001b[0m\u001b[1;33m\u001b[0m\u001b[1;33m\u001b[0m\u001b[0m\n",
      "\u001b[1;31mKeyboardInterrupt\u001b[0m: "
     ]
    }
   ],
   "source": [
    "n, l, r = map(int, input().split())\n",
    "nation = []\n",
    "for _ in range(n):\n",
    "    nation.append(list(map(int, input().split())))\n",
    "dx = [1, -1, 0, 0]\n",
    "dy = [0, 0, 1, -1]\n",
    "idx_num = []\n",
    "idx_sum = []\n",
    "def dfs(x,y):\n",
    "    global idx, ck\n",
    "    if visited[x][y] == 0:\n",
    "        visited[x][y] = 1\n",
    "        for i in range(4):\n",
    "            nx = x + dx[i]\n",
    "            ny = y + dy[i]\n",
    "            if 0 <= nx < n and 0 <= ny < n and visited[nx][ny] == 0:\n",
    "                if l<= abs(nation[x][y] - nation[nx][ny]) <= r:\n",
    "                    ck = 1\n",
    "                    visited[nx][ny] = 1\n",
    "                    idx_num[idx].append((nx,ny))\n",
    "                    idx_sum[idx] += nation[nx][ny]\n",
    "                    dfs(nx,ny)\n",
    "                    \n",
    "count = 0           \n",
    "while True:\n",
    "    visited = [[0] * n for _ in range(n)]\n",
    "    idx = -1\n",
    "    ck = 0\n",
    "    for x in range(n):\n",
    "        for y in range(n):\n",
    "            idx_num.append([(x, y)])\n",
    "            idx_sum.append(nation[x][y])\n",
    "    for x in range(n):\n",
    "        for y in range(n):\n",
    "            dfs(x, y)\n",
    "    if ck == 0:\n",
    "        print(count)\n",
    "        break   \n",
    "    for i in range(idx):\n",
    "        value = idx_sum[i] // len(idx_num[i])\n",
    "        for x, y in idx_num[i]:\n",
    "            nation[x][y] = value\n",
    "    count += 1"
   ]
  },
  {
   "cell_type": "code",
   "execution_count": 12,
   "id": "92b38b27",
   "metadata": {},
   "outputs": [
    {
     "data": {
      "text/plain": [
       "[[0, 0, 0], [0, 0, 0], [0, 0, 0]]"
      ]
     },
     "execution_count": 12,
     "metadata": {},
     "output_type": "execute_result"
    }
   ],
   "source": [
    "n = 3\n",
    "visited = [[0] * n for _ in range(n)]\n",
    "visited"
   ]
  },
  {
   "cell_type": "code",
   "execution_count": 22,
   "id": "67097ade",
   "metadata": {},
   "outputs": [
    {
     "name": "stdout",
     "output_type": "stream",
     "text": [
      "4 10 50\n",
      "10 100 20 90\n",
      "80 100 60 70\n",
      "70 20 30 40\n",
      "50 20 100 10\n",
      "3\n"
     ]
    }
   ],
   "source": [
    "from collections import deque\n",
    "n, l, r = map(int, input().split())\n",
    "nation = []\n",
    "for _ in range(n):\n",
    "    nation.append(list(map(int, input().split())))\n",
    "dx = [1, -1, 0, 0]\n",
    "dy = [0, 0, 1, -1]\n",
    "\n",
    "def bfs():\n",
    "    idx = -1\n",
    "    ck = 0\n",
    "    visited = [[0] * n for _ in range(n)]\n",
    "    idx_num = []\n",
    "    idx_sum = []\n",
    "    q = deque()\n",
    "    for i in range(n):\n",
    "        for j in range(n):\n",
    "            if visited[i][j] == 0:\n",
    "                idx += 1\n",
    "                q.append((i,j,idx))\n",
    "                idx_num.append([(i, j)])\n",
    "                idx_sum.append(nation[i][j])\n",
    "                visited[i][j] = 1  \n",
    "            while q:\n",
    "                x, y, index = q.popleft()\n",
    "                for d in range(4):\n",
    "                    nx = x + dx[d]\n",
    "                    ny = y + dy[d]\n",
    "                    if 0 <= nx < n and 0 <= ny < n and visited[nx][ny] == 0:\n",
    "                        if l<= abs(nation[x][y] - nation[nx][ny]) <= r:\n",
    "                            ck = 1\n",
    "                            q.append((nx, ny, idx))\n",
    "                            visited[nx][ny] = 1\n",
    "                            idx_num[index].append((nx, ny))\n",
    "                            idx_sum[index] += nation[nx][ny]\n",
    "    if ck == 0:\n",
    "        return False\n",
    "    \n",
    "    for i in range(idx + 1):\n",
    "        value = idx_sum[i] // len(idx_num[i])\n",
    "        for x, y in idx_num[i]:\n",
    "            nation[x][y] = value\n",
    "\n",
    "cnt = 0\n",
    "while True:\n",
    "    result = bfs()\n",
    "    if result == False:\n",
    "        print(cnt)\n",
    "        break\n",
    "    cnt += 1"
   ]
  },
  {
   "cell_type": "markdown",
   "id": "2cc0f093",
   "metadata": {},
   "source": [
    "# 정답 "
   ]
  },
  {
   "cell_type": "code",
   "execution_count": null,
   "id": "9752d0b1",
   "metadata": {},
   "outputs": [],
   "source": [
    "from collections import deque\n",
    "\n",
    "n, l, r = map(int ,input().split())\n",
    "graph = []\n",
    "for _ in range(n):\n",
    "    graph.appened(list(map(int, input().split())))\n",
    "dx = [-1, 0, 1, 0]\n",
    "dy = [0, -1, 0, 1]\n",
    "\n",
    "result = 0\n",
    "def process(x, y, index):\n",
    "    united = []\n",
    "    united.append((x, y))\n",
    "    q = deque\n",
    "    q.append((x, y))\n",
    "    union[x][y] = index\n",
    "    summary = graph[x][y]\n",
    "    count = 1\n",
    "    while q:\n",
    "        x, y = q.popleft()\n",
    "        for i in range(4):\n",
    "            nx = x + dx[i]\n",
    "            ny = y + dy[i]\n",
    "            if 0 <= ncx < n and 0 <= ny < n and union[nx][ny] == -1:\n",
    "                if l <= abs(graph[nx][ny] - graph[x][y]) <= r:\n",
    "                    q.append((nx, ny))\n",
    "                    union[nx][ny] = index\n",
    "                    summary += graph[nx][ny]\n",
    "                    count += 1\n",
    "                    united.append((nx, ny))\n",
    "    for i, j in united:\n",
    "        graph[i][j] = summary // count\n",
    "    return count\n",
    "\n",
    "total_count = 0\n",
    "while True:\n",
    "    union = [[-1 * n for _ in range(n)]]\n",
    "    index = 0\n",
    "    for i in range(n):\n",
    "        for j in range(n):\n",
    "            if union[i][j] == -1:\n",
    "                process(i, j ,index)\n",
    "                index += 1\n",
    "    if index == n * n:\n",
    "        break\n",
    "    total_count += 1\n",
    "print(total_count)"
   ]
  },
  {
   "cell_type": "markdown",
   "id": "f64a777b",
   "metadata": {},
   "source": [
    "# 정답 확인 후 생각"
   ]
  },
  {
   "cell_type": "code",
   "execution_count": null,
   "id": "26e20e99",
   "metadata": {},
   "outputs": [],
   "source": [
    "\"\"\"\"\"\"\"\"\"\"\n",
    "연합 국가들은 이미 처리돼서 union 값이 -1 이상이기 때문에 재분배 과정까지 한 번에 처리해도 다음 국가의 procss에서 중복되지 않는다.\n",
    "\"\"\"\"\"\"\"\"\"\""
   ]
  }
 ],
 "metadata": {
  "kernelspec": {
   "display_name": "Python 3 (ipykernel)",
   "language": "python",
   "name": "python3"
  },
  "language_info": {
   "codemirror_mode": {
    "name": "ipython",
    "version": 3
   },
   "file_extension": ".py",
   "mimetype": "text/x-python",
   "name": "python",
   "nbconvert_exporter": "python",
   "pygments_lexer": "ipython3",
   "version": "3.7.13"
  }
 },
 "nbformat": 4,
 "nbformat_minor": 5
}
