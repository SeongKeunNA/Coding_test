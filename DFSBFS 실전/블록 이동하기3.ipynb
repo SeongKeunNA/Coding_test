{
 "cells": [
  {
   "cell_type": "markdown",
   "id": "c7f9908f",
   "metadata": {},
   "source": [
    "# 코딩 전 생각"
   ]
  },
  {
   "cell_type": "code",
   "execution_count": 1,
   "id": "53d6650a",
   "metadata": {},
   "outputs": [
    {
     "data": {
      "text/plain": [
       "'\\n생각보다 문제 이해는 어렵지 않았다.\\n\\n상하좌우 이동과 회전 함수만 따로 구현하여 \\n\\ndfs 재귀함수로 매본 최솟값을 구하여 해결하고자 한다.\\n'"
      ]
     },
     "execution_count": 1,
     "metadata": {},
     "output_type": "execute_result"
    }
   ],
   "source": [
    "\"\"\"\"\"\"\"\"\"\n",
    "생각보다 문제 이해는 어렵지 않았다.\n",
    "\n",
    "상하좌우 이동과 회전 함수만 따로 구현하여 \n",
    "\n",
    "dfs 재귀함수로 매본 최솟값을 구하여 해결하고자 한다.\n",
    "\n",
    "(이틀 동안 해보고 난 후)\n",
    "\n",
    "최솟값을 구해야 한다는 말에 '연구소' 문제를 떠올려 매번 울타리를 막고 다시 없애듯이 dfs로 구현하려했지만,\n",
    "\n",
    "print문으로 결과값을 확인하며 진행해보니 나의 dfs 풀이로는 절대로 최솟값 갱신이 되지 않는다는 것을 깨달았다.\n",
    "\n",
    "자기 전 침대에서 생각해보니 bfs로 매 보드마다의 최솟값을 갱신하는 방법이 떠올랐다.\n",
    "\n",
    "또 다음날.. 온갖 실수와 오류를 고치고 history라는 리스트를 이용하여 bfs로 문제를 풀었으나, 다른 테스트 케이스들은\n",
    "\n",
    "시간초과와 실패로 모두 틀렸다.내 생각에 매번 history의 전체 원소와 비교하는 게 시간 복잡도를 많이 잡아먹는 듯하다.\n",
    "\n",
    "이전의 풀이대로 보드의 원소를 직접 바꾸는 bfs 방식으로 마지막으로 시도해보고자 한다.\n",
    "\"\"\"\"\"\"\"\"\""
   ]
  },
  {
   "cell_type": "markdown",
   "id": "a1740ec4",
   "metadata": {},
   "source": [
    "# 내 답안"
   ]
  },
  {
   "cell_type": "code",
   "execution_count": 34,
   "id": "ec9f36ef",
   "metadata": {
    "scrolled": false
   },
   "outputs": [
    {
     "name": "stdout",
     "output_type": "stream",
     "text": [
      "q: deque([[[0, 0], [0, 1]]])\n",
      "now: [[0, 0], [0, 1]]\n",
      "board: [[0, 0, 0, -1, -1], [0, 0, 0, -1, 0], [0, -1, 0, -1, 1], [-1, -1, 0, 0, -1], [0, 0, 0, 0, 0]]\n",
      "change: [[0, 2], [1, 0], [1, 1], [1, 1], [1, 0]]\n",
      "element: [[[0, 1], [0, 2]], [[1, 0], [1, 1]], [[0, 1], [1, 1]], [[0, 0], [1, 0]]]\n",
      "board: [[0, 0, 1, -1, -1], [1, 1, 0, -1, 0], [0, -1, 0, -1, 1], [-1, -1, 0, 0, -1], [0, 0, 0, 0, 0]]\n",
      "---------------\n",
      "q: deque([[[0, 1], [0, 2]], [[1, 0], [1, 1]], [[0, 1], [1, 1]], [[0, 0], [1, 0]]])\n",
      "now: [[0, 1], [0, 2]]\n",
      "board: [[0, 0, 1, -1, -1], [1, 1, 0, -1, 0], [0, -1, 0, -1, 1], [-1, -1, 0, 0, -1], [0, 0, 0, 0, 0]]\n",
      "change: [[1, 2], [1, 2]]\n",
      "element: [[[1, 1], [1, 2]], [[0, 2], [1, 2]]]\n",
      "board: [[0, 0, 1, -1, -1], [1, 1, 2, -1, 0], [0, -1, 0, -1, 1], [-1, -1, 0, 0, -1], [0, 0, 0, 0, 0]]\n",
      "---------------\n",
      "q: deque([[[1, 0], [1, 1]], [[0, 1], [1, 1]], [[0, 0], [1, 0]], [[1, 1], [1, 2]], [[0, 2], [1, 2]]])\n",
      "now: [[1, 0], [1, 1]]\n",
      "board: [[0, 0, 1, -1, -1], [1, 1, 2, -1, 0], [0, -1, 0, -1, 1], [-1, -1, 0, 0, -1], [0, 0, 0, 0, 0]]\n",
      "change: []\n",
      "element: []\n",
      "board: [[0, 0, 1, -1, -1], [1, 1, 2, -1, 0], [0, -1, 0, -1, 1], [-1, -1, 0, 0, -1], [0, 0, 0, 0, 0]]\n",
      "---------------\n",
      "q: deque([[[0, 1], [1, 1]], [[0, 0], [1, 0]], [[1, 1], [1, 2]], [[0, 2], [1, 2]]])\n",
      "now: [[0, 1], [1, 1]]\n",
      "board: [[0, 0, 1, -1, -1], [1, 1, 2, -1, 0], [0, -1, 0, -1, 1], [-1, -1, 0, 0, -1], [0, 0, 0, 0, 0]]\n",
      "change: []\n",
      "element: []\n",
      "board: [[0, 0, 1, -1, -1], [1, 1, 2, -1, 0], [0, -1, 0, -1, 1], [-1, -1, 0, 0, -1], [0, 0, 0, 0, 0]]\n",
      "---------------\n",
      "q: deque([[[0, 0], [1, 0]], [[1, 1], [1, 2]], [[0, 2], [1, 2]]])\n",
      "now: [[0, 0], [1, 0]]\n",
      "board: [[0, 0, 1, -1, -1], [1, 1, 2, -1, 0], [0, -1, 0, -1, 1], [-1, -1, 0, 0, -1], [0, 0, 0, 0, 0]]\n",
      "change: [[2, 0]]\n",
      "element: [[[1, 0], [2, 0]]]\n",
      "board: [[0, 0, 1, -1, -1], [1, 1, 2, -1, 0], [2, -1, 0, -1, 1], [-1, -1, 0, 0, -1], [0, 0, 0, 0, 0]]\n",
      "---------------\n",
      "q: deque([[[1, 1], [1, 2]], [[0, 2], [1, 2]], [[1, 0], [2, 0]]])\n",
      "now: [[1, 1], [1, 2]]\n",
      "board: [[0, 0, 1, -1, -1], [1, 1, 2, -1, 0], [2, -1, 0, -1, 1], [-1, -1, 0, 0, -1], [0, 0, 0, 0, 0]]\n",
      "change: []\n",
      "element: []\n",
      "board: [[0, 0, 1, -1, -1], [1, 1, 2, -1, 0], [2, -1, 0, -1, 1], [-1, -1, 0, 0, -1], [0, 0, 0, 0, 0]]\n",
      "---------------\n",
      "q: deque([[[0, 2], [1, 2]], [[1, 0], [2, 0]]])\n",
      "now: [[0, 2], [1, 2]]\n",
      "board: [[0, 0, 1, -1, -1], [1, 1, 2, -1, 0], [2, -1, 0, -1, 1], [-1, -1, 0, 0, -1], [0, 0, 0, 0, 0]]\n",
      "change: [[2, 2]]\n",
      "element: [[[1, 2], [2, 2]]]\n",
      "board: [[0, 0, 1, -1, -1], [1, 1, 2, -1, 0], [2, -1, 3, -1, 1], [-1, -1, 0, 0, -1], [0, 0, 0, 0, 0]]\n",
      "---------------\n",
      "q: deque([[[1, 0], [2, 0]], [[1, 2], [2, 2]]])\n",
      "now: [[1, 0], [2, 0]]\n",
      "board: [[0, 0, 1, -1, -1], [1, 1, 2, -1, 0], [2, -1, 3, -1, 1], [-1, -1, 0, 0, -1], [0, 0, 0, 0, 0]]\n",
      "change: []\n",
      "element: []\n",
      "board: [[0, 0, 1, -1, -1], [1, 1, 2, -1, 0], [2, -1, 3, -1, 1], [-1, -1, 0, 0, -1], [0, 0, 0, 0, 0]]\n",
      "---------------\n",
      "q: deque([[[1, 2], [2, 2]]])\n",
      "now: [[1, 2], [2, 2]]\n",
      "board: [[0, 0, 1, -1, -1], [1, 1, 2, -1, 0], [2, -1, 3, -1, 1], [-1, -1, 0, 0, -1], [0, 0, 0, 0, 0]]\n",
      "change: [[3, 2]]\n",
      "element: [[[2, 2], [3, 2]]]\n",
      "board: [[0, 0, 1, -1, -1], [1, 1, 2, -1, 0], [2, -1, 3, -1, 1], [-1, -1, 4, 0, -1], [0, 0, 0, 0, 0]]\n",
      "---------------\n",
      "q: deque([[[2, 2], [3, 2]]])\n",
      "now: [[2, 2], [3, 2]]\n",
      "board: [[0, 0, 1, -1, -1], [1, 1, 2, -1, 0], [2, -1, 3, -1, 1], [-1, -1, 4, 0, -1], [0, 0, 0, 0, 0]]\n",
      "change: [[4, 2]]\n",
      "element: [[[3, 2], [4, 2]]]\n",
      "board: [[0, 0, 1, -1, -1], [1, 1, 2, -1, 0], [2, -1, 3, -1, 1], [-1, -1, 4, 0, -1], [0, 0, 5, 0, 0]]\n",
      "---------------\n",
      "q: deque([[[3, 2], [4, 2]]])\n",
      "now: [[3, 2], [4, 2]]\n",
      "board: [[0, 0, 1, -1, -1], [1, 1, 2, -1, 0], [2, -1, 3, -1, 1], [-1, -1, 4, 0, -1], [0, 0, 5, 0, 0]]\n",
      "change: [[3, 3], [4, 3]]\n",
      "element: [[[3, 2], [3, 3]], [[4, 2], [4, 3]]]\n",
      "board: [[0, 0, 1, -1, -1], [1, 1, 2, -1, 0], [2, -1, 3, -1, 1], [-1, -1, 4, 6, -1], [0, 0, 5, 6, 0]]\n",
      "---------------\n",
      "q: deque([[[3, 2], [3, 3]], [[4, 2], [4, 3]]])\n",
      "now: [[3, 2], [3, 3]]\n",
      "board: [[0, 0, 1, -1, -1], [1, 1, 2, -1, 0], [2, -1, 3, -1, 1], [-1, -1, 4, 6, -1], [0, 0, 5, 6, 0]]\n",
      "change: []\n",
      "element: []\n",
      "board: [[0, 0, 1, -1, -1], [1, 1, 2, -1, 0], [2, -1, 3, -1, 1], [-1, -1, 4, 6, -1], [0, 0, 5, 6, 0]]\n",
      "---------------\n",
      "q: deque([[[4, 2], [4, 3]]])\n",
      "now: [[4, 2], [4, 3]]\n",
      "board: [[0, 0, 1, -1, -1], [1, 1, 2, -1, 0], [2, -1, 3, -1, 1], [-1, -1, 4, 6, -1], [0, 0, 5, 6, 0]]\n",
      "change: [[4, 4], [4, 1]]\n",
      "element: [[[4, 3], [4, 4]], [[4, 1], [4, 2]]]\n",
      "board: [[0, 0, 1, -1, -1], [1, 1, 2, -1, 0], [2, -1, 3, -1, 1], [-1, -1, 4, 6, -1], [0, 7, 5, 6, 7]]\n",
      "---------------\n",
      "q: deque([[[4, 3], [4, 4]], [[4, 1], [4, 2]]])\n",
      "now: [[4, 3], [4, 4]]\n",
      "board: [[0, 0, 1, -1, -1], [1, 1, 2, -1, 0], [2, -1, 3, -1, 1], [-1, -1, 4, 6, -1], [0, 7, 5, 6, 7]]\n",
      "change: []\n",
      "element: []\n",
      "board: [[0, 0, 1, -1, -1], [1, 1, 2, -1, 0], [2, -1, 3, -1, 1], [-1, -1, 4, 6, -1], [0, 7, 5, 6, 7]]\n",
      "---------------\n",
      "q: deque([[[4, 1], [4, 2]]])\n",
      "now: [[4, 1], [4, 2]]\n",
      "board: [[0, 0, 1, -1, -1], [1, 1, 2, -1, 0], [2, -1, 3, -1, 1], [-1, -1, 4, 6, -1], [0, 7, 5, 6, 7]]\n",
      "change: []\n",
      "element: []\n",
      "board: [[0, 0, 1, -1, -1], [1, 1, 2, -1, 0], [2, -1, 3, -1, 1], [-1, -1, 4, 6, -1], [0, 7, 5, 6, 7]]\n",
      "---------------\n"
     ]
    },
    {
     "data": {
      "text/plain": [
       "7"
      ]
     },
     "execution_count": 34,
     "metadata": {},
     "output_type": "execute_result"
    }
   ],
   "source": [
    "from collections import deque\n",
    "dx = [0, 0, 1, -1]\n",
    "dy = [1, -1, 0, 0]\n",
    "board = [[0, 0, 0, -1, -1],[0, 0, 0, -1, 0],[0, -1, 0, -1, 1],[-1, -1, 0, 0, -1],[0, 0, 0, 0, 0]]\n",
    "n = 5\n",
    "visited = [[[0,0],[0,1]]]\n",
    "def solution(board)\n",
    "    n = len(board)\n",
    "def move(now, i): # 0,0,0,1, i=0\n",
    "    global board\n",
    "    global change\n",
    "    global element\n",
    "    global visited\n",
    "    state = state_(now)\n",
    "    \n",
    "    if state == 0:\n",
    "        if i == 0:  # i=0: 0을 2로 1을 3로 2와 3은 dx[i], dy[i]만틈 더함\n",
    "            if now[1][1] + 1 <= n-1 and board[now[1][0]][now[1][1]+1] == 0:\n",
    "                if [[now[1][0],now[1][1]],[now[1][0],now[1][1]+1]] not in visited:\n",
    "                    change.append([now[1][0],now[1][1]+1])\n",
    "                    element.append([[now[1][0],now[1][1]],[now[1][0],now[1][1]+1]])\n",
    "                    visited.append([[now[1][0],now[1][1]],[now[1][0],now[1][1]+1]])\n",
    "                                               \n",
    "        elif i ==1: # i=1: 2을 0로 3을 1로 0와 1은 dx[i], dy[i]만틈 더함\n",
    "            if now[0][1] - 1 >= 1 and board[now[0][0]][now[0][1]-1] == 0:\n",
    "                if [[now[0][0],now[0][1]-1],[now[0][0],now[0][1]]] not in visited:\n",
    "                    change.append([now[0][0],now[0][1]-1])\n",
    "                    element.append([[now[0][0],now[0][1]-1],[now[0][0],now[0][1]]])\n",
    "                    visited.append([[now[0][0],now[0][1]-1],[now[0][0],now[0][1]]])\n",
    "                    \n",
    "                \n",
    "\n",
    "                \n",
    "        elif 1<= now[0][0] + dx[i] <= n-1 and (board[now[0][0]+dx[i]][now[0][1]] != -1 and board[now[1][0]+dx[i]][now[1][1]] != -1):\n",
    "            if board[now[0][0]+dx[i]][now[0][1]] == 0 or board[now[1][0]+dx[i]][now[1][1]] ==0:\n",
    "                if [[now[0][0]+dx[i],now[0][1]+dy[i]], [now[1][0]+dx[i],now[1][1]+dy[i]]] not in visited:\n",
    "                    if board[now[0][0]][now[0][1]]> board[now[1][0]][now[1][1]]:\n",
    "                        change.append([now[0][0]+dx[i],now[0][1]+dy[i]])\n",
    "                    elif board[now[0][0]][now[0][1]] < board[now[1][0]][now[1][1]]:\n",
    "                        change.append([now[1][0]+dx[i],now[1][1]+dy[i]])              \n",
    "                    else:\n",
    "                        change.append([now[0][0]+dx[i],now[0][1]+dy[i]])\n",
    "                        change.append([now[1][0]+dx[i],now[1][1]+dy[i]])\n",
    "                    element.append([[now[0][0]+dx[i],now[0][1]+dy[i]], [now[1][0]+dx[i],now[1][1]+dy[i]]])\n",
    "                    visited.append([[now[0][0]+dx[i],now[0][1]+dy[i]], [now[1][0]+dx[i],now[1][1]+dy[i]]])\n",
    "                    \n",
    "            \n",
    "                \n",
    "         \n",
    "    else: # i=0, 1: 0,1,2,3 모두 dx[i], dy[i]만틈 더함 \n",
    "        if i== 2:\n",
    "            if now[1][0] + 1 <= n-1 and board[now[1][0]+1][now[1][1]] == 0:\n",
    "                if [[now[1][0],now[1][1]],[now[1][0]+1,now[1][1]]] not in visited:\n",
    "                    change.append([now[1][0]+1,now[1][1]])\n",
    "                    element.append([[now[1][0],now[1][1]],[now[1][0]+1,now[1][1]]])\n",
    "                    visited.append([[now[1][0],now[1][1]],[now[1][0]+1,now[1][1]]])\n",
    "                \n",
    "            \n",
    "        elif i == 3:\n",
    "            if now[0][0] - 1 >= 1  and board[now[0][0]-1][now[0][1]] == 0:\n",
    "                if [[now[0][0]-1,now[0][1]],[now[0][0],now[0][1]]] not in visited:\n",
    "                    change.append([now[0][0]-1,now[0][1]])\n",
    "                    element.append([[now[0][0]-1,now[0][1]],[now[0][0],now[0][1]]])\n",
    "                    visited.append([[now[0][0]-1,now[0][1]],[now[0][0],now[0][1]]])\n",
    "                    \n",
    "                    \n",
    "            \n",
    "        elif 1<= now[0][1] + dy[i] <= n-1 and (board[now[0][0]][now[0][1]+dy[i]] == 0 or board[now[1][0]][now[1][1]+dy[i]] == 0):\n",
    "            if board[now[0][0]+dx[i]][now[0][1]] == 0 or board[now[1][0]+dx[i]][now[1][1]] ==0:\n",
    "                if [[now[0][0]+dx[i],now[0][1]+dy[i]], [now[1][0]+dx[i],now[1][1]+dy[i]]] not in visited:\n",
    "                    if board[now[0][0]][now[0][1]]> board[now[1][0]][now[1][1]]:\n",
    "                        change.append([now[0][0]+dx[i],now[0][1]+dy[i]])\n",
    "                    elif board[now[0][0]][now[0][1]] < board[now[1][0]][now[1][1]]:\n",
    "                        change.append([now[1][0]+dx[i],now[1][1]+dy[i]])              \n",
    "                    else:\n",
    "                        change.append([now[0][0]+dx[i],now[0][1]+dy[i]])\n",
    "                        change.append([now[1][0]+dx[i],now[1][1]+dy[i]])\n",
    "                    element.append([[now[0][0]+dx[i],now[0][1]+dy[i]], [now[1][0]+dx[i],now[1][1]+dy[i]]])\n",
    "                    visited.append([[now[0][0]+dx[i],now[0][1]+dy[i]], [now[1][0]+dx[i],now[1][1]+dy[i]]])\n",
    "            \n",
    "def rotate(now, clockwise, axis):\n",
    "    global board\n",
    "    global change\n",
    "    global element\n",
    "    global visited\n",
    "    naxis = (1-axis)\n",
    "    state = state_(now)\n",
    "    change_ = []                    \n",
    "    if state == 0:\n",
    "        if axis == clockwise:\n",
    "            if now[axis][0] >= 1: # c = 0 and a = 0\n",
    "                change_ = [now[axis][0]-1, now[axis][1]]\n",
    "                obstacle = [now[naxis][0]-1, now[naxis][1]]\n",
    "                if board[change_[0]][change_[1]] == 0 and board[obstacle[0]][obstacle[1]] != -1:\n",
    "                    if [[now[axis][0]-1, now[axis][1]], [now[axis][0], now[axis][1]]] not in visited:\n",
    "                        change.append(change_)\n",
    "                        element.append([[now[axis][0]-1, now[axis][1]], [now[axis][0], now[axis][1]]])\n",
    "                        visited.append([[now[axis][0]-1, now[axis][1]], [now[axis][0], now[axis][1]]])\n",
    "\n",
    "        else:\n",
    "            if now[axis][0] < n-1:\n",
    "                change_ = [now[axis][0]+1, now[axis][1]]\n",
    "                obstacle = [now[naxis][0]+1, now[naxis][1]]\n",
    "                if board[change_[0]][change_[1]] == 0 and board[obstacle[0]][obstacle[1]] != -1:\n",
    "                    if [[now[axis][0], now[axis][1]], [now[axis][0]+1, now[axis][1]]] not in visited:\n",
    "                        change.append(change_)\n",
    "                        element.append([[now[axis][0], now[axis][1]], [now[axis][0]+1, now[axis][1]]])          \n",
    "                        visited.append([[now[axis][0], now[axis][1]], [now[axis][0]+1, now[axis][1]]])          \n",
    "                        \n",
    "    else:\n",
    "        if axis == clockwise:\n",
    "            if now[axis][1] < n-1:\n",
    "                change_ = [now[axis][0], now[axis][1]+1]\n",
    "                obstacle = [now[naxis][0], now[naxis][1]+1]\n",
    "                if board[change_[0]][change_[1]] == 0 and board[obstacle[0]][obstacle[1]] != -1:\n",
    "                    if [[now[axis][0], now[axis][1]], [now[axis][0], now[axis][1]+1]] not in visited:\n",
    "                        change.append(change_)\n",
    "                        element.append([[now[axis][0], now[axis][1]], [now[axis][0], now[axis][1]+1]])  \n",
    "                        visited.append([[now[axis][0], now[axis][1]], [now[axis][0], now[axis][1]+1]])  \n",
    "            \n",
    "    \n",
    "        else:\n",
    "            if now[axis][1] >= 1:\n",
    "                change_ = [now[axis][0], now[axis][1]-1]\n",
    "                obstacle = [now[naxis][0], now[naxis][1]-1]\n",
    "                if board[change_[0]][change_[1]] == 0 and board[obstacle[0]][obstacle[1]] != -1:\n",
    "                    if [[now[axis][0], now[axis][1]-1], [now[axis][0], now[axis][1]]] not in visited:\n",
    "                        change.append(change_)\n",
    "                        element.append([[now[axis][0], now[axis][1]-1], [now[axis][0], now[axis][1]]]) \n",
    "                        visited.append([[now[axis][0], now[axis][1]-1], [now[axis][0], now[axis][1]]]) \n",
    "        \n",
    "def state_(now): \n",
    "    if now[0][0] == now[1][0]:\n",
    "        state = 0   \n",
    "    else:\n",
    "        state = 1\n",
    "    return state\n",
    "\n",
    "      \n",
    "def bfs():\n",
    "    global board\n",
    "    global change\n",
    "    global element\n",
    "    q = deque([[[0,0],[0,1]]])       \n",
    "    while q:\n",
    "        print('q:',q)\n",
    "        now = q.popleft()\n",
    "        print('now:',now)\n",
    "        print('board:',board)\n",
    "        change = []\n",
    "        element = [] \n",
    "        for i in range(4):\n",
    "            move(now,i)\n",
    "        for i in range(2):\n",
    "            for j in range(2):\n",
    "                rotate(now, i, j)           \n",
    "        print('change:',change)\n",
    "        print('element:', element)\n",
    "        \n",
    "        for e in element:\n",
    "            q.append(e)\n",
    "        for c in change:\n",
    "            board[c[0]][c[1]] = max(board[now[0][0]][now[0][1]], board[now[1][0]][now[1][1]]) + 1\n",
    "            \n",
    "        print('board:',board)\n",
    "        print('---------------')\n",
    "#s,c,a 0,0,1 /0,1,0 ok \n",
    "    return board[n-1][n-1]\n",
    "bfs()"
   ]
  },
  {
   "cell_type": "code",
   "execution_count": 29,
   "id": "035f0f32",
   "metadata": {},
   "outputs": [
    {
     "data": {
      "text/plain": [
       "deque([])"
      ]
     },
     "execution_count": 29,
     "metadata": {},
     "output_type": "execute_result"
    }
   ],
   "source": [
    "q =  deque([[[0, 0], [0, 1]]])\n",
    "q.remove([[0, 0], [0, 1]])\n",
    "q"
   ]
  },
  {
   "cell_type": "code",
   "execution_count": 10,
   "id": "6bf6c609",
   "metadata": {},
   "outputs": [
    {
     "data": {
      "text/plain": [
       "[[3, 4], [4, 5]]"
      ]
     },
     "execution_count": 10,
     "metadata": {},
     "output_type": "execute_result"
    }
   ],
   "source": [
    "b =deque([[[3,4],[4,5]]])\n",
    "b.popleft()"
   ]
  },
  {
   "cell_type": "code",
   "execution_count": null,
   "id": "d24b1ef4",
   "metadata": {},
   "outputs": [],
   "source": [
    "print('q:',q)\n",
    "        now = q.popleft()\n",
    "        print('now:',now)\n",
    "        print('history:',history)\n",
    "        for i in range(4):"
   ]
  },
  {
   "cell_type": "code",
   "execution_count": null,
   "id": "a013161c",
   "metadata": {},
   "outputs": [],
   "source": []
  },
  {
   "cell_type": "code",
   "execution_count": null,
   "id": "1ba5f631",
   "metadata": {},
   "outputs": [],
   "source": []
  },
  {
   "cell_type": "code",
   "execution_count": null,
   "id": "ea4c8e5d",
   "metadata": {},
   "outputs": [],
   "source": [
    "now = [1,2,3]\n",
    "result = now[:-1]\n",
    "result"
   ]
  },
  {
   "cell_type": "code",
   "execution_count": 1,
   "id": "e7d2f018",
   "metadata": {},
   "outputs": [
    {
     "name": "stdout",
     "output_type": "stream",
     "text": [
      "2 3\n"
     ]
    }
   ],
   "source": [
    "a=1\n",
    "b=2\n",
    "a = b\n",
    "b += 1\n",
    "print(a,b)"
   ]
  },
  {
   "cell_type": "code",
   "execution_count": 21,
   "id": "02b7571a",
   "metadata": {},
   "outputs": [
    {
     "ename": "TypeError",
     "evalue": "an integer is required",
     "output_type": "error",
     "traceback": [
      "\u001b[1;31m---------------------------------------------------------------------------\u001b[0m",
      "\u001b[1;31mTypeError\u001b[0m                                 Traceback (most recent call last)",
      "\u001b[1;32mC:\\Users\\NAJONG~1\\AppData\\Local\\Temp/ipykernel_24420/2760380558.py\u001b[0m in \u001b[0;36m<module>\u001b[1;34m\u001b[0m\n\u001b[1;32m----> 1\u001b[1;33m \u001b[0mq\u001b[0m \u001b[1;33m=\u001b[0m \u001b[0mdeque\u001b[0m\u001b[1;33m(\u001b[0m\u001b[1;33m[\u001b[0m\u001b[1;33m[\u001b[0m\u001b[1;36m0\u001b[0m\u001b[1;33m,\u001b[0m\u001b[1;36m0\u001b[0m\u001b[1;33m]\u001b[0m\u001b[1;33m,\u001b[0m\u001b[1;33m[\u001b[0m\u001b[1;36m0\u001b[0m\u001b[1;33m,\u001b[0m\u001b[1;36m1\u001b[0m\u001b[1;33m]\u001b[0m\u001b[1;33m]\u001b[0m\u001b[1;33m,\u001b[0m\u001b[1;33m[\u001b[0m\u001b[1;33m[\u001b[0m\u001b[1;36m0\u001b[0m\u001b[1;33m,\u001b[0m\u001b[1;36m0\u001b[0m\u001b[1;33m]\u001b[0m\u001b[1;33m,\u001b[0m\u001b[1;33m[\u001b[0m\u001b[1;36m0\u001b[0m\u001b[1;33m,\u001b[0m\u001b[1;36m3\u001b[0m\u001b[1;33m]\u001b[0m\u001b[1;33m]\u001b[0m\u001b[1;33m)\u001b[0m\u001b[1;33m\u001b[0m\u001b[1;33m\u001b[0m\u001b[0m\n\u001b[0m\u001b[0;32m      2\u001b[0m \u001b[0mnow\u001b[0m \u001b[1;33m=\u001b[0m \u001b[0mq\u001b[0m\u001b[1;33m.\u001b[0m\u001b[0mpopleft\u001b[0m\u001b[1;33m(\u001b[0m\u001b[1;33m)\u001b[0m\u001b[1;33m\u001b[0m\u001b[1;33m\u001b[0m\u001b[0m\n\u001b[0;32m      3\u001b[0m \u001b[0mprint\u001b[0m\u001b[1;33m(\u001b[0m\u001b[0mnow\u001b[0m\u001b[1;33m)\u001b[0m\u001b[1;33m\u001b[0m\u001b[1;33m\u001b[0m\u001b[0m\n",
      "\u001b[1;31mTypeError\u001b[0m: an integer is required"
     ]
    }
   ],
   "source": [
    "q = deque([[0,0],[0,1]],[[0,0],[0,3]])\n",
    "now = q.popleft()\n",
    "print(now)"
   ]
  },
  {
   "cell_type": "code",
   "execution_count": 4,
   "id": "b53dcbd1",
   "metadata": {},
   "outputs": [
    {
     "ename": "TypeError",
     "evalue": "unhashable type: 'list'",
     "output_type": "error",
     "traceback": [
      "\u001b[1;31m---------------------------------------------------------------------------\u001b[0m",
      "\u001b[1;31mTypeError\u001b[0m                                 Traceback (most recent call last)",
      "\u001b[1;32mC:\\Users\\NAJONG~1\\AppData\\Local\\Temp/ipykernel_24420/2157664670.py\u001b[0m in \u001b[0;36m<module>\u001b[1;34m\u001b[0m\n\u001b[0;32m      1\u001b[0m \u001b[0mdata\u001b[0m \u001b[1;33m=\u001b[0m \u001b[1;33m{\u001b[0m\u001b[1;33m}\u001b[0m\u001b[1;33m\u001b[0m\u001b[1;33m\u001b[0m\u001b[0m\n\u001b[0;32m      2\u001b[0m \u001b[0mrobot\u001b[0m \u001b[1;33m=\u001b[0m \u001b[1;33m[\u001b[0m\u001b[1;33m[\u001b[0m\u001b[1;36m0\u001b[0m\u001b[1;33m,\u001b[0m\u001b[1;36m0\u001b[0m\u001b[1;33m]\u001b[0m\u001b[1;33m,\u001b[0m\u001b[1;33m[\u001b[0m\u001b[1;36m0\u001b[0m\u001b[1;33m,\u001b[0m\u001b[1;36m1\u001b[0m\u001b[1;33m]\u001b[0m\u001b[1;33m]\u001b[0m\u001b[1;33m\u001b[0m\u001b[1;33m\u001b[0m\u001b[0m\n\u001b[1;32m----> 3\u001b[1;33m \u001b[0mdata\u001b[0m\u001b[1;33m[\u001b[0m\u001b[0mrobot\u001b[0m\u001b[1;33m]\u001b[0m \u001b[1;33m=\u001b[0m \u001b[1;36m1\u001b[0m\u001b[1;33m\u001b[0m\u001b[1;33m\u001b[0m\u001b[0m\n\u001b[0m\u001b[0;32m      4\u001b[0m \u001b[0mdata\u001b[0m\u001b[1;33m\u001b[0m\u001b[1;33m\u001b[0m\u001b[0m\n",
      "\u001b[1;31mTypeError\u001b[0m: unhashable type: 'list'"
     ]
    }
   ],
   "source": [
    "data = {}\n",
    "robot = [[0,0],[0,1]]\n",
    "data[robot[0][0][ = 1\n",
    "data"
   ]
  },
  {
   "cell_type": "code",
   "execution_count": 40,
   "id": "93177b94",
   "metadata": {},
   "outputs": [
    {
     "name": "stdout",
     "output_type": "stream",
     "text": [
      "0\n",
      "2\n",
      "4\n",
      "6\n"
     ]
    }
   ],
   "source": [
    "a=[1,2,3,4,5,6,76,7]\n",
    "for i in range(0, len(a), 2):\n",
    "    print(i)"
   ]
  },
  {
   "cell_type": "code",
   "execution_count": 24,
   "id": "c7ac77f2",
   "metadata": {},
   "outputs": [
    {
     "data": {
      "text/plain": [
       "[[[0, 0], [0, 1]]]"
      ]
     },
     "execution_count": 24,
     "metadata": {},
     "output_type": "execute_result"
    }
   ],
   "source": [
    "robot = [[0,0],[0,1]]\n",
    "history = []\n",
    "history.append(robot)\n",
    "history"
   ]
  },
  {
   "cell_type": "code",
   "execution_count": 20,
   "id": "6ce6a516",
   "metadata": {},
   "outputs": [
    {
     "name": "stdout",
     "output_type": "stream",
     "text": [
      "[[0, 0, 0, 0, 0], [0, 0, 0, 1, 1], [0, 0, 0, 1, 0], [0, 1, 0, 1, 1], [1, 1, 0, 0, 1], [0, 0, 0, 0, 0]]\n"
     ]
    }
   ],
   "source": [
    "board = [[0, 0, 0, 1, 1],[0, 0, 0, 1, 0],[0, 1, 0, 1, 1],[1, 1, 0, 0, 1],[0, 0, 0, 0, 0]]\n",
    "new_board = [[0 for _ in range (n)]]\n",
    "for i in board:\n",
    "    new_board.append(i)\n",
    "print(new_board)"
   ]
  },
  {
   "cell_type": "code",
   "execution_count": 1,
   "id": "a33489be",
   "metadata": {},
   "outputs": [],
   "source": [
    "a=123"
   ]
  }
 ],
 "metadata": {
  "kernelspec": {
   "display_name": "Python 3 (ipykernel)",
   "language": "python",
   "name": "python3"
  },
  "language_info": {
   "codemirror_mode": {
    "name": "ipython",
    "version": 3
   },
   "file_extension": ".py",
   "mimetype": "text/x-python",
   "name": "python",
   "nbconvert_exporter": "python",
   "pygments_lexer": "ipython3",
   "version": "3.9.7"
  }
 },
 "nbformat": 4,
 "nbformat_minor": 5
}
