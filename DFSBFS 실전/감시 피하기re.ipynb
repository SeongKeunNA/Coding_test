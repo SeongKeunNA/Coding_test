{
 "cells": [
  {
   "cell_type": "markdown",
   "id": "2b12f17e",
   "metadata": {},
   "source": [
    "# 코딩 전 생각"
   ]
  },
  {
   "cell_type": "code",
   "execution_count": null,
   "id": "1002d45e",
   "metadata": {},
   "outputs": [],
   "source": [
    "\"\"\"\"\"\"\"\"\"\"\n",
    "벽 세우기 문제처럼 dfs를 이용해서 장애물을 세우고, 장애물이 세 개라면 모든 학생들이 감시를 피할 수 있는지 확인한다.\n",
    "\n",
    "1. 맵의 정보를 나타내는 hall 리스트 작성\n",
    "\n",
    "2. 선생님의 위치 정보와 학생들의 위치 정보를 각각 리스트에 작성\n",
    "\n",
    "3. dfs 함수 구현\n",
    "\n",
    "4. check 함수 구현\n",
    "\"\"\"\"\"\"\"\"\"\""
   ]
  },
  {
   "cell_type": "markdown",
   "id": "f2a9ad99",
   "metadata": {},
   "source": [
    "# 내 답안"
   ]
  },
  {
   "cell_type": "code",
   "execution_count": 27,
   "id": "4588d83c",
   "metadata": {},
   "outputs": [
    {
     "name": "stdout",
     "output_type": "stream",
     "text": [
      "4\n",
      "S S S T\n",
      "X X X X\n",
      "X X X X\n",
      "T T T X\n",
      "NO\n"
     ]
    }
   ],
   "source": [
    "n = int(input())\n",
    "hall = []\n",
    "students = []\n",
    "teachers = []\n",
    "\n",
    "for i in range(n):\n",
    "    data = list(input().split())\n",
    "    hall.append(data)\n",
    "    for j in range(n):\n",
    "        if data[j] == 'T':\n",
    "            teachers.append((i, j))\n",
    "possible = \"NO\"\n",
    "\n",
    "def dfs(cnt):\n",
    "    global possible, ck\n",
    "    if cnt == 3:\n",
    "        ck = 0\n",
    "        for tx, ty in teachers:\n",
    "            for i in range(4):\n",
    "                spot(tx, ty, i)\n",
    "                if ck == 1:\n",
    "                    return\n",
    "    \n",
    "        possible = \"YES\"\n",
    "        return\n",
    "    \n",
    "    for i in range(n):\n",
    "        for j in range(n):\n",
    "            if hall[i][j] == 'X':\n",
    "                hall[i][j] = \"O\"\n",
    "                cnt += 1\n",
    "                dfs(cnt)\n",
    "                cnt -= 1\n",
    "                hall[i][j] = \"X\"\n",
    "    return False\n",
    "dx = [0, 0, 1, -1]\n",
    "dy = [1, -1, 0 ,0]\n",
    "\n",
    "def spot(x, y, direction):\n",
    "    global ck\n",
    "    nx = x + dx[direction]\n",
    "    ny = y + dy[direction]\n",
    "    if 0 <= nx < n and 0 <= ny < n:    \n",
    "        if hall[nx][ny] == 'S':\n",
    "            ck = 1\n",
    "            return\n",
    "        elif hall[nx][ny] == 'T' or hall[nx][ny] == 'O':\n",
    "            return\n",
    "        else:\n",
    "            spot(nx, ny, direction)\n",
    "dfs(0)\n",
    "print(possible)"
   ]
  },
  {
   "cell_type": "markdown",
   "id": "21da2747",
   "metadata": {},
   "source": [
    "# 답안 작성 후 생각"
   ]
  },
  {
   "cell_type": "code",
   "execution_count": null,
   "id": "eb8ded37",
   "metadata": {},
   "outputs": [],
   "source": [
    "\"\"\"\"\"\"\"\"\"\"\n",
    "처음 생각했던 것보다는 어려웠지만 풀이에 성공했다.\n",
    "\n",
    "dfs함수와 spot함수 모두 dfs로 구현하고 조건을 만족하는지 판단하는게 중첩되어 헷갈렸다.\n",
    "\n",
    "possible = 'YES'라고 갱신하는 부분이 if cnt== 3: 문 밖에 있는 것을 확인하지 못한 것도 시간을 지체하는 데 한 몫했다.\n",
    "\"\"\"\"\"\"\"\"\"\""
   ]
  },
  {
   "cell_type": "markdown",
   "id": "a0bc9ac5",
   "metadata": {},
   "source": [
    "# 정답"
   ]
  },
  {
   "cell_type": "code",
   "execution_count": null,
   "id": "7f07e9ff",
   "metadata": {},
   "outputs": [],
   "source": [
    "from itertools import combinations\n",
    "\n",
    "n = int(input())\n",
    "board = []\n",
    "teachers = []\n",
    "spaces = []\n",
    "\n",
    "for i in range(n):\n",
    "    board.append(list(input().split()))\n",
    "    for j in range(n):\n",
    "        if board[i][j] == 'T':\n",
    "            teachers.append((i, j))\n",
    "        if board[i][j] == 'X':\n",
    "            spaces.append((i, j))\n",
    "def watch(x, y, direction):\n",
    "    if direction == 0:\n",
    "        while y >= 0:\n",
    "            if board[x][y] == 'S':\n",
    "                return True\n",
    "            if board[x][y] == 'O':\n",
    "                return False\n",
    "            y -= 1\n",
    "    if direction == 1:\n",
    "        while y < n:\n",
    "            if board[x][y] == 'S':\n",
    "                return True\n",
    "            if board[x][y] == 'O':\n",
    "                return False\n",
    "            y += 1\n",
    "    if direction == 2:\n",
    "        while x >= 0:\n",
    "            if board[x][y] == 'S':\n",
    "                return True\n",
    "            if board[x][y] == 'O':\n",
    "                return False\n",
    "            x -= 1\n",
    "    if direction == 3:\n",
    "        while x < n:\n",
    "            if board[x][y] == 'S':\n",
    "                return True\n",
    "            if board[x][y] == 'O':\n",
    "                return False\n",
    "            x += 1\n",
    "    return False\n",
    "\n",
    "def process():\n",
    "    for x, y in teachers:\n",
    "        for i in range(4):\n",
    "            if watch(x, y, i):\n",
    "                return True\n",
    "    return False\n",
    "\n",
    "find = False\n",
    "\n",
    "for data in combinations(spaces, 3):\n",
    "    for x, y in data:\n",
    "        board[x][y] = 'O'\n",
    "    if not process():\n",
    "        find = True\n",
    "        break\n",
    "    for x, y in data:\n",
    "        board[x][y] = 'X'\n",
    "if find:\n",
    "    print('YES')\n",
    "else:\n",
    "    print('NO')"
   ]
  },
  {
   "cell_type": "markdown",
   "id": "3e015df1",
   "metadata": {},
   "source": [
    "# 정답 확인 후 생각"
   ]
  },
  {
   "cell_type": "code",
   "execution_count": null,
   "id": "950aa6f1",
   "metadata": {},
   "outputs": [],
   "source": [
    "\"\"\"\"\"\"\"\"\"\"\n",
    "1. dfs나 bfs를 이용하지 않고 조합 라이브러리를 이용함\n",
    "\n",
    "2. watch 함수 역시 dfs가 아니라 반복문으로 구현함\n",
    "\n",
    "3. process() 함수 역시 따로 구현하여 불필요한 반복을 줄여 효율적이고 깔끔한 코드\n",
    "\"\"\"\"\"\"\"\"\"\""
   ]
  }
 ],
 "metadata": {
  "kernelspec": {
   "display_name": "Python 3 (ipykernel)",
   "language": "python",
   "name": "python3"
  },
  "language_info": {
   "codemirror_mode": {
    "name": "ipython",
    "version": 3
   },
   "file_extension": ".py",
   "mimetype": "text/x-python",
   "name": "python",
   "nbconvert_exporter": "python",
   "pygments_lexer": "ipython3",
   "version": "3.7.13"
  }
 },
 "nbformat": 4,
 "nbformat_minor": 5
}
