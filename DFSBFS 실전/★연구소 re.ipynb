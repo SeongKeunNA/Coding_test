{
 "cells": [
  {
   "cell_type": "markdown",
   "id": "25df1351",
   "metadata": {},
   "source": [
    "# 코딩 전 생각"
   ]
  },
  {
   "cell_type": "code",
   "execution_count": null,
   "id": "39579af6",
   "metadata": {},
   "outputs": [],
   "source": [
    "\"\"\"\"\"\"\"\"\"\"\n",
    "가능한 빈칸의 최댓값은 62개이고 여기에 3개의 벽을 세우는 경우의 수는 62c3으로 약 37820가지로, 크지 않다.\n",
    "\n",
    "즉, 모든 경우의 수를 계산하여 벽을 세 개 세우고, 바이러스 확산을 시뮬레이션한 뒤 빈칸의 개수를 안전영역으로 하여 최솟값을 구한다.\n",
    "\"\"\"\"\"\"\"\"\"\""
   ]
  },
  {
   "cell_type": "markdown",
   "id": "95db3811",
   "metadata": {},
   "source": [
    "# 내 답안"
   ]
  },
  {
   "cell_type": "code",
   "execution_count": null,
   "id": "b32a7c4e",
   "metadata": {},
   "outputs": [],
   "source": [
    "1 1 1 0 0\n",
    ".2 1 0 0 1\n",
    "2 2 .2 1 1\n",
    "1 2 1 .2 1\n",
    "1 1 0 0 0"
   ]
  },
  {
   "cell_type": "code",
   "execution_count": 6,
   "id": "41fc0865",
   "metadata": {},
   "outputs": [
    {
     "ename": "KeyboardInterrupt",
     "evalue": "Interrupted by user",
     "output_type": "error",
     "traceback": [
      "\u001b[1;31m---------------------------------------------------------------------------\u001b[0m",
      "\u001b[1;31mKeyboardInterrupt\u001b[0m                         Traceback (most recent call last)",
      "Input \u001b[1;32mIn [6]\u001b[0m, in \u001b[0;36m<cell line: 2>\u001b[1;34m()\u001b[0m\n\u001b[0;32m      1\u001b[0m \u001b[38;5;28;01mimport\u001b[39;00m \u001b[38;5;21;01mcopy\u001b[39;00m\n\u001b[1;32m----> 2\u001b[0m n, m \u001b[38;5;241m=\u001b[39m \u001b[38;5;28mmap\u001b[39m(\u001b[38;5;28mint\u001b[39m ,\u001b[38;5;28;43minput\u001b[39;49m\u001b[43m(\u001b[49m\u001b[43m)\u001b[49m\u001b[38;5;241m.\u001b[39msplit())\n\u001b[0;32m      3\u001b[0m graph \u001b[38;5;241m=\u001b[39m []\n\u001b[0;32m      4\u001b[0m virus \u001b[38;5;241m=\u001b[39m []\n",
      "File \u001b[1;32mD:\\userDATA\\anaconda3\\envs\\pt1.1\\lib\\site-packages\\ipykernel\\kernelbase.py:1075\u001b[0m, in \u001b[0;36mKernel.raw_input\u001b[1;34m(self, prompt)\u001b[0m\n\u001b[0;32m   1071\u001b[0m \u001b[38;5;28;01mif\u001b[39;00m \u001b[38;5;129;01mnot\u001b[39;00m \u001b[38;5;28mself\u001b[39m\u001b[38;5;241m.\u001b[39m_allow_stdin:\n\u001b[0;32m   1072\u001b[0m     \u001b[38;5;28;01mraise\u001b[39;00m StdinNotImplementedError(\n\u001b[0;32m   1073\u001b[0m         \u001b[38;5;124m\"\u001b[39m\u001b[38;5;124mraw_input was called, but this frontend does not support input requests.\u001b[39m\u001b[38;5;124m\"\u001b[39m\n\u001b[0;32m   1074\u001b[0m     )\n\u001b[1;32m-> 1075\u001b[0m \u001b[38;5;28;01mreturn\u001b[39;00m \u001b[38;5;28;43mself\u001b[39;49m\u001b[38;5;241;43m.\u001b[39;49m\u001b[43m_input_request\u001b[49m\u001b[43m(\u001b[49m\n\u001b[0;32m   1076\u001b[0m \u001b[43m    \u001b[49m\u001b[38;5;28;43mstr\u001b[39;49m\u001b[43m(\u001b[49m\u001b[43mprompt\u001b[49m\u001b[43m)\u001b[49m\u001b[43m,\u001b[49m\n\u001b[0;32m   1077\u001b[0m \u001b[43m    \u001b[49m\u001b[38;5;28;43mself\u001b[39;49m\u001b[38;5;241;43m.\u001b[39;49m\u001b[43m_parent_ident\u001b[49m\u001b[43m[\u001b[49m\u001b[38;5;124;43m\"\u001b[39;49m\u001b[38;5;124;43mshell\u001b[39;49m\u001b[38;5;124;43m\"\u001b[39;49m\u001b[43m]\u001b[49m\u001b[43m,\u001b[49m\n\u001b[0;32m   1078\u001b[0m \u001b[43m    \u001b[49m\u001b[38;5;28;43mself\u001b[39;49m\u001b[38;5;241;43m.\u001b[39;49m\u001b[43mget_parent\u001b[49m\u001b[43m(\u001b[49m\u001b[38;5;124;43m\"\u001b[39;49m\u001b[38;5;124;43mshell\u001b[39;49m\u001b[38;5;124;43m\"\u001b[39;49m\u001b[43m)\u001b[49m\u001b[43m,\u001b[49m\n\u001b[0;32m   1079\u001b[0m \u001b[43m    \u001b[49m\u001b[43mpassword\u001b[49m\u001b[38;5;241;43m=\u001b[39;49m\u001b[38;5;28;43;01mFalse\u001b[39;49;00m\u001b[43m,\u001b[49m\n\u001b[0;32m   1080\u001b[0m \u001b[43m\u001b[49m\u001b[43m)\u001b[49m\n",
      "File \u001b[1;32mD:\\userDATA\\anaconda3\\envs\\pt1.1\\lib\\site-packages\\ipykernel\\kernelbase.py:1120\u001b[0m, in \u001b[0;36mKernel._input_request\u001b[1;34m(self, prompt, ident, parent, password)\u001b[0m\n\u001b[0;32m   1117\u001b[0m             \u001b[38;5;28;01mbreak\u001b[39;00m\n\u001b[0;32m   1118\u001b[0m \u001b[38;5;28;01mexcept\u001b[39;00m \u001b[38;5;167;01mKeyboardInterrupt\u001b[39;00m:\n\u001b[0;32m   1119\u001b[0m     \u001b[38;5;66;03m# re-raise KeyboardInterrupt, to truncate traceback\u001b[39;00m\n\u001b[1;32m-> 1120\u001b[0m     \u001b[38;5;28;01mraise\u001b[39;00m \u001b[38;5;167;01mKeyboardInterrupt\u001b[39;00m(\u001b[38;5;124m\"\u001b[39m\u001b[38;5;124mInterrupted by user\u001b[39m\u001b[38;5;124m\"\u001b[39m) \u001b[38;5;28;01mfrom\u001b[39;00m \u001b[38;5;28mNone\u001b[39m\n\u001b[0;32m   1121\u001b[0m \u001b[38;5;28;01mexcept\u001b[39;00m \u001b[38;5;167;01mException\u001b[39;00m:\n\u001b[0;32m   1122\u001b[0m     \u001b[38;5;28mself\u001b[39m\u001b[38;5;241m.\u001b[39mlog\u001b[38;5;241m.\u001b[39mwarning(\u001b[38;5;124m\"\u001b[39m\u001b[38;5;124mInvalid Message:\u001b[39m\u001b[38;5;124m\"\u001b[39m, exc_info\u001b[38;5;241m=\u001b[39m\u001b[38;5;28;01mTrue\u001b[39;00m)\n",
      "\u001b[1;31mKeyboardInterrupt\u001b[0m: Interrupted by user"
     ]
    }
   ],
   "source": [
    "n, m = map(int ,input().split())\n",
    "graph = []\n",
    "virus = []\n",
    "for i in range(n):\n",
    "    data = list(map(int, input().split()))\n",
    "    for j in range(m):\n",
    "        if data[j] == 2:\n",
    "            virus.append((i,j))\n",
    "    graph.append(data)\n",
    "    \n",
    "wall_cnt = 0\n",
    "def dfs():\n",
    "    global graph\n",
    "    global wall_cnt\n",
    "    global max_value\n",
    "    if wall_cnt == 3:\n",
    "        simul_graph = copy.deepcopy(graph)\n",
    "        for x,y in virus:\n",
    "            simul_graph = simulate(x,y, simul_graph)\n",
    "        safe = 0\n",
    "        for i in range(n):\n",
    "            for j in range(m):\n",
    "                if simul_graph[i][j] == 0:\n",
    "                    safe += 1\n",
    "        max_value = max(max_value, safe)\n",
    "        return\n",
    "    for i in range(n):\n",
    "        for j in range(m):\n",
    "            if graph[i][j] == 0:\n",
    "                wall_cnt += 1\n",
    "                graph[i][j] = 1\n",
    "                dfs()\n",
    "                graph[i][j] = 0\n",
    "                wall_cnt -= 1\n",
    "                \n",
    "dx = [-1, 1, 0, 0]\n",
    "dy = [0, 0, -1, 1]\n",
    "\n",
    "def simulate(x, y, graph):\n",
    "    for i in range(4):\n",
    "        nx = x + dx[i]\n",
    "        ny = y + dy[i]\n",
    "        if 0 <= nx < n and 0 <= ny  < m and graph[nx][ny] == 0:\n",
    "            graph[nx][ny] = 2\n",
    "            simulate(nx, ny, graph)\n",
    "    return graph\n",
    "\n",
    "max_value = -1e9\n",
    "dfs()\n",
    "print(max_value)"
   ]
  },
  {
   "cell_type": "markdown",
   "id": "a62a9b80",
   "metadata": {},
   "source": [
    "# 답안 작성 후 생각"
   ]
  },
  {
   "cell_type": "code",
   "execution_count": null,
   "id": "7b31fba7",
   "metadata": {},
   "outputs": [],
   "source": [
    "\"\"\"\"\"\"\"\"\"\"\n",
    "처음 문제를 풀 때와 달리 벽을 세우는 과정도 dfs를 이용했다. copy.deepcopy를 매 번 반복해서 그런지 시간은 3580ms로\n",
    "\n",
    "오래 걸렸지만, 백준에서도 pypy3로 통과했다.\n",
    "\"\"\"\"\"\"\"\"\"\""
   ]
  },
  {
   "cell_type": "markdown",
   "id": "d7c37bf0",
   "metadata": {},
   "source": [
    "# 정답"
   ]
  },
  {
   "cell_type": "code",
   "execution_count": null,
   "id": "16320e97",
   "metadata": {},
   "outputs": [],
   "source": [
    "n, m = map(int, input().split())\n",
    "data = [] # 초기 맵 리스트\n",
    "temp = [[0] * m for _ in range(n)] # 벽을 설치한 뒤의 맵 리스트\n",
    "\n",
    "for _ in range(n):\n",
    "    data.append(list(map(int, input().split())))\n",
    "    \n",
    "dx = [-1, 0, 1, 0]\n",
    "dy = [0, 1, 0, -1]\n",
    "\n",
    "result = 0\n",
    "\n",
    "def virus(x, y):\n",
    "    for i in range(4):\n",
    "        nx = x + dx[i]\n",
    "        ny = y + dy[i]\n",
    "        if nx >= 0 and nx < n and ny >= 0 and ny < m:\n",
    "            if temp[nx][ny] == 0:\n",
    "                temp[nx][ny] = 2\n",
    "                virus(nx, ny)\n",
    "def get_score():\n",
    "    score = 0\n",
    "    for i in range(n):\n",
    "        for j in range(m):\n",
    "            if temp[i][j] == 0:\n",
    "                score += 1\n",
    "    return score\n",
    "\n",
    "def dfs(count):\n",
    "    global result\n",
    "    if count == 3:\n",
    "        for i in range(n):\n",
    "            for j in range(m):\n",
    "                temp[i][j] = data[i][j]\n",
    "        for i in range(n):\n",
    "            for j in range(m):\n",
    "                if temp[i][j] == 2:\n",
    "                    virus(i, j)\n",
    "        result = max(result, get_score())\n",
    "        return\n",
    "    \n",
    "    for i in range(n):\n",
    "        for j in range(m):\n",
    "            if data[i][j] == 0:\n",
    "                data[i][j] = 1\n",
    "                count += 1\n",
    "                dfs(count)\n",
    "                data[i][j] = 0\n",
    "                count -= 1\n",
    "dfs(0)\n",
    "print(result)"
   ]
  },
  {
   "cell_type": "markdown",
   "id": "74e9ff7a",
   "metadata": {},
   "source": [
    "# 정답 확인 후 생각"
   ]
  },
  {
   "cell_type": "code",
   "execution_count": null,
   "id": "9abb1119",
   "metadata": {},
   "outputs": [],
   "source": [
    "\"\"\"\"\"\"\"\"\"\"\n",
    "1. copy.deepcopy를 사용하지 않고, temp 리스트를 이용해 이중 for 문으로 매 번 data의 값을 temp로 옮겼다.\n",
    "\n",
    "2. dfs 함수에서 result(max_value) global로 불러오고 count는 인수로 가졌다. graph 역시 temp를 이용하므로 따로 선언할 필요없다.\n",
    "\n",
    "3. get_score 함수도 따로 구현했다.\n",
    "\"\"\"\"\"\"\"\"\"\""
   ]
  },
  {
   "cell_type": "markdown",
   "id": "e7b2f6ee",
   "metadata": {},
   "source": [
    "# 정답 확인 후 변형 답안"
   ]
  },
  {
   "cell_type": "code",
   "execution_count": 14,
   "id": "d80ed6e9",
   "metadata": {},
   "outputs": [
    {
     "name": "stdout",
     "output_type": "stream",
     "text": [
      "4 6\n",
      "0 0 0 0 0 0\n",
      "1 0 0 0 0 2\n",
      "1 1 1 0 0 2\n",
      "0 0 0 0 0 2\n",
      "9\n"
     ]
    }
   ],
   "source": [
    "from itertools import combinations\n",
    "n, m = map(int ,input().split())\n",
    "graph = []\n",
    "virus = []\n",
    "zero = []\n",
    "dx = [-1, 1, 0, 0]\n",
    "dy = [0, 0, -1, 1]\n",
    "\n",
    "def simulate(x, y):\n",
    "    for i in range(4):\n",
    "        nx = x + dx[i]\n",
    "        ny = y + dy[i]\n",
    "        if 0 <= nx < n and 0 <= ny  < m and temp[nx][ny] == 0:\n",
    "            temp[nx][ny] = 2\n",
    "            simulate(nx, ny)\n",
    "            \n",
    "for i in range(n):\n",
    "    data = list(map(int, input().split()))\n",
    "    for j in range(m):\n",
    "        if data[j] == 2:\n",
    "            virus.append((i,j))\n",
    "        if data[j] == 0:\n",
    "            zero.append((i,j))                      \n",
    "    graph.append(data)\n",
    "    \n",
    "possible_zero = list(combinations(zero, 3))\n",
    "max_value = -1e9\n",
    "for z in possible_zero:\n",
    "    temp = [i[:] for i in graph]\n",
    "\n",
    "    for x, y in z:\n",
    "        temp[x][y] = 1\n",
    "    for x, y in virus:\n",
    "        simulate(x, y)  \n",
    "    safe = 0\n",
    "    for i in range(n):\n",
    "        for j in range(m):\n",
    "            if temp[i][j] == 0:\n",
    "                safe += 1\n",
    "    max_value = max(max_value, safe)\n",
    "print(max_value)"
   ]
  },
  {
   "cell_type": "markdown",
   "id": "b3fcfe7f",
   "metadata": {},
   "source": [
    "# 답안 작성 후 생각"
   ]
  },
  {
   "cell_type": "code",
   "execution_count": null,
   "id": "00d9617e",
   "metadata": {},
   "outputs": [],
   "source": [
    "\"\"\"\"\"\"\"\"\"\"\n",
    "시간복잡도를 줄이기 위해 combinations를 사용했다.\n",
    "\n",
    "copy.deepcopy를 대체하는  temp = [i[:] for i in graph] 구문도 처음 사용해봤다.\n",
    "\n",
    "시간이 636ms로 감소했다.\n",
    "\"\"\"\"\"\"\"\"\"\""
   ]
  }
 ],
 "metadata": {
  "kernelspec": {
   "display_name": "Python 3 (ipykernel)",
   "language": "python",
   "name": "python3"
  },
  "language_info": {
   "codemirror_mode": {
    "name": "ipython",
    "version": 3
   },
   "file_extension": ".py",
   "mimetype": "text/x-python",
   "name": "python",
   "nbconvert_exporter": "python",
   "pygments_lexer": "ipython3",
   "version": "3.9.12"
  }
 },
 "nbformat": 4,
 "nbformat_minor": 5
}
