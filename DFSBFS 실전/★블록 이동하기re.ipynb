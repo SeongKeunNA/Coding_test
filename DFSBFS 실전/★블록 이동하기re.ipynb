{
 "cells": [
  {
   "cell_type": "markdown",
   "id": "44992703",
   "metadata": {},
   "source": [
    "# 코딩 전 생각"
   ]
  },
  {
   "cell_type": "code",
   "execution_count": null,
   "id": "2ac5a8ec",
   "metadata": {},
   "outputs": [],
   "source": [
    "\"\"\"\"\"\"\"\"\"\"\n",
    "1. 맵 생성\n",
    "\n",
    "2. 로봇의 각 바퀴의 현재 행, 열, 놓여진 방향을 담는 리스트를 생성 (fx, fy, rx, ry, d)\n",
    "\n",
    "3. 로봇의 상하좌우 이동을 구현하는 move 함수\n",
    "\n",
    "4. 로봇의 시계, 반시계 회전을 구현하는 rotate 함수\n",
    "\n",
    "5. 로봇 상태 정보와 경과 시간을 원소로 갖는 deque를 이용해 bfs로 정답 구하기\n",
    "\"\"\"\"\"\"\"\"\"\""
   ]
  },
  {
   "cell_type": "markdown",
   "id": "00a1d607",
   "metadata": {},
   "source": [
    "# 내 답안"
   ]
  },
  {
   "cell_type": "code",
   "execution_count": 9,
   "id": "28e6e496",
   "metadata": {},
   "outputs": [
    {
     "data": {
      "text/plain": [
       "7"
      ]
     },
     "execution_count": 9,
     "metadata": {},
     "output_type": "execute_result"
    }
   ],
   "source": [
    "from collections import deque\n",
    "def solution(board):\n",
    "    n = len(board)\n",
    "    dx = [0, 0, -1, 1]\n",
    "    dy = [1,-1, 0, 0]\n",
    "    q = deque([[0, 0, 0, 1, 0, 0]]) \n",
    "    \n",
    "    def move(fx, fy, rx, ry, direc, cnt, i):\n",
    "        for x, y in [(fx, fy), (rx, ry)]:\n",
    "            nx = x + dx[i]\n",
    "            ny = y + dy[i]\n",
    "            if 0 > nx or nx >= n or 0 > ny or ny >= n or board[nx][ny] == 1:\n",
    "                return [fx, fy, rx, ry, direc, cnt]\n",
    "        return [fx+dx[i], fy+dy[i], rx+dx[i], ry+dy[i], direc, cnt+1]\n",
    "\n",
    "    def rotate(fx, fy, rx, ry, direc, cnt, axis, clck):\n",
    "        tire = [(fx, fy), (rx,ry)]\n",
    "        if 0 <= tire[1-axis][0]+(1-direc)*clck < n and 0 <= tire[1-axis][1]+direc*clck < n:\n",
    "            if board[tire[1-axis][0]+(1-direc)*clck][tire[1-axis][1]+direc*clck] == 0 and board[tire[axis][0]+(1-direc)*clck][tire[axis][1]+direc*clck] == 0:\n",
    "                return [tire[axis][0]+(1-direc)*clck, tire[axis][1]+direc*clck, tire[axis][0], tire[axis][1], 1-direc, cnt+1]   \n",
    "        return [fx, fy, rx, ry, direc, cnt+1]\n",
    "    \n",
    "    hist = [0,0,0,1]\n",
    "    while q:\n",
    "        fx, fy, rx, ry, direc, cnt = q.popleft()\n",
    "        if (fx == n-1 and fy == n-1) or (rx == n-1 and ry == n-1):\n",
    "            return cnt\n",
    "        \n",
    "        for i in range(4):\n",
    "            new_robot = move(fx, fy, rx, ry, direc, cnt, i)\n",
    "            if new_robot[:-1] != [fx, fy, rx, ry, direc]:\n",
    "                a, b, c, d = new_robot[:4]\n",
    "                if [a, b, c, d] not in hist and [c, d, a, b] not in hist:     \n",
    "                    hist.append([a, b, c, d])\n",
    "                    q.append(new_robot)\n",
    "        for axis in [0, 1]:\n",
    "            for clck in [1, -1]:\n",
    "                new_robot = rotate(fx, fy, rx, ry, direc, cnt, axis, clck)\n",
    "                if new_robot[:-1] != [fx, fy, rx, ry, direc]:\n",
    "                    a, b, c, d = new_robot[:4]\n",
    "                    if [a, b, c, d] not in hist and [c, d, a, b] not in hist:     \n",
    "                        hist.append([a, b, c, d])\n",
    "                        q.append(new_robot)\n"
   ]
  },
  {
   "cell_type": "markdown",
   "id": "ccbc62cf",
   "metadata": {},
   "source": [
    "# 답안 작성 후 생각"
   ]
  },
  {
   "cell_type": "code",
   "execution_count": null,
   "id": "d77b48d2",
   "metadata": {},
   "outputs": [],
   "source": [
    "\"\"\"\"\"\"\"\"\"\"\n",
    "bfs와 과거 기록을 담는 hist를 이용한 완전탐색으로 해결했다.\n",
    "\n",
    "함수의 인자와 큐에 너무 많은 수의 인자와 원소가 들어가서 가독성이 떨어지지만, \n",
    "\n",
    "프로그래머스 채점 사이트에서도 문제없이 통과했다.\n",
    "\n",
    "dfs로도 풀 수 있을까?\n",
    "\"\"\"\"\"\"\"\"\"\""
   ]
  },
  {
   "cell_type": "markdown",
   "id": "f91355e1",
   "metadata": {},
   "source": [
    "# 정답"
   ]
  },
  {
   "cell_type": "code",
   "execution_count": null,
   "id": "24e62bfe",
   "metadata": {},
   "outputs": [],
   "source": [
    "from collections import deque\n",
    "\n",
    "def get_next_pos(pos, boaard):\n",
    "    next_pos = [] # 반환 결과(이동 가능한 위치들)\n",
    "    pos = list(pos) # 현재 위치 정보를 리스트로 변환(집합 -> 리스트)\n",
    "    pos1_x, pos1_y, pos2_x, pos2_y = pos[0][0], pos[0][1], pos[1][0], pos[1][1]\n",
    "    dx = [-1, 1, 0, 0]\n",
    "    dy = [0, 0, -1, 1]\n",
    "    for i in range(4):\n",
    "        pos1_next_x, pos1_next_y, pos2_next_x, pos2_next_y = pos1_x + dx[i], pos1_y+ dy[i], pos2_x + dx[i], pos_2_y + dy[i]\n",
    "        if board[pos1_next_x][pos1_next_y] == 0 and board[pos2_next_x][pos2_next_y] == 0:\n",
    "            next_pos.append({(pos1_next_x, pos1_next_y), (pos2_next_x, pos2_next_y)})\n",
    "    if pos1_x == pos2_x:\n",
    "        for i in [-1, 1]:\n",
    "            if board[pos1_x + i][pos1_y] == 0 and board[pos2_x + i][pos2_y] == 0:\n",
    "                next_pos.append({(pos1_x, pos1_y), (pos1_x + i, pos1_y)})\n",
    "                next_pos.append({(pos2_x, pos2_y), (pos2_x + i, pos2_y)})\n",
    "    elif pos1_y == pos2_y:\n",
    "        for i in [-1, 1]:\n",
    "            if board[pos1_x][pos1_y+i] == 0 and board[pos2_x][pos2_y + i] == 0:\n",
    "                next_pos.append({(pos1_x, pos1_y), (pos1_x, pos1_y + i)})\n",
    "                next_pos.append({(pos2_x, pos2_y), (pos2_x, pos2_y + i)})\n",
    "    return next_pos\n",
    "\n",
    "def solution(board):\n",
    "    n = len(board)\n",
    "    new_board = [[1]* (n + 2) for _ in range(n + 2)]\n",
    "    for i in range(n):\n",
    "        for j in range(n):\n",
    "            new_board[i + 1][j + 1] = board[i][j]\n",
    "    q = deque()\n",
    "    visited = []\n",
    "    pos = {(1, 1), (1, 2)}\n",
    "    q.append((pos, 0))\n",
    "    visited.append(pos)\n",
    "    while q:\n",
    "        pos, cost = q.popleft()\n",
    "        if (n, n) in pos:\n",
    "            return cost\n",
    "        for next_pos in get_next_pos(pos, new_board):\n",
    "            if next_pos not in visited:\n",
    "                q.append((next_pos, cost + 1))\n",
    "                visited.append(next_pos)\n",
    "    return 0"
   ]
  },
  {
   "cell_type": "markdown",
   "id": "82addcf5",
   "metadata": {},
   "source": [
    "# 정답 확인 후 생각"
   ]
  },
  {
   "cell_type": "code",
   "execution_count": null,
   "id": "790b161a",
   "metadata": {},
   "outputs": [],
   "source": [
    "\"\"\"\"\"\"\"\"\"\"\n",
    "1. 앞바퀴와 뒤바퀴의 위치 정보인 pos를 set 자료구조로 구현하여 효율성을 높였다.\n",
    "\n",
    "2. 맵 외각에 벽(1)을 두름으로써 이동 가능 범위 (0이상 n-1이하)를 고려하지 않아도 되고, 인덱싱을 (1,1)부터 시작할 수 있다.\n",
    "\n",
    "3. move() 함수와 rotate함수를 따로 구분하지 않고 매번 get_next_pos 함수에서 이동 가능한 위치 리스트를 반환하도록 했다.\n",
    "\"\"\"\"\"\"\"\"\"\""
   ]
  }
 ],
 "metadata": {
  "kernelspec": {
   "display_name": "Python 3 (ipykernel)",
   "language": "python",
   "name": "python3"
  },
  "language_info": {
   "codemirror_mode": {
    "name": "ipython",
    "version": 3
   },
   "file_extension": ".py",
   "mimetype": "text/x-python",
   "name": "python",
   "nbconvert_exporter": "python",
   "pygments_lexer": "ipython3",
   "version": "3.7.13"
  }
 },
 "nbformat": 4,
 "nbformat_minor": 5
}
