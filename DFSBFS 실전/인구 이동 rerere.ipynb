{
 "cells": [
  {
   "cell_type": "markdown",
   "id": "c7655499",
   "metadata": {},
   "source": [
    "# 코딩 전 생각"
   ]
  },
  {
   "cell_type": "code",
   "execution_count": null,
   "id": "281114ee",
   "metadata": {},
   "outputs": [],
   "source": [
    "\"\"\"\"\"\"\"\"\"\"\n",
    "아래 과정을 반복해 더 이상 인구 이동이 불가능하다면 현재 count를 출력한다.\n",
    "\n",
    "0. 인구 이동 발생 여부를 판단하는 ck 변수의 값을 0으로 초기화해 선언한다.\n",
    "\n",
    "1. 땅 크기만큼의 union 이중 리스트를 선언하고 모든 값을 -1로 초기화한다.\n",
    " \n",
    "2-1 모든 땅에 대해 반복해서(인덱스 i) 해당 위치의 union 리스트 값이 -1이라면(아직 처리되지 않았다면) \n",
    "union_sum 리스트를 선언해 해당 위치 국가의 인구수를 담고, union_pos 리스트를 선언해 해당 위치 국가의 x, y 좌표를 담는다.\n",
    "이후 근접한 국가들을 대상으로 인구 수 차이가 l명 이상 r명이하인 경우 union_sum과 union_pos 리스트에 값을 추가한다.\n",
    "해당 위치에 대해 인구 이동이 끝나면 union_pos에 담겨있는 모든 위치의 인구수를 sum(union_sum) // len(union_sum)으로 한다.\n",
    "\n",
    "2-2 만약 해당 땅에서 union 리스트 값이 -1이 아니라면 ck = 1로 한다.\n",
    "\n",
    "3. 만약 ck = 0이라면 count를 출력하고 break한다. \n",
    "\"\"\"\"\"\"\"\"\"\""
   ]
  },
  {
   "cell_type": "markdown",
   "id": "3cfe2a60",
   "metadata": {},
   "source": [
    "# 내 답안"
   ]
  },
  {
   "cell_type": "code",
   "execution_count": null,
   "id": "c7f49ae7",
   "metadata": {},
   "outputs": [],
   "source": [
    "from collections import deque\n",
    "n, l, r = map(int, input().split())\n",
    "graph = [list(map(int, input().split())) for _ in range(n)]\n",
    "dx = [-1, 1, 0, 0]\n",
    "dy = [0, 0, 1, -1]\n",
    "\n",
    "def bfs(x, y):\n",
    "    q = deque([(x, y)]) # deque 선언하면서 한 번에 값을 초기화하려면 deque([]) 형태로\n",
    "    union[x][y] = 0\n",
    "    while q:\n",
    "        x, y = q.popleft()\n",
    "        for i in range(4):\n",
    "            nx = x + dx[i]\n",
    "            ny = y + dy[i]\n",
    "            if 0 <= nx < n and 0 <= ny < n:\n",
    "                if union[nx][ny] == -1 and l<= abs(graph[x][y] - graph[nx][ny]) <= r:\n",
    "                    union[nx][ny] = 0\n",
    "                    union_sum.append(graph[nx][ny])\n",
    "                    union_pos.append((nx, ny))\n",
    "                    q.append((nx, ny))\n",
    "    \n",
    "    for x, y in union_pos:\n",
    "        graph[x][y] = sum(union_sum) // len(union_sum)\n",
    "        \n",
    "count = 0               \n",
    "while True:\n",
    "    ck = 0\n",
    "    union = [[-1] * n for _ in range(n)]\n",
    "    for x in range(n):\n",
    "        for y in range(n):\n",
    "            if union[x][y] == -1:\n",
    "                ck += 1\n",
    "                union_sum = [graph[x][y]]\n",
    "                union_pos = [(x, y)]\n",
    "                bfs(x, y)\n",
    "    if ck == n * n:\n",
    "        print(count)\n",
    "        break\n",
    "    count += 1"
   ]
  }
 ],
 "metadata": {
  "kernelspec": {
   "display_name": "Python 3 (ipykernel)",
   "language": "python",
   "name": "python3"
  },
  "language_info": {
   "codemirror_mode": {
    "name": "ipython",
    "version": 3
   },
   "file_extension": ".py",
   "mimetype": "text/x-python",
   "name": "python",
   "nbconvert_exporter": "python",
   "pygments_lexer": "ipython3",
   "version": "3.7.13"
  }
 },
 "nbformat": 4,
 "nbformat_minor": 5
}
