{
 "cells": [
  {
   "cell_type": "markdown",
   "id": "25afe0d7",
   "metadata": {},
   "source": [
    "# 코딩 전 생각"
   ]
  },
  {
   "cell_type": "code",
   "execution_count": null,
   "id": "7400168f",
   "metadata": {},
   "outputs": [],
   "source": [
    "\"\"\"\"\"\"\"\"\"\"\n",
    "1. visited 이중 리스트 구현\n",
    "\n",
    "2. dfs를 이용해 연합함수 구현\n",
    "\n",
    "3. 반복문을 통해 더 이상 연합이 불가능해질 때까지 인구 이동 반복\n",
    "\n",
    "4. 인구 이동 횟수 력\n",
    "\"\"\"\"\"\"\"\"\"\""
   ]
  },
  {
   "cell_type": "markdown",
   "id": "bf0c258f",
   "metadata": {},
   "source": [
    "# 내 답안"
   ]
  },
  {
   "cell_type": "markdown",
   "id": "29f7be22",
   "metadata": {},
   "source": [
    "n, l, r = map(int, input().split())\n",
    "land = []\n",
    "for _ in range(n):\n",
    "    land.append(list(map(int, input().split())))\n",
    "land_index = []\n",
    "for i in range(n):\n",
    "    for j in range(n):\n",
    "        land_index.append((i,j))\n",
    "\n",
    "dx = [0, 0, 1, -1]\n",
    "dy = [1, -1, 0, 0]\n",
    "        \n",
    "def dfs(x, y, cx, cy):\n",
    "    for i in range(4):\n",
    "        nx = cx + dx[i]\n",
    "        ny = cy + dy[i]\n",
    "        print('nx:',nx,'ny:',ny, 'land[x][y]:',land[x][y], 'land[nx][ny]:',land[nx][ny])\n",
    "        if 0 <= nx < n and 0 <= ny < n and l <= abs(land[x][y] - land[nx][ny]) <= r:\n",
    "            if visited[nx][ny] == 0:\n",
    "                visited[nx][ny] = 1\n",
    "                union[x][y].append((nx,ny))\n",
    "                dfs(x, y, nx, ny)\n",
    "\n",
    "def move():\n",
    "    for i in union:\n",
    "        for j in i:\n",
    "            sum = 0\n",
    "            for x, y in j:\n",
    "                sum += land[x][y]\n",
    "            for x, y in j:\n",
    "                land[x][y] = sum // len(j)\n",
    "            \n",
    "def possible():\n",
    "    for i in union:\n",
    "        for j in i:\n",
    "            if j:\n",
    "                return True\n",
    "    return False\n",
    "            \n",
    "cnt = 0        \n",
    "while True:\n",
    "    visited = [[[0] for _ in range(n)] for _ in range(n)]\n",
    "    union = [[[] for _ in range(n)] for _ in range(n)]\n",
    "    for x, y in land_index:\n",
    "        dfs(x, y, x, y)\n",
    "    print('union:',union)\n",
    "    print('visited:',visited)\n",
    "    if not possible():\n",
    "        break       \n",
    "    move()\n",
    "    cnt += 1\n",
    "print(cnt)"
   ]
  },
  {
   "cell_type": "code",
   "execution_count": 54,
   "id": "d9114503",
   "metadata": {},
   "outputs": [
    {
     "name": "stdout",
     "output_type": "stream",
     "text": [
      "4 10 50\n",
      "10 100 20 90\n",
      "80 100 60 70\n",
      "70 20 30 40\n",
      "50 20 100 10\n",
      "3\n"
     ]
    }
   ],
   "source": [
    "n, l, r = map(int, input().split())\n",
    "land = []\n",
    "for _ in range(n):\n",
    "    land.append(list(map(int, input().split())))\n",
    "land_index = []\n",
    "for i in range(n):\n",
    "    for j in range(n):\n",
    "        land_index.append((i,j))\n",
    "\n",
    "dx = [0, 0, 1, -1]\n",
    "dy = [1, -1, 0, 0]\n",
    "\n",
    "def dfs(x, y, cx, cy):\n",
    "    for i in range(4):\n",
    "        nx = cx + dx[i]\n",
    "        ny = cy + dy[i]\n",
    "        if 0 <= nx < n and 0 <= ny < n and l <= abs(land[cx][cy] - land[nx][ny]) <= r:\n",
    "            if visited[nx][ny] == 0:\n",
    "                visited[nx][ny] = 1\n",
    "                union[x][y].append((nx,ny))\n",
    "                dfs(x, y, nx, ny)\n",
    "                \n",
    "        \n",
    "def move():\n",
    "    for i in union:\n",
    "        for j in i:\n",
    "            sum = 0\n",
    "            for x, y in j:\n",
    "                sum += land[x][y]\n",
    "            for x, y in j:\n",
    "                land[x][y] = sum // len(j)\n",
    "            \n",
    "def possible():\n",
    "    for i in union:\n",
    "        for j in i:\n",
    "            if len(j) > 1:\n",
    "                return True\n",
    "    return False\n",
    "            \n",
    "cnt = 0        \n",
    "while True:\n",
    "    visited = [[0 for _ in range(n)] for _ in range(n)]\n",
    "    union = [[[] for _ in range(n)] for _ in range(n)]\n",
    "    for x, y in land_index:\n",
    "        if visited[x][y] != 1:\n",
    "            visited[x][y] = 1\n",
    "            union[x][y].append((x, y))    \n",
    "        dfs(x, y, x, y)\n",
    "        \n",
    "    if not possible():\n",
    "        break       \n",
    "    move()\n",
    "    cnt += 1\n",
    "print(cnt)"
   ]
  },
  {
   "cell_type": "markdown",
   "id": "f82f3ef6",
   "metadata": {},
   "source": [
    "# 답안 작성 후 생각"
   ]
  },
  {
   "cell_type": "code",
   "execution_count": null,
   "id": "b62c50b2",
   "metadata": {},
   "outputs": [],
   "source": [
    "\"\"\"\"\"\"\"\"\"\"\n",
    "dfs를 이용해 문제를 해결했다.\n",
    "\n",
    "효율성이 떨어진다고 생각하는 부분:\n",
    "\n",
    "1. dfs 함수에 인자를 4개나 넣고, visited와 union 이중리스트를 매 반복마다 만들고,\n",
    "\n",
    "2. 각 나라마다 연합 국가를 파악하기 전에 본국이 아직 다른 어떤 곳에도 연합되지 않았다면 본국의 연합에 본국을 포함시킨다.\n",
    "\n",
    "\"\"\"\"\"\"\"\"\"\""
   ]
  },
  {
   "cell_type": "markdown",
   "id": "775877ec",
   "metadata": {},
   "source": [
    "# 정답"
   ]
  },
  {
   "cell_type": "code",
   "execution_count": 55,
   "id": "1be53e0f",
   "metadata": {},
   "outputs": [
    {
     "name": "stdout",
     "output_type": "stream",
     "text": [
      "4 10 50\n",
      "10 100 20 90\n",
      "80 100 60 70\n",
      "70 20 30 40\n",
      "50 20 100 10\n",
      "3\n"
     ]
    }
   ],
   "source": [
    "from collections import deque\n",
    "\n",
    "n, l, r = map(int, input().split())\n",
    "graph = []\n",
    "for _ in range(n):\n",
    "    graph.append(list(map(int, input().split())))\n",
    "dx = [-1, 0, 1, 0]\n",
    "dy = [0, -1, 0, 1]\n",
    "result = 0\n",
    "\n",
    "def process(x, y, index):\n",
    "    united = []\n",
    "    united.append((x,y))\n",
    "    q = deque()\n",
    "    q.append((x,y))\n",
    "    union[x][y] = index\n",
    "    summary = graph[x][y]\n",
    "    count = 1\n",
    "    while q:\n",
    "        x, y = q.popleft()\n",
    "        for i in range(4):\n",
    "            nx = x + dx[i]\n",
    "            ny = y + dy[i]\n",
    "            if 0 <= nx < n and 0 <= ny < n and union[nx][ny] == -1:\n",
    "                if l <= abs(graph[nx][ny] - graph[x][y]) <= r:\n",
    "                    q.append((nx, ny))\n",
    "                    union[nx][ny] = index\n",
    "                    summary += graph[nx][ny]\n",
    "                    count += 1\n",
    "                    united.append((nx, ny))\n",
    "    for i, j in united:\n",
    "        graph[i][j] = summary // count\n",
    "    return count\n",
    "total_count = 0\n",
    "\n",
    "while True:\n",
    "    union = [[-1] * n for _ in range(n)]\n",
    "    index = 0\n",
    "    for i in range(n):\n",
    "        for j in range(n):\n",
    "            if union[i][j] == -1:\n",
    "                process(i, j, index)\n",
    "                index += 1\n",
    "    if index == n * n:\n",
    "        break\n",
    "    total_count += 1\n",
    "print(total_count)"
   ]
  },
  {
   "cell_type": "code",
   "execution_count": null,
   "id": "c29209ec",
   "metadata": {},
   "outputs": [],
   "source": [
    "4 10 50\n",
    "10 100 20 90\n",
    "80 100 60 70\n",
    "70 20 30 40\n",
    "50 20 100 10\n",
    "3"
   ]
  },
  {
   "cell_type": "markdown",
   "id": "aaafd439",
   "metadata": {},
   "source": [
    "# 정답 확인 후 생각"
   ]
  },
  {
   "cell_type": "code",
   "execution_count": null,
   "id": "31bea249",
   "metadata": {},
   "outputs": [],
   "source": [
    "\"\"\"\"\"\"\"\"\"\"\n",
    "1. dfs가 아닌 bfs를 이용해 풀었음\n",
    "\n",
    "2. process() 함수 하나만 이용해서 풀었음\n",
    "\n",
    "3. process()의 인수로 연합 시작 국가인 x,y 뿐만 아니라 인구 이동 종료 시점 판단에 사용되는 index도 포함되어 있음\n",
    "\n",
    "4. \n",
    "\"\"\"\"\"\"\"\"\"\""
   ]
  }
 ],
 "metadata": {
  "kernelspec": {
   "display_name": "Python 3 (ipykernel)",
   "language": "python",
   "name": "python3"
  },
  "language_info": {
   "codemirror_mode": {
    "name": "ipython",
    "version": 3
   },
   "file_extension": ".py",
   "mimetype": "text/x-python",
   "name": "python",
   "nbconvert_exporter": "python",
   "pygments_lexer": "ipython3",
   "version": "3.7.13"
  }
 },
 "nbformat": 4,
 "nbformat_minor": 5
}
