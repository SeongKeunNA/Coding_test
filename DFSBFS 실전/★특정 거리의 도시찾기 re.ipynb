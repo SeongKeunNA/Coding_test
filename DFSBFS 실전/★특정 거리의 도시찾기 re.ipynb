{
 "cells": [
  {
   "cell_type": "markdown",
   "id": "56df40f5",
   "metadata": {},
   "source": [
    "# 코딩 전 생각"
   ]
  },
  {
   "cell_type": "code",
   "execution_count": 1,
   "id": "053850f9",
   "metadata": {},
   "outputs": [
    {
     "ename": "SyntaxError",
     "evalue": "EOF while scanning triple-quoted string literal (886353925.py, line 1)",
     "output_type": "error",
     "traceback": [
      "\u001b[1;36m  Input \u001b[1;32mIn [1]\u001b[1;36m\u001b[0m\n\u001b[1;33m    \"\"\"\"\"\"\"\"\"\"\u001b[0m\n\u001b[1;37m              ^\u001b[0m\n\u001b[1;31mSyntaxError\u001b[0m\u001b[1;31m:\u001b[0m EOF while scanning triple-quoted string literal\n"
     ]
    }
   ],
   "source": [
    "\"\"\"\"\"\"\"\"\"\"\n",
    "1. 입력 받은 데이터로 그래프 구현\n",
    "\n",
    "2. 시작 지점 \n",
    "    \n",
    "2. 큐에 시작 도시 x를 넣음(x,0)\n",
    "\n",
    "3. 큐가 빌 때까지 반복하여:\n",
    "    3-1.큐에서 원소 하나를 pop\n",
    "    city, dist = q.popleft()\n",
    "    3-2. 만약 그 도시까지의 최단거리가 k이면 answer 리스트에 도시 번호를 추가.\n",
    "    if dist == k:\n",
    "        answer.append(city)\n",
    "    3-3.\n",
    "    city에서 갈 수 있는 도시 중 아직 미방문한 도시를 q에 넣음 (도시의 번호, 지금까찌 거리+1)\n",
    "    for c in graph[city]:\n",
    "        if visited[c] == 0:\n",
    "            q.append(c, dist+1)\n",
    "4. 반복문 종료 후 answer list가 비어있으면 -1출력,\n",
    " 아니라면 존재하는 도시 번호를 오름 차순으로 정렬해 하나씩 출력\n",
    "\"\"\"\"\"\"\"\"\"\""
   ]
  },
  {
   "cell_type": "markdown",
   "id": "6cbb8328",
   "metadata": {},
   "source": [
    "# 내 답안"
   ]
  },
  {
   "cell_type": "code",
   "execution_count": 12,
   "id": "cd28883c",
   "metadata": {},
   "outputs": [
    {
     "name": "stdout",
     "output_type": "stream",
     "text": [
      "4 4 1 1\n",
      "1 2\n",
      "1 3\n",
      "2 3\n",
      "2 4\n",
      "2\n",
      "3\n"
     ]
    }
   ],
   "source": [
    "from collections import deque\n",
    "n, m, k,x = map(int, input().split())\n",
    "graph = [[] for _ in range(n+1)]\n",
    "for _ in range(m):\n",
    "    a, b = list(map(int, input().split()))\n",
    "    graph[a].append(b)\n",
    "\n",
    "q = deque([(x, 0)])\n",
    "visited = [0] * (n+1)\n",
    "visited[x] = 1\n",
    "answer =[]\n",
    "while q:\n",
    "    city, dist = q.popleft()\n",
    "    if dist == k:\n",
    "        answer.append(city)\n",
    "    for c in graph[city]:\n",
    "        if visited[c] == 0:\n",
    "            q.append((c, dist+1))\n",
    "            visited[c] = 1\n",
    "if not answer:\n",
    "    print(-1)\n",
    "else:\n",
    "    for a in sorted(answer):\n",
    "        print(a)"
   ]
  },
  {
   "cell_type": "markdown",
   "id": "0b3f6fbd",
   "metadata": {},
   "source": [
    "# 답안 작성 후 생각"
   ]
  },
  {
   "cell_type": "code",
   "execution_count": null,
   "id": "ced61b4b",
   "metadata": {},
   "outputs": [],
   "source": [
    "\"\"\"\"\"\"\"\"\"\"\n",
    "dfs/bfs 문제를 오랜만에 풀어서 조금 헷갈리는 부분들이 있었지만 bfs를 이용해 풀이에 성공했다.\n",
    "\"\"\"\"\"\"\"\"\"\""
   ]
  },
  {
   "cell_type": "markdown",
   "id": "4376b41a",
   "metadata": {},
   "source": [
    "# 정답"
   ]
  },
  {
   "cell_type": "code",
   "execution_count": null,
   "id": "6a5a134f",
   "metadata": {},
   "outputs": [],
   "source": [
    "from collections import deque\n",
    "\n",
    "n, m, k,x = map(int, input().split())\n",
    "graph = [[] for _ in range(n+1)]\n",
    "for _ in range(m):\n",
    "    a, b = list(map(int, input().split()))\n",
    "    graph[a].append(b)\n",
    "distance = [-1] * (n+1)\n",
    "distance[x] = 0\n",
    "\n",
    "q = deque([x])\n",
    "while q:\n",
    "    now = q.popleft()\n",
    "    for next_node in graph[now]:\n",
    "        if distance[next_node] == -1:\n",
    "            distance[next_node] = distance[now] + 1\n",
    "            q.append(next_node)\n",
    "check = False\n",
    "for i in range(1, n+1):\n",
    "    if distance[i] == k:\n",
    "        print(i)\n",
    "        check = True\n",
    "if check == False:\n",
    "    print(-1)"
   ]
  },
  {
   "cell_type": "markdown",
   "id": "3beefc7c",
   "metadata": {},
   "source": [
    "# 정답 확인 후 생각"
   ]
  },
  {
   "cell_type": "code",
   "execution_count": null,
   "id": "272382c4",
   "metadata": {},
   "outputs": [],
   "source": [
    "\"\"\"\"\"\"\"\"\"\"\n",
    "내 풀이는 q에 새롭게 들어갈 노드의 최단 거리를 k와 비교했지만,\n",
    "\n",
    "답지는 최단 거리 리스트를 만들어 우선 모든 노드까지의 최단 거리를 구하고 마지막에 최단거리가 k인 노드를 출력했다.\n",
    "\"\"\"\"\"\"\"\"\"\""
   ]
  }
 ],
 "metadata": {
  "kernelspec": {
   "display_name": "Python 3 (ipykernel)",
   "language": "python",
   "name": "python3"
  },
  "language_info": {
   "codemirror_mode": {
    "name": "ipython",
    "version": 3
   },
   "file_extension": ".py",
   "mimetype": "text/x-python",
   "name": "python",
   "nbconvert_exporter": "python",
   "pygments_lexer": "ipython3",
   "version": "3.9.12"
  }
 },
 "nbformat": 4,
 "nbformat_minor": 5
}
