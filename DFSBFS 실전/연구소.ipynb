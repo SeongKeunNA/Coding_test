{
 "cells": [
  {
   "cell_type": "markdown",
   "id": "63d23d3b",
   "metadata": {},
   "source": [
    "# 코딩 전 계획"
   ]
  },
  {
   "cell_type": "code",
   "execution_count": 1,
   "id": "35e2f751",
   "metadata": {
    "collapsed": true
   },
   "outputs": [
    {
     "ename": "SyntaxError",
     "evalue": "EOF while scanning triple-quoted string literal (Temp/ipykernel_16444/2409538860.py, line 1)",
     "output_type": "error",
     "traceback": [
      "\u001b[1;36m  File \u001b[1;32m\"C:\\Users\\NAJONG~1\\AppData\\Local\\Temp/ipykernel_16444/2409538860.py\"\u001b[1;36m, line \u001b[1;32m1\u001b[0m\n\u001b[1;33m    \"\"\"\"\"\"\"\"\"\u001b[0m\n\u001b[1;37m             ^\u001b[0m\n\u001b[1;31mSyntaxError\u001b[0m\u001b[1;31m:\u001b[0m EOF while scanning triple-quoted string literal\n"
     ]
    }
   ],
   "source": [
    "\"\"\"\"\"\"\"\"\"\n",
    "1. 입력 값 받아 맵 생성\n",
    "\n",
    "2. 3개의 벽을 세우는 경우의 수마다:\n",
    "    바이러스 전파 시뮬레이션을 시행 후, 안전 영역의 크기를 구해 리스트에 추가함.\n",
    "    \n",
    "3. 리스트에서 최댓값을 구해 출력함.\n",
    "\"\"\"\"\"\"\"\"\""
   ]
  },
  {
   "cell_type": "markdown",
   "id": "d8097a3e",
   "metadata": {},
   "source": [
    "# 내 답안"
   ]
  },
  {
   "cell_type": "code",
   "execution_count": 21,
   "id": "d4b85bbf",
   "metadata": {},
   "outputs": [
    {
     "name": "stdout",
     "output_type": "stream",
     "text": [
      "8 8\n",
      "2 0 0 0 0 0 0 2\n",
      "2 0 0 0 0 0 0 2\n",
      "2 0 0 0 0 0 0 2\n",
      "2 0 0 0 0 0 0 2\n",
      "2 0 0 0 0 0 0 2\n",
      "0 0 0 0 0 0 0 0\n",
      "0 0 0 0 0 0 0 0\n",
      "0 0 0 0 0 0 0 0\n",
      "3\n",
      "time : 3.463148355484009\n"
     ]
    }
   ],
   "source": [
    "from itertools import combinations\n",
    "import copy\n",
    "import time\n",
    "\n",
    "\n",
    "n, m = map(int, input().split())\n",
    "graph = []\n",
    "safe_list = []\n",
    "\n",
    "for i in range(n):\n",
    "    graph.append(list(map(int, input().split())))\n",
    "start = time.time()\n",
    "blank = []\n",
    "virus = []\n",
    "for i in range(n):\n",
    "    for j in range(m):\n",
    "        if graph[i][j] == 0:\n",
    "            blank.append((i,j))\n",
    "        elif graph[i][j] == 2:\n",
    "            virus.append((i,j))\n",
    "            \n",
    "visited = [[0 for _ in range(m)] for _ in range(n)]\n",
    "            \n",
    "def simul(graph, x, y, visited):\n",
    "    if x < 0 or y < 0 or x >= n or y >= m:\n",
    "        return False\n",
    "    \n",
    "    if graph[x][y] == 1:\n",
    "        return False\n",
    "    \n",
    "    if visited[x][y] == 1:\n",
    "        return False\n",
    "        \n",
    "    graph[x][y] = 2\n",
    "    visited[x][y] = 1\n",
    "    simul(graph, x-1, y, visited)\n",
    "    simul(graph, x+1, y, visited)\n",
    "    simul(graph, x, y-1, visited)\n",
    "    simul(graph, x, y+1, visited) \n",
    "    return True\n",
    "        \n",
    "for i in list(combinations(blank, 3)):\n",
    "    graph_ = copy.deepcopy(graph)\n",
    "    visited_ = copy.deepcopy(visited)\n",
    "    safe = 0\n",
    "    for j in i:        \n",
    "        graph_[j[0]][j[1]] = 1\n",
    "    for k in virus:\n",
    "        simul(graph_, k[0], k[1], visited_)\n",
    "    for o in range(n):\n",
    "        for p in range(m):\n",
    "            if graph_[o][p] == 0:\n",
    "                safe += 1\n",
    "    safe_list.append(safe)\n",
    "print(max(safe_list))\n",
    "print(\"time :\", time.time() - start)\n"
   ]
  },
  {
   "cell_type": "markdown",
   "id": "460d8fb8",
   "metadata": {},
   "source": [
    "# 답안 작성 후 생각"
   ]
  },
  {
   "cell_type": "code",
   "execution_count": 20,
   "id": "ff288c41",
   "metadata": {},
   "outputs": [
    {
     "data": {
      "text/plain": [
       "'\\ndfs / bfs 문제를 그래도 조금 풀어보니 문제를 읽고서 감이 잡혔다.\\n\\n바이러스가 퍼지는 문제라서 dfs를 생각했고, 앞선 문제와 큰 차이는 없었다.\\n'"
      ]
     },
     "execution_count": 20,
     "metadata": {},
     "output_type": "execute_result"
    }
   ],
   "source": [
    "\"\"\"\"\"\"\"\"\"\n",
    "dfs / bfs 문제를 그래도 조금 풀어보니 문제를 읽고서 감이 잡혔다.\n",
    "\n",
    "바이러스가 퍼지는 문제라서 dfs를 생각했고, 앞선 문제와 큰 차이는 없었다.\n",
    "\"\"\"\"\"\"\"\"\""
   ]
  },
  {
   "cell_type": "markdown",
   "id": "eebd045d",
   "metadata": {},
   "source": [
    "# 정답"
   ]
  },
  {
   "cell_type": "code",
   "execution_count": 22,
   "id": "635c41a9",
   "metadata": {},
   "outputs": [
    {
     "name": "stdout",
     "output_type": "stream",
     "text": [
      "8 8\n",
      "2 0 0 0 0 0 0 2\n",
      "2 0 0 0 0 0 0 2\n",
      "2 0 0 0 0 0 0 2\n",
      "2 0 0 0 0 0 0 2\n",
      "2 0 0 0 0 0 0 2\n",
      "0 0 0 0 0 0 0 0\n",
      "0 0 0 0 0 0 0 0\n",
      "0 0 0 0 0 0 0 0\n",
      "3\n",
      "time : 19.74094867706299\n"
     ]
    }
   ],
   "source": [
    "n, m = map(int, input().split())\n",
    "data = [] # 초기 맵 리스트\n",
    "temp = [[0] * m for _ in range(n)] # 벽을 설치한 뒤의 맵 리스트\n",
    "\n",
    "for _ in range(n):\n",
    "    data.append(list(map(int, input().split())))\n",
    "    start = time.time()\n",
    "\n",
    "# 4가지 이동 방향에 대한 리스트\n",
    "dx = [-1, 0, 1, 0]\n",
    "dy = [0, 1, 0, -1]\n",
    "\n",
    "result = 0\n",
    "\n",
    "# 깊이 우선 탐색(DFS)을 이용해 각 바이러스가 사방으로 퍼지도록 하기\n",
    "def virus(x, y):\n",
    "    for i in range(4):\n",
    "        nx = x + dx[i]\n",
    "        ny = y + dy[i]\n",
    "        # 상, 하, 좌, 우 중에서 바이러스가 퍼질 수 있는 경우\n",
    "        if nx >= 0 and nx < n and ny >= 0 and ny < m:\n",
    "            if temp[nx][ny] == 0:\n",
    "                # 해당 위치에 바이러스 배치하고, 다시 재귀적으로 수행\n",
    "                temp[nx][ny] = 2\n",
    "                virus(nx, ny)\n",
    "\n",
    "# 현재 맵에서 안전 영역의 크기 계산하는 메서드\n",
    "def get_score():\n",
    "    score = 0\n",
    "    for i in range(n):\n",
    "        for j in range(m):\n",
    "            if temp[i][j] == 0:\n",
    "                score += 1\n",
    "    return score\n",
    "\n",
    "# 깊이 우선 탐색(DFS)을 이용해 울타리를 설치하면서, 매 번 안전 영역의 크기 계산\n",
    "def dfs(count):\n",
    "    global result\n",
    "    # 울타리가 3개 설치된 경우\n",
    "    if count == 3:\n",
    "        for i in range(n):\n",
    "            for j in range(m):\n",
    "                temp[i][j] = data[i][j]\n",
    "        # 각 바이러스의 위치에서 전파 진행\n",
    "        for i in range(n):\n",
    "            for j in range(m):\n",
    "                if temp[i][j] == 2:\n",
    "                    virus(i, j)\n",
    "        # 안전 영역의 최대값 계산\n",
    "        result = max(result, get_score())\n",
    "        return\n",
    "    # 빈 공간에 울타리를 설치\n",
    "    for i in range(n):\n",
    "        for j in range(m):\n",
    "            if data[i][j] == 0:\n",
    "                data[i][j] = 1\n",
    "                count += 1\n",
    "                dfs(count)\n",
    "                data[i][j] = 0\n",
    "                count -= 1\n",
    "\n",
    "dfs(0)\n",
    "print(result)\n",
    "print(\"time :\", time.time() - start)"
   ]
  },
  {
   "cell_type": "markdown",
   "id": "f343e0e9",
   "metadata": {},
   "source": [
    "# 정답 확인 후 생각"
   ]
  },
  {
   "cell_type": "code",
   "execution_count": 20,
   "id": "163282fe",
   "metadata": {},
   "outputs": [
    {
     "data": {
      "text/plain": [
       "'\\ndfs / bfs 문제를 그래도 조금 풀어보니 문제를 읽고서 감이 잡혔다.\\n\\n바이러스가 퍼지는 문제라서 dfs를 생각했고, 앞선 문제와 큰 차이는 없었다.\\n'"
      ]
     },
     "execution_count": 20,
     "metadata": {},
     "output_type": "execute_result"
    }
   ],
   "source": [
    "\"\"\"\"\"\"\"\"\"\n",
    "전체적인 풀이 아이디어는 동일한데, 답지는 조합 라이브러리가 아니라 dfs를 이용해 조합을 구현한다.\n",
    "답지 소스코드만 보고서는 어떻게 조합을 구현하는지 이해가 되지 않았는데, 하단 링크 주소의 그림을 보고 이해하였다.\n",
    "https://ckd2806.tistory.com/entry/%ED%8C%8C%EC%9D%B4%EC%8D%AC-python-%EC%88%9C%EC%97%B4-%EC%A1%B0%ED%95%A9-%EC%BD%\n",
    "94%EB%93%9C%EB%A1%9C-%EA%B5%AC%ED%98%84%ED%95%98%EA%B8%B0\n",
    "\n",
    "그런데 내 답안보다 시간이 6배 이상 오래 걸리는 걸로 보아, 역시 조합을 라이브러리로 구현하는 게 시간 상으로는 이득인 것으로 보인다..\n",
    "\n",
    "게다가 x, y만 인수로 받는 virus 함수와 현재 맵에서 안전 영역의 크기를 계산하는\n",
    "get_score 함수를 따로 구현하였다는 것도 내 풀이와 다른 점이다.\n",
    "\n",
    "마지막으로 이런 방향 관련 문제를 풀 때 항상 잊어버리는데, 답지처럼\n",
    "dx와 dy를 따로 선언해 for 문 안에 nx = x + dx, ny = y + dy로 구현하는 것을 연습해야한다.\n",
    "\"\"\"\"\"\"\"\"\""
   ]
  }
 ],
 "metadata": {
  "kernelspec": {
   "display_name": "pytorch",
   "language": "python",
   "name": "pt1.1"
  },
  "language_info": {
   "codemirror_mode": {
    "name": "ipython",
    "version": 3
   },
   "file_extension": ".py",
   "mimetype": "text/x-python",
   "name": "python",
   "nbconvert_exporter": "python",
   "pygments_lexer": "ipython3",
   "version": "3.9.7"
  }
 },
 "nbformat": 4,
 "nbformat_minor": 5
}
