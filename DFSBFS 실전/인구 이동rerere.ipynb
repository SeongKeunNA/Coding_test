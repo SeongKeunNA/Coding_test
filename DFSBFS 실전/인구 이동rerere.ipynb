{
 "cells": [
  {
   "cell_type": "markdown",
   "id": "29916f71",
   "metadata": {},
   "source": [
    "# 코딩 전 생각"
   ]
  },
  {
   "cell_type": "code",
   "execution_count": null,
   "id": "0fe4574d",
   "metadata": {},
   "outputs": [],
   "source": [
    "\"\"\"\"\"\"\"\"\"\"\n",
    "1. 국가들의 인구 정보를 입력함.\n",
    "\n",
    "2. 인구 이동을 실행함. 즉, 모든 x와  y에 대해 인구이동 dfs(인덱스, x, y) 함수를 실행함.\n",
    "-국가들의 연합 정보 리스트 union을 만들어 각 국가의 인덱스를 입력함.\n",
    "\n",
    "3. 인구 이동이 없을 경우 현재 count를 출력함.\n",
    "\"\"\"\"\"\"\"\"\"\""
   ]
  },
  {
   "cell_type": "markdown",
   "id": "0f72c467",
   "metadata": {},
   "source": [
    "# 내 답안"
   ]
  },
  {
   "cell_type": "code",
   "execution_count": null,
   "id": "f68c05cd",
   "metadata": {},
   "outputs": [],
   "source": [
    "n, l, r = map(int, input().split())\n",
    "graph = []\n",
    "\n",
    "    \n",
    "for i in range(n):\n",
    "    data = list(map(int, input().split()))\n",
    "    for j in range(n):\n",
    "        union_sum[idx] = data[j]\n",
    "        idx += 1\n",
    "    graph.append(data)\n",
    "dx = [1, -1, 0, 0]\n",
    "dy = [0, 0, 1, -1]\n",
    "    \n",
    "def dfs(idx, x, y):\n",
    "    if union[x][y] < idx:\n",
    "        return\n",
    "    for i in range(4):\n",
    "        nx = x + dx[i]\n",
    "        ny = y + dy[i]\n",
    "        if 0 <= nx < n and 0 <= ny < n:\n",
    "            if l <= abs(graph[x][y] - graph[nx][ny]) <= r:\n",
    "                union[nx][ny] = idx\n",
    "                union_sum[idx] += graph[nx][ny]\n",
    "                union_num[idx] += 1\n",
    "                dfs(idx, nx, ny)\n",
    "count = 0    \n",
    "while True:\n",
    "    union_sum = [0] * n\n",
    "    union_num = [0] * n\n",
    "    for i in range(n):\n",
    "        union_num[i] = i\n",
    "    idx = 0\n",
    "    for x in range(n):\n",
    "        for y in range(n):\n",
    "            if union_num[x][y] != idx:\n",
    "                \n",
    "            dfs(idx, x, y)\n",
    "            idx += 1\n",
    "    \n",
    "        \n",
    "    \n",
    "union = []\n"
   ]
  }
 ],
 "metadata": {
  "kernelspec": {
   "display_name": "Python 3 (ipykernel)",
   "language": "python",
   "name": "python3"
  },
  "language_info": {
   "codemirror_mode": {
    "name": "ipython",
    "version": 3
   },
   "file_extension": ".py",
   "mimetype": "text/x-python",
   "name": "python",
   "nbconvert_exporter": "python",
   "pygments_lexer": "ipython3",
   "version": "3.7.13"
  }
 },
 "nbformat": 4,
 "nbformat_minor": 5
}
