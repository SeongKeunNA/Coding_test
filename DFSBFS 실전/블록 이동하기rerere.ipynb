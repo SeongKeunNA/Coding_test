{
 "cells": [
  {
   "cell_type": "markdown",
   "id": "88630389",
   "metadata": {},
   "source": [
    "# 코딩 전 생각"
   ]
  },
  {
   "cell_type": "code",
   "execution_count": null,
   "id": "5c63a733",
   "metadata": {},
   "outputs": [],
   "source": [
    "\"\"\"\"\"\"\"\"\"\"\n",
    "현재 위치에서 최대 8가지 위치로 이동이 가능하므로 이동 가능한 다음 위치를 반환하는 함수를 구현한다.\n",
    "\n",
    "bfs를 이용해 문제를 해결하는데, 앞바퀴와 뒷바퀴 구분 없이 이미 방문했던 장소를 기록하기 위해 set 자료형을 활용한다.\n",
    "\n",
    "\"\"\"\"\"\"\"\"\"\""
   ]
  },
  {
   "cell_type": "markdown",
   "id": "22ac762e",
   "metadata": {},
   "source": [
    "# 내 답안"
   ]
  },
  {
   "cell_type": "code",
   "execution_count": 13,
   "id": "8cf4822a",
   "metadata": {},
   "outputs": [],
   "source": [
    "from collections import deque  \n",
    "def solution(board):\n",
    "    def next_pos(t1, t2, dist):\n",
    "        n = len(board)\n",
    "        x1, y1 = t1\n",
    "        x2, y2 = t2\n",
    "        nxt = []\n",
    "        for i in range(4):\n",
    "            nx1 = x1 + dx[i]\n",
    "            ny1 = y1 + dy[i]\n",
    "            nx2 = x2 + dx[i]\n",
    "            ny2 = y2 + dy[i]\n",
    "            if 0 <= nx1 < n and 0 <= ny1 < n and 0 <= nx2 < n and 0 <= ny2 < n:\n",
    "                if board[nx1][ny1] == 0 and board[nx2][ny2] == 0:\n",
    "                    nxt.append([(nx1,ny1), (nx2, ny2)])\n",
    "        if x1 == x2: # 아래로회전        \n",
    "            if x1 + 1 < n and board[x1 + 1][y1] == 0 and board[x2 + 1][y2] == 0:\n",
    "                nxt.append([(x1, y1), (x1 + 1, y1)])\n",
    "                nxt.append([(x2, y2), (x2 + 1, y2)])\n",
    "            if x1 - 1 >= 0 and board[x1 -1][y1] == 0 and board[x2 - 1][y2] == 0:\n",
    "                nxt.append([(x1, y1), (x1 - 1, y1)])\n",
    "                nxt.append([(x2, y2), (x2 - 1, y2)])\n",
    "        else:\n",
    "            if y1 + 1 < n and board[x1][y1 + 1] == 0 and board[x2][y2 + 1] == 0:\n",
    "                nxt.append([(x1, y1), (x1, y1 + 1)])\n",
    "                nxt.append([(x2, y2), (x2, y2 + 1)])\n",
    "            if y1 - 1 >= 0 and board[x1][y1 - 1] == 0 and board[x2][y2 - 1] == 0:\n",
    "                nxt.append([(x1, y1), (x1, y1 - 1)])\n",
    "                nxt.append([(x2, y2), (x2, y2 - 1)])\n",
    "        for n in nxt:\n",
    "            n.append(dist + 1)\n",
    "        return nxt\n",
    "    dx = [-1, 1, 0, 0]\n",
    "    dy = [0, 0, 1, -1]\n",
    "    q = deque()\n",
    "    q.append([(0, 0), (0, 1), 0])\n",
    "    visited = []\n",
    "    n = len(board)\n",
    "    while True:http://localhost:8888/notebooks/%EC%9D%B4%EA%B2%83%EC%9D%B4%20%EC%B7%A8%EC%97%85%EC%9D%84%20%EC%9C%84%ED%95%9C%20%EC%BD%94%EB%94%A9%ED%85%8C%EC%8A%A4%ED%8A%B8%EB%8B%A4%20with%20%ED%8C%8C%EC%9D%B4%EC%8D%AC/DFSBFS%20%EC%8B%A4%EC%A0%84/%EB%B8%94%EB%A1%9D%20%EC%9D%B4%EB%8F%99%ED%95%98%EA%B8%B0rerere.ipynb#\n",
    "        (x1, y1), (x2, y2), dist = q.popleft()\n",
    "        print(x1, y1, x2, y2)\n",
    "        if x1 == n - 1 or x2 == n - 1 or y1 == n - 1 or y2 == n - 1:\n",
    "            return dist\n",
    "        nxt = next_pos((x1, y1), (x2, y2) , dist)\n",
    "        for n in nxt:\n",
    "            if set(n[:-1])not in visited:\n",
    "                visited.append(set(n[:-1]))\n",
    "                q.append(n)"
   ]
  },
  {
   "cell_type": "markdown",
   "id": "58f05af8",
   "metadata": {},
   "source": [
    "# 정답 확인 후 생각"
   ]
  },
  {
   "cell_type": "code",
   "execution_count": null,
   "id": "be7895fe",
   "metadata": {},
   "outputs": [],
   "source": [
    "\"\"\"\"\"\"\"\"\"\"\n",
    "1. 앞바퀴와 뒤바퀴의 위치 정보인 pos를 처음부터 set 자료구조로 구현하여 효율성을 높였다.\n",
    "\n",
    "2. 맵 외각에 벽(1)을 두름으로써 이동 가능 범위 (0이상 n-1이하)를 고려하지 않아도 되고, 인덱싱을 (1,1)부터 시작할 수 있다.\n",
    "\"\"\"\"\"\"\"\"\"\""
   ]
  }
 ],
 "metadata": {
  "kernelspec": {
   "display_name": "Python 3 (ipykernel)",
   "language": "python",
   "name": "python3"
  },
  "language_info": {
   "codemirror_mode": {
    "name": "ipython",
    "version": 3
   },
   "file_extension": ".py",
   "mimetype": "text/x-python",
   "name": "python",
   "nbconvert_exporter": "python",
   "pygments_lexer": "ipython3",
   "version": "3.7.13"
  }
 },
 "nbformat": 4,
 "nbformat_minor": 5
}
