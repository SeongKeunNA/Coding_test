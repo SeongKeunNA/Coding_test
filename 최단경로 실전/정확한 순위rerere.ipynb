{
 "cells": [
  {
   "cell_type": "markdown",
   "id": "53f0ca50",
   "metadata": {},
   "source": [
    "# 코딩 전 생각"
   ]
  },
  {
   "cell_type": "code",
   "execution_count": null,
   "id": "ea1790d1",
   "metadata": {},
   "outputs": [],
   "source": [
    "\"\"\"\"\"\"\"\"\"\"\n",
    "1. 주어진 입력 데이터를 이용해 플로이드 워셜 알고리즘을 사용하여 노드 간의 최단 거리 테이블을 구한다.\n",
    "\n",
    "2. 최단 거리 테이블 상에서 순위를 정확히 알 수 있는 학생의 수를 출력한다.\n",
    "\"\"\"\"\"\"\"\"\"\""
   ]
  },
  {
   "cell_type": "code",
   "execution_count": 2,
   "id": "0c4361ba",
   "metadata": {},
   "outputs": [
    {
     "name": "stdout",
     "output_type": "stream",
     "text": [
      "6 6\n",
      "1 5\n",
      "3 4\n",
      "4 2\n",
      "4 6\n",
      "5 2\n",
      "5 4\n",
      "1\n"
     ]
    }
   ],
   "source": [
    "INF = int(1e9)\n",
    "n, m = map(int, input().split())\n",
    "distance = [[INF] * (n + 1) for _ in range(n + 1)]\n",
    "for _ in range(m):\n",
    "    a, b = map(int, input().split())\n",
    "    distance[a][b] = 1\n",
    "for i in range(1, n + 1):\n",
    "    distance[i][i] = 0\n",
    "    \n",
    "for k in range(1, n + 1):\n",
    "    for i in range(1, n + 1):\n",
    "        for j in range(1, n + 1):\n",
    "            distance[i][j] = min(distance[i][j], distance[i][k] + distance[k][j])\n",
    "            \n",
    "total_cnt = 0            \n",
    "for i in range(1, n + 1):\n",
    "    cnt = 0\n",
    "    for j in range(1, n + 1):\n",
    "        if distance[i][j] < INF or distance[j][i] < INF:\n",
    "            cnt += 1\n",
    "    if cnt == n:\n",
    "        total_cnt += 1  \n",
    "print(total_cnt)"
   ]
  }
 ],
 "metadata": {
  "kernelspec": {
   "display_name": "Python 3 (ipykernel)",
   "language": "python",
   "name": "python3"
  },
  "language_info": {
   "codemirror_mode": {
    "name": "ipython",
    "version": 3
   },
   "file_extension": ".py",
   "mimetype": "text/x-python",
   "name": "python",
   "nbconvert_exporter": "python",
   "pygments_lexer": "ipython3",
   "version": "3.7.13"
  }
 },
 "nbformat": 4,
 "nbformat_minor": 5
}
