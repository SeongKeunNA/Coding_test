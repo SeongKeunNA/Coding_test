{
 "cells": [
  {
   "cell_type": "markdown",
   "id": "7e2c10cf",
   "metadata": {},
   "source": [
    "# 코딩 전 생각"
   ]
  },
  {
   "cell_type": "code",
   "execution_count": null,
   "id": "a14a8062",
   "metadata": {},
   "outputs": [],
   "source": [
    "\"\"\"\"\"\"\"\"\"\"\n",
    "주어진 입력을 받아 그래프를 구현하고 나가는 화살표와 들어오는 화살표의 개수가 n-1개인지 확인한다.\n",
    "\"\"\"\"\"\"\"\"\"\""
   ]
  },
  {
   "cell_type": "markdown",
   "id": "95b19fd7",
   "metadata": {},
   "source": [
    "# 내 답안"
   ]
  },
  {
   "cell_type": "code",
   "execution_count": 10,
   "id": "5369883c",
   "metadata": {},
   "outputs": [
    {
     "name": "stdout",
     "output_type": "stream",
     "text": [
      "6 6\n",
      "1 5\n",
      "3 4\n",
      "4 2\n",
      "4 6\n",
      "5 2\n",
      "5 4\n",
      "[1000000000, 1000000000, 1000000000, 1000000000, 1000000000, 1000000000, 1000000000]\n",
      "[1000000000, 0, 2, 1000000000, 2, 1, 3]\n",
      "[1000000000, 1000000000, 0, 1000000000, 1000000000, 1000000000, 1000000000]\n",
      "[1000000000, 1000000000, 2, 0, 1, 1000000000, 2]\n",
      "[1000000000, 1000000000, 1, 1000000000, 0, 1000000000, 1]\n",
      "[1000000000, 1000000000, 1, 1000000000, 1, 0, 2]\n",
      "[1000000000, 1000000000, 1000000000, 1000000000, 1000000000, 1000000000, 0]\n",
      "1\n"
     ]
    }
   ],
   "source": [
    "n, m = map(int, input().split())\n",
    "INF = int(1e9)\n",
    "graph = [[INF] * (n + 1) for _ in range(n + 1)]\n",
    "for _ in range(m):\n",
    "    a, b = map(int, input().split())\n",
    "    graph[a][b] = 1\n",
    "    \n",
    "for i in range(1, n + 1):\n",
    "    for j in range(1, n + 1):\n",
    "        if i == j:\n",
    "            graph[i][j] = 0\n",
    "for k in range(1, n + 1):\n",
    "    for i in range(1, n + 1):\n",
    "        for j in range(1, n + 1):\n",
    "            graph[i][j] = min(graph[i][j], graph[i][k] + graph[k][j])\n",
    "for g in graph:\n",
    "    print(g)\n",
    "count = 0\n",
    "for i in range(1, n + 1):\n",
    "    cnt = 0\n",
    "    for j in range(1, n + 1):\n",
    "        if 0 < graph[i][j] < INF or 0 < graph[j][i] < INF:\n",
    "            cnt += 1\n",
    "    if cnt == n - 1:\n",
    "        count += 1   \n",
    "print(count)"
   ]
  }
 ],
 "metadata": {
  "kernelspec": {
   "display_name": "Python 3 (ipykernel)",
   "language": "python",
   "name": "python3"
  },
  "language_info": {
   "codemirror_mode": {
    "name": "ipython",
    "version": 3
   },
   "file_extension": ".py",
   "mimetype": "text/x-python",
   "name": "python",
   "nbconvert_exporter": "python",
   "pygments_lexer": "ipython3",
   "version": "3.7.13"
  }
 },
 "nbformat": 4,
 "nbformat_minor": 5
}
