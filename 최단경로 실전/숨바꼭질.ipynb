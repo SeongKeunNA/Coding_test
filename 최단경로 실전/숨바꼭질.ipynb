{
 "cells": [
  {
   "cell_type": "markdown",
   "id": "850d6720",
   "metadata": {},
   "source": [
    "# 코딩 전 생각"
   ]
  },
  {
   "cell_type": "code",
   "execution_count": null,
   "id": "95e35524",
   "metadata": {},
   "outputs": [],
   "source": [
    "\"\"\"\"\"\"\"\"\"\"\n",
    "다익스트라 알고리즘을 사용해 문제를 해결한다.\n",
    "\"\"\"\"\"\"\"\"\"\""
   ]
  },
  {
   "cell_type": "markdown",
   "id": "e53afeb8",
   "metadata": {},
   "source": [
    "# 내 답안"
   ]
  },
  {
   "cell_type": "code",
   "execution_count": 17,
   "id": "99ccdc6f",
   "metadata": {},
   "outputs": [
    {
     "name": "stdout",
     "output_type": "stream",
     "text": [
      "6 7\n",
      "3 6\n",
      "4 3\n",
      "3 2\n",
      "1 3\n",
      "2 4\n",
      "1 2\n",
      "5 2\n",
      "i: 1\n",
      "i: 2\n",
      "i: 3\n",
      "4 2 3\n"
     ]
    }
   ],
   "source": [
    "import heapq\n",
    "n, m = map(int, input().split())\n",
    "INF = int(1e9)\n",
    "distance = [INF] * (n+1)\n",
    "graph = [[]* (n+1) for _ in range(n+1)]\n",
    "for _ in range(m):\n",
    "    a, b = map(int, input().split())\n",
    "    graph[a].append(b)\n",
    "    graph[b].append(a)\n",
    "q = []\n",
    "heapq.heappush(q, (0,1))\n",
    "distance[1] = 0\n",
    "while q:\n",
    "    dist, now = heapq.heappop(q)\n",
    "    if dist > distance[now]:\n",
    "        continue\n",
    "    for i in graph[now]:\n",
    "        if distance[i] > dist + 1:\n",
    "            distance[i] = dist + 1\n",
    "            heapq.heappush(q, (distance[i], i))\n",
    "nodes = []\n",
    "for i in range(1, len(distance)):\n",
    "    nodes.append((i, distance[i]))  \n",
    "nodes.sort(key = lambda x:(-x[1], x[0]))\n",
    "\n",
    "for i in range(1, len(nodes)):\n",
    "    if nodes[i][1] != nodes[0][1]:\n",
    "        answer_count = i\n",
    "        break\n",
    "answer_number = nodes[0][0]\n",
    "answer_dist = nodes[0][1]\n",
    "print(answer_number, answer_dist, answer_count)"
   ]
  },
  {
   "cell_type": "markdown",
   "id": "5cb2edd1",
   "metadata": {},
   "source": [
    "# 답안 작성 후 생각"
   ]
  },
  {
   "cell_type": "code",
   "execution_count": null,
   "id": "11120beb",
   "metadata": {},
   "outputs": [],
   "source": [
    "\"\"\"\"\"\"\"\"\"\"\n",
    "다른 다익스트라 알고리즘 문제와 비슷하지만, 마지막에 출력 조건이 조금 더 까다로웠다.\n",
    "\n",
    "nodes라는 리스트를 따로 만든 다음 정렬하여, 출력 조건에 필요한 요소들을 얻었다.\n",
    "\"\"\"\"\"\"\"\"\"\""
   ]
  },
  {
   "cell_type": "markdown",
   "id": "88f437e1",
   "metadata": {},
   "source": [
    "# 정답"
   ]
  },
  {
   "cell_type": "code",
   "execution_count": 18,
   "id": "baa6fc32",
   "metadata": {},
   "outputs": [
    {
     "ename": "IndentationError",
     "evalue": "expected an indented block (Temp/ipykernel_4316/1264673587.py, line 35)",
     "output_type": "error",
     "traceback": [
      "\u001b[1;36m  File \u001b[1;32m\"C:\\Users\\NAJONG~1\\AppData\\Local\\Temp/ipykernel_4316/1264673587.py\"\u001b[1;36m, line \u001b[1;32m35\u001b[0m\n\u001b[1;33m    if max_distance < distance[i]:\u001b[0m\n\u001b[1;37m                                  ^\u001b[0m\n\u001b[1;31mIndentationError\u001b[0m\u001b[1;31m:\u001b[0m expected an indented block\n"
     ]
    }
   ],
   "source": [
    "import heapq\n",
    "import sys\n",
    "import sys.stdin.raedline\n",
    "INF = int(1e9)\n",
    "\n",
    "n, m = map(int, input().split())\n",
    "start = 1\n",
    "graph = [[] for i in range(n+1)]\n",
    "distance = [INF] * (n+1)\n",
    "\n",
    "for _ in range(m):\n",
    "    a, b = map(int, input().split())\n",
    "    graph[a].append((b,1))\n",
    "    graph[b].append((a,1))\n",
    "    \n",
    "def dijkstra(start):\n",
    "    q = []\n",
    "    heapq.heappush(q, (0,start))\n",
    "    distance[start] = 0\n",
    "    while q:\n",
    "        dist, now = heapq.heappop(q)\n",
    "    if dist > distance[now]:\n",
    "        continue\n",
    "    for i in graph[now]:\n",
    "        cost = dist + i[1]\n",
    "        if cost < distance[i[0]]:\n",
    "            distance[i[0]] = cost\n",
    "            heapq.heappush(q,(cost, i[0]))\n",
    "dijkstra(start)\n",
    "\n",
    "max_node = 0\n",
    "max_distance = 0\n",
    "result = []\n",
    "for i in range(1, n+1):\n",
    "    if max_distance < distance[i]:\n",
    "        max_node = i\n",
    "        max_distance = distance[i]\n",
    "        result = [max_node]\n",
    "    elif max_distance == distance[i]:\n",
    "        result.append(i)\n",
    "print(max_node, max_distance, len(result))"
   ]
  },
  {
   "cell_type": "markdown",
   "id": "60a3d6d9",
   "metadata": {},
   "source": [
    "# 정답 확인 후 생각"
   ]
  },
  {
   "cell_type": "code",
   "execution_count": null,
   "id": "b69c8abe",
   "metadata": {},
   "outputs": [],
   "source": [
    "\"\"\"\"\"\"\"\"\"\"\n",
    "내 답안과 비슷하지만, 다른 부분은 다익스트라 알고리즘을 함수를 사용해 구현하였다는 점과,\n",
    "\n",
    "마지막에 출력 조건을 위해 for 루프를 한 번만 돌며 max_node, max_distance, len(result)를 구했다는 점이다.\n",
    "\n",
    "for 루프를 두 번 돈 나의 코드에 비해 간결하고 깔끔하다.\n",
    "\n",
    "\"\"\"\"\"\"\"\"\"\""
   ]
  }
 ],
 "metadata": {
  "kernelspec": {
   "display_name": "pytorch",
   "language": "python",
   "name": "pt1.1"
  },
  "language_info": {
   "codemirror_mode": {
    "name": "ipython",
    "version": 3
   },
   "file_extension": ".py",
   "mimetype": "text/x-python",
   "name": "python",
   "nbconvert_exporter": "python",
   "pygments_lexer": "ipython3",
   "version": "3.9.7"
  }
 },
 "nbformat": 4,
 "nbformat_minor": 5
}
