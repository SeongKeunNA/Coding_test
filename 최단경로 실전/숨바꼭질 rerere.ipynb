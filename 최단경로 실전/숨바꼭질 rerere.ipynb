{
 "cells": [
  {
   "cell_type": "markdown",
   "id": "ecae4c3a",
   "metadata": {},
   "source": [
    "# 코딩 전 생각"
   ]
  },
  {
   "cell_type": "code",
   "execution_count": null,
   "id": "acfa6e68",
   "metadata": {},
   "outputs": [],
   "source": [
    "\"\"\"\"\"\"\"\"\"\"\n",
    "다익스트라 알고리즘를 활용해 해결한다.\n",
    "\"\"\"\"\"\"\"\"\"\""
   ]
  },
  {
   "cell_type": "markdown",
   "id": "d64cae2f",
   "metadata": {},
   "source": [
    "# 내 답안"
   ]
  },
  {
   "cell_type": "code",
   "execution_count": 19,
   "id": "57bf5a49",
   "metadata": {},
   "outputs": [
    {
     "name": "stdout",
     "output_type": "stream",
     "text": [
      "6 7\n",
      "3 6\n",
      "4 3\n",
      "3 2\n",
      "1 3\n",
      "1 2\n",
      "2 4\n",
      "5 2\n",
      "4 2 3\n"
     ]
    }
   ],
   "source": [
    "import heapq\n",
    "n, m = map(int, input().split())\n",
    "INF = int(1e9)\n",
    "graph = [[] for _ in range(n + 1)]\n",
    "\n",
    "for _ in range(m):\n",
    "    a, b = map(int, input().split())\n",
    "    graph[a].append(b)\n",
    "    graph[b].append(a)\n",
    "dist = [INF] * (n + 1)\n",
    "dist[1] = 0\n",
    "q = []\n",
    "heapq.heappush(q,(0, 1))\n",
    "while q:\n",
    "    val, now = heapq.heappop(q)\n",
    "    if dist[now] < val:\n",
    "        continue\n",
    "    for i in graph[now]:\n",
    "        if dist[i] > val + 1:\n",
    "            dist[i] = val + 1\n",
    "            heapq.heappush(q, (val + 1, i))\n",
    "            \n",
    "max_count = 1\n",
    "max_dist = -INF\n",
    "max_num = 2\n",
    "\n",
    "for i in range(2, n + 1):\n",
    "    if max_dist < dist[i]:\n",
    "        max_dist = dist[i]\n",
    "        max_count = 1\n",
    "        max_num = i\n",
    "    \n",
    "    elif max_dist == dist[i]:\n",
    "        max_count += 1\n",
    "print(max_num, max_dist, max_count)"
   ]
  },
  {
   "cell_type": "code",
   "execution_count": 17,
   "id": "fac96852",
   "metadata": {},
   "outputs": [
    {
     "name": "stdout",
     "output_type": "stream",
     "text": [
      "[1000000000, 0, 1, 1, 2, 2, 2]\n"
     ]
    }
   ],
   "source": [
    "print(dist)"
   ]
  },
  {
   "cell_type": "code",
   "execution_count": 18,
   "id": "7da58ff1",
   "metadata": {},
   "outputs": [
    {
     "name": "stdout",
     "output_type": "stream",
     "text": [
      "[[], [3, 2], [3, 1, 4, 5], [6, 4, 2, 1], [3, 2], [2], [3]]\n"
     ]
    }
   ],
   "source": [
    "print(graph)"
   ]
  }
 ],
 "metadata": {
  "kernelspec": {
   "display_name": "Python 3 (ipykernel)",
   "language": "python",
   "name": "python3"
  },
  "language_info": {
   "codemirror_mode": {
    "name": "ipython",
    "version": 3
   },
   "file_extension": ".py",
   "mimetype": "text/x-python",
   "name": "python",
   "nbconvert_exporter": "python",
   "pygments_lexer": "ipython3",
   "version": "3.7.13"
  }
 },
 "nbformat": 4,
 "nbformat_minor": 5
}
