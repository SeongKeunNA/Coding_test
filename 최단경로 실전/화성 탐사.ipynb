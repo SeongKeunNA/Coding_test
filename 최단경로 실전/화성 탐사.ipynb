{
 "cells": [
  {
   "cell_type": "markdown",
   "id": "8145c98d",
   "metadata": {},
   "source": [
    "# 코딩 전 생각"
   ]
  },
  {
   "cell_type": "code",
   "execution_count": null,
   "id": "4fff6acb",
   "metadata": {},
   "outputs": [],
   "source": [
    "\"\"\"\"\"\"\"\"\"\"\n",
    "처음 위치에서부터 다익스트라 알고리즘을 통해 도착 위치까지 가는 최소 비용을 파악할 수 있을 것 같다.\n",
    "\"\"\"\"\"\"\"\"\"\""
   ]
  },
  {
   "cell_type": "markdown",
   "id": "e0da09fb",
   "metadata": {},
   "source": [
    "# 내 답안"
   ]
  },
  {
   "cell_type": "code",
   "execution_count": 15,
   "id": "5ddff093",
   "metadata": {},
   "outputs": [
    {
     "ename": "ImportError",
     "evalue": "cannot import name 'deque' from 'itertools' (unknown location)",
     "output_type": "error",
     "traceback": [
      "\u001b[1;31m---------------------------------------------------------------------------\u001b[0m",
      "\u001b[1;31mImportError\u001b[0m                               Traceback (most recent call last)",
      "\u001b[1;32mC:\\Users\\NAJONG~1\\AppData\\Local\\Temp/ipykernel_9288/441539440.py\u001b[0m in \u001b[0;36m<module>\u001b[1;34m\u001b[0m\n\u001b[0;32m      1\u001b[0m \u001b[1;32mimport\u001b[0m \u001b[0mheapq\u001b[0m\u001b[1;33m\u001b[0m\u001b[1;33m\u001b[0m\u001b[0m\n\u001b[1;32m----> 2\u001b[1;33m \u001b[1;32mfrom\u001b[0m \u001b[0mitertools\u001b[0m \u001b[1;32mimport\u001b[0m \u001b[0mdeque\u001b[0m\u001b[1;33m\u001b[0m\u001b[1;33m\u001b[0m\u001b[0m\n\u001b[0m\u001b[0;32m      3\u001b[0m \u001b[0mt\u001b[0m \u001b[1;33m=\u001b[0m \u001b[0mint\u001b[0m\u001b[1;33m(\u001b[0m\u001b[0minput\u001b[0m\u001b[1;33m(\u001b[0m\u001b[1;33m)\u001b[0m\u001b[1;33m)\u001b[0m\u001b[1;33m\u001b[0m\u001b[1;33m\u001b[0m\u001b[0m\n\u001b[0;32m      4\u001b[0m \u001b[1;32mfor\u001b[0m \u001b[0m_\u001b[0m \u001b[1;32min\u001b[0m \u001b[0mrange\u001b[0m\u001b[1;33m(\u001b[0m\u001b[0mt\u001b[0m\u001b[1;33m)\u001b[0m\u001b[1;33m:\u001b[0m\u001b[1;33m\u001b[0m\u001b[1;33m\u001b[0m\u001b[0m\n\u001b[0;32m      5\u001b[0m     \u001b[0mINF\u001b[0m \u001b[1;33m=\u001b[0m \u001b[0mint\u001b[0m\u001b[1;33m(\u001b[0m\u001b[1;36m1e9\u001b[0m\u001b[1;33m)\u001b[0m\u001b[1;33m\u001b[0m\u001b[1;33m\u001b[0m\u001b[0m\n",
      "\u001b[1;31mImportError\u001b[0m: cannot import name 'deque' from 'itertools' (unknown location)"
     ]
    }
   ],
   "source": [
    "import heapq\n",
    "t = int(input())\n",
    "for _ in range(t):\n",
    "    INF = int(1e9)\n",
    "    graph = []\n",
    "    n = int(input())\n",
    "    for i in range(n):\n",
    "        graph.append(list(map(int, input().split())))\n",
    "    cost = [[INF] * n for _ in range(n)]\n",
    "    visited = [[0] * n for  _ in range(n)]\n",
    "    q = []\n",
    "    heapq.heappush(q, (graph[0][0],(0,0)))\n",
    "    while q:\n",
    "        c, now = heapq.heappop(q)\n",
    "        visited[now[0]][now[1]] = 1          \n",
    "        connected = []\n",
    "        dx = [1, -1, 0, 0]\n",
    "        dy = [0, 0, 1, -1]\n",
    "        for i in range(4):\n",
    "            nx = now[0] + dx[i]\n",
    "            ny = now[1] + dy[i]\n",
    "            if 0 <= nx <= n-1 and 0 <= ny <= n-1:\n",
    "                if visited[nx][ny] == 0:\n",
    "                    connected.append((nx,ny))\n",
    "        for x,y in connected:\n",
    "            if cost[x][y] > c + graph[x][y]:\n",
    "                cost[x][y] = c + graph[x][y]\n",
    "            heapq.heappush(q, (cost[x][y], (x,y)))\n",
    "    print(cost[n-1][n-1])"
   ]
  },
  {
   "cell_type": "markdown",
   "id": "ac6aea9a",
   "metadata": {},
   "source": [
    "# 내 답안-deque 사용"
   ]
  },
  {
   "cell_type": "code",
   "execution_count": 27,
   "id": "d21b3874",
   "metadata": {},
   "outputs": [
    {
     "name": "stdout",
     "output_type": "stream",
     "text": [
      "1\n",
      "3\n",
      "5 5 4\n",
      "3 9 1\n",
      "3 2 7\n",
      "5 [0, 0]\n",
      "0 0 [[0, 0, 0], [0, 0, 0], [0, 0, 0]]\n",
      "10 [0, 1]\n",
      "0 1 [[1, 0, 0], [0, 0, 0], [0, 0, 0]]\n",
      "14 [0, 2]\n",
      "0 2 [[1, 1, 0], [0, 0, 0], [0, 0, 0]]\n",
      "15 [1, 2]\n",
      "1 2 [[1, 1, 1], [0, 0, 0], [0, 0, 0]]\n",
      "19 [1, 1]\n",
      "1 1 [[1, 1, 1], [0, 0, 1], [0, 0, 0]]\n",
      "8 [1, 0]\n",
      "1 0 [[1, 1, 1], [0, 1, 1], [0, 0, 0]]\n",
      "11 [2, 0]\n",
      "2 0 [[1, 1, 1], [1, 1, 1], [0, 0, 0]]\n",
      "13 [2, 1]\n",
      "2 1 [[1, 1, 1], [1, 1, 1], [1, 0, 0]]\n",
      "20 [2, 2]\n",
      "2 2 [[1, 1, 1], [1, 1, 1], [1, 1, 0]]\n",
      "21 [2, 1]\n",
      "2 1 [[1, 1, 1], [1, 1, 1], [1, 1, 1]]\n",
      "22 [2, 2]\n",
      "2 2 [[1, 1, 1], [1, 1, 1], [1, 1, 1]]\n",
      "19 [1, 1]\n",
      "1 1 [[1, 1, 1], [1, 1, 1], [1, 1, 1]]\n",
      "8 [1, 0]\n",
      "1 0 [[1, 1, 1], [1, 1, 1], [1, 1, 1]]\n",
      "20\n"
     ]
    }
   ],
   "source": [
    "import heapq\n",
    "from collections import deque\n",
    "t = int(input())\n",
    "for _ in range(t):\n",
    "    INF = int(1e9)\n",
    "    graph = []\n",
    "    n = int(input())\n",
    "    for i in range(n):\n",
    "        graph.append(list(map(int, input().split())))\n",
    "    cost = [[INF] * n for _ in range(n)]\n",
    "    visited = [[0] * n for  _ in range(n)]\n",
    "    q = deque([(graph[0][0],[0,0])])\n",
    "    while q:\n",
    "        c, now = q.pop()\n",
    "        print(c, now)\n",
    "        print(now[0],now[1],visited)\n",
    "        visited[now[0]][now[1]] = 1          \n",
    "        connected = []\n",
    "        dx = [1, -1, 0, 0]\n",
    "        dy = [0, 0, 1, -1]\n",
    "        for i in range(4):\n",
    "            nx = now[0] + dx[i]\n",
    "            ny = now[1] + dy[i]\n",
    "            if 0 <= nx <= n-1 and 0 <= ny <= n-1:\n",
    "                if visited[nx][ny] == 0:\n",
    "                    connected.append((nx,ny))\n",
    "        for x,y in connected:\n",
    "            if cost[x][y] > c + graph[x][y]:\n",
    "                cost[x][y] = c + graph[x][y]\n",
    "            q.append([cost[x][y], [x,y]])\n",
    "    print(cost[n-1][n-1])"
   ]
  },
  {
   "cell_type": "markdown",
   "id": "caa765f3",
   "metadata": {},
   "source": [
    "# 답안 작성 후 생각"
   ]
  },
  {
   "cell_type": "code",
   "execution_count": null,
   "id": "9d36257b",
   "metadata": {},
   "outputs": [],
   "source": [
    "\"\"\"\"\"\"\"\"\"\"\n",
    "플로이드 워셜이나 다익스트라라기보다는 bfs 느낌으로 문제를 풀었다.\n",
    "\n",
    "굳이 따지자면 다익스트라 알고리즘을 행렬에 대해서 구현했다.\n",
    "\"\"\"\"\"\"\"\"\"\""
   ]
  },
  {
   "cell_type": "markdown",
   "id": "d3edeb77",
   "metadata": {},
   "source": [
    "# 정답"
   ]
  },
  {
   "cell_type": "code",
   "execution_count": null,
   "id": "1086396f",
   "metadata": {},
   "outputs": [],
   "source": [
    "import heapq\n",
    "import sys\n",
    "imput = sys.stdin.readline\n",
    "INF = int(1e9)\n",
    "\n",
    "dx = [-1, 0, 1, 0]\n",
    "dy = [0, 1, 0 ,-1]\n",
    "\n",
    "for tc in range(int(input())):\n",
    "    n = int(input())\n",
    "graph = []\n",
    "for i in range(n):\n",
    "    graph.append(list(map(int,input().split())))\n",
    "    \n",
    "distance = [[INF] * n for _ in range(n)]\n",
    "\n",
    "x,y = 0,0\n",
    "q = [(graph[x][y], x, y)]\n",
    "distance[x][y] = graph[x][y]\n",
    "\n",
    "while q:\n",
    "    dist,x,y = heapq.heappop(q)\n",
    "    if distance[x][y] < dist:\n",
    "        continue\n",
    "    for i in range(4):\n",
    "        nx = x + dx[i]\n",
    "        ny = y + dy[i]\n",
    "        if nx < 0 or nx >= n or ny < 0 or ny >= n:\n",
    "            continue\n",
    "        cost = dist + graph[nx][ny]\n",
    "        if cost < distance[nx][ny]:\n",
    "            distance[nx][ny] = cost\n",
    "            heapq.heapush(q, (cost, nx, ny))\n",
    "print(distance[n - 1][n - 1])"
   ]
  },
  {
   "cell_type": "markdown",
   "id": "4678d025",
   "metadata": {},
   "source": [
    "# 정답 확인 후 생각"
   ]
  },
  {
   "cell_type": "code",
   "execution_count": null,
   "id": "0c0e0023",
   "metadata": {},
   "outputs": [],
   "source": [
    "\"\"\"\"\"\"\"\"\"\"\n",
    "n X n 행렬에 대해 다익스트라 알고리즘을 사용했다는 점은 내 풀이와 같지만, 답지에서는\n",
    "\n",
    "if distance[x][y] < dist:\n",
    "        continue\n",
    "만을 통해 이미 처리한 노드를 continue 처리했다.\n",
    "\n",
    "즉, nx와 ny의 모든 위치를 우선 모두 q에 넣고, 이후에 처리했는지 여부를 파악한다는 것이다.\n",
    "\n",
    "\"\"\"\"\"\"\"\"\"\""
   ]
  }
 ],
 "metadata": {
  "kernelspec": {
   "display_name": "pytorch",
   "language": "python",
   "name": "pt1.1"
  },
  "language_info": {
   "codemirror_mode": {
    "name": "ipython",
    "version": 3
   },
   "file_extension": ".py",
   "mimetype": "text/x-python",
   "name": "python",
   "nbconvert_exporter": "python",
   "pygments_lexer": "ipython3",
   "version": "3.9.7"
  }
 },
 "nbformat": 4,
 "nbformat_minor": 5
}
