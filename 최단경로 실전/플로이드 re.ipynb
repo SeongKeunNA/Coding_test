{
 "cells": [
  {
   "cell_type": "markdown",
   "id": "251a3675",
   "metadata": {},
   "source": [
    "# 코딩 전 생각"
   ]
  },
  {
   "cell_type": "code",
   "execution_count": null,
   "id": "ee639fe2",
   "metadata": {},
   "outputs": [],
   "source": [
    "\"\"\"\"\"\"\"\"\"\"\n",
    "플로이드 워셜 알고리즘을 사용한다.\n",
    "\"\"\"\"\"\"\"\"\"\""
   ]
  },
  {
   "cell_type": "markdown",
   "id": "8b8b7eae",
   "metadata": {},
   "source": [
    "# 내 답안"
   ]
  },
  {
   "cell_type": "code",
   "execution_count": 7,
   "id": "33aed486",
   "metadata": {},
   "outputs": [
    {
     "data": {
      "text/plain": [
       "[[0, 0, 0, 0, 0, 0],\n",
       " 1,\n",
       " [0, 0, 0, 0, 0, 0],\n",
       " [0, 0, 0, 0, 0, 0],\n",
       " [0, 0, 0, 0, 0, 0],\n",
       " [0, 0, 0, 0, 0, 0]]"
      ]
     },
     "execution_count": 7,
     "metadata": {},
     "output_type": "execute_result"
    }
   ],
   "source": [
    "graph = [[0] * (n + 1) for _ in range(n + 1)]\n",
    "graph[1] = 1\n",
    "graph"
   ]
  },
  {
   "cell_type": "code",
   "execution_count": 9,
   "id": "dc6af93e",
   "metadata": {
    "scrolled": true
   },
   "outputs": [
    {
     "name": "stdout",
     "output_type": "stream",
     "text": [
      "5\n",
      "14\n",
      "1 2 2\n",
      "1 3 3\n",
      "1 4 1\n",
      "1 5 10\n",
      "2 4 2\n",
      "3 4 1\n",
      "3 5 1\n",
      "4 5 3\n",
      "3 5 10\n",
      "3 1 8\n",
      "1 4 2\n",
      "5 1 7\n",
      "3 4 2\n",
      "5 2 4\n",
      "0 2 3 1 4 \n",
      "12 0 15 2 5 \n",
      "8 5 0 1 1 \n",
      "10 7 13 0 3 \n",
      "7 4 10 6 0 \n"
     ]
    }
   ],
   "source": [
    "n = int(input())\n",
    "m = int(input())\n",
    "INF = int(1e9)\n",
    "graph = [[INF] * (n + 1) for _ in range(n + 1)]\n",
    "for _ in range(m):\n",
    "    a, b, c = map(int, input().split())\n",
    "    graph[a][b] = min(graph[a][b], c)\n",
    "for a in range(1, n+1):\n",
    "    for b in range(1, n + 1):\n",
    "        if a == b:\n",
    "            graph[a][b] = 0\n",
    "for k in range(1, n + 1):\n",
    "    for a in range(1, n + 1):\n",
    "        for b in range(1, n + 1):\n",
    "            graph[a][b] = min(graph[a][b], graph[a][k] + graph[k][b])\n",
    "            \n",
    "for a in range(1, n + 1):\n",
    "    for b in range(1, n + 1):\n",
    "        if graph[a][b] >= INF:\n",
    "            print(0, end = ' ')\n",
    "        else:\n",
    "            print(graph[a][b], end = ' ')\n",
    "    print()"
   ]
  },
  {
   "cell_type": "markdown",
   "id": "d7ef5751",
   "metadata": {},
   "source": [
    "# 답안 작성 후 생각"
   ]
  },
  {
   "cell_type": "code",
   "execution_count": null,
   "id": "6e9b360a",
   "metadata": {},
   "outputs": [],
   "source": [
    "\"\"\"\"\"\"\"\"\"\"\n",
    "시작 도시와 도착 도시를 연결하는 노선이 하나가 아닐 수 있다는 것을 간과하여 실수를 했다.\n",
    "\n",
    "목표가 최소 비용을 찾는 것이므로 모든 노선 중 최소 비용으로 가는 노선만 고려하도록 수정했다.\n",
    "\"\"\"\"\"\"\"\"\"\""
   ]
  },
  {
   "cell_type": "markdown",
   "id": "239eb481",
   "metadata": {},
   "source": [
    "# 정답"
   ]
  },
  {
   "cell_type": "code",
   "execution_count": null,
   "id": "d987140b",
   "metadata": {},
   "outputs": [],
   "source": [
    "INF = int(1e9)\n",
    "n = int(input())\n",
    "m = int(input())\n",
    "\n",
    "graph = [[INF] * (n + 1) for _ in range(n + 1)]\n",
    "\n",
    "for a in range(1, n+1):\n",
    "    for b in range(1, n + 1):\n",
    "        if a == b:\n",
    "            graph[a][b] = 0\n",
    "for _ in range(m):\n",
    "    a, b, c = map(int, input().split())\n",
    "    if c < graph[a][b]:\n",
    "        graph[a][b] = c\n",
    "    \n",
    "for k in range(1, n + 1):\n",
    "    for a in range(1, n + 1):\n",
    "        for b in range(1, n + 1):\n",
    "            graph[a][b] = min(graph[a][b], graph[a][k] + graph[k][b])\n",
    "            \n",
    "for a in range(1, n + 1):\n",
    "    for b in range(1, n + 1):\n",
    "        if graph[a][b] >= INF:\n",
    "            print(0, end = ' ')\n",
    "        else:\n",
    "            print(graph[a][b], end = ' ')\n",
    "    print()"
   ]
  },
  {
   "cell_type": "markdown",
   "id": "ecbec0bf",
   "metadata": {},
   "source": [
    "# 정답 확인 후 생각"
   ]
  },
  {
   "cell_type": "code",
   "execution_count": null,
   "id": "81e5b0c9",
   "metadata": {},
   "outputs": [],
   "source": [
    "\"\"\"\"\"\"\"\"\"\"\n",
    "이상 무\n",
    "\"\"\"\"\"\"\"\"\"\""
   ]
  }
 ],
 "metadata": {
  "kernelspec": {
   "display_name": "Python 3 (ipykernel)",
   "language": "python",
   "name": "python3"
  },
  "language_info": {
   "codemirror_mode": {
    "name": "ipython",
    "version": 3
   },
   "file_extension": ".py",
   "mimetype": "text/x-python",
   "name": "python",
   "nbconvert_exporter": "python",
   "pygments_lexer": "ipython3",
   "version": "3.7.13"
  }
 },
 "nbformat": 4,
 "nbformat_minor": 5
}
