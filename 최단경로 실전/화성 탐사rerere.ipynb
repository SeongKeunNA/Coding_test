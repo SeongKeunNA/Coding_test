{
 "cells": [
  {
   "cell_type": "markdown",
   "id": "e1851767",
   "metadata": {},
   "source": [
    "# 코딩 전 생각"
   ]
  },
  {
   "cell_type": "code",
   "execution_count": null,
   "id": "7b0c767d",
   "metadata": {},
   "outputs": [],
   "source": [
    "\"\"\"\"\"\"\"\"\"\"\"\n",
    "탐사 공간 전체 크기는 최대 125*125로 플로이드 워셜 알고리즘은 효율적이지 않다. 다익스트라 알고리즘을 활용한다.\n",
    "\n",
    "우선 출발 위치는 0,0이고, 모든 장소까지의 최단 거리를 구해야한다.\n",
    "\n",
    "1. 각각의 칸을 지나는 데 필요한 에너지 소모량을 담는 graph 이중 리스트를 선언하고 입력데이터를 이용해 값을 초기화한다.\n",
    "\n",
    "2. 출발지점에서 각각의 칸까지의 최단거리를 담는 distance 이중 리스트를 선언하고 값을 모두 INF(int1e9)으로 초기화한다.\n",
    "\n",
    "3. heap으로 우선순위큐 q를 만들어 (graph[0][0], 0, 0)을 담는다.\n",
    "\n",
    "4. q가 빌 때까지 반복하여 노드를 추출하고(dist, x, y), distance[x][y]가 dist보다 작다면 이미 처리된 것이므로 pass한다.\n",
    "만약 그렇지 않다면 추출한 노드와 인접한 노드들(nx, ny) 중 dist + graph[nx][ny]가 distance[nx][ny]보다 작을 경우\n",
    "q에 (dist + graph[nx][ny], nx, ny)을 삽입하고 distance[nx][ny]의 값을 dist+ graph[nx][ny]로 한다.\n",
    "\n",
    "5. distance[n-1][n-1]의 값을 출력한다.\n",
    "\"\"\"\"\"\"\"\"\"\"\""
   ]
  },
  {
   "cell_type": "markdown",
   "id": "6cdf4ee5",
   "metadata": {},
   "source": [
    "# 내 답안"
   ]
  },
  {
   "cell_type": "code",
   "execution_count": 5,
   "id": "4cfc4e8d",
   "metadata": {},
   "outputs": [
    {
     "name": "stdout",
     "output_type": "stream",
     "text": [
      "1\n",
      "3\n",
      "5 5 4\n",
      "3 9 1\n",
      "3 2 7\n",
      "20\n"
     ]
    }
   ],
   "source": [
    "import heapq\n",
    "INF = int(1e9)\n",
    "dx = [-1, 1, 0, 0]\n",
    "dy = [0, 0, 1, -1]\n",
    "for tc in range(int(input())):\n",
    "    n = int(input())\n",
    "    graph = []\n",
    "    for _ in range(n):\n",
    "        graph.append(list(map(int, input().split())))\n",
    "    distance = [[INF] * n for _ in range(n)]\n",
    "    q = []\n",
    "    heapq.heappush(q, (graph[0][0], 0, 0))\n",
    "    while q:\n",
    "        dist, x, y = heapq.heappop(q)\n",
    "        if distance[x][y] < dist:\n",
    "            continue\n",
    "        for i in range(4):\n",
    "            nx = x + dx[i]\n",
    "            ny = y + dy[i]\n",
    "            if 0 <= nx < n and 0 <= ny < n:\n",
    "                cost = dist + graph[nx][ny]\n",
    "                if cost < distance[nx][ny]:\n",
    "                    distance[nx][ny] = cost\n",
    "                    heapq.heappush(q, (cost, nx, ny))\n",
    "    print(distance[n-1][n-1])"
   ]
  },
  {
   "cell_type": "markdown",
   "id": "cfb898fb",
   "metadata": {},
   "source": [
    "# 정답 확인 후 생각"
   ]
  },
  {
   "cell_type": "code",
   "execution_count": null,
   "id": "39ef8326",
   "metadata": {},
   "outputs": [],
   "source": [
    "\"\"\"\"\"\"\"\"\"\"\n",
    "맨 처음 시작 위치(x, y)의 최단 거리를 graph[x][y]값으로 초기화하는 것을 실수로 구현하지 못했다.\n",
    "\"\"\"\"\"\"\"\"\"\""
   ]
  }
 ],
 "metadata": {
  "kernelspec": {
   "display_name": "Python 3 (ipykernel)",
   "language": "python",
   "name": "python3"
  },
  "language_info": {
   "codemirror_mode": {
    "name": "ipython",
    "version": 3
   },
   "file_extension": ".py",
   "mimetype": "text/x-python",
   "name": "python",
   "nbconvert_exporter": "python",
   "pygments_lexer": "ipython3",
   "version": "3.7.13"
  }
 },
 "nbformat": 4,
 "nbformat_minor": 5
}
