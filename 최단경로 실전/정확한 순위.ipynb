{
 "cells": [
  {
   "cell_type": "markdown",
   "id": "e5e5f71a",
   "metadata": {},
   "source": [
    "# 코딩 전 생각"
   ]
  },
  {
   "cell_type": "code",
   "execution_count": null,
   "id": "5e41e502",
   "metadata": {},
   "outputs": [],
   "source": [
    "\"\"\"\"\"\"\"\"\"\"\n",
    "플로이드 워셜 알고리즘으로 연결을 표현하는 행렬을 만들고,\n",
    "\n",
    "1부터 n까지 루프를 돌면서 해당하는 행과 열의 숫자 중 INF가 아닌 값의 합이 n-1이라면 (자기 자신 제외)\n",
    "\n",
    "이에 해당하는 학생은 정확한 순위를 알 수 있는 학생이다.\n",
    "\n",
    "\"\"\"\"\"\"\"\"\"\""
   ]
  },
  {
   "cell_type": "markdown",
   "id": "18763573",
   "metadata": {},
   "source": [
    "# 내 답안"
   ]
  },
  {
   "cell_type": "code",
   "execution_count": 3,
   "id": "9a914528",
   "metadata": {},
   "outputs": [
    {
     "name": "stdout",
     "output_type": "stream",
     "text": [
      "6 6\n",
      "1 5\n",
      "3 4\n",
      "4 2\n",
      "4 6\n",
      "5 2\n",
      "5 4\n",
      "1\n"
     ]
    }
   ],
   "source": [
    "n, m = map(int, input().split())\n",
    "INF = int(1e9)\n",
    "graph = [[INF] * (n+1) for _ in range(n+1)]\n",
    "for _ in range(m):\n",
    "    a, b = map(int, input().split())\n",
    "    graph[a][b] = 1\n",
    "    \n",
    "for k in range(1, n+1):\n",
    "    for a in range(1, n+1):\n",
    "        for b in range(1, n+1):\n",
    "            graph[a][b] = min(graph[a][b], graph[a][k] + graph[k][b])\n",
    "            \n",
    "row_count = [0] * (n+1)\n",
    "column_count = [0] * (n+1)\n",
    "\n",
    "for a in range(1, n+1):\n",
    "    for b in range(1, n+1):\n",
    "        if graph[a][b] != INF:\n",
    "            row_count[a] += 1\n",
    "            \n",
    "for b in range(1, n+1):\n",
    "    for a in range(1, n+1):\n",
    "        if graph[a][b] != INF:\n",
    "            column_count[b] += 1\n",
    "            \n",
    "answer = 0\n",
    "for i in range(1, n+1):\n",
    "    if row_count[i] + column_count[i] == n-1:\n",
    "        answer += 1\n",
    "print(answer)  "
   ]
  },
  {
   "cell_type": "markdown",
   "id": "651abee5",
   "metadata": {},
   "source": [
    "# 답안 작성 후 생각"
   ]
  },
  {
   "cell_type": "code",
   "execution_count": null,
   "id": "45477542",
   "metadata": {},
   "outputs": [],
   "source": [
    "\"\"\"\"\"\"\"\"\"\"\n",
    "플로이드 워셜 알고리즘 구현 후, row_count와 column 리스트를 만들어 정확한 순위를 알 수 있는 학생들의 수를 구했다.\n",
    "\"\"\"\"\"\"\"\"\"\""
   ]
  },
  {
   "cell_type": "markdown",
   "id": "c3621a9b",
   "metadata": {},
   "source": [
    "# 정답"
   ]
  },
  {
   "cell_type": "code",
   "execution_count": null,
   "id": "acce72e6",
   "metadata": {},
   "outputs": [],
   "source": [
    "INF = int(1e9)\n",
    "n, m = map(int, input().split())\n",
    "graph = [[INF] * (n+1) for _ in range(n+1)]\n",
    "\n",
    "for a in range(1, n+1):\n",
    "    for b in range(1, n+1):\n",
    "        if a == b:\n",
    "            graph[a][b] = 0\n",
    "            \n",
    "for _ in range(m):\n",
    "    a, b = map(int, input().split())\n",
    "    graph[a][b] = 1\n",
    "    \n",
    "for k in range(1, n+1):\n",
    "    for a in range(1, n+1):\n",
    "        for b in range(1, n+1):\n",
    "            graph[a][b] = min(graph[a][b], graph[a][k] + graph[k][b])\n",
    "            \n",
    "result = 0\n",
    "\n",
    "for i in range(1, n+1):\n",
    "    count = 0\n",
    "    for j in range(1, n+1):\n",
    "        if graph[i][j] != INF or graph[j][i] != INF:\n",
    "            count += 1\n",
    "    if count == n:\n",
    "        result += 1\n",
    "print(result)"
   ]
  },
  {
   "cell_type": "markdown",
   "id": "3567325f",
   "metadata": {},
   "source": [
    "# 정답 확인 후 생각"
   ]
  },
  {
   "cell_type": "code",
   "execution_count": null,
   "id": "b0f9a871",
   "metadata": {},
   "outputs": [],
   "source": [
    "\"\"\"\"\"\"\"\"\"\"\n",
    "내 답안과 다른 점은 자기 자신과의 거리를 0으로 초기화했다는 점과,\n",
    "\n",
    "비교가 가능한 학생을 파악하기 위해 if graph[i][j] != INF or graph[j][i] != INF:\n",
    "\n",
    "라는 표현을 사용했다는 점이다. 이것이 보다 가독성이 높고 효율독이며 깔끔한 코드인 것 같다.\n",
    "\"\"\"\"\"\"\"\"\"\""
   ]
  }
 ],
 "metadata": {
  "kernelspec": {
   "display_name": "pytorch",
   "language": "python",
   "name": "pt1.1"
  },
  "language_info": {
   "codemirror_mode": {
    "name": "ipython",
    "version": 3
   },
   "file_extension": ".py",
   "mimetype": "text/x-python",
   "name": "python",
   "nbconvert_exporter": "python",
   "pygments_lexer": "ipython3",
   "version": "3.9.7"
  }
 },
 "nbformat": 4,
 "nbformat_minor": 5
}
