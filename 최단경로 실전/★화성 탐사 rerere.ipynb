{
 "cells": [
  {
   "cell_type": "markdown",
   "id": "0dbf367d",
   "metadata": {},
   "source": [
    "# 코딩 전 생각"
   ]
  },
  {
   "cell_type": "code",
   "execution_count": null,
   "id": "5ac4b99d",
   "metadata": {},
   "outputs": [],
   "source": [
    "\"\"\"\"\"\"\"\"\"\"\n",
    "다익스트라 알고리즘을 활용해 구현\n",
    "\n",
    "1. dist 이중 리스트 구현\n",
    "\n",
    "2. (0, 0)을 heapq에 넣음\n",
    "\n",
    "3. q가 빌 때까지 반복하여, q에서 x, y, d를 꺼내고 상하좌우에 대해서 만약 dist[nx][ny] < d라면 continue\n",
    "아니라면 dist[nx][ny] = d + graph[nx][ny]이고, nx, ny, dist[nx][ny]를 q에 넣는다.\n",
    "\"\"\"\"\"\"\"\"\"\""
   ]
  },
  {
   "cell_type": "markdown",
   "id": "b6e76744",
   "metadata": {},
   "source": [
    "# 내 답안"
   ]
  },
  {
   "cell_type": "code",
   "execution_count": 10,
   "id": "33e72c36",
   "metadata": {},
   "outputs": [
    {
     "name": "stdout",
     "output_type": "stream",
     "text": [
      "3\n",
      "3\n",
      "5 5 4\n",
      "3 9 1\n",
      "3 2 7\n",
      "[[5, 10, 14], [8, 17, 15], [11, 13, 20]]\n",
      "5\n",
      "3 7 2 0 1\n",
      "2 8 0 9 1\n",
      "1 2 1 8 1\n",
      "9 8 9 2 0\n",
      "3 6 5 1 5\n",
      "[[3, 10, 11, 11, 12], [5, 13, 9, 18, 13], [6, 8, 9, 17, 14], [15, 16, 18, 16, 14], [18, 22, 22, 17, 19]]\n",
      "7\n",
      "9 0 5 1 1 5 3\n",
      "4 1 2 1 6 5 3\n",
      "0 7 6 1 6 8 5\n",
      "1 1 7 8 3 2 3\n",
      "9 4 0 7 6 4 1\n",
      "5 8 3 2 4 8 3\n",
      "7 4 8 4 8 3 4\n",
      "[[9, 9, 14, 14, 15, 20, 23], [13, 10, 12, 13, 19, 24, 26], [13, 17, 18, 14, 20, 28, 31], [14, 15, 22, 22, 23, 25, 28], [23, 19, 19, 26, 29, 29, 29], [28, 27, 22, 24, 28, 36, 32], [35, 31, 30, 28, 36, 39, 36]]\n"
     ]
    }
   ],
   "source": [
    "import heapq\n",
    "INF = int(1e9)\n",
    "dx = [1, -1, 0, 0]\n",
    "dy = [0, 0, 1, -1]\n",
    "for tc in range(int(input())):\n",
    "    n = int(input())\n",
    "    graph = []\n",
    "    for _ in range(n):\n",
    "        graph.append(list(map(int, input().split())))\n",
    "    dist = [[INF] * n  for _ in range(n)]\n",
    "    dist[0][0] = graph[0][0]\n",
    "    q = []\n",
    "    heapq.heappush(q, (graph[0][0], 0, 0))\n",
    "    while q:\n",
    "        d, x, y = heapq.heappop(q)\n",
    "        for i in range(4):\n",
    "            nx = x + dx[i]\n",
    "            ny = y + dy[i]\n",
    "            if 0 <= nx < n and 0 <= ny < n:\n",
    "                if dist[nx][ny] < d:\n",
    "                    continue\n",
    "                if dist[nx][ny] > d + graph[nx][ny]:\n",
    "                    dist[nx][ny] = d + graph[nx][ny]\n",
    "                    heapq.heappush(q,(dist[nx][ny], nx, ny))\n",
    "    print(dist[n-1][n-1])        "
   ]
  },
  {
   "cell_type": "markdown",
   "id": "ed462f70",
   "metadata": {},
   "source": [
    "# 정답 확인 후 생각"
   ]
  },
  {
   "cell_type": "code",
   "execution_count": null,
   "id": "9445c32d",
   "metadata": {},
   "outputs": [],
   "source": [
    "\"\"\"\"\"\"\"\"\"\"\n",
    "q에서 뽑자마자 distance[x][y] < dist인지 확인하여 True라면 continue한다.\n",
    "\"\"\"\"\"\"\"\"\"\""
   ]
  }
 ],
 "metadata": {
  "kernelspec": {
   "display_name": "Python 3 (ipykernel)",
   "language": "python",
   "name": "python3"
  },
  "language_info": {
   "codemirror_mode": {
    "name": "ipython",
    "version": 3
   },
   "file_extension": ".py",
   "mimetype": "text/x-python",
   "name": "python",
   "nbconvert_exporter": "python",
   "pygments_lexer": "ipython3",
   "version": "3.7.13"
  }
 },
 "nbformat": 4,
 "nbformat_minor": 5
}
